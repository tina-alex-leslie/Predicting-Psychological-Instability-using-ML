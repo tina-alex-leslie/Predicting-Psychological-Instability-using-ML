{
 "cells": [
  {
   "cell_type": "markdown",
   "metadata": {},
   "source": [
    "> This notebook is for some simple cleaning that was done to the full data from the main project. The cleaning was done for greater readability for users in plots that will be generated in the dashboard app. "
   ]
  },
  {
   "cell_type": "code",
   "execution_count": 8,
   "metadata": {
    "ExecuteTime": {
     "end_time": "2021-02-16T05:41:29.565721Z",
     "start_time": "2021-02-16T05:41:29.562720Z"
    }
   },
   "outputs": [],
   "source": [
    "# Import packages\n",
    "import pandas as pd \n",
    "import numpy as np "
   ]
  },
  {
   "cell_type": "code",
   "execution_count": 9,
   "metadata": {
    "ExecuteTime": {
     "end_time": "2021-02-16T05:41:31.372583Z",
     "start_time": "2021-02-16T05:41:30.243358Z"
    }
   },
   "outputs": [],
   "source": [
    "# Load in full data from the project\n",
    "df = pd.read_csv('FullData.csv', index_col='SEQN')"
   ]
  },
  {
   "cell_type": "code",
   "execution_count": 10,
   "metadata": {
    "ExecuteTime": {
     "end_time": "2021-02-16T05:41:31.410507Z",
     "start_time": "2021-02-16T05:41:31.374560Z"
    }
   },
   "outputs": [
    {
     "data": {
      "text/html": [
       "<div>\n",
       "<style scoped>\n",
       "    .dataframe tbody tr th:only-of-type {\n",
       "        vertical-align: middle;\n",
       "    }\n",
       "\n",
       "    .dataframe tbody tr th {\n",
       "        vertical-align: top;\n",
       "    }\n",
       "\n",
       "    .dataframe thead th {\n",
       "        text-align: right;\n",
       "    }\n",
       "</style>\n",
       "<table border=\"1\" class=\"dataframe\">\n",
       "  <thead>\n",
       "    <tr style=\"text-align: right;\">\n",
       "      <th></th>\n",
       "      <th>depression</th>\n",
       "      <th>gender</th>\n",
       "      <th>age</th>\n",
       "      <th>race</th>\n",
       "      <th>citizenship</th>\n",
       "      <th>education_level</th>\n",
       "      <th>marital_status</th>\n",
       "      <th>household_size</th>\n",
       "      <th>pregnant</th>\n",
       "      <th>birth_place</th>\n",
       "      <th>...</th>\n",
       "      <th>Rx_INSULIN REGULAR</th>\n",
       "      <th>Rx_days_INSULIN REGULAR</th>\n",
       "      <th>Rx_MEMANTINE</th>\n",
       "      <th>Rx_days_MEMANTINE</th>\n",
       "      <th>Rx_DIPHENHYDRAMINE</th>\n",
       "      <th>Rx_days_DIPHENHYDRAMINE</th>\n",
       "      <th>Rx_MINOCYCLINE</th>\n",
       "      <th>Rx_days_MINOCYCLINE</th>\n",
       "      <th>Rx_METHOCARBAMOL</th>\n",
       "      <th>Rx_days_METHOCARBAMOL</th>\n",
       "    </tr>\n",
       "    <tr>\n",
       "      <th>SEQN</th>\n",
       "      <th></th>\n",
       "      <th></th>\n",
       "      <th></th>\n",
       "      <th></th>\n",
       "      <th></th>\n",
       "      <th></th>\n",
       "      <th></th>\n",
       "      <th></th>\n",
       "      <th></th>\n",
       "      <th></th>\n",
       "      <th></th>\n",
       "      <th></th>\n",
       "      <th></th>\n",
       "      <th></th>\n",
       "      <th></th>\n",
       "      <th></th>\n",
       "      <th></th>\n",
       "      <th></th>\n",
       "      <th></th>\n",
       "      <th></th>\n",
       "      <th></th>\n",
       "    </tr>\n",
       "  </thead>\n",
       "  <tbody>\n",
       "    <tr>\n",
       "      <th>31131</th>\n",
       "      <td>Not Depressed</td>\n",
       "      <td>1</td>\n",
       "      <td>44</td>\n",
       "      <td>Black</td>\n",
       "      <td>Citizen</td>\n",
       "      <td>4</td>\n",
       "      <td>Married</td>\n",
       "      <td>4</td>\n",
       "      <td>No</td>\n",
       "      <td>USA</td>\n",
       "      <td>...</td>\n",
       "      <td>0</td>\n",
       "      <td>0.0</td>\n",
       "      <td>0</td>\n",
       "      <td>0.0</td>\n",
       "      <td>0</td>\n",
       "      <td>0.0</td>\n",
       "      <td>0</td>\n",
       "      <td>0.0</td>\n",
       "      <td>0</td>\n",
       "      <td>0.0</td>\n",
       "    </tr>\n",
       "    <tr>\n",
       "      <th>31132</th>\n",
       "      <td>Not Depressed</td>\n",
       "      <td>0</td>\n",
       "      <td>70</td>\n",
       "      <td>White</td>\n",
       "      <td>Citizen</td>\n",
       "      <td>5</td>\n",
       "      <td>Married</td>\n",
       "      <td>2</td>\n",
       "      <td>Missing</td>\n",
       "      <td>USA</td>\n",
       "      <td>...</td>\n",
       "      <td>0</td>\n",
       "      <td>0.0</td>\n",
       "      <td>0</td>\n",
       "      <td>0.0</td>\n",
       "      <td>0</td>\n",
       "      <td>0.0</td>\n",
       "      <td>0</td>\n",
       "      <td>0.0</td>\n",
       "      <td>0</td>\n",
       "      <td>0.0</td>\n",
       "    </tr>\n",
       "    <tr>\n",
       "      <th>31134</th>\n",
       "      <td>Not Depressed</td>\n",
       "      <td>0</td>\n",
       "      <td>73</td>\n",
       "      <td>White</td>\n",
       "      <td>Citizen</td>\n",
       "      <td>3</td>\n",
       "      <td>Married</td>\n",
       "      <td>2</td>\n",
       "      <td>Missing</td>\n",
       "      <td>USA</td>\n",
       "      <td>...</td>\n",
       "      <td>0</td>\n",
       "      <td>0.0</td>\n",
       "      <td>0</td>\n",
       "      <td>0.0</td>\n",
       "      <td>0</td>\n",
       "      <td>0.0</td>\n",
       "      <td>0</td>\n",
       "      <td>0.0</td>\n",
       "      <td>0</td>\n",
       "      <td>0.0</td>\n",
       "    </tr>\n",
       "    <tr>\n",
       "      <th>31139</th>\n",
       "      <td>Not Depressed</td>\n",
       "      <td>1</td>\n",
       "      <td>18</td>\n",
       "      <td>Other Hispanic</td>\n",
       "      <td>Citizen</td>\n",
       "      <td>0</td>\n",
       "      <td>Never Married</td>\n",
       "      <td>3</td>\n",
       "      <td>No</td>\n",
       "      <td>USA</td>\n",
       "      <td>...</td>\n",
       "      <td>0</td>\n",
       "      <td>0.0</td>\n",
       "      <td>0</td>\n",
       "      <td>0.0</td>\n",
       "      <td>0</td>\n",
       "      <td>0.0</td>\n",
       "      <td>0</td>\n",
       "      <td>0.0</td>\n",
       "      <td>0</td>\n",
       "      <td>0.0</td>\n",
       "    </tr>\n",
       "    <tr>\n",
       "      <th>31143</th>\n",
       "      <td>Not Depressed</td>\n",
       "      <td>0</td>\n",
       "      <td>19</td>\n",
       "      <td>White</td>\n",
       "      <td>Citizen</td>\n",
       "      <td>0</td>\n",
       "      <td>Never Married</td>\n",
       "      <td>3</td>\n",
       "      <td>Missing</td>\n",
       "      <td>USA</td>\n",
       "      <td>...</td>\n",
       "      <td>0</td>\n",
       "      <td>0.0</td>\n",
       "      <td>0</td>\n",
       "      <td>0.0</td>\n",
       "      <td>0</td>\n",
       "      <td>0.0</td>\n",
       "      <td>0</td>\n",
       "      <td>0.0</td>\n",
       "      <td>0</td>\n",
       "      <td>0.0</td>\n",
       "    </tr>\n",
       "  </tbody>\n",
       "</table>\n",
       "<p>5 rows × 491 columns</p>\n",
       "</div>"
      ],
      "text/plain": [
       "          depression  gender  age            race citizenship  \\\n",
       "SEQN                                                            \n",
       "31131  Not Depressed       1   44           Black     Citizen   \n",
       "31132  Not Depressed       0   70           White     Citizen   \n",
       "31134  Not Depressed       0   73           White     Citizen   \n",
       "31139  Not Depressed       1   18  Other Hispanic     Citizen   \n",
       "31143  Not Depressed       0   19           White     Citizen   \n",
       "\n",
       "       education_level marital_status  household_size pregnant birth_place  \\\n",
       "SEQN                                                                         \n",
       "31131                4        Married               4       No         USA   \n",
       "31132                5        Married               2  Missing         USA   \n",
       "31134                3        Married               2  Missing         USA   \n",
       "31139                0  Never Married               3       No         USA   \n",
       "31143                0  Never Married               3  Missing         USA   \n",
       "\n",
       "       ... Rx_INSULIN REGULAR  Rx_days_INSULIN REGULAR  Rx_MEMANTINE  \\\n",
       "SEQN   ...                                                             \n",
       "31131  ...                  0                      0.0             0   \n",
       "31132  ...                  0                      0.0             0   \n",
       "31134  ...                  0                      0.0             0   \n",
       "31139  ...                  0                      0.0             0   \n",
       "31143  ...                  0                      0.0             0   \n",
       "\n",
       "       Rx_days_MEMANTINE  Rx_DIPHENHYDRAMINE  Rx_days_DIPHENHYDRAMINE  \\\n",
       "SEQN                                                                    \n",
       "31131                0.0                   0                      0.0   \n",
       "31132                0.0                   0                      0.0   \n",
       "31134                0.0                   0                      0.0   \n",
       "31139                0.0                   0                      0.0   \n",
       "31143                0.0                   0                      0.0   \n",
       "\n",
       "       Rx_MINOCYCLINE  Rx_days_MINOCYCLINE  Rx_METHOCARBAMOL  \\\n",
       "SEQN                                                           \n",
       "31131               0                  0.0                 0   \n",
       "31132               0                  0.0                 0   \n",
       "31134               0                  0.0                 0   \n",
       "31139               0                  0.0                 0   \n",
       "31143               0                  0.0                 0   \n",
       "\n",
       "       Rx_days_METHOCARBAMOL  \n",
       "SEQN                          \n",
       "31131                    0.0  \n",
       "31132                    0.0  \n",
       "31134                    0.0  \n",
       "31139                    0.0  \n",
       "31143                    0.0  \n",
       "\n",
       "[5 rows x 491 columns]"
      ]
     },
     "execution_count": 10,
     "metadata": {},
     "output_type": "execute_result"
    }
   ],
   "source": [
    "df.head()"
   ]
  },
  {
   "cell_type": "code",
   "execution_count": 11,
   "metadata": {
    "ExecuteTime": {
     "end_time": "2021-02-16T05:41:32.528196Z",
     "start_time": "2021-02-16T05:41:32.502293Z"
    }
   },
   "outputs": [
    {
     "name": "stdout",
     "output_type": "stream",
     "text": [
      "<class 'pandas.core.frame.DataFrame'>\n",
      "Int64Index: 36259 entries, 31131 to 102956\n",
      "Columns: 491 entries, depression to Rx_days_METHOCARBAMOL\n",
      "dtypes: float64(299), int64(175), object(17)\n",
      "memory usage: 136.1+ MB\n"
     ]
    }
   ],
   "source": [
    "df.info()"
   ]
  },
  {
   "cell_type": "code",
   "execution_count": 12,
   "metadata": {
    "ExecuteTime": {
     "end_time": "2021-02-16T05:41:34.803021Z",
     "start_time": "2021-02-16T05:41:33.177026Z"
    }
   },
   "outputs": [
    {
     "name": "stdout",
     "output_type": "stream",
     "text": [
      "depression\n"
     ]
    },
    {
     "data": {
      "text/plain": [
       "array(['Not Depressed', 'Depressed'], dtype=object)"
      ]
     },
     "metadata": {},
     "output_type": "display_data"
    },
    {
     "name": "stdout",
     "output_type": "stream",
     "text": [
      "gender\n"
     ]
    },
    {
     "data": {
      "text/plain": [
       "array([1, 0], dtype=int64)"
      ]
     },
     "metadata": {},
     "output_type": "display_data"
    },
    {
     "name": "stdout",
     "output_type": "stream",
     "text": [
      "age\n"
     ]
    },
    {
     "data": {
      "text/plain": [
       "array([44, 70, 73, 18, 19, 21, 85, 79, 59, 27, 62, 38, 71, 39, 54, 37, 33,\n",
       "       46, 22, 72, 60, 51, 47, 25, 43, 20, 23, 53, 50, 61, 64, 34, 30, 56,\n",
       "       40, 58, 35, 49, 52, 78, 36, 65, 76, 80, 57, 41, 66, 24, 28, 83, 68,\n",
       "       29, 55, 67, 48, 69, 45, 42, 63, 31, 75, 74, 26, 32, 82, 77, 81, 84],\n",
       "      dtype=int64)"
      ]
     },
     "metadata": {},
     "output_type": "display_data"
    },
    {
     "name": "stdout",
     "output_type": "stream",
     "text": [
      "race\n"
     ]
    },
    {
     "data": {
      "text/plain": [
       "array(['Black', 'White', 'Other Hispanic', 'Mexican',\n",
       "       'Other and Multiracial'], dtype=object)"
      ]
     },
     "metadata": {},
     "output_type": "display_data"
    },
    {
     "name": "stdout",
     "output_type": "stream",
     "text": [
      "citizenship\n"
     ]
    },
    {
     "data": {
      "text/plain": [
       "array(['Citizen', 'Not Citizen', 'Missing'], dtype=object)"
      ]
     },
     "metadata": {},
     "output_type": "display_data"
    },
    {
     "name": "stdout",
     "output_type": "stream",
     "text": [
      "education_level\n"
     ]
    },
    {
     "data": {
      "text/plain": [
       "array([4, 5, 3, 0, 2, 1], dtype=int64)"
      ]
     },
     "metadata": {},
     "output_type": "display_data"
    },
    {
     "name": "stdout",
     "output_type": "stream",
     "text": [
      "marital_status\n"
     ]
    },
    {
     "data": {
      "text/plain": [
       "array(['Married', 'Never Married', 'Widowed', 'Divorced', 'Separated',\n",
       "       'Partner', 'Missing'], dtype=object)"
      ]
     },
     "metadata": {},
     "output_type": "display_data"
    },
    {
     "name": "stdout",
     "output_type": "stream",
     "text": [
      "household_size\n"
     ]
    },
    {
     "data": {
      "text/plain": [
       "array([4, 2, 3, 6, 1, 5, 7], dtype=int64)"
      ]
     },
     "metadata": {},
     "output_type": "display_data"
    },
    {
     "name": "stdout",
     "output_type": "stream",
     "text": [
      "pregnant\n"
     ]
    },
    {
     "data": {
      "text/plain": [
       "array(['No', 'Missing', 'Yes'], dtype=object)"
      ]
     },
     "metadata": {},
     "output_type": "display_data"
    },
    {
     "name": "stdout",
     "output_type": "stream",
     "text": [
      "birth_place\n"
     ]
    },
    {
     "data": {
      "text/plain": [
       "array(['USA', 'Mexico', 'Elsewhere', 'Other Spanish Country',\n",
       "       'Other Non Spanish Country', 'Missing'], dtype=object)"
      ]
     },
     "metadata": {},
     "output_type": "display_data"
    },
    {
     "name": "stdout",
     "output_type": "stream",
     "text": [
      "veteran\n"
     ]
    },
    {
     "data": {
      "text/plain": [
       "array(['No', 'Yes', 'Missing'], dtype=object)"
      ]
     },
     "metadata": {},
     "output_type": "display_data"
    },
    {
     "name": "stdout",
     "output_type": "stream",
     "text": [
      "household_income\n"
     ]
    },
    {
     "data": {
      "text/plain": [
       "array([11,  5,  3,  1,  7, 10,  8,  6,  4,  2,  9,  0, 12], dtype=int64)"
      ]
     },
     "metadata": {},
     "output_type": "display_data"
    },
    {
     "name": "stdout",
     "output_type": "stream",
     "text": [
      "asthma\n"
     ]
    },
    {
     "data": {
      "text/plain": [
       "array([0., 1.])"
      ]
     },
     "metadata": {},
     "output_type": "display_data"
    },
    {
     "name": "stdout",
     "output_type": "stream",
     "text": [
      "asthma_onset\n"
     ]
    },
    {
     "data": {
      "text/plain": [
       "array([ 0.,  1., 44., 49.,  5., 58., 10., 25., 30., 13., 50., 17.,  8.,\n",
       "       15.,  6.,  7.,  2., 11., 35., 57., 45., 20.,  9., 34., 18., 40.,\n",
       "       47., 14., 37., 16., 28., 19., 12., 38.,  3.,  4., 67., 42., 21.,\n",
       "       48., 60., 72., 29., 52., 26., 54., 70., 46., 22., 62., 85., 65.,\n",
       "       51., 73., 61., 23., 27., 31., 32., 71., 55., 24., 68., 59., 64.,\n",
       "       69., 53., 75., 74., 39., 56., 63., 33., 36., 80., 76., 78., 66.,\n",
       "       77., 41., 43., 79.])"
      ]
     },
     "metadata": {},
     "output_type": "display_data"
    },
    {
     "name": "stdout",
     "output_type": "stream",
     "text": [
      "asthma_currently\n"
     ]
    },
    {
     "data": {
      "text/plain": [
       "array([0., 1.])"
      ]
     },
     "metadata": {},
     "output_type": "display_data"
    },
    {
     "name": "stdout",
     "output_type": "stream",
     "text": [
      "asthma_emergency\n"
     ]
    },
    {
     "data": {
      "text/plain": [
       "array([0., 1.])"
      ]
     },
     "metadata": {},
     "output_type": "display_data"
    },
    {
     "name": "stdout",
     "output_type": "stream",
     "text": [
      "anemia\n"
     ]
    },
    {
     "data": {
      "text/plain": [
       "array([0., 1.])"
      ]
     },
     "metadata": {},
     "output_type": "display_data"
    },
    {
     "name": "stdout",
     "output_type": "stream",
     "text": [
      "ever_overweight\n"
     ]
    },
    {
     "data": {
      "text/plain": [
       "array([0., 1.])"
      ]
     },
     "metadata": {},
     "output_type": "display_data"
    },
    {
     "name": "stdout",
     "output_type": "stream",
     "text": [
      "blood_transfusion\n"
     ]
    },
    {
     "data": {
      "text/plain": [
       "array([1., 0.])"
      ]
     },
     "metadata": {},
     "output_type": "display_data"
    },
    {
     "name": "stdout",
     "output_type": "stream",
     "text": [
      "arthritis\n"
     ]
    },
    {
     "data": {
      "text/plain": [
       "array([0., 1.])"
      ]
     },
     "metadata": {},
     "output_type": "display_data"
    },
    {
     "name": "stdout",
     "output_type": "stream",
     "text": [
      "heart_failure\n"
     ]
    },
    {
     "data": {
      "text/plain": [
       "array([1., 0.])"
      ]
     },
     "metadata": {},
     "output_type": "display_data"
    },
    {
     "name": "stdout",
     "output_type": "stream",
     "text": [
      "heart_disease\n"
     ]
    },
    {
     "data": {
      "text/plain": [
       "array([0., 1.])"
      ]
     },
     "metadata": {},
     "output_type": "display_data"
    },
    {
     "name": "stdout",
     "output_type": "stream",
     "text": [
      "angina\n"
     ]
    },
    {
     "data": {
      "text/plain": [
       "array([0., 1.])"
      ]
     },
     "metadata": {},
     "output_type": "display_data"
    },
    {
     "name": "stdout",
     "output_type": "stream",
     "text": [
      "heart_attack\n"
     ]
    },
    {
     "data": {
      "text/plain": [
       "array([0., 1.])"
      ]
     },
     "metadata": {},
     "output_type": "display_data"
    },
    {
     "name": "stdout",
     "output_type": "stream",
     "text": [
      "stroke\n"
     ]
    },
    {
     "data": {
      "text/plain": [
       "array([0., 1.])"
      ]
     },
     "metadata": {},
     "output_type": "display_data"
    },
    {
     "name": "stdout",
     "output_type": "stream",
     "text": [
      "emphysema\n"
     ]
    },
    {
     "data": {
      "text/plain": [
       "array([0., 1.])"
      ]
     },
     "metadata": {},
     "output_type": "display_data"
    },
    {
     "name": "stdout",
     "output_type": "stream",
     "text": [
      "bronchitis\n"
     ]
    },
    {
     "data": {
      "text/plain": [
       "array([0., 1.])"
      ]
     },
     "metadata": {},
     "output_type": "display_data"
    },
    {
     "name": "stdout",
     "output_type": "stream",
     "text": [
      "liver_condition\n"
     ]
    },
    {
     "data": {
      "text/plain": [
       "array([0., 1.])"
      ]
     },
     "metadata": {},
     "output_type": "display_data"
    },
    {
     "name": "stdout",
     "output_type": "stream",
     "text": [
      "thyroid_problem\n"
     ]
    },
    {
     "data": {
      "text/plain": [
       "array([0., 1.])"
      ]
     },
     "metadata": {},
     "output_type": "display_data"
    },
    {
     "name": "stdout",
     "output_type": "stream",
     "text": [
      "bronchitis_currently\n"
     ]
    },
    {
     "data": {
      "text/plain": [
       "array([0., 1.])"
      ]
     },
     "metadata": {},
     "output_type": "display_data"
    },
    {
     "name": "stdout",
     "output_type": "stream",
     "text": [
      "liver_condition_currently\n"
     ]
    },
    {
     "data": {
      "text/plain": [
       "array([0., 1.])"
      ]
     },
     "metadata": {},
     "output_type": "display_data"
    },
    {
     "name": "stdout",
     "output_type": "stream",
     "text": [
      "thyroid_problem_currently\n"
     ]
    },
    {
     "data": {
      "text/plain": [
       "array([0., 1.])"
      ]
     },
     "metadata": {},
     "output_type": "display_data"
    },
    {
     "name": "stdout",
     "output_type": "stream",
     "text": [
      "cancer\n"
     ]
    },
    {
     "data": {
      "text/plain": [
       "array([0., 1.])"
      ]
     },
     "metadata": {},
     "output_type": "display_data"
    },
    {
     "name": "stdout",
     "output_type": "stream",
     "text": [
      "first_cancer_type\n"
     ]
    },
    {
     "data": {
      "text/plain": [
       "array(['None', 'Colon', 'Other', 'Breast', 'Liver', 'Bladder', 'Lung',\n",
       "       'Melanoma', 'Skin Other', 'Mouth', 'Skin Non Melanoma', 'Prostate',\n",
       "       'Cervical', 'Thyroid', 'Lymphoma', 'Uterine', 'Brain', 'Stomach',\n",
       "       'Rectal', 'Testicular', 'Kidney', 'Esophageal', 'Larynx',\n",
       "       'Ovarian', 'Blood', 'Bone', 'Leukemia', 'Gallbladder',\n",
       "       'Pancreatic', 'Soft Tissue', 'Nervous System'], dtype=object)"
      ]
     },
     "metadata": {},
     "output_type": "display_data"
    },
    {
     "name": "stdout",
     "output_type": "stream",
     "text": [
      "second_cancer_type\n"
     ]
    },
    {
     "data": {
      "text/plain": [
       "array(['None', 'Bone', 'Ovarian', 'Kidney', 'Melanoma', 'Prostate',\n",
       "       'Liver', 'Uterine', 'Other', 'Bladder', 'Skin Non Melanoma',\n",
       "       'Cervical', 'Breast', 'Skin Other', 'Esophageal', 'Rectal',\n",
       "       'Leukemia', 'Colon', 'Blood', 'Lymphoma', 'Stomach', 'Thyroid',\n",
       "       'Mouth', 'Lung', 'Larynx', 'Brain', 'Pancreatic'], dtype=object)"
      ]
     },
     "metadata": {},
     "output_type": "display_data"
    },
    {
     "name": "stdout",
     "output_type": "stream",
     "text": [
      "third_cancer_type\n"
     ]
    },
    {
     "data": {
      "text/plain": [
       "array(['None', 'Blood', 'Skin Non Melanoma', 'Ovarian', 'Other', 'Brain',\n",
       "       'Uterine', 'Melanoma', 'Bone', 'Skin Other', 'Liver', 'Thyroid',\n",
       "       'Colon', 'Cervical', 'Breast', 'Lung', 'Prostate', 'Leukemia'],\n",
       "      dtype=object)"
      ]
     },
     "metadata": {},
     "output_type": "display_data"
    },
    {
     "name": "stdout",
     "output_type": "stream",
     "text": [
      "fourth_cancer_count\n"
     ]
    },
    {
     "data": {
      "text/plain": [
       "array([0., 1.])"
      ]
     },
     "metadata": {},
     "output_type": "display_data"
    },
    {
     "name": "stdout",
     "output_type": "stream",
     "text": [
      "heart_attack_relative\n"
     ]
    },
    {
     "data": {
      "text/plain": [
       "array([1., 0.])"
      ]
     },
     "metadata": {},
     "output_type": "display_data"
    },
    {
     "name": "stdout",
     "output_type": "stream",
     "text": [
      "asthma_relative\n"
     ]
    },
    {
     "data": {
      "text/plain": [
       "array([0., 1.])"
      ]
     },
     "metadata": {},
     "output_type": "display_data"
    },
    {
     "name": "stdout",
     "output_type": "stream",
     "text": [
      "diabetes_relative\n"
     ]
    },
    {
     "data": {
      "text/plain": [
       "array([1., 0.])"
      ]
     },
     "metadata": {},
     "output_type": "display_data"
    },
    {
     "name": "stdout",
     "output_type": "stream",
     "text": [
      "hay_fever\n"
     ]
    },
    {
     "data": {
      "text/plain": [
       "array([0., 1.])"
      ]
     },
     "metadata": {},
     "output_type": "display_data"
    },
    {
     "name": "stdout",
     "output_type": "stream",
     "text": [
      "arthritis_onset\n"
     ]
    },
    {
     "data": {
      "text/plain": [
       "array([ 0., 77., 58., 60., 45., 30., 50., 35., 49., 55., 48., 14., 66.,\n",
       "       65., 70., 20., 22., 11., 10., 56., 46., 25., 85., 51., 69., 42.,\n",
       "       76., 38., 79., 52., 80., 37., 68., 43., 75., 44., 40., 67., 16.,\n",
       "        8., 36., 59., 57.,  4., 62., 72., 24., 64., 26., 63., 29., 39.,\n",
       "       53., 12., 61., 32., 15., 33., 21., 73., 27., 28., 18., 78.,  6.,\n",
       "       13., 74., 19., 54., 34., 47., 31., 71., 41., 17., 84., 82., 81.,\n",
       "        7.,  2., 23.,  3., 83.,  1.,  9.,  5.])"
      ]
     },
     "metadata": {},
     "output_type": "display_data"
    },
    {
     "name": "stdout",
     "output_type": "stream",
     "text": [
      "heart_failure_onset\n"
     ]
    },
    {
     "data": {
      "text/plain": [
       "array([42.,  0., 65., 45.,  3., 70., 50., 57., 60., 15., 62., 47., 63.,\n",
       "       31., 46., 55., 49., 67., 56., 79., 75., 78., 39., 81., 37., 41.,\n",
       "       83., 58., 54., 76.,  1., 72., 64., 71., 66., 52., 26., 43., 20.,\n",
       "       36., 85., 68., 44., 73., 84., 51., 69., 53., 80., 61., 48., 40.,\n",
       "       25., 74.,  6., 24., 38., 77., 34., 28., 59., 10.,  4., 35., 32.,\n",
       "       29., 22., 21., 18.,  2., 12., 27., 13., 30., 33., 16., 19.])"
      ]
     },
     "metadata": {},
     "output_type": "display_data"
    },
    {
     "name": "stdout",
     "output_type": "stream",
     "text": [
      "heart_disease_onset\n"
     ]
    },
    {
     "data": {
      "text/plain": [
       "array([ 0.,  6., 67., 48., 50., 73., 79., 82., 35., 56., 72., 62., 75.,\n",
       "       15., 46., 69., 49., 78., 58., 66., 60., 13., 68., 45., 47., 54.,\n",
       "       85., 41., 30., 26., 74., 22., 37., 64., 70., 52., 71., 63., 43.,\n",
       "       53., 61., 36., 65., 81., 51., 57.,  5., 42., 55., 77., 10., 59.,\n",
       "        3., 80., 76., 25., 38., 44.,  7., 32., 40., 39., 28.,  1., 11.,\n",
       "       34.,  8., 23., 16., 20., 17., 33., 12., 21., 31., 27.])"
      ]
     },
     "metadata": {},
     "output_type": "display_data"
    },
    {
     "name": "stdout",
     "output_type": "stream",
     "text": [
      "angina_onset\n"
     ]
    },
    {
     "data": {
      "text/plain": [
       "array([ 0., 59., 64., 30., 32., 72.,  7., 50., 75., 46., 34., 10.,  8.,\n",
       "       47., 49., 63., 58., 66., 65., 57., 40., 45., 67., 62., 55., 41.,\n",
       "       54., 43., 74., 60., 48., 84., 37., 69., 70., 28., 36., 44., 80.,\n",
       "       53., 51., 56., 35., 78., 81., 82., 77., 33., 61., 71., 76., 68.,\n",
       "       25., 42., 85., 52., 79., 15., 38., 18., 20., 39., 73., 26., 29.,\n",
       "       21., 23., 17., 31., 16., 27., 22., 12.])"
      ]
     },
     "metadata": {},
     "output_type": "display_data"
    },
    {
     "name": "stdout",
     "output_type": "stream",
     "text": [
      "heart_attack_onset\n"
     ]
    },
    {
     "data": {
      "text/plain": [
       "array([ 0., 40., 55., 33., 59., 74., 78., 85., 65., 70.,  2., 39., 75.,\n",
       "       64., 46., 50., 62., 24., 54., 49., 58., 51., 60., 67., 82., 45.,\n",
       "       63., 66., 47., 53., 41., 72., 44., 30., 38., 79., 37., 35., 77.,\n",
       "       68., 28., 43., 56., 80., 61., 36., 83., 71., 84., 76., 14., 69.,\n",
       "       81., 57., 42., 32., 73., 48., 20., 15., 25., 52., 10., 31., 21.,\n",
       "       29., 27., 22., 16., 23., 34., 26., 19.])"
      ]
     },
     "metadata": {},
     "output_type": "display_data"
    },
    {
     "name": "stdout",
     "output_type": "stream",
     "text": [
      "stroke_onset\n"
     ]
    },
    {
     "data": {
      "text/plain": [
       "array([ 0., 80., 85., 65., 50., 46., 74., 43., 78., 66., 76., 75., 63.,\n",
       "       70., 47., 24., 25., 79., 35., 30., 71., 54., 67., 41., 45., 64.,\n",
       "       39., 72., 44., 19., 53., 31., 68., 57., 60., 84., 62., 20., 77.,\n",
       "       40., 81., 48., 32., 51., 73., 42., 69., 55., 61., 36.,  4., 49.,\n",
       "       56., 15., 38., 52., 59., 26., 58., 29., 23.,  2., 33., 13.,  6.,\n",
       "       10., 18.,  1., 16., 27., 22.,  7., 34., 37., 17., 28.,  3.,  5.,\n",
       "       21.])"
      ]
     },
     "metadata": {},
     "output_type": "display_data"
    },
    {
     "name": "stdout",
     "output_type": "stream",
     "text": [
      "emphysema_onset\n"
     ]
    },
    {
     "data": {
      "text/plain": [
       "array([ 0., 60., 65., 46., 59., 49., 32., 64., 72., 43., 62., 70., 39.,\n",
       "       51., 26., 66., 45., 67., 71., 63., 55., 61., 68., 50., 31., 48.,\n",
       "       56., 30., 81., 85.,  5.,  4., 82., 53., 83., 44., 33., 80., 42.,\n",
       "       75., 41., 40., 37., 21., 77., 20., 57., 58., 47., 69., 74., 54.,\n",
       "       23., 73., 79., 22., 35., 28., 34., 27., 18.,  6., 78., 38., 76.,\n",
       "       36., 52., 11., 13., 29., 16., 14., 10., 24.])"
      ]
     },
     "metadata": {},
     "output_type": "display_data"
    },
    {
     "name": "stdout",
     "output_type": "stream",
     "text": [
      "bronchitis_onset\n"
     ]
    },
    {
     "data": {
      "text/plain": [
       "array([ 0., 30., 10., 14., 42., 47., 46., 44.,  3., 32., 37., 74., 50.,\n",
       "       64.,  1., 65., 29., 25.,  5., 38., 40., 51., 23., 76., 24., 52.,\n",
       "       70., 66., 11., 39., 20., 34., 58., 60., 35., 33., 18., 22., 57.,\n",
       "        7., 55., 13., 49., 17., 15., 53.,  2., 63.,  9.,  8., 43., 31.,\n",
       "        4., 12., 45., 48., 26., 85., 73., 19., 36., 56., 75., 68., 16.,\n",
       "       80., 54., 28., 62., 72., 69., 61.,  6., 67., 71., 27., 41., 78.,\n",
       "       21., 59., 79., 77.])"
      ]
     },
     "metadata": {},
     "output_type": "display_data"
    },
    {
     "name": "stdout",
     "output_type": "stream",
     "text": [
      "liver_condition_onset\n"
     ]
    },
    {
     "data": {
      "text/plain": [
       "array([ 0., 71., 50., 24., 35., 49., 28., 62., 34., 53.,  7., 10., 23.,\n",
       "       25., 55., 36., 45., 13., 21., 38., 47., 11., 58., 30., 74., 15.,\n",
       "       46., 29., 65., 40., 70., 73., 14., 41., 57., 80., 48., 32.,  6.,\n",
       "       37., 64., 31., 20., 44.,  9., 82., 67., 19., 43., 60., 59., 33.,\n",
       "       27., 56., 54.,  8., 39.,  1., 69., 17., 22., 63., 76., 42., 51.,\n",
       "       52., 66., 77., 61.,  4., 16., 26., 18., 72., 78., 12., 75., 68.,\n",
       "       79.,  3.,  5.])"
      ]
     },
     "metadata": {},
     "output_type": "display_data"
    },
    {
     "name": "stdout",
     "output_type": "stream",
     "text": [
      "thyroid_problem_onset\n"
     ]
    },
    {
     "data": {
      "text/plain": [
       "array([ 0., 63., 43., 54., 50., 44., 40., 55., 18., 73., 61., 38., 27.,\n",
       "       75., 46., 60., 20.,  7., 32., 35., 47., 34., 13., 76., 41., 56.,\n",
       "       30., 42., 70., 80., 85., 26., 72., 62., 65., 28., 45., 24., 48.,\n",
       "       37., 25., 17., 53., 29., 33., 12., 21., 52., 36., 66., 19., 31.,\n",
       "       58., 23., 15., 22., 59., 49., 74.,  9., 84., 64., 77., 39., 83.,\n",
       "       11., 69.,  4., 79., 67., 71., 57., 16., 51.,  8., 10., 82., 14.,\n",
       "        5., 78.,  2., 68.,  6.,  1.])"
      ]
     },
     "metadata": {},
     "output_type": "display_data"
    },
    {
     "name": "stdout",
     "output_type": "stream",
     "text": [
      "cancer_onset\n"
     ]
    },
    {
     "data": {
      "text/plain": [
       "array([ 0., 85., 69., 80., 55., 20., 46., 43., 23., 42., 41., 28., 47.,\n",
       "       40., 65., 53., 49., 33., 75., 30., 21., 66., 45., 78., 50., 59.,\n",
       "       70., 26., 56., 58., 68., 44., 38., 62., 63., 32., 52., 36., 60.,\n",
       "       16., 34., 74., 27., 72., 61., 73., 64., 54., 25., 51., 37., 71.,\n",
       "       19., 76., 57., 77., 39., 35., 67., 22., 48., 79., 29., 24., 17.])"
      ]
     },
     "metadata": {},
     "output_type": "display_data"
    },
    {
     "name": "stdout",
     "output_type": "stream",
     "text": [
      "arthritis_type\n"
     ]
    },
    {
     "data": {
      "text/plain": [
       "array(['Missing', 'Osteoarthritis', 'Other', 'Rheumatoid', 'Psoriatic'],\n",
       "      dtype=object)"
      ]
     },
     "metadata": {},
     "output_type": "display_data"
    },
    {
     "name": "stdout",
     "output_type": "stream",
     "text": [
      "first_cancer_count\n"
     ]
    },
    {
     "data": {
      "text/plain": [
       "array([0., 1.])"
      ]
     },
     "metadata": {},
     "output_type": "display_data"
    },
    {
     "name": "stdout",
     "output_type": "stream",
     "text": [
      "second_cancer_count\n"
     ]
    },
    {
     "data": {
      "text/plain": [
       "array([0., 1.])"
      ]
     },
     "metadata": {},
     "output_type": "display_data"
    },
    {
     "name": "stdout",
     "output_type": "stream",
     "text": [
      "third_cancer_count\n"
     ]
    },
    {
     "data": {
      "text/plain": [
       "array([0., 1.])"
      ]
     },
     "metadata": {},
     "output_type": "display_data"
    },
    {
     "name": "stdout",
     "output_type": "stream",
     "text": [
      "weight\n"
     ]
    },
    {
     "data": {
      "text/plain": [
       "array([ 75.2,  69.5, 101.9, ..., 144.4, 219.6, 143.8])"
      ]
     },
     "metadata": {},
     "output_type": "display_data"
    },
    {
     "name": "stdout",
     "output_type": "stream",
     "text": [
      "height\n"
     ]
    },
    {
     "data": {
      "text/plain": [
       "array([156.  , 167.6 , 182.4 , 158.4 , 184.  , 167.1 , 154.9 , 171.4 ,\n",
       "       153.6 , 167.2 , 180.8 , 188.  , 178.8 , 161.7 , 149.9 , 173.6 ,\n",
       "       194.2 , 159.  , 180.  , 172.3 , 149.8 , 176.4 , 174.8 , 155.2 ,\n",
       "       160.5 , 177.  , 152.3 , 166.  , 160.7 , 155.6 , 166.8 , 151.2 ,\n",
       "       175.5 , 172.9 , 166.2 , 157.4 , 179.8 , 150.4 , 167.9 , 181.7 ,\n",
       "       163.8 , 177.3 , 172.2 , 181.2 , 161.9 , 179.  , 191.6 , 161.6 ,\n",
       "       170.1 , 163.7 , 157.7 , 176.7 , 162.2 , 165.2 , 171.9 , 177.2 ,\n",
       "       182.7 , 158.  , 187.2 ,   0.  , 191.8 , 172.4 , 153.7 , 170.  ,\n",
       "       156.3 , 174.  , 181.  , 162.4 , 192.2 , 143.6 , 155.4 , 162.1 ,\n",
       "       165.1 , 159.2 , 176.1 , 180.1 , 179.7 , 182.6 , 164.9 , 167.  ,\n",
       "       166.7 , 188.9 , 166.9 , 180.9 , 159.4 , 158.7 , 174.4 , 154.2 ,\n",
       "       166.4 , 164.3 , 167.3 , 164.2 , 166.3 , 174.7 , 154.6 , 183.5 ,\n",
       "       176.2 , 162.7 , 160.4 , 180.5 , 170.7 , 165.  , 174.2 , 156.7 ,\n",
       "       155.3 , 158.8 , 171.2 , 182.  , 158.2 , 163.6 , 175.1 , 157.  ,\n",
       "       163.9 , 170.8 , 154.1 , 159.1 , 186.4 , 179.4 , 159.5 , 171.3 ,\n",
       "       166.6 , 163.1 , 165.4 , 182.5 , 176.9 , 174.9 , 180.3 , 178.7 ,\n",
       "       145.  , 157.6 , 164.5 , 167.7 , 170.5 , 180.7 , 155.7 , 166.1 ,\n",
       "       167.4 , 163.4 , 173.7 , 161.5 , 176.  , 175.  , 169.5 , 161.  ,\n",
       "       163.  , 168.4 , 149.2 , 168.2 , 171.8 , 186.5 , 159.7 , 168.  ,\n",
       "       169.9 , 178.4 , 161.8 , 148.1 , 167.8 , 178.2 , 169.8 , 185.6 ,\n",
       "       153.3 , 173.  , 169.1 , 162.5 , 156.8 , 165.7 , 168.7 , 173.9 ,\n",
       "       148.7 , 158.3 , 169.2 , 172.6 , 180.4 , 177.5 , 146.3 , 172.7 ,\n",
       "       165.6 , 172.1 , 183.4 , 178.1 , 152.9 , 161.1 , 146.7 , 167.5 ,\n",
       "       189.1 , 179.2 , 156.2 , 163.5 , 173.2 , 149.3 , 162.  , 172.8 ,\n",
       "       164.1 , 157.2 , 150.2 , 177.7 , 185.3 , 184.3 , 172.5 , 145.4 ,\n",
       "       149.4 , 145.3 , 156.9 , 175.9 , 162.9 , 164.8 , 182.1 , 182.8 ,\n",
       "       161.4 , 186.6 , 170.6 , 142.1 , 160.3 , 157.5 , 197.1 , 165.8 ,\n",
       "       149.  , 168.1 , 148.6 , 162.3 , 160.2 , 184.2 , 158.5 , 183.6 ,\n",
       "       163.2 , 166.5 , 154.  , 175.4 , 169.  , 175.3 , 190.5 , 156.1 ,\n",
       "       157.8 , 173.3 , 160.8 , 174.6 , 152.4 , 190.7 , 165.5 , 164.7 ,\n",
       "       181.3 , 177.6 , 153.5 , 152.1 , 171.1 , 165.3 , 185.7 , 170.2 ,\n",
       "       175.7 , 153.8 , 171.7 , 152.2 , 160.9 , 179.9 , 163.3 , 152.8 ,\n",
       "       144.8 , 153.1 , 150.9 , 187.8 , 148.3 , 151.3 , 184.1 , 158.1 ,\n",
       "       160.  , 162.6 , 173.5 , 171.6 , 176.5 , 184.6 , 177.4 , 157.3 ,\n",
       "       155.1 , 155.5 , 187.6 , 178.  , 157.1 , 179.3 , 176.3 , 153.9 ,\n",
       "       169.4 , 158.6 , 169.7 , 178.5 , 185.  , 161.3 , 183.1 , 168.8 ,\n",
       "       155.9 , 159.6 , 158.9 , 181.6 , 168.5 , 154.8 , 155.8 , 189.7 ,\n",
       "       150.8 , 180.6 , 164.6 , 179.5 , 176.8 , 171.5 , 151.8 , 160.6 ,\n",
       "       175.6 , 159.8 , 164.  , 173.4 , 181.4 , 190.9 , 187.7 , 176.6 ,\n",
       "       151.4 , 161.2 , 156.5 , 171.  , 152.  , 153.  , 150.5 , 160.1 ,\n",
       "       156.6 , 147.5 , 153.4 , 175.8 , 153.2 , 183.8 , 177.1 , 200.7 ,\n",
       "       151.1 , 178.3 , 150.7 , 173.1 , 182.2 , 155.96, 181.5 , 185.2 ,\n",
       "       174.3 , 180.2 , 152.6 , 172.  , 184.5 , 189.2 , 157.9 , 183.3 ,\n",
       "       168.6 , 170.3 , 188.7 , 184.7 , 173.8 , 188.2 , 174.5 , 175.2 ,\n",
       "       179.1 , 170.9 , 156.4 , 168.3 , 181.1 , 190.2 , 169.3 , 186.  ,\n",
       "       147.3 , 182.3 , 187.1 , 194.4 , 152.7 , 193.9 , 165.9 , 196.2 ,\n",
       "       167.23, 177.9 , 150.1 , 185.1 , 185.4 , 162.8 , 185.9 , 154.3 ,\n",
       "       154.7 , 170.4 , 168.9 , 150.6 , 147.6 , 186.7 , 192.8 , 179.6 ,\n",
       "       159.9 , 187.3 , 146.5 , 174.1 , 186.3 , 185.5 , 149.1 , 149.7 ,\n",
       "       185.8 , 181.8 , 187.  , 178.6 , 184.8 , 178.9 , 184.4 , 159.3 ,\n",
       "       144.4 , 140.3 , 151.  , 181.9 , 140.2 , 192.1 , 164.4 , 151.6 ,\n",
       "       151.5 , 169.6 , 191.1 , 154.4 , 151.9 , 182.9 , 147.7 , 142.  ,\n",
       "       143.7 , 155.  , 191.9 , 189.8 , 148.5 , 143.5 , 204.1 , 189.3 ,\n",
       "       154.5 , 145.7 , 190.6 , 194.5 , 147.9 , 196.5 , 188.5 , 144.1 ,\n",
       "       192.4 , 195.5 , 146.8 , 148.9 , 196.7 , 144.5 , 145.9 , 186.2 ,\n",
       "       187.4 , 199.2 , 187.9 , 186.9 , 151.7 , 183.9 , 148.2 , 194.  ,\n",
       "       143.2 , 152.5 , 193.4 , 190.  , 183.2 , 195.7 , 184.9 , 196.8 ,\n",
       "       146.2 , 146.4 , 188.8 , 147.2 , 140.9 , 150.  , 193.  , 183.7 ,\n",
       "       148.  , 189.4 , 189.9 , 191.4 , 149.5 , 194.3 , 146.6 , 188.6 ,\n",
       "       190.8 , 186.8 , 147.1 , 192.5 , 189.  , 183.  , 200.1 , 177.8 ,\n",
       "       186.1 , 190.1 , 148.4 , 145.2 , 150.3 , 188.3 , 193.7 , 146.  ,\n",
       "       189.6 , 188.4 , 145.8 , 145.1 , 191.3 , 138.6 , 146.9 , 148.8 ,\n",
       "       149.6 , 197.9 , 141.7 , 147.8 , 190.4 , 191.2 , 141.  , 195.2 ,\n",
       "       187.5 , 143.3 , 141.5 , 147.4 , 144.2 , 142.3 , 143.4 , 147.  ,\n",
       "       142.4 , 145.6 , 191.7 , 143.8 , 144.9 , 141.9 , 144.6 , 197.3 ,\n",
       "       193.6 , 145.5 , 141.1 , 190.3 , 144.7 , 195.4 , 195.6 , 193.2 ,\n",
       "       143.9 , 193.5 , 192.6 , 195.8 , 195.3 , 142.8 , 137.3 , 192.9 ,\n",
       "       192.7 , 141.2 , 140.1 , 146.1 , 197.4 , 192.  , 144.  , 189.5 ,\n",
       "       139.6 , 194.7 , 195.  , 203.8 , 191.5 , 140.8 , 201.6 , 139.4 ,\n",
       "       194.9 , 139.8 , 199.3 , 192.3 , 142.6 , 140.4 , 193.1 , 193.3 ,\n",
       "       142.9 , 195.9 , 123.3 , 202.7 , 144.3 , 139.9 , 197.5 , 142.5 ,\n",
       "       196.6 , 199.6 , 193.8 , 142.7 , 198.2 , 143.1 , 201.7 , 143.  ,\n",
       "       139.5 , 188.1 , 199.5 , 141.3 , 140.  , 194.8 , 191.  , 199.9 ,\n",
       "       134.5 , 197.2 , 196.  , 199.4 , 139.7 , 135.3 , 204.5 , 136.1 ,\n",
       "       200.4 , 190.54, 194.6 , 135.4 , 196.1 , 170.92, 197.  , 179.66,\n",
       "       174.17, 202.6 , 141.8 , 136.3 , 138.8 , 198.4 , 195.1 , 201.  ,\n",
       "       140.7 , 137.4 , 139.  , 138.4 , 137.6 , 136.5 , 141.4 , 138.3 ,\n",
       "       197.7 ])"
      ]
     },
     "metadata": {},
     "output_type": "display_data"
    },
    {
     "name": "stdout",
     "output_type": "stream",
     "text": [
      "BMI\n"
     ]
    },
    {
     "data": {
      "text/plain": [
       "array([30.9 , 24.74, 30.63, ..., 65.3 , 68.2 , 84.4 ])"
      ]
     },
     "metadata": {},
     "output_type": "display_data"
    },
    {
     "name": "stdout",
     "output_type": "stream",
     "text": [
      "pulse\n"
     ]
    },
    {
     "data": {
      "text/plain": [
       "array([ 58.,  62.,  50.,  68.,  54.,  64.,  66.,  56.,  78.,  74.,  94.,\n",
       "        70.,  86.,  92.,  80.,  60.,   0.,  90.,  82.,  84.,  72., 108.,\n",
       "        88., 102.,  76., 104., 100., 122., 106.,  48., 114.,  98.,  52.,\n",
       "        44.,  42.,  96., 128., 120., 110., 112.,  46., 118.,  40., 220.,\n",
       "       124., 166., 116., 224., 126., 136., 142., 172., 160., 132., 140.,\n",
       "        36., 134.,  34.])"
      ]
     },
     "metadata": {},
     "output_type": "display_data"
    },
    {
     "name": "stdout",
     "output_type": "stream",
     "text": [
      "irregular_pulse\n"
     ]
    },
    {
     "data": {
      "text/plain": [
       "array([0., 1.])"
      ]
     },
     "metadata": {},
     "output_type": "display_data"
    },
    {
     "name": "stdout",
     "output_type": "stream",
     "text": [
      "systolic\n"
     ]
    },
    {
     "data": {
      "text/plain": [
       "array([144., 138., 130., 110., 108., 116., 136.,  94., 120., 154., 126.,\n",
       "       134., 106.,   0., 146., 114., 128., 152., 118., 124., 112., 132.,\n",
       "       166., 122., 158., 140., 104., 148., 156., 170.,  88., 142., 164.,\n",
       "       150.,  84.,  92., 100., 102., 178., 216.,  98., 228., 192., 160.,\n",
       "       172.,  96.,  90., 182., 206., 256.,  86., 196., 176., 202., 168.,\n",
       "       162., 180., 186., 194., 184., 218., 190., 174., 188., 198., 200.,\n",
       "       270.,  82., 214., 204., 220., 210.,  80., 208.,  74., 226.,  78.,\n",
       "       230., 212., 222.,  72., 232., 238., 224.,  66., 236.])"
      ]
     },
     "metadata": {},
     "output_type": "display_data"
    },
    {
     "name": "stdout",
     "output_type": "stream",
     "text": [
      "diastolic\n"
     ]
    },
    {
     "data": {
      "text/plain": [
       "array([ 74.,  60.,  68.,  64.,  62.,   0.,  76.,  82.,  80.,  58.,  70.,\n",
       "        54.,  90.,  84.,  86.,  52.,  30.,  78.,  56.,  44.,  72.,  48.,\n",
       "        98.,  88., 100.,  46.,  66.,  94., 114.,  40.,  92., 120.,  96.,\n",
       "        50., 118.,  22.,  36.,  28.,  42.,  34.,  18., 104.,  38.,  24.,\n",
       "       108., 102.,  32.,  20., 106., 110., 116., 124., 112.,   4.,  12.,\n",
       "        26.,  10., 134.,  14., 122.,   6.])"
      ]
     },
     "metadata": {},
     "output_type": "display_data"
    },
    {
     "name": "stdout",
     "output_type": "stream",
     "text": [
      "total_cholesterol\n"
     ]
    },
    {
     "data": {
      "text/plain": [
       "array([105., 147., 186.,   0., 108., 207., 121., 181., 205., 243., 198.,\n",
       "       190., 170., 199., 197., 224., 159., 202., 140., 167., 189., 172.,\n",
       "       212., 245., 214., 209., 169., 152., 163., 228., 253., 135., 178.,\n",
       "       440., 175., 229., 237., 194., 259., 184., 168., 203., 275., 193.,\n",
       "       232., 188., 210., 151., 146., 154., 211., 295., 162., 233., 187.,\n",
       "       299., 254., 195., 218., 291., 117., 222., 266., 244., 150., 132.,\n",
       "       303., 225., 171., 196., 177., 252., 217., 166., 230., 325., 180.,\n",
       "       269., 176., 155., 164., 226., 183., 127., 219., 201., 138., 264.,\n",
       "       215., 274., 234., 143., 281., 250., 257., 136., 204., 223., 372.,\n",
       "       206., 192., 241., 185., 208., 139., 240., 213., 324., 137., 160.,\n",
       "       134., 246., 145., 156., 309., 157., 227., 321., 133., 231., 288.,\n",
       "       191., 271., 124., 247., 182., 242., 174., 220., 290., 179., 129.,\n",
       "       144., 307., 221., 236., 148., 173., 130., 249., 272., 458., 276.,\n",
       "       332., 149., 126., 161., 200., 283., 277., 262., 216., 350., 109.,\n",
       "       239., 289., 270., 251., 256., 280., 267., 268., 292., 123., 278.,\n",
       "       165., 301., 293., 113., 141., 118., 287., 349., 255., 258., 260.,\n",
       "       106., 238., 120., 316., 286., 125.,  95., 263., 115., 327., 296.,\n",
       "       279., 131., 142., 158., 317., 102., 235., 326., 153., 122., 128.,\n",
       "       261., 305., 248., 273., 101.,  92., 347., 265., 311., 338., 294.,\n",
       "       331., 298., 285., 110.,  97., 111., 333., 322., 319., 304., 313.,\n",
       "        99., 345., 284., 297., 366., 337., 114., 318., 329., 107., 310.,\n",
       "       119.,  82., 340., 359., 116., 314., 112., 282., 335., 615., 368.,\n",
       "        87., 308., 339., 394., 306.,  84., 344., 431., 330., 342.,  98.,\n",
       "       341., 323., 412., 300., 432., 357., 312., 328.,  91., 336., 100.,\n",
       "       371., 334., 302.,  94., 386., 343., 104., 406., 103., 353., 460.,\n",
       "       354., 315., 380.,  93.,  90., 361., 320., 346.,  96., 383., 528.,\n",
       "        88., 475., 398., 384.,  80.,  75., 360.,  89.,  59., 401., 389.,\n",
       "       367., 413., 523.,  83., 348., 362., 612., 463., 813.,  85., 525.,\n",
       "       393., 545., 433., 415.,  77., 540., 358.,  81., 446.,  76.,  79.,\n",
       "       416., 376., 428., 370., 352., 365.])"
      ]
     },
     "metadata": {},
     "output_type": "display_data"
    },
    {
     "name": "stdout",
     "output_type": "stream",
     "text": [
      "HDL\n"
     ]
    },
    {
     "data": {
      "text/plain": [
       "array([ 39.,  59.,  49.,   0.,  44.,  45.,  54.,  81.,  76.,  68.,  50.,\n",
       "        40.,  71.,  47.,  46.,  37.,  61.,  58.,  41.,  70.,  66.,  43.,\n",
       "        60.,  78.,  63.,  38.,  51.,  72.,  35.,  62.,  64., 151.,  36.,\n",
       "        65.,  91.,  57.,  32.,  52.,  69.,  27.,  56.,  53.,  77.,  34.,\n",
       "       104.,  79.,  73.,  33.,  95.,  83.,  31., 103.,  48.,  29.,  42.,\n",
       "        55.,  67.,  92.,  89.,  88.,  84.,  85.,  98.,  28.,  93.,  75.,\n",
       "       100.,  80.,  90.,  30., 116., 113.,  86.,  26.,  94.,  87.,  82.,\n",
       "        74., 101., 105., 108., 145.,  99.,  15.,  25.,  24., 102.,  96.,\n",
       "       117., 106., 164., 112.,  22., 188., 114.,  17.,  97., 120., 146.,\n",
       "       109.,  23., 115., 107., 139., 111.,  21., 152.,  16., 110.,  20.,\n",
       "       118.,   7.,  19., 148.,  11., 132., 129., 128., 135.,  18.,  13.,\n",
       "       133., 127., 179., 119., 130., 124., 141., 144., 121., 125., 150.,\n",
       "        14., 175., 138., 123., 156., 126.,  10., 122., 147., 173., 226.,\n",
       "       131., 142., 137., 136.,   6., 149., 166., 178.])"
      ]
     },
     "metadata": {},
     "output_type": "display_data"
    },
    {
     "name": "stdout",
     "output_type": "stream",
     "text": [
      "triglyceride\n"
     ]
    },
    {
     "data": {
      "text/plain": [
       "array([  86.,   65.,  195.,    0.,   50.,  123.,  256.,  193.,   88.,\n",
       "        174.,  325.,  175.,   75.,   56.,   81.,  125.,   85.,   36.,\n",
       "        127.,   89.,   84.,  880.,   52.,  121.,  104.,   66.,   83.,\n",
       "         64.,  148.,  183.,  139.,  145.,  167.,  112.,  202.,   79.,\n",
       "        109.,   72.,   63.,   95.,  281.,  147.,  141.,  433.,  209.,\n",
       "         77.,  217.,  173.,   55.,   69.,   98.,  763.,   70.,  305.,\n",
       "        186.,   59.,  134.,  176.,  101.,  115.,   49.,  117.,  155.,\n",
       "        110.,  188.,  529.,  120.,  208.,  106.,   93.,  194.,  156.,\n",
       "        257.,  297.,  182.,   58.,  226.,   87.,   44.,   73.,   92.,\n",
       "         67.,  200.,  301.,   53.,  107.,  126.,   74.,  251.,  242.,\n",
       "        823.,  203.,   62.,  204.,  254.,   47.,  190.,   51.,   71.,\n",
       "         46.,   54.,   68.,  264.,  232.,  288.,  171.,  103.,  447.,\n",
       "        158.,  136.,  290.,  352.,  296.,   94.,  249.,   82.,  151.,\n",
       "        228.,  215.,   78.,  253.,  191.,  157.,  100.,  102.,   91.,\n",
       "        170.,   57.,  313.,  201.,  149.,  114.,   48.,  128.,  169.,\n",
       "        140.,  129.,   45.,  153.,  233.,  664.,  362.,   32.,  199.,\n",
       "        230.,  113.,  192.,  119.,  122.,   43.,  236.,  177.,  105.,\n",
       "        146.,   96.,  163.,   39.,   97.,  239.,   34.,  255.,   42.,\n",
       "        178.,  214.,  154.,   37.,  166.,   38.,   99.,  503.,  185.,\n",
       "        210.,   60.,  268.,  223.,  440.,  467.,  143.,  118.,  135.,\n",
       "         80.,  108.,  265.,  267.,   61.,  133.,  138.,  283.,  346.,\n",
       "        378.,  373.,  131.,  269.,  252.,  227.,  231.,  498.,  309.,\n",
       "        343.,  225.,  132.,  586.,   90.,  184., 1340.,  250.,  137.,\n",
       "        181.,  292.,   76.,  284.,  111.,  116.,  237.,  142.,  144.,\n",
       "        395.,  235.,  243.,  306.,  205.,  189.,  262.,  240.,  206.,\n",
       "        287.,  490.,  337.,  161.,  263.,   31.,  366.,  417.,  165.,\n",
       "        124.,  168.,  558.,  212.,  476.,  501.,  213.,   35.,  360.,\n",
       "        312.,   41.,  218.,  320.,  222.,  248.,  160.,  303.,  371.,\n",
       "        377.,  310.,  483.,  130.,  329.,   40.,  229.,  387.,  420.,\n",
       "        630.,  480.,  259.,  317.,  582.,  286.,  463.,  289.,  311.,\n",
       "        361.,  322.,  247.,  407.,  399.,  279.,  198.,  150.,  221.,\n",
       "        441.,  291.,  152.,  159.,  282.,  246.,  318.,  477.,  298.,\n",
       "        180.,  339.,  294., 1100.,  403.,  280.,  187.,  389.,  266.,\n",
       "        285.,  299.,  331.,  207.,  671.,  224.,  164.,  315.,  244.,\n",
       "        172.,  319.,   28.,  197.,  308.,  211.,  275.,  219.,  605.,\n",
       "        475.,  517.,  336.,  342.,  196.,  569.,  273.,  386.,  622.,\n",
       "        216.,  261.,  220.,  461.,  641.,  542.,  260.,  557.,  333.,\n",
       "        162., 1600.,  351.,  436., 1480.,   30.,  270.,  335.,  472.,\n",
       "         33.,  468.,  327.,  234.,  367.,  392.,  179., 1403.,   27.,\n",
       "        429.,  393.,  272.,  357.,  415.,  711.,  293.,  241.,  408.,\n",
       "        258.,  349.,  546.,  514.,  245.,  314.,  534., 1297.,  300.,\n",
       "         19.,  575.,  278.,  350.,  418.,  442.,  328.,  646.,  504.,\n",
       "        274.,  271.,   25.,  238.,   23.,  552.,  372.,  550.,  425.,\n",
       "        693.,   26.,  383.,  932.,  734.,   24.,   21.,  857.,  390.,\n",
       "        464.,  356.,   29.,  536.,   20.,   18.,  434.,  486.,  380.,\n",
       "         22.,  771.,  323.,  355.,  324.,  453.,   12.,  295.,  363.,\n",
       "        600.,  365.,  406.,  528.,  334., 1497.,  598.,  439., 1306.,\n",
       "        340.,  374.,  358.,  849.,  450.,   14.,  404.,  304.,  428.,\n",
       "        812.,  370.,  657.,  548.,  416.,  332.,  302., 2549.,  394.,\n",
       "       1648.,  959.,  401.,  973.,  720.,  566.,  581.,  369.,  353.,\n",
       "        712.,  484., 1322.,  430.,  682.,  496.,  609.,  458.,  413.,\n",
       "        316.,  379.,  276.,  824., 1097., 1651., 1632.,  444.,  715.,\n",
       "        766.,  375.,  330.,  326.,  485.,  816.,  482.,  491.,  875.,\n",
       "        402.,  580.,  411.,  376.,  783.,  561.,  611.,  449., 1377.,\n",
       "       1147.,  717., 2742.,  565.,  344.,  354.,  668.,  419.,  410.,\n",
       "        347.,  396.,  500.,  624.,  454.,  348.,  681.,  452.,  584.,\n",
       "        409.,  465.,  979.,  398.,  381., 1311.,  560.,  510.,  553.,\n",
       "        481.,  385.,  539.,  610.,  473.,  535.,  559.,  382.,  666.,\n",
       "        307.,  345.,  526.,  700., 1562.,  511.,  814.,  277.,  489.,\n",
       "        400.,  607.,  321.,  993.,  478.,  384.,  516.,  421.,  431.,\n",
       "        790.,  457.,  338., 1102.,  456.,  642.,   16., 4233.,  341.,\n",
       "        606.,  543.,  462.,  426.,  541., 1184.,  619.,  759., 1002.,\n",
       "       1637.,   17.,   15.,  446.,  414.,  819.,  412.,  843.,  368.,\n",
       "       2141.,  631.,  647., 1761.,  397.,  761.,  438.,  524.,  770.,\n",
       "        437., 1407., 1479.,  515.,  455.,  743.,  479.,  495.,  364.,\n",
       "         10.,  469.,  807.,  967.,  876., 2684.,  547.,  502.,  644.,\n",
       "        708.])"
      ]
     },
     "metadata": {},
     "output_type": "display_data"
    },
    {
     "name": "stdout",
     "output_type": "stream",
     "text": [
      "LDL\n"
     ]
    },
    {
     "data": {
      "text/plain": [
       "array([ 49.,  75.,  98.,   0.,  90., 104.,  97.,  91., 110., 142., 100.,\n",
       "        86., 113., 112., 126., 149., 109.,  85.,  80.,  95.,  82.,  67.,\n",
       "       157., 173., 117., 108., 203., 107., 138., 128.,  56., 133., 215.,\n",
       "        88.,  94., 143., 148., 120.,  99., 168., 156., 170., 135., 103.,\n",
       "       130.,  74., 139.,  96.,  62., 154., 105., 123.,  76., 134., 119.,\n",
       "       163.,  65.,  89., 132., 127., 169.,  84., 197., 114.,  71., 159.,\n",
       "       115., 118., 116., 121.,  54., 129.,  87.,  93.,  69., 193., 175.,\n",
       "        45., 147.,  55.,  68.,  79.,  60., 122.,  83., 211., 162., 125.,\n",
       "       198., 140.,  81., 106., 174., 166.,  34.,  61., 181., 150., 171.,\n",
       "       183., 146., 101.,  66., 137., 160., 153., 161., 182., 158., 180.,\n",
       "       151., 195.,  42., 131., 186.,  92.,  77., 191.,  50.,  59.,  73.,\n",
       "        51., 152., 210., 102., 145.,  35., 225., 124., 222.,  46., 194.,\n",
       "       164.,  53.,  70., 167.,  63., 136., 188., 141., 190., 172., 199.,\n",
       "       111., 179.,  64.,  22.,  28.,  72.,  78., 155.,  39.,  40., 230.,\n",
       "       176., 204., 206.,  41.,  30., 242., 177.,  48.,  57.,  38.,  52.,\n",
       "       144., 224., 228.,  33.,  44., 245., 165., 196., 205., 187.,  43.,\n",
       "       189., 234.,  36., 216., 201., 192., 184., 226., 200., 208., 328.,\n",
       "       178., 252., 227.,  58.,  47., 253., 221., 185.,  32., 232., 344.,\n",
       "       238., 212., 289.,  37., 220., 231., 235., 218., 341., 251.,  23.,\n",
       "       244., 237., 217., 209., 207., 260., 247., 241., 213., 202.,  24.,\n",
       "        29., 249., 229., 266., 223., 243., 233., 290.,  15., 214., 331.,\n",
       "       219., 240., 286., 288.,  14., 375., 239., 248.,  31., 277., 257.,\n",
       "        26., 354.,  25.,  18., 265., 357.,  27., 270.])"
      ]
     },
     "metadata": {},
     "output_type": "display_data"
    },
    {
     "name": "stdout",
     "output_type": "stream",
     "text": [
      "albumin\n"
     ]
    },
    {
     "data": {
      "text/plain": [
       "array([3.5, 5. , 3.9, 0. , 4.7, 4.1, 3.7, 2.8, 4.5, 4.3, 4. , 4.2, 4.4,\n",
       "       3.8, 4.6, 3.2, 3. , 4.8, 3.4, 3.6, 2.9, 5.1, 2.7, 3.1, 2.5, 3.3,\n",
       "       5.2, 4.9, 2.6, 2.3, 5.3, 5.5, 1.2, 2.4, 5.4, 2.1, 5.6, 2. ])"
      ]
     },
     "metadata": {},
     "output_type": "display_data"
    },
    {
     "name": "stdout",
     "output_type": "stream",
     "text": [
      "ALT\n"
     ]
    },
    {
     "data": {
      "text/plain": [
       "array([  14.,   31.,   30.,    0.,   22.,   15.,   19.,   23.,   13.,\n",
       "         10.,   17.,   16.,   25.,   33.,   12.,   18.,   26.,  104.,\n",
       "         34.,   28.,   21.,   44.,   47.,   38.,   27.,   20.,   29.,\n",
       "         24.,   40.,   39.,  172.,   58.,   59.,  116.,   32.,  185.,\n",
       "         78.,   54.,    8.,   43.,   61.,   37.,   11.,   95.,   41.,\n",
       "         77.,   36.,    7.,   60.,   80.,  144.,   46.,   52.,   35.,\n",
       "         56.,   42.,  106.,   65.,   70.,   74.,   48.,  194.,   73.,\n",
       "         99.,   49.,   75.,   51.,  105.,  133.,    9.,   64.,  154.,\n",
       "         89.,   63.,  103.,   45.,   66.,  124.,   50.,   53.,   55.,\n",
       "         85.,  186.,  151.,   86.,   57.,   79.,  109.,  100.,   62.,\n",
       "         76.,   92.,   93.,   83.,   97.,  132.,  178.,   98.,   87.,\n",
       "         68.,   69.,  107.,  123.,   82.,   72.,  115.,  131.,   81.,\n",
       "        176.,   84.,  120.,  128.,  138.,  188.,   90.,  110.,  149.,\n",
       "        217.,  111.,   96.,   67.,  114.,  118.,  130.,   71.,  285.,\n",
       "          4.,  117.,  174.,  102.,  167.,  147.,   91.,   94.,   88.,\n",
       "        134.,  150.,  121.,  140.,  122.,  156.,  819.,  219.,  143.,\n",
       "        293.,  179.,  125.,  180.,  127.,  393.,  101.,  265.,  182.,\n",
       "        171.,    6.,  168.,  197.,  207.,  181.,  201.,  135.,  126.,\n",
       "        329.,  177.,  290.,  145.,  343.,  218.,  148.,  113.,    5.,\n",
       "        136.,  228.,  112.,  155.,  175.,  137.,  152.,  191.,  146.,\n",
       "        443.,  139., 1363.,  206.,  163.,  164.,  183.,  200.,  300.,\n",
       "        317.,  159.,  199.,  204.,  274.,  536.,  119.,  269.,  209.,\n",
       "        232.,  166.,  108.,  281.,  187.,  129.,  280.,  319.,  208.,\n",
       "        189.,    3.,  420.,  141.,  213.,  158.,  211.])"
      ]
     },
     "metadata": {},
     "output_type": "display_data"
    },
    {
     "name": "stdout",
     "output_type": "stream",
     "text": [
      "AST\n"
     ]
    },
    {
     "data": {
      "text/plain": [
       "array([ 16.,  29.,  31.,   0.,  23.,  18.,  28.,  19.,  14.,  17.,  22.,\n",
       "        30.,  33.,  20.,  58.,  24.,  11.,  49.,  35.,  26.,  25.,  27.,\n",
       "        40.,  37.,  15.,  98.,  21.,  67.,  43.,  50.,  13., 128.,  86.,\n",
       "        89.,  48.,  34.,  46.,  39.,  36.,  41.,  59.,  57.,  38.,  64.,\n",
       "        60.,  81.,  12.,  42., 125.,  32., 172.,  92.,  54., 101.,  68.,\n",
       "        90., 145.,  44., 110.,  88.,  62.,  87.,  63.,  55.,  51.,  94.,\n",
       "        74.,  53.,  45.,  61., 117.,  82.,  71., 102.,   9., 104., 138.,\n",
       "        83.,  47.,  10.,  56., 115.,  75.,  52.,  72.,  66., 154., 162.,\n",
       "        73., 193., 141.,  70.,  96., 111., 105.,  69.,  76., 146., 181.,\n",
       "       131., 113., 112., 133.,  65., 106.,  91.,  79.,  93., 121., 124.,\n",
       "        80., 177., 122., 161.,   8., 400., 329.,  97.,  78., 150., 140.,\n",
       "       206.,  84.,  77., 132., 310.,  99., 175., 171., 196., 118.,  95.,\n",
       "       134., 109., 120., 153., 191., 163., 129., 296., 733., 189., 152.,\n",
       "       143., 234., 148.,  85., 107., 239., 265., 178., 203.,   7., 149.,\n",
       "       157., 119., 142., 165., 155., 226., 116., 100., 302., 229., 243.,\n",
       "       597., 139., 174., 156., 123., 294., 114., 882., 209., 275., 247.,\n",
       "       199., 126., 285., 338., 182., 151., 159., 190., 210., 832., 169.,\n",
       "       289., 198., 173., 272., 222., 108.])"
      ]
     },
     "metadata": {},
     "output_type": "display_data"
    },
    {
     "name": "stdout",
     "output_type": "stream",
     "text": [
      "ALP\n"
     ]
    },
    {
     "data": {
      "text/plain": [
       "array([ 74.,  48.,  77.,   0.,  47., 183.,  50.,  67.,  99.,  72.,  75.,\n",
       "       153.,  44.,  51.,  56.,  55.,  27.,  45.,  85.,  39.,  64.,  49.,\n",
       "       131.,  70.,  35.,  43., 145.,  78.,  84.,  29., 105.,  92.,  59.,\n",
       "       108.,  90.,  94.,  53.,  63.,  69.,  60.,  61.,  33.,  81., 149.,\n",
       "        93.,  96., 107.,  66.,  40., 110.,  80.,  87.,  83.,  98.,  52.,\n",
       "        68.,  82., 102., 121.,  71.,  88.,  97., 171.,  42.,  58.,  86.,\n",
       "        57., 132.,  91.,  89., 166., 129.,  23.,  65.,  79.,  62., 103.,\n",
       "        76.,  54., 118., 114., 106., 104., 159., 142.,  41., 113., 122.,\n",
       "        32.,  73., 117., 100., 120., 128., 151.,  30., 101., 109.,  37.,\n",
       "        38., 123., 112., 206., 136., 296., 115.,  46., 282., 168., 127.,\n",
       "       241., 174.,  36., 167.,  95.,  34., 147., 137., 196., 157., 126.,\n",
       "       333., 125.,  20., 134., 152., 199., 141., 144., 210., 156., 320.,\n",
       "       135., 139.,  28., 130.,  22., 194., 178., 155., 111., 170., 133.,\n",
       "        24., 181., 140., 116., 214., 259.,  26.,  31., 255., 161., 146.,\n",
       "       208.,  25., 148., 172., 160., 248., 158., 175., 138., 177., 646.,\n",
       "       119., 239., 188.,  21., 228., 209., 307., 124., 245., 198., 225.,\n",
       "        18., 626., 143., 150., 235., 377., 253.,  15., 154., 164., 325.,\n",
       "       202., 191., 162., 287., 165.,  14., 169., 173., 176., 186., 200.,\n",
       "       193., 185., 163., 633., 244., 349.,   7., 729., 216., 305., 257.,\n",
       "       234., 265., 207., 280., 271., 179., 236., 254., 203., 907.,   9.,\n",
       "       190., 189., 218., 264., 192., 211., 334., 352., 326., 384., 238.,\n",
       "       273., 224., 220., 184., 217., 221.,  16., 197., 251., 347., 275.,\n",
       "       205., 223., 317., 638., 201., 187., 182.])"
      ]
     },
     "metadata": {},
     "output_type": "display_data"
    },
    {
     "name": "stdout",
     "output_type": "stream",
     "text": [
      "BUN\n"
     ]
    },
    {
     "data": {
      "text/plain": [
       "array([ 6., 25., 13.,  0., 12.,  9., 19., 10., 16., 18., 11.,  8., 24.,\n",
       "        7.,  4., 14., 15.,  5., 31., 17., 22., 21., 39., 20.,  1., 27.,\n",
       "       33.,  3., 23., 26., 50.,  2., 28., 29., 37., 34., 57., 41., 48.,\n",
       "       30., 56., 65., 43., 36., 42., 35., 47., 98., 38., 54., 32., 40.,\n",
       "       49., 44., 45., 51., 63., 67., 72., 55., 46., 53., 81., 59., 90.,\n",
       "       61., 52., 95., 73., 86., 62., 69., 96., 58., 74., 60., 79., 64.])"
      ]
     },
     "metadata": {},
     "output_type": "display_data"
    },
    {
     "name": "stdout",
     "output_type": "stream",
     "text": [
      "calcium\n"
     ]
    },
    {
     "data": {
      "text/plain": [
       "array([ 8.9,  9.9,  9.5,  0. , 10.2, 10.3,  9. ,  9.1,  9.8,  9.4,  9.3,\n",
       "        9.6,  9.7,  9.2, 10. ,  8.8,  8.6,  8.7, 10.1, 10.4,  8.5,  8.3,\n",
       "        8.4, 10.6, 10.5, 10.8, 10.9, 11.2, 11.1,  7.2, 10.7, 12.7,  6.9,\n",
       "        8.2, 11.5, 11. ,  8.1,  7.9, 11.4,  7. , 11.3,  7.8,  8. ,  7.5,\n",
       "       12.1,  7.3,  7.6,  6.5, 14.8, 12. ,  7.7,  6.4, 11.7,  6.6])"
      ]
     },
     "metadata": {},
     "output_type": "display_data"
    },
    {
     "name": "stdout",
     "output_type": "stream",
     "text": [
      "CO2\n"
     ]
    },
    {
     "data": {
      "text/plain": [
       "array([23., 29., 27.,  0., 28., 26., 19., 22., 24., 21., 25., 20., 18.,\n",
       "       30., 16., 31., 34., 17., 33., 37., 32., 35., 15., 40., 13., 14.,\n",
       "       10., 38., 43.])"
      ]
     },
     "metadata": {},
     "output_type": "display_data"
    },
    {
     "name": "stdout",
     "output_type": "stream",
     "text": [
      "creatinine\n"
     ]
    },
    {
     "data": {
      "text/plain": [
       "array([ 0.8 ,  1.2 ,  0.  ,  0.7 ,  1.1 ,  0.9 ,  0.6 ,  0.5 ,  1.3 ,\n",
       "        1.  ,  1.5 ,  1.6 ,  0.4 ,  1.8 ,  1.4 ,  5.5 ,  5.  ,  1.9 ,\n",
       "        1.7 ,  8.6 ,  2.9 ,  3.7 ,  5.1 ,  3.3 ,  5.4 ,  6.2 ,  2.3 ,\n",
       "        2.6 ,  2.1 , 17.8 ,  2.5 ,  2.  ,  3.1 ,  3.2 ,  4.  ,  6.4 ,\n",
       "        2.2 ,  4.4 ,  2.8 ,  3.5 ,  4.3 ,  6.6 ,  0.52,  0.76,  0.72,\n",
       "        1.36,  0.62,  0.92,  0.82,  1.31,  7.22,  1.02,  0.96,  1.22,\n",
       "        0.97,  1.04,  1.25,  0.89,  1.12,  0.79,  0.77,  0.67,  0.66,\n",
       "        0.86,  0.42,  0.68,  1.14,  0.81,  0.54,  0.65,  0.69,  0.61,\n",
       "        0.75,  1.01,  0.87,  0.56,  0.73,  1.38,  0.63,  0.98,  1.05,\n",
       "        1.13,  1.26,  0.84,  1.06,  1.09,  0.91,  1.27,  1.92,  1.03,\n",
       "        2.42,  1.21,  1.42,  0.57,  0.74,  0.94,  1.08,  4.42,  0.83,\n",
       "        0.64,  0.59,  0.85,  1.28,  1.07,  1.62,  1.32,  0.99,  0.71,\n",
       "        0.88,  1.17,  0.55,  1.82,  1.18,  0.95,  0.93,  0.49,  0.53,\n",
       "        0.33,  0.78,  1.52,  1.47,  7.72,  7.42,  1.29,  1.46,  0.58,\n",
       "        1.24,  0.51,  1.19,  1.11,  2.79,  1.69,  1.23,  1.72,  1.59,\n",
       "        1.15,  2.22,  1.81,  1.67,  2.12,  0.46,  5.56,  0.43,  1.53,\n",
       "        0.44,  1.58,  1.49,  1.43,  1.86,  1.77,  1.33,  1.73,  5.32,\n",
       "        1.16,  1.94,  1.48,  3.32,  1.39,  1.54,  1.71,  2.66,  1.41,\n",
       "        1.91,  1.35,  1.66,  1.65,  3.72,  2.21,  0.41,  0.31,  1.34,\n",
       "        0.45,  1.68,  1.37,  1.57,  2.32,  1.63,  2.36,  0.48,  1.95,\n",
       "        1.64,  8.32,  0.47,  1.44,  3.22,  0.32,  7.8 ,  2.02,  2.16,\n",
       "        2.52,  2.57,  2.11,  1.96,  2.82,  3.12,  0.37,  4.92,  1.78,\n",
       "        1.61,  2.72,  7.7 ,  2.54,  1.55,  9.13,  7.15,  6.34,  1.76,\n",
       "        2.03,  4.9 ,  1.45,  0.34,  2.78,  1.51,  0.38,  5.57,  1.56,\n",
       "        2.34,  3.04,  1.87,  9.38,  0.39,  8.35,  5.39,  1.79,  2.26,\n",
       "        6.48,  1.75,  1.85,  2.06,  1.93,  5.42,  1.74,  2.23,  2.65,\n",
       "        2.27,  2.77, 15.66,  8.51,  1.98,  6.24,  5.9 ,  2.41,  1.84,\n",
       "        3.38,  1.99,  2.69,  7.6 ,  7.31,  5.98,  2.05,  3.15,  2.01,\n",
       "        3.28,  3.4 ,  0.35, 10.98,  2.18,  1.89,  6.18,  0.16,  2.87,\n",
       "        3.46,  2.76,  7.33,  7.46,  5.54,  2.04,  3.31,  2.95,  2.81,\n",
       "        6.29,  9.51,  9.26,  0.3 ,  3.36,  2.24,  2.37,  5.14,  6.31,\n",
       "        2.49,  2.17,  2.39,  4.28,  2.43,  4.25,  2.14,  2.47,  5.43,\n",
       "        3.74,  2.07,  5.95,  4.27,  2.98,  2.31,  5.45,  1.83,  2.51,\n",
       "        3.48,  4.05,  4.35,  6.14,  4.96, 16.64,  2.08,  2.96,  5.19,\n",
       "        7.74,  5.36,  6.99,  6.69, 17.41,  3.62,  2.44, 12.48,  2.58,\n",
       "        2.25,  1.88,  6.3 ,  2.19,  5.16,  2.29,  5.47,  5.62,  8.07,\n",
       "        0.36,  2.73,  6.11,  2.92,  5.09,  4.21,  2.33,  5.07,  6.73,\n",
       "        3.44, 10.22,  3.53,  9.36,  2.09,  1.97, 10.35,  2.75,  5.38,\n",
       "        3.42,  2.67,  2.91,  2.4 ,  3.01,  7.43,  4.11,  2.59,  4.46,\n",
       "        6.75,  3.85,  6.61,  2.68,  2.53,  2.61,  0.29,  4.76,  6.19,\n",
       "        2.15,  2.62,  2.45,  2.74,  8.36, 12.74,  3.33,  9.66,  0.25])"
      ]
     },
     "metadata": {},
     "output_type": "display_data"
    },
    {
     "name": "stdout",
     "output_type": "stream",
     "text": [
      "GGT\n"
     ]
    },
    {
     "data": {
      "text/plain": [
       "array([  17.,   22.,   33.,    0.,   13.,   15.,   12.,   16.,   14.,\n",
       "          8.,   23.,   20.,   44.,   24.,   19.,   30.,   21.,   11.,\n",
       "          9.,   10.,   41.,    6.,   28.,  133.,   26.,   37.,   31.,\n",
       "         42.,   45.,   46.,   95.,   49.,   35.,  123.,   27.,   85.,\n",
       "         38.,   25.,   48.,   69.,   67.,   29.,    5.,   56.,   91.,\n",
       "         36.,  120.,   18.,  200.,   82.,  101.,  115.,  225.,    7.,\n",
       "         60.,   52.,   43.,   64.,   39.,  300.,   34.,   87.,   32.,\n",
       "         57.,   68.,   50.,   40.,    4.,  172.,   58.,  121.,   76.,\n",
       "        181.,   70.,  114.,   98.,  107.,  102.,   47.,  147.,   62.,\n",
       "         84.,  105.,  117.,   54.,  271.,  169.,  219.,  138.,   77.,\n",
       "        190.,   93.,   55.,   74.,   51.,  131.,  228.,  118.,   73.,\n",
       "         80.,  371., 1479.,  111.,  478.,   59.,  180.,  129.,  195.,\n",
       "         89.,   53.,   96.,   72.,   71.,  125.,  344.,   86.,   63.,\n",
       "         83.,  141.,  221.,  351.,   66.,  136.,   61.,  150.,  213.,\n",
       "         90.,  409.,  234.,  233.,   97.,   78.,  230.,  302.,  104.,\n",
       "        185.,  135.,  411.,  299.,  116.,  109.,  108., 1681.,  128.,\n",
       "         65.,  163.,   79.,   99.,  106.,  749.,  312.,  645.,  257.,\n",
       "        144.,  112.,  148.,  248.,  184.,  292.,  113.,  164.,  723.,\n",
       "        618.,  177.,  110.,  306.,   88.,  161.,   75.,  235.,  103.,\n",
       "        146.,  166.,  170.,  550.,  175.,  182.,  165.,   81.,  153.,\n",
       "        156.,  100.,  404.,  183.,  130.,  224.,  290.,  140.,  240.,\n",
       "        142.,  443.,  204.,  298.,  160.,  558.,  349.,   94.,  137.,\n",
       "        346.,  189.,  418.,  149.,  250.,  254.,  198.,  648.,   92.,\n",
       "        139.,  232.,  152.,  127.,  362.,  157.,  575.,  438.,  158.,\n",
       "        119.,  173.,  236.,  214.,  191.,  393.,  356.,  574.,  287.,\n",
       "        458.,  892.,  227.,  187.,  194.,  174.,  394.,  238.,  171.,\n",
       "        275.,  512.,  209.,  126.,  592.,  159.,  683.,  237.,  217.,\n",
       "        167.,  291.,  155.,  253.,  428.,  203.,  260.,  468.,  295.,\n",
       "        206.,  176.,  197.,  132.,  229.,  301.,  242.,  124.,  223.,\n",
       "        661.,  247.,  151.,  311.,  381.,  207.,  412.,  134.,  355.,\n",
       "        168.,  212.,  154.,  382.,  211.,  245.,  316., 1012.,  314.,\n",
       "        186.,  475.,  199.,  122.,  143.,  329.,  208.,  282., 1116.,\n",
       "        544.,  391.,  192.,  416.,  324.,  196.,  263.,  239.,  256.,\n",
       "        251.,  315.,  289.,  244.,  304., 1136.,  463.,  361.,  296.,\n",
       "        342.,  328.,  552.,  193.,  440.,  337.,  423.,  436.,  424.,\n",
       "        280.,  319., 1197.,  202.,  279.,  365.,  676.,  396.,  179.,\n",
       "        462.,  908.,  220.,  270.,  654.,  867.,  205.,  288.,  178.,\n",
       "        210.,  427.,  284.,  776.,  255.,  563., 1061.,  378.,  347.,\n",
       "        226.,  459.,  341.,  330.,  188.,  717., 1363.,  261.,  278.,\n",
       "          2.,  215.,  326.,  145.,  218.,  264.,  321.,  293.,  241.,\n",
       "        269.,  286.,  369.,  650.,  460.,  410.,  570.,    3.,  708.,\n",
       "       1192.,  216.,  305.,  309.,  310.,  386.,  646.,  414.,  262.,\n",
       "        398.,  374.,  283.,  506.])"
      ]
     },
     "metadata": {},
     "output_type": "display_data"
    },
    {
     "name": "stdout",
     "output_type": "stream",
     "text": [
      "glucose\n"
     ]
    },
    {
     "data": {
      "text/plain": [
       "array([ 87., 155.,  93.,   0.,  76.,  81.,  92.,  94.,  82.,  72.,  88.,\n",
       "        90., 105., 119.,  61.,  99., 148.,  85., 151., 111.,  73., 159.,\n",
       "       100., 162.,  95.,  66.,  78., 137., 106.,  91., 141., 109.,  86.,\n",
       "        77.,  96., 102.,  71.,  97., 130.,  89.,  75., 146.,  83., 101.,\n",
       "       112.,  84., 133.,  98.,  70.,  58., 107., 118., 184.,  74., 134.,\n",
       "        79.,  59., 236., 218., 264., 110., 178., 121., 222.,  65., 103.,\n",
       "       145., 204., 124.,  80., 114., 104., 331., 117., 362., 115., 157.,\n",
       "       194., 325., 254., 125., 341., 132.,  62., 147., 126., 181., 113.,\n",
       "       156., 129.,  55., 128., 152., 116.,  67., 209., 140., 135., 258.,\n",
       "       197., 108., 273., 144., 189., 120., 195.,  68.,  60., 122., 136.,\n",
       "        52., 225.,  53.,  56., 201.,  63., 142., 322., 123., 131., 139.,\n",
       "       165., 171., 127., 351., 398., 154., 206., 299., 205., 158., 213.,\n",
       "       164., 309.,  57., 219., 183., 274., 166.,  69., 143., 235.,  64.,\n",
       "       354., 198., 138., 211., 324., 376., 272., 244., 149., 168., 284.,\n",
       "        50.,  54.,  51., 247., 203., 263., 188.,  49., 191., 176., 153.,\n",
       "       169., 293., 291., 367., 307., 179., 150., 270.,  43., 261., 243.,\n",
       "       359., 196., 280., 174., 366., 228., 185., 350., 289., 192., 255.,\n",
       "       173.,  44., 252., 249., 161., 253., 232., 259., 281., 318., 170.,\n",
       "       306., 231., 229., 415., 248., 223., 428., 175., 453., 308., 288.,\n",
       "       374., 513., 182., 160., 266., 190., 238., 330., 214., 200., 186.,\n",
       "       251., 208., 406., 199., 368., 215., 167., 343., 311., 282., 386.,\n",
       "       207., 163., 227., 220., 436.,  33., 210., 269.,  48., 265.,  40.,\n",
       "       245., 287., 187., 267., 302., 212., 446.,  41., 423., 323., 202.,\n",
       "       172., 326., 305.,  47., 301., 310., 193., 217.,  38., 348., 399.,\n",
       "       262., 443., 358., 304., 360., 271., 240., 177., 327., 268., 242.,\n",
       "       383., 333., 230., 407., 372., 221., 260., 286., 559., 279., 276.,\n",
       "       216., 292., 256., 401., 224., 403., 369., 237., 294., 300., 537.,\n",
       "       408., 290., 226., 239., 382., 303., 481., 315., 319., 777., 275.,\n",
       "       328.,  46., 296., 357., 277., 313., 321., 344., 180., 465., 340.,\n",
       "       297.,  34., 339., 373., 246., 458., 338., 283., 285., 233., 332.,\n",
       "       234., 375., 345., 335., 329., 336., 298., 352., 482.,  42., 241.,\n",
       "       278., 337., 402.,  35., 617., 468., 320., 250., 526., 499., 605.,\n",
       "       361., 497., 391., 554., 567., 417., 442., 295., 394., 568., 450.,\n",
       "       312., 577., 393., 389., 257., 498., 347., 439., 370., 521., 371.,\n",
       "       384., 494., 349., 419.,  19., 455., 463., 409., 484., 379., 461.,\n",
       "       365., 478., 412., 447., 411., 381., 342., 610., 434., 353., 501.,\n",
       "       346., 314., 385., 489., 626., 496., 430.])"
      ]
     },
     "metadata": {},
     "output_type": "display_data"
    },
    {
     "name": "stdout",
     "output_type": "stream",
     "text": [
      "iron\n"
     ]
    },
    {
     "data": {
      "text/plain": [
       "array([ 51.,  89.,  84.,   0., 158., 114.,  76., 142.,  54.,  87., 213.,\n",
       "       117., 224.,  93.,  37.,  77.,  75., 124., 131.,  79.,  57.,  63.,\n",
       "        72.,  73.,  78.,  74.,  83.,  60.,  91.,  56.,  53., 147., 128.,\n",
       "        21., 145., 118., 135., 144., 119.,  95., 113., 103.,  59., 122.,\n",
       "       111.,  67., 108., 132.,  99.,  88.,  47., 130.,  82.,  92.,  61.,\n",
       "        70.,  43.,  80., 163., 106., 127., 107.,  90.,  49., 125.,  40.,\n",
       "        69.,  96.,  86.,  45.,  28.,  64., 129.,  65., 100.,  41., 101.,\n",
       "        98.,  19.,  52.,  58.,  35.,  94., 137.,  68.,  29.,  46., 121.,\n",
       "       120., 170.,  17.,  33.,  48., 123., 126.,  97.,  85., 157.,  81.,\n",
       "       105.,  71.,  31.,  25., 150., 102., 153., 143., 148., 199.,  38.,\n",
       "        27., 202., 164., 139.,  22., 140., 193.,  55.,  34.,  36., 133.,\n",
       "       104.,  10., 112.,  44., 172.,  24., 154., 160.,  50.,  32.,  62.,\n",
       "       116., 115., 162., 155.,  15., 180., 138., 210.,  66., 136.,  20.,\n",
       "       207.,  16., 178.,  23., 134., 203., 109.,  39., 233., 141.,  42.,\n",
       "        26., 177.,  11., 151., 110., 195., 226., 209., 165., 179.,  14.,\n",
       "        30., 161., 156., 181., 192., 221., 190., 167., 152., 168., 149.,\n",
       "         7., 183., 217., 171.,  12., 169., 220., 176., 241., 216., 166.,\n",
       "       191.,  18., 159., 146., 250., 175.,  13., 253.,   5., 182., 201.,\n",
       "       239., 219., 187., 215., 197., 189., 173., 194., 188., 297., 174.,\n",
       "       300., 186., 281.,   8., 245., 222., 261., 200., 208., 196., 382.,\n",
       "       230., 315., 205., 212.,   9., 242., 206., 198., 235., 236., 204.,\n",
       "       248., 249., 232., 237., 246., 185., 184., 279., 387., 266., 287.,\n",
       "       294., 227., 256., 262., 295., 223., 343., 257., 243., 265., 254.,\n",
       "       228., 255., 225., 231., 238., 218., 211.,   6., 214., 267., 240.,\n",
       "       271., 299., 258., 259., 302., 428., 244., 275., 234., 283., 278.,\n",
       "       229., 325., 260., 247., 286.,   2., 293., 476., 292., 288.])"
      ]
     },
     "metadata": {},
     "output_type": "display_data"
    },
    {
     "name": "stdout",
     "output_type": "stream",
     "text": [
      "LHD\n"
     ]
    },
    {
     "data": {
      "text/plain": [
       "array([ 105.,  165.,  158.,    0.,   93.,  120.,  153.,  150.,  125.,\n",
       "         88.,   97.,  127.,  106.,  126.,  116.,  154.,  148.,  104.,\n",
       "        100.,  118.,  110.,  235.,  115.,  176.,  134.,  117.,  103.,\n",
       "        102.,  101.,  142.,  166.,  151.,  155.,  143.,  122.,  129.,\n",
       "        136.,   99.,  111.,  114.,  128.,  133.,  135.,  193.,  121.,\n",
       "        167.,  132.,  123.,  113.,  140.,  149.,  181.,  138.,  139.,\n",
       "        131.,  109.,  238.,   98.,  157.,  108.,  160.,  175.,   81.,\n",
       "        208.,   96.,  119.,  146.,   90.,   89.,  159.,  144.,   87.,\n",
       "        152.,  137.,  107.,  112.,  124.,  179.,  169.,   95.,  185.,\n",
       "        145.,  189.,  182.,  162.,  164.,   86.,  141.,   82.,  197.,\n",
       "         83.,  130.,  178.,  170.,  204.,   84.,  180.,  184.,  161.,\n",
       "        173.,  163.,  200.,  183.,   94.,  231.,  187.,  346.,  147.,\n",
       "        199.,   85.,  156.,  186.,  168.,   67.,   77.,   70.,   92.,\n",
       "        213.,  245.,   79.,  174.,  203.,  201.,   91.,  195.,  177.,\n",
       "        228.,  188.,   60.,  268.,  209.,  171.,   73.,  191.,  336.,\n",
       "        226.,  205.,  233.,  274.,   76.,  218.,  192.,  194.,   71.,\n",
       "         72.,  326.,   74.,  212.,  225.,   54.,  202.,  172.,   75.,\n",
       "        243.,   78.,   65.,  230.,  207.,  223.,   68.,  217.,  190.,\n",
       "        216.,   80.,   53.,  255.,  198.,  242.,  219.,   62.,   57.,\n",
       "        220.,  265.,  214.,  206.,  196.,  296.,  224.,  210.,  759.,\n",
       "        221.,  263.,  211.,  581.,  241.,  378.,  262.,   66.,  227.,\n",
       "        337.,   69.,  237.,  264.,  229.,  222.,  267.,   64.,   59.,\n",
       "        246.,  293.,  285.,  215.,  244.,  341.,  251.,  260.,  277.,\n",
       "         52.,  405.,  234.,  430.,  350.,   63.,   50.,  256.,  250.,\n",
       "        249.,  266.,  364.,  485.,  253.,   37.,  276.,  257.,  273.,\n",
       "        254.,   51.,  344.,  232., 1539.,  322.,  271.,  318.,  476.,\n",
       "          4.,  311.,  286.,  301., 1092.,   46.,  269.,  673.,  282.,\n",
       "        261.,  252.,  726.,  345.,   56.,  236.,   58.,   32.,   55.,\n",
       "        343.,  306.,  247.,  491.,  240.,  356.,  308.,   61.,  367.,\n",
       "        259.,  292.,  303.,  305.,  577.,  452.,  552.,   39.,  334.,\n",
       "       1274.,  294.,  239.,  429.,  333.,   38.,  339.,  510.,  361.,\n",
       "        317.,  272.,  309.,  248.,  369.,  278.,  330.,  516.,  314.,\n",
       "        275.,  289.,  270.,  779.,  258.,  505.,  421.,  348.,  299.,\n",
       "        349.,  281.,  389.,  295.,  279.,  288.,  340.,  302.,  415.,\n",
       "        469.])"
      ]
     },
     "metadata": {},
     "output_type": "display_data"
    },
    {
     "name": "stdout",
     "output_type": "stream",
     "text": [
      "phosphorus\n"
     ]
    },
    {
     "data": {
      "text/plain": [
       "array([ 3.4 ,  3.3 ,  0.  ,  4.5 ,  4.7 ,  4.3 ,  3.6 ,  4.  ,  3.9 ,\n",
       "        3.5 ,  3.1 ,  3.7 ,  4.2 ,  4.6 ,  3.2 ,  4.4 ,  3.8 ,  4.1 ,\n",
       "        2.9 ,  5.3 ,  4.8 ,  5.2 ,  5.  ,  5.6 ,  3.  ,  5.4 ,  5.1 ,\n",
       "        2.8 ,  4.9 ,  2.6 ,  2.4 ,  2.5 ,  2.2 ,  2.7 ,  8.1 ,  5.8 ,\n",
       "        6.1 ,  5.7 ,  6.6 ,  2.3 ,  6.  ,  2.1 ,  6.5 ,  5.5 ,  2.  ,\n",
       "        7.2 ,  1.9 ,  1.5 ,  7.6 ,  6.7 ,  5.9 ,  6.2 ,  6.3 ,  7.5 ,\n",
       "        1.7 ,  1.8 ,  6.9 ,  1.6 ,  6.4 , 10.9 ,  3.56,  1.  ,  8.2 ,\n",
       "        9.6 ,  8.9 ])"
      ]
     },
     "metadata": {},
     "output_type": "display_data"
    },
    {
     "name": "stdout",
     "output_type": "stream",
     "text": [
      "bilirubin\n"
     ]
    },
    {
     "data": {
      "text/plain": [
       "array([4.00000000e-01, 1.00000000e+00, 5.00000000e-01, 0.00000000e+00,\n",
       "       7.00000000e-01, 1.30000000e+00, 3.00000000e-01, 6.00000000e-01,\n",
       "       1.10000000e+00, 1.50000000e+00, 8.00000000e-01, 1.20000000e+00,\n",
       "       2.00000000e-01, 9.00000000e-01, 1.40000000e+00, 2.40000000e+00,\n",
       "       1.80000000e+00, 1.60000000e+00, 2.80000000e+00, 1.70000000e+00,\n",
       "       1.90000000e+00, 3.20000000e+00, 2.60000000e+00, 1.00000000e-01,\n",
       "       3.60000000e+00, 2.00000000e+00, 2.30000000e+00, 1.31000000e+01,\n",
       "       2.10000000e+00, 2.50000000e+00, 2.90000000e+00, 2.20000000e+00,\n",
       "       3.10000000e+00, 2.70000000e+00, 7.30000000e+00, 4.10000000e+00,\n",
       "       4.40000000e+00, 3.30000000e+00, 3.90000000e+00, 7.10000000e+00,\n",
       "       3.40000000e-01, 3.20000000e-01, 2.70000000e-01, 2.50000000e-01,\n",
       "       8.50000000e-01, 1.00000000e-02, 2.00000000e-02, 5.39760535e-79,\n",
       "       8.00000000e-02, 4.00000000e-02, 7.00000000e-02, 3.00000000e-02,\n",
       "       5.00000000e-02, 9.00000000e-02, 6.00000000e-02, 3.00000000e+00])"
      ]
     },
     "metadata": {},
     "output_type": "display_data"
    },
    {
     "name": "stdout",
     "output_type": "stream",
     "text": [
      "total_protein\n"
     ]
    },
    {
     "data": {
      "text/plain": [
       "array([ 6.9 ,  7.2 ,  7.1 ,  0.  ,  7.3 ,  6.3 ,  7.5 ,  6.4 ,  6.8 ,\n",
       "        6.6 ,  7.  ,  6.5 ,  6.7 ,  6.1 ,  7.4 ,  7.6 ,  8.1 ,  7.9 ,\n",
       "        5.9 ,  8.2 ,  7.7 ,  6.2 ,  8.  ,  7.8 ,  5.7 ,  5.6 ,  8.3 ,\n",
       "        6.  ,  8.7 ,  5.5 ,  8.6 ,  5.8 ,  4.7 ,  5.2 ,  5.3 ,  8.5 ,\n",
       "        9.  ,  5.4 ,  8.4 ,  9.3 ,  9.9 ,  4.9 ,  9.1 , 10.9 ,  8.9 ,\n",
       "        8.8 ,  5.1 ,  9.5 , 10.4 ,  3.4 , 10.3 ,  9.7 , 10.1 , 11.3 ,\n",
       "       10.8 ,  9.2 ,  9.4 ,  5.38, 10.  ])"
      ]
     },
     "metadata": {},
     "output_type": "display_data"
    },
    {
     "name": "stdout",
     "output_type": "stream",
     "text": [
      "uric_acid\n"
     ]
    },
    {
     "data": {
      "text/plain": [
       "array([ 4.9,  7.2,  7.5,  0. ,  4.3,  6. ,  5.9,  4.8,  5.4,  4.2,  7.4,\n",
       "        6.4,  6.5,  5.5,  3.9,  6.7,  7.6,  4.7,  3.7,  4.1,  8.1,  4.5,\n",
       "        5.6,  5.8,  5.7,  2.4,  3.3,  3. ,  7.7,  5.3,  7.1,  6.9,  4. ,\n",
       "        5. ,  3.8,  6.3,  5.2,  4.6,  6.8,  2.5,  8.4,  6.1,  7.3,  3.2,\n",
       "        4.4,  3.6,  8.3,  8.7,  2.6,  5.1,  6.2,  9. ,  3.4,  8.8,  2.7,\n",
       "        3.5,  6.6,  7.9,  2.8,  3.1,  7. ,  2.9,  8. ,  7.8,  9.4,  8.5,\n",
       "        8.2,  2.3,  8.6,  9.1,  9.2,  9.5,  1.2,  9.3,  1.4,  9.8,  1.9,\n",
       "        8.9, 10.2,  9.7,  2.1, 10.8, 17.6,  2.2, 10.6,  9.9, 10.3, 10.9,\n",
       "        0.5, 10.4, 11. , 10.1,  1.6,  9.6, 10.5,  2. , 10.7, 11.8, 10. ,\n",
       "       11.6, 11.7, 11.2, 11.5,  1.7, 12.3, 13.1, 12.4, 11.4,  1.8, 11.3,\n",
       "       11.9, 12.2,  0.8, 13.3,  1.5,  0.4, 11.1,  0.7,  1.1, 13.7, 18. ,\n",
       "       13. , 12.1, 15.1])"
      ]
     },
     "metadata": {},
     "output_type": "display_data"
    },
    {
     "name": "stdout",
     "output_type": "stream",
     "text": [
      "sodium\n"
     ]
    },
    {
     "data": {
      "text/plain": [
       "array([137., 140., 139.,   0., 143., 138., 133., 136., 142., 135., 134.,\n",
       "       141., 132., 144., 145., 123., 131., 107., 146., 128., 129.,  99.,\n",
       "       130., 121., 127., 124., 160., 147., 117., 126., 119., 157., 151.,\n",
       "       120., 148., 114., 153., 150., 154., 161., 149.])"
      ]
     },
     "metadata": {},
     "output_type": "display_data"
    },
    {
     "name": "stdout",
     "output_type": "stream",
     "text": [
      "potassium\n"
     ]
    },
    {
     "data": {
      "text/plain": [
       "array([4.1 , 3.8 , 0.  , 4.4 , 4.  , 3.7 , 3.5 , 4.2 , 4.3 , 3.9 , 3.4 ,\n",
       "       3.6 , 4.6 , 5.1 , 4.7 , 5.  , 5.3 , 4.8 , 4.5 , 3.2 , 2.9 , 4.9 ,\n",
       "       3.3 , 3.1 , 5.2 , 3.  , 2.8 , 2.4 , 5.6 , 5.4 , 5.8 , 6.  , 5.9 ,\n",
       "       2.5 , 2.6 , 2.7 , 5.5 , 5.7 , 7.3 , 2.3 , 4.55, 4.08, 4.16, 4.31,\n",
       "       4.27, 3.91, 3.97, 4.61, 4.91, 3.51, 2.91, 3.58, 3.52, 3.94, 4.15,\n",
       "       4.12, 3.99, 4.34, 4.25, 4.13, 4.06, 4.02, 3.63, 4.19, 3.85, 3.66,\n",
       "       4.63, 4.52, 4.36, 4.03, 3.68, 4.58, 3.43, 3.64, 3.84, 4.26, 3.88,\n",
       "       3.69, 4.05, 3.77, 3.93, 3.18, 3.65, 4.14, 3.54, 3.78, 3.98, 3.42,\n",
       "       4.43, 3.59, 3.55, 4.18, 3.92, 4.42, 3.82, 3.96, 3.76, 4.28, 3.72,\n",
       "       4.32, 4.29, 3.83, 4.21, 3.67, 4.69, 3.56, 4.45, 3.81, 3.49, 5.12,\n",
       "       3.71, 3.11, 3.95, 4.04, 3.41, 4.09, 4.65, 3.74, 4.56, 4.07, 4.11,\n",
       "       3.89, 3.46, 4.22, 4.57, 4.82, 4.44, 4.53, 3.61, 3.86, 3.79, 3.32,\n",
       "       4.24, 3.47, 3.28, 3.62, 3.48, 4.54, 5.15, 4.01, 4.39, 3.45, 3.25,\n",
       "       4.51, 4.46, 3.35, 4.23, 2.96, 3.87, 3.29, 3.34, 4.49, 3.21, 3.57,\n",
       "       3.08, 3.75, 3.33, 4.33, 4.71, 4.17, 4.48, 3.22, 4.68, 5.22, 3.27,\n",
       "       3.73, 4.98, 4.73, 3.39, 4.35, 3.26, 4.94, 4.37, 3.53, 2.95, 5.36,\n",
       "       3.38, 3.44, 3.37, 4.78, 4.76, 3.06, 4.75, 4.95, 4.38, 3.36, 4.93,\n",
       "       3.07, 4.72, 5.04, 4.89, 4.41, 4.64, 2.99, 3.04, 3.31, 4.97, 4.92,\n",
       "       2.82, 3.12, 4.81, 4.74, 4.66, 3.03, 3.14, 2.63, 4.79, 3.15, 3.17,\n",
       "       3.23, 5.05, 5.21, 4.96, 3.19, 2.89, 4.99, 4.67, 2.66, 4.47, 4.77,\n",
       "       4.83, 5.86, 5.03, 5.52, 3.24, 5.51, 5.09, 4.59, 4.88, 2.84, 2.92,\n",
       "       4.62, 2.88, 4.87, 3.09, 5.01, 5.08, 5.02, 5.37, 4.84, 3.16, 3.13,\n",
       "       6.6 ])"
      ]
     },
     "metadata": {},
     "output_type": "display_data"
    },
    {
     "name": "stdout",
     "output_type": "stream",
     "text": [
      "chloride\n"
     ]
    },
    {
     "data": {
      "text/plain": [
       "array([106., 102., 103.,   0., 104., 105., 108.,  95., 100., 107., 101.,\n",
       "        97.,  98., 111.,  99., 109., 110.,  92.,  94.,  96.,  79.,  91.,\n",
       "        93.,  73.,  89., 112.,  90., 115., 113., 117.,  88.,  84., 116.,\n",
       "        87., 118., 119., 114.,  86., 120.,  82.,  83.])"
      ]
     },
     "metadata": {},
     "output_type": "display_data"
    },
    {
     "name": "stdout",
     "output_type": "stream",
     "text": [
      "osmolality\n"
     ]
    },
    {
     "data": {
      "text/plain": [
       "array([271., 287., 277.,   0., 283., 275., 281., 276., 280., 274., 279.,\n",
       "       266., 273., 284., 282., 269., 272., 267., 270., 278., 262., 285.,\n",
       "       288., 268., 265., 261., 289., 286., 290., 243., 292., 298., 215.,\n",
       "       291., 294., 301., 264., 297., 296., 293., 258., 201., 260., 299.,\n",
       "       307., 295., 304., 263., 259., 300., 246., 302., 252., 248., 255.,\n",
       "       257., 314., 309., 250., 254., 256., 253., 310., 235., 313., 241.,\n",
       "       321., 228., 306., 303., 244., 315., 237., 308., 323., 249., 322.,\n",
       "       305.])"
      ]
     },
     "metadata": {},
     "output_type": "display_data"
    },
    {
     "name": "stdout",
     "output_type": "stream",
     "text": [
      "globulin\n"
     ]
    },
    {
     "data": {
      "text/plain": [
       "array([3.4, 2.2, 3.2, 0. , 2.5, 2.6, 3.6, 2.9, 2.7, 2.3, 3.1, 2.4, 3.5,\n",
       "       2.1, 3. , 2.8, 3.3, 3.7, 1.9, 3.9, 4.7, 4.2, 2. , 3.8, 1.8, 4. ,\n",
       "       4.3, 4.1, 4.6, 4.5, 4.4, 5.6, 6.6, 1.5, 5.4, 7.1, 4.8, 5.5, 5.3,\n",
       "       6.2, 4.9, 5. , 1. , 5.9, 6.5, 5.8, 5.7, 1.7, 5.2, 1.6, 6.7, 6.3,\n",
       "       7.5, 7.2, 1.3, 1.4, 0.7, 5.1, 0.8, 1.2, 6. , 7. ])"
      ]
     },
     "metadata": {},
     "output_type": "display_data"
    },
    {
     "name": "stdout",
     "output_type": "stream",
     "text": [
      "white_BCC\n"
     ]
    },
    {
     "data": {
      "text/plain": [
       "array([  5.3,   7.5,   6.6,   0. ,   5.9,   9.6,  25. ,   6.5,   4.3,\n",
       "         9.7,   8.4,   6.9,   4.6,   8. ,   9. ,   6.1,   6.8,   9.5,\n",
       "         6.4,   8.7,   4.9,   7.4,   6.3,  10.6,  10.4,   8.1,   8.9,\n",
       "        12.9,   8.2,   9.3,   7.1,   5.1,   7.6,   5.4,   9.2,   7.8,\n",
       "        10. ,   5.7,  17.3,   5.8,   5.6,   8.6,  11.6,   9.1,   7.2,\n",
       "        13.9,   8.8,  10.1,  12.2,   4.4,  11.4,   6.2,  12.7,   7.9,\n",
       "        12.3,   5.2,  16.7,   9.4,   4.7,   8.5,   9.9,   5.5,  10.3,\n",
       "         6.7,   8.3,   5. ,   3.7,   4.1,   7.3,   6. ,   7.7,  10.8,\n",
       "        11.7,  10.2,  11.2,  10.7,  10.9,   3. ,   4.8,  11.3,   7. ,\n",
       "        12.4,  13.3,   4. ,  14.1,  12.6,   3.4,  13.8,   9.8,  11.5,\n",
       "        11.8,   3.3,  11.1,   3.9,  11.9,   4.5,  11. ,  13.4,   3.5,\n",
       "        10.5,  17. ,  15.1,  12. ,  13.2,   4.2,  15. ,  16.5,  12.8,\n",
       "        15.8,   3.1,   2.9,  12.1,  14.5,  13.1,   3.2,  19.1,  18.8,\n",
       "        20. ,  15.4,   3.6,  15.6,  13. ,  16.9,  17.5,  52.2,   3.8,\n",
       "        13.6,  14.8,  12.5,   2.8,  16.1,  14.4,  19.7,  55.9,  16.4,\n",
       "         2.7,  13.5,  28.3,  14.7,  16.8,  15.3,  42.5,   2.5,  18.4,\n",
       "        13.7,  18.5,   2.3,  19.3,  18. ,  16.3,  39.2,   2.6,  18.1,\n",
       "        14.3,  43.9,  20.7,  17.1,  14. ,  14.6,  30.3,  14.9,   1.5,\n",
       "        16.6,  28.7,  14.2,  19.8,  15.9,   1.6,  15.2,  83.2,   1.7,\n",
       "        16. ,  17.2,  22. ,  15.7,  37.4,  21.3,  99.9,  26.3,  68.3,\n",
       "        15.5,  54.7,   2. ,  34. ,  18.2,  55.7,  17.9,  19.9,  21.4,\n",
       "        31.4,  17.4,  23.2,  17.7,  18.7,  18.9,  16.2,  21. ,  17.8,\n",
       "       117.2,  44.8,   1.4,  23. ,  19. ,  22.8,  20.6,   1.9,   2.4,\n",
       "        20.3,  38.1, 400. ,  41.9])"
      ]
     },
     "metadata": {},
     "output_type": "display_data"
    },
    {
     "name": "stdout",
     "output_type": "stream",
     "text": [
      "lymphocyte_percent\n"
     ]
    },
    {
     "data": {
      "text/plain": [
       "array([35.8, 29.4, 29.1,  0. , 25.6, 22.1, 69.6, 18.8, 37.8, 17.2, 33.3,\n",
       "       36. , 35.9, 21.2, 28.3, 23.4, 27.3, 35.3, 24.9, 20.2, 31. , 32. ,\n",
       "       34.4, 30.2, 13. , 24.1, 38.3, 18.3, 36.5, 19. , 32.8, 39.6, 22.9,\n",
       "       24.2, 33.4, 33.7, 26.3, 22.7, 22.2, 35.7, 19.4, 27. , 33.8, 37.9,\n",
       "       20. , 27.8, 23.1, 35. , 49.9, 27.9, 76.4, 31.9, 54.9, 35.2, 29.5,\n",
       "       23.7, 31.5, 30.9, 27.1, 27.7, 36.9, 36.1, 41.6, 19.3, 30.3, 14.1,\n",
       "       28.8, 29.8, 23.8, 34.2, 15.9, 36.4, 29. , 29.2, 32.1, 41. , 10.3,\n",
       "       37.7, 28.7, 16.7, 21.1, 25. , 31.3, 28.9, 30.5, 20.7, 14.6, 23.5,\n",
       "       17.3, 17.6, 26. , 20.3, 31.6, 48.7, 35.1, 12.6, 40.8, 24.5, 39.5,\n",
       "       26.1, 43.4, 35.5, 21.6, 52. , 29.3, 37.3, 47.9, 38.1, 32.5, 55.3,\n",
       "       24.8, 19.5, 51.8, 15. , 47.2, 31.2, 27.5, 15.6, 33. , 23.6, 41.2,\n",
       "       25.4, 40.4, 34.8, 31.4, 26.6, 38.2, 32.3, 29.7, 43.1, 25.2, 50.5,\n",
       "       28. , 37.2, 25.7, 39.9, 15.7, 46.8, 36.7, 42.8, 44.6, 35.6, 43.2,\n",
       "       19.2, 40.1, 26.2, 26.9, 26.7, 32.7, 58.2, 31.1, 39.3, 43.3, 21.3,\n",
       "       22.5, 42.2, 21.8, 39.2, 20.8, 41.9, 44.5, 16.3, 23. , 22.4, 40. ,\n",
       "       16.6, 34.5, 30.7, 23.2, 18.5,  7.2, 39.7, 13.5, 38.4, 43.7, 16.9,\n",
       "       18.9, 36.2, 26.5, 47.6, 30.8, 18. , 32.2, 14.8, 30. , 20.4, 49.3,\n",
       "       13.1, 41.8, 27.4, 30.6, 33.6, 36.3, 11.3, 45.1, 37.1, 36.6, 14.3,\n",
       "       28.4, 18.4, 17.4, 19.1, 44.3, 33.5, 17.7, 45.3, 34.6, 17.9, 41.7,\n",
       "       48. , 30.1, 44.7, 28.6, 16.8, 20.9, 33.2, 13.6, 45.2, 21.9, 34.7,\n",
       "       14.9, 25.8, 54.1, 26.4, 50.7, 29.9, 19.7, 15.2, 25.5, 36.8, 32.4,\n",
       "       23.3, 21.5, 34.1, 55.6, 40.2, 25.3, 41.4, 26.8, 27.2, 34. , 52.4,\n",
       "       49.8, 28.1, 19.8, 40.9, 44.4, 22.3, 38.8, 25.9, 32.9, 21. , 17. ,\n",
       "       27.6, 33.1, 34.3, 14.4, 19.9, 12.1, 39.4, 38.7, 48.8, 52.2, 39.8,\n",
       "       45.7, 24.3, 10.5, 45.5, 12.5, 40.5, 38. , 40.3, 28.5, 22.8, 43.8,\n",
       "       42.1, 31.8, 43.6, 38.5, 39. , 31.7, 41.3, 54.3, 12.3, 20.5, 32.6,\n",
       "       13.9, 50.3, 14.5, 22. , 12.7,  9.8, 16. , 29.6, 51.4, 24.7, 20.6,\n",
       "       24.6, 11.9, 51.7, 49.7, 17.1, 16.5, 46.1, 34.9, 14.7, 10.9, 24.4,\n",
       "       49. , 42.7, 47.4, 24. , 44.9, 21.4, 44.8, 40.6, 30.4, 35.4, 38.6,\n",
       "       48.6, 18.7, 41.5, 60.7, 54.6, 56.9, 16.4, 43.5, 42.9, 23.9, 43. ,\n",
       "       39.1, 37.4, 28.2, 43.9, 11.8, 47.8, 11.5,  9.1, 21.7, 15.3, 12.9,\n",
       "       37.5, 57.8, 52.8, 38.9, 45.8, 46.3, 15.8, 48.9, 75.4, 14. , 18.2,\n",
       "        6.4, 11.2, 10. , 46.2, 49.5,  9.3, 58.3, 37. , 17.8, 25.1, 18.1,\n",
       "       33.9,  7.9, 13.3, 13.8, 11.6, 45.4, 55.7, 48.4, 20.1, 52.7,  9. ,\n",
       "       47. , 42.3, 86.6, 42.6, 22.6, 16.2, 17.5, 41.1, 48.3, 44.2, 15.5,\n",
       "       53.5, 19.6, 48.5, 47.7, 53.3, 13.7, 42.5, 12.2,  8.5, 10.4, 18.6,\n",
       "       51.5, 46.5, 11. , 56.1, 15.1, 44. , 40.7, 37.6,  7.4, 12.8, 16.1,\n",
       "       53.9, 58.1, 46.6, 44.1, 55.5, 54. , 50.8,  5.3, 57.9, 11.4, 45.6,\n",
       "       54.2, 56.2, 53.4,  9.9, 51.2, 13.2, 45. , 13.4, 15.4, 49.2, 47.1,\n",
       "       46. , 49.6, 69.9, 50. , 50.2, 53.8, 52.1,  8.9, 79.9,  7.8,  8.3,\n",
       "       48.2, 12.4, 56.3, 71.1, 48.1, 46.4, 60.4, 42. , 47.3, 49.1, 42.4,\n",
       "       51.6, 45.9, 50.9,  9.5, 11.1, 55.8, 58.5, 53. , 59.8, 64.3, 10.7,\n",
       "       56.7, 55.9, 49.4, 51.3, 55.4, 56. , 77.4,  6.6, 62.6, 11.7, 77.1,\n",
       "       60. , 46.7,  5.9, 52.5, 68.4, 51.9, 59.9, 53.7, 75.1,  8.7,  8. ,\n",
       "       55.1, 58.6, 52.6, 57.7, 57.5, 56.4, 59.7, 10.2,  9.6, 78.9,  6.8,\n",
       "       64.8, 54.7, 50.4, 71.3, 56.8, 78.4, 50.1,  7.7, 14.2, 60.2, 50.6,\n",
       "       55. , 54.5, 52.9,  8.4, 47.5, 10.6, 63.5,  9.4, 85.5, 60.9, 52.3,\n",
       "       59.4, 59.3, 10.1, 54.8, 46.9, 58.4,  7.5, 12. ,  8.8, 51.1, 63.1,\n",
       "       63. , 62.7, 58.7, 10.8,  6.1, 53.2, 61. , 51. ,  6.5, 55.2, 69.2,\n",
       "        3.5, 58. , 54.4, 61.4, 57.2, 61.3, 64.7, 70.9, 67.1,  2.9, 76.3,\n",
       "       59. , 58.8, 53.1,  3.6, 64.6, 60.3, 56.6, 71.8,  6.3, 57. ,  9.2,\n",
       "       81.6,  2.7, 70. ,  3.9, 57.6,  8.2,  6.7, 56.5, 66.8, 53.6,  9.7,\n",
       "       65.4, 88. ,  4. ,  3.4, 61.2,  8.1, 69.1, 63.3, 68.7, 59.2,  4.9,\n",
       "       57.3,  5. ,  6.9, 60.8, 76.7, 94.5,  3.7,  6. ,  7.6, 65.8,  7.1,\n",
       "       90.8, 62.4,  5.2, 67.6,  7.3, 61.7, 62.1, 61.8, 59.6, 64.9, 58.9,\n",
       "       61.1, 67.3, 84.3, 89.7, 89.5,  7. ])"
      ]
     },
     "metadata": {},
     "output_type": "display_data"
    },
    {
     "name": "stdout",
     "output_type": "stream",
     "text": [
      "monocyte_percent\n"
     ]
    },
    {
     "data": {
      "text/plain": [
       "array([ 7.8,  9.1, 12. ,  0. ,  5.9,  7.3,  6.7,  9.6, 10.4,  3.8,  6.8,\n",
       "        7.7,  6.4,  8.6, 11. , 10.6,  7.6,  5.2, 17.3, 12.7,  5.8,  8.2,\n",
       "        7.4,  5.1,  7.1,  8.4,  9.4,  4.6,  8.8,  8.5,  3.7,  5. , 12.1,\n",
       "        7.2,  5.6, 11.8,  6.1,  7.9,  6.3,  9.3,  5.7, 11.4,  2.5,  4.8,\n",
       "        8.1,  9.9,  9. ,  6.5,  6.6, 10.7, 10.8,  7.5,  8.9, 10.5,  4.3,\n",
       "        4.1,  8. , 14.9,  5.4, 10. , 15.6, 13.2,  9.5,  4.9,  3.6, 10.2,\n",
       "        5.3,  9.8,  6.2,  4.7,  7. ,  4.4,  9.2, 14.8, 10.9, 10.1,  8.7,\n",
       "       16.3,  5.5, 11.1, 11.9,  9.7,  6.9, 15.8, 13.1,  4.5, 10.3,  2.6,\n",
       "       12.3,  3.4, 12.2, 11.3, 12.5,  8.3, 13.9, 12.9, 13. , 14.1, 15.3,\n",
       "       11.5, 15.2,  3.2,  2.8, 16.6, 15. , 11.2,  6. , 19. ,  3.5, 11.7,\n",
       "        3.9,  4. , 12.4, 15.1,  2.3,  3.3, 13.5, 11.6, 14.7, 16.7, 18.8,\n",
       "       16.8,  4.2,  3. , 13.6, 13.3, 20.2,  2.9,  2.7, 13.7,  1.6, 14.5,\n",
       "       17.4, 20. , 12.6, 19.5, 13.4,  2.1,  1.5, 18.7, 14.4, 15.4, 19.6,\n",
       "        1.7, 34.1,  3.1, 12.8, 19.8, 17.1, 14. ,  1.8,  1.9, 39.8, 18.2,\n",
       "       13.8, 17.2, 16.4, 18. , 14.3, 18.9,  1.4, 19.1, 18.5,  0.8, 18.3,\n",
       "        1. , 22.4, 44.5, 17. , 19.7, 16.2, 14.6, 16.1, 26.2,  2.2, 16.5,\n",
       "       14.2, 19.4, 39.1,  1.3, 15.5, 15.9, 17.6,  2. , 19.3, 16. ,  0.7,\n",
       "       25.9, 24.4,  2.4, 16.9, 32. , 22.3, 20.7, 19.2,  0.9, 21.5, 17.9,\n",
       "       28.4, 18.6, 38.8, 20.9, 66.9, 17.7,  0.6, 20.5,  1.1, 17.5, 21.1,\n",
       "       35.3, 19.9, 23.8, 38.9, 23.3, 29.3, 18.1, 26.7, 20.8, 18.4, 20.1,\n",
       "       21.6, 21.2, 24.1, 21.3,  1.2])"
      ]
     },
     "metadata": {},
     "output_type": "display_data"
    },
    {
     "name": "stdout",
     "output_type": "stream",
     "text": [
      "neutrophils_percent\n"
     ]
    },
    {
     "data": {
      "text/plain": [
       "array([55.1, 58.9, 55.4,  0. , 66.2, 65.7, 23.2, 68.7, 39.8, 76.6, 55.3,\n",
       "       52. , 54.5, 62.2, 68.1, 55. , 58.1, 62.3, 57.7, 55.2, 61.4, 59. ,\n",
       "       61. , 53.9, 60.1, 81.4, 65.3, 51.4, 72.3, 45.8, 74.5, 56.6, 48.2,\n",
       "       49.9, 70. , 67.8, 50.8, 64.2, 68.3, 62. , 71.4, 62.4, 56.4, 45.4,\n",
       "       57.8, 64.5, 53.6, 62.7, 57.5, 63.8, 73.8, 17.9, 57. , 61.8, 35.7,\n",
       "       51.3, 60.6, 66.4, 54.4, 61.2, 61.5, 52.5, 50.5, 58.8, 46.1, 74.9,\n",
       "       60.9, 50. , 69.9, 71.1, 49.5, 56.8, 78.1, 41.3, 55.8, 59.1, 35.2,\n",
       "       77.8, 50.9, 51. , 63.4, 70.8, 57.1, 67.9, 55.5, 61.3, 48.6, 52.6,\n",
       "       77.6, 73.6, 65.1, 72.2, 41.7, 53.3, 54.1, 62.8, 80.2, 50.2, 68.5,\n",
       "       45.7, 61.9, 44.3, 69.1, 31.5, 60.7, 54.7, 46.3, 34.5, 68.9, 63.9,\n",
       "       37.5, 77.4, 60.5, 65.9, 78.7, 60.3, 48.5, 41.8, 64.8, 67.2, 71. ,\n",
       "       52.4, 58.4, 48.9, 49.2, 59.2, 64.6, 64.9, 58.7, 60. , 39.9, 60.4,\n",
       "       38.3, 55.7, 48.1, 64.3, 49.8, 54.3, 71.7, 68.6, 74.6, 42. , 42.8,\n",
       "       63.7, 75.9, 50.7, 39. , 73.4, 46.9, 66.1, 66.6, 63.6, 34.4, 69. ,\n",
       "       54.6, 47.2, 48.7, 71.2, 51.6, 69.5, 42.6, 71.8, 65.4, 65.8, 51.1,\n",
       "       57.4, 72.4, 62.9, 66.8, 79.3, 77.7, 52.1, 67.5, 48.4, 77.9, 51.9,\n",
       "       45.3, 70.2, 51.8, 52.2, 73.1, 56.5, 49. , 69.2, 50.1, 76.2, 59.6,\n",
       "       71.3, 55.9, 37.3, 65.6, 44.1, 71.9, 53.8, 78.4, 52.8, 79.1, 53.7,\n",
       "       58.3, 76.7, 52.3, 52.7, 48.3, 59.5, 64.7, 62.5, 66.3, 62.6, 73.3,\n",
       "       77.1, 47.4, 72.1, 76.1, 46.8, 46.6, 56.7, 52.9, 47.6, 45.6, 44.2,\n",
       "       69.3, 67.3, 68.8, 76.3, 59.4, 71.6, 55.6, 34. , 56.1, 59.3, 35.5,\n",
       "       59.9, 63.5, 58.5, 59.8, 67.1, 51.7, 61.7, 44.7, 63. , 27.3, 50.3,\n",
       "       47.7, 45.5, 28.1, 64.1, 53.1, 45.9, 60.2, 70.3, 78.5, 39.1, 68.2,\n",
       "       58.2, 68.4, 36.7, 49.1, 54.9, 74.2, 48.8, 58. , 64.4, 53.5, 69.7,\n",
       "       46.2, 58.6, 57.9, 47.1, 59.7, 70.7, 45.1, 54.2, 47.5, 42.2, 36.2,\n",
       "       33.3, 69.4, 53.4, 75.5, 53. , 56.2, 76.4, 57.6, 69.6, 75.8, 66. ,\n",
       "       43.8, 33.5, 51.2, 65.2, 53.2, 72.6, 71.5, 65. , 82.1, 49.7, 38. ,\n",
       "       43.4, 37. , 57.2, 74.7, 73.5, 34.8, 62.1, 79.4, 63.2, 74.3, 65.5,\n",
       "       40.6, 76.8, 70.4, 75.2, 49.3, 44.4, 84.9, 74.4, 28.8, 73. , 75.6,\n",
       "       73.9, 75.3, 66.9, 41. , 76. , 40.9, 63.3, 70.9, 43.2, 70.1, 80.7,\n",
       "       28.9, 67.4, 86.6, 72.8, 46.7, 78.6, 42.1, 44.9, 43.7, 51.5, 75.4,\n",
       "       78.8, 42.7, 61.1, 42.5, 60.8, 36.8, 39.7, 21.6, 32.9, 61.6, 72.7,\n",
       "       73.7, 70.6, 43.6, 69.8, 45.2, 76.9, 47.8, 66.7, 78.3, 80.1, 43.3,\n",
       "       54. , 86.2, 43.9, 34.3, 50.6, 63.1, 72.5, 78. , 56. , 44.6, 44.5,\n",
       "       40.8, 43. , 56.3, 31. , 56.9, 41.4, 47. , 44.8, 81.2, 37.7, 30.8,\n",
       "       19.3, 88.9, 82. , 74.8, 45. , 81.6, 38.7, 67.6, 40. , 30. , 72. ,\n",
       "       83.7, 41.2, 77.2, 67.7, 90.2, 73.2, 79.5, 38.9, 64. , 36.3, 47.9,\n",
       "       81.1, 57.3, 41.5, 37.2, 54.8, 40.2, 36.9, 72.9,  6.6, 49.6, 78.2,\n",
       "       39.6, 49.4, 35.8, 40.5, 32.5, 41.1, 82.3, 40.1, 37.9, 40.3, 31.6,\n",
       "       67. , 39.4, 36.6, 36.5, 50.4, 89.1, 74.1, 80.6, 40.4, 43.5, 42.4,\n",
       "       47.3, 37.4, 83.6, 41.9, 86.3, 80.3, 80.9, 66.5,  9.1, 48. , 30.7,\n",
       "       32.8, 44. , 34.7, 87.9, 35.4, 34.1, 81.3, 37.1, 46. , 75. , 36.4,\n",
       "       33.9, 77.3, 37.6, 35.3, 78.9, 39.2, 38.2, 75.7, 84.1, 27.8, 28.2,\n",
       "       83.4, 22.8, 32.7, 33.2, 42.9, 38.4, 28.4, 43.1, 42.3, 32.2, 38.8,\n",
       "       84.4,  9.7, 77.5, 83.1, 88.2, 68. , 79. , 27.4, 23. , 79.9, 27.2,\n",
       "       34.6, 81.8, 26.3, 46.4, 46.5, 39.3, 21.9, 31.7, 29.3, 79.2, 33.8,\n",
       "       37.8, 83. , 26.2, 77. , 39.5, 38.1, 29.6, 81.5, 31.9, 41.6, 84.3,\n",
       "       35.6, 29.7, 80.5, 27.6, 25. , 36. , 29.1, 82.5, 32.3, 82.6, 84.6,\n",
       "       36.1, 35. , 30.1, 31.1, 16.5, 75.1, 38.6, 70.5, 86.8, 40.7, 85. ,\n",
       "       17.7, 31.3, 76.5, 81.7, 79.7, 32. , 19.2, 30.4, 33.6, 35.9, 80.8,\n",
       "       15.4, 88.1, 28.5, 31.4, 29.9, 82.8, 15.1, 38.5, 88.3, 80. , 24.5,\n",
       "       32.6, 23.6, 82.2, 15.2, 31.8, 86.4, 85.1, 74. , 82.7, 33.4, 87.6,\n",
       "       25.6, 21.7, 79.6, 81.9, 83.5, 81. , 10.4,  6.5, 34.9, 23.8, 27. ,\n",
       "       33. , 26.5, 29.2, 82.4, 89.4, 25.8, 90.6, 24.4, 83.2, 33.1, 24.6,\n",
       "       29.5, 85.7, 85.4, 28.6, 85.3, 29.8, 33.7, 26. , 89.8, 21.1, 93.6,\n",
       "       27.5, 18.7, 22.5, 18.8, 16.3, 30.3, 92.1, 29. , 32.1, 31.2, 28.3,\n",
       "       30.6, 26.4,  0.8, 22. , 87.2, 14.9,  1. , 34.2, 25.5, 13.1, 30.9,\n",
       "       35.1, 96.6, 83.9, 19.5, 88. , 32.4, 29.4, 89.7, 30.2, 26.9, 84.2,\n",
       "       25.1,  8.8, 84. , 21. , 87.5, 88.8, 30.5, 24.9, 16.4, 19.4, 25.4,\n",
       "       21.2, 85.6, 90.8, 20. , 80.4,  3.6, 92.2, 88.4, 25.9, 83.8,  6.7,\n",
       "       22.3, 85.2, 28. , 93.2, 23.5, 92.8, 83.3, 24.3, 26.6, 10.6, 88.6,\n",
       "       86.7, 79.8, 27.9, 27.1, 11.8, 14.3,  8.4, 85.8, 89.2])"
      ]
     },
     "metadata": {},
     "output_type": "display_data"
    },
    {
     "name": "stdout",
     "output_type": "stream",
     "text": [
      "eosinophils_percent\n"
     ]
    },
    {
     "data": {
      "text/plain": [
       "array([9.00000000e-01, 2.20000000e+00, 3.30000000e+00, 0.00000000e+00,\n",
       "       1.80000000e+00, 3.70000000e+00, 3.00000000e-01, 2.40000000e+00,\n",
       "       1.10000000e+01, 1.60000000e+00, 4.00000000e+00, 2.50000000e+00,\n",
       "       5.10000000e+00, 4.90000000e+00, 6.90000000e+00, 2.30000000e+00,\n",
       "       1.70000000e+00, 4.80000000e+00, 2.00000000e+00, 3.40000000e+00,\n",
       "       6.00000000e-01, 2.90000000e+00, 1.30000000e+00, 1.90000000e+00,\n",
       "       8.20000000e+00, 1.50000000e+00, 4.10000000e+00, 2.80000000e+00,\n",
       "       3.50000000e+00, 8.00000000e-01, 3.60000000e+00, 6.70000000e+00,\n",
       "       1.40000000e+00, 4.40000000e+00, 7.00000000e-01, 1.20000000e+00,\n",
       "       3.90000000e+00, 3.80000000e+00, 4.70000000e+00, 8.40000000e+00,\n",
       "       3.20000000e+00, 7.50000000e+00, 1.36000000e+01, 5.40000000e+00,\n",
       "       1.00000000e+00, 5.30000000e+00, 3.10000000e+00, 1.40000000e+01,\n",
       "       1.05000000e+01, 6.80000000e+00, 2.10000000e+00, 5.90000000e+00,\n",
       "       4.30000000e+00, 1.10000000e+00, 2.70000000e+00, 3.00000000e+00,\n",
       "       1.18000000e+01, 6.10000000e+00, 4.20000000e+00, 1.09000000e+01,\n",
       "       7.90000000e+00, 2.60000000e+00, 5.80000000e+00, 5.00000000e+00,\n",
       "       5.60000000e+00, 7.30000000e+00, 1.00000000e-01, 4.60000000e+00,\n",
       "       4.00000000e-01, 6.50000000e+00, 5.70000000e+00, 1.24000000e+01,\n",
       "       4.50000000e+00, 9.90000000e+00, 5.50000000e+00, 1.27000000e+01,\n",
       "       8.60000000e+00, 5.20000000e+00, 2.00000000e-01, 7.00000000e+00,\n",
       "       1.80000000e+01, 6.00000000e+00, 7.60000000e+00, 8.80000000e+00,\n",
       "       1.21000000e+01, 8.00000000e+00, 5.00000000e-01, 7.20000000e+00,\n",
       "       9.10000000e+00, 6.60000000e+00, 7.80000000e+00, 1.22000000e+01,\n",
       "       9.80000000e+00, 6.40000000e+00, 1.02000000e+01, 6.30000000e+00,\n",
       "       7.40000000e+00, 1.08000000e+01, 8.10000000e+00, 1.50000000e+01,\n",
       "       8.50000000e+00, 1.01000000e+01, 1.06000000e+01, 1.65000000e+01,\n",
       "       1.00000000e+01, 9.60000000e+00, 1.25000000e+01, 7.10000000e+00,\n",
       "       9.40000000e+00, 8.90000000e+00, 9.20000000e+00, 1.58000000e+01,\n",
       "       1.26000000e+01, 1.31000000e+01, 8.70000000e+00, 6.20000000e+00,\n",
       "       1.30000000e+01, 1.13000000e+01, 9.50000000e+00, 7.70000000e+00,\n",
       "       2.71000000e+01, 3.29000000e+01, 1.44000000e+01, 1.43000000e+01,\n",
       "       2.75000000e+01, 9.30000000e+00, 1.04000000e+01, 9.70000000e+00,\n",
       "       1.56000000e+01, 8.30000000e+00, 2.73000000e+01, 1.23000000e+01,\n",
       "       1.15000000e+01, 2.92000000e+01, 9.00000000e+00, 2.08000000e+01,\n",
       "       1.97000000e+01, 1.48000000e+01, 2.63000000e+01, 1.38000000e+01,\n",
       "       1.16000000e+01, 1.74000000e+01, 1.07000000e+01, 1.11000000e+01,\n",
       "       2.13000000e+01, 1.29000000e+01, 1.53000000e+01, 1.67000000e+01,\n",
       "       1.49000000e+01, 1.70000000e+01, 1.33000000e+01, 1.20000000e+01,\n",
       "       1.77000000e+01, 1.39000000e+01, 1.03000000e+01, 1.17000000e+01,\n",
       "       1.51000000e+01, 1.42000000e+01, 2.20000000e+01, 2.54000000e+01,\n",
       "       2.85000000e+01, 2.40000000e+01, 1.28000000e+01, 1.46000000e+01,\n",
       "       1.60000000e+01, 1.59000000e+01, 1.90000000e+01, 1.54000000e+01,\n",
       "       1.95000000e+01, 1.14000000e+01, 1.12000000e+01, 1.34000000e+01,\n",
       "       2.31000000e+01, 1.64000000e+01, 2.52000000e+01, 1.47000000e+01,\n",
       "       2.49000000e+01, 1.52000000e+01, 2.09000000e+01, 5.39760535e-79,\n",
       "       2.29000000e+01, 1.81000000e+01, 2.83000000e+01, 1.57000000e+01,\n",
       "       3.41000000e+01, 1.45000000e+01, 1.35000000e+01, 2.46000000e+01,\n",
       "       1.19000000e+01, 1.68000000e+01, 1.75000000e+01, 1.82000000e+01,\n",
       "       2.04000000e+01, 2.90000000e+01, 1.66000000e+01, 2.53000000e+01,\n",
       "       2.27000000e+01, 1.84000000e+01, 1.83000000e+01, 3.66000000e+01,\n",
       "       1.55000000e+01, 1.41000000e+01, 1.32000000e+01, 1.72000000e+01,\n",
       "       1.89000000e+01, 1.92000000e+01, 2.74000000e+01, 1.73000000e+01,\n",
       "       1.37000000e+01])"
      ]
     },
     "metadata": {},
     "output_type": "display_data"
    },
    {
     "name": "stdout",
     "output_type": "stream",
     "text": [
      "basophils_percent\n"
     ]
    },
    {
     "data": {
      "text/plain": [
       "array([5.00000000e-01, 4.00000000e-01, 2.00000000e-01, 0.00000000e+00,\n",
       "       6.00000000e-01, 1.30000000e+00, 3.00000000e-01, 1.00000000e+00,\n",
       "       9.00000000e-01, 1.20000000e+00, 1.10000000e+00, 8.00000000e-01,\n",
       "       7.00000000e-01, 5.39760535e-79, 1.00000000e-01, 2.70000000e+00,\n",
       "       1.50000000e+00, 1.40000000e+00, 1.60000000e+00, 2.00000000e+00,\n",
       "       4.60000000e+00, 3.00000000e+00, 2.30000000e+00, 1.90000000e+00,\n",
       "       1.70000000e+00, 2.20000000e+00, 2.40000000e+00, 3.70000000e+00,\n",
       "       2.50000000e+00, 6.10000000e+00, 4.30000000e+00, 2.10000000e+00,\n",
       "       3.80000000e+00, 3.30000000e+00, 1.80000000e+00, 9.90000000e+00,\n",
       "       3.50000000e+00, 3.10000000e+00, 2.80000000e+00, 3.90000000e+00,\n",
       "       6.40000000e+00, 4.80000000e+00, 2.90000000e+00, 1.08000000e+01,\n",
       "       4.20000000e+00, 3.60000000e+00, 3.40000000e+00, 2.60000000e+00,\n",
       "       4.10000000e+00, 4.40000000e+00, 5.70000000e+00, 5.10000000e+00,\n",
       "       4.00000000e+00, 5.50000000e+00, 3.20000000e+00, 6.30000000e+00,\n",
       "       7.00000000e+00, 6.90000000e+00, 7.30000000e+00, 4.90000000e+00,\n",
       "       4.50000000e+00, 5.20000000e+00, 6.70000000e+00, 6.80000000e+00,\n",
       "       8.40000000e+00, 5.30000000e+00, 4.70000000e+00, 5.60000000e+00,\n",
       "       5.90000000e+00, 7.50000000e+00, 5.80000000e+00])"
      ]
     },
     "metadata": {},
     "output_type": "display_data"
    },
    {
     "name": "stdout",
     "output_type": "stream",
     "text": [
      "lymphocyte_count\n"
     ]
    },
    {
     "data": {
      "text/plain": [
       "array([1.900e+00, 2.200e+00, 0.000e+00, 1.500e+00, 2.100e+00, 1.740e+01,\n",
       "       1.200e+00, 1.600e+00, 1.700e+00, 2.800e+00, 2.500e+00, 2.000e+00,\n",
       "       2.600e+00, 3.200e+00, 2.700e+00, 1.400e+00, 3.100e+00, 1.800e+00,\n",
       "       1.300e+00, 1.320e+01, 2.400e+00, 2.300e+00, 3.000e+00, 3.400e+00,\n",
       "       1.000e+00, 1.100e+00, 3.500e+00, 3.900e+00, 3.300e+00, 4.600e+00,\n",
       "       2.900e+00, 5.500e+00, 5.000e+00, 4.700e+00, 3.800e+00, 3.600e+00,\n",
       "       4.000e+00, 3.700e+00, 6.000e-01, 4.100e+00, 9.000e-01, 4.800e+00,\n",
       "       4.500e+00, 8.000e-01, 4.300e+00, 5.000e-01, 7.000e-01, 6.500e+00,\n",
       "       4.900e+00, 4.200e+00, 1.440e+01, 4.400e+00, 4.000e-01, 4.520e+01,\n",
       "       4.840e+01, 6.600e+00, 5.400e+00, 1.980e+01, 3.400e+01, 6.700e+00,\n",
       "       5.200e+00, 7.700e+00, 5.300e+00, 3.030e+01, 1.400e+01, 3.300e+01,\n",
       "       6.200e+00, 5.700e+00, 9.900e+00, 1.030e+01, 2.380e+01, 7.400e+00,\n",
       "       8.000e+00, 7.110e+01, 7.100e+00, 5.800e+00, 6.400e+00, 1.540e+01,\n",
       "       8.400e+00, 1.730e+01, 5.600e+00, 7.300e+00, 2.010e+01, 5.100e+00,\n",
       "       6.000e+00, 4.370e+01, 2.770e+01, 3.000e-01, 2.000e-01, 4.900e+01,\n",
       "       6.100e+00, 1.200e+01, 8.500e+00, 1.610e+01, 7.200e+00, 1.108e+02,\n",
       "       4.070e+01, 1.060e+01, 3.210e+01, 3.588e+02, 3.750e+01])"
      ]
     },
     "metadata": {},
     "output_type": "display_data"
    },
    {
     "name": "stdout",
     "output_type": "stream",
     "text": [
      "monocyte_count\n"
     ]
    },
    {
     "data": {
      "text/plain": [
       "array([4.00000000e-01, 7.00000000e-01, 8.00000000e-01, 0.00000000e+00,\n",
       "       3.00000000e-01, 1.70000000e+00, 6.00000000e-01, 5.00000000e-01,\n",
       "       1.10000000e+00, 9.00000000e-01, 2.00000000e-01, 1.40000000e+00,\n",
       "       1.00000000e+00, 1.20000000e+00, 1.30000000e+00, 1.50000000e+00,\n",
       "       2.70000000e+00, 1.00000000e-01, 2.40000000e+00, 2.30000000e+00,\n",
       "       3.20000000e+00, 5.39760535e-79, 1.80000000e+00, 2.50000000e+00,\n",
       "       1.60000000e+00, 3.60000000e+00, 5.50000000e+00, 1.90000000e+00,\n",
       "       2.60000000e+00, 1.02000000e+01, 4.30000000e+00, 3.40000000e+00,\n",
       "       2.20000000e+00, 2.00000000e+00, 2.80000000e+00])"
      ]
     },
     "metadata": {},
     "output_type": "display_data"
    },
    {
     "name": "stdout",
     "output_type": "stream",
     "text": [
      "neutrophils_count\n"
     ]
    },
    {
     "data": {
      "text/plain": [
       "array([ 2.9,  4.4,  3.7,  0. ,  3.9,  6.3,  5.8,  4.5,  1.7,  7.4,  4.6,\n",
       "        3.6,  2.5,  5. ,  6.1,  3.4,  4. ,  5.9,  5.2,  3.5,  5.1,  3. ,\n",
       "        3.8,  8.6,  6.8,  4.2,  6.4,  2.2,  9.6,  2.6,  6.5,  4.8,  5.3,\n",
       "        5.7,  3.2,  6.6,  7.7,  2.3,  4.1,  3.1,  4.3,  1.6,  3.3,  5.5,\n",
       "        7.1,  4.9,  6.7, 10.9,  5.6,  8.1,  4.7,  5.4,  2.7,  8.8,  6. ,\n",
       "        9.4,  7.2, 13.4,  2.8,  2.4,  2.1,  6.9,  7. ,  1.9,  1.8,  2. ,\n",
       "        8.2,  7.9,  6.2,  8.3,  7.5, 10.4,  9.7,  8.4,  9.5,  9.8,  7.3,\n",
       "        1.2,  1.3,  7.6,  8.7,  1.5,  8.9,  1.4,  7.8,  9. , 11. ,  8. ,\n",
       "       14.4,  8.5,  9.9,  9.3, 10. , 12. ,  1. , 11.7, 12.2, 11.6, 10.5,\n",
       "        9.2, 15.4, 16.3, 11.1, 12.9, 12.4, 13.7,  9.1, 10.3,  1.1, 10.2,\n",
       "       10.7, 16.2,  0.8, 10.6, 10.1, 12.1, 11.5,  0.7,  0.9, 11.4, 15. ,\n",
       "       13.8, 14.3, 13.9, 12.8,  0.5, 12.7, 11.2, 10.8, 12.5,  0.4, 16.6,\n",
       "       11.9, 15.5,  0.2, 13.3, 11.3, 13.5, 17.3, 13.2, 83.1, 62.9, 12.3,\n",
       "       11.8,  0.3,  0.1,  0.6, 13. , 15.8, 25.6, 14.2, 13.1, 15.6, 19.4,\n",
       "       14.7, 14.1, 15.3, 15.7, 13.6, 35.2])"
      ]
     },
     "metadata": {},
     "output_type": "display_data"
    },
    {
     "name": "stdout",
     "output_type": "stream",
     "text": [
      "eosinophils_count\n"
     ]
    },
    {
     "data": {
      "text/plain": [
       "array([5.39760535e-79, 2.00000000e-01, 0.00000000e+00, 1.00000000e-01,\n",
       "       4.00000000e-01, 5.00000000e-01, 3.00000000e-01, 1.20000000e+00,\n",
       "       6.00000000e-01, 9.00000000e-01, 8.00000000e-01, 7.00000000e-01,\n",
       "       1.50000000e+00, 1.10000000e+00, 1.00000000e+00, 1.60000000e+00,\n",
       "       1.30000000e+00, 2.10000000e+00, 2.80000000e+00, 2.30000000e+00,\n",
       "       1.40000000e+00, 3.80000000e+00, 1.80000000e+00, 1.70000000e+00,\n",
       "       1.90000000e+00, 2.90000000e+00, 2.20000000e+00, 3.10000000e+00,\n",
       "       4.90000000e+00, 8.40000000e+00, 3.00000000e+00, 3.70000000e+00,\n",
       "       3.60000000e+00, 2.40000000e+00, 2.70000000e+00, 3.20000000e+00])"
      ]
     },
     "metadata": {},
     "output_type": "display_data"
    },
    {
     "name": "stdout",
     "output_type": "stream",
     "text": [
      "basophils_count\n"
     ]
    },
    {
     "data": {
      "text/plain": [
       "array([5.39760535e-79, 0.00000000e+00, 1.00000000e-01, 3.00000000e-01,\n",
       "       2.00000000e-01, 4.00000000e-01, 5.00000000e-01, 6.00000000e-01,\n",
       "       1.00000000e+00, 2.10000000e+00, 7.00000000e-01, 1.30000000e+00,\n",
       "       4.70000000e+00, 8.00000000e-01])"
      ]
     },
     "metadata": {},
     "output_type": "display_data"
    },
    {
     "name": "stdout",
     "output_type": "stream",
     "text": [
      "RBC_count\n"
     ]
    },
    {
     "data": {
      "text/plain": [
       "array([4.63, 4.72, 5.45, 0.  , 5.36, 5.09, 3.77, 4.48, 4.02, 4.09, 4.23,\n",
       "       5.41, 4.7 , 4.73, 4.49, 5.3 , 4.31, 5.2 , 4.51, 4.61, 4.82, 4.9 ,\n",
       "       3.61, 4.65, 5.57, 4.4 , 4.57, 3.36, 5.03, 4.35, 5.6 , 4.77, 4.75,\n",
       "       4.22, 5.32, 5.49, 4.66, 5.7 , 4.98, 5.16, 3.76, 4.86, 5.02, 4.78,\n",
       "       4.19, 4.99, 5.1 , 4.52, 4.12, 5.11, 4.13, 4.24, 5.28, 5.06, 4.11,\n",
       "       5.01, 5.37, 5.62, 4.42, 5.07, 5.18, 5.17, 4.38, 4.81, 4.26, 4.21,\n",
       "       4.84, 4.62, 4.8 , 4.68, 4.39, 5.53, 5.81, 4.55, 4.64, 5.64, 4.74,\n",
       "       4.32, 4.69, 5.26, 3.45, 3.8 , 5.63, 4.93, 4.56, 5.14, 4.37, 4.3 ,\n",
       "       4.08, 4.97, 4.07, 4.05, 4.85, 3.91, 5.23, 3.66, 5.33, 5.15, 5.22,\n",
       "       4.94, 4.36, 5.54, 6.06, 5.86, 4.67, 4.53, 5.29, 4.47, 4.91, 4.27,\n",
       "       4.25, 4.59, 3.52, 5.39, 4.89, 4.1 , 4.54, 4.83, 5.4 , 4.46, 4.17,\n",
       "       4.28, 4.34, 4.45, 5.31, 5.67, 4.18, 4.88, 5.52, 5.44, 5.19, 5.85,\n",
       "       5.51, 4.03, 5.27, 5.05, 3.94, 3.97, 3.78, 4.33, 4.6 , 3.89, 5.34,\n",
       "       4.43, 4.29, 4.14, 5.  , 4.15, 5.25, 5.79, 4.01, 5.38, 5.13, 5.65,\n",
       "       3.95, 3.9 , 5.56, 5.68, 5.75, 5.24, 4.92, 4.95, 4.06, 4.04, 4.  ,\n",
       "       5.97, 3.88, 3.99, 5.93, 5.73, 5.35, 4.76, 5.48, 3.57, 3.55, 5.42,\n",
       "       3.74, 4.16, 4.2 , 4.5 , 6.36, 4.87, 4.44, 5.74, 3.69, 3.53, 4.41,\n",
       "       5.84, 3.82, 3.87, 3.14, 3.7 , 5.08, 5.46, 3.5 , 5.04, 3.92, 5.69,\n",
       "       5.21, 3.68, 4.58, 5.58, 5.43, 4.96, 3.96, 3.84, 4.79, 3.49, 5.83,\n",
       "       6.44, 6.11, 3.72, 3.03, 5.12, 3.79, 4.71, 3.83, 3.44, 6.2 , 5.76,\n",
       "       3.05, 5.59, 5.8 , 6.27, 5.78, 5.82, 3.81, 6.02, 5.89, 3.67, 3.85,\n",
       "       3.98, 3.93, 3.62, 5.72, 3.47, 5.47, 5.92, 3.75, 3.59, 3.58, 6.15,\n",
       "       3.39, 3.26, 6.05, 5.98, 2.44, 3.63, 3.6 , 5.55, 3.64, 2.91, 6.03,\n",
       "       3.56, 2.99, 3.86, 5.88, 5.66, 3.11, 5.61, 3.73, 5.77, 2.72, 3.24,\n",
       "       6.4 , 6.12, 5.91, 3.54, 3.34, 5.9 , 3.48, 6.47, 3.51, 5.71, 7.02,\n",
       "       3.35, 5.5 , 3.65, 3.01, 6.7 , 3.71, 5.95, 6.07, 6.16, 3.16, 6.  ,\n",
       "       6.14, 6.08, 3.43, 2.83, 6.13, 6.28, 6.29, 3.2 , 3.09, 3.42, 6.26,\n",
       "       6.91, 3.4 , 3.12, 3.37, 6.53, 3.32, 6.22, 2.56, 5.94, 6.73, 3.33,\n",
       "       3.17, 6.21, 5.87, 6.43, 6.97, 6.64, 3.3 , 3.46, 3.19, 2.95, 2.9 ,\n",
       "       6.45, 3.41, 3.18, 3.29, 6.39, 6.18, 3.13, 6.31, 2.88, 3.23, 2.76,\n",
       "       3.38, 2.38, 2.84, 3.28, 6.23, 2.81, 2.4 , 5.99, 2.86, 3.22, 6.41,\n",
       "       7.15, 6.72, 2.78, 3.31, 2.63, 2.65, 2.73, 6.34, 3.07, 3.04, 6.25,\n",
       "       7.05, 3.  , 6.82, 3.27, 2.79, 2.53, 2.94, 6.49, 6.3 , 3.15, 6.61,\n",
       "       7.55, 2.98, 6.56, 2.66, 1.67, 6.24, 6.51, 8.3 , 5.96, 6.78, 6.69,\n",
       "       2.89, 6.5 , 6.54, 2.52, 6.46, 6.66, 6.37, 3.25, 7.9 , 6.35, 6.32,\n",
       "       6.01, 6.19, 3.06, 6.75, 6.52, 7.14, 6.04, 6.62, 6.33, 2.92, 2.96,\n",
       "       2.87, 3.02, 6.09, 7.04, 2.97, 6.6 , 6.58, 6.8 , 6.1 , 6.71, 2.32])"
      ]
     },
     "metadata": {},
     "output_type": "display_data"
    },
    {
     "name": "stdout",
     "output_type": "stream",
     "text": [
      "hemoglobin\n"
     ]
    },
    {
     "data": {
      "text/plain": [
       "array([12.5, 14.5, 15.9,  0. , 16.3, 17. , 11.4, 14.4, 11.8, 12.6, 12.9,\n",
       "       16.5, 14.8, 13.3, 12.7, 15. , 14.1, 15.5, 12.1, 13.1, 15.4, 13.5,\n",
       "       14.7, 11.5, 14.3, 13.8, 15.6, 16.7, 15.7, 11.6, 16. , 13.9, 14. ,\n",
       "       15.1, 15.2, 16.9, 17.2, 14.6, 16.2, 13.6, 13.4, 15.8, 14.9, 16.8,\n",
       "       13.2,  9.8, 11.9, 12.8, 15.3, 13. , 12. , 12.2, 10. , 12.4, 13.7,\n",
       "       16.4,  9.1, 10.4, 14.2, 12.3, 17.3, 10.6,  8.4, 11.1, 11.3, 16.1,\n",
       "       11.7,  9.6, 17.1,  8.9, 10.9, 17.7, 11.2, 16.6, 10.5, 17.4, 11. ,\n",
       "       10.7, 17.6, 18. , 10.8, 18.8, 17.8,  6.2,  8.6, 17.5, 18.2, 10.1,\n",
       "        9.4, 10.2,  9.2, 18.3, 10.3,  9. , 18.7,  9.9, 17.9,  8.2,  9.7,\n",
       "       19.3,  8.3,  8.8,  9.3, 18.5,  9.5, 18.4, 19. , 18.1,  7.9, 18.6,\n",
       "       19.7,  8.7,  7.5,  8.5,  6.8,  6.1,  8. , 18.9,  7. ,  8.1,  7.6,\n",
       "       19.5, 19.6,  7.4,  7.1,  7.3,  6.4,  7.2,  6.9,  7.7,  7.8,  6.3,\n",
       "       19.9, 19.1, 19.2,  6.7])"
      ]
     },
     "metadata": {},
     "output_type": "display_data"
    },
    {
     "name": "stdout",
     "output_type": "stream",
     "text": [
      "hematocrit\n"
     ]
    },
    {
     "data": {
      "text/plain": [
       "array([37.1, 42.6, 48.3,  0. , 48.7, 49.9, 35.3, 43.5, 34.5, 36.6, 38.3,\n",
       "       50.6, 41.6, 46.7, 39.1, 36.3, 43.6, 48.8, 38. , 48. , 43.2, 43.4,\n",
       "       45.7, 34.8, 40.3, 48.5, 37.9, 39.5, 43. , 32.6, 42.2, 40.8, 41.4,\n",
       "       39.2, 39.8, 45.5, 48.6, 46.3, 43.9, 35.8, 48.2, 44.9, 36.2, 45.3,\n",
       "       45.9, 42.7, 47.9, 45.8, 41.5, 37.3, 44.1, 37.7, 48.4, 44.2, 50.9,\n",
       "       45.6, 41.8, 47.4, 41.1, 40.6, 38.9, 47.6, 37.8, 40.1, 41.2, 42.8,\n",
       "       50.7, 39. , 40.2, 49. , 41.3, 49.4, 46.4, 40.9, 42.1, 41. , 37.5,\n",
       "       47.3, 29.4, 35.4, 35.7, 38.8, 44.8, 40.7, 36.7, 38.2, 36.8, 37.2,\n",
       "       39.9, 30.5, 44.3, 43.8, 35.2, 47. , 50.1, 44.5, 47.7, 38.1, 35.9,\n",
       "       42.4, 43.3, 46. , 28.6, 45.1, 32.4, 49.8, 42. , 33.1, 42.9, 46.6,\n",
       "       38.6, 47.5, 44.7, 36.5, 42.5, 31.5, 44.6, 46.8, 46.2, 51.7, 49.1,\n",
       "       39.4, 36.9, 37. , 45.4, 51.2, 31.7, 39.3, 33.6, 38.4, 43.7, 44. ,\n",
       "       45. , 46.1, 27. , 45.2, 34.2, 36.4, 37.4, 34. , 35.1, 40. , 48.1,\n",
       "       34.4, 38.7, 46.5, 48.9, 49.3, 36.1, 43.1, 46.9, 35.6, 47.2, 50.2,\n",
       "       37.6, 40.4, 39.7, 38.5, 33.3, 32. , 33.7, 28. , 50.3, 41.9, 51.1,\n",
       "       31.4, 32.8, 49.2, 39.6, 33.8, 50.4, 42.3, 31.6, 41.7, 51.3, 47.8,\n",
       "       33.9, 33.4, 33. , 40.5, 32.3, 49.6, 50.8, 36. , 50.5, 34.7, 49.5,\n",
       "       44.4, 34.1, 54.9, 47.1, 34.3, 54.1, 33.2, 20.1, 51.6, 35.5, 26.1,\n",
       "       49.7, 54.2, 27.3, 52.7, 30.3, 28.4, 31. , 53. , 52.1, 50. , 32.2,\n",
       "       32.7, 30.8, 51.8, 51.4, 34.6, 33.5, 28.3, 31.2, 25.5, 30.9, 29.8,\n",
       "       52.4, 35. , 53.3, 52.8, 52. , 53.8, 34.9, 27.9, 54.5, 27.1, 32.9,\n",
       "       51. , 31.9, 52.2, 26.7, 31.1, 30.7, 29.7, 28.5, 52.9, 52.6, 31.3,\n",
       "       29.5, 54.7, 53.5, 29.6, 32.5, 30.4, 30.6, 23.5, 27.4, 51.9, 53.2,\n",
       "       55.4, 29.1, 27.5, 52.5, 21.5, 29.3, 26. , 26.3, 30.1, 28.2, 31.8,\n",
       "       28.9, 29. , 25. , 30. , 55. , 56.3, 26.5, 28.7, 32.1, 28.1, 24.5,\n",
       "       24.6, 27.6, 29.2, 29.9, 51.5, 55.5, 30.2, 28.8, 54.6, 53.4, 23.8,\n",
       "       20.8, 24. , 20.5, 25.7, 26.8, 22.7, 24.2, 23.2, 27.2, 55.8, 25.4,\n",
       "       23.6, 26.6, 57.7, 25.9, 53.6, 52.3, 23. , 24.4, 20.6, 23.4, 21.9,\n",
       "       27.7, 23.3, 54.3, 25.2, 54.4, 53.9, 54. , 24.8, 21.7, 17.9, 55.9,\n",
       "       25.3, 55.1, 56.5, 24.7, 53.7, 59. , 21.8, 25.1, 22.8, 23.9, 55.2,\n",
       "       57.8, 24.3, 58.8, 26.9, 54.8, 55.6, 26.2, 53.1, 56.4, 23.1])"
      ]
     },
     "metadata": {},
     "output_type": "display_data"
    },
    {
     "name": "stdout",
     "output_type": "stream",
     "text": [
      "MCV\n"
     ]
    },
    {
     "data": {
      "text/plain": [
       "array([ 80.1,  90.3,  88.6,   0. ,  90.9,  98. ,  93.5,  97.2,  85.9,\n",
       "        89.6,  88.4,  98.6,  86.9,  85.8,  92.1,  88.2,  92.2,  94.6,\n",
       "        93.9,  90. ,  93.2,  96.4,  86.5,  87.1,  88. ,  89.8,  94.1,\n",
       "        96. ,  84. ,  94. ,  96.1,  87.3,  82.3,  94.5,  89.3,  91.4,\n",
       "        84.4,  94.2,  85.4,  71.8,  86.7,  87.2,  90.2,  85.3,  84.6,\n",
       "        99.4,  89.7,  93.4, 100.7,  87.8,  94.8,  88.1,  83.4,  86.3,\n",
       "        91.6,  97.1,  91. ,  95.5,  90.6,  93.6,  89.9,  88.7,  83.6,\n",
       "        94.7,  92. ,  94.4,  83.5,  97.4,  92.4,  91.9,  86. ,  95.3,\n",
       "        89.1,  87.4,  90.1,  90.4,  84.8,  85. ,  84.1,  78.4,  83.3,\n",
       "        93.1,  90.7,  89.2,  83.2,  92.8,  93.7,  85.1,  91.5, 102. ,\n",
       "        72.5,  91.1,  80.5,  72.8,  88.5,  88.9,  87.9,  93.8,  77.7,\n",
       "        86.1,  93. ,  97.5, 100.3,  81.3,  75. ,  87.6,  88.8,  95.1,\n",
       "        97.3,  89.5,  79.3,  98.3,  89.4,  98.4,  80.7,  85.2,  95. ,\n",
       "        81. ,  92.9,  85.6,  67.3,  86.4,  87.7,  80.4,  90.5,  81.2,\n",
       "        92.3,  82.7,  82.6,  95.7,  91.7,  78.7,  92.7,  96.7,  71.4,\n",
       "        81.5,  80. ,  79.9,  96.6,  91.3,  70.4,  81.8,  96.8,  96.2,\n",
       "        86.2,  81.6,  62.8,  93.3,  71.1,  75.4,  84.3,  84.9,  83.1,\n",
       "        82.2,  85.7,  95.6,  84.7,  89. ,  80.3,  96.3,  94.9,  98.2,\n",
       "       108.9,  86.8,  71.3,  99.2,  90.8,  92.5,  92.6,  78.8, 109.1,\n",
       "        97.7,  96.5,  87. ,  98.9,  95.9,  77.6, 121.9,  91.8,  83.8,\n",
       "       101.5,  78.6,  81.1,  95.2,  75.9,  85.5,  72.1,  97. ,  69.6,\n",
       "        98.5,  74.4, 101.7,  99.7,  94.3,  91.2,  83.9, 103.3,  81.9,\n",
       "        83.7,  98.7,  96.9,  80.9,  99.1,  79.4,  97.8,  88.3,  86.6,\n",
       "        78.2, 101.9, 105.5, 100.5,  97.6,  73.5,  77.9,  99.3,  82.9,\n",
       "        79.7,  99.8,  82.8,  75.6, 102.8, 119.2, 113.2, 106.7,  83. ,\n",
       "        84.5, 101.6,  95.4,  87.5,  73.9,  66.4,  79.2,  98.1, 105.1,\n",
       "       102.4,  69.3, 108.2,  72.7,  82.4,  78. , 103.2,  75.8,  99.5,\n",
       "        79.1,  84.2,  63.3,  77.8,  57.3, 118.8,  69.1, 100.1,  81.4,\n",
       "        76.1,  95.8,  75.3,  75.7,  75.2,  62. ,  99.6, 113.4,  81.7,\n",
       "        70.7,  70.9,  77.2,  97.9, 100.9,  82. , 100.8,  99.9,  67.1,\n",
       "        76.6, 104.4,  78.9,  73.8,  74.5,  80.6,  74.3,  78.1,  67.9,\n",
       "        68.1, 113.8,  76.2,  78.5,  73. ,  77. ,  75.5,  79.6,  73.4,\n",
       "        80.8, 101.2,  69.7,  79.5,  70.1, 103.5,  63.6,  70.2,  99. ,\n",
       "        74.6,  65.4, 115.5, 101.4, 101.1,  74.2, 105.2,  65.3,  72.6,\n",
       "        74.1,  75.1,  82.1,  79. , 102.3,  67.6,  72.2, 100.4, 100.2,\n",
       "        76.3, 101.3,  76.8,  76.5,  70.6,  70.3,  78.3,  77.4,  77.5,\n",
       "        58.7,  73.7,  72.3,  76.4, 105.9, 102.2,  98.8,  82.5, 100. ,\n",
       "        69.4,  69.9, 104.8,  65.1, 104.2,  64. ,  67.7,  71.9,  72. ,\n",
       "        76. , 105.7,  80.2,  77.1, 103.6,  73.2,  71.2,  68.2, 101.8,\n",
       "       113.5,  76.9, 103.8, 101. , 104.5,  74. ,  67.8, 102.5,  68.8,\n",
       "        66.6,  51.1,  62.7,  67.2,  70.8,  61.7, 106. , 102.1,  65.9,\n",
       "       106.6,  63.8,  69.2,  64.1,  68. , 102.6,  64.6,  71.7, 103. ,\n",
       "        68.6,  66.3,  77.3,  74.9,  73.6, 116.8,  63. ,  79.8,  66.8,\n",
       "        68.4,  65.7,  60.7,  73.1,  59.4,  64.4, 102.7,  74.8,  73.3,\n",
       "        70. ,  69.8, 106.3,  69. ,  71.6,  66.7, 108.4,  66.5, 125.3,\n",
       "        61.4,  62.4,  74.7,  68.7,  63.2, 118.1, 100.6, 103.4, 107.6,\n",
       "        76.7, 106.8, 105. ,  72.9,  66.9, 105.4,  68.3,  68.5, 107.1,\n",
       "       104.1,  60.9, 111.3, 108. ,  59.9,  68.9, 113.1,  60.6,  61.3,\n",
       "       107. , 109.4,  57.5, 108.1, 106.1, 112.2, 105.8, 107.8,  70.5,\n",
       "       107.5, 107.9,  64.5,  72.4, 110.5,  58.8,  58.6, 111. ,  71.5,\n",
       "        64.2, 109.6,  63.1, 104.7, 109.5,  57.8,  69.5, 105.6,  61.1,\n",
       "       103.7,  66.2, 103.1,  60.2,  55.4,  60.1,  61.6,  66. , 106.9,\n",
       "        61.8, 106.4,  64.3,  63.4,  64.7, 104.9, 102.9, 108.3, 103.9,\n",
       "       111.8,  64.9,  65.8,  67.4,  65.6, 108.6, 105.3, 110.3,  57.7,\n",
       "       104.6, 115.3,  61.2,  62.1,  67. ,  71. ,  62.2,  58.4,  65.2,\n",
       "       110.1, 106.2,  61.5, 106.5,  55.7,  59.5,  64.8,  57.6, 108.7,\n",
       "        59.6,  65.5,  50.8,  62.9,  67.5, 109.2,  59.3,  60.5,  62.3,\n",
       "        55.3,  63.7,  55.1,  54.9, 111.5, 114.3,  66.1,  62.5, 115.6,\n",
       "        51.6,  60.4,  60.3, 104.3,  59.7, 111.2,  58.9,  54. , 114.6,\n",
       "        56.8, 104. ,  63.5,  35.4,  61.9])"
      ]
     },
     "metadata": {},
     "output_type": "display_data"
    },
    {
     "name": "stdout",
     "output_type": "stream",
     "text": [
      "MCH\n"
     ]
    },
    {
     "data": {
      "text/plain": [
       "array([27.1, 30.7, 29.2,  0. , 30.3, 33.3, 32.2, 29.3, 30.8, 30.6, 31.4,\n",
       "       33.7, 29.5, 30. , 31.2, 29.4, 31.7, 31.9, 32.5, 31.6, 28.3, 27.7,\n",
       "       32. , 33.6, 30.9, 28.8, 32.6, 28.6, 32.3, 29. , 33.1, 23.3, 28.7,\n",
       "       29.8, 30.4, 31. , 32.8, 33.2, 34. , 29.9, 28.5, 27.5, 33.9, 31.5,\n",
       "       28.2, 31.3, 27.8, 30.1, 27. , 30.5, 32.4, 28.1, 31.8, 26. , 27.4,\n",
       "       27.2, 31.1, 33.5, 23.1, 27.3, 23.8, 28.9, 26.2, 26.9, 32.7, 25.8,\n",
       "       24. , 29.6, 22.1, 30.2, 33. , 26.7, 29.1, 25.7, 22.6, 22. , 26.4,\n",
       "       29.7, 26.5, 19.5, 23.9, 26.3, 32.9, 35.8, 23.6, 28. , 24.6, 26.1,\n",
       "       37.3, 27.9, 34.9, 42.8, 32.1, 25.5, 25.6, 24.2, 34.2, 25. , 35.2,\n",
       "       37.2, 36.8, 27.6, 35. , 25.2, 34.5, 35.3, 34.3, 33.8, 26.8, 36.3,\n",
       "       36.7, 33.4, 23.7, 41.1, 39.2, 36.5, 28.4, 20.5, 41.6, 21.8, 34.8,\n",
       "       26.6, 37. , 24.5, 34.7, 20. , 17.1, 41.2, 21.7, 25.3, 24.8, 24.7,\n",
       "       19.8, 22.2, 21.6, 20.8, 25.9, 23.5, 22.8, 34.6, 34.4, 21.5, 38.6,\n",
       "       39.8, 22.5, 24.9, 35.1, 34.1, 25.1, 20.6, 35.4, 35.7, 22.7, 23.4,\n",
       "       23.2, 21.4, 21.1, 25.4, 36.1, 36.6, 38. , 23. , 22.3, 24.4, 17.4,\n",
       "       35.5, 20.2, 19.7, 20.9, 19.3, 24.3, 21. , 21.2, 24.1, 14.7, 20.4,\n",
       "       22.4, 21.3, 36.9, 36.2, 35.9, 38.1, 20.7, 38.2, 35.6, 60.8, 40.9,\n",
       "       18.7, 18.4, 36. , 22.9, 36.4, 18.5, 44.4, 37.1, 21.9, 20.1, 20.3,\n",
       "       40.2, 37.5, 19.9, 38.7, 18. , 39. , 18.8, 56.2, 40.8, 18.1, 17.7,\n",
       "       37.7, 19. , 38.3, 17.3, 37.6, 46.1, 37.8, 16.3, 19.6, 39.6, 16.4,\n",
       "       18.9, 19.1, 17.8, 37.9, 38.9, 18.6, 40. , 18.3, 46.4, 74.5, 19.2,\n",
       "       16.8, 19.4, 14.6, 38.5, 16.6, 15.1, 15.3, 16.2, 15.8, 15.2, 38.4,\n",
       "       17.9, 12.4])"
      ]
     },
     "metadata": {},
     "output_type": "display_data"
    },
    {
     "name": "stdout",
     "output_type": "stream",
     "text": [
      "MCHC\n"
     ]
    },
    {
     "data": {
      "text/plain": [
       "array([33.8, 34. , 33. ,  0. , 33.3, 32.3, 33.2, 34.1, 34.5, 33.6, 32.7,\n",
       "       35.6, 35. , 33.9, 34.4, 34.7, 32.5, 31.8, 34.9, 34.2, 35.2, 32.9,\n",
       "       33.5, 34.3, 35.3, 33.1, 34.6, 33.4, 33.7, 34.8, 32. , 35.5, 32.2,\n",
       "       35.1, 32.8, 31.5, 35.4, 31.7, 32.1, 31.6, 32.6, 31.2, 36.4, 31.9,\n",
       "       31. , 32.4, 35.7, 31.4, 35.9, 37.3, 35.8, 31.3, 36. , 36.9, 30.9,\n",
       "       39.5, 30.6, 29.9, 36.1, 30.5, 31.1, 30.7, 36.6, 36.7, 37.2, 30.8,\n",
       "       29.6, 29.1, 29.8, 36.3, 28.8, 30.3, 36.8, 37.1, 36.2, 36.5, 38.1,\n",
       "       37.5, 37. , 38.7, 39. , 37.6, 37.4, 29.5, 43.3, 30.2, 43.8, 28.2,\n",
       "       30.4, 30.1, 29.2, 38. , 37.9, 30. , 29. , 29.4, 25.1, 37.7, 29.3,\n",
       "       44.9, 28. , 69.6, 43.5, 40.9, 41.6, 28.7, 28.9, 28.5, 29.7, 27.1,\n",
       "       27.6, 38.3, 28.6, 27.7, 25.2, 27.9])"
      ]
     },
     "metadata": {},
     "output_type": "display_data"
    },
    {
     "name": "stdout",
     "output_type": "stream",
     "text": [
      "RDW\n"
     ]
    },
    {
     "data": {
      "text/plain": [
       "array([13.7, 12.5, 13.4,  0. , 12.1, 11.6, 13.3, 12.4, 13.6, 12.6, 11.8,\n",
       "       13.9, 11.9, 12.2, 12.9, 14. , 12. , 12.3, 13.1, 12.7, 17.1, 11.5,\n",
       "       13.5, 12.8, 17.6, 11.4, 13.8, 11.3, 14.7, 14.5, 11.7, 14.6, 17. ,\n",
       "       13.2, 14.4, 14.1, 13. , 15.6, 19.5, 15.9, 18.5, 15. , 15.3, 19.6,\n",
       "       15.1, 16.8, 16.1, 14.2, 11.2, 22.5, 14.3, 15.4, 16.2, 16. , 16.3,\n",
       "       17.3, 11. , 16.9, 15.5, 15.2, 14.8, 17.2, 18.8, 16.6, 11.1, 14.9,\n",
       "       19.8, 16.4, 20.6, 18.1, 19. , 21.1, 22.7, 18.3, 15.8, 16.5, 23. ,\n",
       "       20.3, 16.7, 18. , 18.2, 17.4, 20.5, 17.5, 24. , 21.5, 17.7, 23.2,\n",
       "       25.5, 26.5, 25.8, 20.4, 10.7, 15.7, 17.8, 19.2, 17.9, 24.2, 19.9,\n",
       "       20.9, 22.2, 10.8, 23.6, 20.7, 20.1, 20.8, 37.8, 25. , 19.7, 23.1,\n",
       "       20. , 20.2, 19.3, 25.6, 18.9, 30.9, 18.4, 18.7, 23.9, 10.9, 28.8,\n",
       "       30.6, 23.5, 31.8, 22.4, 19.1, 30.8, 24.6, 21.6, 21.7, 21. , 22.8,\n",
       "       19.4, 18.6, 26.6, 24.5, 22.3, 25.9, 21.9, 22. , 26.1, 29.1, 21.2,\n",
       "       21.3, 25.3, 26. , 24.4, 24.7, 22.1, 22.6, 21.4, 23.8, 23.4, 26.4,\n",
       "       29.2])"
      ]
     },
     "metadata": {},
     "output_type": "display_data"
    },
    {
     "name": "stdout",
     "output_type": "stream",
     "text": [
      "platelet_count\n"
     ]
    },
    {
     "data": {
      "text/plain": [
       "array([ 298.,  225.,  222.,    0.,  217.,  198.,  237.,  261.,  342.,\n",
       "        245.,  293.,  286.,  292.,  375.,  313.,  244.,  337.,  263.,\n",
       "        294.,  270.,  257.,  560.,  304.,  311.,  336.,  233.,  330.,\n",
       "        390.,  285.,  328.,  236.,  309.,  410.,  227.,  242.,  147.,\n",
       "        262.,  215.,  369.,  254.,  248.,  474.,  208.,  141.,  354.,\n",
       "        206.,  239.,   74.,  314.,  243.,  299.,  234.,  340.,  202.,\n",
       "        255.,  329.,  271.,  284.,  308.,  300.,  348.,  211.,  216.,\n",
       "        235.,  382.,  266.,  323.,  418.,  305.,  335.,  256.,  280.,\n",
       "        180.,  385.,  194.,  241.,  273.,  278.,  361.,  186.,  232.,\n",
       "        120.,  318.,  179.,  338.,  358.,  159.,  258.,  331.,  424.,\n",
       "        288.,  209.,  253.,  201.,  268.,  346.,  357.,  350.,  392.,\n",
       "        275.,  365.,  264.,  205.,  334.,  376.,  289.,  272.,  260.,\n",
       "        301.,  259.,  287.,  401.,  214.,  326.,  487.,  370.,  228.,\n",
       "        312.,  316.,  404.,  207.,  172.,  197.,  226.,  249.,  250.,\n",
       "        377.,  306.,  170.,  302.,  315.,  396.,  363.,  231.,  229.,\n",
       "        371.,  246.,  282.,  220.,  347.,  355.,  265.,  224.,  277.,\n",
       "        267.,  374.,  219.,  230.,  291.,  240.,  167.,  398.,  303.,\n",
       "        183.,  339.,  351.,  416.,  188.,  276.,  386.,  203.,  378.,\n",
       "        356.,  397.,  251.,  269.,  164.,  218.,  317.,  195.,  274.,\n",
       "        190.,  384.,  247.,  383.,  341.,  169.,  320.,  182.,  327.,\n",
       "        366.,  362.,  196.,  156.,  296.,  349.,  405.,  178.,  389.,\n",
       "        319.,  399.,  352.,  210.,  321.,  290.,  184.,  221.,  200.,\n",
       "        353.,  307.,  173.,  325.,  283.,  344.,  238.,  332.,  480.,\n",
       "        454.,  279.,  451.,  368.,  223.,  333.,  153.,  168.,  373.,\n",
       "        412.,  212.,  380.,  343.,  204.,  497.,  158.,  310.,  191.,\n",
       "        411.,  149.,  213.,  364.,  359.,  162.,  393.,  252.,  439.,\n",
       "        562.,  192.,  155.,  456.,  295.,  367.,  322.,  171.,  324.,\n",
       "         73.,  187.,  402.,  457.,  471.,  142.,  437.,  436.,  458.,\n",
       "        165.,  199.,  391.,  442.,  193.,  491.,  408.,  430.,  529.,\n",
       "        428.,  423.,  360.,  176.,  181.,  297.,  425.,  185.,  372.,\n",
       "        157.,  417.,  552.,   94.,  429.,  281.,  702.,  139.,   96.,\n",
       "        419.,  486.,  152.,  432.,  175.,  482.,  557.,  500.,  345.,\n",
       "        650.,  492.,  160.,  508.,  443.,  440.,  381.,    4.,  110.,\n",
       "        129.,   66.,  450.,  447.,  395.,  387.,  521.,  166.,  452.,\n",
       "        476.,  413.,  421.,  150.,  435.,  464.,  420.,  407.,  406.,\n",
       "        564.,  163.,  469.,  463.,  415.,  494.,  388.,  540.,  414.,\n",
       "        558.,  154.,  128.,  177.,  394.,  116.,  125.,  438.,   88.,\n",
       "        135.,  400.,  137.,  132.,  409.,  434.,   62.,  475.,  467.,\n",
       "        453.,  478.,  444.,  161.,  101.,  503.,  535.,  136.,  145.,\n",
       "        379.,  174.,  119.,  554.,  189.,  509.,  446.,  427.,  112.,\n",
       "        144.,  127.,  506.,  102.,  483.,  496.,  426.,  108.,  493.,\n",
       "        103.,  113.,  485.,  490.,  130.,   84.,  481.,  431.,  477.,\n",
       "        489.,  470.,  151.,  613.,  441.,  551.,   98.,  462.,  517.,\n",
       "        123.,  126.,  530.,  448.,  403.,  455.,  104.,  822.,  460.,\n",
       "        148.,   95.,  513.,  534.,  527.,  465.,  484.,  626.,  516.,\n",
       "        615.,  140.,  501.,  114.,  461.,  138.,  445.,   41.,  629.,\n",
       "        105.,  131.,   63.,  121.,  578.,  515.,  646.,  146.,  479.,\n",
       "         56.,   89.,  422.,  589.,  625.,  488.,  433.,  459.,   57.,\n",
       "        598.,   83.,  109.,  134.,  585.,   39.,  124.,   93.,   28.,\n",
       "        468.,  519.,  556.,  115.,  651.,  504.,  117.,   85.,  514.,\n",
       "        520.,  499.,  505.,  449.,  569.,  511.,   99.,  143.,  667.,\n",
       "        473.,   97.,   35.,  133.,  799.,  533.,  575.,  111.,   78.,\n",
       "         65.,  122.,   11.,   47.,  672.,  106.,   70.,  100.,   81.,\n",
       "         77.,  576.,  118.,   75.,  107.,   60.,  539.,  531.,   92.,\n",
       "        991.,   72., 1000.,  553.,   76.,   34.,   49.,   86.,   90.,\n",
       "        466.,  681.,   22.,   79.,   91.,  507.,   69.,  559.,  543.,\n",
       "         27.,   48.,  659.,   18.,   80.,  612.,   38.,  579.,   87.,\n",
       "         54.,  633.,  601.,  669.,  599.,  522.,   14.,  570.,   53.,\n",
       "        568.,  664.,   67.,  524.,   36.,  777.,  818.,  545.,  662.,\n",
       "        620.,   71.,  583.,  498.,  541.,  495.,   61.])"
      ]
     },
     "metadata": {},
     "output_type": "display_data"
    },
    {
     "name": "stdout",
     "output_type": "stream",
     "text": [
      "MPV\n"
     ]
    },
    {
     "data": {
      "text/plain": [
       "array([ 7.8,  8.6,  0. ,  9.3,  9.1,  8.2,  8.8,  8.3,  7.6,  6.4,  8.4,\n",
       "        6.9,  9.6,  8.1,  7.4,  9. ,  8.9,  7.5,  8. ,  9.4,  7.3,  9.8,\n",
       "        7. ,  6.6, 10. ,  6.8,  7.1,  8.7, 10.2,  7.2,  7.9,  7.7, 11. ,\n",
       "       10.1,  8.5,  9.9,  5.7, 12. ,  9.5,  6.5,  6.3, 11.4, 11.2,  6.1,\n",
       "        9.7, 10.5, 10.8, 10.4,  6.7,  9.2, 10.7, 10.6, 11.5, 10.3, 10.9,\n",
       "        5.5, 11.1,  5. ,  5.8,  6.2, 11.7,  6. , 12.1,  5.6,  5.9, 11.3,\n",
       "       12.2,  5.4, 11.6, 12.6, 11.8,  5.1,  5.2,  4.8,  4.7, 12.5, 11.9,\n",
       "       13.5, 12.4, 13. , 13.6, 12.3, 13.3, 15.1])"
      ]
     },
     "metadata": {},
     "output_type": "display_data"
    },
    {
     "name": "stdout",
     "output_type": "stream",
     "text": [
      "full_time_work\n"
     ]
    },
    {
     "data": {
      "text/plain": [
       "array(['Missing', 'No', 'Yes'], dtype=object)"
      ]
     },
     "metadata": {},
     "output_type": "display_data"
    },
    {
     "name": "stdout",
     "output_type": "stream",
     "text": [
      "work_type\n"
     ]
    },
    {
     "data": {
      "text/plain": [
       "array(['Private Wage Worker', 'Missing', 'Government', 'Family Business',\n",
       "       'Self Employed'], dtype=object)"
      ]
     },
     "metadata": {},
     "output_type": "display_data"
    },
    {
     "name": "stdout",
     "output_type": "stream",
     "text": [
      "time_in_current_job\n"
     ]
    },
    {
     "data": {
      "text/plain": [
       "array([324.,  96.,   0.,  12.,  24.,   3., 300.,  60., 372.,  84.,  15.,\n",
       "        36., 480., 216., 120., 552.,   1.,   7.,  18., 432.,  72.,   6.,\n",
       "       180., 108.,  48., 168.,  11.,   5., 456.,  17., 204., 252.,   2.,\n",
       "       156., 240.,  14.,  16., 576., 132.,   4., 336.,   9., 228., 144.,\n",
       "       420.,   8., 396., 264., 288., 708., 192., 276.,  30., 360.,  44.,\n",
       "       312.,  19.,  10., 444., 672.,  42., 588., 600., 348., 408., 660.,\n",
       "        21., 384.,  34.,  28.,  26.,  13., 528.,  29., 564., 540., 468.,\n",
       "       720.,  27.,  46.,  43.,  31., 696., 492.,  20., 504.,  33.,  40.,\n",
       "        32.,  22., 624.,  39., 516., 636.,  25.,  38., 612.,  23.,  35.])"
      ]
     },
     "metadata": {},
     "output_type": "display_data"
    },
    {
     "name": "stdout",
     "output_type": "stream",
     "text": [
      "out_of_work\n"
     ]
    },
    {
     "data": {
      "text/plain": [
       "array(['Missing', 'Retired', 'Disabled', 'Home Caretaker', 'School',\n",
       "       'Health', 'Other', 'Layoff'], dtype=object)"
      ]
     },
     "metadata": {},
     "output_type": "display_data"
    },
    {
     "name": "stdout",
     "output_type": "stream",
     "text": [
      "trouble_sleeping_history\n"
     ]
    },
    {
     "data": {
      "text/plain": [
       "array([0., 1.])"
      ]
     },
     "metadata": {},
     "output_type": "display_data"
    },
    {
     "name": "stdout",
     "output_type": "stream",
     "text": [
      "sleep_hours\n"
     ]
    },
    {
     "data": {
      "text/plain": [
       "array([ 9. ,  7. ,  6. ,  8. ,  2. ,  5. ,  4. , 12. , 10. , 11. ,  3. ,\n",
       "        1. ,  0. ,  5.5,  6.5,  9.5,  8.5,  7.5,  2.5,  4.5,  3.5, 11.5,\n",
       "       10.5, 12.5, 13. , 14.5, 14. , 13.5])"
      ]
     },
     "metadata": {},
     "output_type": "display_data"
    },
    {
     "name": "stdout",
     "output_type": "stream",
     "text": [
      "vigorous_recreation\n"
     ]
    },
    {
     "data": {
      "text/plain": [
       "array(['No', 'Yes', 'Missing'], dtype=object)"
      ]
     },
     "metadata": {},
     "output_type": "display_data"
    },
    {
     "name": "stdout",
     "output_type": "stream",
     "text": [
      "moderate_recreation\n"
     ]
    },
    {
     "data": {
      "text/plain": [
       "array(['No', 'Yes', 'Missing'], dtype=object)"
      ]
     },
     "metadata": {},
     "output_type": "display_data"
    },
    {
     "name": "stdout",
     "output_type": "stream",
     "text": [
      "sedentary_time\n"
     ]
    },
    {
     "data": {
      "text/plain": [
       "array([1.50e+02, 9.00e+01, 1.20e+02, 3.60e+02, 1.80e+02, 3.00e+02,\n",
       "       4.20e+02, 5.40e+02, 3.00e+01, 6.00e+01, 2.70e+02, 2.40e+02,\n",
       "       3.30e+02, 2.10e+02, 0.00e+00, 6.00e+02, 4.80e+02, 7.20e+02,\n",
       "       1.50e+01, 1.02e+03, 9.00e+02, 6.60e+02, 8.40e+02, 4.50e+01,\n",
       "       1.08e+03, 9.60e+02, 2.00e+01, 7.80e+02, 1.00e+01, 9.00e+00,\n",
       "       1.30e+01, 1.00e+00, 4.00e+01, 2.60e+02, 3.00e+00, 5.00e+00,\n",
       "       1.20e+03, 6.00e+00, 2.00e+00, 2.50e+01, 5.00e+01, 7.00e+00,\n",
       "       8.00e+00, 1.20e+01, 7.50e+01, 4.00e+00, 2.30e+02, 1.14e+03,\n",
       "       5.50e+01, 1.60e+01, 8.10e+01, 1.05e+02, 4.90e+02, 8.00e+01,\n",
       "       3.90e+02, 5.10e+02, 1.40e+02, 1.00e+02, 2.25e+02, 2.20e+01,\n",
       "       2.00e+02, 1.32e+03, 5.14e+02, 2.90e+01, 1.45e+02, 1.10e+01,\n",
       "       3.50e+01])"
      ]
     },
     "metadata": {},
     "output_type": "display_data"
    },
    {
     "name": "stdout",
     "output_type": "stream",
     "text": [
      "vigorous_work\n"
     ]
    },
    {
     "data": {
      "text/plain": [
       "array([0., 1.])"
      ]
     },
     "metadata": {},
     "output_type": "display_data"
    },
    {
     "name": "stdout",
     "output_type": "stream",
     "text": [
      "moderate_work\n"
     ]
    },
    {
     "data": {
      "text/plain": [
       "array([0., 1.])"
      ]
     },
     "metadata": {},
     "output_type": "display_data"
    },
    {
     "name": "stdout",
     "output_type": "stream",
     "text": [
      "drinks_per_occasion\n"
     ]
    },
    {
     "data": {
      "text/plain": [
       "array([ 0.,  1.,  2.,  3.,  7.,  4.,  8., 12.,  6.,  5.,  9., 10., 14.,\n",
       "       15., 17., 20., 24., 32., 11., 13., 18., 25., 30., 66., 83., 16.,\n",
       "       23., 19., 21., 36., 82., 64.])"
      ]
     },
     "metadata": {},
     "output_type": "display_data"
    },
    {
     "name": "stdout",
     "output_type": "stream",
     "text": [
      "lifetime_alcohol_consumption\n"
     ]
    },
    {
     "data": {
      "text/plain": [
       "array(['Yes', 'Missing', 'No'], dtype=object)"
      ]
     },
     "metadata": {},
     "output_type": "display_data"
    },
    {
     "name": "stdout",
     "output_type": "stream",
     "text": [
      "drinks_past_year\n"
     ]
    },
    {
     "data": {
      "text/plain": [
       "array([  0., 208., 104.,  24., 364., 156.,  36.,   6.,   1.,   2.,  64.,\n",
       "       260.,  60.,   3.,   4.,  10.,   5.,  52.,  12.,   7.,  50.,  48.,\n",
       "        21., 335.,  11.,  14., 312.,  84.,  72., 182.,  32.,  30., 365.,\n",
       "        20.,  16., 240., 250., 120.,  45.,  96.,   8., 150.,  15.,  40.,\n",
       "       360., 180., 200.,   9., 300.,  85.,  34.,  18., 100.,  90.,  26.,\n",
       "        28., 264., 275., 270., 160., 144., 334., 320.,  25., 350., 168.,\n",
       "       304., 252., 330.,  80., 183.,  65., 140., 210.,  13., 132., 216.,\n",
       "        23.,  56., 108., 288., 198.,  35., 324., 178., 220.,  97.,  42.,\n",
       "       138., 245., 336., 340., 305.,  17., 112.,  61., 348.,  19.])"
      ]
     },
     "metadata": {},
     "output_type": "display_data"
    },
    {
     "name": "stdout",
     "output_type": "stream",
     "text": [
      "cant_work\n"
     ]
    },
    {
     "data": {
      "text/plain": [
       "array([0., 1.])"
      ]
     },
     "metadata": {},
     "output_type": "display_data"
    },
    {
     "name": "stdout",
     "output_type": "stream",
     "text": [
      "limited_work\n"
     ]
    },
    {
     "data": {
      "text/plain": [
       "array([0., 1.])"
      ]
     },
     "metadata": {},
     "output_type": "display_data"
    },
    {
     "name": "stdout",
     "output_type": "stream",
     "text": [
      "walking_equipment\n"
     ]
    },
    {
     "data": {
      "text/plain": [
       "array([0., 1.])"
      ]
     },
     "metadata": {},
     "output_type": "display_data"
    },
    {
     "name": "stdout",
     "output_type": "stream",
     "text": [
      "memory_problems\n"
     ]
    },
    {
     "data": {
      "text/plain": [
       "array([0., 1.])"
      ]
     },
     "metadata": {},
     "output_type": "display_data"
    },
    {
     "name": "stdout",
     "output_type": "stream",
     "text": [
      "limitations\n"
     ]
    },
    {
     "data": {
      "text/plain": [
       "array([0., 1.])"
      ]
     },
     "metadata": {},
     "output_type": "display_data"
    },
    {
     "name": "stdout",
     "output_type": "stream",
     "text": [
      "healthcare_equipment\n"
     ]
    },
    {
     "data": {
      "text/plain": [
       "array([0., 1.])"
      ]
     },
     "metadata": {},
     "output_type": "display_data"
    },
    {
     "name": "stdout",
     "output_type": "stream",
     "text": [
      "health_problem_Other Impairment\n"
     ]
    },
    {
     "data": {
      "text/plain": [
       "array([0., 1.])"
      ]
     },
     "metadata": {},
     "output_type": "display_data"
    },
    {
     "name": "stdout",
     "output_type": "stream",
     "text": [
      "health_problem_Bone or Joint\n"
     ]
    },
    {
     "data": {
      "text/plain": [
       "array([0., 1.])"
      ]
     },
     "metadata": {},
     "output_type": "display_data"
    },
    {
     "name": "stdout",
     "output_type": "stream",
     "text": [
      "health_problem_Weight\n"
     ]
    },
    {
     "data": {
      "text/plain": [
       "array([0., 1.])"
      ]
     },
     "metadata": {},
     "output_type": "display_data"
    },
    {
     "name": "stdout",
     "output_type": "stream",
     "text": [
      "health_problem_Back or Neck\n"
     ]
    },
    {
     "data": {
      "text/plain": [
       "array([0., 1.])"
      ]
     },
     "metadata": {},
     "output_type": "display_data"
    },
    {
     "name": "stdout",
     "output_type": "stream",
     "text": [
      "health_problem_Arthritis\n"
     ]
    },
    {
     "data": {
      "text/plain": [
       "array([0., 1.])"
      ]
     },
     "metadata": {},
     "output_type": "display_data"
    },
    {
     "name": "stdout",
     "output_type": "stream",
     "text": [
      "health_problem_Cancer\n"
     ]
    },
    {
     "data": {
      "text/plain": [
       "array([0., 1.])"
      ]
     },
     "metadata": {},
     "output_type": "display_data"
    },
    {
     "name": "stdout",
     "output_type": "stream",
     "text": [
      "health_problem_Other Injury\n"
     ]
    },
    {
     "data": {
      "text/plain": [
       "array([0., 1.])"
      ]
     },
     "metadata": {},
     "output_type": "display_data"
    },
    {
     "name": "stdout",
     "output_type": "stream",
     "text": [
      "health_problem_Breathing\n"
     ]
    },
    {
     "data": {
      "text/plain": [
       "array([0., 1.])"
      ]
     },
     "metadata": {},
     "output_type": "display_data"
    },
    {
     "name": "stdout",
     "output_type": "stream",
     "text": [
      "health_problem_Stroke\n"
     ]
    },
    {
     "data": {
      "text/plain": [
       "array([0., 1.])"
      ]
     },
     "metadata": {},
     "output_type": "display_data"
    },
    {
     "name": "stdout",
     "output_type": "stream",
     "text": [
      "health_problem_Blood Pressure\n"
     ]
    },
    {
     "data": {
      "text/plain": [
       "array([0., 1.])"
      ]
     },
     "metadata": {},
     "output_type": "display_data"
    },
    {
     "name": "stdout",
     "output_type": "stream",
     "text": [
      "health_problem_Mental Retardation\n"
     ]
    },
    {
     "data": {
      "text/plain": [
       "array([0., 1.])"
      ]
     },
     "metadata": {},
     "output_type": "display_data"
    },
    {
     "name": "stdout",
     "output_type": "stream",
     "text": [
      "health_problem_Hearing\n"
     ]
    },
    {
     "data": {
      "text/plain": [
       "array([0., 1.])"
      ]
     },
     "metadata": {},
     "output_type": "display_data"
    },
    {
     "name": "stdout",
     "output_type": "stream",
     "text": [
      "health_problem_Heart\n"
     ]
    },
    {
     "data": {
      "text/plain": [
       "array([0., 1.])"
      ]
     },
     "metadata": {},
     "output_type": "display_data"
    },
    {
     "name": "stdout",
     "output_type": "stream",
     "text": [
      "health_problem_Vision\n"
     ]
    },
    {
     "data": {
      "text/plain": [
       "array([0., 1.])"
      ]
     },
     "metadata": {},
     "output_type": "display_data"
    },
    {
     "name": "stdout",
     "output_type": "stream",
     "text": [
      "health_problem_Diabetes\n"
     ]
    },
    {
     "data": {
      "text/plain": [
       "array([0., 1.])"
      ]
     },
     "metadata": {},
     "output_type": "display_data"
    },
    {
     "name": "stdout",
     "output_type": "stream",
     "text": [
      "health_problem_Birth Defect\n"
     ]
    },
    {
     "data": {
      "text/plain": [
       "array([0., 1.])"
      ]
     },
     "metadata": {},
     "output_type": "display_data"
    },
    {
     "name": "stdout",
     "output_type": "stream",
     "text": [
      "health_problem_Senility\n"
     ]
    },
    {
     "data": {
      "text/plain": [
       "array([0., 1.])"
      ]
     },
     "metadata": {},
     "output_type": "display_data"
    },
    {
     "name": "stdout",
     "output_type": "stream",
     "text": [
      "health_problem_Other Developmental\n"
     ]
    },
    {
     "data": {
      "text/plain": [
       "array([0., 1.])"
      ]
     },
     "metadata": {},
     "output_type": "display_data"
    },
    {
     "name": "stdout",
     "output_type": "stream",
     "text": [
      "marijuana_use\n"
     ]
    },
    {
     "data": {
      "text/plain": [
       "array([0., 1.])"
      ]
     },
     "metadata": {},
     "output_type": "display_data"
    },
    {
     "name": "stdout",
     "output_type": "stream",
     "text": [
      "marijuana_per_month\n"
     ]
    },
    {
     "data": {
      "text/plain": [
       "array([ 0., 10.,  1., 25., 30., 15.,  3.,  5., 20.,  8.,  2., 99., 14.,\n",
       "        7., 28., 29.,  4., 21.,  6., 12., 26., 11., 22.,  9., 27., 13.,\n",
       "       24., 19., 77., 17., 23., 18., 16.])"
      ]
     },
     "metadata": {},
     "output_type": "display_data"
    },
    {
     "name": "stdout",
     "output_type": "stream",
     "text": [
      "cocaine_use\n"
     ]
    },
    {
     "data": {
      "text/plain": [
       "array([0., 1.])"
      ]
     },
     "metadata": {},
     "output_type": "display_data"
    },
    {
     "name": "stdout",
     "output_type": "stream",
     "text": [
      "cocaine_number_uses\n"
     ]
    },
    {
     "data": {
      "text/plain": [
       "array([0., 5., 4., 6., 2., 1., 3.])"
      ]
     },
     "metadata": {},
     "output_type": "display_data"
    },
    {
     "name": "stdout",
     "output_type": "stream",
     "text": [
      "cocaine_per_month\n"
     ]
    },
    {
     "data": {
      "text/plain": [
       "array([ 0.,  2.,  1., 99., 30.,  3.,  9.,  6.,  7., 10., 24., 16.,  5.,\n",
       "        4., 20.,  8., 15., 29., 13., 12., 18., 25., 28.])"
      ]
     },
     "metadata": {},
     "output_type": "display_data"
    },
    {
     "name": "stdout",
     "output_type": "stream",
     "text": [
      "heroine_use\n"
     ]
    },
    {
     "data": {
      "text/plain": [
       "array([0., 1.])"
      ]
     },
     "metadata": {},
     "output_type": "display_data"
    },
    {
     "name": "stdout",
     "output_type": "stream",
     "text": [
      "heronine_per_month\n"
     ]
    },
    {
     "data": {
      "text/plain": [
       "array([ 0.,  3.,  6.,  1., 20., 15., 23., 30.,  4.,  2., 25.,  8.,  5.,\n",
       "       28., 10.])"
      ]
     },
     "metadata": {},
     "output_type": "display_data"
    },
    {
     "name": "stdout",
     "output_type": "stream",
     "text": [
      "meth_use\n"
     ]
    },
    {
     "data": {
      "text/plain": [
       "array([0., 1.])"
      ]
     },
     "metadata": {},
     "output_type": "display_data"
    },
    {
     "name": "stdout",
     "output_type": "stream",
     "text": [
      "meth_number_uses\n"
     ]
    },
    {
     "data": {
      "text/plain": [
       "array([0., 3., 6., 4., 1., 2., 5.])"
      ]
     },
     "metadata": {},
     "output_type": "display_data"
    },
    {
     "name": "stdout",
     "output_type": "stream",
     "text": [
      "meth_per_month\n"
     ]
    },
    {
     "data": {
      "text/plain": [
       "array([ 0., 10.,  2.,  5., 30.,  1.,  3.,  4., 20., 15., 12.,  8.,  7.,\n",
       "       22.,  6., 14., 25., 27., 24., 28.])"
      ]
     },
     "metadata": {},
     "output_type": "display_data"
    },
    {
     "name": "stdout",
     "output_type": "stream",
     "text": [
      "inject_drugs\n"
     ]
    },
    {
     "data": {
      "text/plain": [
       "array([0., 1.])"
      ]
     },
     "metadata": {},
     "output_type": "display_data"
    },
    {
     "name": "stdout",
     "output_type": "stream",
     "text": [
      "rehab_program\n"
     ]
    },
    {
     "data": {
      "text/plain": [
       "array([0., 1.])"
      ]
     },
     "metadata": {},
     "output_type": "display_data"
    },
    {
     "name": "stdout",
     "output_type": "stream",
     "text": [
      "start_smoking_age\n"
     ]
    },
    {
     "data": {
      "text/plain": [
       "array([ 0, 14, 25, 15, 17, 19, 22, 16, 13, 18, 12, 21, 20, 30, 23, 27, 41,\n",
       "        8, 46, 10, 11, 40,  7, 24, 44, 55, 33, 51,  9, 28, 26, 38, 35, 32,\n",
       "       31, 39, 42, 45, 48, 37, 59, 36, 29, 74, 50, 34, 65, 54, 68, 63, 71,\n",
       "       57,  6, 47, 72, 58, 49, 43, 64, 52, 56, 76], dtype=int64)"
      ]
     },
     "metadata": {},
     "output_type": "display_data"
    },
    {
     "name": "stdout",
     "output_type": "stream",
     "text": [
      "current_smoker\n"
     ]
    },
    {
     "data": {
      "text/plain": [
       "array([0, 1, 3, 2], dtype=int64)"
      ]
     },
     "metadata": {},
     "output_type": "display_data"
    },
    {
     "name": "stdout",
     "output_type": "stream",
     "text": [
      "previous_cigarettes_per_day\n"
     ]
    },
    {
     "data": {
      "text/plain": [
       "array([ 0, 20, 60, 15, 12, 40,  1, 10, 18,  3, 80,  5,  4,  6,  2, 30, 16,\n",
       "       35, 25,  8, 50, 95, 17, 70, 13,  7, 26, 34, 32, 14,  9, 49, 90, 55,\n",
       "       23, 29, 65, 38, 42, 36, 24, 31, 19, 75, 68, 45, 33, 11, 44, 53, 39,\n",
       "       37, 27, 47, 48], dtype=int64)"
      ]
     },
     "metadata": {},
     "output_type": "display_data"
    },
    {
     "name": "stdout",
     "output_type": "stream",
     "text": [
      "current_cigarettes_per_day\n"
     ]
    },
    {
     "data": {
      "text/plain": [
       "array([ 0,  2, 15, 20,  1,  3, 10, 12, 30,  5,  8, 40,  7,  4, 25, 16,  6,\n",
       "       17, 50,  9, 27, 18, 24, 45, 13, 60, 11, 22, 35, 90, 19, 14, 26, 95,\n",
       "       70, 29, 43, 80, 48, 23], dtype=int64)"
      ]
     },
     "metadata": {},
     "output_type": "display_data"
    },
    {
     "name": "stdout",
     "output_type": "stream",
     "text": [
      "days_quit_smoking\n"
     ]
    },
    {
     "data": {
      "text/plain": [
       "array([    0, 13870, 10585,  1825, 15695,  6205, 15330,  2190,   270,\n",
       "         540,    30,  3650, 13505,  7300,  9490, 16060, 18615,  1460,\n",
       "       10950, 12775,    10,   900,  4745,   210,  1095,  9125, 12410,\n",
       "        3285,    60,  5475,     4, 13140,  5110,  2555, 11680,   365,\n",
       "        9855,  4380, 12045,   730,   240, 19345, 14600,  8760,   180,\n",
       "        7665,  8030,  2920, 16425,  6570,  8395,   870,   330, 18250,\n",
       "       10220,    90,   120, 26280, 22995,  4015,  5840, 21900,    35,\n",
       "       18980, 17520,   150,  6935, 14235,    36, 20805,    49, 14965,\n",
       "          63,   300, 11315,   390, 16790, 17885, 17155, 21170,    14,\n",
       "          42,     2,   480,     3,    45, 20075, 25550,   450,     7,\n",
       "         301,   690,     6, 21535,    21,   510,     1, 24090,   420,\n",
       "       20440,    55,   280,    15,   630,    18, 23725,   750,  1050,\n",
       "         780,   105,    12, 19710,    25,   570,  1080, 24455,    28,\n",
       "         930, 22265,   600,    70,    56,   660,   245, 25915,   193,\n",
       "       22630,    40,   360,    20,    51,    50,   810,    22,     5,\n",
       "          34,   960,    17,    37,     8,    41,    54,    71,    98],\n",
       "      dtype=int64)"
      ]
     },
     "metadata": {},
     "output_type": "display_data"
    },
    {
     "name": "stdout",
     "output_type": "stream",
     "text": [
      "household_smokers\n"
     ]
    },
    {
     "data": {
      "text/plain": [
       "array([4, 1, 3, 2, 0], dtype=int64)"
      ]
     },
     "metadata": {},
     "output_type": "display_data"
    },
    {
     "name": "stdout",
     "output_type": "stream",
     "text": [
      "prescriptions_count\n"
     ]
    },
    {
     "data": {
      "text/plain": [
       "array([ 2,  4,  5,  0,  1,  9,  7,  3,  6, 10,  8, 11, 14, 13, 12, 15, 17,\n",
       "       16, 20, 18, 19, 23, 22], dtype=int64)"
      ]
     },
     "metadata": {},
     "output_type": "display_data"
    },
    {
     "name": "stdout",
     "output_type": "stream",
     "text": [
      "Rx_LISINOPRIL\n"
     ]
    },
    {
     "data": {
      "text/plain": [
       "array([0, 1], dtype=int64)"
      ]
     },
     "metadata": {},
     "output_type": "display_data"
    },
    {
     "name": "stdout",
     "output_type": "stream",
     "text": [
      "Rx_days_LISINOPRIL\n"
     ]
    },
    {
     "data": {
      "text/plain": [
       "array([0.0000e+00, 7.3000e+02, 2.5550e+03, 3.0000e+01, 1.4600e+03,\n",
       "       5.4750e+03, 9.1000e+01, 1.8250e+03, 3.6500e+02, 1.8200e+02,\n",
       "       6.1000e+01, 1.5200e+02, 3.6500e+03, 1.0950e+03, 7.3000e+03,\n",
       "       1.0950e+04, 7.0000e+00, 6.9350e+03, 1.4000e+01, 2.7400e+02,\n",
       "       2.1900e+03, 5.1100e+03, 5.4700e+02, 2.1300e+02, 6.5700e+03,\n",
       "       1.0000e+00, 4.3800e+03, 4.7450e+03, 3.3400e+02, 1.0000e+01,\n",
       "       3.0400e+02, 4.2000e+01, 3.2850e+03, 1.2200e+02, 5.4800e+02,\n",
       "       9.4900e+03, 9.1250e+03, 2.9200e+03, 6.2050e+03, 1.3505e+04,\n",
       "       1.5000e+01, 4.0150e+03, 4.2600e+02, 8.0300e+03, 2.4300e+02,\n",
       "       1.1315e+04, 2.1000e+01, 7.6650e+03, 1.8250e+04, 6.6900e+02,\n",
       "       3.9500e+02, 8.3950e+03, 1.9345e+04, 4.5600e+02, 5.8400e+03,\n",
       "       9.1300e+02, 4.0000e+00, 1.4600e+04, 9.1200e+02, 5.0000e+00,\n",
       "       1.0585e+04, 4.5000e+01, 3.5000e+01, 9.0000e+01, 1.2775e+04,\n",
       "       8.7600e+03, 1.2780e+03, 2.1900e+04, 2.0000e+00, 1.0220e+04,\n",
       "       1.1200e+02, 9.8550e+03, 4.8600e+02])"
      ]
     },
     "metadata": {},
     "output_type": "display_data"
    },
    {
     "name": "stdout",
     "output_type": "stream",
     "text": [
      "Rx_METFORMIN\n"
     ]
    },
    {
     "data": {
      "text/plain": [
       "array([0, 1], dtype=int64)"
      ]
     },
     "metadata": {},
     "output_type": "display_data"
    },
    {
     "name": "stdout",
     "output_type": "stream",
     "text": [
      "Rx_days_METFORMIN\n"
     ]
    },
    {
     "data": {
      "text/plain": [
       "array([0.0000e+00, 1.0950e+03, 3.6500e+02, 3.6500e+03, 7.3000e+02,\n",
       "       1.4600e+03, 5.4700e+02, 9.1000e+01, 2.5550e+03, 6.1000e+01,\n",
       "       4.2000e+01, 3.0000e+01, 1.8250e+03, 2.1300e+02, 2.1900e+03,\n",
       "       1.2200e+02, 1.8200e+02, 5.4750e+03, 3.0400e+02, 2.9200e+03,\n",
       "       4.3800e+03, 1.0000e+00, 7.3000e+03, 3.3400e+02, 3.2850e+03,\n",
       "       2.1000e+01, 1.5900e+02, 4.7450e+03, 1.6425e+03, 2.4300e+02,\n",
       "       4.0150e+03, 2.0000e+00, 5.1100e+03, 8.0300e+03, 8.0000e+00,\n",
       "       1.5200e+02, 2.7400e+02, 1.0950e+04, 6.5700e+03, 3.9500e+02,\n",
       "       9.1250e+03, 5.8400e+03, 3.3000e+01, 2.0000e+01, 1.0220e+04,\n",
       "       1.2775e+04, 2.0075e+03, 8.3950e+03, 9.8550e+03, 1.3870e+04,\n",
       "       7.0000e+00, 1.1315e+04, 4.0000e+00, 1.4000e+01, 9.1200e+02,\n",
       "       4.5600e+02, 5.4800e+02, 6.9350e+03, 8.7600e+03, 3.0000e+00,\n",
       "       6.0800e+02, 6.2050e+03, 7.6650e+03, 9.4900e+03, 1.2780e+03,\n",
       "       2.1900e+04, 3.5000e+01, 1.8600e+02, 1.5000e+01, 9.8000e+01,\n",
       "       6.0000e+00, 1.1680e+04, 1.6060e+04, 2.0075e+04, 4.8600e+02,\n",
       "       5.1700e+02, 1.8250e+04, 1.0000e+01, 7.5000e+01])"
      ]
     },
     "metadata": {},
     "output_type": "display_data"
    },
    {
     "name": "stdout",
     "output_type": "stream",
     "text": [
      "Rx_ALBUTEROL\n"
     ]
    },
    {
     "data": {
      "text/plain": [
       "array([0, 1], dtype=int64)"
      ]
     },
     "metadata": {},
     "output_type": "display_data"
    },
    {
     "name": "stdout",
     "output_type": "stream",
     "text": [
      "Rx_days_ALBUTEROL\n"
     ]
    },
    {
     "data": {
      "text/plain": [
       "array([0.0000e+00, 1.8250e+03, 6.1000e+01, 8.7550e+03, 5.1100e+03,\n",
       "       4.3800e+03, 1.4600e+03, 5.4750e+03, 1.0950e+04, 3.0000e+01,\n",
       "       7.3000e+03, 1.8200e+02, 6.2050e+03, 1.0950e+03, 3.6500e+02,\n",
       "       7.3000e+02, 4.7450e+03, 1.4600e+04, 7.0000e+00, 3.6500e+03,\n",
       "       1.0000e+01, 6.5700e+03, 8.2100e+02, 2.0000e+00, 3.0400e+02,\n",
       "       1.5200e+02, 1.4000e+01, 8.2125e+03, 2.1900e+03, 4.0150e+03,\n",
       "       2.9200e+03, 9.1000e+01, 1.4235e+04, 1.0220e+04, 2.5550e+03,\n",
       "       8.0300e+03, 1.6425e+04, 4.0000e+00, 2.1300e+02, 1.2775e+04,\n",
       "       2.4300e+02, 1.2200e+02, 3.2850e+03, 9.4900e+03, 9.8550e+03,\n",
       "       6.9350e+03, 1.6425e+03, 8.7600e+03, 5.6575e+03, 1.5695e+04,\n",
       "       3.0000e+00, 9.1250e+03, 3.1025e+03, 2.1000e+01, 1.3080e+03,\n",
       "       4.5625e+03, 1.0000e+00, 5.8400e+03, 6.6005e+03, 8.3950e+03,\n",
       "       5.4700e+02, 1.5330e+04, 6.3875e+03, 1.9750e+02, 2.7350e+02,\n",
       "       2.7525e+03, 3.5000e+01, 2.1935e+03, 7.6650e+03, 2.7400e+02,\n",
       "       4.2600e+02, 9.4850e+03, 1.2775e+03, 3.3400e+02, 7.6050e+02,\n",
       "       9.1250e+02, 1.8250e+04, 2.0075e+03, 8.5775e+03, 2.7830e+03,\n",
       "       1.3140e+04, 3.8325e+03, 1.0585e+04, 5.0000e+00, 2.7375e+03,\n",
       "       1.6120e+03, 2.0000e+01, 4.5600e+02, 4.2000e+01, 3.6550e+03,\n",
       "       6.3850e+02, 3.2920e+03, 4.0000e+01, 9.1200e+02, 4.5000e+01,\n",
       "       9.0000e+00])"
      ]
     },
     "metadata": {},
     "output_type": "display_data"
    },
    {
     "name": "stdout",
     "output_type": "stream",
     "text": [
      "Rx_LEVOTHYROXINE\n"
     ]
    },
    {
     "data": {
      "text/plain": [
       "array([0, 1], dtype=int64)"
      ]
     },
     "metadata": {},
     "output_type": "display_data"
    },
    {
     "name": "stdout",
     "output_type": "stream",
     "text": [
      "Rx_days_LEVOTHYROXINE\n"
     ]
    },
    {
     "data": {
      "text/plain": [
       "array([0.0000e+00, 2.5550e+03, 9.1250e+03, 1.4600e+03, 9.1000e+01,\n",
       "       7.3000e+03, 1.0950e+03, 2.1900e+03, 5.4750e+03, 1.8250e+03,\n",
       "       3.6500e+03, 7.3000e+02, 2.9200e+03, 8.7600e+03, 3.6500e+02,\n",
       "       1.0950e+04, 8.0300e+03, 6.2050e+03, 4.3800e+03, 7.6650e+03,\n",
       "       3.2850e+03, 6.9350e+03, 2.4300e+02, 1.2200e+02, 5.1100e+03,\n",
       "       3.0000e+01, 1.3140e+04, 8.3950e+03, 6.3875e+03, 4.7450e+03,\n",
       "       1.6425e+04, 1.2775e+04, 1.8250e+04, 1.5695e+04, 1.8200e+02,\n",
       "       9.4900e+03, 9.8550e+03, 6.0800e+02, 2.1300e+02, 5.8400e+03,\n",
       "       1.4600e+04, 2.2995e+04, 1.0220e+04, 1.5200e+02, 7.0000e+00,\n",
       "       6.1000e+01, 4.0150e+03, 1.4965e+04, 1.2045e+04, 1.1315e+04,\n",
       "       2.1000e+01, 1.1680e+04, 2.0000e+01, 2.1900e+04, 2.8000e+01,\n",
       "       1.7155e+04, 3.0400e+02, 4.5600e+02, 2.0075e+04, 5.4700e+02,\n",
       "       2.7400e+02, 4.2600e+02, 1.2000e+01, 1.2410e+04, 3.0000e+00,\n",
       "       1.3505e+04, 5.4800e+02, 1.0585e+04, 1.4235e+04, 2.2000e+01,\n",
       "       2.1535e+04, 3.5000e+01, 1.0500e+02, 3.3400e+02, 1.8980e+04,\n",
       "       6.5700e+03, 2.2265e+04, 2.0440e+04, 1.5330e+04, 6.0000e+01,\n",
       "       6.3800e+02, 1.9710e+04, 1.4000e+01, 2.5550e+04, 1.9345e+04,\n",
       "       1.3870e+04, 1.6060e+04, 3.6000e+01, 1.7885e+04, 1.7520e+04,\n",
       "       4.0000e+00, 9.0000e+01, 2.0805e+04, 2.1170e+04])"
      ]
     },
     "metadata": {},
     "output_type": "display_data"
    },
    {
     "name": "stdout",
     "output_type": "stream",
     "text": [
      "Rx_SIMVASTATIN\n"
     ]
    },
    {
     "data": {
      "text/plain": [
       "array([0, 1], dtype=int64)"
      ]
     },
     "metadata": {},
     "output_type": "display_data"
    },
    {
     "name": "stdout",
     "output_type": "stream",
     "text": [
      "Rx_days_SIMVASTATIN\n"
     ]
    },
    {
     "data": {
      "text/plain": [
       "array([0.0000e+00, 5.1100e+03, 1.0950e+03, 2.1900e+03, 1.0000e+00,\n",
       "       3.6500e+02, 7.3000e+02, 4.3800e+03, 3.6500e+03, 1.8250e+03,\n",
       "       5.4700e+02, 1.0950e+04, 1.4600e+03, 2.8000e+01, 6.1000e+01,\n",
       "       2.9200e+03, 2.4300e+02, 2.5550e+03, 3.0400e+02, 5.4750e+03,\n",
       "       9.1000e+01, 3.2850e+03, 2.1300e+02, 3.0000e+01, 6.5700e+03,\n",
       "       1.8200e+02, 1.2200e+02, 1.5200e+02, 7.3000e+03, 1.4000e+01,\n",
       "       2.7400e+02, 2.1000e+01, 4.2000e+01, 4.7450e+03, 4.0150e+03,\n",
       "       6.2050e+03, 5.0000e+00, 7.0000e+00, 4.8600e+02, 3.1000e+01,\n",
       "       6.3850e+02, 1.0585e+04, 1.5000e+01, 3.5000e+01, 2.0000e+00,\n",
       "       9.1250e+03, 8.7600e+03, 6.6900e+02, 5.8400e+03, 7.0000e+01,\n",
       "       4.0000e+01, 9.1200e+02, 4.9000e+01, 3.3400e+02, 3.9500e+02,\n",
       "       4.2600e+02, 4.5600e+02, 6.9350e+03, 5.4800e+02, 6.0000e+01,\n",
       "       8.0300e+03, 9.4900e+03, 9.8550e+03, 7.6650e+03, 8.5100e+02,\n",
       "       1.8250e+04, 1.6060e+04, 3.0000e+00])"
      ]
     },
     "metadata": {},
     "output_type": "display_data"
    },
    {
     "name": "stdout",
     "output_type": "stream",
     "text": [
      "Rx_ATORVASTATIN\n"
     ]
    },
    {
     "data": {
      "text/plain": [
       "array([0, 1], dtype=int64)"
      ]
     },
     "metadata": {},
     "output_type": "display_data"
    },
    {
     "name": "stdout",
     "output_type": "stream",
     "text": [
      "Rx_days_ATORVASTATIN\n"
     ]
    },
    {
     "data": {
      "text/plain": [
       "array([0.0000e+00, 5.4700e+02, 3.6500e+02, 7.3000e+02, 4.3800e+03,\n",
       "       5.4750e+03, 9.1000e+01, 2.5550e+03, 1.8200e+02, 2.4300e+02,\n",
       "       4.7450e+03, 1.0950e+03, 1.4600e+03, 6.1000e+01, 1.8250e+03,\n",
       "       3.0000e+01, 2.1300e+02, 2.9200e+03, 1.0585e+04, 3.6500e+03,\n",
       "       2.1900e+03, 1.4000e+01, 1.2200e+02, 3.2850e+03, 1.4600e+04,\n",
       "       3.3400e+02, 2.7400e+02, 2.0000e+00, 1.2000e+01, 5.8400e+03,\n",
       "       7.3000e+03, 1.5200e+02, 2.1000e+01, 9.1250e+03, 4.2600e+02,\n",
       "       1.0950e+04, 7.0000e+00, 5.1100e+03, 3.0400e+02, 6.5700e+03,\n",
       "       6.9350e+03, 4.0150e+03, 1.0000e+00, 8.3950e+03, 2.0080e+03,\n",
       "       1.5000e+01, 2.8000e+01, 4.5600e+02, 6.2050e+03, 8.7600e+03,\n",
       "       3.5000e+01, 9.4900e+03, 9.1300e+02, 1.0000e+01, 1.0940e+03,\n",
       "       8.0300e+03, 3.0000e+00, 1.1315e+04, 5.4800e+02, 1.5330e+04,\n",
       "       7.5000e+01, 5.6000e+01, 9.1200e+02, 7.6650e+03, 4.5000e+01,\n",
       "       9.8550e+03, 4.8600e+02, 4.2000e+01, 1.8250e+04, 6.0800e+02])"
      ]
     },
     "metadata": {},
     "output_type": "display_data"
    },
    {
     "name": "stdout",
     "output_type": "stream",
     "text": [
      "Rx_METOPROLOL\n"
     ]
    },
    {
     "data": {
      "text/plain": [
       "array([0, 1], dtype=int64)"
      ]
     },
     "metadata": {},
     "output_type": "display_data"
    },
    {
     "name": "stdout",
     "output_type": "stream",
     "text": [
      "Rx_days_METOPROLOL\n"
     ]
    },
    {
     "data": {
      "text/plain": [
       "array([0.0000e+00, 7.3000e+02, 1.8250e+03, 5.4700e+02, 6.1000e+01,\n",
       "       1.0950e+03, 7.3000e+03, 3.6500e+02, 2.9200e+03, 3.2850e+03,\n",
       "       1.0950e+04, 1.2200e+02, 8.0300e+03, 3.6500e+03, 2.5550e+03,\n",
       "       9.1000e+01, 1.8200e+02, 1.0000e+00, 1.4600e+03, 5.4750e+03,\n",
       "       3.0400e+02, 2.1900e+03, 3.0000e+01, 1.5200e+02, 2.4300e+02,\n",
       "       4.3800e+03, 2.1000e+01, 7.0000e+00, 2.1300e+02, 4.2000e+01,\n",
       "       4.9000e+01, 2.7400e+02, 3.3400e+02, 1.3000e+01, 1.4600e+04,\n",
       "       2.7350e+02, 9.1250e+03, 4.7450e+03, 3.5000e+01, 4.2600e+02,\n",
       "       4.0150e+03, 6.2050e+03, 5.0000e+00, 1.3140e+04, 4.8600e+02,\n",
       "       1.4000e+01, 1.6000e+01, 5.1100e+03, 4.0000e+00, 3.0000e+00,\n",
       "       1.3505e+04, 1.9000e+01, 5.4800e+02, 6.5700e+03, 9.1200e+02,\n",
       "       8.3950e+03, 1.0220e+04, 5.8400e+03, 6.6900e+02, 8.7600e+03,\n",
       "       2.0080e+03, 1.2775e+04, 5.7800e+02, 1.0650e+02, 9.0000e+01,\n",
       "       9.1300e+02, 1.1680e+04, 2.1900e+04, 6.9350e+03, 1.8270e+03,\n",
       "       4.5600e+02, 7.6650e+03, 4.5000e+01, 9.8550e+03])"
      ]
     },
     "metadata": {},
     "output_type": "display_data"
    },
    {
     "name": "stdout",
     "output_type": "stream",
     "text": [
      "Rx_AMLODIPINE\n"
     ]
    },
    {
     "data": {
      "text/plain": [
       "array([0, 1], dtype=int64)"
      ]
     },
     "metadata": {},
     "output_type": "display_data"
    },
    {
     "name": "stdout",
     "output_type": "stream",
     "text": [
      "Rx_days_AMLODIPINE\n"
     ]
    },
    {
     "data": {
      "text/plain": [
       "array([0.0000e+00, 4.3800e+03, 2.1900e+03, 2.5550e+03, 7.3000e+03,\n",
       "       7.3000e+02, 3.6500e+02, 6.1000e+01, 4.7450e+03, 1.8250e+03,\n",
       "       1.0950e+03, 1.8200e+02, 2.9200e+03, 9.1000e+01, 3.6500e+03,\n",
       "       6.9900e+02, 6.2050e+03, 1.4600e+03, 3.2850e+03, 9.1250e+03,\n",
       "       1.4600e+04, 5.4700e+02, 1.2200e+02, 1.5200e+02, 4.8600e+02,\n",
       "       2.4300e+02, 5.4750e+03, 4.2000e+01, 2.7400e+02, 2.1000e+01,\n",
       "       2.8900e+02, 1.5000e+01, 3.0000e+01, 1.4000e+01, 2.1300e+02,\n",
       "       5.1100e+03, 1.2775e+04, 3.0000e+00, 6.5700e+03, 7.6650e+03,\n",
       "       1.0000e+01, 2.0000e+00, 1.0950e+04, 4.0150e+03, 3.3400e+02,\n",
       "       3.9500e+02, 7.0000e+00, 9.0000e+00, 8.3950e+03, 3.0400e+02,\n",
       "       9.1200e+02, 1.6425e+04, 5.8400e+03, 1.0000e+00, 4.5600e+02,\n",
       "       1.8250e+04, 4.0000e+00, 2.0000e+01, 2.5000e+01, 8.0300e+03,\n",
       "       1.2410e+04, 1.3140e+04, 7.5000e+01, 4.5000e+01, 6.0000e+01,\n",
       "       1.0220e+04, 6.9350e+03, 9.4900e+03, 8.7600e+03, 5.4800e+02,\n",
       "       6.0800e+02, 9.8550e+03])"
      ]
     },
     "metadata": {},
     "output_type": "display_data"
    },
    {
     "name": "stdout",
     "output_type": "stream",
     "text": [
      "Rx_OMEPRAZOLE\n"
     ]
    },
    {
     "data": {
      "text/plain": [
       "array([0, 1], dtype=int64)"
      ]
     },
     "metadata": {},
     "output_type": "display_data"
    },
    {
     "name": "stdout",
     "output_type": "stream",
     "text": [
      "Rx_days_OMEPRAZOLE\n"
     ]
    },
    {
     "data": {
      "text/plain": [
       "array([0.0000e+00, 7.3000e+02, 1.5200e+02, 6.1000e+01, 3.0000e+01,\n",
       "       7.0000e+00, 3.6500e+03, 4.3800e+03, 1.0950e+03, 1.8250e+03,\n",
       "       1.4600e+03, 7.3000e+03, 4.7000e+01, 5.1100e+03, 2.9200e+03,\n",
       "       3.9500e+02, 2.1900e+03, 1.8200e+02, 3.6500e+02, 1.2200e+02,\n",
       "       9.1000e+01, 2.5550e+03, 3.0400e+02, 2.7400e+02, 2.0000e+01,\n",
       "       2.4300e+02, 2.1300e+02, 5.4750e+03, 8.3950e+03, 6.2050e+03,\n",
       "       1.0950e+04, 3.1000e+01, 3.0000e+00, 2.1000e+01, 8.0000e+00,\n",
       "       1.6000e+01, 3.2850e+03, 6.5700e+03, 5.4700e+02, 4.7450e+03,\n",
       "       2.8000e+01, 6.0000e+01, 4.5600e+02, 4.0150e+03, 2.0000e+00,\n",
       "       6.0000e+00, 6.6900e+02, 1.0000e+00, 9.1250e+03, 1.4000e+01,\n",
       "       3.5000e+01, 1.4600e+04, 4.8600e+02, 4.5000e+01, 7.6650e+03,\n",
       "       3.3400e+02, 4.2000e+01, 1.0220e+04, 1.0000e+01, 9.8550e+03,\n",
       "       1.4965e+04, 1.2045e+04, 5.8400e+03, 5.4800e+02, 5.0000e+00,\n",
       "       8.7600e+03, 8.0300e+03, 1.1315e+04, 1.5000e+01])"
      ]
     },
     "metadata": {},
     "output_type": "display_data"
    },
    {
     "name": "stdout",
     "output_type": "stream",
     "text": [
      "Rx_HYDROCHLOROTHIAZIDE\n"
     ]
    },
    {
     "data": {
      "text/plain": [
       "array([0, 1], dtype=int64)"
      ]
     },
     "metadata": {},
     "output_type": "display_data"
    },
    {
     "name": "stdout",
     "output_type": "stream",
     "text": [
      "Rx_days_HYDROCHLOROTHIAZIDE\n"
     ]
    },
    {
     "data": {
      "text/plain": [
       "array([0.0000e+00, 1.0950e+03, 3.6500e+02, 3.6500e+03, 1.8250e+03,\n",
       "       7.3000e+02, 2.9200e+03, 7.3000e+03, 3.0000e+01, 4.7450e+03,\n",
       "       1.4000e+01, 1.4600e+03, 5.4750e+03, 2.5550e+03, 3.2850e+03,\n",
       "       5.8400e+03, 9.1000e+01, 1.8200e+02, 5.4700e+02, 6.1000e+01,\n",
       "       1.2200e+02, 2.1900e+03, 6.2050e+03, 2.4300e+02, 4.3800e+03,\n",
       "       2.7400e+02, 1.5200e+02, 3.0400e+02, 1.0950e+04, 1.4600e+04,\n",
       "       9.1200e+02, 2.0000e+00, 9.4900e+03, 4.0150e+03, 6.0800e+02,\n",
       "       1.5695e+04, 9.1250e+03, 2.1000e+01, 2.1300e+02, 6.5700e+03,\n",
       "       4.0000e+00, 5.1100e+03, 9.8550e+03, 3.3000e+01, 7.0000e+00,\n",
       "       8.7600e+03, 2.8000e+01, 5.4800e+02, 4.2000e+01, 5.1700e+02,\n",
       "       1.1315e+04, 4.5600e+02, 1.2775e+04, 8.3950e+03, 3.3400e+02,\n",
       "       6.9350e+03, 9.0000e+01, 3.0000e+00, 2.1900e+04, 1.8250e+04,\n",
       "       1.6060e+04, 2.1170e+04, 2.0440e+04, 8.0300e+03])"
      ]
     },
     "metadata": {},
     "output_type": "display_data"
    },
    {
     "name": "stdout",
     "output_type": "stream",
     "text": [
      "Rx_FUROSEMIDE\n"
     ]
    },
    {
     "data": {
      "text/plain": [
       "array([0, 1], dtype=int64)"
      ]
     },
     "metadata": {},
     "output_type": "display_data"
    },
    {
     "name": "stdout",
     "output_type": "stream",
     "text": [
      "Rx_days_FUROSEMIDE\n"
     ]
    },
    {
     "data": {
      "text/plain": [
       "array([0.0000e+00, 7.3000e+02, 2.1900e+03, 1.8250e+03, 5.4750e+03,\n",
       "       1.4600e+03, 2.1300e+02, 3.0400e+02, 6.1000e+01, 3.6500e+03,\n",
       "       5.8400e+03, 9.1000e+01, 1.0950e+03, 1.8200e+02, 3.6500e+02,\n",
       "       7.0000e+00, 4.3800e+03, 1.0950e+04, 2.9200e+03, 1.4600e+04,\n",
       "       7.3000e+03, 9.8550e+03, 2.7400e+02, 1.4000e+01, 1.5200e+02,\n",
       "       2.1000e+01, 1.2200e+02, 3.0000e+01, 2.5550e+03, 2.4300e+02,\n",
       "       3.2850e+03, 4.0150e+03, 1.0000e+00, 5.1100e+03, 8.7600e+03,\n",
       "       5.4700e+02, 6.2050e+03, 6.5700e+03, 9.1250e+03, 1.0585e+04,\n",
       "       3.1000e+01, 3.3400e+02, 8.0300e+03, 7.0000e+01, 1.6000e+01,\n",
       "       8.3950e+03, 4.0000e+00, 1.1315e+04, 9.1200e+02, 1.0500e+02,\n",
       "       1.8250e+04, 6.0850e+02, 5.7800e+02, 2.0075e+04, 4.7450e+03,\n",
       "       1.3870e+04, 1.3505e+04, 1.2775e+04, 9.1300e+02, 1.2780e+03,\n",
       "       1.0220e+04, 1.2410e+04, 1.0000e+01, 4.2600e+02, 2.1900e+04])"
      ]
     },
     "metadata": {},
     "output_type": "display_data"
    },
    {
     "name": "stdout",
     "output_type": "stream",
     "text": [
      "Rx_ATENOLOL\n"
     ]
    },
    {
     "data": {
      "text/plain": [
       "array([0, 1], dtype=int64)"
      ]
     },
     "metadata": {},
     "output_type": "display_data"
    },
    {
     "name": "stdout",
     "output_type": "stream",
     "text": [
      "Rx_days_ATENOLOL\n"
     ]
    },
    {
     "data": {
      "text/plain": [
       "array([0.0000e+00, 7.3000e+02, 1.8250e+03, 1.0950e+03, 2.1900e+03,\n",
       "       5.4750e+03, 3.6500e+03, 2.4300e+02, 1.5200e+02, 7.3000e+03,\n",
       "       8.3950e+03, 3.6500e+02, 1.4965e+04, 5.8400e+03, 6.1000e+01,\n",
       "       1.4600e+04, 1.8200e+02, 1.4600e+03, 2.5550e+03, 1.0000e+00,\n",
       "       4.0150e+03, 2.9200e+03, 3.2850e+03, 5.4700e+02, 9.1200e+02,\n",
       "       4.7450e+03, 9.1250e+03, 3.0400e+02, 1.2200e+02, 7.6650e+03,\n",
       "       6.2050e+03, 4.3800e+03, 1.0950e+04, 1.0585e+04, 4.5000e+01,\n",
       "       9.1000e+01, 1.4000e+01, 5.1100e+03, 4.2600e+02, 3.3400e+02,\n",
       "       3.0000e+01, 1.1315e+04, 3.9500e+02, 6.5700e+03, 9.4900e+03,\n",
       "       2.7400e+02, 5.1700e+02, 1.2775e+04, 1.0220e+04, 8.7600e+03,\n",
       "       4.8600e+02, 1.2045e+04, 2.1000e+01, 7.0000e+00, 1.0000e+01,\n",
       "       8.0300e+03, 4.5600e+02, 6.9350e+03, 1.3870e+04, 1.3505e+04,\n",
       "       1.3140e+04, 9.8550e+03])"
      ]
     },
     "metadata": {},
     "output_type": "display_data"
    },
    {
     "name": "stdout",
     "output_type": "stream",
     "text": [
      "Rx_LOSARTAN\n"
     ]
    },
    {
     "data": {
      "text/plain": [
       "array([0, 1], dtype=int64)"
      ]
     },
     "metadata": {},
     "output_type": "display_data"
    },
    {
     "name": "stdout",
     "output_type": "stream",
     "text": [
      "Rx_days_LOSARTAN\n"
     ]
    },
    {
     "data": {
      "text/plain": [
       "array([0.0000e+00, 1.8200e+02, 1.4600e+03, 3.0000e+01, 1.8250e+03,\n",
       "       3.6500e+02, 6.1000e+01, 3.6500e+03, 7.3000e+02, 4.3800e+03,\n",
       "       1.5200e+02, 9.1000e+01, 2.9200e+03, 1.0950e+03, 2.1900e+03,\n",
       "       9.1250e+03, 2.4300e+02, 8.0000e+00, 5.1100e+03, 2.1300e+02,\n",
       "       6.5700e+03, 1.0000e+01, 2.5550e+03, 1.4000e+01, 5.4700e+02,\n",
       "       5.4750e+03, 5.8400e+03, 1.4600e+04, 1.2000e+01, 9.1200e+02,\n",
       "       1.6425e+03, 7.3000e+03, 3.2850e+03, 6.2050e+03, 7.0000e+00,\n",
       "       4.7450e+03, 4.0150e+03, 6.0800e+02, 1.2200e+02, 2.7400e+02,\n",
       "       4.0000e+00, 1.0000e+00, 2.1000e+01, 1.0950e+04, 3.0400e+02,\n",
       "       4.2000e+01, 1.2410e+04, 3.3400e+02, 5.4800e+02, 8.0300e+03,\n",
       "       2.0000e+01, 4.5600e+02, 1.2775e+04, 6.9350e+03, 2.8000e+01,\n",
       "       1.0220e+04])"
      ]
     },
     "metadata": {},
     "output_type": "display_data"
    },
    {
     "name": "stdout",
     "output_type": "stream",
     "text": [
      "Rx_MONTELUKAST\n"
     ]
    },
    {
     "data": {
      "text/plain": [
       "array([0, 1], dtype=int64)"
      ]
     },
     "metadata": {},
     "output_type": "display_data"
    },
    {
     "name": "stdout",
     "output_type": "stream",
     "text": [
      "Rx_days_MONTELUKAST\n"
     ]
    },
    {
     "data": {
      "text/plain": [
       "array([0.0000e+00, 1.8250e+03, 2.1300e+02, 1.4600e+03, 1.0950e+03,\n",
       "       7.3000e+02, 2.9200e+03, 2.1900e+03, 3.6500e+02, 1.2200e+02,\n",
       "       3.6500e+03, 3.0000e+01, 6.1000e+01, 1.8200e+02, 1.8000e+01,\n",
       "       1.4000e+01, 2.5550e+03, 2.7400e+02, 4.3800e+03, 2.0000e+00,\n",
       "       4.5000e+01, 5.4750e+03, 5.8400e+03, 5.4700e+02, 7.3000e+03,\n",
       "       4.7450e+03, 9.1250e+03, 9.1000e+01, 2.1000e+01, 3.5000e+01,\n",
       "       1.0000e+00, 5.6250e+02, 3.4675e+03, 5.7800e+02, 1.0950e+04,\n",
       "       1.2775e+04, 4.8600e+02, 4.0150e+03, 1.5200e+02, 1.0220e+04,\n",
       "       6.2050e+03, 6.5700e+03, 1.3000e+01, 1.0340e+03, 7.0000e+00,\n",
       "       2.0440e+04, 2.1900e+04, 4.0000e+00, 1.5000e+01, 4.5600e+02,\n",
       "       8.3950e+03, 2.4300e+02, 3.2850e+03, 1.1680e+04, 1.5400e+02,\n",
       "       9.4540e+03, 3.9500e+02])"
      ]
     },
     "metadata": {},
     "output_type": "display_data"
    },
    {
     "name": "stdout",
     "output_type": "stream",
     "text": [
      "Rx_AMOXICILLIN\n"
     ]
    },
    {
     "data": {
      "text/plain": [
       "array([0, 1], dtype=int64)"
      ]
     },
     "metadata": {},
     "output_type": "display_data"
    },
    {
     "name": "stdout",
     "output_type": "stream",
     "text": [
      "Rx_days_AMOXICILLIN\n"
     ]
    },
    {
     "data": {
      "text/plain": [
       "array([0.000e+00, 7.000e+00, 9.100e+01, 4.000e+00, 3.650e+03, 1.200e+01,\n",
       "       3.000e+00, 3.000e+01, 2.190e+03, 1.000e+00, 2.100e+01, 5.475e+03,\n",
       "       1.000e+01, 5.000e+00, 7.300e+03, 1.300e+01, 1.400e+01, 1.095e+04,\n",
       "       1.500e+01, 2.000e+00, 6.000e+00, 8.000e+00, 3.040e+02, 2.740e+02,\n",
       "       3.650e+02, 1.600e+01, 7.300e+02, 1.820e+02, 1.825e+03, 1.700e+01,\n",
       "       1.220e+02, 9.000e+00, 6.100e+01, 2.800e+01, 2.555e+03, 1.095e+03,\n",
       "       1.520e+02, 4.745e+03])"
      ]
     },
     "metadata": {},
     "output_type": "display_data"
    },
    {
     "name": "stdout",
     "output_type": "stream",
     "text": [
      "Rx_ACETAMINOPHEN; HYDROCODONE\n"
     ]
    },
    {
     "data": {
      "text/plain": [
       "array([0, 1], dtype=int64)"
      ]
     },
     "metadata": {},
     "output_type": "display_data"
    },
    {
     "name": "stdout",
     "output_type": "stream",
     "text": [
      "Rx_days_ACETAMINOPHEN; HYDROCODONE\n"
     ]
    },
    {
     "data": {
      "text/plain": [
       "array([0.000e+00, 1.800e+01, 5.470e+02, 1.400e+01, 3.000e+01, 7.000e+00,\n",
       "       1.825e+03, 2.100e+01, 7.300e+02, 1.460e+03, 9.100e+01, 4.000e+00,\n",
       "       5.475e+03, 1.220e+02, 6.100e+01, 3.650e+02, 1.820e+02, 3.650e+03,\n",
       "       5.110e+03, 9.120e+02, 1.095e+03, 1.900e+01, 5.000e+00, 3.000e+00,\n",
       "       6.935e+03, 6.205e+03, 1.100e+01, 2.190e+03, 4.015e+03, 2.130e+02,\n",
       "       2.000e+00, 2.920e+03, 2.555e+03, 1.000e+00, 2.430e+02, 4.745e+03,\n",
       "       7.300e+03, 6.000e+00, 3.340e+02, 1.500e+01, 9.125e+03, 3.500e+01,\n",
       "       4.200e+01, 1.520e+02, 2.000e+01, 2.740e+02, 3.500e+00, 1.095e+04,\n",
       "       1.000e+01, 4.000e+01, 2.800e+01, 3.950e+02, 1.700e+01, 3.040e+02,\n",
       "       4.380e+03, 9.855e+03, 1.600e+01, 2.400e+01, 8.030e+03, 1.610e+02,\n",
       "       5.840e+03, 8.760e+03, 6.570e+03, 5.600e+01, 1.277e+03, 1.200e+01,\n",
       "       8.000e+00, 4.260e+02, 4.500e+01, 9.490e+03, 5.170e+02, 8.395e+03,\n",
       "       3.285e+03])"
      ]
     },
     "metadata": {},
     "output_type": "display_data"
    },
    {
     "name": "stdout",
     "output_type": "stream",
     "text": [
      "Rx_GABAPENTIN\n"
     ]
    },
    {
     "data": {
      "text/plain": [
       "array([0, 1], dtype=int64)"
      ]
     },
     "metadata": {},
     "output_type": "display_data"
    },
    {
     "name": "stdout",
     "output_type": "stream",
     "text": [
      "Rx_days_GABAPENTIN\n"
     ]
    },
    {
     "data": {
      "text/plain": [
       "array([0.000e+00, 6.100e+01, 1.400e+01, 7.300e+02, 1.825e+03, 3.040e+02,\n",
       "       2.190e+03, 3.650e+02, 3.000e+01, 1.460e+03, 1.000e+01, 1.095e+03,\n",
       "       9.100e+01, 5.475e+03, 3.650e+03, 2.430e+02, 1.820e+02, 4.015e+03,\n",
       "       1.520e+02, 2.555e+03, 2.920e+03, 7.000e+00, 2.130e+02, 4.000e+00,\n",
       "       6.935e+03, 2.100e+01, 3.285e+03, 4.200e+01, 1.220e+02, 2.740e+02,\n",
       "       4.380e+03, 4.745e+03, 5.110e+03, 7.300e+03, 6.570e+03, 5.470e+02,\n",
       "       6.205e+03, 4.500e+01, 4.860e+02, 8.395e+03, 3.000e+00, 1.094e+03,\n",
       "       2.800e+01, 7.665e+03, 5.475e+02, 5.480e+02, 7.500e+01, 2.000e+00,\n",
       "       1.095e+04, 1.277e+03, 2.000e+01, 3.340e+02, 5.840e+03, 8.510e+02,\n",
       "       2.700e+01, 8.760e+03, 6.000e+01, 4.100e+01, 8.030e+03, 9.125e+03,\n",
       "       1.000e+00])"
      ]
     },
     "metadata": {},
     "output_type": "display_data"
    },
    {
     "name": "stdout",
     "output_type": "stream",
     "text": [
      "Rx_POTASSIUM CHLORIDE\n"
     ]
    },
    {
     "data": {
      "text/plain": [
       "array([0, 1], dtype=int64)"
      ]
     },
     "metadata": {},
     "output_type": "display_data"
    },
    {
     "name": "stdout",
     "output_type": "stream",
     "text": [
      "Rx_days_POTASSIUM CHLORIDE\n"
     ]
    },
    {
     "data": {
      "text/plain": [
       "array([0.0000e+00, 1.0950e+03, 2.7400e+02, 1.0950e+04, 2.9200e+03,\n",
       "       6.1000e+01, 3.6500e+02, 1.8250e+03, 5.4750e+03, 3.6500e+03,\n",
       "       7.3000e+02, 2.1900e+03, 9.1000e+01, 1.4000e+01, 1.4600e+04,\n",
       "       7.3000e+03, 2.1000e+01, 2.1300e+02, 5.4700e+02, 1.8200e+02,\n",
       "       1.4600e+03, 1.2200e+02, 5.8400e+03, 3.2850e+03, 4.0150e+03,\n",
       "       2.5550e+03, 7.0000e+00, 2.4300e+02, 1.0000e+00, 3.0400e+02,\n",
       "       6.5700e+03, 1.5200e+02, 9.1250e+03, 4.3800e+03, 3.0000e+01,\n",
       "       6.2050e+03, 1.6000e+01, 9.1200e+02, 3.3400e+02, 1.8250e+04,\n",
       "       5.4800e+02, 1.3650e+02, 9.4900e+03, 4.2000e+01, 5.1700e+02,\n",
       "       3.1025e+03, 4.7450e+03, 1.6060e+04, 9.0000e+01, 6.9350e+03,\n",
       "       1.9000e+01])"
      ]
     },
     "metadata": {},
     "output_type": "display_data"
    },
    {
     "name": "stdout",
     "output_type": "stream",
     "text": [
      "Rx_GLIPIZIDE\n"
     ]
    },
    {
     "data": {
      "text/plain": [
       "array([0, 1], dtype=int64)"
      ]
     },
     "metadata": {},
     "output_type": "display_data"
    },
    {
     "name": "stdout",
     "output_type": "stream",
     "text": [
      "Rx_days_GLIPIZIDE\n"
     ]
    },
    {
     "data": {
      "text/plain": [
       "array([0.0000e+00, 7.3000e+02, 5.4700e+02, 3.6500e+03, 1.0950e+03,\n",
       "       6.1000e+01, 1.5200e+02, 3.6500e+02, 1.8250e+03, 5.4750e+03,\n",
       "       9.1000e+01, 9.1250e+03, 1.4600e+03, 1.0000e+00, 2.9200e+03,\n",
       "       4.8600e+02, 1.8200e+02, 2.7400e+02, 7.0000e+00, 2.1900e+03,\n",
       "       2.8000e+01, 4.3800e+03, 2.5550e+03, 3.0400e+02, 4.0150e+03,\n",
       "       3.0000e+01, 1.2200e+02, 7.3000e+03, 4.7450e+03, 2.4300e+02,\n",
       "       1.0950e+04, 1.4000e+01, 5.1100e+03, 5.8400e+03, 5.8400e+02,\n",
       "       3.2850e+03, 2.1000e+01, 2.1300e+02, 8.0300e+03, 8.7600e+03,\n",
       "       6.2050e+03, 1.4235e+04, 1.4000e+02, 4.5600e+02, 6.9350e+03,\n",
       "       2.7375e+03, 1.4600e+04, 4.5000e+01, 3.3400e+02, 7.6650e+03,\n",
       "       1.0220e+04, 6.5700e+03, 9.8550e+03, 8.3950e+03, 6.0800e+02])"
      ]
     },
     "metadata": {},
     "output_type": "display_data"
    },
    {
     "name": "stdout",
     "output_type": "stream",
     "text": [
      "Rx_IBUPROFEN\n"
     ]
    },
    {
     "data": {
      "text/plain": [
       "array([0, 1], dtype=int64)"
      ]
     },
     "metadata": {},
     "output_type": "display_data"
    },
    {
     "name": "stdout",
     "output_type": "stream",
     "text": [
      "Rx_days_IBUPROFEN\n"
     ]
    },
    {
     "data": {
      "text/plain": [
       "array([0.000e+00, 1.460e+04, 1.095e+03, 1.460e+03, 3.000e+01, 7.300e+02,\n",
       "       9.100e+01, 8.000e+00, 4.200e+01, 1.200e+01, 3.650e+02, 3.650e+03,\n",
       "       2.000e+01, 1.400e+01, 6.100e+01, 2.000e+00, 1.820e+02, 2.190e+03,\n",
       "       1.520e+02, 5.110e+03, 9.125e+03, 7.000e+00, 5.475e+03, 4.500e+01,\n",
       "       5.000e+00, 3.285e+03, 2.800e+01, 6.000e+00, 2.920e+03, 2.430e+02,\n",
       "       2.100e+01, 2.130e+02, 1.606e+04, 1.220e+02, 5.840e+03, 2.555e+03,\n",
       "       1.825e+03, 1.000e+00, 4.745e+03, 5.470e+02, 1.095e+04, 4.000e+00,\n",
       "       1.500e+01, 7.300e+03, 1.000e+01, 3.040e+02, 4.380e+03, 1.600e+01,\n",
       "       4.860e+02, 3.340e+02, 1.100e+01, 4.260e+02, 3.000e+00, 8.760e+03,\n",
       "       8.395e+03, 4.015e+03, 2.740e+02])"
      ]
     },
     "metadata": {},
     "output_type": "display_data"
    },
    {
     "name": "stdout",
     "output_type": "stream",
     "text": [
      "Rx_RANITIDINE\n"
     ]
    },
    {
     "data": {
      "text/plain": [
       "array([0, 1], dtype=int64)"
      ]
     },
     "metadata": {},
     "output_type": "display_data"
    },
    {
     "name": "stdout",
     "output_type": "stream",
     "text": [
      "Rx_days_RANITIDINE\n"
     ]
    },
    {
     "data": {
      "text/plain": [
       "array([0.0000e+00, 7.3000e+02, 1.8250e+03, 4.7450e+03, 3.6500e+03,\n",
       "       3.6500e+02, 3.0000e+01, 1.4600e+03, 3.0400e+02, 9.1000e+01,\n",
       "       5.4750e+03, 6.1000e+01, 3.0000e+00, 7.0000e+00, 1.0950e+03,\n",
       "       2.5550e+03, 1.4000e+01, 1.8200e+02, 2.1900e+03, 3.2850e+03,\n",
       "       2.9200e+03, 2.1300e+02, 7.3000e+03, 1.2200e+02, 5.4700e+02,\n",
       "       4.0150e+03, 2.0000e+01, 2.0000e+00, 9.0000e+01, 3.3400e+02,\n",
       "       1.0000e+01, 1.0950e+04, 1.0000e+00, 9.1250e+03, 4.0000e+00,\n",
       "       1.1315e+04, 1.5200e+02, 2.7400e+02, 4.3800e+03, 1.4600e+04,\n",
       "       9.8550e+03, 5.1100e+03, 6.0000e+00, 5.0000e+00, 2.1000e+01,\n",
       "       5.8400e+03, 2.4300e+02, 8.7600e+03, 6.9350e+03, 1.5000e+01,\n",
       "       4.6000e+01])"
      ]
     },
     "metadata": {},
     "output_type": "display_data"
    },
    {
     "name": "stdout",
     "output_type": "stream",
     "text": [
      "Rx_CLOPIDOGREL\n"
     ]
    },
    {
     "data": {
      "text/plain": [
       "array([0, 1], dtype=int64)"
      ]
     },
     "metadata": {},
     "output_type": "display_data"
    },
    {
     "name": "stdout",
     "output_type": "stream",
     "text": [
      "Rx_days_CLOPIDOGREL\n"
     ]
    },
    {
     "data": {
      "text/plain": [
       "array([0.0000e+00, 9.1250e+03, 2.1000e+01, 7.3000e+02, 7.3000e+03,\n",
       "       3.6500e+02, 4.5600e+02, 3.6500e+03, 1.0950e+03, 3.0400e+02,\n",
       "       9.1000e+01, 1.4600e+03, 1.5200e+02, 1.2200e+02, 6.1000e+01,\n",
       "       1.8250e+03, 1.0000e+00, 2.7400e+02, 2.4300e+02, 2.5550e+03,\n",
       "       8.5100e+02, 4.2000e+01, 1.8200e+02, 2.9200e+03, 1.4000e+01,\n",
       "       3.0000e+01, 2.1900e+03, 3.2850e+03, 8.0000e+01, 5.4700e+02,\n",
       "       4.0000e+00, 2.1300e+02, 6.0000e+00, 4.2600e+02, 4.3800e+03,\n",
       "       4.8600e+02, 3.9500e+02, 5.4800e+02, 6.6900e+02, 3.3400e+02,\n",
       "       1.4600e+04, 4.7450e+03, 7.0000e+00, 9.1200e+02, 1.0500e+02,\n",
       "       5.4750e+03, 5.8400e+03, 4.0150e+03, 5.1700e+02, 5.7800e+02,\n",
       "       2.0000e+00, 5.1100e+03, 6.2050e+03, 9.4900e+03, 8.0300e+03,\n",
       "       6.5700e+03, 1.0220e+04, 1.2045e+04, 7.6650e+03, 4.5000e+01,\n",
       "       1.0940e+03])"
      ]
     },
     "metadata": {},
     "output_type": "display_data"
    },
    {
     "name": "stdout",
     "output_type": "stream",
     "text": [
      "Rx_PRAVASTATIN\n"
     ]
    },
    {
     "data": {
      "text/plain": [
       "array([0, 1], dtype=int64)"
      ]
     },
     "metadata": {},
     "output_type": "display_data"
    },
    {
     "name": "stdout",
     "output_type": "stream",
     "text": [
      "Rx_days_PRAVASTATIN\n"
     ]
    },
    {
     "data": {
      "text/plain": [
       "array([0.0000e+00, 1.8200e+02, 1.4600e+03, 7.3000e+02, 1.0950e+03,\n",
       "       2.4300e+02, 3.6500e+03, 1.8250e+03, 9.1000e+01, 3.6500e+02,\n",
       "       3.0000e+01, 2.1900e+03, 1.2200e+02, 1.5000e+01, 6.1000e+01,\n",
       "       2.1300e+02, 1.6000e+01, 5.4750e+03, 3.3400e+02, 2.5550e+03,\n",
       "       7.3000e+03, 2.9200e+03, 7.0000e+00, 4.7450e+03, 1.0220e+04,\n",
       "       5.6000e+01, 1.0950e+04, 4.0000e+00, 4.0150e+03, 6.5700e+03,\n",
       "       4.9000e+01, 4.3800e+03, 9.1200e+02, 2.7400e+02, 1.5330e+04,\n",
       "       2.1000e+01, 1.5200e+02, 5.4700e+02, 8.7600e+03, 1.4000e+01,\n",
       "       3.2850e+03, 7.6650e+03, 3.0400e+02, 1.2775e+04, 5.8400e+03,\n",
       "       9.1250e+03, 1.0000e+00, 5.1100e+03, 1.2770e+03, 2.0000e+00,\n",
       "       8.0300e+03, 1.4600e+04, 6.2050e+03, 1.2160e+03, 9.8550e+03,\n",
       "       2.0440e+04, 6.9350e+03, 5.4800e+02])"
      ]
     },
     "metadata": {},
     "output_type": "display_data"
    },
    {
     "name": "stdout",
     "output_type": "stream",
     "text": [
      "Rx_WARFARIN\n"
     ]
    },
    {
     "data": {
      "text/plain": [
       "array([0, 1], dtype=int64)"
      ]
     },
     "metadata": {},
     "output_type": "display_data"
    },
    {
     "name": "stdout",
     "output_type": "stream",
     "text": [
      "Rx_days_WARFARIN\n"
     ]
    },
    {
     "data": {
      "text/plain": [
       "array([0.0000e+00, 3.6500e+02, 1.4600e+03, 7.3000e+02, 1.5000e+01,\n",
       "       1.8250e+03, 1.0950e+03, 6.1000e+01, 2.9200e+03, 5.4750e+03,\n",
       "       9.1000e+01, 1.8200e+02, 4.7450e+03, 3.6500e+03, 8.3950e+03,\n",
       "       5.1100e+03, 7.3000e+03, 3.2850e+03, 3.0000e+01, 1.0220e+04,\n",
       "       2.1900e+03, 2.1300e+02, 5.4700e+02, 1.5200e+02, 1.2200e+02,\n",
       "       2.7400e+02, 2.4300e+02, 4.3800e+03, 3.3400e+02, 4.0150e+03,\n",
       "       2.5550e+03, 6.9350e+03, 3.9500e+02, 5.8400e+03, 1.4000e+01,\n",
       "       6.5700e+03, 9.1250e+03, 1.2775e+04, 7.6650e+03, 6.2050e+03,\n",
       "       2.0080e+03, 4.2000e+01, 8.7600e+03, 9.8550e+03, 8.2100e+02,\n",
       "       1.0950e+04, 8.0300e+03, 3.0000e+00, 1.1315e+04, 9.1300e+02,\n",
       "       1.2770e+03, 3.0400e+02, 4.5600e+02, 1.2045e+04, 7.0000e+00,\n",
       "       1.0000e+00, 1.2410e+04])"
      ]
     },
     "metadata": {},
     "output_type": "display_data"
    },
    {
     "name": "stdout",
     "output_type": "stream",
     "text": [
      "Rx_ESOMEPRAZOLE\n"
     ]
    },
    {
     "data": {
      "text/plain": [
       "array([0, 1], dtype=int64)"
      ]
     },
     "metadata": {},
     "output_type": "display_data"
    },
    {
     "name": "stdout",
     "output_type": "stream",
     "text": [
      "Rx_days_ESOMEPRAZOLE\n"
     ]
    },
    {
     "data": {
      "text/plain": [
       "array([0.0000e+00, 7.3000e+02, 6.0000e+01, 3.6500e+02, 4.5000e+01,\n",
       "       2.9200e+03, 1.0950e+03, 2.1900e+03, 6.1000e+01, 1.2200e+02,\n",
       "       1.8250e+03, 3.6500e+03, 1.4600e+03, 9.1300e+02, 3.0000e+01,\n",
       "       2.0000e+00, 1.8200e+02, 3.2850e+03, 1.9000e+01, 1.5200e+02,\n",
       "       5.1100e+03, 1.0950e+04, 7.0000e+00, 5.4750e+03, 5.8400e+03,\n",
       "       2.1000e+01, 9.1000e+01, 3.0000e+00, 2.5550e+03, 7.3000e+03,\n",
       "       3.0400e+02, 1.4000e+01, 2.4300e+02, 3.3400e+02, 4.3800e+03,\n",
       "       2.7400e+02, 2.1300e+02, 5.4700e+02, 4.7450e+03, 1.6425e+03,\n",
       "       1.2775e+04, 1.1680e+04, 6.9350e+03, 1.0000e+00, 8.3950e+03,\n",
       "       7.5000e+01, 6.5700e+03])"
      ]
     },
     "metadata": {},
     "output_type": "display_data"
    },
    {
     "name": "stdout",
     "output_type": "stream",
     "text": [
      "Rx_FLUTICASONE NASAL\n"
     ]
    },
    {
     "data": {
      "text/plain": [
       "array([0, 1], dtype=int64)"
      ]
     },
     "metadata": {},
     "output_type": "display_data"
    },
    {
     "name": "stdout",
     "output_type": "stream",
     "text": [
      "Rx_days_FLUTICASONE NASAL\n"
     ]
    },
    {
     "data": {
      "text/plain": [
       "array([0.000e+00, 1.820e+02, 3.650e+02, 2.000e+00, 1.825e+03, 6.205e+03,\n",
       "       2.190e+03, 1.460e+03, 2.920e+03, 9.100e+01, 3.285e+03, 1.095e+03,\n",
       "       3.650e+03, 7.300e+02, 3.000e+01, 2.555e+03, 1.400e+01, 7.000e+00,\n",
       "       4.015e+03, 6.100e+01, 1.220e+02, 4.500e+01, 5.475e+03, 6.000e+01,\n",
       "       7.300e+03, 4.000e+00, 5.840e+03, 3.000e+00, 1.095e+04, 1.000e+01,\n",
       "       3.500e+01, 3.040e+02, 1.520e+02, 1.500e+01, 8.000e+00, 2.100e+01,\n",
       "       4.380e+03, 4.200e+01, 1.840e+03, 2.740e+02, 5.470e+02, 6.570e+03,\n",
       "       2.430e+02, 2.130e+02, 8.030e+03, 4.560e+02, 1.000e+00, 3.950e+02])"
      ]
     },
     "metadata": {},
     "output_type": "display_data"
    },
    {
     "name": "stdout",
     "output_type": "stream",
     "text": [
      "Rx_CARVEDILOL\n"
     ]
    },
    {
     "data": {
      "text/plain": [
       "array([1, 0], dtype=int64)"
      ]
     },
     "metadata": {},
     "output_type": "display_data"
    },
    {
     "name": "stdout",
     "output_type": "stream",
     "text": [
      "Rx_days_CARVEDILOL\n"
     ]
    },
    {
     "data": {
      "text/plain": [
       "array([7.3000e+02, 0.0000e+00, 3.6500e+02, 4.7450e+03, 6.1000e+01,\n",
       "       2.1900e+03, 1.8250e+03, 1.0950e+03, 2.4300e+02, 2.1300e+02,\n",
       "       2.7400e+02, 3.0400e+02, 1.5200e+02, 1.2200e+02, 3.2850e+03,\n",
       "       3.0000e+01, 2.5550e+03, 1.4600e+03, 5.4750e+03, 9.1000e+01,\n",
       "       1.0000e+00, 5.1100e+03, 3.6500e+03, 1.8200e+02, 1.4000e+01,\n",
       "       2.9200e+03, 4.3800e+03, 5.8400e+03, 5.4700e+02, 7.3000e+03,\n",
       "       3.3400e+02, 1.3505e+04, 4.5600e+02, 6.2050e+03, 4.0150e+03,\n",
       "       8.3950e+03, 8.7600e+03, 9.1250e+03, 1.2600e+02, 3.9500e+02,\n",
       "       9.1200e+02, 6.5700e+03, 1.0950e+04, 7.5000e+01, 1.0220e+04,\n",
       "       1.2780e+03, 4.2600e+02, 1.8250e+04, 8.0300e+03])"
      ]
     },
     "metadata": {},
     "output_type": "display_data"
    },
    {
     "name": "stdout",
     "output_type": "stream",
     "text": [
      "Rx_ROSUVASTATIN\n"
     ]
    },
    {
     "data": {
      "text/plain": [
       "array([0, 1], dtype=int64)"
      ]
     },
     "metadata": {},
     "output_type": "display_data"
    },
    {
     "name": "stdout",
     "output_type": "stream",
     "text": [
      "Rx_days_ROSUVASTATIN\n"
     ]
    },
    {
     "data": {
      "text/plain": [
       "array([0.000e+00, 9.100e+01, 7.300e+02, 3.650e+02, 1.820e+02, 2.130e+02,\n",
       "       5.475e+03, 2.430e+02, 1.095e+03, 2.740e+02, 1.220e+02, 5.470e+02,\n",
       "       2.190e+03, 1.825e+03, 6.100e+01, 2.920e+03, 1.460e+03, 3.340e+02,\n",
       "       3.650e+03, 1.000e+00, 1.400e+01, 5.110e+03, 2.555e+03, 3.500e+01,\n",
       "       4.000e+00, 3.285e+03, 3.000e+01, 1.095e+04, 9.125e+03, 7.000e+00,\n",
       "       4.380e+03, 5.480e+02, 6.990e+02, 4.015e+03, 1.520e+02, 3.000e+00,\n",
       "       7.300e+03, 4.745e+03, 5.840e+03, 2.100e+01, 6.570e+03, 6.205e+03,\n",
       "       4.260e+02, 8.030e+03, 1.840e+03, 3.040e+02])"
      ]
     },
     "metadata": {},
     "output_type": "display_data"
    },
    {
     "name": "stdout",
     "output_type": "stream",
     "text": [
      "Rx_INSULIN GLARGINE\n"
     ]
    },
    {
     "data": {
      "text/plain": [
       "array([0, 1], dtype=int64)"
      ]
     },
     "metadata": {},
     "output_type": "display_data"
    },
    {
     "name": "stdout",
     "output_type": "stream",
     "text": [
      "Rx_days_INSULIN GLARGINE\n"
     ]
    },
    {
     "data": {
      "text/plain": [
       "array([0.0000e+00, 5.4700e+02, 1.4600e+03, 3.6500e+03, 1.0950e+03,\n",
       "       1.8200e+02, 1.2200e+02, 1.8250e+03, 7.3000e+02, 2.5550e+03,\n",
       "       6.1000e+01, 5.1700e+02, 3.6500e+02, 2.1300e+02, 1.5200e+02,\n",
       "       9.1000e+01, 4.3800e+03, 2.9200e+03, 2.8000e+01, 2.1900e+03,\n",
       "       2.4300e+02, 3.2850e+03, 1.4000e+01, 9.1250e+03, 3.0000e+01,\n",
       "       6.2050e+03, 4.2000e+01, 9.1200e+02, 5.4750e+03, 2.7400e+02,\n",
       "       6.9350e+03, 3.9500e+02, 5.4800e+02, 1.0000e+00, 7.0000e+00,\n",
       "       1.0950e+04, 3.0400e+02, 4.5600e+02, 7.3000e+03, 6.5700e+03,\n",
       "       7.6650e+03, 5.1100e+03, 4.7450e+03, 1.2775e+04, 4.0150e+03,\n",
       "       4.2600e+02, 1.6425e+04, 1.4600e+04, 2.1000e+01, 5.4750e+02,\n",
       "       9.8550e+03])"
      ]
     },
     "metadata": {},
     "output_type": "display_data"
    },
    {
     "name": "stdout",
     "output_type": "stream",
     "text": [
      "Rx_CETIRIZINE\n"
     ]
    },
    {
     "data": {
      "text/plain": [
       "array([0, 1], dtype=int64)"
      ]
     },
     "metadata": {},
     "output_type": "display_data"
    },
    {
     "name": "stdout",
     "output_type": "stream",
     "text": [
      "Rx_days_CETIRIZINE\n"
     ]
    },
    {
     "data": {
      "text/plain": [
       "array([0.000e+00, 1.820e+02, 2.920e+03, 3.000e+01, 1.400e+01, 1.460e+03,\n",
       "       3.650e+02, 1.100e+01, 1.825e+03, 7.300e+02, 3.285e+03, 7.000e+00,\n",
       "       4.380e+03, 2.000e+00, 1.095e+03, 9.100e+01, 3.000e+00, 2.190e+03,\n",
       "       4.015e+03, 6.100e+01, 1.220e+02, 4.745e+03, 3.650e+03, 2.740e+02,\n",
       "       5.475e+03, 5.110e+03, 2.430e+02, 1.000e+00, 5.470e+02, 7.300e+03,\n",
       "       5.000e+00, 2.555e+03, 1.000e+01, 1.520e+02, 3.040e+02, 2.130e+02,\n",
       "       1.460e+04, 1.095e+04, 5.480e+02, 6.570e+03, 9.000e+01, 8.000e+00,\n",
       "       3.950e+02, 4.000e+00])"
      ]
     },
     "metadata": {},
     "output_type": "display_data"
    },
    {
     "name": "stdout",
     "output_type": "stream",
     "text": [
      "Rx_FLUTICASONE; SALMETEROL\n"
     ]
    },
    {
     "data": {
      "text/plain": [
       "array([0, 1], dtype=int64)"
      ]
     },
     "metadata": {},
     "output_type": "display_data"
    },
    {
     "name": "stdout",
     "output_type": "stream",
     "text": [
      "Rx_days_FLUTICASONE; SALMETEROL\n"
     ]
    },
    {
     "data": {
      "text/plain": [
       "array([0.000e+00, 3.000e+00, 9.120e+02, 7.300e+02, 1.460e+03, 1.825e+03,\n",
       "       7.000e+00, 2.190e+03, 3.650e+02, 1.820e+02, 1.095e+03, 5.470e+02,\n",
       "       1.220e+02, 6.100e+01, 2.430e+02, 1.520e+02, 2.200e+01, 5.475e+03,\n",
       "       2.130e+02, 1.400e+01, 2.555e+03, 2.920e+03, 4.015e+03, 2.100e+01,\n",
       "       3.285e+03, 3.650e+03, 4.745e+03, 9.100e+01, 4.500e+01, 5.110e+03,\n",
       "       6.000e+00, 3.040e+02, 3.000e+01, 4.865e+02, 1.095e+04, 4.260e+02,\n",
       "       2.740e+02, 4.380e+03, 7.300e+03, 3.500e+01, 4.200e+01, 9.130e+02,\n",
       "       9.125e+03])"
      ]
     },
     "metadata": {},
     "output_type": "display_data"
    },
    {
     "name": "stdout",
     "output_type": "stream",
     "text": [
      "Rx_TAMSULOSIN\n"
     ]
    },
    {
     "data": {
      "text/plain": [
       "array([0, 1], dtype=int64)"
      ]
     },
     "metadata": {},
     "output_type": "display_data"
    },
    {
     "name": "stdout",
     "output_type": "stream",
     "text": [
      "Rx_days_TAMSULOSIN\n"
     ]
    },
    {
     "data": {
      "text/plain": [
       "array([0.0000e+00, 3.0000e+01, 7.3000e+02, 9.1000e+01, 1.0950e+03,\n",
       "       2.1900e+03, 3.6500e+02, 1.0000e+00, 4.2000e+01, 1.8250e+03,\n",
       "       1.4600e+03, 6.1000e+01, 3.6500e+03, 1.2200e+02, 2.4300e+02,\n",
       "       5.4700e+02, 3.0400e+02, 2.7400e+02, 4.0150e+03, 1.8200e+02,\n",
       "       2.5550e+03, 1.5200e+02, 2.9200e+03, 1.4000e+01, 3.3400e+02,\n",
       "       7.0000e+00, 4.3800e+03, 8.0000e+00, 2.1000e+01, 9.1200e+02,\n",
       "       5.1100e+03, 4.5000e+01, 7.3000e+03, 5.4750e+03, 3.2850e+03,\n",
       "       2.0000e+00, 8.0300e+03, 6.0000e+01, 2.1300e+02, 9.1250e+03,\n",
       "       5.8400e+03, 1.0950e+04, 8.2125e+03, 1.2775e+04, 1.0000e+01])"
      ]
     },
     "metadata": {},
     "output_type": "display_data"
    },
    {
     "name": "stdout",
     "output_type": "stream",
     "text": [
      "Rx_PANTOPRAZOLE\n"
     ]
    },
    {
     "data": {
      "text/plain": [
       "array([0, 1], dtype=int64)"
      ]
     },
     "metadata": {},
     "output_type": "display_data"
    },
    {
     "name": "stdout",
     "output_type": "stream",
     "text": [
      "Rx_days_PANTOPRAZOLE\n"
     ]
    },
    {
     "data": {
      "text/plain": [
       "array([0.0000e+00, 7.3000e+02, 3.0000e+01, 2.9200e+03, 3.6500e+02,\n",
       "       1.4000e+01, 1.5200e+02, 1.0950e+03, 1.0000e+00, 1.2200e+02,\n",
       "       1.8200e+02, 2.1900e+03, 6.0000e+01, 1.4600e+04, 4.7450e+03,\n",
       "       1.0950e+04, 2.1000e+01, 3.6500e+03, 1.8250e+03, 4.2000e+01,\n",
       "       9.1000e+01, 1.4600e+03, 2.4300e+02, 5.4700e+02, 7.0000e+00,\n",
       "       6.1000e+01, 3.0000e+00, 8.3950e+03, 6.5700e+03, 2.5550e+03,\n",
       "       5.4750e+03, 2.1300e+02, 4.3800e+03, 7.3000e+03, 5.1100e+03,\n",
       "       3.5000e+01, 4.0150e+03, 1.2770e+03, 9.1200e+02, 5.8400e+03,\n",
       "       2.0000e+00, 1.3140e+04, 1.2775e+04])"
      ]
     },
     "metadata": {},
     "output_type": "display_data"
    },
    {
     "name": "stdout",
     "output_type": "stream",
     "text": [
      "Rx_TRAMADOL\n"
     ]
    },
    {
     "data": {
      "text/plain": [
       "array([0, 1], dtype=int64)"
      ]
     },
     "metadata": {},
     "output_type": "display_data"
    },
    {
     "name": "stdout",
     "output_type": "stream",
     "text": [
      "Rx_days_TRAMADOL\n"
     ]
    },
    {
     "data": {
      "text/plain": [
       "array([0.0000e+00, 3.6500e+03, 3.6500e+02, 1.8250e+03, 6.1000e+01,\n",
       "       4.3800e+03, 3.0000e+01, 1.5200e+02, 5.4700e+02, 7.0000e+00,\n",
       "       5.0000e+00, 1.8200e+02, 7.3000e+02, 1.0950e+03, 4.0150e+03,\n",
       "       2.4300e+02, 1.4600e+03, 1.4000e+01, 4.2000e+01, 2.1900e+03,\n",
       "       2.1300e+02, 1.2200e+02, 6.9350e+03, 2.7400e+02, 7.3000e+03,\n",
       "       2.9200e+03, 5.4750e+03, 4.7450e+03, 3.2850e+03, 9.1250e+03,\n",
       "       2.5550e+03, 5.8400e+03, 1.0950e+04, 9.1200e+02, 1.0000e+00,\n",
       "       9.1000e+01, 3.0400e+02, 6.0000e+01, 5.1100e+03, 3.0000e+00,\n",
       "       2.1000e+01, 2.0000e+00, 5.1700e+02, 6.0000e+00, 1.0000e+01,\n",
       "       3.3400e+02, 4.0000e+00, 4.5600e+02, 1.4965e+04, 6.5700e+03,\n",
       "       3.9500e+02, 6.2050e+03, 2.2000e+01])"
      ]
     },
     "metadata": {},
     "output_type": "display_data"
    },
    {
     "name": "stdout",
     "output_type": "stream",
     "text": [
      "Rx_ALPRAZOLAM\n"
     ]
    },
    {
     "data": {
      "text/plain": [
       "array([0, 1], dtype=int64)"
      ]
     },
     "metadata": {},
     "output_type": "display_data"
    },
    {
     "name": "stdout",
     "output_type": "stream",
     "text": [
      "Rx_days_ALPRAZOLAM\n"
     ]
    },
    {
     "data": {
      "text/plain": [
       "array([0.0000e+00, 3.0000e+01, 3.0000e+00, 7.3000e+02, 1.8250e+03,\n",
       "       1.0950e+03, 2.4300e+02, 3.6500e+02, 2.9200e+03, 7.3000e+03,\n",
       "       2.1900e+03, 4.3800e+03, 5.4750e+03, 1.4600e+03, 3.6500e+03,\n",
       "       1.4600e+04, 1.2200e+02, 1.8200e+02, 4.0150e+03, 1.0950e+04,\n",
       "       9.1250e+03, 5.1100e+03, 9.1000e+01, 3.2850e+03, 5.8400e+03,\n",
       "       2.5550e+03, 4.7450e+03, 3.5000e+01, 1.5200e+02, 7.0000e+01,\n",
       "       6.0800e+02, 6.1000e+01, 1.6000e+01, 8.0300e+03, 2.1000e+01,\n",
       "       5.4700e+02, 1.4000e+01, 6.2050e+03, 8.3950e+03, 7.0000e+00,\n",
       "       1.0585e+04, 2.7400e+02, 7.6650e+03, 2.1300e+02, 4.5600e+02,\n",
       "       4.8600e+02, 1.3140e+04, 6.5700e+03, 9.8550e+03, 5.0000e+00,\n",
       "       3.0400e+02])"
      ]
     },
     "metadata": {},
     "output_type": "display_data"
    },
    {
     "name": "stdout",
     "output_type": "stream",
     "text": [
      "Rx_HYDROCHLOROTHIAZIDE; LISINOPRIL\n"
     ]
    },
    {
     "data": {
      "text/plain": [
       "array([0, 1], dtype=int64)"
      ]
     },
     "metadata": {},
     "output_type": "display_data"
    },
    {
     "name": "stdout",
     "output_type": "stream",
     "text": [
      "Rx_days_HYDROCHLOROTHIAZIDE; LISINOPRIL\n"
     ]
    },
    {
     "data": {
      "text/plain": [
       "array([0.0000e+00, 3.6500e+02, 1.0950e+03, 1.8250e+03, 2.9200e+03,\n",
       "       2.1900e+03, 3.6500e+03, 8.5100e+02, 1.4600e+03, 9.1000e+01,\n",
       "       1.2200e+02, 1.8200e+02, 7.3000e+02, 7.3000e+03, 6.1000e+01,\n",
       "       3.0000e+01, 5.4750e+03, 9.8550e+03, 4.3800e+03, 2.4300e+02,\n",
       "       3.0000e+00, 6.2050e+03, 1.0950e+04, 2.5550e+03, 1.5200e+02,\n",
       "       2.1300e+02, 5.4700e+02, 2.7400e+02, 2.7010e+04, 4.0150e+03,\n",
       "       3.2850e+03, 9.1250e+03, 1.0000e+00, 1.6060e+04, 1.4235e+04,\n",
       "       4.7450e+03, 2.6000e+01, 6.5700e+03, 7.6650e+03, 1.2775e+04,\n",
       "       5.1100e+03, 8.3950e+03, 8.7600e+03, 1.4000e+01, 5.7800e+02,\n",
       "       3.5000e+01, 5.8400e+03, 3.0400e+02])"
      ]
     },
     "metadata": {},
     "output_type": "display_data"
    },
    {
     "name": "stdout",
     "output_type": "stream",
     "text": [
      "Rx_LOVASTATIN\n"
     ]
    },
    {
     "data": {
      "text/plain": [
       "array([0, 1], dtype=int64)"
      ]
     },
     "metadata": {},
     "output_type": "display_data"
    },
    {
     "name": "stdout",
     "output_type": "stream",
     "text": [
      "Rx_days_LOVASTATIN\n"
     ]
    },
    {
     "data": {
      "text/plain": [
       "array([0.000e+00, 1.825e+03, 1.095e+03, 1.820e+02, 7.300e+02, 9.100e+01,\n",
       "       6.100e+01, 2.130e+02, 3.650e+02, 1.520e+02, 1.460e+03, 3.650e+03,\n",
       "       4.380e+03, 5.475e+03, 7.000e+00, 1.095e+04, 7.300e+03, 2.920e+03,\n",
       "       3.000e+01, 2.555e+03, 1.400e+01, 4.200e+01, 4.000e+00, 2.100e+01,\n",
       "       2.190e+03, 2.430e+02, 1.000e+01, 4.260e+02, 5.470e+02, 7.665e+03,\n",
       "       1.460e+04, 3.285e+03, 4.745e+03, 9.125e+03, 3.340e+02, 2.740e+02,\n",
       "       5.170e+02, 4.860e+02, 4.015e+03, 1.220e+02, 8.760e+03, 5.110e+03,\n",
       "       3.000e+00, 6.205e+03])"
      ]
     },
     "metadata": {},
     "output_type": "display_data"
    },
    {
     "name": "stdout",
     "output_type": "stream",
     "text": [
      "Rx_PREDNISONE\n"
     ]
    },
    {
     "data": {
      "text/plain": [
       "array([0, 1], dtype=int64)"
      ]
     },
     "metadata": {},
     "output_type": "display_data"
    },
    {
     "name": "stdout",
     "output_type": "stream",
     "text": [
      "Rx_days_PREDNISONE\n"
     ]
    },
    {
     "data": {
      "text/plain": [
       "array([0.0000e+00, 3.2850e+03, 3.9500e+02, 7.3000e+02, 1.0950e+03,\n",
       "       6.1000e+01, 2.0000e+00, 3.6500e+02, 2.1900e+03, 2.9200e+03,\n",
       "       4.0150e+03, 1.4600e+03, 4.0000e+00, 7.0000e+00, 1.2200e+02,\n",
       "       6.0000e+00, 9.1000e+01, 1.0950e+04, 1.9000e+01, 5.8400e+03,\n",
       "       5.4750e+03, 1.1315e+04, 3.0400e+02, 1.0000e+00, 2.5550e+03,\n",
       "       3.0000e+00, 2.2000e+01, 3.5000e+01, 1.8200e+02, 1.2000e+01,\n",
       "       9.1250e+03, 2.1000e+01, 5.4700e+02, 1.4000e+01, 6.9350e+03,\n",
       "       5.0000e+00, 3.0000e+01, 3.6500e+03, 9.0000e+00, 1.8250e+03,\n",
       "       2.4300e+02, 5.1100e+03, 8.0000e+00, 1.5200e+02, 7.3000e+03,\n",
       "       3.3400e+02, 4.3800e+03, 2.0000e+01, 6.2050e+03, 1.8250e+04,\n",
       "       6.5700e+03, 2.7400e+02, 1.0000e+01, 2.6000e+01, 1.1680e+04,\n",
       "       4.2000e+01, 1.2775e+04, 4.2600e+02, 4.8600e+02, 4.7450e+03,\n",
       "       1.2410e+04, 1.5000e+01, 1.3000e+01, 1.2770e+03, 1.0220e+04,\n",
       "       7.9000e+02])"
      ]
     },
     "metadata": {},
     "output_type": "display_data"
    },
    {
     "name": "stdout",
     "output_type": "stream",
     "text": [
      "Rx_ALLOPURINOL\n"
     ]
    },
    {
     "data": {
      "text/plain": [
       "array([0, 1], dtype=int64)"
      ]
     },
     "metadata": {},
     "output_type": "display_data"
    },
    {
     "name": "stdout",
     "output_type": "stream",
     "text": [
      "Rx_days_ALLOPURINOL\n"
     ]
    },
    {
     "data": {
      "text/plain": [
       "array([0.0000e+00, 1.0950e+03, 1.8250e+03, 5.4750e+03, 1.4600e+03,\n",
       "       7.3000e+02, 7.3000e+03, 3.6500e+02, 6.0800e+02, 2.1900e+03,\n",
       "       3.6500e+03, 2.5550e+03, 2.9200e+03, 3.0000e+01, 1.5000e+01,\n",
       "       9.8550e+03, 9.1250e+03, 9.1000e+01, 5.4700e+02, 1.8200e+02,\n",
       "       2.1300e+02, 6.5700e+03, 3.0400e+02, 2.7400e+02, 6.2050e+03,\n",
       "       1.4000e+01, 1.0950e+04, 1.0585e+04, 1.1315e+04, 4.3800e+03,\n",
       "       2.0805e+04, 6.9350e+03, 2.4300e+02, 6.1000e+01, 4.0150e+03,\n",
       "       4.7450e+03, 4.9000e+01, 1.0220e+04, 4.0000e+00, 1.2775e+04,\n",
       "       1.2200e+02, 5.1100e+03, 5.8400e+03, 1.7885e+04, 9.4900e+03,\n",
       "       1.6425e+04, 1.4600e+04, 3.2850e+03, 7.0000e+00, 1.5200e+02,\n",
       "       1.3140e+04, 5.4800e+02, 1.0000e+01, 9.1600e+02, 8.3950e+03,\n",
       "       3.3400e+02, 9.1300e+02, 2.2000e+01, 8.7600e+03])"
      ]
     },
     "metadata": {},
     "output_type": "display_data"
    },
    {
     "name": "stdout",
     "output_type": "stream",
     "text": [
      "Rx_NAPROXEN\n"
     ]
    },
    {
     "data": {
      "text/plain": [
       "array([0, 1], dtype=int64)"
      ]
     },
     "metadata": {},
     "output_type": "display_data"
    },
    {
     "name": "stdout",
     "output_type": "stream",
     "text": [
      "Rx_days_NAPROXEN\n"
     ]
    },
    {
     "data": {
      "text/plain": [
       "array([0.000e+00, 2.190e+03, 1.400e+01, 6.100e+01, 1.095e+04, 9.100e+01,\n",
       "       5.000e+00, 1.460e+03, 5.475e+03, 7.300e+02, 3.000e+01, 1.825e+03,\n",
       "       7.000e+00, 1.820e+02, 2.555e+03, 1.000e+00, 1.220e+02, 3.650e+02,\n",
       "       5.110e+03, 4.000e+00, 7.300e+03, 3.000e+00, 9.490e+03, 6.000e+01,\n",
       "       2.100e+01, 3.650e+03, 8.000e+00, 1.095e+03, 2.000e+00, 2.130e+02,\n",
       "       2.920e+03, 2.430e+02, 1.520e+02, 4.380e+03, 4.200e+01, 3.040e+02,\n",
       "       3.285e+03, 2.400e+01, 2.800e+01, 3.950e+02, 1.500e+01, 1.000e+01,\n",
       "       9.120e+02, 4.745e+03, 2.740e+02, 5.470e+02, 2.000e+01, 4.500e+01,\n",
       "       6.000e+00, 1.100e+01, 1.200e+01, 9.125e+03, 2.200e+01, 4.860e+02,\n",
       "       6.570e+03, 1.022e+04, 1.800e+01])"
      ]
     },
     "metadata": {},
     "output_type": "display_data"
    },
    {
     "name": "stdout",
     "output_type": "stream",
     "text": [
      "Rx_VALSARTAN\n"
     ]
    },
    {
     "data": {
      "text/plain": [
       "array([0, 1], dtype=int64)"
      ]
     },
     "metadata": {},
     "output_type": "display_data"
    },
    {
     "name": "stdout",
     "output_type": "stream",
     "text": [
      "Rx_days_VALSARTAN\n"
     ]
    },
    {
     "data": {
      "text/plain": [
       "array([0.000e+00, 7.300e+02, 2.190e+03, 1.460e+03, 1.820e+02, 3.650e+02,\n",
       "       1.825e+03, 5.840e+03, 3.650e+03, 1.095e+03, 6.300e+01, 3.285e+03,\n",
       "       7.300e+03, 5.475e+03, 2.100e+01, 2.555e+03, 6.100e+01, 4.015e+03,\n",
       "       1.520e+02, 4.860e+02, 3.000e+01, 5.470e+02, 2.920e+03, 1.095e+04,\n",
       "       9.100e+01, 2.130e+02, 4.380e+03, 3.340e+02, 2.430e+02, 6.690e+02,\n",
       "       1.971e+04, 1.400e+01, 3.040e+02, 2.740e+02, 4.560e+02, 2.008e+03,\n",
       "       1.220e+02, 3.000e+00, 5.110e+03, 7.000e+01, 6.205e+03, 7.000e+00,\n",
       "       9.730e+02])"
      ]
     },
     "metadata": {},
     "output_type": "display_data"
    },
    {
     "name": "stdout",
     "output_type": "stream",
     "text": [
      "Rx_ASPIRIN\n"
     ]
    },
    {
     "data": {
      "text/plain": [
       "array([0, 1], dtype=int64)"
      ]
     },
     "metadata": {},
     "output_type": "display_data"
    },
    {
     "name": "stdout",
     "output_type": "stream",
     "text": [
      "Rx_days_ASPIRIN\n"
     ]
    },
    {
     "data": {
      "text/plain": [
       "array([0.000e+00, 7.300e+02, 9.100e+01, 3.650e+03, 1.095e+04, 7.000e+00,\n",
       "       3.000e+01, 6.100e+01, 2.430e+02, 1.825e+03, 3.650e+02, 1.095e+03,\n",
       "       2.920e+03, 8.510e+02, 3.285e+03, 7.300e+03, 1.900e+01, 1.460e+03,\n",
       "       5.840e+03, 6.205e+03, 1.820e+02, 6.570e+03, 1.520e+02, 2.555e+03,\n",
       "       4.380e+03, 2.190e+03, 5.475e+03, 1.533e+04, 8.030e+03, 3.040e+02,\n",
       "       2.130e+02, 5.110e+03, 1.000e+01, 4.015e+03, 5.780e+02, 7.665e+03,\n",
       "       2.740e+02, 1.220e+02, 1.460e+04, 9.120e+02, 5.170e+02, 4.745e+03,\n",
       "       1.606e+04, 1.500e+01, 2.000e+01, 3.500e+01, 9.125e+03, 9.855e+03,\n",
       "       6.935e+03])"
      ]
     },
     "metadata": {},
     "output_type": "display_data"
    },
    {
     "name": "stdout",
     "output_type": "stream",
     "text": [
      "Rx_ZOLPIDEM\n"
     ]
    },
    {
     "data": {
      "text/plain": [
       "array([0, 1], dtype=int64)"
      ]
     },
     "metadata": {},
     "output_type": "display_data"
    },
    {
     "name": "stdout",
     "output_type": "stream",
     "text": [
      "Rx_days_ZOLPIDEM\n"
     ]
    },
    {
     "data": {
      "text/plain": [
       "array([0.000e+00, 3.650e+03, 1.220e+02, 3.650e+02, 7.300e+02, 1.520e+02,\n",
       "       1.050e+02, 1.095e+03, 6.100e+01, 9.100e+01, 2.555e+03, 1.460e+03,\n",
       "       3.000e+01, 2.100e+01, 2.190e+03, 7.000e+00, 1.820e+02, 5.470e+02,\n",
       "       1.825e+03, 2.920e+03, 4.380e+03, 2.130e+02, 7.300e+03, 5.475e+03,\n",
       "       3.040e+02, 4.745e+03, 1.400e+01, 1.700e+01, 1.000e+00, 2.430e+02,\n",
       "       3.500e+01, 5.480e+02, 4.015e+03, 5.000e+00, 1.000e+01, 6.570e+03,\n",
       "       5.110e+03, 3.285e+03, 7.000e+01, 2.800e+01, 1.095e+04, 7.665e+03,\n",
       "       8.030e+03, 4.260e+02])"
      ]
     },
     "metadata": {},
     "output_type": "display_data"
    },
    {
     "name": "stdout",
     "output_type": "stream",
     "text": [
      "Rx_CYCLOBENZAPRINE\n"
     ]
    },
    {
     "data": {
      "text/plain": [
       "array([0, 1], dtype=int64)"
      ]
     },
     "metadata": {},
     "output_type": "display_data"
    },
    {
     "name": "stdout",
     "output_type": "stream",
     "text": [
      "Rx_days_CYCLOBENZAPRINE\n"
     ]
    },
    {
     "data": {
      "text/plain": [
       "array([0.0000e+00, 7.3000e+02, 1.5200e+02, 6.1000e+01, 7.0000e+00,\n",
       "       2.0000e+01, 1.4000e+01, 3.0000e+01, 1.0950e+03, 4.2600e+02,\n",
       "       3.0000e+00, 5.1100e+03, 3.6500e+02, 9.1000e+01, 2.1300e+02,\n",
       "       2.0000e+00, 1.8250e+03, 6.2050e+03, 1.4600e+03, 4.2000e+01,\n",
       "       2.5550e+03, 1.8200e+02, 5.4700e+02, 3.6500e+03, 1.0000e+00,\n",
       "       5.0000e+00, 6.0000e+01, 1.0000e+01, 1.2200e+02, 1.8250e+02,\n",
       "       2.7400e+02, 4.9000e+01, 5.4750e+03, 2.1000e+01, 2.9200e+03,\n",
       "       4.0000e+00, 3.2850e+03, 2.1900e+03, 4.7450e+03, 3.9500e+02,\n",
       "       4.3800e+03, 1.1680e+04, 7.3000e+03, 1.4600e+04, 1.0340e+03,\n",
       "       1.2775e+03, 2.4300e+02, 4.8600e+02, 3.0400e+02, 3.3400e+02,\n",
       "       5.1700e+02, 4.5000e+01, 1.0035e+03, 9.1200e+02, 1.0950e+04,\n",
       "       9.1250e+03, 1.2410e+04, 8.0300e+03, 1.7000e+01, 8.3950e+03,\n",
       "       1.1000e+01, 6.5700e+03, 1.0940e+03])"
      ]
     },
     "metadata": {},
     "output_type": "display_data"
    },
    {
     "name": "stdout",
     "output_type": "stream",
     "text": [
      "Rx_DILTIAZEM\n"
     ]
    },
    {
     "data": {
      "text/plain": [
       "array([0, 1], dtype=int64)"
      ]
     },
     "metadata": {},
     "output_type": "display_data"
    },
    {
     "name": "stdout",
     "output_type": "stream",
     "text": [
      "Rx_days_DILTIAZEM\n"
     ]
    },
    {
     "data": {
      "text/plain": [
       "array([0.0000e+00, 3.6500e+03, 2.9200e+03, 1.0950e+03, 6.1000e+01,\n",
       "       1.4600e+03, 3.0000e+01, 3.6500e+02, 1.4965e+04, 8.0300e+03,\n",
       "       1.8250e+03, 9.1000e+01, 7.3000e+02, 3.2850e+03, 2.1900e+03,\n",
       "       9.0000e+00, 5.4750e+03, 7.0000e+01, 3.0400e+02, 7.3000e+03,\n",
       "       1.8200e+02, 5.4700e+02, 2.5550e+03, 9.1250e+03, 1.0950e+04,\n",
       "       4.2600e+02, 4.3800e+03, 5.8400e+03, 6.5700e+03, 2.4300e+02,\n",
       "       1.3140e+04, 1.2200e+02, 1.5200e+02, 6.2050e+03, 1.4600e+04,\n",
       "       4.0150e+03, 3.3400e+02, 7.0000e+00, 1.7340e+03, 1.0585e+04,\n",
       "       1.4000e+01, 5.4750e+02, 1.2410e+04, 2.7400e+02, 8.3950e+03,\n",
       "       2.1300e+02, 1.9345e+04, 6.9350e+03, 1.8250e+04])"
      ]
     },
     "metadata": {},
     "output_type": "display_data"
    },
    {
     "name": "stdout",
     "output_type": "stream",
     "text": [
      "Rx_ALENDRONATE\n"
     ]
    },
    {
     "data": {
      "text/plain": [
       "array([0, 1], dtype=int64)"
      ]
     },
     "metadata": {},
     "output_type": "display_data"
    },
    {
     "name": "stdout",
     "output_type": "stream",
     "text": [
      "Rx_days_ALENDRONATE\n"
     ]
    },
    {
     "data": {
      "text/plain": [
       "array([0.000e+00, 1.460e+03, 3.650e+03, 1.095e+03, 1.520e+02, 7.000e+00,\n",
       "       7.300e+02, 1.825e+03, 2.555e+03, 5.475e+03, 9.100e+01, 2.430e+02,\n",
       "       3.650e+02, 2.190e+03, 3.000e+01, 2.920e+03, 1.820e+02, 1.125e+03,\n",
       "       2.100e+01, 5.470e+02, 7.300e+03, 3.040e+02, 3.285e+03, 2.740e+02,\n",
       "       1.220e+02, 1.000e+01, 6.100e+01, 4.380e+03, 2.000e+00, 2.130e+02,\n",
       "       4.560e+02, 1.095e+04, 1.400e+01, 1.307e+03, 9.130e+02, 8.760e+03,\n",
       "       9.730e+02, 8.000e+00, 4.900e+01, 1.241e+04, 4.015e+03, 1.000e+00])"
      ]
     },
     "metadata": {},
     "output_type": "display_data"
    },
    {
     "name": "stdout",
     "output_type": "stream",
     "text": [
      "Rx_CLONIDINE\n"
     ]
    },
    {
     "data": {
      "text/plain": [
       "array([0, 1], dtype=int64)"
      ]
     },
     "metadata": {},
     "output_type": "display_data"
    },
    {
     "name": "stdout",
     "output_type": "stream",
     "text": [
      "Rx_days_CLONIDINE\n"
     ]
    },
    {
     "data": {
      "text/plain": [
       "array([0.000e+00, 3.650e+02, 7.300e+02, 1.460e+03, 6.100e+01, 3.650e+03,\n",
       "       1.220e+02, 2.190e+03, 3.000e+01, 1.825e+03, 1.820e+02, 1.095e+03,\n",
       "       1.500e+01, 2.920e+03, 1.095e+04, 6.205e+03, 5.470e+02, 4.745e+03,\n",
       "       9.100e+01, 2.500e+01, 6.935e+03, 4.015e+03, 3.950e+02, 3.285e+03,\n",
       "       2.555e+03, 7.300e+03, 8.000e+00, 1.000e+00, 5.475e+03, 1.168e+04,\n",
       "       5.840e+03, 2.130e+02, 1.520e+02, 4.260e+02, 9.125e+03, 5.110e+03,\n",
       "       2.430e+02, 1.400e+01, 7.000e+00])"
      ]
     },
     "metadata": {},
     "output_type": "display_data"
    },
    {
     "name": "stdout",
     "output_type": "stream",
     "text": [
      "Rx_LANSOPRAZOLE\n"
     ]
    },
    {
     "data": {
      "text/plain": [
       "array([0, 1], dtype=int64)"
      ]
     },
     "metadata": {},
     "output_type": "display_data"
    },
    {
     "name": "stdout",
     "output_type": "stream",
     "text": [
      "Rx_days_LANSOPRAZOLE\n"
     ]
    },
    {
     "data": {
      "text/plain": [
       "array([0.000e+00, 8.395e+03, 1.095e+03, 9.100e+01, 1.220e+02, 2.555e+03,\n",
       "       7.300e+03, 7.300e+02, 3.000e+01, 2.430e+02, 3.650e+03, 1.460e+03,\n",
       "       3.000e+00, 1.825e+03, 3.650e+02, 6.205e+03, 5.000e+00, 2.740e+02,\n",
       "       1.520e+02, 6.100e+01, 7.000e+00, 4.600e+01, 5.475e+03, 2.190e+03,\n",
       "       2.920e+03, 2.700e+01, 1.400e+01, 3.285e+03, 2.100e+01, 1.820e+02,\n",
       "       1.100e+01, 1.000e+00, 4.860e+02, 4.380e+03, 4.000e+01, 1.200e+01,\n",
       "       4.000e+00, 1.095e+04, 2.000e+00, 9.125e+03, 8.760e+03, 6.935e+03])"
      ]
     },
     "metadata": {},
     "output_type": "display_data"
    },
    {
     "name": "stdout",
     "output_type": "stream",
     "text": [
      "Rx_MELOXICAM\n"
     ]
    },
    {
     "data": {
      "text/plain": [
       "array([0, 1], dtype=int64)"
      ]
     },
     "metadata": {},
     "output_type": "display_data"
    },
    {
     "name": "stdout",
     "output_type": "stream",
     "text": [
      "Rx_days_MELOXICAM\n"
     ]
    },
    {
     "data": {
      "text/plain": [
       "array([0.0000e+00, 3.6500e+02, 4.2000e+01, 1.8200e+02, 1.8250e+03,\n",
       "       2.5550e+03, 1.0950e+03, 7.3000e+02, 2.1000e+01, 7.0000e+00,\n",
       "       3.0000e+00, 9.1000e+01, 1.2200e+02, 5.4700e+02, 4.3800e+03,\n",
       "       2.9200e+03, 3.0000e+01, 2.8000e+01, 4.2600e+02, 1.0000e+01,\n",
       "       1.4600e+03, 7.3000e+03, 4.0150e+03, 2.1300e+02, 3.6500e+03,\n",
       "       6.1000e+01, 2.1900e+03, 1.4000e+01, 8.0000e+00, 5.4800e+02,\n",
       "       5.4750e+03, 1.5200e+02, 3.0400e+02, 9.1250e+03, 2.0000e+00,\n",
       "       2.7400e+02, 2.4000e+01, 2.4300e+02, 5.1100e+03, 1.4965e+04,\n",
       "       3.3400e+02, 4.7450e+03, 1.5000e+01])"
      ]
     },
     "metadata": {},
     "output_type": "display_data"
    },
    {
     "name": "stdout",
     "output_type": "stream",
     "text": [
      "Rx_METHYLPHENIDATE\n"
     ]
    },
    {
     "data": {
      "text/plain": [
       "array([0, 1], dtype=int64)"
      ]
     },
     "metadata": {},
     "output_type": "display_data"
    },
    {
     "name": "stdout",
     "output_type": "stream",
     "text": [
      "Rx_days_METHYLPHENIDATE\n"
     ]
    },
    {
     "data": {
      "text/plain": [
       "array([    0.,   730.,   365.,  4745.,    61.,  3650.,  1095.,  4380.,\n",
       "        2190.,  3285.,  4015., 12775.,   274.,   182.,  5840.,  1460.,\n",
       "          91.,   243.,  8030.,  7665.,  1825.,  5475.,   122.,  9855.,\n",
       "         304.,    21.,    35.,   152.,  7300.,  6570.])"
      ]
     },
     "metadata": {},
     "output_type": "display_data"
    },
    {
     "name": "stdout",
     "output_type": "stream",
     "text": [
      "Rx_HYDROCHLOROTHIAZIDE; TRIAMTERENE\n"
     ]
    },
    {
     "data": {
      "text/plain": [
       "array([0, 1], dtype=int64)"
      ]
     },
     "metadata": {},
     "output_type": "display_data"
    },
    {
     "name": "stdout",
     "output_type": "stream",
     "text": [
      "Rx_days_HYDROCHLOROTHIAZIDE; TRIAMTERENE\n"
     ]
    },
    {
     "data": {
      "text/plain": [
       "array([0.0000e+00, 3.6500e+02, 7.3000e+02, 2.1900e+03, 1.0950e+03,\n",
       "       5.4750e+03, 3.6500e+03, 2.4300e+02, 1.4600e+03, 1.8250e+03,\n",
       "       7.3000e+03, 3.9500e+02, 7.6650e+03, 2.9200e+03, 1.5200e+02,\n",
       "       1.2775e+04, 3.0000e+00, 6.1000e+01, 3.0000e+01, 1.0950e+04,\n",
       "       5.4700e+02, 2.1300e+02, 9.1250e+03, 1.8200e+02, 2.1000e+01,\n",
       "       2.5550e+03, 1.2200e+02, 1.3505e+04, 4.3800e+03, 5.1100e+03,\n",
       "       9.8550e+03, 1.1680e+04, 6.5700e+03, 1.4600e+04, 8.3950e+03,\n",
       "       1.0000e+00, 8.7600e+03, 6.9350e+03, 9.1000e+01, 1.2410e+04,\n",
       "       1.0220e+04])"
      ]
     },
     "metadata": {},
     "output_type": "display_data"
    },
    {
     "name": "stdout",
     "output_type": "stream",
     "text": [
      "Rx_GLIMEPIRIDE\n"
     ]
    },
    {
     "data": {
      "text/plain": [
       "array([0, 1], dtype=int64)"
      ]
     },
     "metadata": {},
     "output_type": "display_data"
    },
    {
     "name": "stdout",
     "output_type": "stream",
     "text": [
      "Rx_days_GLIMEPIRIDE\n"
     ]
    },
    {
     "data": {
      "text/plain": [
       "array([0.000e+00, 1.460e+03, 2.190e+03, 1.825e+03, 2.130e+02, 9.100e+01,\n",
       "       3.650e+03, 7.300e+02, 2.555e+03, 1.095e+03, 3.340e+02, 3.000e+01,\n",
       "       3.650e+02, 1.820e+02, 2.920e+03, 5.110e+03, 4.380e+03, 7.300e+03,\n",
       "       2.430e+02, 1.000e+00, 2.100e+01, 1.095e+04, 4.745e+03, 4.200e+01,\n",
       "       1.220e+02, 5.475e+03, 1.387e+04, 1.520e+02, 7.000e+00, 6.100e+01,\n",
       "       8.760e+03, 1.460e+04, 3.000e+00, 8.030e+03, 4.015e+03, 5.470e+02,\n",
       "       1.400e+01, 7.665e+03, 2.190e+04, 2.740e+02, 5.840e+03, 2.000e+01,\n",
       "       2.240e+02])"
      ]
     },
     "metadata": {},
     "output_type": "display_data"
    },
    {
     "name": "stdout",
     "output_type": "stream",
     "text": [
      "Rx_CLONAZEPAM\n"
     ]
    },
    {
     "data": {
      "text/plain": [
       "array([0, 1], dtype=int64)"
      ]
     },
     "metadata": {},
     "output_type": "display_data"
    },
    {
     "name": "stdout",
     "output_type": "stream",
     "text": [
      "Rx_days_CLONAZEPAM\n"
     ]
    },
    {
     "data": {
      "text/plain": [
       "array([0.000e+00, 9.100e+01, 3.650e+02, 6.100e+01, 4.260e+02, 1.000e+00,\n",
       "       1.095e+03, 3.650e+03, 5.475e+03, 5.470e+02, 1.460e+03, 2.740e+02,\n",
       "       7.300e+02, 3.000e+01, 1.825e+03, 2.920e+03, 1.820e+02, 7.000e+00,\n",
       "       6.205e+03, 4.380e+03, 2.555e+03, 2.190e+03, 3.040e+02, 5.110e+03,\n",
       "       4.200e+01, 7.300e+03, 2.430e+02, 5.840e+03, 3.340e+02, 7.665e+03,\n",
       "       1.520e+02, 1.220e+02, 3.285e+03, 1.000e+01, 1.094e+03, 1.400e+01,\n",
       "       4.015e+03, 2.100e+01, 2.130e+02, 9.125e+03, 4.745e+03, 1.460e+04,\n",
       "       8.760e+03, 9.490e+03, 6.000e+00, 6.935e+03, 4.000e+00, 6.570e+03,\n",
       "       1.095e+04])"
      ]
     },
     "metadata": {},
     "output_type": "display_data"
    },
    {
     "name": "stdout",
     "output_type": "stream",
     "text": [
      "Rx_PIOGLITAZONE\n"
     ]
    },
    {
     "data": {
      "text/plain": [
       "array([0, 1], dtype=int64)"
      ]
     },
     "metadata": {},
     "output_type": "display_data"
    },
    {
     "name": "stdout",
     "output_type": "stream",
     "text": [
      "Rx_days_PIOGLITAZONE\n"
     ]
    },
    {
     "data": {
      "text/plain": [
       "array([0.0000e+00, 2.1900e+03, 2.1300e+02, 7.3000e+02, 1.8250e+03,\n",
       "       3.0000e+01, 2.5550e+03, 1.8200e+02, 3.6500e+02, 1.2200e+02,\n",
       "       3.6500e+03, 1.4600e+03, 9.1000e+01, 8.5100e+02, 2.9200e+03,\n",
       "       6.1000e+01, 1.0950e+03, 2.8000e+01, 5.4750e+03, 2.1000e+01,\n",
       "       5.4700e+02, 1.4000e+01, 7.0000e+00, 2.4300e+02, 5.1100e+03,\n",
       "       6.5700e+03, 1.5200e+02, 4.0150e+03, 3.2850e+03, 7.3000e+03,\n",
       "       1.0220e+04, 2.7400e+02, 4.3800e+03, 6.0000e+00, 1.0950e+04,\n",
       "       7.6650e+03, 8.0300e+03, 3.3400e+02, 1.0000e+00, 2.0075e+04])"
      ]
     },
     "metadata": {},
     "output_type": "display_data"
    },
    {
     "name": "stdout",
     "output_type": "stream",
     "text": [
      "Rx_ENALAPRIL\n"
     ]
    },
    {
     "data": {
      "text/plain": [
       "array([0, 1], dtype=int64)"
      ]
     },
     "metadata": {},
     "output_type": "display_data"
    },
    {
     "name": "stdout",
     "output_type": "stream",
     "text": [
      "Rx_days_ENALAPRIL\n"
     ]
    },
    {
     "data": {
      "text/plain": [
       "array([0.0000e+00, 6.1000e+01, 6.2050e+03, 3.2850e+03, 1.0950e+03,\n",
       "       3.6500e+02, 7.3000e+02, 3.3400e+02, 1.8250e+03, 1.5200e+02,\n",
       "       7.3000e+03, 3.6500e+03, 2.1900e+03, 1.4600e+03, 1.8200e+02,\n",
       "       3.0400e+02, 2.9200e+03, 2.5550e+03, 3.0000e+01, 3.0000e+00,\n",
       "       4.0150e+03, 2.1300e+02, 5.4750e+03, 5.1100e+03, 4.3800e+03,\n",
       "       6.5700e+03, 1.4000e+01, 1.2200e+02, 1.0950e+04, 4.5625e+03,\n",
       "       2.5000e+01, 4.7450e+03, 1.1315e+04, 9.1000e+01, 1.4600e+04,\n",
       "       6.9350e+03, 8.0300e+03, 1.0000e+00])"
      ]
     },
     "metadata": {},
     "output_type": "display_data"
    },
    {
     "name": "stdout",
     "output_type": "stream",
     "text": [
      "Rx_FENOFIBRATE\n"
     ]
    },
    {
     "data": {
      "text/plain": [
       "array([0, 1], dtype=int64)"
      ]
     },
     "metadata": {},
     "output_type": "display_data"
    },
    {
     "name": "stdout",
     "output_type": "stream",
     "text": [
      "Rx_days_FENOFIBRATE\n"
     ]
    },
    {
     "data": {
      "text/plain": [
       "array([0.000e+00, 3.650e+02, 7.000e+00, 1.460e+03, 5.480e+02, 2.920e+03,\n",
       "       3.000e+01, 7.300e+02, 1.820e+02, 1.825e+03, 2.430e+02, 2.190e+03,\n",
       "       1.095e+03, 1.000e+00, 9.100e+01, 5.475e+03, 2.555e+03, 9.120e+02,\n",
       "       3.650e+03, 6.100e+01, 1.520e+02, 1.220e+02, 7.300e+03, 1.400e+01,\n",
       "       5.470e+02, 5.110e+03, 2.100e+01, 4.380e+03, 2.740e+02, 2.130e+02,\n",
       "       4.745e+03, 1.095e+04, 5.840e+03])"
      ]
     },
     "metadata": {},
     "output_type": "display_data"
    },
    {
     "name": "stdout",
     "output_type": "stream",
     "text": [
      "Rx_FLUTICASONE\n"
     ]
    },
    {
     "data": {
      "text/plain": [
       "array([0, 1], dtype=int64)"
      ]
     },
     "metadata": {},
     "output_type": "display_data"
    },
    {
     "name": "stdout",
     "output_type": "stream",
     "text": [
      "Rx_days_FLUTICASONE\n"
     ]
    },
    {
     "data": {
      "text/plain": [
       "array([0.000e+00, 3.650e+03, 4.380e+03, 3.285e+03, 1.825e+03, 3.650e+02,\n",
       "       7.000e+00, 1.820e+02, 2.190e+03, 6.100e+01, 1.460e+03, 7.300e+02,\n",
       "       5.475e+03, 4.745e+03, 2.555e+03, 1.095e+03, 3.000e+01, 2.100e+01,\n",
       "       7.300e+03, 5.840e+03, 8.395e+03, 2.920e+03, 9.100e+01, 2.000e+00,\n",
       "       5.470e+02, 2.430e+02, 1.000e+00, 1.095e+04, 1.220e+02, 5.110e+03,\n",
       "       1.520e+02, 6.570e+03, 1.500e+01, 2.740e+02, 1.022e+04, 9.125e+03])"
      ]
     },
     "metadata": {},
     "output_type": "display_data"
    },
    {
     "name": "stdout",
     "output_type": "stream",
     "text": [
      "Rx_GLYBURIDE\n"
     ]
    },
    {
     "data": {
      "text/plain": [
       "array([0, 1], dtype=int64)"
      ]
     },
     "metadata": {},
     "output_type": "display_data"
    },
    {
     "name": "stdout",
     "output_type": "stream",
     "text": [
      "Rx_days_GLYBURIDE\n"
     ]
    },
    {
     "data": {
      "text/plain": [
       "array([0.000e+00, 1.460e+03, 3.650e+03, 7.000e+00, 2.555e+03, 4.745e+03,\n",
       "       6.100e+01, 2.190e+03, 1.825e+03, 3.650e+02, 5.475e+03, 1.095e+03,\n",
       "       7.300e+02, 1.820e+02, 1.460e+04, 4.200e+01, 7.300e+03, 5.110e+03,\n",
       "       4.380e+03, 2.430e+02, 1.500e+01, 2.200e+01, 9.100e+01, 1.520e+02,\n",
       "       2.100e+01, 2.920e+03, 3.000e+01, 8.030e+03, 1.220e+02, 5.000e+00,\n",
       "       2.000e+01, 1.095e+04, 9.125e+03, 4.000e+00, 9.855e+03, 3.285e+03,\n",
       "       5.470e+02, 2.000e+00, 6.205e+03, 4.860e+02, 2.130e+02, 6.935e+03])"
      ]
     },
     "metadata": {},
     "output_type": "display_data"
    },
    {
     "name": "stdout",
     "output_type": "stream",
     "text": [
      "Rx_HYDROCHLOROTHIAZIDE; LOSARTAN\n"
     ]
    },
    {
     "data": {
      "text/plain": [
       "array([0, 1], dtype=int64)"
      ]
     },
     "metadata": {},
     "output_type": "display_data"
    },
    {
     "name": "stdout",
     "output_type": "stream",
     "text": [
      "Rx_days_HYDROCHLOROTHIAZIDE; LOSARTAN\n"
     ]
    },
    {
     "data": {
      "text/plain": [
       "array([0.000e+00, 5.470e+02, 3.650e+03, 3.650e+02, 7.300e+02, 5.475e+03,\n",
       "       7.300e+03, 1.520e+02, 1.825e+03, 1.820e+02, 2.190e+03, 1.460e+03,\n",
       "       2.920e+03, 1.220e+02, 1.095e+03, 1.010e+02, 8.030e+03, 3.285e+03,\n",
       "       1.022e+04, 7.000e+00, 2.555e+03, 9.100e+01, 2.430e+02, 1.095e+04,\n",
       "       4.015e+03, 9.120e+02, 5.110e+03, 6.100e+01, 6.570e+03, 9.490e+03,\n",
       "       3.000e+01, 5.480e+02, 6.935e+03, 2.740e+02, 6.205e+03, 4.200e+01,\n",
       "       4.380e+03, 2.130e+02])"
      ]
     },
     "metadata": {},
     "output_type": "display_data"
    },
    {
     "name": "stdout",
     "output_type": "stream",
     "text": [
      "Rx_LORAZEPAM\n"
     ]
    },
    {
     "data": {
      "text/plain": [
       "array([0, 1], dtype=int64)"
      ]
     },
     "metadata": {},
     "output_type": "display_data"
    },
    {
     "name": "stdout",
     "output_type": "stream",
     "text": [
      "Rx_days_LORAZEPAM\n"
     ]
    },
    {
     "data": {
      "text/plain": [
       "array([0.0000e+00, 1.8200e+02, 2.1300e+02, 3.6500e+03, 1.8250e+03,\n",
       "       2.1900e+03, 1.4600e+03, 3.6500e+02, 9.1000e+01, 6.1000e+01,\n",
       "       7.3000e+02, 1.0950e+03, 1.2200e+02, 6.5700e+03, 2.9200e+03,\n",
       "       1.5200e+02, 7.3000e+03, 1.0950e+04, 7.0000e+00, 4.3800e+03,\n",
       "       4.7450e+03, 5.1100e+03, 3.0000e+01, 8.0300e+03, 2.7400e+02,\n",
       "       5.4750e+03, 2.4300e+02, 2.5550e+03, 1.0000e+00, 2.0000e+00,\n",
       "       1.0220e+04, 1.2045e+04, 4.5600e+02, 5.4700e+02, 3.2850e+03,\n",
       "       5.8400e+03, 9.1250e+03, 7.5000e+01, 1.3380e+03])"
      ]
     },
     "metadata": {},
     "output_type": "display_data"
    },
    {
     "name": "stdout",
     "output_type": "stream",
     "text": [
      "Rx_SPIRONOLACTONE\n"
     ]
    },
    {
     "data": {
      "text/plain": [
       "array([0, 1], dtype=int64)"
      ]
     },
     "metadata": {},
     "output_type": "display_data"
    },
    {
     "name": "stdout",
     "output_type": "stream",
     "text": [
      "Rx_days_SPIRONOLACTONE\n"
     ]
    },
    {
     "data": {
      "text/plain": [
       "array([0.000e+00, 4.745e+03, 7.300e+02, 3.650e+03, 1.825e+03, 1.820e+02,\n",
       "       3.650e+02, 1.095e+03, 2.190e+03, 9.100e+01, 1.220e+02, 6.100e+01,\n",
       "       4.260e+02, 2.430e+02, 2.920e+03, 5.470e+02, 1.460e+03, 3.000e+01,\n",
       "       2.130e+02, 3.100e+01, 1.400e+01, 4.560e+02, 2.100e+01, 4.380e+03,\n",
       "       2.555e+03, 1.095e+04, 5.840e+03, 1.000e+00, 5.475e+03, 9.120e+02,\n",
       "       2.000e+00, 4.000e+00, 4.200e+01, 3.285e+03, 3.040e+02, 2.740e+02,\n",
       "       8.395e+03, 1.520e+02, 9.130e+02, 5.110e+03, 4.000e+01, 4.015e+03,\n",
       "       9.000e+01, 5.000e+00, 7.300e+03, 2.700e+01, 9.855e+03])"
      ]
     },
     "metadata": {},
     "output_type": "display_data"
    },
    {
     "name": "stdout",
     "output_type": "stream",
     "text": [
      "Rx_NIFEDIPINE\n"
     ]
    },
    {
     "data": {
      "text/plain": [
       "array([0, 1], dtype=int64)"
      ]
     },
     "metadata": {},
     "output_type": "display_data"
    },
    {
     "name": "stdout",
     "output_type": "stream",
     "text": [
      "Rx_days_NIFEDIPINE\n"
     ]
    },
    {
     "data": {
      "text/plain": [
       "array([0.000e+00, 1.820e+02, 2.190e+03, 3.650e+03, 9.490e+03, 2.130e+02,\n",
       "       1.825e+03, 1.095e+03, 7.300e+02, 6.100e+01, 7.300e+03, 1.460e+03,\n",
       "       3.650e+02, 2.555e+03, 3.000e+01, 5.470e+02, 2.430e+02, 7.665e+03,\n",
       "       1.095e+04, 4.380e+03, 2.920e+03, 9.125e+03, 9.855e+03, 1.220e+02,\n",
       "       5.475e+03, 2.100e+01, 1.520e+02, 6.205e+03, 2.500e+01, 1.460e+04,\n",
       "       1.000e+00, 1.000e+01, 5.840e+03, 4.015e+03, 3.950e+02, 8.395e+03,\n",
       "       6.935e+03, 5.110e+03, 9.100e+01, 3.285e+03, 4.745e+03, 3.040e+02,\n",
       "       5.000e+00, 4.260e+02, 1.400e+01, 9.120e+02, 6.570e+03, 1.022e+04])"
      ]
     },
     "metadata": {},
     "output_type": "display_data"
    },
    {
     "name": "stdout",
     "output_type": "stream",
     "text": [
      "Rx_AMPHETAMINE; DEXTROAMPHETAMINE\n"
     ]
    },
    {
     "data": {
      "text/plain": [
       "array([0, 1], dtype=int64)"
      ]
     },
     "metadata": {},
     "output_type": "display_data"
    },
    {
     "name": "stdout",
     "output_type": "stream",
     "text": [
      "Rx_days_AMPHETAMINE; DEXTROAMPHETAMINE\n"
     ]
    },
    {
     "data": {
      "text/plain": [
       "array([   0., 2190.,  182.,  365.,  730., 1095.,   61., 1460., 1825.,\n",
       "       2555.,  547.,  213., 5110.,  274., 3650., 5475., 4015.,  152.,\n",
       "         91., 2920., 7665.,   30., 4380., 3285.,   21., 7300.,  243.])"
      ]
     },
     "metadata": {},
     "output_type": "display_data"
    },
    {
     "name": "stdout",
     "output_type": "stream",
     "text": [
      "Rx_HYDROCODONE\n"
     ]
    },
    {
     "data": {
      "text/plain": [
       "array([0, 1], dtype=int64)"
      ]
     },
     "metadata": {},
     "output_type": "display_data"
    },
    {
     "name": "stdout",
     "output_type": "stream",
     "text": [
      "Rx_days_HYDROCODONE\n"
     ]
    },
    {
     "data": {
      "text/plain": [
       "array([0.0000e+00, 3.6500e+03, 3.0000e+00, 7.3000e+02, 4.3800e+03,\n",
       "       1.0950e+03, 5.0000e+00, 3.6500e+02, 7.0000e+00, 1.5000e+01,\n",
       "       9.1000e+01, 1.4000e+01, 1.8250e+03, 1.4600e+03, 2.4300e+02,\n",
       "       4.9000e+01, 3.0000e+01, 4.3000e+01, 9.1300e+02, 5.4750e+03,\n",
       "       2.9200e+03, 2.1300e+02, 1.0000e+00, 1.8200e+02, 2.1900e+03,\n",
       "       6.1000e+01, 1.5200e+02, 1.2200e+02, 1.0585e+04, 6.5700e+03,\n",
       "       5.4700e+02, 2.7400e+02, 2.1000e+01, 7.3000e+03, 1.0000e+01,\n",
       "       3.2850e+03, 3.5000e+01, 1.0950e+04, 2.0000e+01, 5.1100e+03,\n",
       "       6.0000e+00, 5.8400e+03, 6.9350e+03, 9.0000e+00, 4.7450e+03,\n",
       "       2.5550e+03, 9.8550e+03, 6.2050e+03, 9.4900e+03, 2.0000e+00])"
      ]
     },
     "metadata": {},
     "output_type": "display_data"
    },
    {
     "name": "stdout",
     "output_type": "stream",
     "text": [
      "Rx_FINASTERIDE\n"
     ]
    },
    {
     "data": {
      "text/plain": [
       "array([0, 1], dtype=int64)"
      ]
     },
     "metadata": {},
     "output_type": "display_data"
    },
    {
     "name": "stdout",
     "output_type": "stream",
     "text": [
      "Rx_days_FINASTERIDE\n"
     ]
    },
    {
     "data": {
      "text/plain": [
       "array([0.000e+00, 2.130e+02, 3.040e+02, 2.430e+02, 3.650e+02, 1.095e+03,\n",
       "       2.555e+03, 7.300e+02, 2.190e+03, 1.825e+03, 1.820e+02, 9.100e+01,\n",
       "       3.650e+03, 2.920e+03, 5.470e+02, 1.460e+03, 3.000e+01, 6.100e+01,\n",
       "       4.380e+03, 1.220e+02, 5.840e+03, 4.200e+01, 5.475e+03, 8.000e+00,\n",
       "       3.285e+03, 1.400e+01, 4.745e+03, 9.125e+03, 4.560e+02, 4.000e+00,\n",
       "       6.205e+03, 9.120e+02, 2.000e+00, 8.760e+03, 7.300e+03, 4.015e+03,\n",
       "       6.000e+01])"
      ]
     },
     "metadata": {},
     "output_type": "display_data"
    },
    {
     "name": "stdout",
     "output_type": "stream",
     "text": [
      "Rx_FEXOFENADINE\n"
     ]
    },
    {
     "data": {
      "text/plain": [
       "array([0, 1], dtype=int64)"
      ]
     },
     "metadata": {},
     "output_type": "display_data"
    },
    {
     "name": "stdout",
     "output_type": "stream",
     "text": [
      "Rx_days_FEXOFENADINE\n"
     ]
    },
    {
     "data": {
      "text/plain": [
       "array([0.000e+00, 7.300e+02, 3.000e+01, 1.825e+03, 1.520e+02, 3.650e+02,\n",
       "       1.095e+03, 2.190e+03, 2.000e+00, 1.400e+01, 1.460e+03, 7.300e+03,\n",
       "       6.100e+01, 7.000e+00, 9.100e+01, 3.000e+00, 2.740e+02, 1.220e+02,\n",
       "       1.820e+02, 3.650e+03, 2.920e+03, 4.500e+01, 5.475e+03, 3.285e+03,\n",
       "       1.100e+01, 2.555e+03, 4.000e+00, 5.470e+02, 4.015e+03, 5.840e+03,\n",
       "       8.030e+03, 2.100e+01, 5.000e+00, 9.125e+03, 5.110e+03, 4.380e+03,\n",
       "       2.500e+01, 2.600e+01, 2.200e+01])"
      ]
     },
     "metadata": {},
     "output_type": "display_data"
    },
    {
     "name": "stdout",
     "output_type": "stream",
     "text": [
      "Rx_EZETIMIBE\n"
     ]
    },
    {
     "data": {
      "text/plain": [
       "array([0, 1], dtype=int64)"
      ]
     },
     "metadata": {},
     "output_type": "display_data"
    },
    {
     "name": "stdout",
     "output_type": "stream",
     "text": [
      "Rx_days_EZETIMIBE\n"
     ]
    },
    {
     "data": {
      "text/plain": [
       "array([    0.,   730.,  3650.,   182.,  1095.,    61.,   548.,   152.,\n",
       "         365.,   334.,  1825.,  2555.,    91.,  1460.,    30.,    77.,\n",
       "         122.,   274.,  2190.,   213.,  5475.,  6935.,    15.,  1094.,\n",
       "        7300.,    14.,  2920.,  3285.,   547.,   243.,  4380., 10950.,\n",
       "         456.,  6205.,  4015.,  4745.,   304.,   395.])"
      ]
     },
     "metadata": {},
     "output_type": "display_data"
    },
    {
     "name": "stdout",
     "output_type": "stream",
     "text": [
      "Rx_ETHINYL ESTRADIOL; NORGESTIMATE\n"
     ]
    },
    {
     "data": {
      "text/plain": [
       "array([0, 1], dtype=int64)"
      ]
     },
     "metadata": {},
     "output_type": "display_data"
    },
    {
     "name": "stdout",
     "output_type": "stream",
     "text": [
      "Rx_days_ETHINYL ESTRADIOL; NORGESTIMATE\n"
     ]
    },
    {
     "data": {
      "text/plain": [
       "array([0.000e+00, 3.650e+02, 2.190e+03, 2.920e+03, 7.300e+02, 4.380e+03,\n",
       "       1.460e+03, 6.100e+01, 1.820e+02, 3.000e+01, 1.220e+02, 3.650e+03,\n",
       "       1.825e+03, 6.935e+03, 1.520e+02, 1.095e+03, 1.000e+01, 1.278e+03,\n",
       "       9.100e+01, 3.285e+03, 2.430e+02, 2.555e+03, 2.500e+01, 2.740e+02,\n",
       "       5.470e+02, 5.475e+03, 9.120e+02, 2.100e+01, 2.130e+02, 9.490e+03,\n",
       "       1.168e+04, 1.060e+02, 4.260e+02, 6.570e+03, 3.040e+02, 6.205e+03])"
      ]
     },
     "metadata": {},
     "output_type": "display_data"
    },
    {
     "name": "stdout",
     "output_type": "stream",
     "text": [
      "Rx_DIGOXIN\n"
     ]
    },
    {
     "data": {
      "text/plain": [
       "array([0, 1], dtype=int64)"
      ]
     },
     "metadata": {},
     "output_type": "display_data"
    },
    {
     "name": "stdout",
     "output_type": "stream",
     "text": [
      "Rx_days_DIGOXIN\n"
     ]
    },
    {
     "data": {
      "text/plain": [
       "array([    0.,  5475.,  3650.,  4745.,   730.,  1460.,  1825.,  2190.,\n",
       "         365.,  2555.,  2920.,  1095.,  9490., 10950.,  5110.,  6570.,\n",
       "        4380.,   182.,  3285.,  4015.,   547.,    61.,    91.,  7300.,\n",
       "         274.,  9125.,   213., 10585.,  8395.,    30.,   243.,   334.,\n",
       "        2008.,  5840.,   152.,   456.,  6935.])"
      ]
     },
     "metadata": {},
     "output_type": "display_data"
    },
    {
     "name": "stdout",
     "output_type": "stream",
     "text": [
      "Rx_INSULIN ASPART\n"
     ]
    },
    {
     "data": {
      "text/plain": [
       "array([0, 1], dtype=int64)"
      ]
     },
     "metadata": {},
     "output_type": "display_data"
    },
    {
     "name": "stdout",
     "output_type": "stream",
     "text": [
      "Rx_days_INSULIN ASPART\n"
     ]
    },
    {
     "data": {
      "text/plain": [
       "array([0.0000e+00, 3.6500e+02, 5.4700e+02, 6.1000e+01, 3.6500e+03,\n",
       "       1.8200e+02, 1.0950e+03, 7.3000e+02, 4.0150e+03, 1.4600e+03,\n",
       "       2.1900e+03, 1.2000e+01, 1.2200e+02, 1.0000e+00, 5.0000e+00,\n",
       "       9.1000e+01, 7.3000e+03, 9.1200e+02, 1.8250e+03, 2.5550e+03,\n",
       "       3.0000e+01, 2.7400e+02, 2.9200e+03, 6.5700e+03, 9.1250e+03,\n",
       "       4.7450e+03, 3.2850e+03, 5.4750e+03, 3.3400e+02, 1.4000e+01,\n",
       "       4.2000e+01, 1.3870e+04, 2.4300e+02, 5.1100e+03, 1.4965e+04,\n",
       "       7.6650e+03, 1.0585e+04, 1.6425e+04, 4.3800e+03, 6.2050e+03,\n",
       "       6.9350e+03, 1.0950e+04, 7.0000e+00, 2.1300e+02])"
      ]
     },
     "metadata": {},
     "output_type": "display_data"
    },
    {
     "name": "stdout",
     "output_type": "stream",
     "text": [
      "Rx_ETHINYL ESTRADIOL; NORETHINDRONE\n"
     ]
    },
    {
     "data": {
      "text/plain": [
       "array([0, 1], dtype=int64)"
      ]
     },
     "metadata": {},
     "output_type": "display_data"
    },
    {
     "name": "stdout",
     "output_type": "stream",
     "text": [
      "Rx_days_ETHINYL ESTRADIOL; NORETHINDRONE\n"
     ]
    },
    {
     "data": {
      "text/plain": [
       "array([0.0000e+00, 5.4700e+02, 3.6500e+03, 9.1000e+01, 2.7400e+02,\n",
       "       5.4750e+03, 1.8200e+02, 3.6500e+02, 2.1300e+02, 7.3000e+02,\n",
       "       4.7450e+03, 1.2200e+02, 3.0000e+01, 2.1900e+03, 9.8550e+03,\n",
       "       1.4600e+03, 1.0950e+03, 7.3000e+03, 2.5550e+03, 9.1250e+03,\n",
       "       2.0000e+00, 6.1000e+01, 5.1100e+03, 1.0950e+04, 3.0400e+02,\n",
       "       5.8400e+03, 4.8600e+02, 7.0000e+00, 6.9350e+03, 3.2850e+03,\n",
       "       2.4300e+02, 4.2000e+01, 1.8250e+03, 6.5700e+03, 2.9200e+03,\n",
       "       1.0585e+04, 4.3800e+03, 1.0000e+00, 2.1000e+01, 4.5000e+01,\n",
       "       9.4900e+03, 1.8000e+01])"
      ]
     },
     "metadata": {},
     "output_type": "display_data"
    },
    {
     "name": "stdout",
     "output_type": "stream",
     "text": [
      "Rx_AMLODIPINE; BENAZEPRIL\n"
     ]
    },
    {
     "data": {
      "text/plain": [
       "array([0, 1], dtype=int64)"
      ]
     },
     "metadata": {},
     "output_type": "display_data"
    },
    {
     "name": "stdout",
     "output_type": "stream",
     "text": [
      "Rx_days_AMLODIPINE; BENAZEPRIL\n"
     ]
    },
    {
     "data": {
      "text/plain": [
       "array([0.0000e+00, 1.8250e+03, 1.2200e+02, 1.8200e+02, 1.4000e+01,\n",
       "       1.0950e+03, 7.3000e+02, 3.6500e+02, 1.5200e+02, 9.1300e+02,\n",
       "       9.1200e+02, 6.1000e+01, 1.4600e+04, 3.6500e+03, 7.0000e+00,\n",
       "       2.1900e+03, 9.1000e+01, 2.5550e+03, 1.4600e+03, 3.0000e+01,\n",
       "       1.2775e+04, 5.1100e+03, 7.3000e+03, 4.3800e+03, 8.7600e+03,\n",
       "       5.4750e+03, 9.1250e+03, 5.8400e+03, 6.2050e+03, 5.4700e+02,\n",
       "       2.9200e+03, 3.2850e+03, 3.0400e+02, 2.4300e+02, 1.2410e+04,\n",
       "       3.3400e+02, 4.0150e+03])"
      ]
     },
     "metadata": {},
     "output_type": "display_data"
    },
    {
     "name": "stdout",
     "output_type": "stream",
     "text": [
      "Rx_AZITHROMYCIN\n"
     ]
    },
    {
     "data": {
      "text/plain": [
       "array([0, 1], dtype=int64)"
      ]
     },
     "metadata": {},
     "output_type": "display_data"
    },
    {
     "name": "stdout",
     "output_type": "stream",
     "text": [
      "Rx_days_AZITHROMYCIN\n"
     ]
    },
    {
     "data": {
      "text/plain": [
       "array([0.000e+00, 1.000e+00, 5.000e+00, 1.825e+03, 4.200e+01, 9.730e+02,\n",
       "       1.220e+02, 4.000e+00, 2.000e+00, 7.000e+00, 1.400e+01, 1.820e+02,\n",
       "       3.200e+01, 6.100e+01, 3.000e+00, 9.000e+00, 6.000e+00, 8.000e+00,\n",
       "       1.000e+01, 3.000e+01, 3.650e+02, 1.095e+03, 2.920e+03, 7.300e+02,\n",
       "       7.300e+03, 3.650e+03])"
      ]
     },
     "metadata": {},
     "output_type": "display_data"
    },
    {
     "name": "stdout",
     "output_type": "stream",
     "text": [
      "Rx_CELECOXIB\n"
     ]
    },
    {
     "data": {
      "text/plain": [
       "array([0, 1], dtype=int64)"
      ]
     },
     "metadata": {},
     "output_type": "display_data"
    },
    {
     "name": "stdout",
     "output_type": "stream",
     "text": [
      "Rx_days_CELECOXIB\n"
     ]
    },
    {
     "data": {
      "text/plain": [
       "array([0.000e+00, 1.220e+02, 1.095e+03, 2.190e+03, 3.650e+03, 7.300e+02,\n",
       "       1.000e+00, 2.430e+02, 1.460e+03, 7.000e+00, 1.820e+02, 5.475e+03,\n",
       "       3.650e+02, 4.380e+03, 1.825e+03, 6.100e+01, 5.110e+03, 2.920e+03,\n",
       "       3.000e+01, 2.555e+03, 7.300e+03, 2.100e+01, 1.400e+01, 8.000e+00,\n",
       "       5.000e+00, 5.470e+02, 6.935e+03, 4.745e+03, 7.000e+01, 9.100e+01,\n",
       "       6.570e+03, 3.285e+03, 9.855e+03, 1.520e+02, 1.095e+04, 1.000e+01,\n",
       "       2.130e+02])"
      ]
     },
     "metadata": {},
     "output_type": "display_data"
    },
    {
     "name": "stdout",
     "output_type": "stream",
     "text": [
      "Rx_RAMIPRIL\n"
     ]
    },
    {
     "data": {
      "text/plain": [
       "array([1, 0], dtype=int64)"
      ]
     },
     "metadata": {},
     "output_type": "display_data"
    },
    {
     "name": "stdout",
     "output_type": "stream",
     "text": [
      "Rx_days_RAMIPRIL\n"
     ]
    },
    {
     "data": {
      "text/plain": [
       "array([7.300e+02, 0.000e+00, 3.650e+02, 3.650e+03, 1.095e+03, 2.920e+03,\n",
       "       6.100e+01, 1.460e+03, 1.460e+04, 1.825e+03, 2.190e+03, 1.520e+02,\n",
       "       1.220e+02, 2.130e+02, 3.040e+02, 4.380e+03, 2.430e+02, 7.300e+03,\n",
       "       2.555e+03, 9.100e+01, 1.820e+02, 4.015e+03, 1.216e+03, 1.022e+04,\n",
       "       5.470e+02, 3.000e+01, 8.760e+03, 9.120e+02, 5.475e+03, 1.095e+04,\n",
       "       5.780e+02, 2.740e+02, 3.285e+03, 1.241e+04, 1.400e+01, 9.125e+03,\n",
       "       5.110e+03, 4.260e+02, 5.840e+03, 9.855e+03, 4.745e+03])"
      ]
     },
     "metadata": {},
     "output_type": "display_data"
    },
    {
     "name": "stdout",
     "output_type": "stream",
     "text": [
      "Rx_BENAZEPRIL\n"
     ]
    },
    {
     "data": {
      "text/plain": [
       "array([0, 1], dtype=int64)"
      ]
     },
     "metadata": {},
     "output_type": "display_data"
    },
    {
     "name": "stdout",
     "output_type": "stream",
     "text": [
      "Rx_days_BENAZEPRIL\n"
     ]
    },
    {
     "data": {
      "text/plain": [
       "array([    0.,  3650.,  4380.,   213.,  1095.,    21.,   730.,  5475.,\n",
       "          61.,  1460.,   152.,    30.,  1825.,  2920.,  2190., 12775.,\n",
       "        6570.,   182., 10950.,   365.,    14.,   548.,   304.,    91.,\n",
       "        7300.,   547.,   243.,   608.,  9125.,  5110.,  4015.,  2555.,\n",
       "        8030.,   274.])"
      ]
     },
     "metadata": {},
     "output_type": "display_data"
    },
    {
     "name": "stdout",
     "output_type": "stream",
     "text": [
      "Rx_OXYCODONE\n"
     ]
    },
    {
     "data": {
      "text/plain": [
       "array([0, 1], dtype=int64)"
      ]
     },
     "metadata": {},
     "output_type": "display_data"
    },
    {
     "name": "stdout",
     "output_type": "stream",
     "text": [
      "Rx_days_OXYCODONE\n"
     ]
    },
    {
     "data": {
      "text/plain": [
       "array([0.0000e+00, 1.4000e+01, 1.0950e+03, 6.1000e+01, 7.3000e+02,\n",
       "       8.0000e+00, 2.1300e+02, 2.1900e+03, 6.3850e+02, 7.0000e+00,\n",
       "       1.8250e+03, 2.9200e+03, 3.6500e+02, 2.1000e+01, 1.4600e+03,\n",
       "       5.4700e+02, 4.3800e+03, 1.2775e+03, 9.1000e+01, 5.4750e+03,\n",
       "       1.4750e+03, 1.1000e+01, 6.6900e+02, 3.0000e+00, 1.0000e+00,\n",
       "       1.7000e+01, 1.8200e+02, 3.6500e+03, 2.4300e+02, 8.3950e+03,\n",
       "       6.9900e+02, 3.0000e+01, 6.0000e+00, 1.5200e+02, 4.2000e+01,\n",
       "       2.5550e+03, 4.7450e+03, 5.1100e+03, 6.2050e+03, 3.5000e+01,\n",
       "       1.2200e+02, 5.4750e+02, 2.4000e+01, 1.2780e+03, 4.0150e+03,\n",
       "       5.0000e+00, 3.2850e+03, 3.2000e+01])"
      ]
     },
     "metadata": {},
     "output_type": "display_data"
    },
    {
     "name": "stdout",
     "output_type": "stream",
     "text": [
      "Rx_TERAZOSIN\n"
     ]
    },
    {
     "data": {
      "text/plain": [
       "array([0, 1], dtype=int64)"
      ]
     },
     "metadata": {},
     "output_type": "display_data"
    },
    {
     "name": "stdout",
     "output_type": "stream",
     "text": [
      "Rx_days_TERAZOSIN\n"
     ]
    },
    {
     "data": {
      "text/plain": [
       "array([0.000e+00, 3.650e+02, 4.200e+01, 2.555e+03, 1.825e+03, 6.100e+01,\n",
       "       2.740e+02, 3.650e+03, 1.220e+02, 2.920e+03, 3.000e+01, 1.095e+03,\n",
       "       1.460e+03, 5.470e+02, 7.300e+02, 5.475e+03, 2.130e+02, 9.125e+03,\n",
       "       2.190e+03, 3.040e+02, 6.570e+03, 1.000e+00, 1.820e+02, 7.300e+03,\n",
       "       5.840e+03, 7.000e+00, 4.015e+03, 8.395e+03, 5.110e+03, 9.100e+01,\n",
       "       1.095e+04, 3.285e+03, 6.935e+03, 1.606e+04, 4.380e+03])"
      ]
     },
     "metadata": {},
     "output_type": "display_data"
    },
    {
     "name": "stdout",
     "output_type": "stream",
     "text": [
      "Rx_FAMOTIDINE\n"
     ]
    },
    {
     "data": {
      "text/plain": [
       "array([0, 1], dtype=int64)"
      ]
     },
     "metadata": {},
     "output_type": "display_data"
    },
    {
     "name": "stdout",
     "output_type": "stream",
     "text": [
      "Rx_days_FAMOTIDINE\n"
     ]
    },
    {
     "data": {
      "text/plain": [
       "array([0.0000e+00, 1.0000e+00, 1.0950e+03, 2.5550e+03, 7.3000e+02,\n",
       "       1.8250e+03, 1.8200e+02, 9.1000e+01, 3.6500e+03, 2.1900e+03,\n",
       "       1.2200e+02, 3.6500e+02, 2.0000e+00, 1.4600e+03, 1.4000e+01,\n",
       "       2.9200e+03, 3.0000e+01, 3.2850e+03, 6.1000e+01, 5.4750e+03,\n",
       "       1.0000e+01, 1.6425e+04, 2.4300e+02, 7.3000e+03, 2.1000e+01,\n",
       "       1.5200e+02, 8.3950e+03, 4.3800e+03, 7.0000e+01, 2.7400e+02,\n",
       "       4.0000e+00, 5.4700e+02, 3.3400e+02, 4.5000e+01, 3.0400e+02,\n",
       "       7.0000e+00])"
      ]
     },
     "metadata": {},
     "output_type": "display_data"
    },
    {
     "name": "stdout",
     "output_type": "stream",
     "text": [
      "Rx_ACETAMINOPHEN; OXYCODONE\n"
     ]
    },
    {
     "data": {
      "text/plain": [
       "array([0, 1], dtype=int64)"
      ]
     },
     "metadata": {},
     "output_type": "display_data"
    },
    {
     "name": "stdout",
     "output_type": "stream",
     "text": [
      "Rx_days_ACETAMINOPHEN; OXYCODONE\n"
     ]
    },
    {
     "data": {
      "text/plain": [
       "array([0.0000e+00, 2.7400e+02, 8.0000e+00, 7.0000e+00, 1.8200e+02,\n",
       "       7.3000e+03, 1.0950e+03, 4.0000e+01, 2.1900e+03, 3.6500e+02,\n",
       "       1.8250e+03, 4.8600e+02, 3.6500e+03, 9.1000e+01, 2.0000e+00,\n",
       "       1.4000e+01, 2.9200e+03, 3.0000e+01, 1.2200e+02, 7.3000e+02,\n",
       "       1.4600e+03, 5.4700e+02, 1.6000e+01, 5.0000e+00, 6.5700e+03,\n",
       "       6.1000e+01, 6.0000e+00, 1.0000e+00, 9.0000e+00, 4.5600e+02,\n",
       "       4.0000e+00, 2.1300e+02, 3.0000e+00, 5.4750e+03, 1.0000e+01,\n",
       "       4.2000e+01, 2.5550e+03, 7.0000e+01, 2.1000e+01, 5.8400e+03,\n",
       "       4.3800e+03, 1.3505e+04, 1.2000e+01, 2.4300e+02, 9.8550e+03,\n",
       "       2.0000e+01, 1.0950e+04, 9.1200e+02, 1.8000e+01, 1.5200e+02])"
      ]
     },
     "metadata": {},
     "output_type": "display_data"
    },
    {
     "name": "stdout",
     "output_type": "stream",
     "text": [
      "Rx_EZETIMIBE; SIMVASTATIN\n"
     ]
    },
    {
     "data": {
      "text/plain": [
       "array([0, 1], dtype=int64)"
      ]
     },
     "metadata": {},
     "output_type": "display_data"
    },
    {
     "name": "stdout",
     "output_type": "stream",
     "text": [
      "Rx_days_EZETIMIBE; SIMVASTATIN\n"
     ]
    },
    {
     "data": {
      "text/plain": [
       "array([0.000e+00, 1.095e+03, 1.820e+02, 2.430e+02, 3.650e+02, 7.300e+02,\n",
       "       9.100e+01, 1.220e+02, 1.520e+02, 6.000e+01, 6.100e+01, 3.340e+02,\n",
       "       3.000e+01, 1.825e+03, 2.740e+02, 4.745e+03, 3.650e+03, 2.190e+03,\n",
       "       5.470e+02, 1.460e+03, 7.300e+03, 2.920e+03, 5.475e+03, 3.950e+02,\n",
       "       7.000e+00, 3.285e+03, 1.400e+01, 5.110e+03, 2.555e+03, 4.380e+03,\n",
       "       8.030e+03])"
      ]
     },
     "metadata": {},
     "output_type": "display_data"
    },
    {
     "name": "stdout",
     "output_type": "stream",
     "text": [
      "Rx_MOMETASONE NASAL\n"
     ]
    },
    {
     "data": {
      "text/plain": [
       "array([0, 1], dtype=int64)"
      ]
     },
     "metadata": {},
     "output_type": "display_data"
    },
    {
     "name": "stdout",
     "output_type": "stream",
     "text": [
      "Rx_days_MOMETASONE NASAL\n"
     ]
    },
    {
     "data": {
      "text/plain": [
       "array([0.000e+00, 7.300e+02, 1.500e+01, 1.520e+02, 1.095e+03, 1.825e+03,\n",
       "       1.400e+01, 2.100e+01, 3.650e+02, 1.460e+03, 4.380e+03, 4.500e+01,\n",
       "       9.100e+01, 4.000e+00, 2.190e+03, 7.000e+00, 3.650e+03, 1.820e+02,\n",
       "       8.000e+00, 3.000e+00, 7.300e+03, 2.130e+02, 2.920e+03, 6.100e+01,\n",
       "       2.555e+03, 1.000e+01, 4.015e+03, 5.475e+03])"
      ]
     },
     "metadata": {},
     "output_type": "display_data"
    },
    {
     "name": "stdout",
     "output_type": "stream",
     "text": [
      "Rx_SITAGLIPTIN\n"
     ]
    },
    {
     "data": {
      "text/plain": [
       "array([0, 1], dtype=int64)"
      ]
     },
     "metadata": {},
     "output_type": "display_data"
    },
    {
     "name": "stdout",
     "output_type": "stream",
     "text": [
      "Rx_days_SITAGLIPTIN\n"
     ]
    },
    {
     "data": {
      "text/plain": [
       "array([0.000e+00, 9.100e+01, 3.650e+02, 6.100e+01, 2.190e+03, 2.430e+02,\n",
       "       3.650e+03, 1.820e+02, 2.000e+00, 1.825e+03, 7.300e+02, 1.095e+03,\n",
       "       1.460e+03, 4.200e+01, 4.015e+03, 1.220e+02, 3.000e+01, 9.120e+02,\n",
       "       7.300e+03, 5.475e+03, 2.920e+03, 4.560e+02, 6.570e+03, 1.520e+02,\n",
       "       1.400e+01, 4.000e+00, 2.740e+02, 5.470e+02, 2.555e+03, 1.000e+00,\n",
       "       3.285e+03, 5.480e+02])"
      ]
     },
     "metadata": {},
     "output_type": "display_data"
    },
    {
     "name": "stdout",
     "output_type": "stream",
     "text": [
      "Rx_HYDROXYZINE\n"
     ]
    },
    {
     "data": {
      "text/plain": [
       "array([0, 1], dtype=int64)"
      ]
     },
     "metadata": {},
     "output_type": "display_data"
    },
    {
     "name": "stdout",
     "output_type": "stream",
     "text": [
      "Rx_days_HYDROXYZINE\n"
     ]
    },
    {
     "data": {
      "text/plain": [
       "array([0.000e+00, 3.650e+02, 9.000e+00, 3.000e+01, 1.825e+03, 1.000e+01,\n",
       "       2.000e+00, 7.300e+02, 5.000e+00, 3.650e+03, 9.490e+03, 1.820e+02,\n",
       "       1.095e+03, 2.920e+03, 2.100e+01, 1.520e+02, 6.100e+01, 1.460e+03,\n",
       "       4.380e+03, 2.740e+02, 9.100e+01, 2.555e+03, 7.000e+00, 7.300e+03,\n",
       "       1.400e+01, 2.190e+03, 3.285e+03, 5.475e+03, 5.470e+02, 5.110e+03,\n",
       "       4.015e+03, 3.340e+02, 3.040e+02, 1.460e+04, 5.840e+03])"
      ]
     },
     "metadata": {},
     "output_type": "display_data"
    },
    {
     "name": "stdout",
     "output_type": "stream",
     "text": [
      "Rx_BUDESONIDE\n"
     ]
    },
    {
     "data": {
      "text/plain": [
       "array([0, 1], dtype=int64)"
      ]
     },
     "metadata": {},
     "output_type": "display_data"
    },
    {
     "name": "stdout",
     "output_type": "stream",
     "text": [
      "Rx_days_BUDESONIDE\n"
     ]
    },
    {
     "data": {
      "text/plain": [
       "array([0.000e+00, 3.000e+01, 3.650e+02, 1.825e+03, 1.520e+02, 1.095e+03,\n",
       "       3.650e+03, 1.820e+02, 1.460e+03, 2.190e+03, 7.300e+02, 1.460e+04,\n",
       "       2.000e+00, 5.110e+03, 4.380e+03, 6.100e+01, 2.555e+03, 5.475e+03,\n",
       "       3.285e+03, 8.760e+03, 6.570e+03])"
      ]
     },
     "metadata": {},
     "output_type": "display_data"
    },
    {
     "name": "stdout",
     "output_type": "stream",
     "text": [
      "Rx_VERAPAMIL\n"
     ]
    },
    {
     "data": {
      "text/plain": [
       "array([0, 1], dtype=int64)"
      ]
     },
     "metadata": {},
     "output_type": "display_data"
    },
    {
     "name": "stdout",
     "output_type": "stream",
     "text": [
      "Rx_days_VERAPAMIL\n"
     ]
    },
    {
     "data": {
      "text/plain": [
       "array([    0.,  5475.,   730.,  2190.,   182.,  3650.,    61.,    30.,\n",
       "         547.,  6205.,  7300.,  1825.,  1095.,    91.,  2555.,  5110.,\n",
       "        4380.,  9490.,  3285.,   365.,  2920.,  1460.,  4745.,  8030.,\n",
       "         122.,  8760., 10950.,  4015.,    21.,  5840., 13505.,    14.,\n",
       "        9125., 10220.,   152.])"
      ]
     },
     "metadata": {},
     "output_type": "display_data"
    },
    {
     "name": "stdout",
     "output_type": "stream",
     "text": [
      "Rx_PROPRANOLOL\n"
     ]
    },
    {
     "data": {
      "text/plain": [
       "array([0, 1], dtype=int64)"
      ]
     },
     "metadata": {},
     "output_type": "display_data"
    },
    {
     "name": "stdout",
     "output_type": "stream",
     "text": [
      "Rx_days_PROPRANOLOL\n"
     ]
    },
    {
     "data": {
      "text/plain": [
       "array([0.0000e+00, 2.1900e+03, 3.0000e+01, 1.4600e+03, 7.3000e+02,\n",
       "       9.1250e+03, 3.6500e+03, 7.3000e+03, 1.8250e+03, 5.4700e+02,\n",
       "       3.6500e+02, 5.4750e+03, 1.1315e+04, 3.2850e+03, 9.1000e+01,\n",
       "       1.0950e+04, 2.9200e+03, 4.3800e+03, 1.0950e+03, 1.2200e+02,\n",
       "       1.3505e+04, 1.0000e+00, 2.1000e+01, 6.1000e+01, 1.8200e+02,\n",
       "       2.4300e+02, 8.0300e+03, 2.5550e+03, 2.7400e+02, 4.5600e+02,\n",
       "       1.2045e+04, 5.1100e+03, 4.7450e+03, 1.4000e+01, 4.2600e+02,\n",
       "       4.2000e+01, 5.8400e+03, 2.1300e+02, 4.8600e+02, 6.9350e+03,\n",
       "       1.7885e+04, 1.4965e+04, 3.0400e+02])"
      ]
     },
     "metadata": {},
     "output_type": "display_data"
    },
    {
     "name": "stdout",
     "output_type": "stream",
     "text": [
      "Rx_NITROGLYCERIN\n"
     ]
    },
    {
     "data": {
      "text/plain": [
       "array([0, 1], dtype=int64)"
      ]
     },
     "metadata": {},
     "output_type": "display_data"
    },
    {
     "name": "stdout",
     "output_type": "stream",
     "text": [
      "Rx_days_NITROGLYCERIN\n"
     ]
    },
    {
     "data": {
      "text/plain": [
       "array([0.0000e+00, 2.1900e+03, 1.2045e+04, 4.3800e+03, 3.6500e+03,\n",
       "       1.4600e+03, 3.0400e+02, 7.3000e+02, 1.0035e+03, 3.0000e+01,\n",
       "       2.9200e+03, 7.3000e+03, 1.0950e+03, 7.0000e+00, 2.5550e+03,\n",
       "       9.2750e+02, 1.8250e+03, 3.6500e+02, 6.1000e+01, 1.5200e+02,\n",
       "       1.8200e+02, 2.1000e+01, 3.8325e+03, 6.5700e+03, 4.0150e+03,\n",
       "       5.4750e+03, 7.1175e+03, 3.4675e+03, 2.7400e+02, 9.1250e+03,\n",
       "       1.0220e+04, 1.6425e+03, 1.4000e+01, 2.1300e+02, 1.2200e+02,\n",
       "       9.1000e+01, 1.0950e+04, 5.8400e+03, 3.2850e+03, 8.7600e+03,\n",
       "       4.5000e+01, 9.8550e+03, 6.2050e+03, 7.6650e+03, 1.3505e+04])"
      ]
     },
     "metadata": {},
     "output_type": "display_data"
    },
    {
     "name": "stdout",
     "output_type": "stream",
     "text": [
      "Rx_TIOTROPIUM\n"
     ]
    },
    {
     "data": {
      "text/plain": [
       "array([0, 1], dtype=int64)"
      ]
     },
     "metadata": {},
     "output_type": "display_data"
    },
    {
     "name": "stdout",
     "output_type": "stream",
     "text": [
      "Rx_days_TIOTROPIUM\n"
     ]
    },
    {
     "data": {
      "text/plain": [
       "array([0.000e+00, 3.650e+02, 1.825e+03, 7.300e+02, 4.200e+01, 9.100e+01,\n",
       "       1.460e+03, 1.400e+01, 5.470e+02, 3.285e+03, 1.095e+03, 3.000e+01,\n",
       "       1.000e+00, 2.100e+01, 1.820e+02, 2.190e+03, 2.430e+02, 2.920e+03,\n",
       "       2.740e+02, 1.220e+02, 6.100e+01, 4.260e+02, 3.650e+03, 2.555e+03,\n",
       "       5.110e+03, 4.560e+02, 7.300e+03, 5.475e+03, 4.380e+03, 1.260e+02,\n",
       "       6.570e+03])"
      ]
     },
     "metadata": {},
     "output_type": "display_data"
    },
    {
     "name": "stdout",
     "output_type": "stream",
     "text": [
      "Rx_ISOSORBIDE MONONITRATE\n"
     ]
    },
    {
     "data": {
      "text/plain": [
       "array([0, 1], dtype=int64)"
      ]
     },
     "metadata": {},
     "output_type": "display_data"
    },
    {
     "name": "stdout",
     "output_type": "stream",
     "text": [
      "Rx_days_ISOSORBIDE MONONITRATE\n"
     ]
    },
    {
     "data": {
      "text/plain": [
       "array([0.0000e+00, 1.0950e+03, 7.3000e+02, 9.1250e+03, 2.5550e+03,\n",
       "       5.4750e+03, 1.8250e+03, 1.4600e+03, 3.6500e+02, 2.9200e+03,\n",
       "       3.0000e+01, 1.2200e+02, 2.7400e+02, 1.8200e+02, 8.0000e+01,\n",
       "       2.4300e+02, 5.4700e+02, 1.0585e+04, 6.5700e+03, 3.6500e+03,\n",
       "       2.1000e+01, 7.3000e+03, 3.2850e+03, 7.0000e+00, 4.7450e+03,\n",
       "       4.0150e+03, 2.1900e+03, 6.1000e+01, 5.8400e+03, 9.1000e+01,\n",
       "       5.7800e+02, 2.1300e+02, 1.0950e+04, 1.8250e+04, 6.0800e+02,\n",
       "       1.5200e+02, 6.2050e+03, 4.3800e+03, 1.4600e+04, 6.0000e+00])"
      ]
     },
     "metadata": {},
     "output_type": "display_data"
    },
    {
     "name": "stdout",
     "output_type": "stream",
     "text": [
      "Rx_DONEPEZIL\n"
     ]
    },
    {
     "data": {
      "text/plain": [
       "array([0, 1], dtype=int64)"
      ]
     },
     "metadata": {},
     "output_type": "display_data"
    },
    {
     "name": "stdout",
     "output_type": "stream",
     "text": [
      "Rx_days_DONEPEZIL\n"
     ]
    },
    {
     "data": {
      "text/plain": [
       "array([0.000e+00, 1.820e+02, 1.095e+03, 3.650e+02, 6.100e+01, 7.000e+00,\n",
       "       7.300e+02, 1.400e+01, 1.825e+03, 2.740e+02, 4.260e+02, 3.000e+01,\n",
       "       2.555e+03, 1.460e+03, 4.560e+02, 2.190e+03, 4.380e+03, 9.100e+01,\n",
       "       1.520e+02, 2.920e+03, 5.840e+03, 3.285e+03, 3.650e+03, 5.470e+02,\n",
       "       3.340e+02, 7.300e+03, 1.220e+02])"
      ]
     },
     "metadata": {},
     "output_type": "display_data"
    },
    {
     "name": "stdout",
     "output_type": "stream",
     "text": [
      "Rx_DOXAZOSIN\n"
     ]
    },
    {
     "data": {
      "text/plain": [
       "array([0, 1], dtype=int64)"
      ]
     },
     "metadata": {},
     "output_type": "display_data"
    },
    {
     "name": "stdout",
     "output_type": "stream",
     "text": [
      "Rx_days_DOXAZOSIN\n"
     ]
    },
    {
     "data": {
      "text/plain": [
       "array([    0.,    91.,  1460.,   730.,  1825.,  1095.,   365.,  2190.,\n",
       "        3285.,  2555.,  2920.,  3650.,  6570.,  4380.,    61.,   182.,\n",
       "        7300.,    30.,   152.,  4745.,  5475.,   122.,   547.,  9125.,\n",
       "          29.,  6205., 10950.])"
      ]
     },
     "metadata": {},
     "output_type": "display_data"
    },
    {
     "name": "stdout",
     "output_type": "stream",
     "text": [
      "Rx_OXYBUTYNIN\n"
     ]
    },
    {
     "data": {
      "text/plain": [
       "array([0, 1], dtype=int64)"
      ]
     },
     "metadata": {},
     "output_type": "display_data"
    },
    {
     "name": "stdout",
     "output_type": "stream",
     "text": [
      "Rx_days_OXYBUTYNIN\n"
     ]
    },
    {
     "data": {
      "text/plain": [
       "array([0.0000e+00, 9.1300e+02, 1.0950e+03, 3.6500e+02, 7.3000e+02,\n",
       "       1.8250e+03, 3.0000e+01, 3.6500e+03, 6.1000e+01, 5.4700e+02,\n",
       "       1.8200e+02, 1.1315e+04, 1.4000e+01, 2.7400e+02, 1.4600e+03,\n",
       "       2.4300e+02, 2.9200e+03, 3.2850e+03, 7.6000e+01, 5.1100e+03,\n",
       "       2.1900e+03, 4.3800e+03, 2.5550e+03, 5.4750e+03, 7.3000e+03,\n",
       "       3.0400e+02, 1.5200e+02, 9.1000e+01, 2.1300e+02, 3.0000e+00,\n",
       "       6.2050e+03, 1.0950e+04, 7.0000e+00, 4.2600e+02])"
      ]
     },
     "metadata": {},
     "output_type": "display_data"
    },
    {
     "name": "stdout",
     "output_type": "stream",
     "text": [
      "Rx_HYDROCHLOROTHIAZIDE; VALSARTAN\n"
     ]
    },
    {
     "data": {
      "text/plain": [
       "array([0, 1], dtype=int64)"
      ]
     },
     "metadata": {},
     "output_type": "display_data"
    },
    {
     "name": "stdout",
     "output_type": "stream",
     "text": [
      "Rx_days_HYDROCHLOROTHIAZIDE; VALSARTAN\n"
     ]
    },
    {
     "data": {
      "text/plain": [
       "array([0.0000e+00, 3.6500e+03, 3.6500e+02, 7.3000e+02, 1.8200e+02,\n",
       "       1.8250e+03, 9.1000e+01, 2.9200e+03, 1.0950e+03, 2.1900e+03,\n",
       "       1.5200e+02, 1.4600e+03, 3.0400e+02, 3.0000e+01, 6.1000e+01,\n",
       "       3.2850e+03, 2.5550e+03, 7.3000e+03, 1.4600e+04, 1.0000e+00,\n",
       "       4.3800e+03, 1.2200e+02, 2.1000e+01, 5.4750e+03, 5.4700e+02,\n",
       "       3.7550e+02, 4.0000e+01, 1.0585e+04, 1.0950e+04, 5.1100e+03,\n",
       "       5.0000e+00, 4.7450e+03, 5.8400e+03])"
      ]
     },
     "metadata": {},
     "output_type": "display_data"
    },
    {
     "name": "stdout",
     "output_type": "stream",
     "text": [
      "Rx_ESTRADIOL\n"
     ]
    },
    {
     "data": {
      "text/plain": [
       "array([0, 1], dtype=int64)"
      ]
     },
     "metadata": {},
     "output_type": "display_data"
    },
    {
     "name": "stdout",
     "output_type": "stream",
     "text": [
      "Rx_days_ESTRADIOL\n"
     ]
    },
    {
     "data": {
      "text/plain": [
       "array([0.0000e+00, 1.2200e+02, 5.4750e+03, 5.4700e+02, 4.7450e+03,\n",
       "       1.2410e+04, 3.6500e+03, 3.6500e+02, 2.7400e+02, 7.3000e+03,\n",
       "       1.0950e+03, 1.8250e+03, 1.8200e+02, 9.1000e+01, 9.1200e+02,\n",
       "       4.5600e+02, 9.1250e+03, 1.1680e+04, 2.9200e+03, 2.1900e+03,\n",
       "       4.0150e+03, 1.4600e+03, 1.2775e+04, 2.5550e+03, 7.3000e+02,\n",
       "       1.4965e+04, 4.3800e+03, 9.8550e+03, 6.5700e+03, 5.1100e+03,\n",
       "       1.5200e+02, 6.2050e+03, 4.5625e+03, 6.1000e+01, 1.0950e+04,\n",
       "       2.1000e+01, 2.5000e+01, 1.0585e+04, 6.9350e+03, 9.4900e+03,\n",
       "       1.5000e+01, 7.0000e+00, 7.6650e+03, 1.4600e+04, 3.2850e+03,\n",
       "       2.1300e+02, 8.7600e+03])"
      ]
     },
     "metadata": {},
     "output_type": "display_data"
    },
    {
     "name": "stdout",
     "output_type": "stream",
     "text": [
      "Rx_DICLOFENAC\n"
     ]
    },
    {
     "data": {
      "text/plain": [
       "array([0, 1], dtype=int64)"
      ]
     },
     "metadata": {},
     "output_type": "display_data"
    },
    {
     "name": "stdout",
     "output_type": "stream",
     "text": [
      "Rx_days_DICLOFENAC\n"
     ]
    },
    {
     "data": {
      "text/plain": [
       "array([0.000e+00, 2.190e+03, 7.300e+02, 3.000e+01, 3.650e+02, 5.470e+02,\n",
       "       1.400e+01, 4.260e+02, 1.460e+03, 7.000e+00, 7.300e+03, 1.095e+03,\n",
       "       1.825e+03, 3.650e+03, 9.100e+01, 2.555e+03, 1.820e+02, 6.570e+03,\n",
       "       6.100e+01, 5.475e+03, 9.125e+03, 1.220e+02, 6.000e+00, 1.520e+02,\n",
       "       9.120e+02, 1.000e+00, 2.740e+02, 2.430e+02, 2.920e+03, 6.690e+02,\n",
       "       2.000e+00, 2.000e+01, 6.205e+03, 4.000e+00, 2.100e+01, 3.000e+00,\n",
       "       6.000e+01])"
      ]
     },
     "metadata": {},
     "output_type": "display_data"
    },
    {
     "name": "stdout",
     "output_type": "stream",
     "text": [
      "Rx_LATANOPROST OPHTHALMIC\n"
     ]
    },
    {
     "data": {
      "text/plain": [
       "array([0, 1], dtype=int64)"
      ]
     },
     "metadata": {},
     "output_type": "display_data"
    },
    {
     "name": "stdout",
     "output_type": "stream",
     "text": [
      "Rx_days_LATANOPROST OPHTHALMIC\n"
     ]
    },
    {
     "data": {
      "text/plain": [
       "array([0.000e+00, 3.650e+02, 1.460e+03, 7.300e+02, 1.825e+03, 3.650e+03,\n",
       "       4.380e+03, 5.470e+02, 5.475e+03, 4.000e+00, 2.555e+03, 5.840e+03,\n",
       "       1.095e+03, 3.040e+02, 3.000e+01, 5.110e+03, 2.430e+02, 1.820e+02,\n",
       "       2.920e+03, 6.935e+03, 2.740e+02, 9.100e+01, 2.190e+03, 8.395e+03,\n",
       "       4.015e+03, 1.220e+02, 6.570e+03, 1.095e+04, 5.480e+02, 7.300e+03,\n",
       "       5.000e+00])"
      ]
     },
     "metadata": {},
     "output_type": "display_data"
    },
    {
     "name": "stdout",
     "output_type": "stream",
     "text": [
      "Rx_HYDRALAZINE\n"
     ]
    },
    {
     "data": {
      "text/plain": [
       "array([0, 1], dtype=int64)"
      ]
     },
     "metadata": {},
     "output_type": "display_data"
    },
    {
     "name": "stdout",
     "output_type": "stream",
     "text": [
      "Rx_days_HYDRALAZINE\n"
     ]
    },
    {
     "data": {
      "text/plain": [
       "array([0.000e+00, 2.190e+03, 1.820e+02, 3.650e+02, 4.380e+03, 1.460e+03,\n",
       "       1.400e+01, 1.460e+04, 1.095e+03, 2.920e+03, 3.650e+03, 7.300e+02,\n",
       "       2.555e+03, 7.000e+01, 7.000e+00, 5.470e+02, 2.740e+02, 1.825e+03,\n",
       "       6.100e+01, 3.000e+01, 5.475e+03, 4.200e+01, 1.000e+00, 1.500e+01,\n",
       "       9.100e+01, 4.745e+03, 2.100e+01, 1.095e+04, 2.430e+02, 5.110e+03,\n",
       "       4.015e+03, 7.300e+03, 3.950e+02, 7.500e+01, 1.220e+02])"
      ]
     },
     "metadata": {},
     "output_type": "display_data"
    },
    {
     "name": "stdout",
     "output_type": "stream",
     "text": [
      "Rx_OLMESARTAN\n"
     ]
    },
    {
     "data": {
      "text/plain": [
       "array([0, 1], dtype=int64)"
      ]
     },
     "metadata": {},
     "output_type": "display_data"
    },
    {
     "name": "stdout",
     "output_type": "stream",
     "text": [
      "Rx_days_OLMESARTAN\n"
     ]
    },
    {
     "data": {
      "text/plain": [
       "array([0.000e+00, 9.100e+01, 1.095e+03, 5.470e+02, 7.300e+02, 4.500e+01,\n",
       "       3.650e+03, 1.820e+02, 2.740e+02, 3.650e+02, 1.825e+03, 4.745e+03,\n",
       "       2.430e+02, 2.555e+03, 1.460e+03, 5.475e+03, 1.220e+02, 2.190e+03,\n",
       "       6.100e+01, 2.920e+03, 4.015e+03, 5.110e+03, 4.380e+03, 1.400e+01,\n",
       "       7.000e+00, 3.285e+03, 7.300e+03])"
      ]
     },
     "metadata": {},
     "output_type": "display_data"
    },
    {
     "name": "stdout",
     "output_type": "stream",
     "text": [
      "Rx_SULFAMETHOXAZOLE; TRIMETHOPRIM\n"
     ]
    },
    {
     "data": {
      "text/plain": [
       "array([0, 1], dtype=int64)"
      ]
     },
     "metadata": {},
     "output_type": "display_data"
    },
    {
     "name": "stdout",
     "output_type": "stream",
     "text": [
      "Rx_days_SULFAMETHOXAZOLE; TRIMETHOPRIM\n"
     ]
    },
    {
     "data": {
      "text/plain": [
       "array([0.0000e+00, 3.2850e+03, 1.8250e+03, 3.0000e+01, 1.0000e+01,\n",
       "       2.1900e+03, 7.0000e+00, 1.4600e+03, 3.6500e+03, 1.7000e+01,\n",
       "       5.4700e+02, 4.0000e+00, 1.4000e+01, 5.1100e+03, 3.0000e+00,\n",
       "       6.0000e+00, 2.7400e+02, 7.3000e+02, 1.5000e+01, 1.0950e+03,\n",
       "       5.0000e+00, 3.6500e+02, 8.0000e+00, 2.1000e+01, 9.8000e+01,\n",
       "       4.0150e+03, 1.8200e+02, 1.2200e+02, 9.1000e+01, 1.0000e+00,\n",
       "       2.0000e+00, 1.5200e+02, 2.9200e+03, 6.1000e+01, 3.5000e+01,\n",
       "       1.2045e+04])"
      ]
     },
     "metadata": {},
     "output_type": "display_data"
    },
    {
     "name": "stdout",
     "output_type": "stream",
     "text": [
      "Rx_CEPHALEXIN\n"
     ]
    },
    {
     "data": {
      "text/plain": [
       "array([0, 1], dtype=int64)"
      ]
     },
     "metadata": {},
     "output_type": "display_data"
    },
    {
     "name": "stdout",
     "output_type": "stream",
     "text": [
      "Rx_days_CEPHALEXIN\n"
     ]
    },
    {
     "data": {
      "text/plain": [
       "array([0.000e+00, 8.000e+00, 7.000e+00, 3.000e+00, 3.650e+02, 1.400e+01,\n",
       "       2.000e+00, 5.000e+00, 1.900e+01, 1.000e+01, 4.000e+00, 1.300e+01,\n",
       "       3.650e+03, 1.820e+02, 3.000e+01, 1.100e+01, 1.825e+03, 2.400e+01,\n",
       "       7.300e+02, 1.500e+01, 5.470e+02, 6.000e+00, 3.500e+01, 1.000e+00,\n",
       "       9.000e+00, 6.100e+01, 1.460e+03, 1.520e+02, 9.100e+01, 2.100e+01])"
      ]
     },
     "metadata": {},
     "output_type": "display_data"
    },
    {
     "name": "stdout",
     "output_type": "stream",
     "text": [
      "Rx_GEMFIBROZIL\n"
     ]
    },
    {
     "data": {
      "text/plain": [
       "array([0, 1], dtype=int64)"
      ]
     },
     "metadata": {},
     "output_type": "display_data"
    },
    {
     "name": "stdout",
     "output_type": "stream",
     "text": [
      "Rx_days_GEMFIBROZIL\n"
     ]
    },
    {
     "data": {
      "text/plain": [
       "array([0.000e+00, 3.650e+02, 1.825e+03, 1.460e+03, 3.650e+03, 6.100e+01,\n",
       "       1.095e+03, 3.000e+01, 7.300e+02, 1.820e+02, 9.100e+01, 2.920e+03,\n",
       "       5.840e+03, 2.430e+02, 2.555e+03, 7.300e+03, 3.285e+03, 2.190e+03,\n",
       "       5.470e+02, 4.015e+03, 1.220e+02, 4.380e+03, 5.475e+03, 1.000e+00,\n",
       "       5.110e+03, 4.745e+03, 2.800e+01, 6.205e+03, 8.030e+03, 2.740e+02,\n",
       "       3.340e+02, 1.095e+04])"
      ]
     },
     "metadata": {},
     "output_type": "display_data"
    },
    {
     "name": "stdout",
     "output_type": "stream",
     "text": [
      "Rx_INSULIN LISPRO\n"
     ]
    },
    {
     "data": {
      "text/plain": [
       "array([0, 1], dtype=int64)"
      ]
     },
     "metadata": {},
     "output_type": "display_data"
    },
    {
     "name": "stdout",
     "output_type": "stream",
     "text": [
      "Rx_days_INSULIN LISPRO\n"
     ]
    },
    {
     "data": {
      "text/plain": [
       "array([0.0000e+00, 2.5550e+03, 5.4700e+02, 1.0950e+03, 3.6500e+02,\n",
       "       7.3000e+02, 6.1000e+01, 7.3000e+03, 4.3800e+03, 2.9200e+03,\n",
       "       1.8200e+02, 7.6650e+03, 2.1900e+03, 1.4600e+03, 3.6500e+03,\n",
       "       1.8250e+03, 4.0150e+03, 1.4000e+01, 9.1000e+01, 5.4750e+03,\n",
       "       9.8550e+03, 1.0220e+04, 1.2775e+04, 1.2200e+02, 1.0950e+04,\n",
       "       1.4600e+04, 2.4300e+02, 1.1315e+04, 6.2050e+03, 3.0000e+01,\n",
       "       5.1100e+03, 4.7450e+03, 5.8400e+03, 6.9350e+03, 1.0000e+01,\n",
       "       4.5600e+02, 9.1250e+03, 8.3950e+03, 1.5200e+02, 2.7400e+02,\n",
       "       1.0585e+04])"
      ]
     },
     "metadata": {},
     "output_type": "display_data"
    },
    {
     "name": "stdout",
     "output_type": "stream",
     "text": [
      "Rx_PREGABALIN\n"
     ]
    },
    {
     "data": {
      "text/plain": [
       "array([0, 1], dtype=int64)"
      ]
     },
     "metadata": {},
     "output_type": "display_data"
    },
    {
     "name": "stdout",
     "output_type": "stream",
     "text": [
      "Rx_days_PREGABALIN\n"
     ]
    },
    {
     "data": {
      "text/plain": [
       "array([0.000e+00, 9.100e+01, 1.820e+02, 2.100e+01, 7.000e+00, 6.100e+01,\n",
       "       3.000e+01, 1.520e+02, 4.200e+01, 7.300e+02, 2.740e+02, 1.220e+02,\n",
       "       3.650e+02, 1.400e+01, 2.430e+02, 1.825e+03, 9.125e+03, 1.095e+03,\n",
       "       1.460e+03, 2.555e+03, 3.650e+03, 2.190e+03, 4.015e+03, 2.920e+03,\n",
       "       4.745e+03, 3.285e+03, 4.380e+03, 6.080e+02, 5.475e+03, 5.470e+02,\n",
       "       3.000e+00])"
      ]
     },
     "metadata": {},
     "output_type": "display_data"
    },
    {
     "name": "stdout",
     "output_type": "stream",
     "text": [
      "Rx_AMOXICILLIN; CLAVULANATE\n"
     ]
    },
    {
     "data": {
      "text/plain": [
       "array([0, 1], dtype=int64)"
      ]
     },
     "metadata": {},
     "output_type": "display_data"
    },
    {
     "name": "stdout",
     "output_type": "stream",
     "text": [
      "Rx_days_AMOXICILLIN; CLAVULANATE\n"
     ]
    },
    {
     "data": {
      "text/plain": [
       "array([0.000e+00, 2.800e+01, 9.000e+00, 7.000e+00, 1.400e+01, 5.000e+00,\n",
       "       3.000e+01, 6.000e+00, 3.000e+00, 4.000e+00, 1.460e+03, 6.100e+01,\n",
       "       1.000e+00, 2.000e+00, 1.000e+01, 8.000e+00, 2.000e+01, 1.095e+03,\n",
       "       4.200e+01])"
      ]
     },
     "metadata": {},
     "output_type": "display_data"
    },
    {
     "name": "stdout",
     "output_type": "stream",
     "text": [
      "Rx_ALBUTEROL; IPRATROPIUM\n"
     ]
    },
    {
     "data": {
      "text/plain": [
       "array([0, 1], dtype=int64)"
      ]
     },
     "metadata": {},
     "output_type": "display_data"
    },
    {
     "name": "stdout",
     "output_type": "stream",
     "text": [
      "Rx_days_ALBUTEROL; IPRATROPIUM\n"
     ]
    },
    {
     "data": {
      "text/plain": [
       "array([0.000e+00, 2.130e+02, 1.825e+03, 2.555e+03, 1.095e+03, 9.885e+02,\n",
       "       2.190e+03, 3.650e+03, 7.300e+02, 1.460e+03, 1.820e+02, 5.470e+02,\n",
       "       1.520e+02, 3.285e+03, 6.000e+00, 9.100e+01, 5.475e+03, 3.000e+01,\n",
       "       2.920e+03, 3.650e+02, 6.100e+01, 1.400e+01, 7.000e+00, 7.300e+03,\n",
       "       2.740e+02, 4.015e+03, 1.460e+04, 1.673e+03, 9.430e+02, 4.380e+03,\n",
       "       9.125e+03, 5.000e+00, 1.220e+02, 5.110e+03])"
      ]
     },
     "metadata": {},
     "output_type": "display_data"
    },
    {
     "name": "stdout",
     "output_type": "stream",
     "text": [
      "Rx_CONJUGATED ESTROGENS\n"
     ]
    },
    {
     "data": {
      "text/plain": [
       "array([0, 1], dtype=int64)"
      ]
     },
     "metadata": {},
     "output_type": "display_data"
    },
    {
     "name": "stdout",
     "output_type": "stream",
     "text": [
      "Rx_days_CONJUGATED ESTROGENS\n"
     ]
    },
    {
     "data": {
      "text/plain": [
       "array([0.0000e+00, 3.6500e+03, 7.3000e+03, 5.1100e+03, 2.5550e+03,\n",
       "       1.0950e+03, 7.3000e+02, 1.8250e+03, 9.1250e+03, 2.0000e+00,\n",
       "       3.6500e+02, 2.9200e+03, 4.0150e+03, 2.1900e+03, 9.4900e+03,\n",
       "       1.4600e+03, 2.4300e+02, 5.4750e+03, 1.5200e+02, 4.7450e+03,\n",
       "       1.4000e+01, 1.0950e+04, 1.2775e+04, 4.3800e+03, 6.2050e+03,\n",
       "       8.7600e+03, 1.4600e+04, 1.3870e+04, 8.3950e+03, 1.2200e+02,\n",
       "       1.3140e+04, 3.0000e+01, 9.8550e+03, 1.0220e+04, 1.8200e+02,\n",
       "       1.8250e+04, 5.8400e+03, 8.0300e+03, 5.4700e+02, 1.4235e+04,\n",
       "       1.5330e+04, 1.5695e+04, 6.5700e+03, 2.4000e+01])"
      ]
     },
     "metadata": {},
     "output_type": "display_data"
    },
    {
     "name": "stdout",
     "output_type": "stream",
     "text": [
      "Rx_DOXYCYCLINE\n"
     ]
    },
    {
     "data": {
      "text/plain": [
       "array([0, 1], dtype=int64)"
      ]
     },
     "metadata": {},
     "output_type": "display_data"
    },
    {
     "name": "stdout",
     "output_type": "stream",
     "text": [
      "Rx_days_DOXYCYCLINE\n"
     ]
    },
    {
     "data": {
      "text/plain": [
       "array([0.000e+00, 7.000e+00, 9.100e+01, 1.000e+00, 1.825e+03, 3.000e+01,\n",
       "       2.190e+03, 5.470e+02, 8.000e+00, 6.100e+01, 6.000e+01, 1.400e+01,\n",
       "       3.650e+02, 2.430e+02, 4.380e+03, 1.095e+03, 2.920e+03, 2.100e+01,\n",
       "       5.000e+00, 1.000e+01, 4.000e+00, 2.100e+02, 7.300e+02, 9.000e+00,\n",
       "       1.820e+02, 3.000e+00, 2.740e+02, 1.220e+02, 3.650e+03, 2.000e+01,\n",
       "       7.000e+01, 4.200e+01, 1.460e+03, 6.570e+03])"
      ]
     },
     "metadata": {},
     "output_type": "display_data"
    },
    {
     "name": "stdout",
     "output_type": "stream",
     "text": [
      "Rx_BECLOMETHASONE\n"
     ]
    },
    {
     "data": {
      "text/plain": [
       "array([0, 1], dtype=int64)"
      ]
     },
     "metadata": {},
     "output_type": "display_data"
    },
    {
     "name": "stdout",
     "output_type": "stream",
     "text": [
      "Rx_days_BECLOMETHASONE\n"
     ]
    },
    {
     "data": {
      "text/plain": [
       "array([0.000e+00, 1.820e+02, 1.400e+01, 6.935e+03, 9.000e+00, 1.825e+03,\n",
       "       1.460e+03, 3.650e+02, 2.555e+03, 2.920e+03, 3.000e+00, 7.300e+02,\n",
       "       2.190e+03, 1.095e+03, 1.520e+02, 7.300e+03, 3.650e+03, 3.000e+01,\n",
       "       2.000e+01, 5.470e+02, 1.095e+04, 9.120e+02, 4.015e+03, 6.100e+01,\n",
       "       4.200e+01, 1.220e+02, 9.125e+03])"
      ]
     },
     "metadata": {},
     "output_type": "display_data"
    },
    {
     "name": "stdout",
     "output_type": "stream",
     "text": [
      "Rx_BUSPIRONE\n"
     ]
    },
    {
     "data": {
      "text/plain": [
       "array([0, 1], dtype=int64)"
      ]
     },
     "metadata": {},
     "output_type": "display_data"
    },
    {
     "name": "stdout",
     "output_type": "stream",
     "text": [
      "Rx_days_BUSPIRONE\n"
     ]
    },
    {
     "data": {
      "text/plain": [
       "array([0.0000e+00, 2.1900e+03, 7.3000e+02, 3.6500e+02, 1.2000e+01,\n",
       "       1.4600e+03, 6.1000e+01, 1.2200e+02, 1.8250e+03, 2.9200e+03,\n",
       "       1.0950e+03, 7.3000e+03, 2.5550e+03, 3.6500e+03, 3.0000e+01,\n",
       "       1.4000e+01, 1.8200e+02, 4.7450e+03, 5.4750e+03, 4.5000e+01,\n",
       "       2.7400e+02, 1.6425e+04, 9.1000e+01, 6.2050e+03, 4.8600e+02,\n",
       "       1.0000e+00, 6.9350e+03, 4.0150e+03, 4.3800e+03, 1.0000e+01,\n",
       "       2.1300e+02, 3.0400e+02, 8.7600e+03, 3.9500e+02, 8.0300e+03,\n",
       "       1.5200e+02])"
      ]
     },
     "metadata": {},
     "output_type": "display_data"
    },
    {
     "name": "stdout",
     "output_type": "stream",
     "text": [
      "Rx_DIAZEPAM\n"
     ]
    },
    {
     "data": {
      "text/plain": [
       "array([0, 1], dtype=int64)"
      ]
     },
     "metadata": {},
     "output_type": "display_data"
    },
    {
     "name": "stdout",
     "output_type": "stream",
     "text": [
      "Rx_days_DIAZEPAM\n"
     ]
    },
    {
     "data": {
      "text/plain": [
       "array([0.0000e+00, 2.1900e+03, 1.4600e+03, 3.0000e+01, 2.5550e+03,\n",
       "       3.0400e+02, 3.6500e+02, 7.3000e+02, 1.0950e+04, 9.4900e+03,\n",
       "       1.0000e+00, 3.6500e+03, 2.1300e+02, 7.3000e+03, 1.2200e+02,\n",
       "       3.0000e+00, 1.1000e+01, 2.4300e+02, 5.8400e+03, 1.8250e+03,\n",
       "       6.1000e+01, 1.8250e+04, 7.0000e+00, 1.8200e+02, 2.7400e+02,\n",
       "       1.0950e+03, 1.0940e+03, 9.1250e+03, 9.1000e+01, 5.0000e+00,\n",
       "       1.0000e+01, 1.5200e+02, 2.5000e+01, 3.2850e+03, 4.2000e+01,\n",
       "       3.5000e+01, 5.4750e+03, 4.4000e+01, 9.8550e+03, 1.9345e+04,\n",
       "       5.4700e+02, 1.2000e+01, 2.9200e+03, 1.2775e+04])"
      ]
     },
     "metadata": {},
     "output_type": "display_data"
    },
    {
     "name": "stdout",
     "output_type": "stream",
     "text": [
      "Rx_ACETAMINOPHEN; CODEINE\n"
     ]
    },
    {
     "data": {
      "text/plain": [
       "array([0, 1], dtype=int64)"
      ]
     },
     "metadata": {},
     "output_type": "display_data"
    },
    {
     "name": "stdout",
     "output_type": "stream",
     "text": [
      "Rx_days_ACETAMINOPHEN; CODEINE\n"
     ]
    },
    {
     "data": {
      "text/plain": [
       "array([0.000e+00, 2.000e+00, 7.300e+02, 6.100e+01, 2.920e+03, 3.285e+03,\n",
       "       3.650e+02, 1.095e+03, 3.650e+03, 5.110e+03, 9.100e+01, 3.000e+01,\n",
       "       1.400e+01, 7.000e+00, 9.125e+03, 5.000e+00, 1.500e+01, 1.820e+02,\n",
       "       2.190e+03, 7.300e+03, 1.095e+04, 1.220e+02, 1.000e+00, 2.430e+02,\n",
       "       4.500e+01, 3.040e+02, 1.000e+01, 1.825e+03, 2.000e+01, 1.460e+03,\n",
       "       1.387e+04, 8.000e+00, 2.130e+02, 2.740e+02, 3.000e+00, 2.100e+01,\n",
       "       8.760e+03])"
      ]
     },
     "metadata": {},
     "output_type": "display_data"
    },
    {
     "name": "stdout",
     "output_type": "stream",
     "text": [
      "Rx_ETHINYL ESTRADIOL; LEVONORGESTREL\n"
     ]
    },
    {
     "data": {
      "text/plain": [
       "array([0, 1], dtype=int64)"
      ]
     },
     "metadata": {},
     "output_type": "display_data"
    },
    {
     "name": "stdout",
     "output_type": "stream",
     "text": [
      "Rx_days_ETHINYL ESTRADIOL; LEVONORGESTREL\n"
     ]
    },
    {
     "data": {
      "text/plain": [
       "array([0.0000e+00, 1.8250e+03, 5.4750e+03, 2.9200e+03, 6.1000e+01,\n",
       "       1.0000e+00, 2.1900e+03, 3.0000e+01, 3.6500e+02, 7.3000e+02,\n",
       "       3.6500e+03, 9.1000e+01, 1.4600e+03, 1.2200e+02, 1.0950e+03,\n",
       "       1.5200e+02, 2.5550e+03, 2.7400e+02, 4.3800e+03, 5.4700e+02,\n",
       "       1.1315e+04, 3.2850e+03, 5.1100e+03, 9.1250e+03, 4.5600e+02,\n",
       "       3.9500e+02, 1.7000e+01, 3.0400e+02, 9.4900e+03, 6.2050e+03,\n",
       "       8.3950e+03, 7.3000e+03, 1.8200e+02, 7.0000e+00, 1.4000e+01,\n",
       "       2.1000e+01])"
      ]
     },
     "metadata": {},
     "output_type": "display_data"
    },
    {
     "name": "stdout",
     "output_type": "stream",
     "text": [
      "Rx_QUINAPRIL\n"
     ]
    },
    {
     "data": {
      "text/plain": [
       "array([0, 1], dtype=int64)"
      ]
     },
     "metadata": {},
     "output_type": "display_data"
    },
    {
     "name": "stdout",
     "output_type": "stream",
     "text": [
      "Rx_days_QUINAPRIL\n"
     ]
    },
    {
     "data": {
      "text/plain": [
       "array([    0.,   365.,  4745.,   730.,  1460.,  2190.,  2920.,  7300.,\n",
       "        3650.,  1825.,  1095.,  4015.,  4380.,  5475.,  2555.,   426.,\n",
       "        5110.,  9125.,   122., 10220.,   182., 10950.,   517.,   334.,\n",
       "        3285.,  7665.,  5840.])"
      ]
     },
     "metadata": {},
     "output_type": "display_data"
    },
    {
     "name": "stdout",
     "output_type": "stream",
     "text": [
      "Rx_INSULIN DETEMIR\n"
     ]
    },
    {
     "data": {
      "text/plain": [
       "array([0, 1], dtype=int64)"
      ]
     },
     "metadata": {},
     "output_type": "display_data"
    },
    {
     "name": "stdout",
     "output_type": "stream",
     "text": [
      "Rx_days_INSULIN DETEMIR\n"
     ]
    },
    {
     "data": {
      "text/plain": [
       "array([0.000e+00, 1.220e+02, 7.300e+02, 3.650e+02, 1.200e+01, 2.740e+02,\n",
       "       3.000e+01, 1.095e+03, 1.825e+03, 2.920e+03, 9.100e+01, 3.650e+03,\n",
       "       3.040e+02, 1.460e+03, 2.130e+02, 2.190e+03, 5.470e+02, 1.820e+02,\n",
       "       4.200e+01, 1.387e+04, 7.300e+03, 5.475e+03, 2.430e+02, 6.100e+01,\n",
       "       2.100e+01, 2.555e+03, 5.110e+03, 4.380e+03, 5.840e+03, 4.745e+03,\n",
       "       6.205e+03, 6.935e+03, 1.520e+02])"
      ]
     },
     "metadata": {},
     "output_type": "display_data"
    },
    {
     "name": "stdout",
     "output_type": "stream",
     "text": [
      "Rx_BUDESONIDE; FORMOTEROL\n"
     ]
    },
    {
     "data": {
      "text/plain": [
       "array([0, 1], dtype=int64)"
      ]
     },
     "metadata": {},
     "output_type": "display_data"
    },
    {
     "name": "stdout",
     "output_type": "stream",
     "text": [
      "Rx_days_BUDESONIDE; FORMOTEROL\n"
     ]
    },
    {
     "data": {
      "text/plain": [
       "array([0.000e+00, 1.825e+03, 3.000e+01, 6.100e+01, 3.650e+02, 1.520e+02,\n",
       "       1.820e+02, 2.430e+02, 7.300e+02, 1.095e+03, 2.000e+01, 9.100e+01,\n",
       "       5.470e+02, 1.460e+03, 3.650e+03, 2.190e+03, 5.475e+03, 2.555e+03,\n",
       "       7.300e+03, 3.000e+00, 4.380e+03, 2.920e+03, 3.285e+03])"
      ]
     },
     "metadata": {},
     "output_type": "display_data"
    },
    {
     "name": "stdout",
     "output_type": "stream",
     "text": [
      "Rx_MECLIZINE\n"
     ]
    },
    {
     "data": {
      "text/plain": [
       "array([0, 1], dtype=int64)"
      ]
     },
     "metadata": {},
     "output_type": "display_data"
    },
    {
     "name": "stdout",
     "output_type": "stream",
     "text": [
      "Rx_days_MECLIZINE\n"
     ]
    },
    {
     "data": {
      "text/plain": [
       "array([0.0000e+00, 3.6500e+02, 3.6500e+03, 1.0950e+03, 1.8200e+02,\n",
       "       1.4600e+03, 9.1000e+01, 1.8250e+03, 2.4300e+02, 1.5200e+02,\n",
       "       7.3000e+02, 3.0000e+01, 5.4700e+02, 1.2200e+02, 7.3000e+03,\n",
       "       7.0000e+00, 1.4000e+01, 1.0000e+01, 2.1300e+02, 2.1000e+01,\n",
       "       3.2850e+03, 2.1900e+03, 2.7400e+02, 6.1000e+01, 1.0950e+04,\n",
       "       8.0000e+00, 5.4750e+03, 5.0000e+00, 1.2045e+04, 6.2050e+03,\n",
       "       1.4600e+04])"
      ]
     },
     "metadata": {},
     "output_type": "display_data"
    },
    {
     "name": "stdout",
     "output_type": "stream",
     "text": [
      "Rx_POLYETHYLENE GLYCOL 3350\n"
     ]
    },
    {
     "data": {
      "text/plain": [
       "array([0, 1], dtype=int64)"
      ]
     },
     "metadata": {},
     "output_type": "display_data"
    },
    {
     "name": "stdout",
     "output_type": "stream",
     "text": [
      "Rx_days_POLYETHYLENE GLYCOL 3350\n"
     ]
    },
    {
     "data": {
      "text/plain": [
       "array([0.000e+00, 3.650e+02, 9.100e+01, 1.220e+02, 2.430e+02, 7.300e+02,\n",
       "       1.825e+03, 6.100e+01, 1.095e+03, 7.000e+00, 1.460e+03, 2.555e+03,\n",
       "       1.820e+02, 3.000e+01, 2.740e+02, 3.650e+03, 1.520e+02, 2.920e+03,\n",
       "       2.130e+02, 2.000e+00])"
      ]
     },
     "metadata": {},
     "output_type": "display_data"
    },
    {
     "name": "stdout",
     "output_type": "stream",
     "text": [
      "Rx_BACLOFEN\n"
     ]
    },
    {
     "data": {
      "text/plain": [
       "array([0, 1], dtype=int64)"
      ]
     },
     "metadata": {},
     "output_type": "display_data"
    },
    {
     "name": "stdout",
     "output_type": "stream",
     "text": [
      "Rx_days_BACLOFEN\n"
     ]
    },
    {
     "data": {
      "text/plain": [
       "array([0.0000e+00, 5.4700e+02, 9.0000e+00, 1.8250e+03, 3.6500e+02,\n",
       "       2.9200e+03, 1.2200e+02, 2.1900e+03, 7.3000e+02, 1.0950e+03,\n",
       "       3.6500e+03, 3.0000e+01, 5.4750e+03, 5.1100e+03, 6.1000e+01,\n",
       "       4.7450e+03, 2.5550e+03, 7.3000e+03, 1.8200e+02, 9.1000e+01,\n",
       "       6.5700e+03, 4.3800e+03, 1.4600e+03, 4.0000e+00, 1.5200e+02,\n",
       "       8.0000e+00, 9.1250e+03, 7.0000e+00, 2.4300e+02, 1.0585e+04,\n",
       "       2.7400e+02])"
      ]
     },
     "metadata": {},
     "output_type": "display_data"
    },
    {
     "name": "stdout",
     "output_type": "stream",
     "text": [
      "Rx_LISDEXAMFETAMINE\n"
     ]
    },
    {
     "data": {
      "text/plain": [
       "array([0, 1], dtype=int64)"
      ]
     },
     "metadata": {},
     "output_type": "display_data"
    },
    {
     "name": "stdout",
     "output_type": "stream",
     "text": [
      "Rx_days_LISDEXAMFETAMINE\n"
     ]
    },
    {
     "data": {
      "text/plain": [
       "array([0.000e+00, 1.460e+03, 1.095e+03, 5.170e+02, 7.300e+02, 1.400e+01,\n",
       "       2.300e+01, 3.650e+02, 1.820e+02, 3.000e+01, 2.430e+02, 2.920e+03,\n",
       "       1.095e+04, 2.190e+03, 2.100e+01, 2.555e+03, 7.000e+00, 5.470e+02,\n",
       "       9.100e+01])"
      ]
     },
     "metadata": {},
     "output_type": "display_data"
    },
    {
     "name": "stdout",
     "output_type": "stream",
     "text": [
      "Rx_METOCLOPRAMIDE\n"
     ]
    },
    {
     "data": {
      "text/plain": [
       "array([0, 1], dtype=int64)"
      ]
     },
     "metadata": {},
     "output_type": "display_data"
    },
    {
     "name": "stdout",
     "output_type": "stream",
     "text": [
      "Rx_days_METOCLOPRAMIDE\n"
     ]
    },
    {
     "data": {
      "text/plain": [
       "array([0.000e+00, 9.100e+01, 2.920e+03, 4.200e+01, 7.300e+02, 1.520e+02,\n",
       "       1.095e+03, 6.100e+01, 2.555e+03, 1.825e+03, 2.100e+01, 2.430e+02,\n",
       "       1.460e+03, 2.000e+00, 1.220e+02, 3.650e+02, 7.300e+03, 6.205e+03,\n",
       "       9.120e+02, 3.650e+03, 7.000e+00, 1.820e+02, 5.475e+03, 1.000e+00,\n",
       "       1.000e+01, 2.130e+02, 3.000e+01, 9.125e+03, 4.380e+03, 2.190e+03])"
      ]
     },
     "metadata": {},
     "output_type": "display_data"
    },
    {
     "name": "stdout",
     "output_type": "stream",
     "text": [
      "Rx_LEVALBUTEROL\n"
     ]
    },
    {
     "data": {
      "text/plain": [
       "array([0, 1], dtype=int64)"
      ]
     },
     "metadata": {},
     "output_type": "display_data"
    },
    {
     "name": "stdout",
     "output_type": "stream",
     "text": [
      "Rx_days_LEVALBUTEROL\n"
     ]
    },
    {
     "data": {
      "text/plain": [
       "array([   0.,  182.,  730.,  365., 1460., 3650.,  243.,   21.,   61.,\n",
       "       1095., 5475.,   30., 7300., 5110., 4745., 9125., 6570., 1825.,\n",
       "       2920.,   91.])"
      ]
     },
     "metadata": {},
     "output_type": "display_data"
    },
    {
     "name": "stdout",
     "output_type": "stream",
     "text": [
      "Rx_METHOTREXATE\n"
     ]
    },
    {
     "data": {
      "text/plain": [
       "array([0, 1], dtype=int64)"
      ]
     },
     "metadata": {},
     "output_type": "display_data"
    },
    {
     "name": "stdout",
     "output_type": "stream",
     "text": [
      "Rx_days_METHOTREXATE\n"
     ]
    },
    {
     "data": {
      "text/plain": [
       "array([0.000e+00, 9.100e+01, 3.650e+03, 1.460e+03, 2.190e+03, 7.300e+02,\n",
       "       2.555e+03, 3.650e+02, 1.400e+01, 1.825e+03, 2.920e+03, 3.000e+01,\n",
       "       6.100e+01, 1.095e+03, 2.430e+02, 8.030e+03, 7.000e+00, 5.110e+03,\n",
       "       6.570e+03, 1.820e+02, 5.475e+03, 1.220e+02, 5.840e+03, 9.125e+03,\n",
       "       8.395e+03, 9.130e+02, 1.520e+02, 7.300e+03, 2.130e+02, 2.100e+01,\n",
       "       4.380e+03, 5.470e+02, 1.277e+03, 8.760e+03, 4.200e+01])"
      ]
     },
     "metadata": {},
     "output_type": "display_data"
    },
    {
     "name": "stdout",
     "output_type": "stream",
     "text": [
      "Rx_PROMETHAZINE\n"
     ]
    },
    {
     "data": {
      "text/plain": [
       "array([0, 1], dtype=int64)"
      ]
     },
     "metadata": {},
     "output_type": "display_data"
    },
    {
     "name": "stdout",
     "output_type": "stream",
     "text": [
      "Rx_days_PROMETHAZINE\n"
     ]
    },
    {
     "data": {
      "text/plain": [
       "array([0.000e+00, 6.100e+01, 3.000e+00, 1.095e+03, 1.095e+04, 2.500e+01,\n",
       "       7.300e+02, 1.000e+00, 3.650e+02, 3.000e+01, 1.820e+02, 1.220e+02,\n",
       "       2.000e+00, 7.000e+00, 3.285e+03, 4.000e+00, 1.825e+03, 5.475e+03,\n",
       "       2.740e+02, 2.190e+03, 1.000e+01, 2.100e+01, 1.400e+01, 2.920e+03,\n",
       "       2.555e+03, 1.460e+03, 3.650e+03, 1.520e+02, 4.745e+03, 5.470e+02,\n",
       "       4.000e+01])"
      ]
     },
     "metadata": {},
     "output_type": "display_data"
    },
    {
     "name": "stdout",
     "output_type": "stream",
     "text": [
      "Rx_TEMAZEPAM\n"
     ]
    },
    {
     "data": {
      "text/plain": [
       "array([0, 1], dtype=int64)"
      ]
     },
     "metadata": {},
     "output_type": "display_data"
    },
    {
     "name": "stdout",
     "output_type": "stream",
     "text": [
      "Rx_days_TEMAZEPAM\n"
     ]
    },
    {
     "data": {
      "text/plain": [
       "array([0.000e+00, 3.000e+01, 5.475e+03, 3.650e+02, 1.095e+04, 2.920e+03,\n",
       "       3.650e+03, 2.430e+02, 7.000e+00, 1.820e+02, 1.095e+03, 2.100e+01,\n",
       "       8.030e+03, 2.555e+03, 5.470e+02, 7.300e+02, 1.022e+04, 1.520e+02,\n",
       "       4.000e+00, 4.380e+03, 1.825e+03, 1.460e+03, 2.000e+01, 9.100e+01,\n",
       "       7.000e+01, 1.400e+01, 6.100e+01, 1.220e+02, 2.130e+02, 6.570e+03,\n",
       "       7.300e+03])"
      ]
     },
     "metadata": {},
     "output_type": "display_data"
    },
    {
     "name": "stdout",
     "output_type": "stream",
     "text": [
      "Rx_LEVETIRACETAM\n"
     ]
    },
    {
     "data": {
      "text/plain": [
       "array([0, 1], dtype=int64)"
      ]
     },
     "metadata": {},
     "output_type": "display_data"
    },
    {
     "name": "stdout",
     "output_type": "stream",
     "text": [
      "Rx_days_LEVETIRACETAM\n"
     ]
    },
    {
     "data": {
      "text/plain": [
       "array([0.000e+00, 1.460e+03, 3.650e+02, 6.100e+01, 1.095e+03, 7.300e+02,\n",
       "       2.190e+03, 1.400e+01, 1.825e+03, 5.470e+02, 9.120e+02, 1.606e+04,\n",
       "       3.650e+03, 9.100e+01, 1.220e+02, 2.555e+03, 4.380e+03, 4.560e+02,\n",
       "       7.000e+00, 3.000e+01, 9.125e+03, 1.820e+02, 7.300e+03, 2.920e+03])"
      ]
     },
     "metadata": {},
     "output_type": "display_data"
    },
    {
     "name": "stdout",
     "output_type": "stream",
     "text": [
      "Rx_IRBESARTAN\n"
     ]
    },
    {
     "data": {
      "text/plain": [
       "array([0, 1], dtype=int64)"
      ]
     },
     "metadata": {},
     "output_type": "display_data"
    },
    {
     "name": "stdout",
     "output_type": "stream",
     "text": [
      "Rx_days_IRBESARTAN\n"
     ]
    },
    {
     "data": {
      "text/plain": [
       "array([0.0000e+00, 7.3000e+02, 4.7450e+03, 1.0950e+03, 3.6500e+02,\n",
       "       3.2850e+03, 6.0000e+01, 5.4800e+02, 1.8250e+03, 9.1000e+01,\n",
       "       1.4600e+03, 6.1000e+01, 2.1900e+03, 7.3000e+03, 1.8200e+02,\n",
       "       3.0000e+01, 3.6500e+03, 5.4750e+03, 3.0400e+02, 4.3800e+03,\n",
       "       9.1250e+03, 1.0000e+00, 1.0950e+04, 2.5550e+03, 1.5695e+04,\n",
       "       2.9200e+03, 2.4300e+02, 7.0000e+00, 4.0150e+03, 2.8000e+01,\n",
       "       1.2200e+02])"
      ]
     },
     "metadata": {},
     "output_type": "display_data"
    },
    {
     "name": "stdout",
     "output_type": "stream",
     "text": [
      "Rx_DOCUSATE\n"
     ]
    },
    {
     "data": {
      "text/plain": [
       "array([0, 1], dtype=int64)"
      ]
     },
     "metadata": {},
     "output_type": "display_data"
    },
    {
     "name": "stdout",
     "output_type": "stream",
     "text": [
      "Rx_days_DOCUSATE\n"
     ]
    },
    {
     "data": {
      "text/plain": [
       "array([0.0000e+00, 3.0000e+01, 1.0950e+03, 3.6500e+02, 7.3000e+02,\n",
       "       2.1900e+03, 1.8200e+02, 6.1000e+01, 2.2000e+01, 2.4300e+02,\n",
       "       3.6500e+03, 2.5550e+03, 8.0300e+03, 2.9200e+03, 1.8250e+03,\n",
       "       1.4600e+03, 1.6000e+01, 3.2850e+03, 2.1300e+02, 8.0000e+00,\n",
       "       5.4750e+03, 1.4000e+01, 3.3400e+02, 9.1000e+01, 2.1000e+01,\n",
       "       5.4700e+02, 1.2775e+03, 2.0000e+00, 4.2600e+02, 4.2000e+01,\n",
       "       1.2200e+02, 7.3000e+03])"
      ]
     },
     "metadata": {},
     "output_type": "display_data"
    },
    {
     "name": "stdout",
     "output_type": "stream",
     "text": [
      "Rx_HYDROCHLOROTHIAZIDE; OLMESARTAN\n"
     ]
    },
    {
     "data": {
      "text/plain": [
       "array([0, 1], dtype=int64)"
      ]
     },
     "metadata": {},
     "output_type": "display_data"
    },
    {
     "name": "stdout",
     "output_type": "stream",
     "text": [
      "Rx_days_HYDROCHLOROTHIAZIDE; OLMESARTAN\n"
     ]
    },
    {
     "data": {
      "text/plain": [
       "array([0.000e+00, 3.650e+02, 6.100e+01, 1.095e+03, 1.520e+02, 4.260e+02,\n",
       "       1.820e+02, 3.650e+03, 2.740e+02, 7.300e+02, 1.825e+03, 2.920e+03,\n",
       "       9.100e+01, 9.125e+03, 4.745e+03, 7.300e+03, 1.460e+03, 1.220e+02,\n",
       "       5.470e+02, 7.000e+00, 3.000e+01, 4.015e+03, 5.475e+03, 2.190e+03,\n",
       "       4.380e+03, 2.555e+03, 2.100e+01, 5.110e+03])"
      ]
     },
     "metadata": {},
     "output_type": "display_data"
    },
    {
     "name": "stdout",
     "output_type": "stream",
     "text": [
      "Rx_ONDANSETRON\n"
     ]
    },
    {
     "data": {
      "text/plain": [
       "array([0, 1], dtype=int64)"
      ]
     },
     "metadata": {},
     "output_type": "display_data"
    },
    {
     "name": "stdout",
     "output_type": "stream",
     "text": [
      "Rx_days_ONDANSETRON\n"
     ]
    },
    {
     "data": {
      "text/plain": [
       "array([0.000e+00, 6.000e+00, 9.100e+01, 6.100e+01, 3.000e+01, 1.470e+02,\n",
       "       5.475e+03, 2.130e+02, 5.470e+02, 3.650e+03, 1.400e+01, 2.000e+00,\n",
       "       2.100e+01, 3.650e+02, 1.220e+02, 1.000e+00, 2.555e+03, 9.000e+00,\n",
       "       1.820e+02, 1.095e+03, 1.825e+03, 7.300e+02, 4.000e+00, 7.000e+00,\n",
       "       2.920e+03, 2.740e+02, 2.400e+01, 1.500e+01, 6.380e+02, 9.125e+03,\n",
       "       2.190e+03])"
      ]
     },
     "metadata": {},
     "output_type": "display_data"
    },
    {
     "name": "stdout",
     "output_type": "stream",
     "text": [
      "Rx_CIPROFLOXACIN\n"
     ]
    },
    {
     "data": {
      "text/plain": [
       "array([0, 1], dtype=int64)"
      ]
     },
     "metadata": {},
     "output_type": "display_data"
    },
    {
     "name": "stdout",
     "output_type": "stream",
     "text": [
      "Rx_days_CIPROFLOXACIN\n"
     ]
    },
    {
     "data": {
      "text/plain": [
       "array([0.000e+00, 1.400e+01, 3.285e+03, 2.100e+01, 3.000e+01, 4.000e+00,\n",
       "       7.300e+03, 1.000e+00, 2.000e+00, 1.000e+01, 5.000e+00, 7.000e+00,\n",
       "       3.500e+01, 1.820e+02, 5.475e+03, 3.000e+00, 6.100e+01, 6.000e+00,\n",
       "       3.650e+02, 2.800e+01, 7.300e+02, 2.740e+02, 4.260e+02, 2.190e+03,\n",
       "       2.600e+01, 4.900e+01, 1.520e+02, 5.480e+02, 5.470e+02])"
      ]
     },
     "metadata": {},
     "output_type": "display_data"
    },
    {
     "name": "stdout",
     "output_type": "stream",
     "text": [
      "Rx_PHENYTOIN\n"
     ]
    },
    {
     "data": {
      "text/plain": [
       "array([0, 1], dtype=int64)"
      ]
     },
     "metadata": {},
     "output_type": "display_data"
    },
    {
     "name": "stdout",
     "output_type": "stream",
     "text": [
      "Rx_days_PHENYTOIN\n"
     ]
    },
    {
     "data": {
      "text/plain": [
       "array([0.0000e+00, 1.4600e+04, 6.2050e+03, 2.1900e+04, 7.3000e+03,\n",
       "       1.7520e+04, 1.9710e+04, 9.1250e+03, 2.0440e+04, 6.1000e+01,\n",
       "       1.7155e+04, 1.0950e+03, 9.1000e+01, 3.6500e+03, 1.4600e+03,\n",
       "       4.2600e+02, 1.4000e+01, 3.6500e+02, 2.1900e+03, 1.8250e+04,\n",
       "       1.8250e+03, 2.0075e+04, 7.0000e+00, 4.7450e+03, 1.4235e+04,\n",
       "       1.8200e+02, 1.2200e+02, 1.6790e+04, 7.3000e+02, 1.0950e+04,\n",
       "       5.4750e+03, 5.1100e+03, 2.9200e+03, 8.0300e+03, 4.3800e+03,\n",
       "       1.2775e+04, 9.8550e+03, 2.5550e+03, 1.2045e+04, 1.1680e+04,\n",
       "       1.6060e+04, 1.5330e+04, 4.0150e+03, 9.4900e+03])"
      ]
     },
     "metadata": {},
     "output_type": "display_data"
    },
    {
     "name": "stdout",
     "output_type": "stream",
     "text": [
      "Rx_AMIODARONE\n"
     ]
    },
    {
     "data": {
      "text/plain": [
       "array([0, 1], dtype=int64)"
      ]
     },
     "metadata": {},
     "output_type": "display_data"
    },
    {
     "name": "stdout",
     "output_type": "stream",
     "text": [
      "Rx_days_AMIODARONE\n"
     ]
    },
    {
     "data": {
      "text/plain": [
       "array([0.000e+00, 7.300e+02, 1.825e+03, 3.650e+02, 2.100e+01, 6.100e+01,\n",
       "       4.015e+03, 1.460e+03, 9.100e+01, 3.000e+01, 1.220e+02, 1.820e+02,\n",
       "       2.130e+02, 5.475e+03, 3.285e+03, 1.095e+03, 2.740e+02, 3.650e+03,\n",
       "       2.190e+03, 3.340e+02, 6.205e+03, 4.380e+03, 2.920e+03, 9.125e+02,\n",
       "       4.560e+02, 5.110e+03, 9.490e+03, 5.840e+03, 1.000e+00])"
      ]
     },
     "metadata": {},
     "output_type": "display_data"
    },
    {
     "name": "stdout",
     "output_type": "stream",
     "text": [
      "Rx_NIACIN\n"
     ]
    },
    {
     "data": {
      "text/plain": [
       "array([0, 1], dtype=int64)"
      ]
     },
     "metadata": {},
     "output_type": "display_data"
    },
    {
     "name": "stdout",
     "output_type": "stream",
     "text": [
      "Rx_days_NIACIN\n"
     ]
    },
    {
     "data": {
      "text/plain": [
       "array([   0.,   30.,  365.,  182., 1095., 3650.,   42., 1825.,  730.,\n",
       "        152., 4380., 1460.,   61., 3285.,   91.,  274., 2555., 2190.,\n",
       "       7300., 2920.,   21., 5475.,   14., 4745.,  547.])"
      ]
     },
     "metadata": {},
     "output_type": "display_data"
    },
    {
     "name": "stdout",
     "output_type": "stream",
     "text": [
      "Rx_HYDROXYCHLOROQUINE\n"
     ]
    },
    {
     "data": {
      "text/plain": [
       "array([0, 1], dtype=int64)"
      ]
     },
     "metadata": {},
     "output_type": "display_data"
    },
    {
     "name": "stdout",
     "output_type": "stream",
     "text": [
      "Rx_days_HYDROXYCHLOROQUINE\n"
     ]
    },
    {
     "data": {
      "text/plain": [
       "array([0.000e+00, 1.820e+02, 6.990e+02, 1.220e+02, 7.300e+02, 3.650e+03,\n",
       "       3.650e+02, 2.190e+03, 2.555e+03, 9.100e+01, 5.470e+02, 2.100e+01,\n",
       "       4.745e+03, 1.825e+03, 2.920e+03, 1.460e+03, 6.100e+01, 5.475e+03,\n",
       "       3.000e+01, 2.430e+02, 5.110e+03, 3.340e+02, 1.095e+03, 4.380e+03,\n",
       "       1.400e+01, 1.095e+04, 4.860e+02, 4.000e+00, 7.000e+00, 7.300e+03,\n",
       "       2.740e+02, 8.395e+03, 9.125e+03, 1.022e+04])"
      ]
     },
     "metadata": {},
     "output_type": "display_data"
    },
    {
     "name": "stdout",
     "output_type": "stream",
     "text": [
      "Rx_TIZANIDINE\n"
     ]
    },
    {
     "data": {
      "text/plain": [
       "array([0, 1], dtype=int64)"
      ]
     },
     "metadata": {},
     "output_type": "display_data"
    },
    {
     "name": "stdout",
     "output_type": "stream",
     "text": [
      "Rx_days_TIZANIDINE\n"
     ]
    },
    {
     "data": {
      "text/plain": [
       "array([0.000e+00, 3.650e+02, 7.300e+02, 1.220e+02, 3.000e+01, 2.190e+03,\n",
       "       1.460e+03, 1.000e+00, 2.555e+03, 1.095e+03, 1.825e+03, 1.820e+02,\n",
       "       2.000e+00, 9.100e+01, 6.100e+01, 2.500e+01, 2.430e+02, 3.650e+03,\n",
       "       2.100e+01, 7.300e+03, 2.920e+03, 5.470e+02, 1.400e+01, 2.130e+02,\n",
       "       5.475e+03, 4.560e+02, 1.520e+02, 8.000e+00, 2.000e+01])"
      ]
     },
     "metadata": {},
     "output_type": "display_data"
    },
    {
     "name": "stdout",
     "output_type": "stream",
     "text": [
      "Rx_RISEDRONATE\n"
     ]
    },
    {
     "data": {
      "text/plain": [
       "array([0, 1], dtype=int64)"
      ]
     },
     "metadata": {},
     "output_type": "display_data"
    },
    {
     "name": "stdout",
     "output_type": "stream",
     "text": [
      "Rx_days_RISEDRONATE\n"
     ]
    },
    {
     "data": {
      "text/plain": [
       "array([0.000e+00, 7.300e+02, 1.820e+02, 1.520e+02, 9.000e+01, 3.650e+03,\n",
       "       1.095e+03, 5.470e+02, 1.460e+03, 3.650e+02, 1.825e+03, 2.555e+03,\n",
       "       2.100e+01, 6.100e+01, 2.430e+02, 2.000e+01, 5.475e+03, 4.200e+01,\n",
       "       2.920e+03, 7.300e+03, 1.000e+00])"
      ]
     },
     "metadata": {},
     "output_type": "display_data"
    },
    {
     "name": "stdout",
     "output_type": "stream",
     "text": [
      "Rx_BRIMONIDINE OPHTHALMIC\n"
     ]
    },
    {
     "data": {
      "text/plain": [
       "array([0, 1], dtype=int64)"
      ]
     },
     "metadata": {},
     "output_type": "display_data"
    },
    {
     "name": "stdout",
     "output_type": "stream",
     "text": [
      "Rx_days_BRIMONIDINE OPHTHALMIC\n"
     ]
    },
    {
     "data": {
      "text/plain": [
       "array([    0. ,   365. ,   182. ,  5475. ,   730. ,  3650. ,  1460. ,\n",
       "         274. ,  5840. ,   547. ,  1825. ,  1095. ,   243. ,  2920. ,\n",
       "         213. ,    61. ,    30. ,  7300. , 11315. ,  4745. ,  6935. ,\n",
       "         152. ,   426. ,    91. ,  2555. ,  2190. , 10950. ,  1870.5,\n",
       "       18250. ])"
      ]
     },
     "metadata": {},
     "output_type": "display_data"
    },
    {
     "name": "stdout",
     "output_type": "stream",
     "text": [
      "Rx_TIMOLOL OPHTHALMIC\n"
     ]
    },
    {
     "data": {
      "text/plain": [
       "array([0, 1], dtype=int64)"
      ]
     },
     "metadata": {},
     "output_type": "display_data"
    },
    {
     "name": "stdout",
     "output_type": "stream",
     "text": [
      "Rx_days_TIMOLOL OPHTHALMIC\n"
     ]
    },
    {
     "data": {
      "text/plain": [
       "array([0.0000e+00, 4.3800e+03, 1.0950e+04, 7.3000e+02, 1.8200e+02,\n",
       "       1.0950e+03, 1.8250e+03, 5.4750e+03, 3.6500e+03, 5.1100e+03,\n",
       "       2.1900e+03, 5.4700e+02, 8.3950e+03, 1.4600e+03, 7.3000e+03,\n",
       "       6.1000e+01, 9.1000e+01, 3.6500e+02, 2.0000e+00, 5.4800e+02,\n",
       "       1.4235e+04, 3.3400e+02, 2.7400e+02, 4.2000e+01, 2.7525e+03,\n",
       "       2.5550e+03])"
      ]
     },
     "metadata": {},
     "output_type": "display_data"
    },
    {
     "name": "stdout",
     "output_type": "stream",
     "text": [
      "Rx_IPRATROPIUM\n"
     ]
    },
    {
     "data": {
      "text/plain": [
       "array([0, 1], dtype=int64)"
      ]
     },
     "metadata": {},
     "output_type": "display_data"
    },
    {
     "name": "stdout",
     "output_type": "stream",
     "text": [
      "Rx_days_IPRATROPIUM\n"
     ]
    },
    {
     "data": {
      "text/plain": [
       "array([0.000e+00, 6.100e+01, 5.470e+02, 1.820e+02, 1.825e+03, 3.650e+03,\n",
       "       7.000e+00, 1.220e+02, 1.095e+04, 3.650e+02, 5.475e+03, 1.460e+03,\n",
       "       2.190e+03, 7.300e+02, 2.555e+03, 6.205e+03, 1.095e+03, 3.000e+01,\n",
       "       7.300e+03, 4.380e+03, 2.000e+00, 2.920e+03, 3.000e+00, 2.100e+01,\n",
       "       6.570e+03, 1.825e+04])"
      ]
     },
     "metadata": {},
     "output_type": "display_data"
    },
    {
     "name": "stdout",
     "output_type": "stream",
     "text": [
      "Rx_ROPINIROLE\n"
     ]
    },
    {
     "data": {
      "text/plain": [
       "array([0, 1], dtype=int64)"
      ]
     },
     "metadata": {},
     "output_type": "display_data"
    },
    {
     "name": "stdout",
     "output_type": "stream",
     "text": [
      "Rx_days_ROPINIROLE\n"
     ]
    },
    {
     "data": {
      "text/plain": [
       "array([0.000e+00, 3.000e+01, 2.100e+01, 6.100e+01, 7.300e+02, 3.650e+02,\n",
       "       1.095e+03, 1.825e+03, 1.400e+01, 4.200e+01, 1.000e+00, 1.220e+02,\n",
       "       9.100e+01, 1.460e+03, 1.520e+02, 3.650e+03, 2.920e+03, 1.820e+02,\n",
       "       2.190e+03, 3.285e+03, 7.000e+00, 2.555e+03, 5.475e+03, 1.200e+01,\n",
       "       8.210e+02, 2.000e+00, 7.300e+03])"
      ]
     },
     "metadata": {},
     "output_type": "display_data"
    },
    {
     "name": "stdout",
     "output_type": "stream",
     "text": [
      "Rx_CEFDINIR\n"
     ]
    },
    {
     "data": {
      "text/plain": [
       "array([0, 1], dtype=int64)"
      ]
     },
     "metadata": {},
     "output_type": "display_data"
    },
    {
     "name": "stdout",
     "output_type": "stream",
     "text": [
      "Rx_days_CEFDINIR\n"
     ]
    },
    {
     "data": {
      "text/plain": [
       "array([   0.,    7.,   30.,   14.,   10.,    2., 1095.,    8.])"
      ]
     },
     "metadata": {},
     "output_type": "display_data"
    },
    {
     "name": "stdout",
     "output_type": "stream",
     "text": [
      "Rx_INSULIN ISOPHANE; INSULIN REGULAR\n"
     ]
    },
    {
     "data": {
      "text/plain": [
       "array([0, 1], dtype=int64)"
      ]
     },
     "metadata": {},
     "output_type": "display_data"
    },
    {
     "name": "stdout",
     "output_type": "stream",
     "text": [
      "Rx_days_INSULIN ISOPHANE; INSULIN REGULAR\n"
     ]
    },
    {
     "data": {
      "text/plain": [
       "array([    0.,  5475.,  2555.,   213.,  3285.,  1095.,  3650.,  2920.,\n",
       "        6570., 10950.,  5840.,  5110.,  4380.,   182.,  1460.,  2190.,\n",
       "         365.,   730.,  7300.,   274.,  1825.,   243.,  6205.,  4745.,\n",
       "        4015.,  9125.,  8030.,    61., 14235.,  8395.,   334.])"
      ]
     },
     "metadata": {},
     "output_type": "display_data"
    },
    {
     "name": "stdout",
     "output_type": "stream",
     "text": [
      "Rx_GLYBURIDE; METFORMIN\n"
     ]
    },
    {
     "data": {
      "text/plain": [
       "array([0, 1], dtype=int64)"
      ]
     },
     "metadata": {},
     "output_type": "display_data"
    },
    {
     "name": "stdout",
     "output_type": "stream",
     "text": [
      "Rx_days_GLYBURIDE; METFORMIN\n"
     ]
    },
    {
     "data": {
      "text/plain": [
       "array([   0.,  730., 1095.,  547.,  365., 7300., 2920., 1825., 2555.,\n",
       "         61.,  213., 1460., 6570., 3650., 2190., 5475., 4380.,   91.,\n",
       "        122., 6205., 5110.,   21., 9490.,  274., 4015., 4745.,   30.,\n",
       "        578.])"
      ]
     },
     "metadata": {},
     "output_type": "display_data"
    },
    {
     "name": "stdout",
     "output_type": "stream",
     "text": [
      "Rx_TRIAMCINOLONE TOPICAL\n"
     ]
    },
    {
     "data": {
      "text/plain": [
       "array([0, 1], dtype=int64)"
      ]
     },
     "metadata": {},
     "output_type": "display_data"
    },
    {
     "name": "stdout",
     "output_type": "stream",
     "text": [
      "Rx_days_TRIAMCINOLONE TOPICAL\n"
     ]
    },
    {
     "data": {
      "text/plain": [
       "array([0.000e+00, 1.820e+02, 3.650e+03, 6.100e+01, 1.095e+03, 7.300e+02,\n",
       "       1.825e+03, 3.000e+01, 2.555e+03, 3.650e+02, 1.400e+01, 2.190e+03,\n",
       "       9.125e+03, 1.000e+01, 6.570e+03, 5.470e+02, 9.100e+01, 7.000e+00,\n",
       "       1.460e+03, 5.475e+03, 1.095e+04, 2.000e+00, 1.220e+02, 1.460e+04])"
      ]
     },
     "metadata": {},
     "output_type": "display_data"
    },
    {
     "name": "stdout",
     "output_type": "stream",
     "text": [
      "Rx_COLCHICINE\n"
     ]
    },
    {
     "data": {
      "text/plain": [
       "array([0, 1], dtype=int64)"
      ]
     },
     "metadata": {},
     "output_type": "display_data"
    },
    {
     "name": "stdout",
     "output_type": "stream",
     "text": [
      "Rx_days_COLCHICINE\n"
     ]
    },
    {
     "data": {
      "text/plain": [
       "array([0.000e+00, 2.555e+03, 5.110e+03, 7.300e+02, 7.000e+00, 1.820e+02,\n",
       "       6.100e+01, 3.650e+03, 5.000e+00, 2.430e+02, 1.220e+02, 3.000e+01,\n",
       "       3.650e+02, 9.120e+02, 1.095e+03, 7.300e+03, 2.920e+03, 1.400e+01,\n",
       "       1.825e+03, 1.460e+03, 2.190e+03, 9.100e+01, 8.760e+03, 4.200e+01,\n",
       "       5.475e+03, 3.285e+03, 1.000e+01, 1.520e+02])"
      ]
     },
     "metadata": {},
     "output_type": "display_data"
    },
    {
     "name": "stdout",
     "output_type": "stream",
     "text": [
      "Rx_ACYCLOVIR\n"
     ]
    },
    {
     "data": {
      "text/plain": [
       "array([0, 1], dtype=int64)"
      ]
     },
     "metadata": {},
     "output_type": "display_data"
    },
    {
     "name": "stdout",
     "output_type": "stream",
     "text": [
      "Rx_days_ACYCLOVIR\n"
     ]
    },
    {
     "data": {
      "text/plain": [
       "array([0.000e+00, 3.650e+03, 1.820e+02, 1.825e+03, 1.095e+03, 1.000e+00,\n",
       "       5.475e+03, 7.300e+03, 5.000e+00, 7.300e+02, 1.400e+01, 3.000e+00,\n",
       "       2.430e+02, 3.040e+02, 3.000e+01, 7.000e+00, 5.470e+02, 9.100e+01,\n",
       "       2.000e+00, 6.205e+03, 4.380e+03, 3.650e+02, 1.000e+01, 4.260e+02,\n",
       "       6.600e+01, 1.460e+03, 1.220e+02, 9.125e+03, 1.095e+04, 5.110e+03,\n",
       "       6.100e+01, 1.520e+02, 2.100e+01, 3.285e+03])"
      ]
     },
     "metadata": {},
     "output_type": "display_data"
    },
    {
     "name": "stdout",
     "output_type": "stream",
     "text": [
      "Rx_RALOXIFENE\n"
     ]
    },
    {
     "data": {
      "text/plain": [
       "array([0, 1], dtype=int64)"
      ]
     },
     "metadata": {},
     "output_type": "display_data"
    },
    {
     "name": "stdout",
     "output_type": "stream",
     "text": [
      "Rx_days_RALOXIFENE\n"
     ]
    },
    {
     "data": {
      "text/plain": [
       "array([    0.,   730.,  1460.,  1825.,  2555.,  5475.,   182.,  1095.,\n",
       "        3650.,  7300.,    91.,   365.,  3285.,  2920.,   122.,  4380.,\n",
       "        2190.,    30.,  9125.,    61.,   334., 18250., 14600.,  4015.,\n",
       "        6570., 10950.])"
      ]
     },
     "metadata": {},
     "output_type": "display_data"
    },
    {
     "name": "stdout",
     "output_type": "stream",
     "text": [
      "Rx_RABEPRAZOLE\n"
     ]
    },
    {
     "data": {
      "text/plain": [
       "array([0, 1], dtype=int64)"
      ]
     },
     "metadata": {},
     "output_type": "display_data"
    },
    {
     "name": "stdout",
     "output_type": "stream",
     "text": [
      "Rx_days_RABEPRAZOLE\n"
     ]
    },
    {
     "data": {
      "text/plain": [
       "array([0.000e+00, 1.825e+03, 3.650e+02, 1.460e+03, 1.095e+03, 5.000e+00,\n",
       "       7.300e+02, 9.125e+03, 1.000e+00, 6.100e+01, 7.000e+00, 3.000e+01,\n",
       "       4.000e+00, 3.650e+03, 2.430e+02, 3.000e+00, 2.190e+03, 4.500e+01,\n",
       "       5.470e+02, 3.340e+02, 9.120e+02, 1.400e+01, 5.475e+03, 2.555e+03,\n",
       "       1.900e+01, 5.110e+03, 1.820e+02, 1.220e+02])"
      ]
     },
     "metadata": {},
     "output_type": "display_data"
    },
    {
     "name": "stdout",
     "output_type": "stream",
     "text": [
      "Rx_NITROFURANTOIN\n"
     ]
    },
    {
     "data": {
      "text/plain": [
       "array([0, 1], dtype=int64)"
      ]
     },
     "metadata": {},
     "output_type": "display_data"
    },
    {
     "name": "stdout",
     "output_type": "stream",
     "text": [
      "Rx_days_NITROFURANTOIN\n"
     ]
    },
    {
     "data": {
      "text/plain": [
       "array([0.000e+00, 2.555e+03, 3.000e+01, 1.400e+01, 6.100e+01, 7.300e+02,\n",
       "       1.825e+03, 5.470e+02, 4.000e+00, 2.000e+00, 1.000e+01, 1.095e+03,\n",
       "       1.820e+02, 7.000e+00, 5.475e+03, 1.000e+00, 2.190e+03, 3.650e+02,\n",
       "       9.125e+03, 8.000e+00, 4.380e+03, 3.000e+00, 2.920e+03, 1.460e+03,\n",
       "       9.100e+01, 7.300e+03, 2.430e+02, 5.000e+00])"
      ]
     },
     "metadata": {},
     "output_type": "display_data"
    },
    {
     "name": "stdout",
     "output_type": "stream",
     "text": [
      "Rx_TRIAMTERENE\n"
     ]
    },
    {
     "data": {
      "text/plain": [
       "array([0, 1], dtype=int64)"
      ]
     },
     "metadata": {},
     "output_type": "display_data"
    },
    {
     "name": "stdout",
     "output_type": "stream",
     "text": [
      "Rx_days_TRIAMTERENE\n"
     ]
    },
    {
     "data": {
      "text/plain": [
       "array([    0.,  1460.,  1095.,  5475.,  1825.,  3650.,   122.,  6205.,\n",
       "        9125.,   730.,   152.,  4380.,  4015.,  2190.,   182.,    61.,\n",
       "        7300., 10950.,    30.,  2920.,  3285.,    91.,   365.,  2555.,\n",
       "         547.,  6570.,   243.,   548., 10220.])"
      ]
     },
     "metadata": {},
     "output_type": "display_data"
    },
    {
     "name": "stdout",
     "output_type": "stream",
     "text": [
      "Rx_TOLTERODINE\n"
     ]
    },
    {
     "data": {
      "text/plain": [
       "array([0, 1], dtype=int64)"
      ]
     },
     "metadata": {},
     "output_type": "display_data"
    },
    {
     "name": "stdout",
     "output_type": "stream",
     "text": [
      "Rx_days_TOLTERODINE\n"
     ]
    },
    {
     "data": {
      "text/plain": [
       "array([   0.,  730.,  365., 1825.,  243.,   61., 1095.,   91.,  182.,\n",
       "         30.,  547., 3650.,  152., 2920., 2190., 1460.,  912.,  122.,\n",
       "       4380., 2555., 9125.,  456., 5475.,  334., 7300.])"
      ]
     },
     "metadata": {},
     "output_type": "display_data"
    },
    {
     "name": "stdout",
     "output_type": "stream",
     "text": [
      "Rx_SUMATRIPTAN\n"
     ]
    },
    {
     "data": {
      "text/plain": [
       "array([0, 1], dtype=int64)"
      ]
     },
     "metadata": {},
     "output_type": "display_data"
    },
    {
     "name": "stdout",
     "output_type": "stream",
     "text": [
      "Rx_days_SUMATRIPTAN\n"
     ]
    },
    {
     "data": {
      "text/plain": [
       "array([0.0000e+00, 2.4300e+02, 3.6500e+03, 2.1900e+03, 5.4750e+03,\n",
       "       5.4700e+02, 1.2775e+03, 2.9200e+03, 1.8250e+03, 1.0950e+03,\n",
       "       7.3000e+02, 7.3000e+03, 3.6500e+02, 2.5550e+03, 1.4600e+03,\n",
       "       6.1000e+01, 3.0000e+01, 9.1250e+03, 4.7450e+03, 4.3800e+03,\n",
       "       1.2200e+02, 9.1000e+01, 3.9500e+02, 1.8200e+02, 8.7600e+03,\n",
       "       3.0400e+02, 2.5700e+03, 8.3950e+03, 2.0000e+00, 9.0000e+01,\n",
       "       5.0000e+00, 1.0950e+04])"
      ]
     },
     "metadata": {},
     "output_type": "display_data"
    },
    {
     "name": "stdout",
     "output_type": "stream",
     "text": [
      "Rx_PREDNISOLONE\n"
     ]
    },
    {
     "data": {
      "text/plain": [
       "array([0, 1], dtype=int64)"
      ]
     },
     "metadata": {},
     "output_type": "display_data"
    },
    {
     "name": "stdout",
     "output_type": "stream",
     "text": [
      "Rx_days_PREDNISOLONE\n"
     ]
    },
    {
     "data": {
      "text/plain": [
       "array([0.00e+00, 2.10e+01, 5.11e+03, 3.65e+02, 9.10e+01, 3.00e+01,\n",
       "       7.30e+02, 3.00e+00, 7.00e+00])"
      ]
     },
     "metadata": {},
     "output_type": "display_data"
    },
    {
     "name": "stdout",
     "output_type": "stream",
     "text": [
      "Rx_ISOSORBIDE\n"
     ]
    },
    {
     "data": {
      "text/plain": [
       "array([0, 1], dtype=int64)"
      ]
     },
     "metadata": {},
     "output_type": "display_data"
    },
    {
     "name": "stdout",
     "output_type": "stream",
     "text": [
      "Rx_days_ISOSORBIDE\n"
     ]
    },
    {
     "data": {
      "text/plain": [
       "array([    0.,  2190.,   547.,  1825.,   730.,  7300.,  1095., 14600.,\n",
       "          61.,  1460.,   608.,  3650.,   182.,   365.,   152.,   213.,\n",
       "        5475.,   334., 10220.,  2555.,    91.,  2920.,  4380.,  4015.,\n",
       "          30.])"
      ]
     },
     "metadata": {},
     "output_type": "display_data"
    },
    {
     "name": "stdout",
     "output_type": "stream",
     "text": [
      "Rx_DROSPIRENONE; ETHINYL ESTRADIOL\n"
     ]
    },
    {
     "data": {
      "text/plain": [
       "array([0, 1], dtype=int64)"
      ]
     },
     "metadata": {},
     "output_type": "display_data"
    },
    {
     "name": "stdout",
     "output_type": "stream",
     "text": [
      "Rx_days_DROSPIRENONE; ETHINYL ESTRADIOL\n"
     ]
    },
    {
     "data": {
      "text/plain": [
       "array([0.000e+00, 7.300e+02, 1.460e+03, 4.260e+02, 1.825e+03, 3.650e+02,\n",
       "       6.100e+01, 1.220e+02, 1.820e+02, 9.100e+01, 3.000e+01, 1.095e+03,\n",
       "       7.000e+00, 4.000e+00, 2.430e+02, 3.650e+03, 2.555e+03, 1.520e+02,\n",
       "       5.470e+02, 2.740e+02, 4.380e+03, 2.920e+03, 4.015e+03, 9.120e+02,\n",
       "       5.475e+03, 2.190e+03, 1.700e+01])"
      ]
     },
     "metadata": {},
     "output_type": "display_data"
    },
    {
     "name": "stdout",
     "output_type": "stream",
     "text": [
      "Rx_ACETAMINOPHEN; PROPOXYPHENE\n"
     ]
    },
    {
     "data": {
      "text/plain": [
       "array([0, 1], dtype=int64)"
      ]
     },
     "metadata": {},
     "output_type": "display_data"
    },
    {
     "name": "stdout",
     "output_type": "stream",
     "text": [
      "Rx_days_ACETAMINOPHEN; PROPOXYPHENE\n"
     ]
    },
    {
     "data": {
      "text/plain": [
       "array([0.0000e+00, 1.8250e+03, 1.4000e+01, 5.4750e+03, 6.1000e+01,\n",
       "       1.5200e+02, 3.6500e+02, 2.5000e+01, 4.2000e+01, 1.0950e+04,\n",
       "       3.0000e+01, 7.3000e+02, 2.1900e+03, 4.3800e+03, 1.2200e+02,\n",
       "       7.3000e+03, 3.6500e+03, 1.0950e+03, 2.0000e+01, 1.0000e+00,\n",
       "       1.4600e+03, 1.8200e+02, 3.2850e+03, 5.0000e+00, 4.7450e+03,\n",
       "       1.2775e+04, 5.4700e+02, 2.4300e+02, 6.6900e+02, 1.6750e+02,\n",
       "       4.0150e+03, 7.0000e+00, 6.0000e+00, 3.0000e+00, 1.7000e+01,\n",
       "       8.0000e+00, 5.1100e+03, 2.7400e+02, 9.1000e+01, 3.9500e+02])"
      ]
     },
     "metadata": {},
     "output_type": "display_data"
    },
    {
     "name": "stdout",
     "output_type": "stream",
     "text": [
      "Rx_PENICILLIN\n"
     ]
    },
    {
     "data": {
      "text/plain": [
       "array([0, 1], dtype=int64)"
      ]
     },
     "metadata": {},
     "output_type": "display_data"
    },
    {
     "name": "stdout",
     "output_type": "stream",
     "text": [
      "Rx_days_PENICILLIN\n"
     ]
    },
    {
     "data": {
      "text/plain": [
       "array([0.000e+00, 1.000e+01, 1.400e+01, 2.800e+01, 3.000e+01, 3.650e+03,\n",
       "       2.100e+01, 4.000e+00, 5.000e+00, 1.200e+01, 8.000e+00, 3.000e+00,\n",
       "       6.000e+00, 1.095e+03, 7.000e+00, 2.000e+00, 9.100e+01, 2.000e+01,\n",
       "       1.000e+00, 1.500e+01])"
      ]
     },
     "metadata": {},
     "output_type": "display_data"
    },
    {
     "name": "stdout",
     "output_type": "stream",
     "text": [
      "Rx_INSULIN REGULAR\n"
     ]
    },
    {
     "data": {
      "text/plain": [
       "array([0, 1], dtype=int64)"
      ]
     },
     "metadata": {},
     "output_type": "display_data"
    },
    {
     "name": "stdout",
     "output_type": "stream",
     "text": [
      "Rx_days_INSULIN REGULAR\n"
     ]
    },
    {
     "data": {
      "text/plain": [
       "array([0.000e+00, 2.190e+03, 5.840e+03, 2.920e+03, 5.475e+03, 7.300e+03,\n",
       "       3.000e+01, 1.095e+03, 3.650e+02, 3.650e+03, 4.380e+03, 7.300e+02,\n",
       "       7.665e+03, 1.400e+01, 8.030e+03, 1.825e+03, 3.000e+00, 2.555e+03,\n",
       "       4.015e+03, 8.395e+03, 1.460e+04, 9.125e+03, 1.520e+02, 1.220e+02,\n",
       "       1.095e+04, 6.100e+01, 3.285e+03, 1.460e+03, 7.000e+00])"
      ]
     },
     "metadata": {},
     "output_type": "display_data"
    },
    {
     "name": "stdout",
     "output_type": "stream",
     "text": [
      "Rx_MEMANTINE\n"
     ]
    },
    {
     "data": {
      "text/plain": [
       "array([0, 1], dtype=int64)"
      ]
     },
     "metadata": {},
     "output_type": "display_data"
    },
    {
     "name": "stdout",
     "output_type": "stream",
     "text": [
      "Rx_days_MEMANTINE\n"
     ]
    },
    {
     "data": {
      "text/plain": [
       "array([0.000e+00, 1.095e+03, 6.100e+01, 1.820e+02, 1.000e+00, 1.825e+03,\n",
       "       2.555e+03, 1.460e+03, 4.560e+02, 3.650e+03, 2.920e+03, 2.740e+02,\n",
       "       3.650e+02, 7.300e+02, 2.190e+03, 2.130e+02, 3.000e+01, 1.600e+01,\n",
       "       5.470e+02])"
      ]
     },
     "metadata": {},
     "output_type": "display_data"
    },
    {
     "name": "stdout",
     "output_type": "stream",
     "text": [
      "Rx_DIPHENHYDRAMINE\n"
     ]
    },
    {
     "data": {
      "text/plain": [
       "array([0, 1], dtype=int64)"
      ]
     },
     "metadata": {},
     "output_type": "display_data"
    },
    {
     "name": "stdout",
     "output_type": "stream",
     "text": [
      "Rx_days_DIPHENHYDRAMINE\n"
     ]
    },
    {
     "data": {
      "text/plain": [
       "array([0.000e+00, 9.100e+01, 2.430e+02, 3.285e+03, 2.555e+03, 1.460e+03,\n",
       "       3.040e+02, 1.095e+03, 3.000e+01, 3.000e+00, 1.825e+03, 3.650e+02,\n",
       "       2.000e+00, 4.015e+03, 6.100e+01, 7.000e+00, 2.920e+03, 8.760e+03,\n",
       "       1.820e+02, 5.475e+03, 3.650e+03, 7.300e+03, 7.300e+02, 5.110e+03])"
      ]
     },
     "metadata": {},
     "output_type": "display_data"
    },
    {
     "name": "stdout",
     "output_type": "stream",
     "text": [
      "Rx_MINOCYCLINE\n"
     ]
    },
    {
     "data": {
      "text/plain": [
       "array([0, 1], dtype=int64)"
      ]
     },
     "metadata": {},
     "output_type": "display_data"
    },
    {
     "name": "stdout",
     "output_type": "stream",
     "text": [
      "Rx_days_MINOCYCLINE\n"
     ]
    },
    {
     "data": {
      "text/plain": [
       "array([0.000e+00, 1.220e+02, 1.095e+03, 7.300e+02, 3.000e+01, 3.650e+02,\n",
       "       1.820e+02, 2.920e+03, 5.170e+02, 1.460e+03, 6.100e+01, 3.650e+03,\n",
       "       5.470e+02, 1.825e+03, 3.000e+00, 3.340e+02, 7.000e+00, 9.100e+01,\n",
       "       4.000e+00, 2.100e+01, 4.015e+03, 1.400e+01, 7.300e+03, 2.430e+02,\n",
       "       2.700e+01])"
      ]
     },
     "metadata": {},
     "output_type": "display_data"
    },
    {
     "name": "stdout",
     "output_type": "stream",
     "text": [
      "Rx_METHOCARBAMOL\n"
     ]
    },
    {
     "data": {
      "text/plain": [
       "array([0, 1], dtype=int64)"
      ]
     },
     "metadata": {},
     "output_type": "display_data"
    },
    {
     "name": "stdout",
     "output_type": "stream",
     "text": [
      "Rx_days_METHOCARBAMOL\n"
     ]
    },
    {
     "data": {
      "text/plain": [
       "array([0.000e+00, 1.220e+02, 3.650e+03, 3.000e+01, 4.380e+03, 1.095e+03,\n",
       "       1.820e+02, 5.840e+03, 1.400e+01, 3.650e+02, 7.300e+03, 2.100e+01,\n",
       "       4.200e+01, 1.460e+03, 7.300e+02, 5.470e+02, 5.000e+00, 2.130e+02,\n",
       "       1.825e+03, 2.000e+00, 2.430e+02, 6.570e+03, 6.100e+01, 1.520e+02,\n",
       "       6.000e+01, 5.110e+03, 6.000e+00, 1.000e+00, 4.745e+03, 2.555e+03,\n",
       "       8.760e+03, 5.480e+02, 5.600e+01, 2.190e+03, 3.285e+03])"
      ]
     },
     "metadata": {},
     "output_type": "display_data"
    }
   ],
   "source": [
    "# Looking at what values to change for graphing in the app\n",
    "for col in df.columns:\n",
    "    print(col)\n",
    "    display(df[col].unique())"
   ]
  },
  {
   "cell_type": "code",
   "execution_count": 13,
   "metadata": {
    "ExecuteTime": {
     "end_time": "2021-02-16T05:41:34.848039Z",
     "start_time": "2021-02-16T05:41:34.805022Z"
    }
   },
   "outputs": [],
   "source": [
    "# Changing values for readability\n",
    "df.gender.replace({0: 'Male', 1:'Female'}, inplace=True)"
   ]
  },
  {
   "cell_type": "code",
   "execution_count": 14,
   "metadata": {
    "ExecuteTime": {
     "end_time": "2021-02-16T05:41:35.453369Z",
     "start_time": "2021-02-16T05:41:35.416464Z"
    }
   },
   "outputs": [],
   "source": [
    "# Changing values for readability\n",
    "df.household_income.replace({0:'Missing', \n",
    "                             1:'Below $5K', \n",
    "                             2:'Below $10K', \n",
    "                             3:'Below $15K', \n",
    "                             4:'Below $20K', \n",
    "                             5:'Below $25K', \n",
    "                             6:'Below $35K', \n",
    "                             7:'Below $45K', \n",
    "                             8:'Below $55K', \n",
    "                             9:'Below $65K', \n",
    "                             10:'Below $75K',\n",
    "                             11:'$75K+',\n",
    "                             12:'Over $20K', \n",
    "                             13:'Under $20K', \n",
    "                             14:'Below $100K', \n",
    "                             15:'$100K+'}, inplace=True)"
   ]
  },
  {
   "cell_type": "code",
   "execution_count": 15,
   "metadata": {
    "ExecuteTime": {
     "end_time": "2021-02-16T05:41:36.190922Z",
     "start_time": "2021-02-16T05:41:36.159019Z"
    }
   },
   "outputs": [],
   "source": [
    "# Changing values for readability\n",
    "df.current_smoker.replace({0:'Missing', \n",
    "                           1:'Never', \n",
    "                           2:'Some Days', \n",
    "                           3:'Every Day'}, inplace=True)"
   ]
  },
  {
   "cell_type": "code",
   "execution_count": 16,
   "metadata": {
    "ExecuteTime": {
     "end_time": "2021-02-16T05:41:37.075876Z",
     "start_time": "2021-02-16T05:41:37.029791Z"
    }
   },
   "outputs": [],
   "source": [
    "# Changing values for readability\n",
    "df.cocaine_number_uses.replace({0:'Missing', \n",
    "                                1:'Once', \n",
    "                                2:'2-5', \n",
    "                                3:'6-19', \n",
    "                                4:'20-49', \n",
    "                                5:'50-99', \n",
    "                                6:'110+'}, inplace=True)"
   ]
  },
  {
   "cell_type": "code",
   "execution_count": 17,
   "metadata": {
    "ExecuteTime": {
     "end_time": "2021-02-16T05:41:38.566615Z",
     "start_time": "2021-02-16T05:41:38.502658Z"
    }
   },
   "outputs": [],
   "source": [
    "# Changing values for readability\n",
    "df.meth_number_uses.replace({0:'Missing', \n",
    "                                1:'Once', \n",
    "                                2:'2-5', \n",
    "                                3:'6-19', \n",
    "                                4:'20-49', \n",
    "                                5:'50-99', \n",
    "                                6:'110+'}, inplace=True)"
   ]
  },
  {
   "cell_type": "code",
   "execution_count": 19,
   "metadata": {
    "ExecuteTime": {
     "end_time": "2021-02-16T05:41:47.293641Z",
     "start_time": "2021-02-16T05:41:47.257614Z"
    }
   },
   "outputs": [],
   "source": [
    "df.education_level.replace({0:'Missing', \n",
    "                            1:'Less Than 9th Grade', \n",
    "                            2:'9-11th Grade', \n",
    "                            3:'High School', \n",
    "                            4:'Some College or AA Degree', \n",
    "                            5:'College Graduate or Above'}, inplace=True)"
   ]
  },
  {
   "cell_type": "code",
   "execution_count": 20,
   "metadata": {
    "ExecuteTime": {
     "end_time": "2021-02-16T05:41:49.587407Z",
     "start_time": "2021-02-16T05:41:49.392249Z"
    }
   },
   "outputs": [],
   "source": [
    "# Creating a list of the columns coded with 1 and 0 as yes and no\n",
    "yes_no_cols = list(df.columns)\n",
    "temp_list = [0, 1]\n",
    "for col in df.columns:\n",
    "    x = list(sorted(df[col].unique()))\n",
    "    if x != temp_list:\n",
    "        yes_no_cols.remove(col)"
   ]
  },
  {
   "cell_type": "code",
   "execution_count": 21,
   "metadata": {
    "ExecuteTime": {
     "end_time": "2021-02-16T05:41:54.980035Z",
     "start_time": "2021-02-16T05:41:54.968035Z"
    },
    "scrolled": true
   },
   "outputs": [
    {
     "data": {
      "text/plain": [
       "['asthma',\n",
       " 'asthma_currently',\n",
       " 'asthma_emergency',\n",
       " 'anemia',\n",
       " 'ever_overweight',\n",
       " 'blood_transfusion',\n",
       " 'arthritis',\n",
       " 'heart_failure',\n",
       " 'heart_disease',\n",
       " 'angina',\n",
       " 'heart_attack',\n",
       " 'stroke',\n",
       " 'emphysema',\n",
       " 'bronchitis',\n",
       " 'liver_condition',\n",
       " 'thyroid_problem',\n",
       " 'bronchitis_currently',\n",
       " 'liver_condition_currently',\n",
       " 'thyroid_problem_currently',\n",
       " 'cancer',\n",
       " 'fourth_cancer_count',\n",
       " 'heart_attack_relative',\n",
       " 'asthma_relative',\n",
       " 'diabetes_relative',\n",
       " 'hay_fever',\n",
       " 'first_cancer_count',\n",
       " 'second_cancer_count',\n",
       " 'third_cancer_count',\n",
       " 'irregular_pulse',\n",
       " 'trouble_sleeping_history',\n",
       " 'vigorous_work',\n",
       " 'moderate_work',\n",
       " 'cant_work',\n",
       " 'limited_work',\n",
       " 'walking_equipment',\n",
       " 'memory_problems',\n",
       " 'limitations',\n",
       " 'healthcare_equipment',\n",
       " 'health_problem_Other Impairment',\n",
       " 'health_problem_Bone or Joint',\n",
       " 'health_problem_Weight',\n",
       " 'health_problem_Back or Neck',\n",
       " 'health_problem_Arthritis',\n",
       " 'health_problem_Cancer',\n",
       " 'health_problem_Other Injury',\n",
       " 'health_problem_Breathing',\n",
       " 'health_problem_Stroke',\n",
       " 'health_problem_Blood Pressure',\n",
       " 'health_problem_Mental Retardation',\n",
       " 'health_problem_Hearing',\n",
       " 'health_problem_Heart',\n",
       " 'health_problem_Vision',\n",
       " 'health_problem_Diabetes',\n",
       " 'health_problem_Birth Defect',\n",
       " 'health_problem_Senility',\n",
       " 'health_problem_Other Developmental',\n",
       " 'marijuana_use',\n",
       " 'cocaine_use',\n",
       " 'heroine_use',\n",
       " 'meth_use',\n",
       " 'inject_drugs',\n",
       " 'rehab_program',\n",
       " 'Rx_LISINOPRIL',\n",
       " 'Rx_METFORMIN',\n",
       " 'Rx_ALBUTEROL',\n",
       " 'Rx_LEVOTHYROXINE',\n",
       " 'Rx_SIMVASTATIN',\n",
       " 'Rx_ATORVASTATIN',\n",
       " 'Rx_METOPROLOL',\n",
       " 'Rx_AMLODIPINE',\n",
       " 'Rx_OMEPRAZOLE',\n",
       " 'Rx_HYDROCHLOROTHIAZIDE',\n",
       " 'Rx_FUROSEMIDE',\n",
       " 'Rx_ATENOLOL',\n",
       " 'Rx_LOSARTAN',\n",
       " 'Rx_MONTELUKAST',\n",
       " 'Rx_AMOXICILLIN',\n",
       " 'Rx_ACETAMINOPHEN; HYDROCODONE',\n",
       " 'Rx_GABAPENTIN',\n",
       " 'Rx_POTASSIUM CHLORIDE',\n",
       " 'Rx_GLIPIZIDE',\n",
       " 'Rx_IBUPROFEN',\n",
       " 'Rx_RANITIDINE',\n",
       " 'Rx_CLOPIDOGREL',\n",
       " 'Rx_PRAVASTATIN',\n",
       " 'Rx_WARFARIN',\n",
       " 'Rx_ESOMEPRAZOLE',\n",
       " 'Rx_FLUTICASONE NASAL',\n",
       " 'Rx_CARVEDILOL',\n",
       " 'Rx_ROSUVASTATIN',\n",
       " 'Rx_INSULIN GLARGINE',\n",
       " 'Rx_CETIRIZINE',\n",
       " 'Rx_FLUTICASONE; SALMETEROL',\n",
       " 'Rx_TAMSULOSIN',\n",
       " 'Rx_PANTOPRAZOLE',\n",
       " 'Rx_TRAMADOL',\n",
       " 'Rx_ALPRAZOLAM',\n",
       " 'Rx_HYDROCHLOROTHIAZIDE; LISINOPRIL',\n",
       " 'Rx_LOVASTATIN',\n",
       " 'Rx_PREDNISONE',\n",
       " 'Rx_ALLOPURINOL',\n",
       " 'Rx_NAPROXEN',\n",
       " 'Rx_VALSARTAN',\n",
       " 'Rx_ASPIRIN',\n",
       " 'Rx_ZOLPIDEM',\n",
       " 'Rx_CYCLOBENZAPRINE',\n",
       " 'Rx_DILTIAZEM',\n",
       " 'Rx_ALENDRONATE',\n",
       " 'Rx_CLONIDINE',\n",
       " 'Rx_LANSOPRAZOLE',\n",
       " 'Rx_MELOXICAM',\n",
       " 'Rx_METHYLPHENIDATE',\n",
       " 'Rx_HYDROCHLOROTHIAZIDE; TRIAMTERENE',\n",
       " 'Rx_GLIMEPIRIDE',\n",
       " 'Rx_CLONAZEPAM',\n",
       " 'Rx_PIOGLITAZONE',\n",
       " 'Rx_ENALAPRIL',\n",
       " 'Rx_FENOFIBRATE',\n",
       " 'Rx_FLUTICASONE',\n",
       " 'Rx_GLYBURIDE',\n",
       " 'Rx_HYDROCHLOROTHIAZIDE; LOSARTAN',\n",
       " 'Rx_LORAZEPAM',\n",
       " 'Rx_SPIRONOLACTONE',\n",
       " 'Rx_NIFEDIPINE',\n",
       " 'Rx_AMPHETAMINE; DEXTROAMPHETAMINE',\n",
       " 'Rx_HYDROCODONE',\n",
       " 'Rx_FINASTERIDE',\n",
       " 'Rx_FEXOFENADINE',\n",
       " 'Rx_EZETIMIBE',\n",
       " 'Rx_ETHINYL ESTRADIOL; NORGESTIMATE',\n",
       " 'Rx_DIGOXIN',\n",
       " 'Rx_INSULIN ASPART',\n",
       " 'Rx_ETHINYL ESTRADIOL; NORETHINDRONE',\n",
       " 'Rx_AMLODIPINE; BENAZEPRIL',\n",
       " 'Rx_AZITHROMYCIN',\n",
       " 'Rx_CELECOXIB',\n",
       " 'Rx_RAMIPRIL',\n",
       " 'Rx_BENAZEPRIL',\n",
       " 'Rx_OXYCODONE',\n",
       " 'Rx_TERAZOSIN',\n",
       " 'Rx_FAMOTIDINE',\n",
       " 'Rx_ACETAMINOPHEN; OXYCODONE',\n",
       " 'Rx_EZETIMIBE; SIMVASTATIN',\n",
       " 'Rx_MOMETASONE NASAL',\n",
       " 'Rx_SITAGLIPTIN',\n",
       " 'Rx_HYDROXYZINE',\n",
       " 'Rx_BUDESONIDE',\n",
       " 'Rx_VERAPAMIL',\n",
       " 'Rx_PROPRANOLOL',\n",
       " 'Rx_NITROGLYCERIN',\n",
       " 'Rx_TIOTROPIUM',\n",
       " 'Rx_ISOSORBIDE MONONITRATE',\n",
       " 'Rx_DONEPEZIL',\n",
       " 'Rx_DOXAZOSIN',\n",
       " 'Rx_OXYBUTYNIN',\n",
       " 'Rx_HYDROCHLOROTHIAZIDE; VALSARTAN',\n",
       " 'Rx_ESTRADIOL',\n",
       " 'Rx_DICLOFENAC',\n",
       " 'Rx_LATANOPROST OPHTHALMIC',\n",
       " 'Rx_HYDRALAZINE',\n",
       " 'Rx_OLMESARTAN',\n",
       " 'Rx_SULFAMETHOXAZOLE; TRIMETHOPRIM',\n",
       " 'Rx_CEPHALEXIN',\n",
       " 'Rx_GEMFIBROZIL',\n",
       " 'Rx_INSULIN LISPRO',\n",
       " 'Rx_PREGABALIN',\n",
       " 'Rx_AMOXICILLIN; CLAVULANATE',\n",
       " 'Rx_ALBUTEROL; IPRATROPIUM',\n",
       " 'Rx_CONJUGATED ESTROGENS',\n",
       " 'Rx_DOXYCYCLINE',\n",
       " 'Rx_BECLOMETHASONE',\n",
       " 'Rx_BUSPIRONE',\n",
       " 'Rx_DIAZEPAM',\n",
       " 'Rx_ACETAMINOPHEN; CODEINE',\n",
       " 'Rx_ETHINYL ESTRADIOL; LEVONORGESTREL',\n",
       " 'Rx_QUINAPRIL',\n",
       " 'Rx_INSULIN DETEMIR',\n",
       " 'Rx_BUDESONIDE; FORMOTEROL',\n",
       " 'Rx_MECLIZINE',\n",
       " 'Rx_POLYETHYLENE GLYCOL 3350',\n",
       " 'Rx_BACLOFEN',\n",
       " 'Rx_LISDEXAMFETAMINE',\n",
       " 'Rx_METOCLOPRAMIDE',\n",
       " 'Rx_LEVALBUTEROL',\n",
       " 'Rx_METHOTREXATE',\n",
       " 'Rx_PROMETHAZINE',\n",
       " 'Rx_TEMAZEPAM',\n",
       " 'Rx_LEVETIRACETAM',\n",
       " 'Rx_IRBESARTAN',\n",
       " 'Rx_DOCUSATE',\n",
       " 'Rx_HYDROCHLOROTHIAZIDE; OLMESARTAN',\n",
       " 'Rx_ONDANSETRON',\n",
       " 'Rx_CIPROFLOXACIN',\n",
       " 'Rx_PHENYTOIN',\n",
       " 'Rx_AMIODARONE',\n",
       " 'Rx_NIACIN',\n",
       " 'Rx_HYDROXYCHLOROQUINE',\n",
       " 'Rx_TIZANIDINE',\n",
       " 'Rx_RISEDRONATE',\n",
       " 'Rx_BRIMONIDINE OPHTHALMIC',\n",
       " 'Rx_TIMOLOL OPHTHALMIC',\n",
       " 'Rx_IPRATROPIUM',\n",
       " 'Rx_ROPINIROLE',\n",
       " 'Rx_CEFDINIR',\n",
       " 'Rx_INSULIN ISOPHANE; INSULIN REGULAR',\n",
       " 'Rx_GLYBURIDE; METFORMIN',\n",
       " 'Rx_TRIAMCINOLONE TOPICAL',\n",
       " 'Rx_COLCHICINE',\n",
       " 'Rx_ACYCLOVIR',\n",
       " 'Rx_RALOXIFENE',\n",
       " 'Rx_RABEPRAZOLE',\n",
       " 'Rx_NITROFURANTOIN',\n",
       " 'Rx_TRIAMTERENE',\n",
       " 'Rx_TOLTERODINE',\n",
       " 'Rx_SUMATRIPTAN',\n",
       " 'Rx_PREDNISOLONE',\n",
       " 'Rx_ISOSORBIDE',\n",
       " 'Rx_DROSPIRENONE; ETHINYL ESTRADIOL',\n",
       " 'Rx_ACETAMINOPHEN; PROPOXYPHENE',\n",
       " 'Rx_PENICILLIN',\n",
       " 'Rx_INSULIN REGULAR',\n",
       " 'Rx_MEMANTINE',\n",
       " 'Rx_DIPHENHYDRAMINE',\n",
       " 'Rx_MINOCYCLINE',\n",
       " 'Rx_METHOCARBAMOL']"
      ]
     },
     "execution_count": 21,
     "metadata": {},
     "output_type": "execute_result"
    }
   ],
   "source": [
    "yes_no_cols"
   ]
  },
  {
   "cell_type": "code",
   "execution_count": 22,
   "metadata": {
    "ExecuteTime": {
     "end_time": "2021-02-16T05:42:18.465494Z",
     "start_time": "2021-02-16T05:42:14.343473Z"
    }
   },
   "outputs": [],
   "source": [
    "# Changing values for readability\n",
    "for col in yes_no_cols:\n",
    "    df[col].replace({0:'No', 1:'Yes'}, inplace=True)"
   ]
  },
  {
   "cell_type": "code",
   "execution_count": 23,
   "metadata": {
    "ExecuteTime": {
     "end_time": "2021-02-16T05:42:21.290530Z",
     "start_time": "2021-02-16T05:42:19.381537Z"
    }
   },
   "outputs": [
    {
     "name": "stdout",
     "output_type": "stream",
     "text": [
      "depression\n"
     ]
    },
    {
     "data": {
      "text/plain": [
       "array(['Not Depressed', 'Depressed'], dtype=object)"
      ]
     },
     "metadata": {},
     "output_type": "display_data"
    },
    {
     "name": "stdout",
     "output_type": "stream",
     "text": [
      "gender\n"
     ]
    },
    {
     "data": {
      "text/plain": [
       "array(['Female', 'Male'], dtype=object)"
      ]
     },
     "metadata": {},
     "output_type": "display_data"
    },
    {
     "name": "stdout",
     "output_type": "stream",
     "text": [
      "age\n"
     ]
    },
    {
     "data": {
      "text/plain": [
       "array([44, 70, 73, 18, 19, 21, 85, 79, 59, 27, 62, 38, 71, 39, 54, 37, 33,\n",
       "       46, 22, 72, 60, 51, 47, 25, 43, 20, 23, 53, 50, 61, 64, 34, 30, 56,\n",
       "       40, 58, 35, 49, 52, 78, 36, 65, 76, 80, 57, 41, 66, 24, 28, 83, 68,\n",
       "       29, 55, 67, 48, 69, 45, 42, 63, 31, 75, 74, 26, 32, 82, 77, 81, 84],\n",
       "      dtype=int64)"
      ]
     },
     "metadata": {},
     "output_type": "display_data"
    },
    {
     "name": "stdout",
     "output_type": "stream",
     "text": [
      "race\n"
     ]
    },
    {
     "data": {
      "text/plain": [
       "array(['Black', 'White', 'Other Hispanic', 'Mexican',\n",
       "       'Other and Multiracial'], dtype=object)"
      ]
     },
     "metadata": {},
     "output_type": "display_data"
    },
    {
     "name": "stdout",
     "output_type": "stream",
     "text": [
      "citizenship\n"
     ]
    },
    {
     "data": {
      "text/plain": [
       "array(['Citizen', 'Not Citizen', 'Missing'], dtype=object)"
      ]
     },
     "metadata": {},
     "output_type": "display_data"
    },
    {
     "name": "stdout",
     "output_type": "stream",
     "text": [
      "education_level\n"
     ]
    },
    {
     "data": {
      "text/plain": [
       "array(['Some College or AA Degree', 'College Graduate or Above',\n",
       "       'High School', 'Missing', '9-11th Grade', 'Less Than 9th Grade'],\n",
       "      dtype=object)"
      ]
     },
     "metadata": {},
     "output_type": "display_data"
    },
    {
     "name": "stdout",
     "output_type": "stream",
     "text": [
      "marital_status\n"
     ]
    },
    {
     "data": {
      "text/plain": [
       "array(['Married', 'Never Married', 'Widowed', 'Divorced', 'Separated',\n",
       "       'Partner', 'Missing'], dtype=object)"
      ]
     },
     "metadata": {},
     "output_type": "display_data"
    },
    {
     "name": "stdout",
     "output_type": "stream",
     "text": [
      "household_size\n"
     ]
    },
    {
     "data": {
      "text/plain": [
       "array([4, 2, 3, 6, 1, 5, 7], dtype=int64)"
      ]
     },
     "metadata": {},
     "output_type": "display_data"
    },
    {
     "name": "stdout",
     "output_type": "stream",
     "text": [
      "pregnant\n"
     ]
    },
    {
     "data": {
      "text/plain": [
       "array(['No', 'Missing', 'Yes'], dtype=object)"
      ]
     },
     "metadata": {},
     "output_type": "display_data"
    },
    {
     "name": "stdout",
     "output_type": "stream",
     "text": [
      "birth_place\n"
     ]
    },
    {
     "data": {
      "text/plain": [
       "array(['USA', 'Mexico', 'Elsewhere', 'Other Spanish Country',\n",
       "       'Other Non Spanish Country', 'Missing'], dtype=object)"
      ]
     },
     "metadata": {},
     "output_type": "display_data"
    },
    {
     "name": "stdout",
     "output_type": "stream",
     "text": [
      "veteran\n"
     ]
    },
    {
     "data": {
      "text/plain": [
       "array(['No', 'Yes', 'Missing'], dtype=object)"
      ]
     },
     "metadata": {},
     "output_type": "display_data"
    },
    {
     "name": "stdout",
     "output_type": "stream",
     "text": [
      "household_income\n"
     ]
    },
    {
     "data": {
      "text/plain": [
       "array(['$75K+', 'Below $25K', 'Below $15K', 'Below $5K', 'Below $45K',\n",
       "       'Below $75K', 'Below $55K', 'Below $35K', 'Below $20K',\n",
       "       'Below $10K', 'Below $65K', 'Missing', 'Over $20K'], dtype=object)"
      ]
     },
     "metadata": {},
     "output_type": "display_data"
    },
    {
     "name": "stdout",
     "output_type": "stream",
     "text": [
      "asthma\n"
     ]
    },
    {
     "data": {
      "text/plain": [
       "array(['No', 'Yes'], dtype=object)"
      ]
     },
     "metadata": {},
     "output_type": "display_data"
    },
    {
     "name": "stdout",
     "output_type": "stream",
     "text": [
      "asthma_onset\n"
     ]
    },
    {
     "data": {
      "text/plain": [
       "array([ 0.,  1., 44., 49.,  5., 58., 10., 25., 30., 13., 50., 17.,  8.,\n",
       "       15.,  6.,  7.,  2., 11., 35., 57., 45., 20.,  9., 34., 18., 40.,\n",
       "       47., 14., 37., 16., 28., 19., 12., 38.,  3.,  4., 67., 42., 21.,\n",
       "       48., 60., 72., 29., 52., 26., 54., 70., 46., 22., 62., 85., 65.,\n",
       "       51., 73., 61., 23., 27., 31., 32., 71., 55., 24., 68., 59., 64.,\n",
       "       69., 53., 75., 74., 39., 56., 63., 33., 36., 80., 76., 78., 66.,\n",
       "       77., 41., 43., 79.])"
      ]
     },
     "metadata": {},
     "output_type": "display_data"
    },
    {
     "name": "stdout",
     "output_type": "stream",
     "text": [
      "asthma_currently\n"
     ]
    },
    {
     "data": {
      "text/plain": [
       "array(['No', 'Yes'], dtype=object)"
      ]
     },
     "metadata": {},
     "output_type": "display_data"
    },
    {
     "name": "stdout",
     "output_type": "stream",
     "text": [
      "asthma_emergency\n"
     ]
    },
    {
     "data": {
      "text/plain": [
       "array(['No', 'Yes'], dtype=object)"
      ]
     },
     "metadata": {},
     "output_type": "display_data"
    },
    {
     "name": "stdout",
     "output_type": "stream",
     "text": [
      "anemia\n"
     ]
    },
    {
     "data": {
      "text/plain": [
       "array(['No', 'Yes'], dtype=object)"
      ]
     },
     "metadata": {},
     "output_type": "display_data"
    },
    {
     "name": "stdout",
     "output_type": "stream",
     "text": [
      "ever_overweight\n"
     ]
    },
    {
     "data": {
      "text/plain": [
       "array(['No', 'Yes'], dtype=object)"
      ]
     },
     "metadata": {},
     "output_type": "display_data"
    },
    {
     "name": "stdout",
     "output_type": "stream",
     "text": [
      "blood_transfusion\n"
     ]
    },
    {
     "data": {
      "text/plain": [
       "array(['Yes', 'No'], dtype=object)"
      ]
     },
     "metadata": {},
     "output_type": "display_data"
    },
    {
     "name": "stdout",
     "output_type": "stream",
     "text": [
      "arthritis\n"
     ]
    },
    {
     "data": {
      "text/plain": [
       "array(['No', 'Yes'], dtype=object)"
      ]
     },
     "metadata": {},
     "output_type": "display_data"
    },
    {
     "name": "stdout",
     "output_type": "stream",
     "text": [
      "heart_failure\n"
     ]
    },
    {
     "data": {
      "text/plain": [
       "array(['Yes', 'No'], dtype=object)"
      ]
     },
     "metadata": {},
     "output_type": "display_data"
    },
    {
     "name": "stdout",
     "output_type": "stream",
     "text": [
      "heart_disease\n"
     ]
    },
    {
     "data": {
      "text/plain": [
       "array(['No', 'Yes'], dtype=object)"
      ]
     },
     "metadata": {},
     "output_type": "display_data"
    },
    {
     "name": "stdout",
     "output_type": "stream",
     "text": [
      "angina\n"
     ]
    },
    {
     "data": {
      "text/plain": [
       "array(['No', 'Yes'], dtype=object)"
      ]
     },
     "metadata": {},
     "output_type": "display_data"
    },
    {
     "name": "stdout",
     "output_type": "stream",
     "text": [
      "heart_attack\n"
     ]
    },
    {
     "data": {
      "text/plain": [
       "array(['No', 'Yes'], dtype=object)"
      ]
     },
     "metadata": {},
     "output_type": "display_data"
    },
    {
     "name": "stdout",
     "output_type": "stream",
     "text": [
      "stroke\n"
     ]
    },
    {
     "data": {
      "text/plain": [
       "array(['No', 'Yes'], dtype=object)"
      ]
     },
     "metadata": {},
     "output_type": "display_data"
    },
    {
     "name": "stdout",
     "output_type": "stream",
     "text": [
      "emphysema\n"
     ]
    },
    {
     "data": {
      "text/plain": [
       "array(['No', 'Yes'], dtype=object)"
      ]
     },
     "metadata": {},
     "output_type": "display_data"
    },
    {
     "name": "stdout",
     "output_type": "stream",
     "text": [
      "bronchitis\n"
     ]
    },
    {
     "data": {
      "text/plain": [
       "array(['No', 'Yes'], dtype=object)"
      ]
     },
     "metadata": {},
     "output_type": "display_data"
    },
    {
     "name": "stdout",
     "output_type": "stream",
     "text": [
      "liver_condition\n"
     ]
    },
    {
     "data": {
      "text/plain": [
       "array(['No', 'Yes'], dtype=object)"
      ]
     },
     "metadata": {},
     "output_type": "display_data"
    },
    {
     "name": "stdout",
     "output_type": "stream",
     "text": [
      "thyroid_problem\n"
     ]
    },
    {
     "data": {
      "text/plain": [
       "array(['No', 'Yes'], dtype=object)"
      ]
     },
     "metadata": {},
     "output_type": "display_data"
    },
    {
     "name": "stdout",
     "output_type": "stream",
     "text": [
      "bronchitis_currently\n"
     ]
    },
    {
     "data": {
      "text/plain": [
       "array(['No', 'Yes'], dtype=object)"
      ]
     },
     "metadata": {},
     "output_type": "display_data"
    },
    {
     "name": "stdout",
     "output_type": "stream",
     "text": [
      "liver_condition_currently\n"
     ]
    },
    {
     "data": {
      "text/plain": [
       "array(['No', 'Yes'], dtype=object)"
      ]
     },
     "metadata": {},
     "output_type": "display_data"
    },
    {
     "name": "stdout",
     "output_type": "stream",
     "text": [
      "thyroid_problem_currently\n"
     ]
    },
    {
     "data": {
      "text/plain": [
       "array(['No', 'Yes'], dtype=object)"
      ]
     },
     "metadata": {},
     "output_type": "display_data"
    },
    {
     "name": "stdout",
     "output_type": "stream",
     "text": [
      "cancer\n"
     ]
    },
    {
     "data": {
      "text/plain": [
       "array(['No', 'Yes'], dtype=object)"
      ]
     },
     "metadata": {},
     "output_type": "display_data"
    },
    {
     "name": "stdout",
     "output_type": "stream",
     "text": [
      "first_cancer_type\n"
     ]
    },
    {
     "data": {
      "text/plain": [
       "array(['None', 'Colon', 'Other', 'Breast', 'Liver', 'Bladder', 'Lung',\n",
       "       'Melanoma', 'Skin Other', 'Mouth', 'Skin Non Melanoma', 'Prostate',\n",
       "       'Cervical', 'Thyroid', 'Lymphoma', 'Uterine', 'Brain', 'Stomach',\n",
       "       'Rectal', 'Testicular', 'Kidney', 'Esophageal', 'Larynx',\n",
       "       'Ovarian', 'Blood', 'Bone', 'Leukemia', 'Gallbladder',\n",
       "       'Pancreatic', 'Soft Tissue', 'Nervous System'], dtype=object)"
      ]
     },
     "metadata": {},
     "output_type": "display_data"
    },
    {
     "name": "stdout",
     "output_type": "stream",
     "text": [
      "second_cancer_type\n"
     ]
    },
    {
     "data": {
      "text/plain": [
       "array(['None', 'Bone', 'Ovarian', 'Kidney', 'Melanoma', 'Prostate',\n",
       "       'Liver', 'Uterine', 'Other', 'Bladder', 'Skin Non Melanoma',\n",
       "       'Cervical', 'Breast', 'Skin Other', 'Esophageal', 'Rectal',\n",
       "       'Leukemia', 'Colon', 'Blood', 'Lymphoma', 'Stomach', 'Thyroid',\n",
       "       'Mouth', 'Lung', 'Larynx', 'Brain', 'Pancreatic'], dtype=object)"
      ]
     },
     "metadata": {},
     "output_type": "display_data"
    },
    {
     "name": "stdout",
     "output_type": "stream",
     "text": [
      "third_cancer_type\n"
     ]
    },
    {
     "data": {
      "text/plain": [
       "array(['None', 'Blood', 'Skin Non Melanoma', 'Ovarian', 'Other', 'Brain',\n",
       "       'Uterine', 'Melanoma', 'Bone', 'Skin Other', 'Liver', 'Thyroid',\n",
       "       'Colon', 'Cervical', 'Breast', 'Lung', 'Prostate', 'Leukemia'],\n",
       "      dtype=object)"
      ]
     },
     "metadata": {},
     "output_type": "display_data"
    },
    {
     "name": "stdout",
     "output_type": "stream",
     "text": [
      "fourth_cancer_count\n"
     ]
    },
    {
     "data": {
      "text/plain": [
       "array(['No', 'Yes'], dtype=object)"
      ]
     },
     "metadata": {},
     "output_type": "display_data"
    },
    {
     "name": "stdout",
     "output_type": "stream",
     "text": [
      "heart_attack_relative\n"
     ]
    },
    {
     "data": {
      "text/plain": [
       "array(['Yes', 'No'], dtype=object)"
      ]
     },
     "metadata": {},
     "output_type": "display_data"
    },
    {
     "name": "stdout",
     "output_type": "stream",
     "text": [
      "asthma_relative\n"
     ]
    },
    {
     "data": {
      "text/plain": [
       "array(['No', 'Yes'], dtype=object)"
      ]
     },
     "metadata": {},
     "output_type": "display_data"
    },
    {
     "name": "stdout",
     "output_type": "stream",
     "text": [
      "diabetes_relative\n"
     ]
    },
    {
     "data": {
      "text/plain": [
       "array(['Yes', 'No'], dtype=object)"
      ]
     },
     "metadata": {},
     "output_type": "display_data"
    },
    {
     "name": "stdout",
     "output_type": "stream",
     "text": [
      "hay_fever\n"
     ]
    },
    {
     "data": {
      "text/plain": [
       "array(['No', 'Yes'], dtype=object)"
      ]
     },
     "metadata": {},
     "output_type": "display_data"
    },
    {
     "name": "stdout",
     "output_type": "stream",
     "text": [
      "arthritis_onset\n"
     ]
    },
    {
     "data": {
      "text/plain": [
       "array([ 0., 77., 58., 60., 45., 30., 50., 35., 49., 55., 48., 14., 66.,\n",
       "       65., 70., 20., 22., 11., 10., 56., 46., 25., 85., 51., 69., 42.,\n",
       "       76., 38., 79., 52., 80., 37., 68., 43., 75., 44., 40., 67., 16.,\n",
       "        8., 36., 59., 57.,  4., 62., 72., 24., 64., 26., 63., 29., 39.,\n",
       "       53., 12., 61., 32., 15., 33., 21., 73., 27., 28., 18., 78.,  6.,\n",
       "       13., 74., 19., 54., 34., 47., 31., 71., 41., 17., 84., 82., 81.,\n",
       "        7.,  2., 23.,  3., 83.,  1.,  9.,  5.])"
      ]
     },
     "metadata": {},
     "output_type": "display_data"
    },
    {
     "name": "stdout",
     "output_type": "stream",
     "text": [
      "heart_failure_onset\n"
     ]
    },
    {
     "data": {
      "text/plain": [
       "array([42.,  0., 65., 45.,  3., 70., 50., 57., 60., 15., 62., 47., 63.,\n",
       "       31., 46., 55., 49., 67., 56., 79., 75., 78., 39., 81., 37., 41.,\n",
       "       83., 58., 54., 76.,  1., 72., 64., 71., 66., 52., 26., 43., 20.,\n",
       "       36., 85., 68., 44., 73., 84., 51., 69., 53., 80., 61., 48., 40.,\n",
       "       25., 74.,  6., 24., 38., 77., 34., 28., 59., 10.,  4., 35., 32.,\n",
       "       29., 22., 21., 18.,  2., 12., 27., 13., 30., 33., 16., 19.])"
      ]
     },
     "metadata": {},
     "output_type": "display_data"
    },
    {
     "name": "stdout",
     "output_type": "stream",
     "text": [
      "heart_disease_onset\n"
     ]
    },
    {
     "data": {
      "text/plain": [
       "array([ 0.,  6., 67., 48., 50., 73., 79., 82., 35., 56., 72., 62., 75.,\n",
       "       15., 46., 69., 49., 78., 58., 66., 60., 13., 68., 45., 47., 54.,\n",
       "       85., 41., 30., 26., 74., 22., 37., 64., 70., 52., 71., 63., 43.,\n",
       "       53., 61., 36., 65., 81., 51., 57.,  5., 42., 55., 77., 10., 59.,\n",
       "        3., 80., 76., 25., 38., 44.,  7., 32., 40., 39., 28.,  1., 11.,\n",
       "       34.,  8., 23., 16., 20., 17., 33., 12., 21., 31., 27.])"
      ]
     },
     "metadata": {},
     "output_type": "display_data"
    },
    {
     "name": "stdout",
     "output_type": "stream",
     "text": [
      "angina_onset\n"
     ]
    },
    {
     "data": {
      "text/plain": [
       "array([ 0., 59., 64., 30., 32., 72.,  7., 50., 75., 46., 34., 10.,  8.,\n",
       "       47., 49., 63., 58., 66., 65., 57., 40., 45., 67., 62., 55., 41.,\n",
       "       54., 43., 74., 60., 48., 84., 37., 69., 70., 28., 36., 44., 80.,\n",
       "       53., 51., 56., 35., 78., 81., 82., 77., 33., 61., 71., 76., 68.,\n",
       "       25., 42., 85., 52., 79., 15., 38., 18., 20., 39., 73., 26., 29.,\n",
       "       21., 23., 17., 31., 16., 27., 22., 12.])"
      ]
     },
     "metadata": {},
     "output_type": "display_data"
    },
    {
     "name": "stdout",
     "output_type": "stream",
     "text": [
      "heart_attack_onset\n"
     ]
    },
    {
     "data": {
      "text/plain": [
       "array([ 0., 40., 55., 33., 59., 74., 78., 85., 65., 70.,  2., 39., 75.,\n",
       "       64., 46., 50., 62., 24., 54., 49., 58., 51., 60., 67., 82., 45.,\n",
       "       63., 66., 47., 53., 41., 72., 44., 30., 38., 79., 37., 35., 77.,\n",
       "       68., 28., 43., 56., 80., 61., 36., 83., 71., 84., 76., 14., 69.,\n",
       "       81., 57., 42., 32., 73., 48., 20., 15., 25., 52., 10., 31., 21.,\n",
       "       29., 27., 22., 16., 23., 34., 26., 19.])"
      ]
     },
     "metadata": {},
     "output_type": "display_data"
    },
    {
     "name": "stdout",
     "output_type": "stream",
     "text": [
      "stroke_onset\n"
     ]
    },
    {
     "data": {
      "text/plain": [
       "array([ 0., 80., 85., 65., 50., 46., 74., 43., 78., 66., 76., 75., 63.,\n",
       "       70., 47., 24., 25., 79., 35., 30., 71., 54., 67., 41., 45., 64.,\n",
       "       39., 72., 44., 19., 53., 31., 68., 57., 60., 84., 62., 20., 77.,\n",
       "       40., 81., 48., 32., 51., 73., 42., 69., 55., 61., 36.,  4., 49.,\n",
       "       56., 15., 38., 52., 59., 26., 58., 29., 23.,  2., 33., 13.,  6.,\n",
       "       10., 18.,  1., 16., 27., 22.,  7., 34., 37., 17., 28.,  3.,  5.,\n",
       "       21.])"
      ]
     },
     "metadata": {},
     "output_type": "display_data"
    },
    {
     "name": "stdout",
     "output_type": "stream",
     "text": [
      "emphysema_onset\n"
     ]
    },
    {
     "data": {
      "text/plain": [
       "array([ 0., 60., 65., 46., 59., 49., 32., 64., 72., 43., 62., 70., 39.,\n",
       "       51., 26., 66., 45., 67., 71., 63., 55., 61., 68., 50., 31., 48.,\n",
       "       56., 30., 81., 85.,  5.,  4., 82., 53., 83., 44., 33., 80., 42.,\n",
       "       75., 41., 40., 37., 21., 77., 20., 57., 58., 47., 69., 74., 54.,\n",
       "       23., 73., 79., 22., 35., 28., 34., 27., 18.,  6., 78., 38., 76.,\n",
       "       36., 52., 11., 13., 29., 16., 14., 10., 24.])"
      ]
     },
     "metadata": {},
     "output_type": "display_data"
    },
    {
     "name": "stdout",
     "output_type": "stream",
     "text": [
      "bronchitis_onset\n"
     ]
    },
    {
     "data": {
      "text/plain": [
       "array([ 0., 30., 10., 14., 42., 47., 46., 44.,  3., 32., 37., 74., 50.,\n",
       "       64.,  1., 65., 29., 25.,  5., 38., 40., 51., 23., 76., 24., 52.,\n",
       "       70., 66., 11., 39., 20., 34., 58., 60., 35., 33., 18., 22., 57.,\n",
       "        7., 55., 13., 49., 17., 15., 53.,  2., 63.,  9.,  8., 43., 31.,\n",
       "        4., 12., 45., 48., 26., 85., 73., 19., 36., 56., 75., 68., 16.,\n",
       "       80., 54., 28., 62., 72., 69., 61.,  6., 67., 71., 27., 41., 78.,\n",
       "       21., 59., 79., 77.])"
      ]
     },
     "metadata": {},
     "output_type": "display_data"
    },
    {
     "name": "stdout",
     "output_type": "stream",
     "text": [
      "liver_condition_onset\n"
     ]
    },
    {
     "data": {
      "text/plain": [
       "array([ 0., 71., 50., 24., 35., 49., 28., 62., 34., 53.,  7., 10., 23.,\n",
       "       25., 55., 36., 45., 13., 21., 38., 47., 11., 58., 30., 74., 15.,\n",
       "       46., 29., 65., 40., 70., 73., 14., 41., 57., 80., 48., 32.,  6.,\n",
       "       37., 64., 31., 20., 44.,  9., 82., 67., 19., 43., 60., 59., 33.,\n",
       "       27., 56., 54.,  8., 39.,  1., 69., 17., 22., 63., 76., 42., 51.,\n",
       "       52., 66., 77., 61.,  4., 16., 26., 18., 72., 78., 12., 75., 68.,\n",
       "       79.,  3.,  5.])"
      ]
     },
     "metadata": {},
     "output_type": "display_data"
    },
    {
     "name": "stdout",
     "output_type": "stream",
     "text": [
      "thyroid_problem_onset\n"
     ]
    },
    {
     "data": {
      "text/plain": [
       "array([ 0., 63., 43., 54., 50., 44., 40., 55., 18., 73., 61., 38., 27.,\n",
       "       75., 46., 60., 20.,  7., 32., 35., 47., 34., 13., 76., 41., 56.,\n",
       "       30., 42., 70., 80., 85., 26., 72., 62., 65., 28., 45., 24., 48.,\n",
       "       37., 25., 17., 53., 29., 33., 12., 21., 52., 36., 66., 19., 31.,\n",
       "       58., 23., 15., 22., 59., 49., 74.,  9., 84., 64., 77., 39., 83.,\n",
       "       11., 69.,  4., 79., 67., 71., 57., 16., 51.,  8., 10., 82., 14.,\n",
       "        5., 78.,  2., 68.,  6.,  1.])"
      ]
     },
     "metadata": {},
     "output_type": "display_data"
    },
    {
     "name": "stdout",
     "output_type": "stream",
     "text": [
      "cancer_onset\n"
     ]
    },
    {
     "data": {
      "text/plain": [
       "array([ 0., 85., 69., 80., 55., 20., 46., 43., 23., 42., 41., 28., 47.,\n",
       "       40., 65., 53., 49., 33., 75., 30., 21., 66., 45., 78., 50., 59.,\n",
       "       70., 26., 56., 58., 68., 44., 38., 62., 63., 32., 52., 36., 60.,\n",
       "       16., 34., 74., 27., 72., 61., 73., 64., 54., 25., 51., 37., 71.,\n",
       "       19., 76., 57., 77., 39., 35., 67., 22., 48., 79., 29., 24., 17.])"
      ]
     },
     "metadata": {},
     "output_type": "display_data"
    },
    {
     "name": "stdout",
     "output_type": "stream",
     "text": [
      "arthritis_type\n"
     ]
    },
    {
     "data": {
      "text/plain": [
       "array(['Missing', 'Osteoarthritis', 'Other', 'Rheumatoid', 'Psoriatic'],\n",
       "      dtype=object)"
      ]
     },
     "metadata": {},
     "output_type": "display_data"
    },
    {
     "name": "stdout",
     "output_type": "stream",
     "text": [
      "first_cancer_count\n"
     ]
    },
    {
     "data": {
      "text/plain": [
       "array(['No', 'Yes'], dtype=object)"
      ]
     },
     "metadata": {},
     "output_type": "display_data"
    },
    {
     "name": "stdout",
     "output_type": "stream",
     "text": [
      "second_cancer_count\n"
     ]
    },
    {
     "data": {
      "text/plain": [
       "array(['No', 'Yes'], dtype=object)"
      ]
     },
     "metadata": {},
     "output_type": "display_data"
    },
    {
     "name": "stdout",
     "output_type": "stream",
     "text": [
      "third_cancer_count\n"
     ]
    },
    {
     "data": {
      "text/plain": [
       "array(['No', 'Yes'], dtype=object)"
      ]
     },
     "metadata": {},
     "output_type": "display_data"
    },
    {
     "name": "stdout",
     "output_type": "stream",
     "text": [
      "weight\n"
     ]
    },
    {
     "data": {
      "text/plain": [
       "array([ 75.2,  69.5, 101.9, ..., 144.4, 219.6, 143.8])"
      ]
     },
     "metadata": {},
     "output_type": "display_data"
    },
    {
     "name": "stdout",
     "output_type": "stream",
     "text": [
      "height\n"
     ]
    },
    {
     "data": {
      "text/plain": [
       "array([156.  , 167.6 , 182.4 , 158.4 , 184.  , 167.1 , 154.9 , 171.4 ,\n",
       "       153.6 , 167.2 , 180.8 , 188.  , 178.8 , 161.7 , 149.9 , 173.6 ,\n",
       "       194.2 , 159.  , 180.  , 172.3 , 149.8 , 176.4 , 174.8 , 155.2 ,\n",
       "       160.5 , 177.  , 152.3 , 166.  , 160.7 , 155.6 , 166.8 , 151.2 ,\n",
       "       175.5 , 172.9 , 166.2 , 157.4 , 179.8 , 150.4 , 167.9 , 181.7 ,\n",
       "       163.8 , 177.3 , 172.2 , 181.2 , 161.9 , 179.  , 191.6 , 161.6 ,\n",
       "       170.1 , 163.7 , 157.7 , 176.7 , 162.2 , 165.2 , 171.9 , 177.2 ,\n",
       "       182.7 , 158.  , 187.2 ,   0.  , 191.8 , 172.4 , 153.7 , 170.  ,\n",
       "       156.3 , 174.  , 181.  , 162.4 , 192.2 , 143.6 , 155.4 , 162.1 ,\n",
       "       165.1 , 159.2 , 176.1 , 180.1 , 179.7 , 182.6 , 164.9 , 167.  ,\n",
       "       166.7 , 188.9 , 166.9 , 180.9 , 159.4 , 158.7 , 174.4 , 154.2 ,\n",
       "       166.4 , 164.3 , 167.3 , 164.2 , 166.3 , 174.7 , 154.6 , 183.5 ,\n",
       "       176.2 , 162.7 , 160.4 , 180.5 , 170.7 , 165.  , 174.2 , 156.7 ,\n",
       "       155.3 , 158.8 , 171.2 , 182.  , 158.2 , 163.6 , 175.1 , 157.  ,\n",
       "       163.9 , 170.8 , 154.1 , 159.1 , 186.4 , 179.4 , 159.5 , 171.3 ,\n",
       "       166.6 , 163.1 , 165.4 , 182.5 , 176.9 , 174.9 , 180.3 , 178.7 ,\n",
       "       145.  , 157.6 , 164.5 , 167.7 , 170.5 , 180.7 , 155.7 , 166.1 ,\n",
       "       167.4 , 163.4 , 173.7 , 161.5 , 176.  , 175.  , 169.5 , 161.  ,\n",
       "       163.  , 168.4 , 149.2 , 168.2 , 171.8 , 186.5 , 159.7 , 168.  ,\n",
       "       169.9 , 178.4 , 161.8 , 148.1 , 167.8 , 178.2 , 169.8 , 185.6 ,\n",
       "       153.3 , 173.  , 169.1 , 162.5 , 156.8 , 165.7 , 168.7 , 173.9 ,\n",
       "       148.7 , 158.3 , 169.2 , 172.6 , 180.4 , 177.5 , 146.3 , 172.7 ,\n",
       "       165.6 , 172.1 , 183.4 , 178.1 , 152.9 , 161.1 , 146.7 , 167.5 ,\n",
       "       189.1 , 179.2 , 156.2 , 163.5 , 173.2 , 149.3 , 162.  , 172.8 ,\n",
       "       164.1 , 157.2 , 150.2 , 177.7 , 185.3 , 184.3 , 172.5 , 145.4 ,\n",
       "       149.4 , 145.3 , 156.9 , 175.9 , 162.9 , 164.8 , 182.1 , 182.8 ,\n",
       "       161.4 , 186.6 , 170.6 , 142.1 , 160.3 , 157.5 , 197.1 , 165.8 ,\n",
       "       149.  , 168.1 , 148.6 , 162.3 , 160.2 , 184.2 , 158.5 , 183.6 ,\n",
       "       163.2 , 166.5 , 154.  , 175.4 , 169.  , 175.3 , 190.5 , 156.1 ,\n",
       "       157.8 , 173.3 , 160.8 , 174.6 , 152.4 , 190.7 , 165.5 , 164.7 ,\n",
       "       181.3 , 177.6 , 153.5 , 152.1 , 171.1 , 165.3 , 185.7 , 170.2 ,\n",
       "       175.7 , 153.8 , 171.7 , 152.2 , 160.9 , 179.9 , 163.3 , 152.8 ,\n",
       "       144.8 , 153.1 , 150.9 , 187.8 , 148.3 , 151.3 , 184.1 , 158.1 ,\n",
       "       160.  , 162.6 , 173.5 , 171.6 , 176.5 , 184.6 , 177.4 , 157.3 ,\n",
       "       155.1 , 155.5 , 187.6 , 178.  , 157.1 , 179.3 , 176.3 , 153.9 ,\n",
       "       169.4 , 158.6 , 169.7 , 178.5 , 185.  , 161.3 , 183.1 , 168.8 ,\n",
       "       155.9 , 159.6 , 158.9 , 181.6 , 168.5 , 154.8 , 155.8 , 189.7 ,\n",
       "       150.8 , 180.6 , 164.6 , 179.5 , 176.8 , 171.5 , 151.8 , 160.6 ,\n",
       "       175.6 , 159.8 , 164.  , 173.4 , 181.4 , 190.9 , 187.7 , 176.6 ,\n",
       "       151.4 , 161.2 , 156.5 , 171.  , 152.  , 153.  , 150.5 , 160.1 ,\n",
       "       156.6 , 147.5 , 153.4 , 175.8 , 153.2 , 183.8 , 177.1 , 200.7 ,\n",
       "       151.1 , 178.3 , 150.7 , 173.1 , 182.2 , 155.96, 181.5 , 185.2 ,\n",
       "       174.3 , 180.2 , 152.6 , 172.  , 184.5 , 189.2 , 157.9 , 183.3 ,\n",
       "       168.6 , 170.3 , 188.7 , 184.7 , 173.8 , 188.2 , 174.5 , 175.2 ,\n",
       "       179.1 , 170.9 , 156.4 , 168.3 , 181.1 , 190.2 , 169.3 , 186.  ,\n",
       "       147.3 , 182.3 , 187.1 , 194.4 , 152.7 , 193.9 , 165.9 , 196.2 ,\n",
       "       167.23, 177.9 , 150.1 , 185.1 , 185.4 , 162.8 , 185.9 , 154.3 ,\n",
       "       154.7 , 170.4 , 168.9 , 150.6 , 147.6 , 186.7 , 192.8 , 179.6 ,\n",
       "       159.9 , 187.3 , 146.5 , 174.1 , 186.3 , 185.5 , 149.1 , 149.7 ,\n",
       "       185.8 , 181.8 , 187.  , 178.6 , 184.8 , 178.9 , 184.4 , 159.3 ,\n",
       "       144.4 , 140.3 , 151.  , 181.9 , 140.2 , 192.1 , 164.4 , 151.6 ,\n",
       "       151.5 , 169.6 , 191.1 , 154.4 , 151.9 , 182.9 , 147.7 , 142.  ,\n",
       "       143.7 , 155.  , 191.9 , 189.8 , 148.5 , 143.5 , 204.1 , 189.3 ,\n",
       "       154.5 , 145.7 , 190.6 , 194.5 , 147.9 , 196.5 , 188.5 , 144.1 ,\n",
       "       192.4 , 195.5 , 146.8 , 148.9 , 196.7 , 144.5 , 145.9 , 186.2 ,\n",
       "       187.4 , 199.2 , 187.9 , 186.9 , 151.7 , 183.9 , 148.2 , 194.  ,\n",
       "       143.2 , 152.5 , 193.4 , 190.  , 183.2 , 195.7 , 184.9 , 196.8 ,\n",
       "       146.2 , 146.4 , 188.8 , 147.2 , 140.9 , 150.  , 193.  , 183.7 ,\n",
       "       148.  , 189.4 , 189.9 , 191.4 , 149.5 , 194.3 , 146.6 , 188.6 ,\n",
       "       190.8 , 186.8 , 147.1 , 192.5 , 189.  , 183.  , 200.1 , 177.8 ,\n",
       "       186.1 , 190.1 , 148.4 , 145.2 , 150.3 , 188.3 , 193.7 , 146.  ,\n",
       "       189.6 , 188.4 , 145.8 , 145.1 , 191.3 , 138.6 , 146.9 , 148.8 ,\n",
       "       149.6 , 197.9 , 141.7 , 147.8 , 190.4 , 191.2 , 141.  , 195.2 ,\n",
       "       187.5 , 143.3 , 141.5 , 147.4 , 144.2 , 142.3 , 143.4 , 147.  ,\n",
       "       142.4 , 145.6 , 191.7 , 143.8 , 144.9 , 141.9 , 144.6 , 197.3 ,\n",
       "       193.6 , 145.5 , 141.1 , 190.3 , 144.7 , 195.4 , 195.6 , 193.2 ,\n",
       "       143.9 , 193.5 , 192.6 , 195.8 , 195.3 , 142.8 , 137.3 , 192.9 ,\n",
       "       192.7 , 141.2 , 140.1 , 146.1 , 197.4 , 192.  , 144.  , 189.5 ,\n",
       "       139.6 , 194.7 , 195.  , 203.8 , 191.5 , 140.8 , 201.6 , 139.4 ,\n",
       "       194.9 , 139.8 , 199.3 , 192.3 , 142.6 , 140.4 , 193.1 , 193.3 ,\n",
       "       142.9 , 195.9 , 123.3 , 202.7 , 144.3 , 139.9 , 197.5 , 142.5 ,\n",
       "       196.6 , 199.6 , 193.8 , 142.7 , 198.2 , 143.1 , 201.7 , 143.  ,\n",
       "       139.5 , 188.1 , 199.5 , 141.3 , 140.  , 194.8 , 191.  , 199.9 ,\n",
       "       134.5 , 197.2 , 196.  , 199.4 , 139.7 , 135.3 , 204.5 , 136.1 ,\n",
       "       200.4 , 190.54, 194.6 , 135.4 , 196.1 , 170.92, 197.  , 179.66,\n",
       "       174.17, 202.6 , 141.8 , 136.3 , 138.8 , 198.4 , 195.1 , 201.  ,\n",
       "       140.7 , 137.4 , 139.  , 138.4 , 137.6 , 136.5 , 141.4 , 138.3 ,\n",
       "       197.7 ])"
      ]
     },
     "metadata": {},
     "output_type": "display_data"
    },
    {
     "name": "stdout",
     "output_type": "stream",
     "text": [
      "BMI\n"
     ]
    },
    {
     "data": {
      "text/plain": [
       "array([30.9 , 24.74, 30.63, ..., 65.3 , 68.2 , 84.4 ])"
      ]
     },
     "metadata": {},
     "output_type": "display_data"
    },
    {
     "name": "stdout",
     "output_type": "stream",
     "text": [
      "pulse\n"
     ]
    },
    {
     "data": {
      "text/plain": [
       "array([ 58.,  62.,  50.,  68.,  54.,  64.,  66.,  56.,  78.,  74.,  94.,\n",
       "        70.,  86.,  92.,  80.,  60.,   0.,  90.,  82.,  84.,  72., 108.,\n",
       "        88., 102.,  76., 104., 100., 122., 106.,  48., 114.,  98.,  52.,\n",
       "        44.,  42.,  96., 128., 120., 110., 112.,  46., 118.,  40., 220.,\n",
       "       124., 166., 116., 224., 126., 136., 142., 172., 160., 132., 140.,\n",
       "        36., 134.,  34.])"
      ]
     },
     "metadata": {},
     "output_type": "display_data"
    },
    {
     "name": "stdout",
     "output_type": "stream",
     "text": [
      "irregular_pulse\n"
     ]
    },
    {
     "data": {
      "text/plain": [
       "array(['No', 'Yes'], dtype=object)"
      ]
     },
     "metadata": {},
     "output_type": "display_data"
    },
    {
     "name": "stdout",
     "output_type": "stream",
     "text": [
      "systolic\n"
     ]
    },
    {
     "data": {
      "text/plain": [
       "array([144., 138., 130., 110., 108., 116., 136.,  94., 120., 154., 126.,\n",
       "       134., 106.,   0., 146., 114., 128., 152., 118., 124., 112., 132.,\n",
       "       166., 122., 158., 140., 104., 148., 156., 170.,  88., 142., 164.,\n",
       "       150.,  84.,  92., 100., 102., 178., 216.,  98., 228., 192., 160.,\n",
       "       172.,  96.,  90., 182., 206., 256.,  86., 196., 176., 202., 168.,\n",
       "       162., 180., 186., 194., 184., 218., 190., 174., 188., 198., 200.,\n",
       "       270.,  82., 214., 204., 220., 210.,  80., 208.,  74., 226.,  78.,\n",
       "       230., 212., 222.,  72., 232., 238., 224.,  66., 236.])"
      ]
     },
     "metadata": {},
     "output_type": "display_data"
    },
    {
     "name": "stdout",
     "output_type": "stream",
     "text": [
      "diastolic\n"
     ]
    },
    {
     "data": {
      "text/plain": [
       "array([ 74.,  60.,  68.,  64.,  62.,   0.,  76.,  82.,  80.,  58.,  70.,\n",
       "        54.,  90.,  84.,  86.,  52.,  30.,  78.,  56.,  44.,  72.,  48.,\n",
       "        98.,  88., 100.,  46.,  66.,  94., 114.,  40.,  92., 120.,  96.,\n",
       "        50., 118.,  22.,  36.,  28.,  42.,  34.,  18., 104.,  38.,  24.,\n",
       "       108., 102.,  32.,  20., 106., 110., 116., 124., 112.,   4.,  12.,\n",
       "        26.,  10., 134.,  14., 122.,   6.])"
      ]
     },
     "metadata": {},
     "output_type": "display_data"
    },
    {
     "name": "stdout",
     "output_type": "stream",
     "text": [
      "total_cholesterol\n"
     ]
    },
    {
     "data": {
      "text/plain": [
       "array([105., 147., 186.,   0., 108., 207., 121., 181., 205., 243., 198.,\n",
       "       190., 170., 199., 197., 224., 159., 202., 140., 167., 189., 172.,\n",
       "       212., 245., 214., 209., 169., 152., 163., 228., 253., 135., 178.,\n",
       "       440., 175., 229., 237., 194., 259., 184., 168., 203., 275., 193.,\n",
       "       232., 188., 210., 151., 146., 154., 211., 295., 162., 233., 187.,\n",
       "       299., 254., 195., 218., 291., 117., 222., 266., 244., 150., 132.,\n",
       "       303., 225., 171., 196., 177., 252., 217., 166., 230., 325., 180.,\n",
       "       269., 176., 155., 164., 226., 183., 127., 219., 201., 138., 264.,\n",
       "       215., 274., 234., 143., 281., 250., 257., 136., 204., 223., 372.,\n",
       "       206., 192., 241., 185., 208., 139., 240., 213., 324., 137., 160.,\n",
       "       134., 246., 145., 156., 309., 157., 227., 321., 133., 231., 288.,\n",
       "       191., 271., 124., 247., 182., 242., 174., 220., 290., 179., 129.,\n",
       "       144., 307., 221., 236., 148., 173., 130., 249., 272., 458., 276.,\n",
       "       332., 149., 126., 161., 200., 283., 277., 262., 216., 350., 109.,\n",
       "       239., 289., 270., 251., 256., 280., 267., 268., 292., 123., 278.,\n",
       "       165., 301., 293., 113., 141., 118., 287., 349., 255., 258., 260.,\n",
       "       106., 238., 120., 316., 286., 125.,  95., 263., 115., 327., 296.,\n",
       "       279., 131., 142., 158., 317., 102., 235., 326., 153., 122., 128.,\n",
       "       261., 305., 248., 273., 101.,  92., 347., 265., 311., 338., 294.,\n",
       "       331., 298., 285., 110.,  97., 111., 333., 322., 319., 304., 313.,\n",
       "        99., 345., 284., 297., 366., 337., 114., 318., 329., 107., 310.,\n",
       "       119.,  82., 340., 359., 116., 314., 112., 282., 335., 615., 368.,\n",
       "        87., 308., 339., 394., 306.,  84., 344., 431., 330., 342.,  98.,\n",
       "       341., 323., 412., 300., 432., 357., 312., 328.,  91., 336., 100.,\n",
       "       371., 334., 302.,  94., 386., 343., 104., 406., 103., 353., 460.,\n",
       "       354., 315., 380.,  93.,  90., 361., 320., 346.,  96., 383., 528.,\n",
       "        88., 475., 398., 384.,  80.,  75., 360.,  89.,  59., 401., 389.,\n",
       "       367., 413., 523.,  83., 348., 362., 612., 463., 813.,  85., 525.,\n",
       "       393., 545., 433., 415.,  77., 540., 358.,  81., 446.,  76.,  79.,\n",
       "       416., 376., 428., 370., 352., 365.])"
      ]
     },
     "metadata": {},
     "output_type": "display_data"
    },
    {
     "name": "stdout",
     "output_type": "stream",
     "text": [
      "HDL\n"
     ]
    },
    {
     "data": {
      "text/plain": [
       "array([ 39.,  59.,  49.,   0.,  44.,  45.,  54.,  81.,  76.,  68.,  50.,\n",
       "        40.,  71.,  47.,  46.,  37.,  61.,  58.,  41.,  70.,  66.,  43.,\n",
       "        60.,  78.,  63.,  38.,  51.,  72.,  35.,  62.,  64., 151.,  36.,\n",
       "        65.,  91.,  57.,  32.,  52.,  69.,  27.,  56.,  53.,  77.,  34.,\n",
       "       104.,  79.,  73.,  33.,  95.,  83.,  31., 103.,  48.,  29.,  42.,\n",
       "        55.,  67.,  92.,  89.,  88.,  84.,  85.,  98.,  28.,  93.,  75.,\n",
       "       100.,  80.,  90.,  30., 116., 113.,  86.,  26.,  94.,  87.,  82.,\n",
       "        74., 101., 105., 108., 145.,  99.,  15.,  25.,  24., 102.,  96.,\n",
       "       117., 106., 164., 112.,  22., 188., 114.,  17.,  97., 120., 146.,\n",
       "       109.,  23., 115., 107., 139., 111.,  21., 152.,  16., 110.,  20.,\n",
       "       118.,   7.,  19., 148.,  11., 132., 129., 128., 135.,  18.,  13.,\n",
       "       133., 127., 179., 119., 130., 124., 141., 144., 121., 125., 150.,\n",
       "        14., 175., 138., 123., 156., 126.,  10., 122., 147., 173., 226.,\n",
       "       131., 142., 137., 136.,   6., 149., 166., 178.])"
      ]
     },
     "metadata": {},
     "output_type": "display_data"
    },
    {
     "name": "stdout",
     "output_type": "stream",
     "text": [
      "triglyceride\n"
     ]
    },
    {
     "data": {
      "text/plain": [
       "array([  86.,   65.,  195.,    0.,   50.,  123.,  256.,  193.,   88.,\n",
       "        174.,  325.,  175.,   75.,   56.,   81.,  125.,   85.,   36.,\n",
       "        127.,   89.,   84.,  880.,   52.,  121.,  104.,   66.,   83.,\n",
       "         64.,  148.,  183.,  139.,  145.,  167.,  112.,  202.,   79.,\n",
       "        109.,   72.,   63.,   95.,  281.,  147.,  141.,  433.,  209.,\n",
       "         77.,  217.,  173.,   55.,   69.,   98.,  763.,   70.,  305.,\n",
       "        186.,   59.,  134.,  176.,  101.,  115.,   49.,  117.,  155.,\n",
       "        110.,  188.,  529.,  120.,  208.,  106.,   93.,  194.,  156.,\n",
       "        257.,  297.,  182.,   58.,  226.,   87.,   44.,   73.,   92.,\n",
       "         67.,  200.,  301.,   53.,  107.,  126.,   74.,  251.,  242.,\n",
       "        823.,  203.,   62.,  204.,  254.,   47.,  190.,   51.,   71.,\n",
       "         46.,   54.,   68.,  264.,  232.,  288.,  171.,  103.,  447.,\n",
       "        158.,  136.,  290.,  352.,  296.,   94.,  249.,   82.,  151.,\n",
       "        228.,  215.,   78.,  253.,  191.,  157.,  100.,  102.,   91.,\n",
       "        170.,   57.,  313.,  201.,  149.,  114.,   48.,  128.,  169.,\n",
       "        140.,  129.,   45.,  153.,  233.,  664.,  362.,   32.,  199.,\n",
       "        230.,  113.,  192.,  119.,  122.,   43.,  236.,  177.,  105.,\n",
       "        146.,   96.,  163.,   39.,   97.,  239.,   34.,  255.,   42.,\n",
       "        178.,  214.,  154.,   37.,  166.,   38.,   99.,  503.,  185.,\n",
       "        210.,   60.,  268.,  223.,  440.,  467.,  143.,  118.,  135.,\n",
       "         80.,  108.,  265.,  267.,   61.,  133.,  138.,  283.,  346.,\n",
       "        378.,  373.,  131.,  269.,  252.,  227.,  231.,  498.,  309.,\n",
       "        343.,  225.,  132.,  586.,   90.,  184., 1340.,  250.,  137.,\n",
       "        181.,  292.,   76.,  284.,  111.,  116.,  237.,  142.,  144.,\n",
       "        395.,  235.,  243.,  306.,  205.,  189.,  262.,  240.,  206.,\n",
       "        287.,  490.,  337.,  161.,  263.,   31.,  366.,  417.,  165.,\n",
       "        124.,  168.,  558.,  212.,  476.,  501.,  213.,   35.,  360.,\n",
       "        312.,   41.,  218.,  320.,  222.,  248.,  160.,  303.,  371.,\n",
       "        377.,  310.,  483.,  130.,  329.,   40.,  229.,  387.,  420.,\n",
       "        630.,  480.,  259.,  317.,  582.,  286.,  463.,  289.,  311.,\n",
       "        361.,  322.,  247.,  407.,  399.,  279.,  198.,  150.,  221.,\n",
       "        441.,  291.,  152.,  159.,  282.,  246.,  318.,  477.,  298.,\n",
       "        180.,  339.,  294., 1100.,  403.,  280.,  187.,  389.,  266.,\n",
       "        285.,  299.,  331.,  207.,  671.,  224.,  164.,  315.,  244.,\n",
       "        172.,  319.,   28.,  197.,  308.,  211.,  275.,  219.,  605.,\n",
       "        475.,  517.,  336.,  342.,  196.,  569.,  273.,  386.,  622.,\n",
       "        216.,  261.,  220.,  461.,  641.,  542.,  260.,  557.,  333.,\n",
       "        162., 1600.,  351.,  436., 1480.,   30.,  270.,  335.,  472.,\n",
       "         33.,  468.,  327.,  234.,  367.,  392.,  179., 1403.,   27.,\n",
       "        429.,  393.,  272.,  357.,  415.,  711.,  293.,  241.,  408.,\n",
       "        258.,  349.,  546.,  514.,  245.,  314.,  534., 1297.,  300.,\n",
       "         19.,  575.,  278.,  350.,  418.,  442.,  328.,  646.,  504.,\n",
       "        274.,  271.,   25.,  238.,   23.,  552.,  372.,  550.,  425.,\n",
       "        693.,   26.,  383.,  932.,  734.,   24.,   21.,  857.,  390.,\n",
       "        464.,  356.,   29.,  536.,   20.,   18.,  434.,  486.,  380.,\n",
       "         22.,  771.,  323.,  355.,  324.,  453.,   12.,  295.,  363.,\n",
       "        600.,  365.,  406.,  528.,  334., 1497.,  598.,  439., 1306.,\n",
       "        340.,  374.,  358.,  849.,  450.,   14.,  404.,  304.,  428.,\n",
       "        812.,  370.,  657.,  548.,  416.,  332.,  302., 2549.,  394.,\n",
       "       1648.,  959.,  401.,  973.,  720.,  566.,  581.,  369.,  353.,\n",
       "        712.,  484., 1322.,  430.,  682.,  496.,  609.,  458.,  413.,\n",
       "        316.,  379.,  276.,  824., 1097., 1651., 1632.,  444.,  715.,\n",
       "        766.,  375.,  330.,  326.,  485.,  816.,  482.,  491.,  875.,\n",
       "        402.,  580.,  411.,  376.,  783.,  561.,  611.,  449., 1377.,\n",
       "       1147.,  717., 2742.,  565.,  344.,  354.,  668.,  419.,  410.,\n",
       "        347.,  396.,  500.,  624.,  454.,  348.,  681.,  452.,  584.,\n",
       "        409.,  465.,  979.,  398.,  381., 1311.,  560.,  510.,  553.,\n",
       "        481.,  385.,  539.,  610.,  473.,  535.,  559.,  382.,  666.,\n",
       "        307.,  345.,  526.,  700., 1562.,  511.,  814.,  277.,  489.,\n",
       "        400.,  607.,  321.,  993.,  478.,  384.,  516.,  421.,  431.,\n",
       "        790.,  457.,  338., 1102.,  456.,  642.,   16., 4233.,  341.,\n",
       "        606.,  543.,  462.,  426.,  541., 1184.,  619.,  759., 1002.,\n",
       "       1637.,   17.,   15.,  446.,  414.,  819.,  412.,  843.,  368.,\n",
       "       2141.,  631.,  647., 1761.,  397.,  761.,  438.,  524.,  770.,\n",
       "        437., 1407., 1479.,  515.,  455.,  743.,  479.,  495.,  364.,\n",
       "         10.,  469.,  807.,  967.,  876., 2684.,  547.,  502.,  644.,\n",
       "        708.])"
      ]
     },
     "metadata": {},
     "output_type": "display_data"
    },
    {
     "name": "stdout",
     "output_type": "stream",
     "text": [
      "LDL\n"
     ]
    },
    {
     "data": {
      "text/plain": [
       "array([ 49.,  75.,  98.,   0.,  90., 104.,  97.,  91., 110., 142., 100.,\n",
       "        86., 113., 112., 126., 149., 109.,  85.,  80.,  95.,  82.,  67.,\n",
       "       157., 173., 117., 108., 203., 107., 138., 128.,  56., 133., 215.,\n",
       "        88.,  94., 143., 148., 120.,  99., 168., 156., 170., 135., 103.,\n",
       "       130.,  74., 139.,  96.,  62., 154., 105., 123.,  76., 134., 119.,\n",
       "       163.,  65.,  89., 132., 127., 169.,  84., 197., 114.,  71., 159.,\n",
       "       115., 118., 116., 121.,  54., 129.,  87.,  93.,  69., 193., 175.,\n",
       "        45., 147.,  55.,  68.,  79.,  60., 122.,  83., 211., 162., 125.,\n",
       "       198., 140.,  81., 106., 174., 166.,  34.,  61., 181., 150., 171.,\n",
       "       183., 146., 101.,  66., 137., 160., 153., 161., 182., 158., 180.,\n",
       "       151., 195.,  42., 131., 186.,  92.,  77., 191.,  50.,  59.,  73.,\n",
       "        51., 152., 210., 102., 145.,  35., 225., 124., 222.,  46., 194.,\n",
       "       164.,  53.,  70., 167.,  63., 136., 188., 141., 190., 172., 199.,\n",
       "       111., 179.,  64.,  22.,  28.,  72.,  78., 155.,  39.,  40., 230.,\n",
       "       176., 204., 206.,  41.,  30., 242., 177.,  48.,  57.,  38.,  52.,\n",
       "       144., 224., 228.,  33.,  44., 245., 165., 196., 205., 187.,  43.,\n",
       "       189., 234.,  36., 216., 201., 192., 184., 226., 200., 208., 328.,\n",
       "       178., 252., 227.,  58.,  47., 253., 221., 185.,  32., 232., 344.,\n",
       "       238., 212., 289.,  37., 220., 231., 235., 218., 341., 251.,  23.,\n",
       "       244., 237., 217., 209., 207., 260., 247., 241., 213., 202.,  24.,\n",
       "        29., 249., 229., 266., 223., 243., 233., 290.,  15., 214., 331.,\n",
       "       219., 240., 286., 288.,  14., 375., 239., 248.,  31., 277., 257.,\n",
       "        26., 354.,  25.,  18., 265., 357.,  27., 270.])"
      ]
     },
     "metadata": {},
     "output_type": "display_data"
    },
    {
     "name": "stdout",
     "output_type": "stream",
     "text": [
      "albumin\n"
     ]
    },
    {
     "data": {
      "text/plain": [
       "array([3.5, 5. , 3.9, 0. , 4.7, 4.1, 3.7, 2.8, 4.5, 4.3, 4. , 4.2, 4.4,\n",
       "       3.8, 4.6, 3.2, 3. , 4.8, 3.4, 3.6, 2.9, 5.1, 2.7, 3.1, 2.5, 3.3,\n",
       "       5.2, 4.9, 2.6, 2.3, 5.3, 5.5, 1.2, 2.4, 5.4, 2.1, 5.6, 2. ])"
      ]
     },
     "metadata": {},
     "output_type": "display_data"
    },
    {
     "name": "stdout",
     "output_type": "stream",
     "text": [
      "ALT\n"
     ]
    },
    {
     "data": {
      "text/plain": [
       "array([  14.,   31.,   30.,    0.,   22.,   15.,   19.,   23.,   13.,\n",
       "         10.,   17.,   16.,   25.,   33.,   12.,   18.,   26.,  104.,\n",
       "         34.,   28.,   21.,   44.,   47.,   38.,   27.,   20.,   29.,\n",
       "         24.,   40.,   39.,  172.,   58.,   59.,  116.,   32.,  185.,\n",
       "         78.,   54.,    8.,   43.,   61.,   37.,   11.,   95.,   41.,\n",
       "         77.,   36.,    7.,   60.,   80.,  144.,   46.,   52.,   35.,\n",
       "         56.,   42.,  106.,   65.,   70.,   74.,   48.,  194.,   73.,\n",
       "         99.,   49.,   75.,   51.,  105.,  133.,    9.,   64.,  154.,\n",
       "         89.,   63.,  103.,   45.,   66.,  124.,   50.,   53.,   55.,\n",
       "         85.,  186.,  151.,   86.,   57.,   79.,  109.,  100.,   62.,\n",
       "         76.,   92.,   93.,   83.,   97.,  132.,  178.,   98.,   87.,\n",
       "         68.,   69.,  107.,  123.,   82.,   72.,  115.,  131.,   81.,\n",
       "        176.,   84.,  120.,  128.,  138.,  188.,   90.,  110.,  149.,\n",
       "        217.,  111.,   96.,   67.,  114.,  118.,  130.,   71.,  285.,\n",
       "          4.,  117.,  174.,  102.,  167.,  147.,   91.,   94.,   88.,\n",
       "        134.,  150.,  121.,  140.,  122.,  156.,  819.,  219.,  143.,\n",
       "        293.,  179.,  125.,  180.,  127.,  393.,  101.,  265.,  182.,\n",
       "        171.,    6.,  168.,  197.,  207.,  181.,  201.,  135.,  126.,\n",
       "        329.,  177.,  290.,  145.,  343.,  218.,  148.,  113.,    5.,\n",
       "        136.,  228.,  112.,  155.,  175.,  137.,  152.,  191.,  146.,\n",
       "        443.,  139., 1363.,  206.,  163.,  164.,  183.,  200.,  300.,\n",
       "        317.,  159.,  199.,  204.,  274.,  536.,  119.,  269.,  209.,\n",
       "        232.,  166.,  108.,  281.,  187.,  129.,  280.,  319.,  208.,\n",
       "        189.,    3.,  420.,  141.,  213.,  158.,  211.])"
      ]
     },
     "metadata": {},
     "output_type": "display_data"
    },
    {
     "name": "stdout",
     "output_type": "stream",
     "text": [
      "AST\n"
     ]
    },
    {
     "data": {
      "text/plain": [
       "array([ 16.,  29.,  31.,   0.,  23.,  18.,  28.,  19.,  14.,  17.,  22.,\n",
       "        30.,  33.,  20.,  58.,  24.,  11.,  49.,  35.,  26.,  25.,  27.,\n",
       "        40.,  37.,  15.,  98.,  21.,  67.,  43.,  50.,  13., 128.,  86.,\n",
       "        89.,  48.,  34.,  46.,  39.,  36.,  41.,  59.,  57.,  38.,  64.,\n",
       "        60.,  81.,  12.,  42., 125.,  32., 172.,  92.,  54., 101.,  68.,\n",
       "        90., 145.,  44., 110.,  88.,  62.,  87.,  63.,  55.,  51.,  94.,\n",
       "        74.,  53.,  45.,  61., 117.,  82.,  71., 102.,   9., 104., 138.,\n",
       "        83.,  47.,  10.,  56., 115.,  75.,  52.,  72.,  66., 154., 162.,\n",
       "        73., 193., 141.,  70.,  96., 111., 105.,  69.,  76., 146., 181.,\n",
       "       131., 113., 112., 133.,  65., 106.,  91.,  79.,  93., 121., 124.,\n",
       "        80., 177., 122., 161.,   8., 400., 329.,  97.,  78., 150., 140.,\n",
       "       206.,  84.,  77., 132., 310.,  99., 175., 171., 196., 118.,  95.,\n",
       "       134., 109., 120., 153., 191., 163., 129., 296., 733., 189., 152.,\n",
       "       143., 234., 148.,  85., 107., 239., 265., 178., 203.,   7., 149.,\n",
       "       157., 119., 142., 165., 155., 226., 116., 100., 302., 229., 243.,\n",
       "       597., 139., 174., 156., 123., 294., 114., 882., 209., 275., 247.,\n",
       "       199., 126., 285., 338., 182., 151., 159., 190., 210., 832., 169.,\n",
       "       289., 198., 173., 272., 222., 108.])"
      ]
     },
     "metadata": {},
     "output_type": "display_data"
    },
    {
     "name": "stdout",
     "output_type": "stream",
     "text": [
      "ALP\n"
     ]
    },
    {
     "data": {
      "text/plain": [
       "array([ 74.,  48.,  77.,   0.,  47., 183.,  50.,  67.,  99.,  72.,  75.,\n",
       "       153.,  44.,  51.,  56.,  55.,  27.,  45.,  85.,  39.,  64.,  49.,\n",
       "       131.,  70.,  35.,  43., 145.,  78.,  84.,  29., 105.,  92.,  59.,\n",
       "       108.,  90.,  94.,  53.,  63.,  69.,  60.,  61.,  33.,  81., 149.,\n",
       "        93.,  96., 107.,  66.,  40., 110.,  80.,  87.,  83.,  98.,  52.,\n",
       "        68.,  82., 102., 121.,  71.,  88.,  97., 171.,  42.,  58.,  86.,\n",
       "        57., 132.,  91.,  89., 166., 129.,  23.,  65.,  79.,  62., 103.,\n",
       "        76.,  54., 118., 114., 106., 104., 159., 142.,  41., 113., 122.,\n",
       "        32.,  73., 117., 100., 120., 128., 151.,  30., 101., 109.,  37.,\n",
       "        38., 123., 112., 206., 136., 296., 115.,  46., 282., 168., 127.,\n",
       "       241., 174.,  36., 167.,  95.,  34., 147., 137., 196., 157., 126.,\n",
       "       333., 125.,  20., 134., 152., 199., 141., 144., 210., 156., 320.,\n",
       "       135., 139.,  28., 130.,  22., 194., 178., 155., 111., 170., 133.,\n",
       "        24., 181., 140., 116., 214., 259.,  26.,  31., 255., 161., 146.,\n",
       "       208.,  25., 148., 172., 160., 248., 158., 175., 138., 177., 646.,\n",
       "       119., 239., 188.,  21., 228., 209., 307., 124., 245., 198., 225.,\n",
       "        18., 626., 143., 150., 235., 377., 253.,  15., 154., 164., 325.,\n",
       "       202., 191., 162., 287., 165.,  14., 169., 173., 176., 186., 200.,\n",
       "       193., 185., 163., 633., 244., 349.,   7., 729., 216., 305., 257.,\n",
       "       234., 265., 207., 280., 271., 179., 236., 254., 203., 907.,   9.,\n",
       "       190., 189., 218., 264., 192., 211., 334., 352., 326., 384., 238.,\n",
       "       273., 224., 220., 184., 217., 221.,  16., 197., 251., 347., 275.,\n",
       "       205., 223., 317., 638., 201., 187., 182.])"
      ]
     },
     "metadata": {},
     "output_type": "display_data"
    },
    {
     "name": "stdout",
     "output_type": "stream",
     "text": [
      "BUN\n"
     ]
    },
    {
     "data": {
      "text/plain": [
       "array([ 6., 25., 13.,  0., 12.,  9., 19., 10., 16., 18., 11.,  8., 24.,\n",
       "        7.,  4., 14., 15.,  5., 31., 17., 22., 21., 39., 20.,  1., 27.,\n",
       "       33.,  3., 23., 26., 50.,  2., 28., 29., 37., 34., 57., 41., 48.,\n",
       "       30., 56., 65., 43., 36., 42., 35., 47., 98., 38., 54., 32., 40.,\n",
       "       49., 44., 45., 51., 63., 67., 72., 55., 46., 53., 81., 59., 90.,\n",
       "       61., 52., 95., 73., 86., 62., 69., 96., 58., 74., 60., 79., 64.])"
      ]
     },
     "metadata": {},
     "output_type": "display_data"
    },
    {
     "name": "stdout",
     "output_type": "stream",
     "text": [
      "calcium\n"
     ]
    },
    {
     "data": {
      "text/plain": [
       "array([ 8.9,  9.9,  9.5,  0. , 10.2, 10.3,  9. ,  9.1,  9.8,  9.4,  9.3,\n",
       "        9.6,  9.7,  9.2, 10. ,  8.8,  8.6,  8.7, 10.1, 10.4,  8.5,  8.3,\n",
       "        8.4, 10.6, 10.5, 10.8, 10.9, 11.2, 11.1,  7.2, 10.7, 12.7,  6.9,\n",
       "        8.2, 11.5, 11. ,  8.1,  7.9, 11.4,  7. , 11.3,  7.8,  8. ,  7.5,\n",
       "       12.1,  7.3,  7.6,  6.5, 14.8, 12. ,  7.7,  6.4, 11.7,  6.6])"
      ]
     },
     "metadata": {},
     "output_type": "display_data"
    },
    {
     "name": "stdout",
     "output_type": "stream",
     "text": [
      "CO2\n"
     ]
    },
    {
     "data": {
      "text/plain": [
       "array([23., 29., 27.,  0., 28., 26., 19., 22., 24., 21., 25., 20., 18.,\n",
       "       30., 16., 31., 34., 17., 33., 37., 32., 35., 15., 40., 13., 14.,\n",
       "       10., 38., 43.])"
      ]
     },
     "metadata": {},
     "output_type": "display_data"
    },
    {
     "name": "stdout",
     "output_type": "stream",
     "text": [
      "creatinine\n"
     ]
    },
    {
     "data": {
      "text/plain": [
       "array([ 0.8 ,  1.2 ,  0.  ,  0.7 ,  1.1 ,  0.9 ,  0.6 ,  0.5 ,  1.3 ,\n",
       "        1.  ,  1.5 ,  1.6 ,  0.4 ,  1.8 ,  1.4 ,  5.5 ,  5.  ,  1.9 ,\n",
       "        1.7 ,  8.6 ,  2.9 ,  3.7 ,  5.1 ,  3.3 ,  5.4 ,  6.2 ,  2.3 ,\n",
       "        2.6 ,  2.1 , 17.8 ,  2.5 ,  2.  ,  3.1 ,  3.2 ,  4.  ,  6.4 ,\n",
       "        2.2 ,  4.4 ,  2.8 ,  3.5 ,  4.3 ,  6.6 ,  0.52,  0.76,  0.72,\n",
       "        1.36,  0.62,  0.92,  0.82,  1.31,  7.22,  1.02,  0.96,  1.22,\n",
       "        0.97,  1.04,  1.25,  0.89,  1.12,  0.79,  0.77,  0.67,  0.66,\n",
       "        0.86,  0.42,  0.68,  1.14,  0.81,  0.54,  0.65,  0.69,  0.61,\n",
       "        0.75,  1.01,  0.87,  0.56,  0.73,  1.38,  0.63,  0.98,  1.05,\n",
       "        1.13,  1.26,  0.84,  1.06,  1.09,  0.91,  1.27,  1.92,  1.03,\n",
       "        2.42,  1.21,  1.42,  0.57,  0.74,  0.94,  1.08,  4.42,  0.83,\n",
       "        0.64,  0.59,  0.85,  1.28,  1.07,  1.62,  1.32,  0.99,  0.71,\n",
       "        0.88,  1.17,  0.55,  1.82,  1.18,  0.95,  0.93,  0.49,  0.53,\n",
       "        0.33,  0.78,  1.52,  1.47,  7.72,  7.42,  1.29,  1.46,  0.58,\n",
       "        1.24,  0.51,  1.19,  1.11,  2.79,  1.69,  1.23,  1.72,  1.59,\n",
       "        1.15,  2.22,  1.81,  1.67,  2.12,  0.46,  5.56,  0.43,  1.53,\n",
       "        0.44,  1.58,  1.49,  1.43,  1.86,  1.77,  1.33,  1.73,  5.32,\n",
       "        1.16,  1.94,  1.48,  3.32,  1.39,  1.54,  1.71,  2.66,  1.41,\n",
       "        1.91,  1.35,  1.66,  1.65,  3.72,  2.21,  0.41,  0.31,  1.34,\n",
       "        0.45,  1.68,  1.37,  1.57,  2.32,  1.63,  2.36,  0.48,  1.95,\n",
       "        1.64,  8.32,  0.47,  1.44,  3.22,  0.32,  7.8 ,  2.02,  2.16,\n",
       "        2.52,  2.57,  2.11,  1.96,  2.82,  3.12,  0.37,  4.92,  1.78,\n",
       "        1.61,  2.72,  7.7 ,  2.54,  1.55,  9.13,  7.15,  6.34,  1.76,\n",
       "        2.03,  4.9 ,  1.45,  0.34,  2.78,  1.51,  0.38,  5.57,  1.56,\n",
       "        2.34,  3.04,  1.87,  9.38,  0.39,  8.35,  5.39,  1.79,  2.26,\n",
       "        6.48,  1.75,  1.85,  2.06,  1.93,  5.42,  1.74,  2.23,  2.65,\n",
       "        2.27,  2.77, 15.66,  8.51,  1.98,  6.24,  5.9 ,  2.41,  1.84,\n",
       "        3.38,  1.99,  2.69,  7.6 ,  7.31,  5.98,  2.05,  3.15,  2.01,\n",
       "        3.28,  3.4 ,  0.35, 10.98,  2.18,  1.89,  6.18,  0.16,  2.87,\n",
       "        3.46,  2.76,  7.33,  7.46,  5.54,  2.04,  3.31,  2.95,  2.81,\n",
       "        6.29,  9.51,  9.26,  0.3 ,  3.36,  2.24,  2.37,  5.14,  6.31,\n",
       "        2.49,  2.17,  2.39,  4.28,  2.43,  4.25,  2.14,  2.47,  5.43,\n",
       "        3.74,  2.07,  5.95,  4.27,  2.98,  2.31,  5.45,  1.83,  2.51,\n",
       "        3.48,  4.05,  4.35,  6.14,  4.96, 16.64,  2.08,  2.96,  5.19,\n",
       "        7.74,  5.36,  6.99,  6.69, 17.41,  3.62,  2.44, 12.48,  2.58,\n",
       "        2.25,  1.88,  6.3 ,  2.19,  5.16,  2.29,  5.47,  5.62,  8.07,\n",
       "        0.36,  2.73,  6.11,  2.92,  5.09,  4.21,  2.33,  5.07,  6.73,\n",
       "        3.44, 10.22,  3.53,  9.36,  2.09,  1.97, 10.35,  2.75,  5.38,\n",
       "        3.42,  2.67,  2.91,  2.4 ,  3.01,  7.43,  4.11,  2.59,  4.46,\n",
       "        6.75,  3.85,  6.61,  2.68,  2.53,  2.61,  0.29,  4.76,  6.19,\n",
       "        2.15,  2.62,  2.45,  2.74,  8.36, 12.74,  3.33,  9.66,  0.25])"
      ]
     },
     "metadata": {},
     "output_type": "display_data"
    },
    {
     "name": "stdout",
     "output_type": "stream",
     "text": [
      "GGT\n"
     ]
    },
    {
     "data": {
      "text/plain": [
       "array([  17.,   22.,   33.,    0.,   13.,   15.,   12.,   16.,   14.,\n",
       "          8.,   23.,   20.,   44.,   24.,   19.,   30.,   21.,   11.,\n",
       "          9.,   10.,   41.,    6.,   28.,  133.,   26.,   37.,   31.,\n",
       "         42.,   45.,   46.,   95.,   49.,   35.,  123.,   27.,   85.,\n",
       "         38.,   25.,   48.,   69.,   67.,   29.,    5.,   56.,   91.,\n",
       "         36.,  120.,   18.,  200.,   82.,  101.,  115.,  225.,    7.,\n",
       "         60.,   52.,   43.,   64.,   39.,  300.,   34.,   87.,   32.,\n",
       "         57.,   68.,   50.,   40.,    4.,  172.,   58.,  121.,   76.,\n",
       "        181.,   70.,  114.,   98.,  107.,  102.,   47.,  147.,   62.,\n",
       "         84.,  105.,  117.,   54.,  271.,  169.,  219.,  138.,   77.,\n",
       "        190.,   93.,   55.,   74.,   51.,  131.,  228.,  118.,   73.,\n",
       "         80.,  371., 1479.,  111.,  478.,   59.,  180.,  129.,  195.,\n",
       "         89.,   53.,   96.,   72.,   71.,  125.,  344.,   86.,   63.,\n",
       "         83.,  141.,  221.,  351.,   66.,  136.,   61.,  150.,  213.,\n",
       "         90.,  409.,  234.,  233.,   97.,   78.,  230.,  302.,  104.,\n",
       "        185.,  135.,  411.,  299.,  116.,  109.,  108., 1681.,  128.,\n",
       "         65.,  163.,   79.,   99.,  106.,  749.,  312.,  645.,  257.,\n",
       "        144.,  112.,  148.,  248.,  184.,  292.,  113.,  164.,  723.,\n",
       "        618.,  177.,  110.,  306.,   88.,  161.,   75.,  235.,  103.,\n",
       "        146.,  166.,  170.,  550.,  175.,  182.,  165.,   81.,  153.,\n",
       "        156.,  100.,  404.,  183.,  130.,  224.,  290.,  140.,  240.,\n",
       "        142.,  443.,  204.,  298.,  160.,  558.,  349.,   94.,  137.,\n",
       "        346.,  189.,  418.,  149.,  250.,  254.,  198.,  648.,   92.,\n",
       "        139.,  232.,  152.,  127.,  362.,  157.,  575.,  438.,  158.,\n",
       "        119.,  173.,  236.,  214.,  191.,  393.,  356.,  574.,  287.,\n",
       "        458.,  892.,  227.,  187.,  194.,  174.,  394.,  238.,  171.,\n",
       "        275.,  512.,  209.,  126.,  592.,  159.,  683.,  237.,  217.,\n",
       "        167.,  291.,  155.,  253.,  428.,  203.,  260.,  468.,  295.,\n",
       "        206.,  176.,  197.,  132.,  229.,  301.,  242.,  124.,  223.,\n",
       "        661.,  247.,  151.,  311.,  381.,  207.,  412.,  134.,  355.,\n",
       "        168.,  212.,  154.,  382.,  211.,  245.,  316., 1012.,  314.,\n",
       "        186.,  475.,  199.,  122.,  143.,  329.,  208.,  282., 1116.,\n",
       "        544.,  391.,  192.,  416.,  324.,  196.,  263.,  239.,  256.,\n",
       "        251.,  315.,  289.,  244.,  304., 1136.,  463.,  361.,  296.,\n",
       "        342.,  328.,  552.,  193.,  440.,  337.,  423.,  436.,  424.,\n",
       "        280.,  319., 1197.,  202.,  279.,  365.,  676.,  396.,  179.,\n",
       "        462.,  908.,  220.,  270.,  654.,  867.,  205.,  288.,  178.,\n",
       "        210.,  427.,  284.,  776.,  255.,  563., 1061.,  378.,  347.,\n",
       "        226.,  459.,  341.,  330.,  188.,  717., 1363.,  261.,  278.,\n",
       "          2.,  215.,  326.,  145.,  218.,  264.,  321.,  293.,  241.,\n",
       "        269.,  286.,  369.,  650.,  460.,  410.,  570.,    3.,  708.,\n",
       "       1192.,  216.,  305.,  309.,  310.,  386.,  646.,  414.,  262.,\n",
       "        398.,  374.,  283.,  506.])"
      ]
     },
     "metadata": {},
     "output_type": "display_data"
    },
    {
     "name": "stdout",
     "output_type": "stream",
     "text": [
      "glucose\n"
     ]
    },
    {
     "data": {
      "text/plain": [
       "array([ 87., 155.,  93.,   0.,  76.,  81.,  92.,  94.,  82.,  72.,  88.,\n",
       "        90., 105., 119.,  61.,  99., 148.,  85., 151., 111.,  73., 159.,\n",
       "       100., 162.,  95.,  66.,  78., 137., 106.,  91., 141., 109.,  86.,\n",
       "        77.,  96., 102.,  71.,  97., 130.,  89.,  75., 146.,  83., 101.,\n",
       "       112.,  84., 133.,  98.,  70.,  58., 107., 118., 184.,  74., 134.,\n",
       "        79.,  59., 236., 218., 264., 110., 178., 121., 222.,  65., 103.,\n",
       "       145., 204., 124.,  80., 114., 104., 331., 117., 362., 115., 157.,\n",
       "       194., 325., 254., 125., 341., 132.,  62., 147., 126., 181., 113.,\n",
       "       156., 129.,  55., 128., 152., 116.,  67., 209., 140., 135., 258.,\n",
       "       197., 108., 273., 144., 189., 120., 195.,  68.,  60., 122., 136.,\n",
       "        52., 225.,  53.,  56., 201.,  63., 142., 322., 123., 131., 139.,\n",
       "       165., 171., 127., 351., 398., 154., 206., 299., 205., 158., 213.,\n",
       "       164., 309.,  57., 219., 183., 274., 166.,  69., 143., 235.,  64.,\n",
       "       354., 198., 138., 211., 324., 376., 272., 244., 149., 168., 284.,\n",
       "        50.,  54.,  51., 247., 203., 263., 188.,  49., 191., 176., 153.,\n",
       "       169., 293., 291., 367., 307., 179., 150., 270.,  43., 261., 243.,\n",
       "       359., 196., 280., 174., 366., 228., 185., 350., 289., 192., 255.,\n",
       "       173.,  44., 252., 249., 161., 253., 232., 259., 281., 318., 170.,\n",
       "       306., 231., 229., 415., 248., 223., 428., 175., 453., 308., 288.,\n",
       "       374., 513., 182., 160., 266., 190., 238., 330., 214., 200., 186.,\n",
       "       251., 208., 406., 199., 368., 215., 167., 343., 311., 282., 386.,\n",
       "       207., 163., 227., 220., 436.,  33., 210., 269.,  48., 265.,  40.,\n",
       "       245., 287., 187., 267., 302., 212., 446.,  41., 423., 323., 202.,\n",
       "       172., 326., 305.,  47., 301., 310., 193., 217.,  38., 348., 399.,\n",
       "       262., 443., 358., 304., 360., 271., 240., 177., 327., 268., 242.,\n",
       "       383., 333., 230., 407., 372., 221., 260., 286., 559., 279., 276.,\n",
       "       216., 292., 256., 401., 224., 403., 369., 237., 294., 300., 537.,\n",
       "       408., 290., 226., 239., 382., 303., 481., 315., 319., 777., 275.,\n",
       "       328.,  46., 296., 357., 277., 313., 321., 344., 180., 465., 340.,\n",
       "       297.,  34., 339., 373., 246., 458., 338., 283., 285., 233., 332.,\n",
       "       234., 375., 345., 335., 329., 336., 298., 352., 482.,  42., 241.,\n",
       "       278., 337., 402.,  35., 617., 468., 320., 250., 526., 499., 605.,\n",
       "       361., 497., 391., 554., 567., 417., 442., 295., 394., 568., 450.,\n",
       "       312., 577., 393., 389., 257., 498., 347., 439., 370., 521., 371.,\n",
       "       384., 494., 349., 419.,  19., 455., 463., 409., 484., 379., 461.,\n",
       "       365., 478., 412., 447., 411., 381., 342., 610., 434., 353., 501.,\n",
       "       346., 314., 385., 489., 626., 496., 430.])"
      ]
     },
     "metadata": {},
     "output_type": "display_data"
    },
    {
     "name": "stdout",
     "output_type": "stream",
     "text": [
      "iron\n"
     ]
    },
    {
     "data": {
      "text/plain": [
       "array([ 51.,  89.,  84.,   0., 158., 114.,  76., 142.,  54.,  87., 213.,\n",
       "       117., 224.,  93.,  37.,  77.,  75., 124., 131.,  79.,  57.,  63.,\n",
       "        72.,  73.,  78.,  74.,  83.,  60.,  91.,  56.,  53., 147., 128.,\n",
       "        21., 145., 118., 135., 144., 119.,  95., 113., 103.,  59., 122.,\n",
       "       111.,  67., 108., 132.,  99.,  88.,  47., 130.,  82.,  92.,  61.,\n",
       "        70.,  43.,  80., 163., 106., 127., 107.,  90.,  49., 125.,  40.,\n",
       "        69.,  96.,  86.,  45.,  28.,  64., 129.,  65., 100.,  41., 101.,\n",
       "        98.,  19.,  52.,  58.,  35.,  94., 137.,  68.,  29.,  46., 121.,\n",
       "       120., 170.,  17.,  33.,  48., 123., 126.,  97.,  85., 157.,  81.,\n",
       "       105.,  71.,  31.,  25., 150., 102., 153., 143., 148., 199.,  38.,\n",
       "        27., 202., 164., 139.,  22., 140., 193.,  55.,  34.,  36., 133.,\n",
       "       104.,  10., 112.,  44., 172.,  24., 154., 160.,  50.,  32.,  62.,\n",
       "       116., 115., 162., 155.,  15., 180., 138., 210.,  66., 136.,  20.,\n",
       "       207.,  16., 178.,  23., 134., 203., 109.,  39., 233., 141.,  42.,\n",
       "        26., 177.,  11., 151., 110., 195., 226., 209., 165., 179.,  14.,\n",
       "        30., 161., 156., 181., 192., 221., 190., 167., 152., 168., 149.,\n",
       "         7., 183., 217., 171.,  12., 169., 220., 176., 241., 216., 166.,\n",
       "       191.,  18., 159., 146., 250., 175.,  13., 253.,   5., 182., 201.,\n",
       "       239., 219., 187., 215., 197., 189., 173., 194., 188., 297., 174.,\n",
       "       300., 186., 281.,   8., 245., 222., 261., 200., 208., 196., 382.,\n",
       "       230., 315., 205., 212.,   9., 242., 206., 198., 235., 236., 204.,\n",
       "       248., 249., 232., 237., 246., 185., 184., 279., 387., 266., 287.,\n",
       "       294., 227., 256., 262., 295., 223., 343., 257., 243., 265., 254.,\n",
       "       228., 255., 225., 231., 238., 218., 211.,   6., 214., 267., 240.,\n",
       "       271., 299., 258., 259., 302., 428., 244., 275., 234., 283., 278.,\n",
       "       229., 325., 260., 247., 286.,   2., 293., 476., 292., 288.])"
      ]
     },
     "metadata": {},
     "output_type": "display_data"
    },
    {
     "name": "stdout",
     "output_type": "stream",
     "text": [
      "LHD\n"
     ]
    },
    {
     "data": {
      "text/plain": [
       "array([ 105.,  165.,  158.,    0.,   93.,  120.,  153.,  150.,  125.,\n",
       "         88.,   97.,  127.,  106.,  126.,  116.,  154.,  148.,  104.,\n",
       "        100.,  118.,  110.,  235.,  115.,  176.,  134.,  117.,  103.,\n",
       "        102.,  101.,  142.,  166.,  151.,  155.,  143.,  122.,  129.,\n",
       "        136.,   99.,  111.,  114.,  128.,  133.,  135.,  193.,  121.,\n",
       "        167.,  132.,  123.,  113.,  140.,  149.,  181.,  138.,  139.,\n",
       "        131.,  109.,  238.,   98.,  157.,  108.,  160.,  175.,   81.,\n",
       "        208.,   96.,  119.,  146.,   90.,   89.,  159.,  144.,   87.,\n",
       "        152.,  137.,  107.,  112.,  124.,  179.,  169.,   95.,  185.,\n",
       "        145.,  189.,  182.,  162.,  164.,   86.,  141.,   82.,  197.,\n",
       "         83.,  130.,  178.,  170.,  204.,   84.,  180.,  184.,  161.,\n",
       "        173.,  163.,  200.,  183.,   94.,  231.,  187.,  346.,  147.,\n",
       "        199.,   85.,  156.,  186.,  168.,   67.,   77.,   70.,   92.,\n",
       "        213.,  245.,   79.,  174.,  203.,  201.,   91.,  195.,  177.,\n",
       "        228.,  188.,   60.,  268.,  209.,  171.,   73.,  191.,  336.,\n",
       "        226.,  205.,  233.,  274.,   76.,  218.,  192.,  194.,   71.,\n",
       "         72.,  326.,   74.,  212.,  225.,   54.,  202.,  172.,   75.,\n",
       "        243.,   78.,   65.,  230.,  207.,  223.,   68.,  217.,  190.,\n",
       "        216.,   80.,   53.,  255.,  198.,  242.,  219.,   62.,   57.,\n",
       "        220.,  265.,  214.,  206.,  196.,  296.,  224.,  210.,  759.,\n",
       "        221.,  263.,  211.,  581.,  241.,  378.,  262.,   66.,  227.,\n",
       "        337.,   69.,  237.,  264.,  229.,  222.,  267.,   64.,   59.,\n",
       "        246.,  293.,  285.,  215.,  244.,  341.,  251.,  260.,  277.,\n",
       "         52.,  405.,  234.,  430.,  350.,   63.,   50.,  256.,  250.,\n",
       "        249.,  266.,  364.,  485.,  253.,   37.,  276.,  257.,  273.,\n",
       "        254.,   51.,  344.,  232., 1539.,  322.,  271.,  318.,  476.,\n",
       "          4.,  311.,  286.,  301., 1092.,   46.,  269.,  673.,  282.,\n",
       "        261.,  252.,  726.,  345.,   56.,  236.,   58.,   32.,   55.,\n",
       "        343.,  306.,  247.,  491.,  240.,  356.,  308.,   61.,  367.,\n",
       "        259.,  292.,  303.,  305.,  577.,  452.,  552.,   39.,  334.,\n",
       "       1274.,  294.,  239.,  429.,  333.,   38.,  339.,  510.,  361.,\n",
       "        317.,  272.,  309.,  248.,  369.,  278.,  330.,  516.,  314.,\n",
       "        275.,  289.,  270.,  779.,  258.,  505.,  421.,  348.,  299.,\n",
       "        349.,  281.,  389.,  295.,  279.,  288.,  340.,  302.,  415.,\n",
       "        469.])"
      ]
     },
     "metadata": {},
     "output_type": "display_data"
    },
    {
     "name": "stdout",
     "output_type": "stream",
     "text": [
      "phosphorus\n"
     ]
    },
    {
     "data": {
      "text/plain": [
       "array([ 3.4 ,  3.3 ,  0.  ,  4.5 ,  4.7 ,  4.3 ,  3.6 ,  4.  ,  3.9 ,\n",
       "        3.5 ,  3.1 ,  3.7 ,  4.2 ,  4.6 ,  3.2 ,  4.4 ,  3.8 ,  4.1 ,\n",
       "        2.9 ,  5.3 ,  4.8 ,  5.2 ,  5.  ,  5.6 ,  3.  ,  5.4 ,  5.1 ,\n",
       "        2.8 ,  4.9 ,  2.6 ,  2.4 ,  2.5 ,  2.2 ,  2.7 ,  8.1 ,  5.8 ,\n",
       "        6.1 ,  5.7 ,  6.6 ,  2.3 ,  6.  ,  2.1 ,  6.5 ,  5.5 ,  2.  ,\n",
       "        7.2 ,  1.9 ,  1.5 ,  7.6 ,  6.7 ,  5.9 ,  6.2 ,  6.3 ,  7.5 ,\n",
       "        1.7 ,  1.8 ,  6.9 ,  1.6 ,  6.4 , 10.9 ,  3.56,  1.  ,  8.2 ,\n",
       "        9.6 ,  8.9 ])"
      ]
     },
     "metadata": {},
     "output_type": "display_data"
    },
    {
     "name": "stdout",
     "output_type": "stream",
     "text": [
      "bilirubin\n"
     ]
    },
    {
     "data": {
      "text/plain": [
       "array([4.00000000e-01, 1.00000000e+00, 5.00000000e-01, 0.00000000e+00,\n",
       "       7.00000000e-01, 1.30000000e+00, 3.00000000e-01, 6.00000000e-01,\n",
       "       1.10000000e+00, 1.50000000e+00, 8.00000000e-01, 1.20000000e+00,\n",
       "       2.00000000e-01, 9.00000000e-01, 1.40000000e+00, 2.40000000e+00,\n",
       "       1.80000000e+00, 1.60000000e+00, 2.80000000e+00, 1.70000000e+00,\n",
       "       1.90000000e+00, 3.20000000e+00, 2.60000000e+00, 1.00000000e-01,\n",
       "       3.60000000e+00, 2.00000000e+00, 2.30000000e+00, 1.31000000e+01,\n",
       "       2.10000000e+00, 2.50000000e+00, 2.90000000e+00, 2.20000000e+00,\n",
       "       3.10000000e+00, 2.70000000e+00, 7.30000000e+00, 4.10000000e+00,\n",
       "       4.40000000e+00, 3.30000000e+00, 3.90000000e+00, 7.10000000e+00,\n",
       "       3.40000000e-01, 3.20000000e-01, 2.70000000e-01, 2.50000000e-01,\n",
       "       8.50000000e-01, 1.00000000e-02, 2.00000000e-02, 5.39760535e-79,\n",
       "       8.00000000e-02, 4.00000000e-02, 7.00000000e-02, 3.00000000e-02,\n",
       "       5.00000000e-02, 9.00000000e-02, 6.00000000e-02, 3.00000000e+00])"
      ]
     },
     "metadata": {},
     "output_type": "display_data"
    },
    {
     "name": "stdout",
     "output_type": "stream",
     "text": [
      "total_protein\n"
     ]
    },
    {
     "data": {
      "text/plain": [
       "array([ 6.9 ,  7.2 ,  7.1 ,  0.  ,  7.3 ,  6.3 ,  7.5 ,  6.4 ,  6.8 ,\n",
       "        6.6 ,  7.  ,  6.5 ,  6.7 ,  6.1 ,  7.4 ,  7.6 ,  8.1 ,  7.9 ,\n",
       "        5.9 ,  8.2 ,  7.7 ,  6.2 ,  8.  ,  7.8 ,  5.7 ,  5.6 ,  8.3 ,\n",
       "        6.  ,  8.7 ,  5.5 ,  8.6 ,  5.8 ,  4.7 ,  5.2 ,  5.3 ,  8.5 ,\n",
       "        9.  ,  5.4 ,  8.4 ,  9.3 ,  9.9 ,  4.9 ,  9.1 , 10.9 ,  8.9 ,\n",
       "        8.8 ,  5.1 ,  9.5 , 10.4 ,  3.4 , 10.3 ,  9.7 , 10.1 , 11.3 ,\n",
       "       10.8 ,  9.2 ,  9.4 ,  5.38, 10.  ])"
      ]
     },
     "metadata": {},
     "output_type": "display_data"
    },
    {
     "name": "stdout",
     "output_type": "stream",
     "text": [
      "uric_acid\n"
     ]
    },
    {
     "data": {
      "text/plain": [
       "array([ 4.9,  7.2,  7.5,  0. ,  4.3,  6. ,  5.9,  4.8,  5.4,  4.2,  7.4,\n",
       "        6.4,  6.5,  5.5,  3.9,  6.7,  7.6,  4.7,  3.7,  4.1,  8.1,  4.5,\n",
       "        5.6,  5.8,  5.7,  2.4,  3.3,  3. ,  7.7,  5.3,  7.1,  6.9,  4. ,\n",
       "        5. ,  3.8,  6.3,  5.2,  4.6,  6.8,  2.5,  8.4,  6.1,  7.3,  3.2,\n",
       "        4.4,  3.6,  8.3,  8.7,  2.6,  5.1,  6.2,  9. ,  3.4,  8.8,  2.7,\n",
       "        3.5,  6.6,  7.9,  2.8,  3.1,  7. ,  2.9,  8. ,  7.8,  9.4,  8.5,\n",
       "        8.2,  2.3,  8.6,  9.1,  9.2,  9.5,  1.2,  9.3,  1.4,  9.8,  1.9,\n",
       "        8.9, 10.2,  9.7,  2.1, 10.8, 17.6,  2.2, 10.6,  9.9, 10.3, 10.9,\n",
       "        0.5, 10.4, 11. , 10.1,  1.6,  9.6, 10.5,  2. , 10.7, 11.8, 10. ,\n",
       "       11.6, 11.7, 11.2, 11.5,  1.7, 12.3, 13.1, 12.4, 11.4,  1.8, 11.3,\n",
       "       11.9, 12.2,  0.8, 13.3,  1.5,  0.4, 11.1,  0.7,  1.1, 13.7, 18. ,\n",
       "       13. , 12.1, 15.1])"
      ]
     },
     "metadata": {},
     "output_type": "display_data"
    },
    {
     "name": "stdout",
     "output_type": "stream",
     "text": [
      "sodium\n"
     ]
    },
    {
     "data": {
      "text/plain": [
       "array([137., 140., 139.,   0., 143., 138., 133., 136., 142., 135., 134.,\n",
       "       141., 132., 144., 145., 123., 131., 107., 146., 128., 129.,  99.,\n",
       "       130., 121., 127., 124., 160., 147., 117., 126., 119., 157., 151.,\n",
       "       120., 148., 114., 153., 150., 154., 161., 149.])"
      ]
     },
     "metadata": {},
     "output_type": "display_data"
    },
    {
     "name": "stdout",
     "output_type": "stream",
     "text": [
      "potassium\n"
     ]
    },
    {
     "data": {
      "text/plain": [
       "array([4.1 , 3.8 , 0.  , 4.4 , 4.  , 3.7 , 3.5 , 4.2 , 4.3 , 3.9 , 3.4 ,\n",
       "       3.6 , 4.6 , 5.1 , 4.7 , 5.  , 5.3 , 4.8 , 4.5 , 3.2 , 2.9 , 4.9 ,\n",
       "       3.3 , 3.1 , 5.2 , 3.  , 2.8 , 2.4 , 5.6 , 5.4 , 5.8 , 6.  , 5.9 ,\n",
       "       2.5 , 2.6 , 2.7 , 5.5 , 5.7 , 7.3 , 2.3 , 4.55, 4.08, 4.16, 4.31,\n",
       "       4.27, 3.91, 3.97, 4.61, 4.91, 3.51, 2.91, 3.58, 3.52, 3.94, 4.15,\n",
       "       4.12, 3.99, 4.34, 4.25, 4.13, 4.06, 4.02, 3.63, 4.19, 3.85, 3.66,\n",
       "       4.63, 4.52, 4.36, 4.03, 3.68, 4.58, 3.43, 3.64, 3.84, 4.26, 3.88,\n",
       "       3.69, 4.05, 3.77, 3.93, 3.18, 3.65, 4.14, 3.54, 3.78, 3.98, 3.42,\n",
       "       4.43, 3.59, 3.55, 4.18, 3.92, 4.42, 3.82, 3.96, 3.76, 4.28, 3.72,\n",
       "       4.32, 4.29, 3.83, 4.21, 3.67, 4.69, 3.56, 4.45, 3.81, 3.49, 5.12,\n",
       "       3.71, 3.11, 3.95, 4.04, 3.41, 4.09, 4.65, 3.74, 4.56, 4.07, 4.11,\n",
       "       3.89, 3.46, 4.22, 4.57, 4.82, 4.44, 4.53, 3.61, 3.86, 3.79, 3.32,\n",
       "       4.24, 3.47, 3.28, 3.62, 3.48, 4.54, 5.15, 4.01, 4.39, 3.45, 3.25,\n",
       "       4.51, 4.46, 3.35, 4.23, 2.96, 3.87, 3.29, 3.34, 4.49, 3.21, 3.57,\n",
       "       3.08, 3.75, 3.33, 4.33, 4.71, 4.17, 4.48, 3.22, 4.68, 5.22, 3.27,\n",
       "       3.73, 4.98, 4.73, 3.39, 4.35, 3.26, 4.94, 4.37, 3.53, 2.95, 5.36,\n",
       "       3.38, 3.44, 3.37, 4.78, 4.76, 3.06, 4.75, 4.95, 4.38, 3.36, 4.93,\n",
       "       3.07, 4.72, 5.04, 4.89, 4.41, 4.64, 2.99, 3.04, 3.31, 4.97, 4.92,\n",
       "       2.82, 3.12, 4.81, 4.74, 4.66, 3.03, 3.14, 2.63, 4.79, 3.15, 3.17,\n",
       "       3.23, 5.05, 5.21, 4.96, 3.19, 2.89, 4.99, 4.67, 2.66, 4.47, 4.77,\n",
       "       4.83, 5.86, 5.03, 5.52, 3.24, 5.51, 5.09, 4.59, 4.88, 2.84, 2.92,\n",
       "       4.62, 2.88, 4.87, 3.09, 5.01, 5.08, 5.02, 5.37, 4.84, 3.16, 3.13,\n",
       "       6.6 ])"
      ]
     },
     "metadata": {},
     "output_type": "display_data"
    },
    {
     "name": "stdout",
     "output_type": "stream",
     "text": [
      "chloride\n"
     ]
    },
    {
     "data": {
      "text/plain": [
       "array([106., 102., 103.,   0., 104., 105., 108.,  95., 100., 107., 101.,\n",
       "        97.,  98., 111.,  99., 109., 110.,  92.,  94.,  96.,  79.,  91.,\n",
       "        93.,  73.,  89., 112.,  90., 115., 113., 117.,  88.,  84., 116.,\n",
       "        87., 118., 119., 114.,  86., 120.,  82.,  83.])"
      ]
     },
     "metadata": {},
     "output_type": "display_data"
    },
    {
     "name": "stdout",
     "output_type": "stream",
     "text": [
      "osmolality\n"
     ]
    },
    {
     "data": {
      "text/plain": [
       "array([271., 287., 277.,   0., 283., 275., 281., 276., 280., 274., 279.,\n",
       "       266., 273., 284., 282., 269., 272., 267., 270., 278., 262., 285.,\n",
       "       288., 268., 265., 261., 289., 286., 290., 243., 292., 298., 215.,\n",
       "       291., 294., 301., 264., 297., 296., 293., 258., 201., 260., 299.,\n",
       "       307., 295., 304., 263., 259., 300., 246., 302., 252., 248., 255.,\n",
       "       257., 314., 309., 250., 254., 256., 253., 310., 235., 313., 241.,\n",
       "       321., 228., 306., 303., 244., 315., 237., 308., 323., 249., 322.,\n",
       "       305.])"
      ]
     },
     "metadata": {},
     "output_type": "display_data"
    },
    {
     "name": "stdout",
     "output_type": "stream",
     "text": [
      "globulin\n"
     ]
    },
    {
     "data": {
      "text/plain": [
       "array([3.4, 2.2, 3.2, 0. , 2.5, 2.6, 3.6, 2.9, 2.7, 2.3, 3.1, 2.4, 3.5,\n",
       "       2.1, 3. , 2.8, 3.3, 3.7, 1.9, 3.9, 4.7, 4.2, 2. , 3.8, 1.8, 4. ,\n",
       "       4.3, 4.1, 4.6, 4.5, 4.4, 5.6, 6.6, 1.5, 5.4, 7.1, 4.8, 5.5, 5.3,\n",
       "       6.2, 4.9, 5. , 1. , 5.9, 6.5, 5.8, 5.7, 1.7, 5.2, 1.6, 6.7, 6.3,\n",
       "       7.5, 7.2, 1.3, 1.4, 0.7, 5.1, 0.8, 1.2, 6. , 7. ])"
      ]
     },
     "metadata": {},
     "output_type": "display_data"
    },
    {
     "name": "stdout",
     "output_type": "stream",
     "text": [
      "white_BCC\n"
     ]
    },
    {
     "data": {
      "text/plain": [
       "array([  5.3,   7.5,   6.6,   0. ,   5.9,   9.6,  25. ,   6.5,   4.3,\n",
       "         9.7,   8.4,   6.9,   4.6,   8. ,   9. ,   6.1,   6.8,   9.5,\n",
       "         6.4,   8.7,   4.9,   7.4,   6.3,  10.6,  10.4,   8.1,   8.9,\n",
       "        12.9,   8.2,   9.3,   7.1,   5.1,   7.6,   5.4,   9.2,   7.8,\n",
       "        10. ,   5.7,  17.3,   5.8,   5.6,   8.6,  11.6,   9.1,   7.2,\n",
       "        13.9,   8.8,  10.1,  12.2,   4.4,  11.4,   6.2,  12.7,   7.9,\n",
       "        12.3,   5.2,  16.7,   9.4,   4.7,   8.5,   9.9,   5.5,  10.3,\n",
       "         6.7,   8.3,   5. ,   3.7,   4.1,   7.3,   6. ,   7.7,  10.8,\n",
       "        11.7,  10.2,  11.2,  10.7,  10.9,   3. ,   4.8,  11.3,   7. ,\n",
       "        12.4,  13.3,   4. ,  14.1,  12.6,   3.4,  13.8,   9.8,  11.5,\n",
       "        11.8,   3.3,  11.1,   3.9,  11.9,   4.5,  11. ,  13.4,   3.5,\n",
       "        10.5,  17. ,  15.1,  12. ,  13.2,   4.2,  15. ,  16.5,  12.8,\n",
       "        15.8,   3.1,   2.9,  12.1,  14.5,  13.1,   3.2,  19.1,  18.8,\n",
       "        20. ,  15.4,   3.6,  15.6,  13. ,  16.9,  17.5,  52.2,   3.8,\n",
       "        13.6,  14.8,  12.5,   2.8,  16.1,  14.4,  19.7,  55.9,  16.4,\n",
       "         2.7,  13.5,  28.3,  14.7,  16.8,  15.3,  42.5,   2.5,  18.4,\n",
       "        13.7,  18.5,   2.3,  19.3,  18. ,  16.3,  39.2,   2.6,  18.1,\n",
       "        14.3,  43.9,  20.7,  17.1,  14. ,  14.6,  30.3,  14.9,   1.5,\n",
       "        16.6,  28.7,  14.2,  19.8,  15.9,   1.6,  15.2,  83.2,   1.7,\n",
       "        16. ,  17.2,  22. ,  15.7,  37.4,  21.3,  99.9,  26.3,  68.3,\n",
       "        15.5,  54.7,   2. ,  34. ,  18.2,  55.7,  17.9,  19.9,  21.4,\n",
       "        31.4,  17.4,  23.2,  17.7,  18.7,  18.9,  16.2,  21. ,  17.8,\n",
       "       117.2,  44.8,   1.4,  23. ,  19. ,  22.8,  20.6,   1.9,   2.4,\n",
       "        20.3,  38.1, 400. ,  41.9])"
      ]
     },
     "metadata": {},
     "output_type": "display_data"
    },
    {
     "name": "stdout",
     "output_type": "stream",
     "text": [
      "lymphocyte_percent\n"
     ]
    },
    {
     "data": {
      "text/plain": [
       "array([35.8, 29.4, 29.1,  0. , 25.6, 22.1, 69.6, 18.8, 37.8, 17.2, 33.3,\n",
       "       36. , 35.9, 21.2, 28.3, 23.4, 27.3, 35.3, 24.9, 20.2, 31. , 32. ,\n",
       "       34.4, 30.2, 13. , 24.1, 38.3, 18.3, 36.5, 19. , 32.8, 39.6, 22.9,\n",
       "       24.2, 33.4, 33.7, 26.3, 22.7, 22.2, 35.7, 19.4, 27. , 33.8, 37.9,\n",
       "       20. , 27.8, 23.1, 35. , 49.9, 27.9, 76.4, 31.9, 54.9, 35.2, 29.5,\n",
       "       23.7, 31.5, 30.9, 27.1, 27.7, 36.9, 36.1, 41.6, 19.3, 30.3, 14.1,\n",
       "       28.8, 29.8, 23.8, 34.2, 15.9, 36.4, 29. , 29.2, 32.1, 41. , 10.3,\n",
       "       37.7, 28.7, 16.7, 21.1, 25. , 31.3, 28.9, 30.5, 20.7, 14.6, 23.5,\n",
       "       17.3, 17.6, 26. , 20.3, 31.6, 48.7, 35.1, 12.6, 40.8, 24.5, 39.5,\n",
       "       26.1, 43.4, 35.5, 21.6, 52. , 29.3, 37.3, 47.9, 38.1, 32.5, 55.3,\n",
       "       24.8, 19.5, 51.8, 15. , 47.2, 31.2, 27.5, 15.6, 33. , 23.6, 41.2,\n",
       "       25.4, 40.4, 34.8, 31.4, 26.6, 38.2, 32.3, 29.7, 43.1, 25.2, 50.5,\n",
       "       28. , 37.2, 25.7, 39.9, 15.7, 46.8, 36.7, 42.8, 44.6, 35.6, 43.2,\n",
       "       19.2, 40.1, 26.2, 26.9, 26.7, 32.7, 58.2, 31.1, 39.3, 43.3, 21.3,\n",
       "       22.5, 42.2, 21.8, 39.2, 20.8, 41.9, 44.5, 16.3, 23. , 22.4, 40. ,\n",
       "       16.6, 34.5, 30.7, 23.2, 18.5,  7.2, 39.7, 13.5, 38.4, 43.7, 16.9,\n",
       "       18.9, 36.2, 26.5, 47.6, 30.8, 18. , 32.2, 14.8, 30. , 20.4, 49.3,\n",
       "       13.1, 41.8, 27.4, 30.6, 33.6, 36.3, 11.3, 45.1, 37.1, 36.6, 14.3,\n",
       "       28.4, 18.4, 17.4, 19.1, 44.3, 33.5, 17.7, 45.3, 34.6, 17.9, 41.7,\n",
       "       48. , 30.1, 44.7, 28.6, 16.8, 20.9, 33.2, 13.6, 45.2, 21.9, 34.7,\n",
       "       14.9, 25.8, 54.1, 26.4, 50.7, 29.9, 19.7, 15.2, 25.5, 36.8, 32.4,\n",
       "       23.3, 21.5, 34.1, 55.6, 40.2, 25.3, 41.4, 26.8, 27.2, 34. , 52.4,\n",
       "       49.8, 28.1, 19.8, 40.9, 44.4, 22.3, 38.8, 25.9, 32.9, 21. , 17. ,\n",
       "       27.6, 33.1, 34.3, 14.4, 19.9, 12.1, 39.4, 38.7, 48.8, 52.2, 39.8,\n",
       "       45.7, 24.3, 10.5, 45.5, 12.5, 40.5, 38. , 40.3, 28.5, 22.8, 43.8,\n",
       "       42.1, 31.8, 43.6, 38.5, 39. , 31.7, 41.3, 54.3, 12.3, 20.5, 32.6,\n",
       "       13.9, 50.3, 14.5, 22. , 12.7,  9.8, 16. , 29.6, 51.4, 24.7, 20.6,\n",
       "       24.6, 11.9, 51.7, 49.7, 17.1, 16.5, 46.1, 34.9, 14.7, 10.9, 24.4,\n",
       "       49. , 42.7, 47.4, 24. , 44.9, 21.4, 44.8, 40.6, 30.4, 35.4, 38.6,\n",
       "       48.6, 18.7, 41.5, 60.7, 54.6, 56.9, 16.4, 43.5, 42.9, 23.9, 43. ,\n",
       "       39.1, 37.4, 28.2, 43.9, 11.8, 47.8, 11.5,  9.1, 21.7, 15.3, 12.9,\n",
       "       37.5, 57.8, 52.8, 38.9, 45.8, 46.3, 15.8, 48.9, 75.4, 14. , 18.2,\n",
       "        6.4, 11.2, 10. , 46.2, 49.5,  9.3, 58.3, 37. , 17.8, 25.1, 18.1,\n",
       "       33.9,  7.9, 13.3, 13.8, 11.6, 45.4, 55.7, 48.4, 20.1, 52.7,  9. ,\n",
       "       47. , 42.3, 86.6, 42.6, 22.6, 16.2, 17.5, 41.1, 48.3, 44.2, 15.5,\n",
       "       53.5, 19.6, 48.5, 47.7, 53.3, 13.7, 42.5, 12.2,  8.5, 10.4, 18.6,\n",
       "       51.5, 46.5, 11. , 56.1, 15.1, 44. , 40.7, 37.6,  7.4, 12.8, 16.1,\n",
       "       53.9, 58.1, 46.6, 44.1, 55.5, 54. , 50.8,  5.3, 57.9, 11.4, 45.6,\n",
       "       54.2, 56.2, 53.4,  9.9, 51.2, 13.2, 45. , 13.4, 15.4, 49.2, 47.1,\n",
       "       46. , 49.6, 69.9, 50. , 50.2, 53.8, 52.1,  8.9, 79.9,  7.8,  8.3,\n",
       "       48.2, 12.4, 56.3, 71.1, 48.1, 46.4, 60.4, 42. , 47.3, 49.1, 42.4,\n",
       "       51.6, 45.9, 50.9,  9.5, 11.1, 55.8, 58.5, 53. , 59.8, 64.3, 10.7,\n",
       "       56.7, 55.9, 49.4, 51.3, 55.4, 56. , 77.4,  6.6, 62.6, 11.7, 77.1,\n",
       "       60. , 46.7,  5.9, 52.5, 68.4, 51.9, 59.9, 53.7, 75.1,  8.7,  8. ,\n",
       "       55.1, 58.6, 52.6, 57.7, 57.5, 56.4, 59.7, 10.2,  9.6, 78.9,  6.8,\n",
       "       64.8, 54.7, 50.4, 71.3, 56.8, 78.4, 50.1,  7.7, 14.2, 60.2, 50.6,\n",
       "       55. , 54.5, 52.9,  8.4, 47.5, 10.6, 63.5,  9.4, 85.5, 60.9, 52.3,\n",
       "       59.4, 59.3, 10.1, 54.8, 46.9, 58.4,  7.5, 12. ,  8.8, 51.1, 63.1,\n",
       "       63. , 62.7, 58.7, 10.8,  6.1, 53.2, 61. , 51. ,  6.5, 55.2, 69.2,\n",
       "        3.5, 58. , 54.4, 61.4, 57.2, 61.3, 64.7, 70.9, 67.1,  2.9, 76.3,\n",
       "       59. , 58.8, 53.1,  3.6, 64.6, 60.3, 56.6, 71.8,  6.3, 57. ,  9.2,\n",
       "       81.6,  2.7, 70. ,  3.9, 57.6,  8.2,  6.7, 56.5, 66.8, 53.6,  9.7,\n",
       "       65.4, 88. ,  4. ,  3.4, 61.2,  8.1, 69.1, 63.3, 68.7, 59.2,  4.9,\n",
       "       57.3,  5. ,  6.9, 60.8, 76.7, 94.5,  3.7,  6. ,  7.6, 65.8,  7.1,\n",
       "       90.8, 62.4,  5.2, 67.6,  7.3, 61.7, 62.1, 61.8, 59.6, 64.9, 58.9,\n",
       "       61.1, 67.3, 84.3, 89.7, 89.5,  7. ])"
      ]
     },
     "metadata": {},
     "output_type": "display_data"
    },
    {
     "name": "stdout",
     "output_type": "stream",
     "text": [
      "monocyte_percent\n"
     ]
    },
    {
     "data": {
      "text/plain": [
       "array([ 7.8,  9.1, 12. ,  0. ,  5.9,  7.3,  6.7,  9.6, 10.4,  3.8,  6.8,\n",
       "        7.7,  6.4,  8.6, 11. , 10.6,  7.6,  5.2, 17.3, 12.7,  5.8,  8.2,\n",
       "        7.4,  5.1,  7.1,  8.4,  9.4,  4.6,  8.8,  8.5,  3.7,  5. , 12.1,\n",
       "        7.2,  5.6, 11.8,  6.1,  7.9,  6.3,  9.3,  5.7, 11.4,  2.5,  4.8,\n",
       "        8.1,  9.9,  9. ,  6.5,  6.6, 10.7, 10.8,  7.5,  8.9, 10.5,  4.3,\n",
       "        4.1,  8. , 14.9,  5.4, 10. , 15.6, 13.2,  9.5,  4.9,  3.6, 10.2,\n",
       "        5.3,  9.8,  6.2,  4.7,  7. ,  4.4,  9.2, 14.8, 10.9, 10.1,  8.7,\n",
       "       16.3,  5.5, 11.1, 11.9,  9.7,  6.9, 15.8, 13.1,  4.5, 10.3,  2.6,\n",
       "       12.3,  3.4, 12.2, 11.3, 12.5,  8.3, 13.9, 12.9, 13. , 14.1, 15.3,\n",
       "       11.5, 15.2,  3.2,  2.8, 16.6, 15. , 11.2,  6. , 19. ,  3.5, 11.7,\n",
       "        3.9,  4. , 12.4, 15.1,  2.3,  3.3, 13.5, 11.6, 14.7, 16.7, 18.8,\n",
       "       16.8,  4.2,  3. , 13.6, 13.3, 20.2,  2.9,  2.7, 13.7,  1.6, 14.5,\n",
       "       17.4, 20. , 12.6, 19.5, 13.4,  2.1,  1.5, 18.7, 14.4, 15.4, 19.6,\n",
       "        1.7, 34.1,  3.1, 12.8, 19.8, 17.1, 14. ,  1.8,  1.9, 39.8, 18.2,\n",
       "       13.8, 17.2, 16.4, 18. , 14.3, 18.9,  1.4, 19.1, 18.5,  0.8, 18.3,\n",
       "        1. , 22.4, 44.5, 17. , 19.7, 16.2, 14.6, 16.1, 26.2,  2.2, 16.5,\n",
       "       14.2, 19.4, 39.1,  1.3, 15.5, 15.9, 17.6,  2. , 19.3, 16. ,  0.7,\n",
       "       25.9, 24.4,  2.4, 16.9, 32. , 22.3, 20.7, 19.2,  0.9, 21.5, 17.9,\n",
       "       28.4, 18.6, 38.8, 20.9, 66.9, 17.7,  0.6, 20.5,  1.1, 17.5, 21.1,\n",
       "       35.3, 19.9, 23.8, 38.9, 23.3, 29.3, 18.1, 26.7, 20.8, 18.4, 20.1,\n",
       "       21.6, 21.2, 24.1, 21.3,  1.2])"
      ]
     },
     "metadata": {},
     "output_type": "display_data"
    },
    {
     "name": "stdout",
     "output_type": "stream",
     "text": [
      "neutrophils_percent\n"
     ]
    },
    {
     "data": {
      "text/plain": [
       "array([55.1, 58.9, 55.4,  0. , 66.2, 65.7, 23.2, 68.7, 39.8, 76.6, 55.3,\n",
       "       52. , 54.5, 62.2, 68.1, 55. , 58.1, 62.3, 57.7, 55.2, 61.4, 59. ,\n",
       "       61. , 53.9, 60.1, 81.4, 65.3, 51.4, 72.3, 45.8, 74.5, 56.6, 48.2,\n",
       "       49.9, 70. , 67.8, 50.8, 64.2, 68.3, 62. , 71.4, 62.4, 56.4, 45.4,\n",
       "       57.8, 64.5, 53.6, 62.7, 57.5, 63.8, 73.8, 17.9, 57. , 61.8, 35.7,\n",
       "       51.3, 60.6, 66.4, 54.4, 61.2, 61.5, 52.5, 50.5, 58.8, 46.1, 74.9,\n",
       "       60.9, 50. , 69.9, 71.1, 49.5, 56.8, 78.1, 41.3, 55.8, 59.1, 35.2,\n",
       "       77.8, 50.9, 51. , 63.4, 70.8, 57.1, 67.9, 55.5, 61.3, 48.6, 52.6,\n",
       "       77.6, 73.6, 65.1, 72.2, 41.7, 53.3, 54.1, 62.8, 80.2, 50.2, 68.5,\n",
       "       45.7, 61.9, 44.3, 69.1, 31.5, 60.7, 54.7, 46.3, 34.5, 68.9, 63.9,\n",
       "       37.5, 77.4, 60.5, 65.9, 78.7, 60.3, 48.5, 41.8, 64.8, 67.2, 71. ,\n",
       "       52.4, 58.4, 48.9, 49.2, 59.2, 64.6, 64.9, 58.7, 60. , 39.9, 60.4,\n",
       "       38.3, 55.7, 48.1, 64.3, 49.8, 54.3, 71.7, 68.6, 74.6, 42. , 42.8,\n",
       "       63.7, 75.9, 50.7, 39. , 73.4, 46.9, 66.1, 66.6, 63.6, 34.4, 69. ,\n",
       "       54.6, 47.2, 48.7, 71.2, 51.6, 69.5, 42.6, 71.8, 65.4, 65.8, 51.1,\n",
       "       57.4, 72.4, 62.9, 66.8, 79.3, 77.7, 52.1, 67.5, 48.4, 77.9, 51.9,\n",
       "       45.3, 70.2, 51.8, 52.2, 73.1, 56.5, 49. , 69.2, 50.1, 76.2, 59.6,\n",
       "       71.3, 55.9, 37.3, 65.6, 44.1, 71.9, 53.8, 78.4, 52.8, 79.1, 53.7,\n",
       "       58.3, 76.7, 52.3, 52.7, 48.3, 59.5, 64.7, 62.5, 66.3, 62.6, 73.3,\n",
       "       77.1, 47.4, 72.1, 76.1, 46.8, 46.6, 56.7, 52.9, 47.6, 45.6, 44.2,\n",
       "       69.3, 67.3, 68.8, 76.3, 59.4, 71.6, 55.6, 34. , 56.1, 59.3, 35.5,\n",
       "       59.9, 63.5, 58.5, 59.8, 67.1, 51.7, 61.7, 44.7, 63. , 27.3, 50.3,\n",
       "       47.7, 45.5, 28.1, 64.1, 53.1, 45.9, 60.2, 70.3, 78.5, 39.1, 68.2,\n",
       "       58.2, 68.4, 36.7, 49.1, 54.9, 74.2, 48.8, 58. , 64.4, 53.5, 69.7,\n",
       "       46.2, 58.6, 57.9, 47.1, 59.7, 70.7, 45.1, 54.2, 47.5, 42.2, 36.2,\n",
       "       33.3, 69.4, 53.4, 75.5, 53. , 56.2, 76.4, 57.6, 69.6, 75.8, 66. ,\n",
       "       43.8, 33.5, 51.2, 65.2, 53.2, 72.6, 71.5, 65. , 82.1, 49.7, 38. ,\n",
       "       43.4, 37. , 57.2, 74.7, 73.5, 34.8, 62.1, 79.4, 63.2, 74.3, 65.5,\n",
       "       40.6, 76.8, 70.4, 75.2, 49.3, 44.4, 84.9, 74.4, 28.8, 73. , 75.6,\n",
       "       73.9, 75.3, 66.9, 41. , 76. , 40.9, 63.3, 70.9, 43.2, 70.1, 80.7,\n",
       "       28.9, 67.4, 86.6, 72.8, 46.7, 78.6, 42.1, 44.9, 43.7, 51.5, 75.4,\n",
       "       78.8, 42.7, 61.1, 42.5, 60.8, 36.8, 39.7, 21.6, 32.9, 61.6, 72.7,\n",
       "       73.7, 70.6, 43.6, 69.8, 45.2, 76.9, 47.8, 66.7, 78.3, 80.1, 43.3,\n",
       "       54. , 86.2, 43.9, 34.3, 50.6, 63.1, 72.5, 78. , 56. , 44.6, 44.5,\n",
       "       40.8, 43. , 56.3, 31. , 56.9, 41.4, 47. , 44.8, 81.2, 37.7, 30.8,\n",
       "       19.3, 88.9, 82. , 74.8, 45. , 81.6, 38.7, 67.6, 40. , 30. , 72. ,\n",
       "       83.7, 41.2, 77.2, 67.7, 90.2, 73.2, 79.5, 38.9, 64. , 36.3, 47.9,\n",
       "       81.1, 57.3, 41.5, 37.2, 54.8, 40.2, 36.9, 72.9,  6.6, 49.6, 78.2,\n",
       "       39.6, 49.4, 35.8, 40.5, 32.5, 41.1, 82.3, 40.1, 37.9, 40.3, 31.6,\n",
       "       67. , 39.4, 36.6, 36.5, 50.4, 89.1, 74.1, 80.6, 40.4, 43.5, 42.4,\n",
       "       47.3, 37.4, 83.6, 41.9, 86.3, 80.3, 80.9, 66.5,  9.1, 48. , 30.7,\n",
       "       32.8, 44. , 34.7, 87.9, 35.4, 34.1, 81.3, 37.1, 46. , 75. , 36.4,\n",
       "       33.9, 77.3, 37.6, 35.3, 78.9, 39.2, 38.2, 75.7, 84.1, 27.8, 28.2,\n",
       "       83.4, 22.8, 32.7, 33.2, 42.9, 38.4, 28.4, 43.1, 42.3, 32.2, 38.8,\n",
       "       84.4,  9.7, 77.5, 83.1, 88.2, 68. , 79. , 27.4, 23. , 79.9, 27.2,\n",
       "       34.6, 81.8, 26.3, 46.4, 46.5, 39.3, 21.9, 31.7, 29.3, 79.2, 33.8,\n",
       "       37.8, 83. , 26.2, 77. , 39.5, 38.1, 29.6, 81.5, 31.9, 41.6, 84.3,\n",
       "       35.6, 29.7, 80.5, 27.6, 25. , 36. , 29.1, 82.5, 32.3, 82.6, 84.6,\n",
       "       36.1, 35. , 30.1, 31.1, 16.5, 75.1, 38.6, 70.5, 86.8, 40.7, 85. ,\n",
       "       17.7, 31.3, 76.5, 81.7, 79.7, 32. , 19.2, 30.4, 33.6, 35.9, 80.8,\n",
       "       15.4, 88.1, 28.5, 31.4, 29.9, 82.8, 15.1, 38.5, 88.3, 80. , 24.5,\n",
       "       32.6, 23.6, 82.2, 15.2, 31.8, 86.4, 85.1, 74. , 82.7, 33.4, 87.6,\n",
       "       25.6, 21.7, 79.6, 81.9, 83.5, 81. , 10.4,  6.5, 34.9, 23.8, 27. ,\n",
       "       33. , 26.5, 29.2, 82.4, 89.4, 25.8, 90.6, 24.4, 83.2, 33.1, 24.6,\n",
       "       29.5, 85.7, 85.4, 28.6, 85.3, 29.8, 33.7, 26. , 89.8, 21.1, 93.6,\n",
       "       27.5, 18.7, 22.5, 18.8, 16.3, 30.3, 92.1, 29. , 32.1, 31.2, 28.3,\n",
       "       30.6, 26.4,  0.8, 22. , 87.2, 14.9,  1. , 34.2, 25.5, 13.1, 30.9,\n",
       "       35.1, 96.6, 83.9, 19.5, 88. , 32.4, 29.4, 89.7, 30.2, 26.9, 84.2,\n",
       "       25.1,  8.8, 84. , 21. , 87.5, 88.8, 30.5, 24.9, 16.4, 19.4, 25.4,\n",
       "       21.2, 85.6, 90.8, 20. , 80.4,  3.6, 92.2, 88.4, 25.9, 83.8,  6.7,\n",
       "       22.3, 85.2, 28. , 93.2, 23.5, 92.8, 83.3, 24.3, 26.6, 10.6, 88.6,\n",
       "       86.7, 79.8, 27.9, 27.1, 11.8, 14.3,  8.4, 85.8, 89.2])"
      ]
     },
     "metadata": {},
     "output_type": "display_data"
    },
    {
     "name": "stdout",
     "output_type": "stream",
     "text": [
      "eosinophils_percent\n"
     ]
    },
    {
     "data": {
      "text/plain": [
       "array([9.00000000e-01, 2.20000000e+00, 3.30000000e+00, 0.00000000e+00,\n",
       "       1.80000000e+00, 3.70000000e+00, 3.00000000e-01, 2.40000000e+00,\n",
       "       1.10000000e+01, 1.60000000e+00, 4.00000000e+00, 2.50000000e+00,\n",
       "       5.10000000e+00, 4.90000000e+00, 6.90000000e+00, 2.30000000e+00,\n",
       "       1.70000000e+00, 4.80000000e+00, 2.00000000e+00, 3.40000000e+00,\n",
       "       6.00000000e-01, 2.90000000e+00, 1.30000000e+00, 1.90000000e+00,\n",
       "       8.20000000e+00, 1.50000000e+00, 4.10000000e+00, 2.80000000e+00,\n",
       "       3.50000000e+00, 8.00000000e-01, 3.60000000e+00, 6.70000000e+00,\n",
       "       1.40000000e+00, 4.40000000e+00, 7.00000000e-01, 1.20000000e+00,\n",
       "       3.90000000e+00, 3.80000000e+00, 4.70000000e+00, 8.40000000e+00,\n",
       "       3.20000000e+00, 7.50000000e+00, 1.36000000e+01, 5.40000000e+00,\n",
       "       1.00000000e+00, 5.30000000e+00, 3.10000000e+00, 1.40000000e+01,\n",
       "       1.05000000e+01, 6.80000000e+00, 2.10000000e+00, 5.90000000e+00,\n",
       "       4.30000000e+00, 1.10000000e+00, 2.70000000e+00, 3.00000000e+00,\n",
       "       1.18000000e+01, 6.10000000e+00, 4.20000000e+00, 1.09000000e+01,\n",
       "       7.90000000e+00, 2.60000000e+00, 5.80000000e+00, 5.00000000e+00,\n",
       "       5.60000000e+00, 7.30000000e+00, 1.00000000e-01, 4.60000000e+00,\n",
       "       4.00000000e-01, 6.50000000e+00, 5.70000000e+00, 1.24000000e+01,\n",
       "       4.50000000e+00, 9.90000000e+00, 5.50000000e+00, 1.27000000e+01,\n",
       "       8.60000000e+00, 5.20000000e+00, 2.00000000e-01, 7.00000000e+00,\n",
       "       1.80000000e+01, 6.00000000e+00, 7.60000000e+00, 8.80000000e+00,\n",
       "       1.21000000e+01, 8.00000000e+00, 5.00000000e-01, 7.20000000e+00,\n",
       "       9.10000000e+00, 6.60000000e+00, 7.80000000e+00, 1.22000000e+01,\n",
       "       9.80000000e+00, 6.40000000e+00, 1.02000000e+01, 6.30000000e+00,\n",
       "       7.40000000e+00, 1.08000000e+01, 8.10000000e+00, 1.50000000e+01,\n",
       "       8.50000000e+00, 1.01000000e+01, 1.06000000e+01, 1.65000000e+01,\n",
       "       1.00000000e+01, 9.60000000e+00, 1.25000000e+01, 7.10000000e+00,\n",
       "       9.40000000e+00, 8.90000000e+00, 9.20000000e+00, 1.58000000e+01,\n",
       "       1.26000000e+01, 1.31000000e+01, 8.70000000e+00, 6.20000000e+00,\n",
       "       1.30000000e+01, 1.13000000e+01, 9.50000000e+00, 7.70000000e+00,\n",
       "       2.71000000e+01, 3.29000000e+01, 1.44000000e+01, 1.43000000e+01,\n",
       "       2.75000000e+01, 9.30000000e+00, 1.04000000e+01, 9.70000000e+00,\n",
       "       1.56000000e+01, 8.30000000e+00, 2.73000000e+01, 1.23000000e+01,\n",
       "       1.15000000e+01, 2.92000000e+01, 9.00000000e+00, 2.08000000e+01,\n",
       "       1.97000000e+01, 1.48000000e+01, 2.63000000e+01, 1.38000000e+01,\n",
       "       1.16000000e+01, 1.74000000e+01, 1.07000000e+01, 1.11000000e+01,\n",
       "       2.13000000e+01, 1.29000000e+01, 1.53000000e+01, 1.67000000e+01,\n",
       "       1.49000000e+01, 1.70000000e+01, 1.33000000e+01, 1.20000000e+01,\n",
       "       1.77000000e+01, 1.39000000e+01, 1.03000000e+01, 1.17000000e+01,\n",
       "       1.51000000e+01, 1.42000000e+01, 2.20000000e+01, 2.54000000e+01,\n",
       "       2.85000000e+01, 2.40000000e+01, 1.28000000e+01, 1.46000000e+01,\n",
       "       1.60000000e+01, 1.59000000e+01, 1.90000000e+01, 1.54000000e+01,\n",
       "       1.95000000e+01, 1.14000000e+01, 1.12000000e+01, 1.34000000e+01,\n",
       "       2.31000000e+01, 1.64000000e+01, 2.52000000e+01, 1.47000000e+01,\n",
       "       2.49000000e+01, 1.52000000e+01, 2.09000000e+01, 5.39760535e-79,\n",
       "       2.29000000e+01, 1.81000000e+01, 2.83000000e+01, 1.57000000e+01,\n",
       "       3.41000000e+01, 1.45000000e+01, 1.35000000e+01, 2.46000000e+01,\n",
       "       1.19000000e+01, 1.68000000e+01, 1.75000000e+01, 1.82000000e+01,\n",
       "       2.04000000e+01, 2.90000000e+01, 1.66000000e+01, 2.53000000e+01,\n",
       "       2.27000000e+01, 1.84000000e+01, 1.83000000e+01, 3.66000000e+01,\n",
       "       1.55000000e+01, 1.41000000e+01, 1.32000000e+01, 1.72000000e+01,\n",
       "       1.89000000e+01, 1.92000000e+01, 2.74000000e+01, 1.73000000e+01,\n",
       "       1.37000000e+01])"
      ]
     },
     "metadata": {},
     "output_type": "display_data"
    },
    {
     "name": "stdout",
     "output_type": "stream",
     "text": [
      "basophils_percent\n"
     ]
    },
    {
     "data": {
      "text/plain": [
       "array([5.00000000e-01, 4.00000000e-01, 2.00000000e-01, 0.00000000e+00,\n",
       "       6.00000000e-01, 1.30000000e+00, 3.00000000e-01, 1.00000000e+00,\n",
       "       9.00000000e-01, 1.20000000e+00, 1.10000000e+00, 8.00000000e-01,\n",
       "       7.00000000e-01, 5.39760535e-79, 1.00000000e-01, 2.70000000e+00,\n",
       "       1.50000000e+00, 1.40000000e+00, 1.60000000e+00, 2.00000000e+00,\n",
       "       4.60000000e+00, 3.00000000e+00, 2.30000000e+00, 1.90000000e+00,\n",
       "       1.70000000e+00, 2.20000000e+00, 2.40000000e+00, 3.70000000e+00,\n",
       "       2.50000000e+00, 6.10000000e+00, 4.30000000e+00, 2.10000000e+00,\n",
       "       3.80000000e+00, 3.30000000e+00, 1.80000000e+00, 9.90000000e+00,\n",
       "       3.50000000e+00, 3.10000000e+00, 2.80000000e+00, 3.90000000e+00,\n",
       "       6.40000000e+00, 4.80000000e+00, 2.90000000e+00, 1.08000000e+01,\n",
       "       4.20000000e+00, 3.60000000e+00, 3.40000000e+00, 2.60000000e+00,\n",
       "       4.10000000e+00, 4.40000000e+00, 5.70000000e+00, 5.10000000e+00,\n",
       "       4.00000000e+00, 5.50000000e+00, 3.20000000e+00, 6.30000000e+00,\n",
       "       7.00000000e+00, 6.90000000e+00, 7.30000000e+00, 4.90000000e+00,\n",
       "       4.50000000e+00, 5.20000000e+00, 6.70000000e+00, 6.80000000e+00,\n",
       "       8.40000000e+00, 5.30000000e+00, 4.70000000e+00, 5.60000000e+00,\n",
       "       5.90000000e+00, 7.50000000e+00, 5.80000000e+00])"
      ]
     },
     "metadata": {},
     "output_type": "display_data"
    },
    {
     "name": "stdout",
     "output_type": "stream",
     "text": [
      "lymphocyte_count\n"
     ]
    },
    {
     "data": {
      "text/plain": [
       "array([1.900e+00, 2.200e+00, 0.000e+00, 1.500e+00, 2.100e+00, 1.740e+01,\n",
       "       1.200e+00, 1.600e+00, 1.700e+00, 2.800e+00, 2.500e+00, 2.000e+00,\n",
       "       2.600e+00, 3.200e+00, 2.700e+00, 1.400e+00, 3.100e+00, 1.800e+00,\n",
       "       1.300e+00, 1.320e+01, 2.400e+00, 2.300e+00, 3.000e+00, 3.400e+00,\n",
       "       1.000e+00, 1.100e+00, 3.500e+00, 3.900e+00, 3.300e+00, 4.600e+00,\n",
       "       2.900e+00, 5.500e+00, 5.000e+00, 4.700e+00, 3.800e+00, 3.600e+00,\n",
       "       4.000e+00, 3.700e+00, 6.000e-01, 4.100e+00, 9.000e-01, 4.800e+00,\n",
       "       4.500e+00, 8.000e-01, 4.300e+00, 5.000e-01, 7.000e-01, 6.500e+00,\n",
       "       4.900e+00, 4.200e+00, 1.440e+01, 4.400e+00, 4.000e-01, 4.520e+01,\n",
       "       4.840e+01, 6.600e+00, 5.400e+00, 1.980e+01, 3.400e+01, 6.700e+00,\n",
       "       5.200e+00, 7.700e+00, 5.300e+00, 3.030e+01, 1.400e+01, 3.300e+01,\n",
       "       6.200e+00, 5.700e+00, 9.900e+00, 1.030e+01, 2.380e+01, 7.400e+00,\n",
       "       8.000e+00, 7.110e+01, 7.100e+00, 5.800e+00, 6.400e+00, 1.540e+01,\n",
       "       8.400e+00, 1.730e+01, 5.600e+00, 7.300e+00, 2.010e+01, 5.100e+00,\n",
       "       6.000e+00, 4.370e+01, 2.770e+01, 3.000e-01, 2.000e-01, 4.900e+01,\n",
       "       6.100e+00, 1.200e+01, 8.500e+00, 1.610e+01, 7.200e+00, 1.108e+02,\n",
       "       4.070e+01, 1.060e+01, 3.210e+01, 3.588e+02, 3.750e+01])"
      ]
     },
     "metadata": {},
     "output_type": "display_data"
    },
    {
     "name": "stdout",
     "output_type": "stream",
     "text": [
      "monocyte_count\n"
     ]
    },
    {
     "data": {
      "text/plain": [
       "array([4.00000000e-01, 7.00000000e-01, 8.00000000e-01, 0.00000000e+00,\n",
       "       3.00000000e-01, 1.70000000e+00, 6.00000000e-01, 5.00000000e-01,\n",
       "       1.10000000e+00, 9.00000000e-01, 2.00000000e-01, 1.40000000e+00,\n",
       "       1.00000000e+00, 1.20000000e+00, 1.30000000e+00, 1.50000000e+00,\n",
       "       2.70000000e+00, 1.00000000e-01, 2.40000000e+00, 2.30000000e+00,\n",
       "       3.20000000e+00, 5.39760535e-79, 1.80000000e+00, 2.50000000e+00,\n",
       "       1.60000000e+00, 3.60000000e+00, 5.50000000e+00, 1.90000000e+00,\n",
       "       2.60000000e+00, 1.02000000e+01, 4.30000000e+00, 3.40000000e+00,\n",
       "       2.20000000e+00, 2.00000000e+00, 2.80000000e+00])"
      ]
     },
     "metadata": {},
     "output_type": "display_data"
    },
    {
     "name": "stdout",
     "output_type": "stream",
     "text": [
      "neutrophils_count\n"
     ]
    },
    {
     "data": {
      "text/plain": [
       "array([ 2.9,  4.4,  3.7,  0. ,  3.9,  6.3,  5.8,  4.5,  1.7,  7.4,  4.6,\n",
       "        3.6,  2.5,  5. ,  6.1,  3.4,  4. ,  5.9,  5.2,  3.5,  5.1,  3. ,\n",
       "        3.8,  8.6,  6.8,  4.2,  6.4,  2.2,  9.6,  2.6,  6.5,  4.8,  5.3,\n",
       "        5.7,  3.2,  6.6,  7.7,  2.3,  4.1,  3.1,  4.3,  1.6,  3.3,  5.5,\n",
       "        7.1,  4.9,  6.7, 10.9,  5.6,  8.1,  4.7,  5.4,  2.7,  8.8,  6. ,\n",
       "        9.4,  7.2, 13.4,  2.8,  2.4,  2.1,  6.9,  7. ,  1.9,  1.8,  2. ,\n",
       "        8.2,  7.9,  6.2,  8.3,  7.5, 10.4,  9.7,  8.4,  9.5,  9.8,  7.3,\n",
       "        1.2,  1.3,  7.6,  8.7,  1.5,  8.9,  1.4,  7.8,  9. , 11. ,  8. ,\n",
       "       14.4,  8.5,  9.9,  9.3, 10. , 12. ,  1. , 11.7, 12.2, 11.6, 10.5,\n",
       "        9.2, 15.4, 16.3, 11.1, 12.9, 12.4, 13.7,  9.1, 10.3,  1.1, 10.2,\n",
       "       10.7, 16.2,  0.8, 10.6, 10.1, 12.1, 11.5,  0.7,  0.9, 11.4, 15. ,\n",
       "       13.8, 14.3, 13.9, 12.8,  0.5, 12.7, 11.2, 10.8, 12.5,  0.4, 16.6,\n",
       "       11.9, 15.5,  0.2, 13.3, 11.3, 13.5, 17.3, 13.2, 83.1, 62.9, 12.3,\n",
       "       11.8,  0.3,  0.1,  0.6, 13. , 15.8, 25.6, 14.2, 13.1, 15.6, 19.4,\n",
       "       14.7, 14.1, 15.3, 15.7, 13.6, 35.2])"
      ]
     },
     "metadata": {},
     "output_type": "display_data"
    },
    {
     "name": "stdout",
     "output_type": "stream",
     "text": [
      "eosinophils_count\n"
     ]
    },
    {
     "data": {
      "text/plain": [
       "array([5.39760535e-79, 2.00000000e-01, 0.00000000e+00, 1.00000000e-01,\n",
       "       4.00000000e-01, 5.00000000e-01, 3.00000000e-01, 1.20000000e+00,\n",
       "       6.00000000e-01, 9.00000000e-01, 8.00000000e-01, 7.00000000e-01,\n",
       "       1.50000000e+00, 1.10000000e+00, 1.00000000e+00, 1.60000000e+00,\n",
       "       1.30000000e+00, 2.10000000e+00, 2.80000000e+00, 2.30000000e+00,\n",
       "       1.40000000e+00, 3.80000000e+00, 1.80000000e+00, 1.70000000e+00,\n",
       "       1.90000000e+00, 2.90000000e+00, 2.20000000e+00, 3.10000000e+00,\n",
       "       4.90000000e+00, 8.40000000e+00, 3.00000000e+00, 3.70000000e+00,\n",
       "       3.60000000e+00, 2.40000000e+00, 2.70000000e+00, 3.20000000e+00])"
      ]
     },
     "metadata": {},
     "output_type": "display_data"
    },
    {
     "name": "stdout",
     "output_type": "stream",
     "text": [
      "basophils_count\n"
     ]
    },
    {
     "data": {
      "text/plain": [
       "array([5.39760535e-79, 0.00000000e+00, 1.00000000e-01, 3.00000000e-01,\n",
       "       2.00000000e-01, 4.00000000e-01, 5.00000000e-01, 6.00000000e-01,\n",
       "       1.00000000e+00, 2.10000000e+00, 7.00000000e-01, 1.30000000e+00,\n",
       "       4.70000000e+00, 8.00000000e-01])"
      ]
     },
     "metadata": {},
     "output_type": "display_data"
    },
    {
     "name": "stdout",
     "output_type": "stream",
     "text": [
      "RBC_count\n"
     ]
    },
    {
     "data": {
      "text/plain": [
       "array([4.63, 4.72, 5.45, 0.  , 5.36, 5.09, 3.77, 4.48, 4.02, 4.09, 4.23,\n",
       "       5.41, 4.7 , 4.73, 4.49, 5.3 , 4.31, 5.2 , 4.51, 4.61, 4.82, 4.9 ,\n",
       "       3.61, 4.65, 5.57, 4.4 , 4.57, 3.36, 5.03, 4.35, 5.6 , 4.77, 4.75,\n",
       "       4.22, 5.32, 5.49, 4.66, 5.7 , 4.98, 5.16, 3.76, 4.86, 5.02, 4.78,\n",
       "       4.19, 4.99, 5.1 , 4.52, 4.12, 5.11, 4.13, 4.24, 5.28, 5.06, 4.11,\n",
       "       5.01, 5.37, 5.62, 4.42, 5.07, 5.18, 5.17, 4.38, 4.81, 4.26, 4.21,\n",
       "       4.84, 4.62, 4.8 , 4.68, 4.39, 5.53, 5.81, 4.55, 4.64, 5.64, 4.74,\n",
       "       4.32, 4.69, 5.26, 3.45, 3.8 , 5.63, 4.93, 4.56, 5.14, 4.37, 4.3 ,\n",
       "       4.08, 4.97, 4.07, 4.05, 4.85, 3.91, 5.23, 3.66, 5.33, 5.15, 5.22,\n",
       "       4.94, 4.36, 5.54, 6.06, 5.86, 4.67, 4.53, 5.29, 4.47, 4.91, 4.27,\n",
       "       4.25, 4.59, 3.52, 5.39, 4.89, 4.1 , 4.54, 4.83, 5.4 , 4.46, 4.17,\n",
       "       4.28, 4.34, 4.45, 5.31, 5.67, 4.18, 4.88, 5.52, 5.44, 5.19, 5.85,\n",
       "       5.51, 4.03, 5.27, 5.05, 3.94, 3.97, 3.78, 4.33, 4.6 , 3.89, 5.34,\n",
       "       4.43, 4.29, 4.14, 5.  , 4.15, 5.25, 5.79, 4.01, 5.38, 5.13, 5.65,\n",
       "       3.95, 3.9 , 5.56, 5.68, 5.75, 5.24, 4.92, 4.95, 4.06, 4.04, 4.  ,\n",
       "       5.97, 3.88, 3.99, 5.93, 5.73, 5.35, 4.76, 5.48, 3.57, 3.55, 5.42,\n",
       "       3.74, 4.16, 4.2 , 4.5 , 6.36, 4.87, 4.44, 5.74, 3.69, 3.53, 4.41,\n",
       "       5.84, 3.82, 3.87, 3.14, 3.7 , 5.08, 5.46, 3.5 , 5.04, 3.92, 5.69,\n",
       "       5.21, 3.68, 4.58, 5.58, 5.43, 4.96, 3.96, 3.84, 4.79, 3.49, 5.83,\n",
       "       6.44, 6.11, 3.72, 3.03, 5.12, 3.79, 4.71, 3.83, 3.44, 6.2 , 5.76,\n",
       "       3.05, 5.59, 5.8 , 6.27, 5.78, 5.82, 3.81, 6.02, 5.89, 3.67, 3.85,\n",
       "       3.98, 3.93, 3.62, 5.72, 3.47, 5.47, 5.92, 3.75, 3.59, 3.58, 6.15,\n",
       "       3.39, 3.26, 6.05, 5.98, 2.44, 3.63, 3.6 , 5.55, 3.64, 2.91, 6.03,\n",
       "       3.56, 2.99, 3.86, 5.88, 5.66, 3.11, 5.61, 3.73, 5.77, 2.72, 3.24,\n",
       "       6.4 , 6.12, 5.91, 3.54, 3.34, 5.9 , 3.48, 6.47, 3.51, 5.71, 7.02,\n",
       "       3.35, 5.5 , 3.65, 3.01, 6.7 , 3.71, 5.95, 6.07, 6.16, 3.16, 6.  ,\n",
       "       6.14, 6.08, 3.43, 2.83, 6.13, 6.28, 6.29, 3.2 , 3.09, 3.42, 6.26,\n",
       "       6.91, 3.4 , 3.12, 3.37, 6.53, 3.32, 6.22, 2.56, 5.94, 6.73, 3.33,\n",
       "       3.17, 6.21, 5.87, 6.43, 6.97, 6.64, 3.3 , 3.46, 3.19, 2.95, 2.9 ,\n",
       "       6.45, 3.41, 3.18, 3.29, 6.39, 6.18, 3.13, 6.31, 2.88, 3.23, 2.76,\n",
       "       3.38, 2.38, 2.84, 3.28, 6.23, 2.81, 2.4 , 5.99, 2.86, 3.22, 6.41,\n",
       "       7.15, 6.72, 2.78, 3.31, 2.63, 2.65, 2.73, 6.34, 3.07, 3.04, 6.25,\n",
       "       7.05, 3.  , 6.82, 3.27, 2.79, 2.53, 2.94, 6.49, 6.3 , 3.15, 6.61,\n",
       "       7.55, 2.98, 6.56, 2.66, 1.67, 6.24, 6.51, 8.3 , 5.96, 6.78, 6.69,\n",
       "       2.89, 6.5 , 6.54, 2.52, 6.46, 6.66, 6.37, 3.25, 7.9 , 6.35, 6.32,\n",
       "       6.01, 6.19, 3.06, 6.75, 6.52, 7.14, 6.04, 6.62, 6.33, 2.92, 2.96,\n",
       "       2.87, 3.02, 6.09, 7.04, 2.97, 6.6 , 6.58, 6.8 , 6.1 , 6.71, 2.32])"
      ]
     },
     "metadata": {},
     "output_type": "display_data"
    },
    {
     "name": "stdout",
     "output_type": "stream",
     "text": [
      "hemoglobin\n"
     ]
    },
    {
     "data": {
      "text/plain": [
       "array([12.5, 14.5, 15.9,  0. , 16.3, 17. , 11.4, 14.4, 11.8, 12.6, 12.9,\n",
       "       16.5, 14.8, 13.3, 12.7, 15. , 14.1, 15.5, 12.1, 13.1, 15.4, 13.5,\n",
       "       14.7, 11.5, 14.3, 13.8, 15.6, 16.7, 15.7, 11.6, 16. , 13.9, 14. ,\n",
       "       15.1, 15.2, 16.9, 17.2, 14.6, 16.2, 13.6, 13.4, 15.8, 14.9, 16.8,\n",
       "       13.2,  9.8, 11.9, 12.8, 15.3, 13. , 12. , 12.2, 10. , 12.4, 13.7,\n",
       "       16.4,  9.1, 10.4, 14.2, 12.3, 17.3, 10.6,  8.4, 11.1, 11.3, 16.1,\n",
       "       11.7,  9.6, 17.1,  8.9, 10.9, 17.7, 11.2, 16.6, 10.5, 17.4, 11. ,\n",
       "       10.7, 17.6, 18. , 10.8, 18.8, 17.8,  6.2,  8.6, 17.5, 18.2, 10.1,\n",
       "        9.4, 10.2,  9.2, 18.3, 10.3,  9. , 18.7,  9.9, 17.9,  8.2,  9.7,\n",
       "       19.3,  8.3,  8.8,  9.3, 18.5,  9.5, 18.4, 19. , 18.1,  7.9, 18.6,\n",
       "       19.7,  8.7,  7.5,  8.5,  6.8,  6.1,  8. , 18.9,  7. ,  8.1,  7.6,\n",
       "       19.5, 19.6,  7.4,  7.1,  7.3,  6.4,  7.2,  6.9,  7.7,  7.8,  6.3,\n",
       "       19.9, 19.1, 19.2,  6.7])"
      ]
     },
     "metadata": {},
     "output_type": "display_data"
    },
    {
     "name": "stdout",
     "output_type": "stream",
     "text": [
      "hematocrit\n"
     ]
    },
    {
     "data": {
      "text/plain": [
       "array([37.1, 42.6, 48.3,  0. , 48.7, 49.9, 35.3, 43.5, 34.5, 36.6, 38.3,\n",
       "       50.6, 41.6, 46.7, 39.1, 36.3, 43.6, 48.8, 38. , 48. , 43.2, 43.4,\n",
       "       45.7, 34.8, 40.3, 48.5, 37.9, 39.5, 43. , 32.6, 42.2, 40.8, 41.4,\n",
       "       39.2, 39.8, 45.5, 48.6, 46.3, 43.9, 35.8, 48.2, 44.9, 36.2, 45.3,\n",
       "       45.9, 42.7, 47.9, 45.8, 41.5, 37.3, 44.1, 37.7, 48.4, 44.2, 50.9,\n",
       "       45.6, 41.8, 47.4, 41.1, 40.6, 38.9, 47.6, 37.8, 40.1, 41.2, 42.8,\n",
       "       50.7, 39. , 40.2, 49. , 41.3, 49.4, 46.4, 40.9, 42.1, 41. , 37.5,\n",
       "       47.3, 29.4, 35.4, 35.7, 38.8, 44.8, 40.7, 36.7, 38.2, 36.8, 37.2,\n",
       "       39.9, 30.5, 44.3, 43.8, 35.2, 47. , 50.1, 44.5, 47.7, 38.1, 35.9,\n",
       "       42.4, 43.3, 46. , 28.6, 45.1, 32.4, 49.8, 42. , 33.1, 42.9, 46.6,\n",
       "       38.6, 47.5, 44.7, 36.5, 42.5, 31.5, 44.6, 46.8, 46.2, 51.7, 49.1,\n",
       "       39.4, 36.9, 37. , 45.4, 51.2, 31.7, 39.3, 33.6, 38.4, 43.7, 44. ,\n",
       "       45. , 46.1, 27. , 45.2, 34.2, 36.4, 37.4, 34. , 35.1, 40. , 48.1,\n",
       "       34.4, 38.7, 46.5, 48.9, 49.3, 36.1, 43.1, 46.9, 35.6, 47.2, 50.2,\n",
       "       37.6, 40.4, 39.7, 38.5, 33.3, 32. , 33.7, 28. , 50.3, 41.9, 51.1,\n",
       "       31.4, 32.8, 49.2, 39.6, 33.8, 50.4, 42.3, 31.6, 41.7, 51.3, 47.8,\n",
       "       33.9, 33.4, 33. , 40.5, 32.3, 49.6, 50.8, 36. , 50.5, 34.7, 49.5,\n",
       "       44.4, 34.1, 54.9, 47.1, 34.3, 54.1, 33.2, 20.1, 51.6, 35.5, 26.1,\n",
       "       49.7, 54.2, 27.3, 52.7, 30.3, 28.4, 31. , 53. , 52.1, 50. , 32.2,\n",
       "       32.7, 30.8, 51.8, 51.4, 34.6, 33.5, 28.3, 31.2, 25.5, 30.9, 29.8,\n",
       "       52.4, 35. , 53.3, 52.8, 52. , 53.8, 34.9, 27.9, 54.5, 27.1, 32.9,\n",
       "       51. , 31.9, 52.2, 26.7, 31.1, 30.7, 29.7, 28.5, 52.9, 52.6, 31.3,\n",
       "       29.5, 54.7, 53.5, 29.6, 32.5, 30.4, 30.6, 23.5, 27.4, 51.9, 53.2,\n",
       "       55.4, 29.1, 27.5, 52.5, 21.5, 29.3, 26. , 26.3, 30.1, 28.2, 31.8,\n",
       "       28.9, 29. , 25. , 30. , 55. , 56.3, 26.5, 28.7, 32.1, 28.1, 24.5,\n",
       "       24.6, 27.6, 29.2, 29.9, 51.5, 55.5, 30.2, 28.8, 54.6, 53.4, 23.8,\n",
       "       20.8, 24. , 20.5, 25.7, 26.8, 22.7, 24.2, 23.2, 27.2, 55.8, 25.4,\n",
       "       23.6, 26.6, 57.7, 25.9, 53.6, 52.3, 23. , 24.4, 20.6, 23.4, 21.9,\n",
       "       27.7, 23.3, 54.3, 25.2, 54.4, 53.9, 54. , 24.8, 21.7, 17.9, 55.9,\n",
       "       25.3, 55.1, 56.5, 24.7, 53.7, 59. , 21.8, 25.1, 22.8, 23.9, 55.2,\n",
       "       57.8, 24.3, 58.8, 26.9, 54.8, 55.6, 26.2, 53.1, 56.4, 23.1])"
      ]
     },
     "metadata": {},
     "output_type": "display_data"
    },
    {
     "name": "stdout",
     "output_type": "stream",
     "text": [
      "MCV\n"
     ]
    },
    {
     "data": {
      "text/plain": [
       "array([ 80.1,  90.3,  88.6,   0. ,  90.9,  98. ,  93.5,  97.2,  85.9,\n",
       "        89.6,  88.4,  98.6,  86.9,  85.8,  92.1,  88.2,  92.2,  94.6,\n",
       "        93.9,  90. ,  93.2,  96.4,  86.5,  87.1,  88. ,  89.8,  94.1,\n",
       "        96. ,  84. ,  94. ,  96.1,  87.3,  82.3,  94.5,  89.3,  91.4,\n",
       "        84.4,  94.2,  85.4,  71.8,  86.7,  87.2,  90.2,  85.3,  84.6,\n",
       "        99.4,  89.7,  93.4, 100.7,  87.8,  94.8,  88.1,  83.4,  86.3,\n",
       "        91.6,  97.1,  91. ,  95.5,  90.6,  93.6,  89.9,  88.7,  83.6,\n",
       "        94.7,  92. ,  94.4,  83.5,  97.4,  92.4,  91.9,  86. ,  95.3,\n",
       "        89.1,  87.4,  90.1,  90.4,  84.8,  85. ,  84.1,  78.4,  83.3,\n",
       "        93.1,  90.7,  89.2,  83.2,  92.8,  93.7,  85.1,  91.5, 102. ,\n",
       "        72.5,  91.1,  80.5,  72.8,  88.5,  88.9,  87.9,  93.8,  77.7,\n",
       "        86.1,  93. ,  97.5, 100.3,  81.3,  75. ,  87.6,  88.8,  95.1,\n",
       "        97.3,  89.5,  79.3,  98.3,  89.4,  98.4,  80.7,  85.2,  95. ,\n",
       "        81. ,  92.9,  85.6,  67.3,  86.4,  87.7,  80.4,  90.5,  81.2,\n",
       "        92.3,  82.7,  82.6,  95.7,  91.7,  78.7,  92.7,  96.7,  71.4,\n",
       "        81.5,  80. ,  79.9,  96.6,  91.3,  70.4,  81.8,  96.8,  96.2,\n",
       "        86.2,  81.6,  62.8,  93.3,  71.1,  75.4,  84.3,  84.9,  83.1,\n",
       "        82.2,  85.7,  95.6,  84.7,  89. ,  80.3,  96.3,  94.9,  98.2,\n",
       "       108.9,  86.8,  71.3,  99.2,  90.8,  92.5,  92.6,  78.8, 109.1,\n",
       "        97.7,  96.5,  87. ,  98.9,  95.9,  77.6, 121.9,  91.8,  83.8,\n",
       "       101.5,  78.6,  81.1,  95.2,  75.9,  85.5,  72.1,  97. ,  69.6,\n",
       "        98.5,  74.4, 101.7,  99.7,  94.3,  91.2,  83.9, 103.3,  81.9,\n",
       "        83.7,  98.7,  96.9,  80.9,  99.1,  79.4,  97.8,  88.3,  86.6,\n",
       "        78.2, 101.9, 105.5, 100.5,  97.6,  73.5,  77.9,  99.3,  82.9,\n",
       "        79.7,  99.8,  82.8,  75.6, 102.8, 119.2, 113.2, 106.7,  83. ,\n",
       "        84.5, 101.6,  95.4,  87.5,  73.9,  66.4,  79.2,  98.1, 105.1,\n",
       "       102.4,  69.3, 108.2,  72.7,  82.4,  78. , 103.2,  75.8,  99.5,\n",
       "        79.1,  84.2,  63.3,  77.8,  57.3, 118.8,  69.1, 100.1,  81.4,\n",
       "        76.1,  95.8,  75.3,  75.7,  75.2,  62. ,  99.6, 113.4,  81.7,\n",
       "        70.7,  70.9,  77.2,  97.9, 100.9,  82. , 100.8,  99.9,  67.1,\n",
       "        76.6, 104.4,  78.9,  73.8,  74.5,  80.6,  74.3,  78.1,  67.9,\n",
       "        68.1, 113.8,  76.2,  78.5,  73. ,  77. ,  75.5,  79.6,  73.4,\n",
       "        80.8, 101.2,  69.7,  79.5,  70.1, 103.5,  63.6,  70.2,  99. ,\n",
       "        74.6,  65.4, 115.5, 101.4, 101.1,  74.2, 105.2,  65.3,  72.6,\n",
       "        74.1,  75.1,  82.1,  79. , 102.3,  67.6,  72.2, 100.4, 100.2,\n",
       "        76.3, 101.3,  76.8,  76.5,  70.6,  70.3,  78.3,  77.4,  77.5,\n",
       "        58.7,  73.7,  72.3,  76.4, 105.9, 102.2,  98.8,  82.5, 100. ,\n",
       "        69.4,  69.9, 104.8,  65.1, 104.2,  64. ,  67.7,  71.9,  72. ,\n",
       "        76. , 105.7,  80.2,  77.1, 103.6,  73.2,  71.2,  68.2, 101.8,\n",
       "       113.5,  76.9, 103.8, 101. , 104.5,  74. ,  67.8, 102.5,  68.8,\n",
       "        66.6,  51.1,  62.7,  67.2,  70.8,  61.7, 106. , 102.1,  65.9,\n",
       "       106.6,  63.8,  69.2,  64.1,  68. , 102.6,  64.6,  71.7, 103. ,\n",
       "        68.6,  66.3,  77.3,  74.9,  73.6, 116.8,  63. ,  79.8,  66.8,\n",
       "        68.4,  65.7,  60.7,  73.1,  59.4,  64.4, 102.7,  74.8,  73.3,\n",
       "        70. ,  69.8, 106.3,  69. ,  71.6,  66.7, 108.4,  66.5, 125.3,\n",
       "        61.4,  62.4,  74.7,  68.7,  63.2, 118.1, 100.6, 103.4, 107.6,\n",
       "        76.7, 106.8, 105. ,  72.9,  66.9, 105.4,  68.3,  68.5, 107.1,\n",
       "       104.1,  60.9, 111.3, 108. ,  59.9,  68.9, 113.1,  60.6,  61.3,\n",
       "       107. , 109.4,  57.5, 108.1, 106.1, 112.2, 105.8, 107.8,  70.5,\n",
       "       107.5, 107.9,  64.5,  72.4, 110.5,  58.8,  58.6, 111. ,  71.5,\n",
       "        64.2, 109.6,  63.1, 104.7, 109.5,  57.8,  69.5, 105.6,  61.1,\n",
       "       103.7,  66.2, 103.1,  60.2,  55.4,  60.1,  61.6,  66. , 106.9,\n",
       "        61.8, 106.4,  64.3,  63.4,  64.7, 104.9, 102.9, 108.3, 103.9,\n",
       "       111.8,  64.9,  65.8,  67.4,  65.6, 108.6, 105.3, 110.3,  57.7,\n",
       "       104.6, 115.3,  61.2,  62.1,  67. ,  71. ,  62.2,  58.4,  65.2,\n",
       "       110.1, 106.2,  61.5, 106.5,  55.7,  59.5,  64.8,  57.6, 108.7,\n",
       "        59.6,  65.5,  50.8,  62.9,  67.5, 109.2,  59.3,  60.5,  62.3,\n",
       "        55.3,  63.7,  55.1,  54.9, 111.5, 114.3,  66.1,  62.5, 115.6,\n",
       "        51.6,  60.4,  60.3, 104.3,  59.7, 111.2,  58.9,  54. , 114.6,\n",
       "        56.8, 104. ,  63.5,  35.4,  61.9])"
      ]
     },
     "metadata": {},
     "output_type": "display_data"
    },
    {
     "name": "stdout",
     "output_type": "stream",
     "text": [
      "MCH\n"
     ]
    },
    {
     "data": {
      "text/plain": [
       "array([27.1, 30.7, 29.2,  0. , 30.3, 33.3, 32.2, 29.3, 30.8, 30.6, 31.4,\n",
       "       33.7, 29.5, 30. , 31.2, 29.4, 31.7, 31.9, 32.5, 31.6, 28.3, 27.7,\n",
       "       32. , 33.6, 30.9, 28.8, 32.6, 28.6, 32.3, 29. , 33.1, 23.3, 28.7,\n",
       "       29.8, 30.4, 31. , 32.8, 33.2, 34. , 29.9, 28.5, 27.5, 33.9, 31.5,\n",
       "       28.2, 31.3, 27.8, 30.1, 27. , 30.5, 32.4, 28.1, 31.8, 26. , 27.4,\n",
       "       27.2, 31.1, 33.5, 23.1, 27.3, 23.8, 28.9, 26.2, 26.9, 32.7, 25.8,\n",
       "       24. , 29.6, 22.1, 30.2, 33. , 26.7, 29.1, 25.7, 22.6, 22. , 26.4,\n",
       "       29.7, 26.5, 19.5, 23.9, 26.3, 32.9, 35.8, 23.6, 28. , 24.6, 26.1,\n",
       "       37.3, 27.9, 34.9, 42.8, 32.1, 25.5, 25.6, 24.2, 34.2, 25. , 35.2,\n",
       "       37.2, 36.8, 27.6, 35. , 25.2, 34.5, 35.3, 34.3, 33.8, 26.8, 36.3,\n",
       "       36.7, 33.4, 23.7, 41.1, 39.2, 36.5, 28.4, 20.5, 41.6, 21.8, 34.8,\n",
       "       26.6, 37. , 24.5, 34.7, 20. , 17.1, 41.2, 21.7, 25.3, 24.8, 24.7,\n",
       "       19.8, 22.2, 21.6, 20.8, 25.9, 23.5, 22.8, 34.6, 34.4, 21.5, 38.6,\n",
       "       39.8, 22.5, 24.9, 35.1, 34.1, 25.1, 20.6, 35.4, 35.7, 22.7, 23.4,\n",
       "       23.2, 21.4, 21.1, 25.4, 36.1, 36.6, 38. , 23. , 22.3, 24.4, 17.4,\n",
       "       35.5, 20.2, 19.7, 20.9, 19.3, 24.3, 21. , 21.2, 24.1, 14.7, 20.4,\n",
       "       22.4, 21.3, 36.9, 36.2, 35.9, 38.1, 20.7, 38.2, 35.6, 60.8, 40.9,\n",
       "       18.7, 18.4, 36. , 22.9, 36.4, 18.5, 44.4, 37.1, 21.9, 20.1, 20.3,\n",
       "       40.2, 37.5, 19.9, 38.7, 18. , 39. , 18.8, 56.2, 40.8, 18.1, 17.7,\n",
       "       37.7, 19. , 38.3, 17.3, 37.6, 46.1, 37.8, 16.3, 19.6, 39.6, 16.4,\n",
       "       18.9, 19.1, 17.8, 37.9, 38.9, 18.6, 40. , 18.3, 46.4, 74.5, 19.2,\n",
       "       16.8, 19.4, 14.6, 38.5, 16.6, 15.1, 15.3, 16.2, 15.8, 15.2, 38.4,\n",
       "       17.9, 12.4])"
      ]
     },
     "metadata": {},
     "output_type": "display_data"
    },
    {
     "name": "stdout",
     "output_type": "stream",
     "text": [
      "MCHC\n"
     ]
    },
    {
     "data": {
      "text/plain": [
       "array([33.8, 34. , 33. ,  0. , 33.3, 32.3, 33.2, 34.1, 34.5, 33.6, 32.7,\n",
       "       35.6, 35. , 33.9, 34.4, 34.7, 32.5, 31.8, 34.9, 34.2, 35.2, 32.9,\n",
       "       33.5, 34.3, 35.3, 33.1, 34.6, 33.4, 33.7, 34.8, 32. , 35.5, 32.2,\n",
       "       35.1, 32.8, 31.5, 35.4, 31.7, 32.1, 31.6, 32.6, 31.2, 36.4, 31.9,\n",
       "       31. , 32.4, 35.7, 31.4, 35.9, 37.3, 35.8, 31.3, 36. , 36.9, 30.9,\n",
       "       39.5, 30.6, 29.9, 36.1, 30.5, 31.1, 30.7, 36.6, 36.7, 37.2, 30.8,\n",
       "       29.6, 29.1, 29.8, 36.3, 28.8, 30.3, 36.8, 37.1, 36.2, 36.5, 38.1,\n",
       "       37.5, 37. , 38.7, 39. , 37.6, 37.4, 29.5, 43.3, 30.2, 43.8, 28.2,\n",
       "       30.4, 30.1, 29.2, 38. , 37.9, 30. , 29. , 29.4, 25.1, 37.7, 29.3,\n",
       "       44.9, 28. , 69.6, 43.5, 40.9, 41.6, 28.7, 28.9, 28.5, 29.7, 27.1,\n",
       "       27.6, 38.3, 28.6, 27.7, 25.2, 27.9])"
      ]
     },
     "metadata": {},
     "output_type": "display_data"
    },
    {
     "name": "stdout",
     "output_type": "stream",
     "text": [
      "RDW\n"
     ]
    },
    {
     "data": {
      "text/plain": [
       "array([13.7, 12.5, 13.4,  0. , 12.1, 11.6, 13.3, 12.4, 13.6, 12.6, 11.8,\n",
       "       13.9, 11.9, 12.2, 12.9, 14. , 12. , 12.3, 13.1, 12.7, 17.1, 11.5,\n",
       "       13.5, 12.8, 17.6, 11.4, 13.8, 11.3, 14.7, 14.5, 11.7, 14.6, 17. ,\n",
       "       13.2, 14.4, 14.1, 13. , 15.6, 19.5, 15.9, 18.5, 15. , 15.3, 19.6,\n",
       "       15.1, 16.8, 16.1, 14.2, 11.2, 22.5, 14.3, 15.4, 16.2, 16. , 16.3,\n",
       "       17.3, 11. , 16.9, 15.5, 15.2, 14.8, 17.2, 18.8, 16.6, 11.1, 14.9,\n",
       "       19.8, 16.4, 20.6, 18.1, 19. , 21.1, 22.7, 18.3, 15.8, 16.5, 23. ,\n",
       "       20.3, 16.7, 18. , 18.2, 17.4, 20.5, 17.5, 24. , 21.5, 17.7, 23.2,\n",
       "       25.5, 26.5, 25.8, 20.4, 10.7, 15.7, 17.8, 19.2, 17.9, 24.2, 19.9,\n",
       "       20.9, 22.2, 10.8, 23.6, 20.7, 20.1, 20.8, 37.8, 25. , 19.7, 23.1,\n",
       "       20. , 20.2, 19.3, 25.6, 18.9, 30.9, 18.4, 18.7, 23.9, 10.9, 28.8,\n",
       "       30.6, 23.5, 31.8, 22.4, 19.1, 30.8, 24.6, 21.6, 21.7, 21. , 22.8,\n",
       "       19.4, 18.6, 26.6, 24.5, 22.3, 25.9, 21.9, 22. , 26.1, 29.1, 21.2,\n",
       "       21.3, 25.3, 26. , 24.4, 24.7, 22.1, 22.6, 21.4, 23.8, 23.4, 26.4,\n",
       "       29.2])"
      ]
     },
     "metadata": {},
     "output_type": "display_data"
    },
    {
     "name": "stdout",
     "output_type": "stream",
     "text": [
      "platelet_count\n"
     ]
    },
    {
     "data": {
      "text/plain": [
       "array([ 298.,  225.,  222.,    0.,  217.,  198.,  237.,  261.,  342.,\n",
       "        245.,  293.,  286.,  292.,  375.,  313.,  244.,  337.,  263.,\n",
       "        294.,  270.,  257.,  560.,  304.,  311.,  336.,  233.,  330.,\n",
       "        390.,  285.,  328.,  236.,  309.,  410.,  227.,  242.,  147.,\n",
       "        262.,  215.,  369.,  254.,  248.,  474.,  208.,  141.,  354.,\n",
       "        206.,  239.,   74.,  314.,  243.,  299.,  234.,  340.,  202.,\n",
       "        255.,  329.,  271.,  284.,  308.,  300.,  348.,  211.,  216.,\n",
       "        235.,  382.,  266.,  323.,  418.,  305.,  335.,  256.,  280.,\n",
       "        180.,  385.,  194.,  241.,  273.,  278.,  361.,  186.,  232.,\n",
       "        120.,  318.,  179.,  338.,  358.,  159.,  258.,  331.,  424.,\n",
       "        288.,  209.,  253.,  201.,  268.,  346.,  357.,  350.,  392.,\n",
       "        275.,  365.,  264.,  205.,  334.,  376.,  289.,  272.,  260.,\n",
       "        301.,  259.,  287.,  401.,  214.,  326.,  487.,  370.,  228.,\n",
       "        312.,  316.,  404.,  207.,  172.,  197.,  226.,  249.,  250.,\n",
       "        377.,  306.,  170.,  302.,  315.,  396.,  363.,  231.,  229.,\n",
       "        371.,  246.,  282.,  220.,  347.,  355.,  265.,  224.,  277.,\n",
       "        267.,  374.,  219.,  230.,  291.,  240.,  167.,  398.,  303.,\n",
       "        183.,  339.,  351.,  416.,  188.,  276.,  386.,  203.,  378.,\n",
       "        356.,  397.,  251.,  269.,  164.,  218.,  317.,  195.,  274.,\n",
       "        190.,  384.,  247.,  383.,  341.,  169.,  320.,  182.,  327.,\n",
       "        366.,  362.,  196.,  156.,  296.,  349.,  405.,  178.,  389.,\n",
       "        319.,  399.,  352.,  210.,  321.,  290.,  184.,  221.,  200.,\n",
       "        353.,  307.,  173.,  325.,  283.,  344.,  238.,  332.,  480.,\n",
       "        454.,  279.,  451.,  368.,  223.,  333.,  153.,  168.,  373.,\n",
       "        412.,  212.,  380.,  343.,  204.,  497.,  158.,  310.,  191.,\n",
       "        411.,  149.,  213.,  364.,  359.,  162.,  393.,  252.,  439.,\n",
       "        562.,  192.,  155.,  456.,  295.,  367.,  322.,  171.,  324.,\n",
       "         73.,  187.,  402.,  457.,  471.,  142.,  437.,  436.,  458.,\n",
       "        165.,  199.,  391.,  442.,  193.,  491.,  408.,  430.,  529.,\n",
       "        428.,  423.,  360.,  176.,  181.,  297.,  425.,  185.,  372.,\n",
       "        157.,  417.,  552.,   94.,  429.,  281.,  702.,  139.,   96.,\n",
       "        419.,  486.,  152.,  432.,  175.,  482.,  557.,  500.,  345.,\n",
       "        650.,  492.,  160.,  508.,  443.,  440.,  381.,    4.,  110.,\n",
       "        129.,   66.,  450.,  447.,  395.,  387.,  521.,  166.,  452.,\n",
       "        476.,  413.,  421.,  150.,  435.,  464.,  420.,  407.,  406.,\n",
       "        564.,  163.,  469.,  463.,  415.,  494.,  388.,  540.,  414.,\n",
       "        558.,  154.,  128.,  177.,  394.,  116.,  125.,  438.,   88.,\n",
       "        135.,  400.,  137.,  132.,  409.,  434.,   62.,  475.,  467.,\n",
       "        453.,  478.,  444.,  161.,  101.,  503.,  535.,  136.,  145.,\n",
       "        379.,  174.,  119.,  554.,  189.,  509.,  446.,  427.,  112.,\n",
       "        144.,  127.,  506.,  102.,  483.,  496.,  426.,  108.,  493.,\n",
       "        103.,  113.,  485.,  490.,  130.,   84.,  481.,  431.,  477.,\n",
       "        489.,  470.,  151.,  613.,  441.,  551.,   98.,  462.,  517.,\n",
       "        123.,  126.,  530.,  448.,  403.,  455.,  104.,  822.,  460.,\n",
       "        148.,   95.,  513.,  534.,  527.,  465.,  484.,  626.,  516.,\n",
       "        615.,  140.,  501.,  114.,  461.,  138.,  445.,   41.,  629.,\n",
       "        105.,  131.,   63.,  121.,  578.,  515.,  646.,  146.,  479.,\n",
       "         56.,   89.,  422.,  589.,  625.,  488.,  433.,  459.,   57.,\n",
       "        598.,   83.,  109.,  134.,  585.,   39.,  124.,   93.,   28.,\n",
       "        468.,  519.,  556.,  115.,  651.,  504.,  117.,   85.,  514.,\n",
       "        520.,  499.,  505.,  449.,  569.,  511.,   99.,  143.,  667.,\n",
       "        473.,   97.,   35.,  133.,  799.,  533.,  575.,  111.,   78.,\n",
       "         65.,  122.,   11.,   47.,  672.,  106.,   70.,  100.,   81.,\n",
       "         77.,  576.,  118.,   75.,  107.,   60.,  539.,  531.,   92.,\n",
       "        991.,   72., 1000.,  553.,   76.,   34.,   49.,   86.,   90.,\n",
       "        466.,  681.,   22.,   79.,   91.,  507.,   69.,  559.,  543.,\n",
       "         27.,   48.,  659.,   18.,   80.,  612.,   38.,  579.,   87.,\n",
       "         54.,  633.,  601.,  669.,  599.,  522.,   14.,  570.,   53.,\n",
       "        568.,  664.,   67.,  524.,   36.,  777.,  818.,  545.,  662.,\n",
       "        620.,   71.,  583.,  498.,  541.,  495.,   61.])"
      ]
     },
     "metadata": {},
     "output_type": "display_data"
    },
    {
     "name": "stdout",
     "output_type": "stream",
     "text": [
      "MPV\n"
     ]
    },
    {
     "data": {
      "text/plain": [
       "array([ 7.8,  8.6,  0. ,  9.3,  9.1,  8.2,  8.8,  8.3,  7.6,  6.4,  8.4,\n",
       "        6.9,  9.6,  8.1,  7.4,  9. ,  8.9,  7.5,  8. ,  9.4,  7.3,  9.8,\n",
       "        7. ,  6.6, 10. ,  6.8,  7.1,  8.7, 10.2,  7.2,  7.9,  7.7, 11. ,\n",
       "       10.1,  8.5,  9.9,  5.7, 12. ,  9.5,  6.5,  6.3, 11.4, 11.2,  6.1,\n",
       "        9.7, 10.5, 10.8, 10.4,  6.7,  9.2, 10.7, 10.6, 11.5, 10.3, 10.9,\n",
       "        5.5, 11.1,  5. ,  5.8,  6.2, 11.7,  6. , 12.1,  5.6,  5.9, 11.3,\n",
       "       12.2,  5.4, 11.6, 12.6, 11.8,  5.1,  5.2,  4.8,  4.7, 12.5, 11.9,\n",
       "       13.5, 12.4, 13. , 13.6, 12.3, 13.3, 15.1])"
      ]
     },
     "metadata": {},
     "output_type": "display_data"
    },
    {
     "name": "stdout",
     "output_type": "stream",
     "text": [
      "full_time_work\n"
     ]
    },
    {
     "data": {
      "text/plain": [
       "array(['Missing', 'No', 'Yes'], dtype=object)"
      ]
     },
     "metadata": {},
     "output_type": "display_data"
    },
    {
     "name": "stdout",
     "output_type": "stream",
     "text": [
      "work_type\n"
     ]
    },
    {
     "data": {
      "text/plain": [
       "array(['Private Wage Worker', 'Missing', 'Government', 'Family Business',\n",
       "       'Self Employed'], dtype=object)"
      ]
     },
     "metadata": {},
     "output_type": "display_data"
    },
    {
     "name": "stdout",
     "output_type": "stream",
     "text": [
      "time_in_current_job\n"
     ]
    },
    {
     "data": {
      "text/plain": [
       "array([324.,  96.,   0.,  12.,  24.,   3., 300.,  60., 372.,  84.,  15.,\n",
       "        36., 480., 216., 120., 552.,   1.,   7.,  18., 432.,  72.,   6.,\n",
       "       180., 108.,  48., 168.,  11.,   5., 456.,  17., 204., 252.,   2.,\n",
       "       156., 240.,  14.,  16., 576., 132.,   4., 336.,   9., 228., 144.,\n",
       "       420.,   8., 396., 264., 288., 708., 192., 276.,  30., 360.,  44.,\n",
       "       312.,  19.,  10., 444., 672.,  42., 588., 600., 348., 408., 660.,\n",
       "        21., 384.,  34.,  28.,  26.,  13., 528.,  29., 564., 540., 468.,\n",
       "       720.,  27.,  46.,  43.,  31., 696., 492.,  20., 504.,  33.,  40.,\n",
       "        32.,  22., 624.,  39., 516., 636.,  25.,  38., 612.,  23.,  35.])"
      ]
     },
     "metadata": {},
     "output_type": "display_data"
    },
    {
     "name": "stdout",
     "output_type": "stream",
     "text": [
      "out_of_work\n"
     ]
    },
    {
     "data": {
      "text/plain": [
       "array(['Missing', 'Retired', 'Disabled', 'Home Caretaker', 'School',\n",
       "       'Health', 'Other', 'Layoff'], dtype=object)"
      ]
     },
     "metadata": {},
     "output_type": "display_data"
    },
    {
     "name": "stdout",
     "output_type": "stream",
     "text": [
      "trouble_sleeping_history\n"
     ]
    },
    {
     "data": {
      "text/plain": [
       "array(['No', 'Yes'], dtype=object)"
      ]
     },
     "metadata": {},
     "output_type": "display_data"
    },
    {
     "name": "stdout",
     "output_type": "stream",
     "text": [
      "sleep_hours\n"
     ]
    },
    {
     "data": {
      "text/plain": [
       "array([ 9. ,  7. ,  6. ,  8. ,  2. ,  5. ,  4. , 12. , 10. , 11. ,  3. ,\n",
       "        1. ,  0. ,  5.5,  6.5,  9.5,  8.5,  7.5,  2.5,  4.5,  3.5, 11.5,\n",
       "       10.5, 12.5, 13. , 14.5, 14. , 13.5])"
      ]
     },
     "metadata": {},
     "output_type": "display_data"
    },
    {
     "name": "stdout",
     "output_type": "stream",
     "text": [
      "vigorous_recreation\n"
     ]
    },
    {
     "data": {
      "text/plain": [
       "array(['No', 'Yes', 'Missing'], dtype=object)"
      ]
     },
     "metadata": {},
     "output_type": "display_data"
    },
    {
     "name": "stdout",
     "output_type": "stream",
     "text": [
      "moderate_recreation\n"
     ]
    },
    {
     "data": {
      "text/plain": [
       "array(['No', 'Yes', 'Missing'], dtype=object)"
      ]
     },
     "metadata": {},
     "output_type": "display_data"
    },
    {
     "name": "stdout",
     "output_type": "stream",
     "text": [
      "sedentary_time\n"
     ]
    },
    {
     "data": {
      "text/plain": [
       "array([1.50e+02, 9.00e+01, 1.20e+02, 3.60e+02, 1.80e+02, 3.00e+02,\n",
       "       4.20e+02, 5.40e+02, 3.00e+01, 6.00e+01, 2.70e+02, 2.40e+02,\n",
       "       3.30e+02, 2.10e+02, 0.00e+00, 6.00e+02, 4.80e+02, 7.20e+02,\n",
       "       1.50e+01, 1.02e+03, 9.00e+02, 6.60e+02, 8.40e+02, 4.50e+01,\n",
       "       1.08e+03, 9.60e+02, 2.00e+01, 7.80e+02, 1.00e+01, 9.00e+00,\n",
       "       1.30e+01, 1.00e+00, 4.00e+01, 2.60e+02, 3.00e+00, 5.00e+00,\n",
       "       1.20e+03, 6.00e+00, 2.00e+00, 2.50e+01, 5.00e+01, 7.00e+00,\n",
       "       8.00e+00, 1.20e+01, 7.50e+01, 4.00e+00, 2.30e+02, 1.14e+03,\n",
       "       5.50e+01, 1.60e+01, 8.10e+01, 1.05e+02, 4.90e+02, 8.00e+01,\n",
       "       3.90e+02, 5.10e+02, 1.40e+02, 1.00e+02, 2.25e+02, 2.20e+01,\n",
       "       2.00e+02, 1.32e+03, 5.14e+02, 2.90e+01, 1.45e+02, 1.10e+01,\n",
       "       3.50e+01])"
      ]
     },
     "metadata": {},
     "output_type": "display_data"
    },
    {
     "name": "stdout",
     "output_type": "stream",
     "text": [
      "vigorous_work\n"
     ]
    },
    {
     "data": {
      "text/plain": [
       "array(['No', 'Yes'], dtype=object)"
      ]
     },
     "metadata": {},
     "output_type": "display_data"
    },
    {
     "name": "stdout",
     "output_type": "stream",
     "text": [
      "moderate_work\n"
     ]
    },
    {
     "data": {
      "text/plain": [
       "array(['No', 'Yes'], dtype=object)"
      ]
     },
     "metadata": {},
     "output_type": "display_data"
    },
    {
     "name": "stdout",
     "output_type": "stream",
     "text": [
      "drinks_per_occasion\n"
     ]
    },
    {
     "data": {
      "text/plain": [
       "array([ 0.,  1.,  2.,  3.,  7.,  4.,  8., 12.,  6.,  5.,  9., 10., 14.,\n",
       "       15., 17., 20., 24., 32., 11., 13., 18., 25., 30., 66., 83., 16.,\n",
       "       23., 19., 21., 36., 82., 64.])"
      ]
     },
     "metadata": {},
     "output_type": "display_data"
    },
    {
     "name": "stdout",
     "output_type": "stream",
     "text": [
      "lifetime_alcohol_consumption\n"
     ]
    },
    {
     "data": {
      "text/plain": [
       "array(['Yes', 'Missing', 'No'], dtype=object)"
      ]
     },
     "metadata": {},
     "output_type": "display_data"
    },
    {
     "name": "stdout",
     "output_type": "stream",
     "text": [
      "drinks_past_year\n"
     ]
    },
    {
     "data": {
      "text/plain": [
       "array([  0., 208., 104.,  24., 364., 156.,  36.,   6.,   1.,   2.,  64.,\n",
       "       260.,  60.,   3.,   4.,  10.,   5.,  52.,  12.,   7.,  50.,  48.,\n",
       "        21., 335.,  11.,  14., 312.,  84.,  72., 182.,  32.,  30., 365.,\n",
       "        20.,  16., 240., 250., 120.,  45.,  96.,   8., 150.,  15.,  40.,\n",
       "       360., 180., 200.,   9., 300.,  85.,  34.,  18., 100.,  90.,  26.,\n",
       "        28., 264., 275., 270., 160., 144., 334., 320.,  25., 350., 168.,\n",
       "       304., 252., 330.,  80., 183.,  65., 140., 210.,  13., 132., 216.,\n",
       "        23.,  56., 108., 288., 198.,  35., 324., 178., 220.,  97.,  42.,\n",
       "       138., 245., 336., 340., 305.,  17., 112.,  61., 348.,  19.])"
      ]
     },
     "metadata": {},
     "output_type": "display_data"
    },
    {
     "name": "stdout",
     "output_type": "stream",
     "text": [
      "cant_work\n"
     ]
    },
    {
     "data": {
      "text/plain": [
       "array(['No', 'Yes'], dtype=object)"
      ]
     },
     "metadata": {},
     "output_type": "display_data"
    },
    {
     "name": "stdout",
     "output_type": "stream",
     "text": [
      "limited_work\n"
     ]
    },
    {
     "data": {
      "text/plain": [
       "array(['No', 'Yes'], dtype=object)"
      ]
     },
     "metadata": {},
     "output_type": "display_data"
    },
    {
     "name": "stdout",
     "output_type": "stream",
     "text": [
      "walking_equipment\n"
     ]
    },
    {
     "data": {
      "text/plain": [
       "array(['No', 'Yes'], dtype=object)"
      ]
     },
     "metadata": {},
     "output_type": "display_data"
    },
    {
     "name": "stdout",
     "output_type": "stream",
     "text": [
      "memory_problems\n"
     ]
    },
    {
     "data": {
      "text/plain": [
       "array(['No', 'Yes'], dtype=object)"
      ]
     },
     "metadata": {},
     "output_type": "display_data"
    },
    {
     "name": "stdout",
     "output_type": "stream",
     "text": [
      "limitations\n"
     ]
    },
    {
     "data": {
      "text/plain": [
       "array(['No', 'Yes'], dtype=object)"
      ]
     },
     "metadata": {},
     "output_type": "display_data"
    },
    {
     "name": "stdout",
     "output_type": "stream",
     "text": [
      "healthcare_equipment\n"
     ]
    },
    {
     "data": {
      "text/plain": [
       "array(['No', 'Yes'], dtype=object)"
      ]
     },
     "metadata": {},
     "output_type": "display_data"
    },
    {
     "name": "stdout",
     "output_type": "stream",
     "text": [
      "health_problem_Other Impairment\n"
     ]
    },
    {
     "data": {
      "text/plain": [
       "array(['No', 'Yes'], dtype=object)"
      ]
     },
     "metadata": {},
     "output_type": "display_data"
    },
    {
     "name": "stdout",
     "output_type": "stream",
     "text": [
      "health_problem_Bone or Joint\n"
     ]
    },
    {
     "data": {
      "text/plain": [
       "array(['No', 'Yes'], dtype=object)"
      ]
     },
     "metadata": {},
     "output_type": "display_data"
    },
    {
     "name": "stdout",
     "output_type": "stream",
     "text": [
      "health_problem_Weight\n"
     ]
    },
    {
     "data": {
      "text/plain": [
       "array(['No', 'Yes'], dtype=object)"
      ]
     },
     "metadata": {},
     "output_type": "display_data"
    },
    {
     "name": "stdout",
     "output_type": "stream",
     "text": [
      "health_problem_Back or Neck\n"
     ]
    },
    {
     "data": {
      "text/plain": [
       "array(['No', 'Yes'], dtype=object)"
      ]
     },
     "metadata": {},
     "output_type": "display_data"
    },
    {
     "name": "stdout",
     "output_type": "stream",
     "text": [
      "health_problem_Arthritis\n"
     ]
    },
    {
     "data": {
      "text/plain": [
       "array(['No', 'Yes'], dtype=object)"
      ]
     },
     "metadata": {},
     "output_type": "display_data"
    },
    {
     "name": "stdout",
     "output_type": "stream",
     "text": [
      "health_problem_Cancer\n"
     ]
    },
    {
     "data": {
      "text/plain": [
       "array(['No', 'Yes'], dtype=object)"
      ]
     },
     "metadata": {},
     "output_type": "display_data"
    },
    {
     "name": "stdout",
     "output_type": "stream",
     "text": [
      "health_problem_Other Injury\n"
     ]
    },
    {
     "data": {
      "text/plain": [
       "array(['No', 'Yes'], dtype=object)"
      ]
     },
     "metadata": {},
     "output_type": "display_data"
    },
    {
     "name": "stdout",
     "output_type": "stream",
     "text": [
      "health_problem_Breathing\n"
     ]
    },
    {
     "data": {
      "text/plain": [
       "array(['No', 'Yes'], dtype=object)"
      ]
     },
     "metadata": {},
     "output_type": "display_data"
    },
    {
     "name": "stdout",
     "output_type": "stream",
     "text": [
      "health_problem_Stroke\n"
     ]
    },
    {
     "data": {
      "text/plain": [
       "array(['No', 'Yes'], dtype=object)"
      ]
     },
     "metadata": {},
     "output_type": "display_data"
    },
    {
     "name": "stdout",
     "output_type": "stream",
     "text": [
      "health_problem_Blood Pressure\n"
     ]
    },
    {
     "data": {
      "text/plain": [
       "array(['No', 'Yes'], dtype=object)"
      ]
     },
     "metadata": {},
     "output_type": "display_data"
    },
    {
     "name": "stdout",
     "output_type": "stream",
     "text": [
      "health_problem_Mental Retardation\n"
     ]
    },
    {
     "data": {
      "text/plain": [
       "array(['No', 'Yes'], dtype=object)"
      ]
     },
     "metadata": {},
     "output_type": "display_data"
    },
    {
     "name": "stdout",
     "output_type": "stream",
     "text": [
      "health_problem_Hearing\n"
     ]
    },
    {
     "data": {
      "text/plain": [
       "array(['No', 'Yes'], dtype=object)"
      ]
     },
     "metadata": {},
     "output_type": "display_data"
    },
    {
     "name": "stdout",
     "output_type": "stream",
     "text": [
      "health_problem_Heart\n"
     ]
    },
    {
     "data": {
      "text/plain": [
       "array(['No', 'Yes'], dtype=object)"
      ]
     },
     "metadata": {},
     "output_type": "display_data"
    },
    {
     "name": "stdout",
     "output_type": "stream",
     "text": [
      "health_problem_Vision\n"
     ]
    },
    {
     "data": {
      "text/plain": [
       "array(['No', 'Yes'], dtype=object)"
      ]
     },
     "metadata": {},
     "output_type": "display_data"
    },
    {
     "name": "stdout",
     "output_type": "stream",
     "text": [
      "health_problem_Diabetes\n"
     ]
    },
    {
     "data": {
      "text/plain": [
       "array(['No', 'Yes'], dtype=object)"
      ]
     },
     "metadata": {},
     "output_type": "display_data"
    },
    {
     "name": "stdout",
     "output_type": "stream",
     "text": [
      "health_problem_Birth Defect\n"
     ]
    },
    {
     "data": {
      "text/plain": [
       "array(['No', 'Yes'], dtype=object)"
      ]
     },
     "metadata": {},
     "output_type": "display_data"
    },
    {
     "name": "stdout",
     "output_type": "stream",
     "text": [
      "health_problem_Senility\n"
     ]
    },
    {
     "data": {
      "text/plain": [
       "array(['No', 'Yes'], dtype=object)"
      ]
     },
     "metadata": {},
     "output_type": "display_data"
    },
    {
     "name": "stdout",
     "output_type": "stream",
     "text": [
      "health_problem_Other Developmental\n"
     ]
    },
    {
     "data": {
      "text/plain": [
       "array(['No', 'Yes'], dtype=object)"
      ]
     },
     "metadata": {},
     "output_type": "display_data"
    },
    {
     "name": "stdout",
     "output_type": "stream",
     "text": [
      "marijuana_use\n"
     ]
    },
    {
     "data": {
      "text/plain": [
       "array(['No', 'Yes'], dtype=object)"
      ]
     },
     "metadata": {},
     "output_type": "display_data"
    },
    {
     "name": "stdout",
     "output_type": "stream",
     "text": [
      "marijuana_per_month\n"
     ]
    },
    {
     "data": {
      "text/plain": [
       "array([ 0., 10.,  1., 25., 30., 15.,  3.,  5., 20.,  8.,  2., 99., 14.,\n",
       "        7., 28., 29.,  4., 21.,  6., 12., 26., 11., 22.,  9., 27., 13.,\n",
       "       24., 19., 77., 17., 23., 18., 16.])"
      ]
     },
     "metadata": {},
     "output_type": "display_data"
    },
    {
     "name": "stdout",
     "output_type": "stream",
     "text": [
      "cocaine_use\n"
     ]
    },
    {
     "data": {
      "text/plain": [
       "array(['No', 'Yes'], dtype=object)"
      ]
     },
     "metadata": {},
     "output_type": "display_data"
    },
    {
     "name": "stdout",
     "output_type": "stream",
     "text": [
      "cocaine_number_uses\n"
     ]
    },
    {
     "data": {
      "text/plain": [
       "array(['Missing', '50-99', '20-49', '110+', '2-5', 'Once', '6-19'],\n",
       "      dtype=object)"
      ]
     },
     "metadata": {},
     "output_type": "display_data"
    },
    {
     "name": "stdout",
     "output_type": "stream",
     "text": [
      "cocaine_per_month\n"
     ]
    },
    {
     "data": {
      "text/plain": [
       "array([ 0.,  2.,  1., 99., 30.,  3.,  9.,  6.,  7., 10., 24., 16.,  5.,\n",
       "        4., 20.,  8., 15., 29., 13., 12., 18., 25., 28.])"
      ]
     },
     "metadata": {},
     "output_type": "display_data"
    },
    {
     "name": "stdout",
     "output_type": "stream",
     "text": [
      "heroine_use\n"
     ]
    },
    {
     "data": {
      "text/plain": [
       "array(['No', 'Yes'], dtype=object)"
      ]
     },
     "metadata": {},
     "output_type": "display_data"
    },
    {
     "name": "stdout",
     "output_type": "stream",
     "text": [
      "heronine_per_month\n"
     ]
    },
    {
     "data": {
      "text/plain": [
       "array([ 0.,  3.,  6.,  1., 20., 15., 23., 30.,  4.,  2., 25.,  8.,  5.,\n",
       "       28., 10.])"
      ]
     },
     "metadata": {},
     "output_type": "display_data"
    },
    {
     "name": "stdout",
     "output_type": "stream",
     "text": [
      "meth_use\n"
     ]
    },
    {
     "data": {
      "text/plain": [
       "array(['No', 'Yes'], dtype=object)"
      ]
     },
     "metadata": {},
     "output_type": "display_data"
    },
    {
     "name": "stdout",
     "output_type": "stream",
     "text": [
      "meth_number_uses\n"
     ]
    },
    {
     "data": {
      "text/plain": [
       "array(['Missing', '6-19', '110+', '20-49', 'Once', '2-5', '50-99'],\n",
       "      dtype=object)"
      ]
     },
     "metadata": {},
     "output_type": "display_data"
    },
    {
     "name": "stdout",
     "output_type": "stream",
     "text": [
      "meth_per_month\n"
     ]
    },
    {
     "data": {
      "text/plain": [
       "array([ 0., 10.,  2.,  5., 30.,  1.,  3.,  4., 20., 15., 12.,  8.,  7.,\n",
       "       22.,  6., 14., 25., 27., 24., 28.])"
      ]
     },
     "metadata": {},
     "output_type": "display_data"
    },
    {
     "name": "stdout",
     "output_type": "stream",
     "text": [
      "inject_drugs\n"
     ]
    },
    {
     "data": {
      "text/plain": [
       "array(['No', 'Yes'], dtype=object)"
      ]
     },
     "metadata": {},
     "output_type": "display_data"
    },
    {
     "name": "stdout",
     "output_type": "stream",
     "text": [
      "rehab_program\n"
     ]
    },
    {
     "data": {
      "text/plain": [
       "array(['No', 'Yes'], dtype=object)"
      ]
     },
     "metadata": {},
     "output_type": "display_data"
    },
    {
     "name": "stdout",
     "output_type": "stream",
     "text": [
      "start_smoking_age\n"
     ]
    },
    {
     "data": {
      "text/plain": [
       "array([ 0, 14, 25, 15, 17, 19, 22, 16, 13, 18, 12, 21, 20, 30, 23, 27, 41,\n",
       "        8, 46, 10, 11, 40,  7, 24, 44, 55, 33, 51,  9, 28, 26, 38, 35, 32,\n",
       "       31, 39, 42, 45, 48, 37, 59, 36, 29, 74, 50, 34, 65, 54, 68, 63, 71,\n",
       "       57,  6, 47, 72, 58, 49, 43, 64, 52, 56, 76], dtype=int64)"
      ]
     },
     "metadata": {},
     "output_type": "display_data"
    },
    {
     "name": "stdout",
     "output_type": "stream",
     "text": [
      "current_smoker\n"
     ]
    },
    {
     "data": {
      "text/plain": [
       "array(['Missing', 'Never', 'Every Day', 'Some Days'], dtype=object)"
      ]
     },
     "metadata": {},
     "output_type": "display_data"
    },
    {
     "name": "stdout",
     "output_type": "stream",
     "text": [
      "previous_cigarettes_per_day\n"
     ]
    },
    {
     "data": {
      "text/plain": [
       "array([ 0, 20, 60, 15, 12, 40,  1, 10, 18,  3, 80,  5,  4,  6,  2, 30, 16,\n",
       "       35, 25,  8, 50, 95, 17, 70, 13,  7, 26, 34, 32, 14,  9, 49, 90, 55,\n",
       "       23, 29, 65, 38, 42, 36, 24, 31, 19, 75, 68, 45, 33, 11, 44, 53, 39,\n",
       "       37, 27, 47, 48], dtype=int64)"
      ]
     },
     "metadata": {},
     "output_type": "display_data"
    },
    {
     "name": "stdout",
     "output_type": "stream",
     "text": [
      "current_cigarettes_per_day\n"
     ]
    },
    {
     "data": {
      "text/plain": [
       "array([ 0,  2, 15, 20,  1,  3, 10, 12, 30,  5,  8, 40,  7,  4, 25, 16,  6,\n",
       "       17, 50,  9, 27, 18, 24, 45, 13, 60, 11, 22, 35, 90, 19, 14, 26, 95,\n",
       "       70, 29, 43, 80, 48, 23], dtype=int64)"
      ]
     },
     "metadata": {},
     "output_type": "display_data"
    },
    {
     "name": "stdout",
     "output_type": "stream",
     "text": [
      "days_quit_smoking\n"
     ]
    },
    {
     "data": {
      "text/plain": [
       "array([    0, 13870, 10585,  1825, 15695,  6205, 15330,  2190,   270,\n",
       "         540,    30,  3650, 13505,  7300,  9490, 16060, 18615,  1460,\n",
       "       10950, 12775,    10,   900,  4745,   210,  1095,  9125, 12410,\n",
       "        3285,    60,  5475,     4, 13140,  5110,  2555, 11680,   365,\n",
       "        9855,  4380, 12045,   730,   240, 19345, 14600,  8760,   180,\n",
       "        7665,  8030,  2920, 16425,  6570,  8395,   870,   330, 18250,\n",
       "       10220,    90,   120, 26280, 22995,  4015,  5840, 21900,    35,\n",
       "       18980, 17520,   150,  6935, 14235,    36, 20805,    49, 14965,\n",
       "          63,   300, 11315,   390, 16790, 17885, 17155, 21170,    14,\n",
       "          42,     2,   480,     3,    45, 20075, 25550,   450,     7,\n",
       "         301,   690,     6, 21535,    21,   510,     1, 24090,   420,\n",
       "       20440,    55,   280,    15,   630,    18, 23725,   750,  1050,\n",
       "         780,   105,    12, 19710,    25,   570,  1080, 24455,    28,\n",
       "         930, 22265,   600,    70,    56,   660,   245, 25915,   193,\n",
       "       22630,    40,   360,    20,    51,    50,   810,    22,     5,\n",
       "          34,   960,    17,    37,     8,    41,    54,    71,    98],\n",
       "      dtype=int64)"
      ]
     },
     "metadata": {},
     "output_type": "display_data"
    },
    {
     "name": "stdout",
     "output_type": "stream",
     "text": [
      "household_smokers\n"
     ]
    },
    {
     "data": {
      "text/plain": [
       "array([4, 1, 3, 2, 0], dtype=int64)"
      ]
     },
     "metadata": {},
     "output_type": "display_data"
    },
    {
     "name": "stdout",
     "output_type": "stream",
     "text": [
      "prescriptions_count\n"
     ]
    },
    {
     "data": {
      "text/plain": [
       "array([ 2,  4,  5,  0,  1,  9,  7,  3,  6, 10,  8, 11, 14, 13, 12, 15, 17,\n",
       "       16, 20, 18, 19, 23, 22], dtype=int64)"
      ]
     },
     "metadata": {},
     "output_type": "display_data"
    },
    {
     "name": "stdout",
     "output_type": "stream",
     "text": [
      "Rx_LISINOPRIL\n"
     ]
    },
    {
     "data": {
      "text/plain": [
       "array(['No', 'Yes'], dtype=object)"
      ]
     },
     "metadata": {},
     "output_type": "display_data"
    },
    {
     "name": "stdout",
     "output_type": "stream",
     "text": [
      "Rx_days_LISINOPRIL\n"
     ]
    },
    {
     "data": {
      "text/plain": [
       "array([0.0000e+00, 7.3000e+02, 2.5550e+03, 3.0000e+01, 1.4600e+03,\n",
       "       5.4750e+03, 9.1000e+01, 1.8250e+03, 3.6500e+02, 1.8200e+02,\n",
       "       6.1000e+01, 1.5200e+02, 3.6500e+03, 1.0950e+03, 7.3000e+03,\n",
       "       1.0950e+04, 7.0000e+00, 6.9350e+03, 1.4000e+01, 2.7400e+02,\n",
       "       2.1900e+03, 5.1100e+03, 5.4700e+02, 2.1300e+02, 6.5700e+03,\n",
       "       1.0000e+00, 4.3800e+03, 4.7450e+03, 3.3400e+02, 1.0000e+01,\n",
       "       3.0400e+02, 4.2000e+01, 3.2850e+03, 1.2200e+02, 5.4800e+02,\n",
       "       9.4900e+03, 9.1250e+03, 2.9200e+03, 6.2050e+03, 1.3505e+04,\n",
       "       1.5000e+01, 4.0150e+03, 4.2600e+02, 8.0300e+03, 2.4300e+02,\n",
       "       1.1315e+04, 2.1000e+01, 7.6650e+03, 1.8250e+04, 6.6900e+02,\n",
       "       3.9500e+02, 8.3950e+03, 1.9345e+04, 4.5600e+02, 5.8400e+03,\n",
       "       9.1300e+02, 4.0000e+00, 1.4600e+04, 9.1200e+02, 5.0000e+00,\n",
       "       1.0585e+04, 4.5000e+01, 3.5000e+01, 9.0000e+01, 1.2775e+04,\n",
       "       8.7600e+03, 1.2780e+03, 2.1900e+04, 2.0000e+00, 1.0220e+04,\n",
       "       1.1200e+02, 9.8550e+03, 4.8600e+02])"
      ]
     },
     "metadata": {},
     "output_type": "display_data"
    },
    {
     "name": "stdout",
     "output_type": "stream",
     "text": [
      "Rx_METFORMIN\n"
     ]
    },
    {
     "data": {
      "text/plain": [
       "array(['No', 'Yes'], dtype=object)"
      ]
     },
     "metadata": {},
     "output_type": "display_data"
    },
    {
     "name": "stdout",
     "output_type": "stream",
     "text": [
      "Rx_days_METFORMIN\n"
     ]
    },
    {
     "data": {
      "text/plain": [
       "array([0.0000e+00, 1.0950e+03, 3.6500e+02, 3.6500e+03, 7.3000e+02,\n",
       "       1.4600e+03, 5.4700e+02, 9.1000e+01, 2.5550e+03, 6.1000e+01,\n",
       "       4.2000e+01, 3.0000e+01, 1.8250e+03, 2.1300e+02, 2.1900e+03,\n",
       "       1.2200e+02, 1.8200e+02, 5.4750e+03, 3.0400e+02, 2.9200e+03,\n",
       "       4.3800e+03, 1.0000e+00, 7.3000e+03, 3.3400e+02, 3.2850e+03,\n",
       "       2.1000e+01, 1.5900e+02, 4.7450e+03, 1.6425e+03, 2.4300e+02,\n",
       "       4.0150e+03, 2.0000e+00, 5.1100e+03, 8.0300e+03, 8.0000e+00,\n",
       "       1.5200e+02, 2.7400e+02, 1.0950e+04, 6.5700e+03, 3.9500e+02,\n",
       "       9.1250e+03, 5.8400e+03, 3.3000e+01, 2.0000e+01, 1.0220e+04,\n",
       "       1.2775e+04, 2.0075e+03, 8.3950e+03, 9.8550e+03, 1.3870e+04,\n",
       "       7.0000e+00, 1.1315e+04, 4.0000e+00, 1.4000e+01, 9.1200e+02,\n",
       "       4.5600e+02, 5.4800e+02, 6.9350e+03, 8.7600e+03, 3.0000e+00,\n",
       "       6.0800e+02, 6.2050e+03, 7.6650e+03, 9.4900e+03, 1.2780e+03,\n",
       "       2.1900e+04, 3.5000e+01, 1.8600e+02, 1.5000e+01, 9.8000e+01,\n",
       "       6.0000e+00, 1.1680e+04, 1.6060e+04, 2.0075e+04, 4.8600e+02,\n",
       "       5.1700e+02, 1.8250e+04, 1.0000e+01, 7.5000e+01])"
      ]
     },
     "metadata": {},
     "output_type": "display_data"
    },
    {
     "name": "stdout",
     "output_type": "stream",
     "text": [
      "Rx_ALBUTEROL\n"
     ]
    },
    {
     "data": {
      "text/plain": [
       "array(['No', 'Yes'], dtype=object)"
      ]
     },
     "metadata": {},
     "output_type": "display_data"
    },
    {
     "name": "stdout",
     "output_type": "stream",
     "text": [
      "Rx_days_ALBUTEROL\n"
     ]
    },
    {
     "data": {
      "text/plain": [
       "array([0.0000e+00, 1.8250e+03, 6.1000e+01, 8.7550e+03, 5.1100e+03,\n",
       "       4.3800e+03, 1.4600e+03, 5.4750e+03, 1.0950e+04, 3.0000e+01,\n",
       "       7.3000e+03, 1.8200e+02, 6.2050e+03, 1.0950e+03, 3.6500e+02,\n",
       "       7.3000e+02, 4.7450e+03, 1.4600e+04, 7.0000e+00, 3.6500e+03,\n",
       "       1.0000e+01, 6.5700e+03, 8.2100e+02, 2.0000e+00, 3.0400e+02,\n",
       "       1.5200e+02, 1.4000e+01, 8.2125e+03, 2.1900e+03, 4.0150e+03,\n",
       "       2.9200e+03, 9.1000e+01, 1.4235e+04, 1.0220e+04, 2.5550e+03,\n",
       "       8.0300e+03, 1.6425e+04, 4.0000e+00, 2.1300e+02, 1.2775e+04,\n",
       "       2.4300e+02, 1.2200e+02, 3.2850e+03, 9.4900e+03, 9.8550e+03,\n",
       "       6.9350e+03, 1.6425e+03, 8.7600e+03, 5.6575e+03, 1.5695e+04,\n",
       "       3.0000e+00, 9.1250e+03, 3.1025e+03, 2.1000e+01, 1.3080e+03,\n",
       "       4.5625e+03, 1.0000e+00, 5.8400e+03, 6.6005e+03, 8.3950e+03,\n",
       "       5.4700e+02, 1.5330e+04, 6.3875e+03, 1.9750e+02, 2.7350e+02,\n",
       "       2.7525e+03, 3.5000e+01, 2.1935e+03, 7.6650e+03, 2.7400e+02,\n",
       "       4.2600e+02, 9.4850e+03, 1.2775e+03, 3.3400e+02, 7.6050e+02,\n",
       "       9.1250e+02, 1.8250e+04, 2.0075e+03, 8.5775e+03, 2.7830e+03,\n",
       "       1.3140e+04, 3.8325e+03, 1.0585e+04, 5.0000e+00, 2.7375e+03,\n",
       "       1.6120e+03, 2.0000e+01, 4.5600e+02, 4.2000e+01, 3.6550e+03,\n",
       "       6.3850e+02, 3.2920e+03, 4.0000e+01, 9.1200e+02, 4.5000e+01,\n",
       "       9.0000e+00])"
      ]
     },
     "metadata": {},
     "output_type": "display_data"
    },
    {
     "name": "stdout",
     "output_type": "stream",
     "text": [
      "Rx_LEVOTHYROXINE\n"
     ]
    },
    {
     "data": {
      "text/plain": [
       "array(['No', 'Yes'], dtype=object)"
      ]
     },
     "metadata": {},
     "output_type": "display_data"
    },
    {
     "name": "stdout",
     "output_type": "stream",
     "text": [
      "Rx_days_LEVOTHYROXINE\n"
     ]
    },
    {
     "data": {
      "text/plain": [
       "array([0.0000e+00, 2.5550e+03, 9.1250e+03, 1.4600e+03, 9.1000e+01,\n",
       "       7.3000e+03, 1.0950e+03, 2.1900e+03, 5.4750e+03, 1.8250e+03,\n",
       "       3.6500e+03, 7.3000e+02, 2.9200e+03, 8.7600e+03, 3.6500e+02,\n",
       "       1.0950e+04, 8.0300e+03, 6.2050e+03, 4.3800e+03, 7.6650e+03,\n",
       "       3.2850e+03, 6.9350e+03, 2.4300e+02, 1.2200e+02, 5.1100e+03,\n",
       "       3.0000e+01, 1.3140e+04, 8.3950e+03, 6.3875e+03, 4.7450e+03,\n",
       "       1.6425e+04, 1.2775e+04, 1.8250e+04, 1.5695e+04, 1.8200e+02,\n",
       "       9.4900e+03, 9.8550e+03, 6.0800e+02, 2.1300e+02, 5.8400e+03,\n",
       "       1.4600e+04, 2.2995e+04, 1.0220e+04, 1.5200e+02, 7.0000e+00,\n",
       "       6.1000e+01, 4.0150e+03, 1.4965e+04, 1.2045e+04, 1.1315e+04,\n",
       "       2.1000e+01, 1.1680e+04, 2.0000e+01, 2.1900e+04, 2.8000e+01,\n",
       "       1.7155e+04, 3.0400e+02, 4.5600e+02, 2.0075e+04, 5.4700e+02,\n",
       "       2.7400e+02, 4.2600e+02, 1.2000e+01, 1.2410e+04, 3.0000e+00,\n",
       "       1.3505e+04, 5.4800e+02, 1.0585e+04, 1.4235e+04, 2.2000e+01,\n",
       "       2.1535e+04, 3.5000e+01, 1.0500e+02, 3.3400e+02, 1.8980e+04,\n",
       "       6.5700e+03, 2.2265e+04, 2.0440e+04, 1.5330e+04, 6.0000e+01,\n",
       "       6.3800e+02, 1.9710e+04, 1.4000e+01, 2.5550e+04, 1.9345e+04,\n",
       "       1.3870e+04, 1.6060e+04, 3.6000e+01, 1.7885e+04, 1.7520e+04,\n",
       "       4.0000e+00, 9.0000e+01, 2.0805e+04, 2.1170e+04])"
      ]
     },
     "metadata": {},
     "output_type": "display_data"
    },
    {
     "name": "stdout",
     "output_type": "stream",
     "text": [
      "Rx_SIMVASTATIN\n"
     ]
    },
    {
     "data": {
      "text/plain": [
       "array(['No', 'Yes'], dtype=object)"
      ]
     },
     "metadata": {},
     "output_type": "display_data"
    },
    {
     "name": "stdout",
     "output_type": "stream",
     "text": [
      "Rx_days_SIMVASTATIN\n"
     ]
    },
    {
     "data": {
      "text/plain": [
       "array([0.0000e+00, 5.1100e+03, 1.0950e+03, 2.1900e+03, 1.0000e+00,\n",
       "       3.6500e+02, 7.3000e+02, 4.3800e+03, 3.6500e+03, 1.8250e+03,\n",
       "       5.4700e+02, 1.0950e+04, 1.4600e+03, 2.8000e+01, 6.1000e+01,\n",
       "       2.9200e+03, 2.4300e+02, 2.5550e+03, 3.0400e+02, 5.4750e+03,\n",
       "       9.1000e+01, 3.2850e+03, 2.1300e+02, 3.0000e+01, 6.5700e+03,\n",
       "       1.8200e+02, 1.2200e+02, 1.5200e+02, 7.3000e+03, 1.4000e+01,\n",
       "       2.7400e+02, 2.1000e+01, 4.2000e+01, 4.7450e+03, 4.0150e+03,\n",
       "       6.2050e+03, 5.0000e+00, 7.0000e+00, 4.8600e+02, 3.1000e+01,\n",
       "       6.3850e+02, 1.0585e+04, 1.5000e+01, 3.5000e+01, 2.0000e+00,\n",
       "       9.1250e+03, 8.7600e+03, 6.6900e+02, 5.8400e+03, 7.0000e+01,\n",
       "       4.0000e+01, 9.1200e+02, 4.9000e+01, 3.3400e+02, 3.9500e+02,\n",
       "       4.2600e+02, 4.5600e+02, 6.9350e+03, 5.4800e+02, 6.0000e+01,\n",
       "       8.0300e+03, 9.4900e+03, 9.8550e+03, 7.6650e+03, 8.5100e+02,\n",
       "       1.8250e+04, 1.6060e+04, 3.0000e+00])"
      ]
     },
     "metadata": {},
     "output_type": "display_data"
    },
    {
     "name": "stdout",
     "output_type": "stream",
     "text": [
      "Rx_ATORVASTATIN\n"
     ]
    },
    {
     "data": {
      "text/plain": [
       "array(['No', 'Yes'], dtype=object)"
      ]
     },
     "metadata": {},
     "output_type": "display_data"
    },
    {
     "name": "stdout",
     "output_type": "stream",
     "text": [
      "Rx_days_ATORVASTATIN\n"
     ]
    },
    {
     "data": {
      "text/plain": [
       "array([0.0000e+00, 5.4700e+02, 3.6500e+02, 7.3000e+02, 4.3800e+03,\n",
       "       5.4750e+03, 9.1000e+01, 2.5550e+03, 1.8200e+02, 2.4300e+02,\n",
       "       4.7450e+03, 1.0950e+03, 1.4600e+03, 6.1000e+01, 1.8250e+03,\n",
       "       3.0000e+01, 2.1300e+02, 2.9200e+03, 1.0585e+04, 3.6500e+03,\n",
       "       2.1900e+03, 1.4000e+01, 1.2200e+02, 3.2850e+03, 1.4600e+04,\n",
       "       3.3400e+02, 2.7400e+02, 2.0000e+00, 1.2000e+01, 5.8400e+03,\n",
       "       7.3000e+03, 1.5200e+02, 2.1000e+01, 9.1250e+03, 4.2600e+02,\n",
       "       1.0950e+04, 7.0000e+00, 5.1100e+03, 3.0400e+02, 6.5700e+03,\n",
       "       6.9350e+03, 4.0150e+03, 1.0000e+00, 8.3950e+03, 2.0080e+03,\n",
       "       1.5000e+01, 2.8000e+01, 4.5600e+02, 6.2050e+03, 8.7600e+03,\n",
       "       3.5000e+01, 9.4900e+03, 9.1300e+02, 1.0000e+01, 1.0940e+03,\n",
       "       8.0300e+03, 3.0000e+00, 1.1315e+04, 5.4800e+02, 1.5330e+04,\n",
       "       7.5000e+01, 5.6000e+01, 9.1200e+02, 7.6650e+03, 4.5000e+01,\n",
       "       9.8550e+03, 4.8600e+02, 4.2000e+01, 1.8250e+04, 6.0800e+02])"
      ]
     },
     "metadata": {},
     "output_type": "display_data"
    },
    {
     "name": "stdout",
     "output_type": "stream",
     "text": [
      "Rx_METOPROLOL\n"
     ]
    },
    {
     "data": {
      "text/plain": [
       "array(['No', 'Yes'], dtype=object)"
      ]
     },
     "metadata": {},
     "output_type": "display_data"
    },
    {
     "name": "stdout",
     "output_type": "stream",
     "text": [
      "Rx_days_METOPROLOL\n"
     ]
    },
    {
     "data": {
      "text/plain": [
       "array([0.0000e+00, 7.3000e+02, 1.8250e+03, 5.4700e+02, 6.1000e+01,\n",
       "       1.0950e+03, 7.3000e+03, 3.6500e+02, 2.9200e+03, 3.2850e+03,\n",
       "       1.0950e+04, 1.2200e+02, 8.0300e+03, 3.6500e+03, 2.5550e+03,\n",
       "       9.1000e+01, 1.8200e+02, 1.0000e+00, 1.4600e+03, 5.4750e+03,\n",
       "       3.0400e+02, 2.1900e+03, 3.0000e+01, 1.5200e+02, 2.4300e+02,\n",
       "       4.3800e+03, 2.1000e+01, 7.0000e+00, 2.1300e+02, 4.2000e+01,\n",
       "       4.9000e+01, 2.7400e+02, 3.3400e+02, 1.3000e+01, 1.4600e+04,\n",
       "       2.7350e+02, 9.1250e+03, 4.7450e+03, 3.5000e+01, 4.2600e+02,\n",
       "       4.0150e+03, 6.2050e+03, 5.0000e+00, 1.3140e+04, 4.8600e+02,\n",
       "       1.4000e+01, 1.6000e+01, 5.1100e+03, 4.0000e+00, 3.0000e+00,\n",
       "       1.3505e+04, 1.9000e+01, 5.4800e+02, 6.5700e+03, 9.1200e+02,\n",
       "       8.3950e+03, 1.0220e+04, 5.8400e+03, 6.6900e+02, 8.7600e+03,\n",
       "       2.0080e+03, 1.2775e+04, 5.7800e+02, 1.0650e+02, 9.0000e+01,\n",
       "       9.1300e+02, 1.1680e+04, 2.1900e+04, 6.9350e+03, 1.8270e+03,\n",
       "       4.5600e+02, 7.6650e+03, 4.5000e+01, 9.8550e+03])"
      ]
     },
     "metadata": {},
     "output_type": "display_data"
    },
    {
     "name": "stdout",
     "output_type": "stream",
     "text": [
      "Rx_AMLODIPINE\n"
     ]
    },
    {
     "data": {
      "text/plain": [
       "array(['No', 'Yes'], dtype=object)"
      ]
     },
     "metadata": {},
     "output_type": "display_data"
    },
    {
     "name": "stdout",
     "output_type": "stream",
     "text": [
      "Rx_days_AMLODIPINE\n"
     ]
    },
    {
     "data": {
      "text/plain": [
       "array([0.0000e+00, 4.3800e+03, 2.1900e+03, 2.5550e+03, 7.3000e+03,\n",
       "       7.3000e+02, 3.6500e+02, 6.1000e+01, 4.7450e+03, 1.8250e+03,\n",
       "       1.0950e+03, 1.8200e+02, 2.9200e+03, 9.1000e+01, 3.6500e+03,\n",
       "       6.9900e+02, 6.2050e+03, 1.4600e+03, 3.2850e+03, 9.1250e+03,\n",
       "       1.4600e+04, 5.4700e+02, 1.2200e+02, 1.5200e+02, 4.8600e+02,\n",
       "       2.4300e+02, 5.4750e+03, 4.2000e+01, 2.7400e+02, 2.1000e+01,\n",
       "       2.8900e+02, 1.5000e+01, 3.0000e+01, 1.4000e+01, 2.1300e+02,\n",
       "       5.1100e+03, 1.2775e+04, 3.0000e+00, 6.5700e+03, 7.6650e+03,\n",
       "       1.0000e+01, 2.0000e+00, 1.0950e+04, 4.0150e+03, 3.3400e+02,\n",
       "       3.9500e+02, 7.0000e+00, 9.0000e+00, 8.3950e+03, 3.0400e+02,\n",
       "       9.1200e+02, 1.6425e+04, 5.8400e+03, 1.0000e+00, 4.5600e+02,\n",
       "       1.8250e+04, 4.0000e+00, 2.0000e+01, 2.5000e+01, 8.0300e+03,\n",
       "       1.2410e+04, 1.3140e+04, 7.5000e+01, 4.5000e+01, 6.0000e+01,\n",
       "       1.0220e+04, 6.9350e+03, 9.4900e+03, 8.7600e+03, 5.4800e+02,\n",
       "       6.0800e+02, 9.8550e+03])"
      ]
     },
     "metadata": {},
     "output_type": "display_data"
    },
    {
     "name": "stdout",
     "output_type": "stream",
     "text": [
      "Rx_OMEPRAZOLE\n"
     ]
    },
    {
     "data": {
      "text/plain": [
       "array(['No', 'Yes'], dtype=object)"
      ]
     },
     "metadata": {},
     "output_type": "display_data"
    },
    {
     "name": "stdout",
     "output_type": "stream",
     "text": [
      "Rx_days_OMEPRAZOLE\n"
     ]
    },
    {
     "data": {
      "text/plain": [
       "array([0.0000e+00, 7.3000e+02, 1.5200e+02, 6.1000e+01, 3.0000e+01,\n",
       "       7.0000e+00, 3.6500e+03, 4.3800e+03, 1.0950e+03, 1.8250e+03,\n",
       "       1.4600e+03, 7.3000e+03, 4.7000e+01, 5.1100e+03, 2.9200e+03,\n",
       "       3.9500e+02, 2.1900e+03, 1.8200e+02, 3.6500e+02, 1.2200e+02,\n",
       "       9.1000e+01, 2.5550e+03, 3.0400e+02, 2.7400e+02, 2.0000e+01,\n",
       "       2.4300e+02, 2.1300e+02, 5.4750e+03, 8.3950e+03, 6.2050e+03,\n",
       "       1.0950e+04, 3.1000e+01, 3.0000e+00, 2.1000e+01, 8.0000e+00,\n",
       "       1.6000e+01, 3.2850e+03, 6.5700e+03, 5.4700e+02, 4.7450e+03,\n",
       "       2.8000e+01, 6.0000e+01, 4.5600e+02, 4.0150e+03, 2.0000e+00,\n",
       "       6.0000e+00, 6.6900e+02, 1.0000e+00, 9.1250e+03, 1.4000e+01,\n",
       "       3.5000e+01, 1.4600e+04, 4.8600e+02, 4.5000e+01, 7.6650e+03,\n",
       "       3.3400e+02, 4.2000e+01, 1.0220e+04, 1.0000e+01, 9.8550e+03,\n",
       "       1.4965e+04, 1.2045e+04, 5.8400e+03, 5.4800e+02, 5.0000e+00,\n",
       "       8.7600e+03, 8.0300e+03, 1.1315e+04, 1.5000e+01])"
      ]
     },
     "metadata": {},
     "output_type": "display_data"
    },
    {
     "name": "stdout",
     "output_type": "stream",
     "text": [
      "Rx_HYDROCHLOROTHIAZIDE\n"
     ]
    },
    {
     "data": {
      "text/plain": [
       "array(['No', 'Yes'], dtype=object)"
      ]
     },
     "metadata": {},
     "output_type": "display_data"
    },
    {
     "name": "stdout",
     "output_type": "stream",
     "text": [
      "Rx_days_HYDROCHLOROTHIAZIDE\n"
     ]
    },
    {
     "data": {
      "text/plain": [
       "array([0.0000e+00, 1.0950e+03, 3.6500e+02, 3.6500e+03, 1.8250e+03,\n",
       "       7.3000e+02, 2.9200e+03, 7.3000e+03, 3.0000e+01, 4.7450e+03,\n",
       "       1.4000e+01, 1.4600e+03, 5.4750e+03, 2.5550e+03, 3.2850e+03,\n",
       "       5.8400e+03, 9.1000e+01, 1.8200e+02, 5.4700e+02, 6.1000e+01,\n",
       "       1.2200e+02, 2.1900e+03, 6.2050e+03, 2.4300e+02, 4.3800e+03,\n",
       "       2.7400e+02, 1.5200e+02, 3.0400e+02, 1.0950e+04, 1.4600e+04,\n",
       "       9.1200e+02, 2.0000e+00, 9.4900e+03, 4.0150e+03, 6.0800e+02,\n",
       "       1.5695e+04, 9.1250e+03, 2.1000e+01, 2.1300e+02, 6.5700e+03,\n",
       "       4.0000e+00, 5.1100e+03, 9.8550e+03, 3.3000e+01, 7.0000e+00,\n",
       "       8.7600e+03, 2.8000e+01, 5.4800e+02, 4.2000e+01, 5.1700e+02,\n",
       "       1.1315e+04, 4.5600e+02, 1.2775e+04, 8.3950e+03, 3.3400e+02,\n",
       "       6.9350e+03, 9.0000e+01, 3.0000e+00, 2.1900e+04, 1.8250e+04,\n",
       "       1.6060e+04, 2.1170e+04, 2.0440e+04, 8.0300e+03])"
      ]
     },
     "metadata": {},
     "output_type": "display_data"
    },
    {
     "name": "stdout",
     "output_type": "stream",
     "text": [
      "Rx_FUROSEMIDE\n"
     ]
    },
    {
     "data": {
      "text/plain": [
       "array(['No', 'Yes'], dtype=object)"
      ]
     },
     "metadata": {},
     "output_type": "display_data"
    },
    {
     "name": "stdout",
     "output_type": "stream",
     "text": [
      "Rx_days_FUROSEMIDE\n"
     ]
    },
    {
     "data": {
      "text/plain": [
       "array([0.0000e+00, 7.3000e+02, 2.1900e+03, 1.8250e+03, 5.4750e+03,\n",
       "       1.4600e+03, 2.1300e+02, 3.0400e+02, 6.1000e+01, 3.6500e+03,\n",
       "       5.8400e+03, 9.1000e+01, 1.0950e+03, 1.8200e+02, 3.6500e+02,\n",
       "       7.0000e+00, 4.3800e+03, 1.0950e+04, 2.9200e+03, 1.4600e+04,\n",
       "       7.3000e+03, 9.8550e+03, 2.7400e+02, 1.4000e+01, 1.5200e+02,\n",
       "       2.1000e+01, 1.2200e+02, 3.0000e+01, 2.5550e+03, 2.4300e+02,\n",
       "       3.2850e+03, 4.0150e+03, 1.0000e+00, 5.1100e+03, 8.7600e+03,\n",
       "       5.4700e+02, 6.2050e+03, 6.5700e+03, 9.1250e+03, 1.0585e+04,\n",
       "       3.1000e+01, 3.3400e+02, 8.0300e+03, 7.0000e+01, 1.6000e+01,\n",
       "       8.3950e+03, 4.0000e+00, 1.1315e+04, 9.1200e+02, 1.0500e+02,\n",
       "       1.8250e+04, 6.0850e+02, 5.7800e+02, 2.0075e+04, 4.7450e+03,\n",
       "       1.3870e+04, 1.3505e+04, 1.2775e+04, 9.1300e+02, 1.2780e+03,\n",
       "       1.0220e+04, 1.2410e+04, 1.0000e+01, 4.2600e+02, 2.1900e+04])"
      ]
     },
     "metadata": {},
     "output_type": "display_data"
    },
    {
     "name": "stdout",
     "output_type": "stream",
     "text": [
      "Rx_ATENOLOL\n"
     ]
    },
    {
     "data": {
      "text/plain": [
       "array(['No', 'Yes'], dtype=object)"
      ]
     },
     "metadata": {},
     "output_type": "display_data"
    },
    {
     "name": "stdout",
     "output_type": "stream",
     "text": [
      "Rx_days_ATENOLOL\n"
     ]
    },
    {
     "data": {
      "text/plain": [
       "array([0.0000e+00, 7.3000e+02, 1.8250e+03, 1.0950e+03, 2.1900e+03,\n",
       "       5.4750e+03, 3.6500e+03, 2.4300e+02, 1.5200e+02, 7.3000e+03,\n",
       "       8.3950e+03, 3.6500e+02, 1.4965e+04, 5.8400e+03, 6.1000e+01,\n",
       "       1.4600e+04, 1.8200e+02, 1.4600e+03, 2.5550e+03, 1.0000e+00,\n",
       "       4.0150e+03, 2.9200e+03, 3.2850e+03, 5.4700e+02, 9.1200e+02,\n",
       "       4.7450e+03, 9.1250e+03, 3.0400e+02, 1.2200e+02, 7.6650e+03,\n",
       "       6.2050e+03, 4.3800e+03, 1.0950e+04, 1.0585e+04, 4.5000e+01,\n",
       "       9.1000e+01, 1.4000e+01, 5.1100e+03, 4.2600e+02, 3.3400e+02,\n",
       "       3.0000e+01, 1.1315e+04, 3.9500e+02, 6.5700e+03, 9.4900e+03,\n",
       "       2.7400e+02, 5.1700e+02, 1.2775e+04, 1.0220e+04, 8.7600e+03,\n",
       "       4.8600e+02, 1.2045e+04, 2.1000e+01, 7.0000e+00, 1.0000e+01,\n",
       "       8.0300e+03, 4.5600e+02, 6.9350e+03, 1.3870e+04, 1.3505e+04,\n",
       "       1.3140e+04, 9.8550e+03])"
      ]
     },
     "metadata": {},
     "output_type": "display_data"
    },
    {
     "name": "stdout",
     "output_type": "stream",
     "text": [
      "Rx_LOSARTAN\n"
     ]
    },
    {
     "data": {
      "text/plain": [
       "array(['No', 'Yes'], dtype=object)"
      ]
     },
     "metadata": {},
     "output_type": "display_data"
    },
    {
     "name": "stdout",
     "output_type": "stream",
     "text": [
      "Rx_days_LOSARTAN\n"
     ]
    },
    {
     "data": {
      "text/plain": [
       "array([0.0000e+00, 1.8200e+02, 1.4600e+03, 3.0000e+01, 1.8250e+03,\n",
       "       3.6500e+02, 6.1000e+01, 3.6500e+03, 7.3000e+02, 4.3800e+03,\n",
       "       1.5200e+02, 9.1000e+01, 2.9200e+03, 1.0950e+03, 2.1900e+03,\n",
       "       9.1250e+03, 2.4300e+02, 8.0000e+00, 5.1100e+03, 2.1300e+02,\n",
       "       6.5700e+03, 1.0000e+01, 2.5550e+03, 1.4000e+01, 5.4700e+02,\n",
       "       5.4750e+03, 5.8400e+03, 1.4600e+04, 1.2000e+01, 9.1200e+02,\n",
       "       1.6425e+03, 7.3000e+03, 3.2850e+03, 6.2050e+03, 7.0000e+00,\n",
       "       4.7450e+03, 4.0150e+03, 6.0800e+02, 1.2200e+02, 2.7400e+02,\n",
       "       4.0000e+00, 1.0000e+00, 2.1000e+01, 1.0950e+04, 3.0400e+02,\n",
       "       4.2000e+01, 1.2410e+04, 3.3400e+02, 5.4800e+02, 8.0300e+03,\n",
       "       2.0000e+01, 4.5600e+02, 1.2775e+04, 6.9350e+03, 2.8000e+01,\n",
       "       1.0220e+04])"
      ]
     },
     "metadata": {},
     "output_type": "display_data"
    },
    {
     "name": "stdout",
     "output_type": "stream",
     "text": [
      "Rx_MONTELUKAST\n"
     ]
    },
    {
     "data": {
      "text/plain": [
       "array(['No', 'Yes'], dtype=object)"
      ]
     },
     "metadata": {},
     "output_type": "display_data"
    },
    {
     "name": "stdout",
     "output_type": "stream",
     "text": [
      "Rx_days_MONTELUKAST\n"
     ]
    },
    {
     "data": {
      "text/plain": [
       "array([0.0000e+00, 1.8250e+03, 2.1300e+02, 1.4600e+03, 1.0950e+03,\n",
       "       7.3000e+02, 2.9200e+03, 2.1900e+03, 3.6500e+02, 1.2200e+02,\n",
       "       3.6500e+03, 3.0000e+01, 6.1000e+01, 1.8200e+02, 1.8000e+01,\n",
       "       1.4000e+01, 2.5550e+03, 2.7400e+02, 4.3800e+03, 2.0000e+00,\n",
       "       4.5000e+01, 5.4750e+03, 5.8400e+03, 5.4700e+02, 7.3000e+03,\n",
       "       4.7450e+03, 9.1250e+03, 9.1000e+01, 2.1000e+01, 3.5000e+01,\n",
       "       1.0000e+00, 5.6250e+02, 3.4675e+03, 5.7800e+02, 1.0950e+04,\n",
       "       1.2775e+04, 4.8600e+02, 4.0150e+03, 1.5200e+02, 1.0220e+04,\n",
       "       6.2050e+03, 6.5700e+03, 1.3000e+01, 1.0340e+03, 7.0000e+00,\n",
       "       2.0440e+04, 2.1900e+04, 4.0000e+00, 1.5000e+01, 4.5600e+02,\n",
       "       8.3950e+03, 2.4300e+02, 3.2850e+03, 1.1680e+04, 1.5400e+02,\n",
       "       9.4540e+03, 3.9500e+02])"
      ]
     },
     "metadata": {},
     "output_type": "display_data"
    },
    {
     "name": "stdout",
     "output_type": "stream",
     "text": [
      "Rx_AMOXICILLIN\n"
     ]
    },
    {
     "data": {
      "text/plain": [
       "array(['No', 'Yes'], dtype=object)"
      ]
     },
     "metadata": {},
     "output_type": "display_data"
    },
    {
     "name": "stdout",
     "output_type": "stream",
     "text": [
      "Rx_days_AMOXICILLIN\n"
     ]
    },
    {
     "data": {
      "text/plain": [
       "array([0.000e+00, 7.000e+00, 9.100e+01, 4.000e+00, 3.650e+03, 1.200e+01,\n",
       "       3.000e+00, 3.000e+01, 2.190e+03, 1.000e+00, 2.100e+01, 5.475e+03,\n",
       "       1.000e+01, 5.000e+00, 7.300e+03, 1.300e+01, 1.400e+01, 1.095e+04,\n",
       "       1.500e+01, 2.000e+00, 6.000e+00, 8.000e+00, 3.040e+02, 2.740e+02,\n",
       "       3.650e+02, 1.600e+01, 7.300e+02, 1.820e+02, 1.825e+03, 1.700e+01,\n",
       "       1.220e+02, 9.000e+00, 6.100e+01, 2.800e+01, 2.555e+03, 1.095e+03,\n",
       "       1.520e+02, 4.745e+03])"
      ]
     },
     "metadata": {},
     "output_type": "display_data"
    },
    {
     "name": "stdout",
     "output_type": "stream",
     "text": [
      "Rx_ACETAMINOPHEN; HYDROCODONE\n"
     ]
    },
    {
     "data": {
      "text/plain": [
       "array(['No', 'Yes'], dtype=object)"
      ]
     },
     "metadata": {},
     "output_type": "display_data"
    },
    {
     "name": "stdout",
     "output_type": "stream",
     "text": [
      "Rx_days_ACETAMINOPHEN; HYDROCODONE\n"
     ]
    },
    {
     "data": {
      "text/plain": [
       "array([0.000e+00, 1.800e+01, 5.470e+02, 1.400e+01, 3.000e+01, 7.000e+00,\n",
       "       1.825e+03, 2.100e+01, 7.300e+02, 1.460e+03, 9.100e+01, 4.000e+00,\n",
       "       5.475e+03, 1.220e+02, 6.100e+01, 3.650e+02, 1.820e+02, 3.650e+03,\n",
       "       5.110e+03, 9.120e+02, 1.095e+03, 1.900e+01, 5.000e+00, 3.000e+00,\n",
       "       6.935e+03, 6.205e+03, 1.100e+01, 2.190e+03, 4.015e+03, 2.130e+02,\n",
       "       2.000e+00, 2.920e+03, 2.555e+03, 1.000e+00, 2.430e+02, 4.745e+03,\n",
       "       7.300e+03, 6.000e+00, 3.340e+02, 1.500e+01, 9.125e+03, 3.500e+01,\n",
       "       4.200e+01, 1.520e+02, 2.000e+01, 2.740e+02, 3.500e+00, 1.095e+04,\n",
       "       1.000e+01, 4.000e+01, 2.800e+01, 3.950e+02, 1.700e+01, 3.040e+02,\n",
       "       4.380e+03, 9.855e+03, 1.600e+01, 2.400e+01, 8.030e+03, 1.610e+02,\n",
       "       5.840e+03, 8.760e+03, 6.570e+03, 5.600e+01, 1.277e+03, 1.200e+01,\n",
       "       8.000e+00, 4.260e+02, 4.500e+01, 9.490e+03, 5.170e+02, 8.395e+03,\n",
       "       3.285e+03])"
      ]
     },
     "metadata": {},
     "output_type": "display_data"
    },
    {
     "name": "stdout",
     "output_type": "stream",
     "text": [
      "Rx_GABAPENTIN\n"
     ]
    },
    {
     "data": {
      "text/plain": [
       "array(['No', 'Yes'], dtype=object)"
      ]
     },
     "metadata": {},
     "output_type": "display_data"
    },
    {
     "name": "stdout",
     "output_type": "stream",
     "text": [
      "Rx_days_GABAPENTIN\n"
     ]
    },
    {
     "data": {
      "text/plain": [
       "array([0.000e+00, 6.100e+01, 1.400e+01, 7.300e+02, 1.825e+03, 3.040e+02,\n",
       "       2.190e+03, 3.650e+02, 3.000e+01, 1.460e+03, 1.000e+01, 1.095e+03,\n",
       "       9.100e+01, 5.475e+03, 3.650e+03, 2.430e+02, 1.820e+02, 4.015e+03,\n",
       "       1.520e+02, 2.555e+03, 2.920e+03, 7.000e+00, 2.130e+02, 4.000e+00,\n",
       "       6.935e+03, 2.100e+01, 3.285e+03, 4.200e+01, 1.220e+02, 2.740e+02,\n",
       "       4.380e+03, 4.745e+03, 5.110e+03, 7.300e+03, 6.570e+03, 5.470e+02,\n",
       "       6.205e+03, 4.500e+01, 4.860e+02, 8.395e+03, 3.000e+00, 1.094e+03,\n",
       "       2.800e+01, 7.665e+03, 5.475e+02, 5.480e+02, 7.500e+01, 2.000e+00,\n",
       "       1.095e+04, 1.277e+03, 2.000e+01, 3.340e+02, 5.840e+03, 8.510e+02,\n",
       "       2.700e+01, 8.760e+03, 6.000e+01, 4.100e+01, 8.030e+03, 9.125e+03,\n",
       "       1.000e+00])"
      ]
     },
     "metadata": {},
     "output_type": "display_data"
    },
    {
     "name": "stdout",
     "output_type": "stream",
     "text": [
      "Rx_POTASSIUM CHLORIDE\n"
     ]
    },
    {
     "data": {
      "text/plain": [
       "array(['No', 'Yes'], dtype=object)"
      ]
     },
     "metadata": {},
     "output_type": "display_data"
    },
    {
     "name": "stdout",
     "output_type": "stream",
     "text": [
      "Rx_days_POTASSIUM CHLORIDE\n"
     ]
    },
    {
     "data": {
      "text/plain": [
       "array([0.0000e+00, 1.0950e+03, 2.7400e+02, 1.0950e+04, 2.9200e+03,\n",
       "       6.1000e+01, 3.6500e+02, 1.8250e+03, 5.4750e+03, 3.6500e+03,\n",
       "       7.3000e+02, 2.1900e+03, 9.1000e+01, 1.4000e+01, 1.4600e+04,\n",
       "       7.3000e+03, 2.1000e+01, 2.1300e+02, 5.4700e+02, 1.8200e+02,\n",
       "       1.4600e+03, 1.2200e+02, 5.8400e+03, 3.2850e+03, 4.0150e+03,\n",
       "       2.5550e+03, 7.0000e+00, 2.4300e+02, 1.0000e+00, 3.0400e+02,\n",
       "       6.5700e+03, 1.5200e+02, 9.1250e+03, 4.3800e+03, 3.0000e+01,\n",
       "       6.2050e+03, 1.6000e+01, 9.1200e+02, 3.3400e+02, 1.8250e+04,\n",
       "       5.4800e+02, 1.3650e+02, 9.4900e+03, 4.2000e+01, 5.1700e+02,\n",
       "       3.1025e+03, 4.7450e+03, 1.6060e+04, 9.0000e+01, 6.9350e+03,\n",
       "       1.9000e+01])"
      ]
     },
     "metadata": {},
     "output_type": "display_data"
    },
    {
     "name": "stdout",
     "output_type": "stream",
     "text": [
      "Rx_GLIPIZIDE\n"
     ]
    },
    {
     "data": {
      "text/plain": [
       "array(['No', 'Yes'], dtype=object)"
      ]
     },
     "metadata": {},
     "output_type": "display_data"
    },
    {
     "name": "stdout",
     "output_type": "stream",
     "text": [
      "Rx_days_GLIPIZIDE\n"
     ]
    },
    {
     "data": {
      "text/plain": [
       "array([0.0000e+00, 7.3000e+02, 5.4700e+02, 3.6500e+03, 1.0950e+03,\n",
       "       6.1000e+01, 1.5200e+02, 3.6500e+02, 1.8250e+03, 5.4750e+03,\n",
       "       9.1000e+01, 9.1250e+03, 1.4600e+03, 1.0000e+00, 2.9200e+03,\n",
       "       4.8600e+02, 1.8200e+02, 2.7400e+02, 7.0000e+00, 2.1900e+03,\n",
       "       2.8000e+01, 4.3800e+03, 2.5550e+03, 3.0400e+02, 4.0150e+03,\n",
       "       3.0000e+01, 1.2200e+02, 7.3000e+03, 4.7450e+03, 2.4300e+02,\n",
       "       1.0950e+04, 1.4000e+01, 5.1100e+03, 5.8400e+03, 5.8400e+02,\n",
       "       3.2850e+03, 2.1000e+01, 2.1300e+02, 8.0300e+03, 8.7600e+03,\n",
       "       6.2050e+03, 1.4235e+04, 1.4000e+02, 4.5600e+02, 6.9350e+03,\n",
       "       2.7375e+03, 1.4600e+04, 4.5000e+01, 3.3400e+02, 7.6650e+03,\n",
       "       1.0220e+04, 6.5700e+03, 9.8550e+03, 8.3950e+03, 6.0800e+02])"
      ]
     },
     "metadata": {},
     "output_type": "display_data"
    },
    {
     "name": "stdout",
     "output_type": "stream",
     "text": [
      "Rx_IBUPROFEN\n"
     ]
    },
    {
     "data": {
      "text/plain": [
       "array(['No', 'Yes'], dtype=object)"
      ]
     },
     "metadata": {},
     "output_type": "display_data"
    },
    {
     "name": "stdout",
     "output_type": "stream",
     "text": [
      "Rx_days_IBUPROFEN\n"
     ]
    },
    {
     "data": {
      "text/plain": [
       "array([0.000e+00, 1.460e+04, 1.095e+03, 1.460e+03, 3.000e+01, 7.300e+02,\n",
       "       9.100e+01, 8.000e+00, 4.200e+01, 1.200e+01, 3.650e+02, 3.650e+03,\n",
       "       2.000e+01, 1.400e+01, 6.100e+01, 2.000e+00, 1.820e+02, 2.190e+03,\n",
       "       1.520e+02, 5.110e+03, 9.125e+03, 7.000e+00, 5.475e+03, 4.500e+01,\n",
       "       5.000e+00, 3.285e+03, 2.800e+01, 6.000e+00, 2.920e+03, 2.430e+02,\n",
       "       2.100e+01, 2.130e+02, 1.606e+04, 1.220e+02, 5.840e+03, 2.555e+03,\n",
       "       1.825e+03, 1.000e+00, 4.745e+03, 5.470e+02, 1.095e+04, 4.000e+00,\n",
       "       1.500e+01, 7.300e+03, 1.000e+01, 3.040e+02, 4.380e+03, 1.600e+01,\n",
       "       4.860e+02, 3.340e+02, 1.100e+01, 4.260e+02, 3.000e+00, 8.760e+03,\n",
       "       8.395e+03, 4.015e+03, 2.740e+02])"
      ]
     },
     "metadata": {},
     "output_type": "display_data"
    },
    {
     "name": "stdout",
     "output_type": "stream",
     "text": [
      "Rx_RANITIDINE\n"
     ]
    },
    {
     "data": {
      "text/plain": [
       "array(['No', 'Yes'], dtype=object)"
      ]
     },
     "metadata": {},
     "output_type": "display_data"
    },
    {
     "name": "stdout",
     "output_type": "stream",
     "text": [
      "Rx_days_RANITIDINE\n"
     ]
    },
    {
     "data": {
      "text/plain": [
       "array([0.0000e+00, 7.3000e+02, 1.8250e+03, 4.7450e+03, 3.6500e+03,\n",
       "       3.6500e+02, 3.0000e+01, 1.4600e+03, 3.0400e+02, 9.1000e+01,\n",
       "       5.4750e+03, 6.1000e+01, 3.0000e+00, 7.0000e+00, 1.0950e+03,\n",
       "       2.5550e+03, 1.4000e+01, 1.8200e+02, 2.1900e+03, 3.2850e+03,\n",
       "       2.9200e+03, 2.1300e+02, 7.3000e+03, 1.2200e+02, 5.4700e+02,\n",
       "       4.0150e+03, 2.0000e+01, 2.0000e+00, 9.0000e+01, 3.3400e+02,\n",
       "       1.0000e+01, 1.0950e+04, 1.0000e+00, 9.1250e+03, 4.0000e+00,\n",
       "       1.1315e+04, 1.5200e+02, 2.7400e+02, 4.3800e+03, 1.4600e+04,\n",
       "       9.8550e+03, 5.1100e+03, 6.0000e+00, 5.0000e+00, 2.1000e+01,\n",
       "       5.8400e+03, 2.4300e+02, 8.7600e+03, 6.9350e+03, 1.5000e+01,\n",
       "       4.6000e+01])"
      ]
     },
     "metadata": {},
     "output_type": "display_data"
    },
    {
     "name": "stdout",
     "output_type": "stream",
     "text": [
      "Rx_CLOPIDOGREL\n"
     ]
    },
    {
     "data": {
      "text/plain": [
       "array(['No', 'Yes'], dtype=object)"
      ]
     },
     "metadata": {},
     "output_type": "display_data"
    },
    {
     "name": "stdout",
     "output_type": "stream",
     "text": [
      "Rx_days_CLOPIDOGREL\n"
     ]
    },
    {
     "data": {
      "text/plain": [
       "array([0.0000e+00, 9.1250e+03, 2.1000e+01, 7.3000e+02, 7.3000e+03,\n",
       "       3.6500e+02, 4.5600e+02, 3.6500e+03, 1.0950e+03, 3.0400e+02,\n",
       "       9.1000e+01, 1.4600e+03, 1.5200e+02, 1.2200e+02, 6.1000e+01,\n",
       "       1.8250e+03, 1.0000e+00, 2.7400e+02, 2.4300e+02, 2.5550e+03,\n",
       "       8.5100e+02, 4.2000e+01, 1.8200e+02, 2.9200e+03, 1.4000e+01,\n",
       "       3.0000e+01, 2.1900e+03, 3.2850e+03, 8.0000e+01, 5.4700e+02,\n",
       "       4.0000e+00, 2.1300e+02, 6.0000e+00, 4.2600e+02, 4.3800e+03,\n",
       "       4.8600e+02, 3.9500e+02, 5.4800e+02, 6.6900e+02, 3.3400e+02,\n",
       "       1.4600e+04, 4.7450e+03, 7.0000e+00, 9.1200e+02, 1.0500e+02,\n",
       "       5.4750e+03, 5.8400e+03, 4.0150e+03, 5.1700e+02, 5.7800e+02,\n",
       "       2.0000e+00, 5.1100e+03, 6.2050e+03, 9.4900e+03, 8.0300e+03,\n",
       "       6.5700e+03, 1.0220e+04, 1.2045e+04, 7.6650e+03, 4.5000e+01,\n",
       "       1.0940e+03])"
      ]
     },
     "metadata": {},
     "output_type": "display_data"
    },
    {
     "name": "stdout",
     "output_type": "stream",
     "text": [
      "Rx_PRAVASTATIN\n"
     ]
    },
    {
     "data": {
      "text/plain": [
       "array(['No', 'Yes'], dtype=object)"
      ]
     },
     "metadata": {},
     "output_type": "display_data"
    },
    {
     "name": "stdout",
     "output_type": "stream",
     "text": [
      "Rx_days_PRAVASTATIN\n"
     ]
    },
    {
     "data": {
      "text/plain": [
       "array([0.0000e+00, 1.8200e+02, 1.4600e+03, 7.3000e+02, 1.0950e+03,\n",
       "       2.4300e+02, 3.6500e+03, 1.8250e+03, 9.1000e+01, 3.6500e+02,\n",
       "       3.0000e+01, 2.1900e+03, 1.2200e+02, 1.5000e+01, 6.1000e+01,\n",
       "       2.1300e+02, 1.6000e+01, 5.4750e+03, 3.3400e+02, 2.5550e+03,\n",
       "       7.3000e+03, 2.9200e+03, 7.0000e+00, 4.7450e+03, 1.0220e+04,\n",
       "       5.6000e+01, 1.0950e+04, 4.0000e+00, 4.0150e+03, 6.5700e+03,\n",
       "       4.9000e+01, 4.3800e+03, 9.1200e+02, 2.7400e+02, 1.5330e+04,\n",
       "       2.1000e+01, 1.5200e+02, 5.4700e+02, 8.7600e+03, 1.4000e+01,\n",
       "       3.2850e+03, 7.6650e+03, 3.0400e+02, 1.2775e+04, 5.8400e+03,\n",
       "       9.1250e+03, 1.0000e+00, 5.1100e+03, 1.2770e+03, 2.0000e+00,\n",
       "       8.0300e+03, 1.4600e+04, 6.2050e+03, 1.2160e+03, 9.8550e+03,\n",
       "       2.0440e+04, 6.9350e+03, 5.4800e+02])"
      ]
     },
     "metadata": {},
     "output_type": "display_data"
    },
    {
     "name": "stdout",
     "output_type": "stream",
     "text": [
      "Rx_WARFARIN\n"
     ]
    },
    {
     "data": {
      "text/plain": [
       "array(['No', 'Yes'], dtype=object)"
      ]
     },
     "metadata": {},
     "output_type": "display_data"
    },
    {
     "name": "stdout",
     "output_type": "stream",
     "text": [
      "Rx_days_WARFARIN\n"
     ]
    },
    {
     "data": {
      "text/plain": [
       "array([0.0000e+00, 3.6500e+02, 1.4600e+03, 7.3000e+02, 1.5000e+01,\n",
       "       1.8250e+03, 1.0950e+03, 6.1000e+01, 2.9200e+03, 5.4750e+03,\n",
       "       9.1000e+01, 1.8200e+02, 4.7450e+03, 3.6500e+03, 8.3950e+03,\n",
       "       5.1100e+03, 7.3000e+03, 3.2850e+03, 3.0000e+01, 1.0220e+04,\n",
       "       2.1900e+03, 2.1300e+02, 5.4700e+02, 1.5200e+02, 1.2200e+02,\n",
       "       2.7400e+02, 2.4300e+02, 4.3800e+03, 3.3400e+02, 4.0150e+03,\n",
       "       2.5550e+03, 6.9350e+03, 3.9500e+02, 5.8400e+03, 1.4000e+01,\n",
       "       6.5700e+03, 9.1250e+03, 1.2775e+04, 7.6650e+03, 6.2050e+03,\n",
       "       2.0080e+03, 4.2000e+01, 8.7600e+03, 9.8550e+03, 8.2100e+02,\n",
       "       1.0950e+04, 8.0300e+03, 3.0000e+00, 1.1315e+04, 9.1300e+02,\n",
       "       1.2770e+03, 3.0400e+02, 4.5600e+02, 1.2045e+04, 7.0000e+00,\n",
       "       1.0000e+00, 1.2410e+04])"
      ]
     },
     "metadata": {},
     "output_type": "display_data"
    },
    {
     "name": "stdout",
     "output_type": "stream",
     "text": [
      "Rx_ESOMEPRAZOLE\n"
     ]
    },
    {
     "data": {
      "text/plain": [
       "array(['No', 'Yes'], dtype=object)"
      ]
     },
     "metadata": {},
     "output_type": "display_data"
    },
    {
     "name": "stdout",
     "output_type": "stream",
     "text": [
      "Rx_days_ESOMEPRAZOLE\n"
     ]
    },
    {
     "data": {
      "text/plain": [
       "array([0.0000e+00, 7.3000e+02, 6.0000e+01, 3.6500e+02, 4.5000e+01,\n",
       "       2.9200e+03, 1.0950e+03, 2.1900e+03, 6.1000e+01, 1.2200e+02,\n",
       "       1.8250e+03, 3.6500e+03, 1.4600e+03, 9.1300e+02, 3.0000e+01,\n",
       "       2.0000e+00, 1.8200e+02, 3.2850e+03, 1.9000e+01, 1.5200e+02,\n",
       "       5.1100e+03, 1.0950e+04, 7.0000e+00, 5.4750e+03, 5.8400e+03,\n",
       "       2.1000e+01, 9.1000e+01, 3.0000e+00, 2.5550e+03, 7.3000e+03,\n",
       "       3.0400e+02, 1.4000e+01, 2.4300e+02, 3.3400e+02, 4.3800e+03,\n",
       "       2.7400e+02, 2.1300e+02, 5.4700e+02, 4.7450e+03, 1.6425e+03,\n",
       "       1.2775e+04, 1.1680e+04, 6.9350e+03, 1.0000e+00, 8.3950e+03,\n",
       "       7.5000e+01, 6.5700e+03])"
      ]
     },
     "metadata": {},
     "output_type": "display_data"
    },
    {
     "name": "stdout",
     "output_type": "stream",
     "text": [
      "Rx_FLUTICASONE NASAL\n"
     ]
    },
    {
     "data": {
      "text/plain": [
       "array(['No', 'Yes'], dtype=object)"
      ]
     },
     "metadata": {},
     "output_type": "display_data"
    },
    {
     "name": "stdout",
     "output_type": "stream",
     "text": [
      "Rx_days_FLUTICASONE NASAL\n"
     ]
    },
    {
     "data": {
      "text/plain": [
       "array([0.000e+00, 1.820e+02, 3.650e+02, 2.000e+00, 1.825e+03, 6.205e+03,\n",
       "       2.190e+03, 1.460e+03, 2.920e+03, 9.100e+01, 3.285e+03, 1.095e+03,\n",
       "       3.650e+03, 7.300e+02, 3.000e+01, 2.555e+03, 1.400e+01, 7.000e+00,\n",
       "       4.015e+03, 6.100e+01, 1.220e+02, 4.500e+01, 5.475e+03, 6.000e+01,\n",
       "       7.300e+03, 4.000e+00, 5.840e+03, 3.000e+00, 1.095e+04, 1.000e+01,\n",
       "       3.500e+01, 3.040e+02, 1.520e+02, 1.500e+01, 8.000e+00, 2.100e+01,\n",
       "       4.380e+03, 4.200e+01, 1.840e+03, 2.740e+02, 5.470e+02, 6.570e+03,\n",
       "       2.430e+02, 2.130e+02, 8.030e+03, 4.560e+02, 1.000e+00, 3.950e+02])"
      ]
     },
     "metadata": {},
     "output_type": "display_data"
    },
    {
     "name": "stdout",
     "output_type": "stream",
     "text": [
      "Rx_CARVEDILOL\n"
     ]
    },
    {
     "data": {
      "text/plain": [
       "array(['Yes', 'No'], dtype=object)"
      ]
     },
     "metadata": {},
     "output_type": "display_data"
    },
    {
     "name": "stdout",
     "output_type": "stream",
     "text": [
      "Rx_days_CARVEDILOL\n"
     ]
    },
    {
     "data": {
      "text/plain": [
       "array([7.3000e+02, 0.0000e+00, 3.6500e+02, 4.7450e+03, 6.1000e+01,\n",
       "       2.1900e+03, 1.8250e+03, 1.0950e+03, 2.4300e+02, 2.1300e+02,\n",
       "       2.7400e+02, 3.0400e+02, 1.5200e+02, 1.2200e+02, 3.2850e+03,\n",
       "       3.0000e+01, 2.5550e+03, 1.4600e+03, 5.4750e+03, 9.1000e+01,\n",
       "       1.0000e+00, 5.1100e+03, 3.6500e+03, 1.8200e+02, 1.4000e+01,\n",
       "       2.9200e+03, 4.3800e+03, 5.8400e+03, 5.4700e+02, 7.3000e+03,\n",
       "       3.3400e+02, 1.3505e+04, 4.5600e+02, 6.2050e+03, 4.0150e+03,\n",
       "       8.3950e+03, 8.7600e+03, 9.1250e+03, 1.2600e+02, 3.9500e+02,\n",
       "       9.1200e+02, 6.5700e+03, 1.0950e+04, 7.5000e+01, 1.0220e+04,\n",
       "       1.2780e+03, 4.2600e+02, 1.8250e+04, 8.0300e+03])"
      ]
     },
     "metadata": {},
     "output_type": "display_data"
    },
    {
     "name": "stdout",
     "output_type": "stream",
     "text": [
      "Rx_ROSUVASTATIN\n"
     ]
    },
    {
     "data": {
      "text/plain": [
       "array(['No', 'Yes'], dtype=object)"
      ]
     },
     "metadata": {},
     "output_type": "display_data"
    },
    {
     "name": "stdout",
     "output_type": "stream",
     "text": [
      "Rx_days_ROSUVASTATIN\n"
     ]
    },
    {
     "data": {
      "text/plain": [
       "array([0.000e+00, 9.100e+01, 7.300e+02, 3.650e+02, 1.820e+02, 2.130e+02,\n",
       "       5.475e+03, 2.430e+02, 1.095e+03, 2.740e+02, 1.220e+02, 5.470e+02,\n",
       "       2.190e+03, 1.825e+03, 6.100e+01, 2.920e+03, 1.460e+03, 3.340e+02,\n",
       "       3.650e+03, 1.000e+00, 1.400e+01, 5.110e+03, 2.555e+03, 3.500e+01,\n",
       "       4.000e+00, 3.285e+03, 3.000e+01, 1.095e+04, 9.125e+03, 7.000e+00,\n",
       "       4.380e+03, 5.480e+02, 6.990e+02, 4.015e+03, 1.520e+02, 3.000e+00,\n",
       "       7.300e+03, 4.745e+03, 5.840e+03, 2.100e+01, 6.570e+03, 6.205e+03,\n",
       "       4.260e+02, 8.030e+03, 1.840e+03, 3.040e+02])"
      ]
     },
     "metadata": {},
     "output_type": "display_data"
    },
    {
     "name": "stdout",
     "output_type": "stream",
     "text": [
      "Rx_INSULIN GLARGINE\n"
     ]
    },
    {
     "data": {
      "text/plain": [
       "array(['No', 'Yes'], dtype=object)"
      ]
     },
     "metadata": {},
     "output_type": "display_data"
    },
    {
     "name": "stdout",
     "output_type": "stream",
     "text": [
      "Rx_days_INSULIN GLARGINE\n"
     ]
    },
    {
     "data": {
      "text/plain": [
       "array([0.0000e+00, 5.4700e+02, 1.4600e+03, 3.6500e+03, 1.0950e+03,\n",
       "       1.8200e+02, 1.2200e+02, 1.8250e+03, 7.3000e+02, 2.5550e+03,\n",
       "       6.1000e+01, 5.1700e+02, 3.6500e+02, 2.1300e+02, 1.5200e+02,\n",
       "       9.1000e+01, 4.3800e+03, 2.9200e+03, 2.8000e+01, 2.1900e+03,\n",
       "       2.4300e+02, 3.2850e+03, 1.4000e+01, 9.1250e+03, 3.0000e+01,\n",
       "       6.2050e+03, 4.2000e+01, 9.1200e+02, 5.4750e+03, 2.7400e+02,\n",
       "       6.9350e+03, 3.9500e+02, 5.4800e+02, 1.0000e+00, 7.0000e+00,\n",
       "       1.0950e+04, 3.0400e+02, 4.5600e+02, 7.3000e+03, 6.5700e+03,\n",
       "       7.6650e+03, 5.1100e+03, 4.7450e+03, 1.2775e+04, 4.0150e+03,\n",
       "       4.2600e+02, 1.6425e+04, 1.4600e+04, 2.1000e+01, 5.4750e+02,\n",
       "       9.8550e+03])"
      ]
     },
     "metadata": {},
     "output_type": "display_data"
    },
    {
     "name": "stdout",
     "output_type": "stream",
     "text": [
      "Rx_CETIRIZINE\n"
     ]
    },
    {
     "data": {
      "text/plain": [
       "array(['No', 'Yes'], dtype=object)"
      ]
     },
     "metadata": {},
     "output_type": "display_data"
    },
    {
     "name": "stdout",
     "output_type": "stream",
     "text": [
      "Rx_days_CETIRIZINE\n"
     ]
    },
    {
     "data": {
      "text/plain": [
       "array([0.000e+00, 1.820e+02, 2.920e+03, 3.000e+01, 1.400e+01, 1.460e+03,\n",
       "       3.650e+02, 1.100e+01, 1.825e+03, 7.300e+02, 3.285e+03, 7.000e+00,\n",
       "       4.380e+03, 2.000e+00, 1.095e+03, 9.100e+01, 3.000e+00, 2.190e+03,\n",
       "       4.015e+03, 6.100e+01, 1.220e+02, 4.745e+03, 3.650e+03, 2.740e+02,\n",
       "       5.475e+03, 5.110e+03, 2.430e+02, 1.000e+00, 5.470e+02, 7.300e+03,\n",
       "       5.000e+00, 2.555e+03, 1.000e+01, 1.520e+02, 3.040e+02, 2.130e+02,\n",
       "       1.460e+04, 1.095e+04, 5.480e+02, 6.570e+03, 9.000e+01, 8.000e+00,\n",
       "       3.950e+02, 4.000e+00])"
      ]
     },
     "metadata": {},
     "output_type": "display_data"
    },
    {
     "name": "stdout",
     "output_type": "stream",
     "text": [
      "Rx_FLUTICASONE; SALMETEROL\n"
     ]
    },
    {
     "data": {
      "text/plain": [
       "array(['No', 'Yes'], dtype=object)"
      ]
     },
     "metadata": {},
     "output_type": "display_data"
    },
    {
     "name": "stdout",
     "output_type": "stream",
     "text": [
      "Rx_days_FLUTICASONE; SALMETEROL\n"
     ]
    },
    {
     "data": {
      "text/plain": [
       "array([0.000e+00, 3.000e+00, 9.120e+02, 7.300e+02, 1.460e+03, 1.825e+03,\n",
       "       7.000e+00, 2.190e+03, 3.650e+02, 1.820e+02, 1.095e+03, 5.470e+02,\n",
       "       1.220e+02, 6.100e+01, 2.430e+02, 1.520e+02, 2.200e+01, 5.475e+03,\n",
       "       2.130e+02, 1.400e+01, 2.555e+03, 2.920e+03, 4.015e+03, 2.100e+01,\n",
       "       3.285e+03, 3.650e+03, 4.745e+03, 9.100e+01, 4.500e+01, 5.110e+03,\n",
       "       6.000e+00, 3.040e+02, 3.000e+01, 4.865e+02, 1.095e+04, 4.260e+02,\n",
       "       2.740e+02, 4.380e+03, 7.300e+03, 3.500e+01, 4.200e+01, 9.130e+02,\n",
       "       9.125e+03])"
      ]
     },
     "metadata": {},
     "output_type": "display_data"
    },
    {
     "name": "stdout",
     "output_type": "stream",
     "text": [
      "Rx_TAMSULOSIN\n"
     ]
    },
    {
     "data": {
      "text/plain": [
       "array(['No', 'Yes'], dtype=object)"
      ]
     },
     "metadata": {},
     "output_type": "display_data"
    },
    {
     "name": "stdout",
     "output_type": "stream",
     "text": [
      "Rx_days_TAMSULOSIN\n"
     ]
    },
    {
     "data": {
      "text/plain": [
       "array([0.0000e+00, 3.0000e+01, 7.3000e+02, 9.1000e+01, 1.0950e+03,\n",
       "       2.1900e+03, 3.6500e+02, 1.0000e+00, 4.2000e+01, 1.8250e+03,\n",
       "       1.4600e+03, 6.1000e+01, 3.6500e+03, 1.2200e+02, 2.4300e+02,\n",
       "       5.4700e+02, 3.0400e+02, 2.7400e+02, 4.0150e+03, 1.8200e+02,\n",
       "       2.5550e+03, 1.5200e+02, 2.9200e+03, 1.4000e+01, 3.3400e+02,\n",
       "       7.0000e+00, 4.3800e+03, 8.0000e+00, 2.1000e+01, 9.1200e+02,\n",
       "       5.1100e+03, 4.5000e+01, 7.3000e+03, 5.4750e+03, 3.2850e+03,\n",
       "       2.0000e+00, 8.0300e+03, 6.0000e+01, 2.1300e+02, 9.1250e+03,\n",
       "       5.8400e+03, 1.0950e+04, 8.2125e+03, 1.2775e+04, 1.0000e+01])"
      ]
     },
     "metadata": {},
     "output_type": "display_data"
    },
    {
     "name": "stdout",
     "output_type": "stream",
     "text": [
      "Rx_PANTOPRAZOLE\n"
     ]
    },
    {
     "data": {
      "text/plain": [
       "array(['No', 'Yes'], dtype=object)"
      ]
     },
     "metadata": {},
     "output_type": "display_data"
    },
    {
     "name": "stdout",
     "output_type": "stream",
     "text": [
      "Rx_days_PANTOPRAZOLE\n"
     ]
    },
    {
     "data": {
      "text/plain": [
       "array([0.0000e+00, 7.3000e+02, 3.0000e+01, 2.9200e+03, 3.6500e+02,\n",
       "       1.4000e+01, 1.5200e+02, 1.0950e+03, 1.0000e+00, 1.2200e+02,\n",
       "       1.8200e+02, 2.1900e+03, 6.0000e+01, 1.4600e+04, 4.7450e+03,\n",
       "       1.0950e+04, 2.1000e+01, 3.6500e+03, 1.8250e+03, 4.2000e+01,\n",
       "       9.1000e+01, 1.4600e+03, 2.4300e+02, 5.4700e+02, 7.0000e+00,\n",
       "       6.1000e+01, 3.0000e+00, 8.3950e+03, 6.5700e+03, 2.5550e+03,\n",
       "       5.4750e+03, 2.1300e+02, 4.3800e+03, 7.3000e+03, 5.1100e+03,\n",
       "       3.5000e+01, 4.0150e+03, 1.2770e+03, 9.1200e+02, 5.8400e+03,\n",
       "       2.0000e+00, 1.3140e+04, 1.2775e+04])"
      ]
     },
     "metadata": {},
     "output_type": "display_data"
    },
    {
     "name": "stdout",
     "output_type": "stream",
     "text": [
      "Rx_TRAMADOL\n"
     ]
    },
    {
     "data": {
      "text/plain": [
       "array(['No', 'Yes'], dtype=object)"
      ]
     },
     "metadata": {},
     "output_type": "display_data"
    },
    {
     "name": "stdout",
     "output_type": "stream",
     "text": [
      "Rx_days_TRAMADOL\n"
     ]
    },
    {
     "data": {
      "text/plain": [
       "array([0.0000e+00, 3.6500e+03, 3.6500e+02, 1.8250e+03, 6.1000e+01,\n",
       "       4.3800e+03, 3.0000e+01, 1.5200e+02, 5.4700e+02, 7.0000e+00,\n",
       "       5.0000e+00, 1.8200e+02, 7.3000e+02, 1.0950e+03, 4.0150e+03,\n",
       "       2.4300e+02, 1.4600e+03, 1.4000e+01, 4.2000e+01, 2.1900e+03,\n",
       "       2.1300e+02, 1.2200e+02, 6.9350e+03, 2.7400e+02, 7.3000e+03,\n",
       "       2.9200e+03, 5.4750e+03, 4.7450e+03, 3.2850e+03, 9.1250e+03,\n",
       "       2.5550e+03, 5.8400e+03, 1.0950e+04, 9.1200e+02, 1.0000e+00,\n",
       "       9.1000e+01, 3.0400e+02, 6.0000e+01, 5.1100e+03, 3.0000e+00,\n",
       "       2.1000e+01, 2.0000e+00, 5.1700e+02, 6.0000e+00, 1.0000e+01,\n",
       "       3.3400e+02, 4.0000e+00, 4.5600e+02, 1.4965e+04, 6.5700e+03,\n",
       "       3.9500e+02, 6.2050e+03, 2.2000e+01])"
      ]
     },
     "metadata": {},
     "output_type": "display_data"
    },
    {
     "name": "stdout",
     "output_type": "stream",
     "text": [
      "Rx_ALPRAZOLAM\n"
     ]
    },
    {
     "data": {
      "text/plain": [
       "array(['No', 'Yes'], dtype=object)"
      ]
     },
     "metadata": {},
     "output_type": "display_data"
    },
    {
     "name": "stdout",
     "output_type": "stream",
     "text": [
      "Rx_days_ALPRAZOLAM\n"
     ]
    },
    {
     "data": {
      "text/plain": [
       "array([0.0000e+00, 3.0000e+01, 3.0000e+00, 7.3000e+02, 1.8250e+03,\n",
       "       1.0950e+03, 2.4300e+02, 3.6500e+02, 2.9200e+03, 7.3000e+03,\n",
       "       2.1900e+03, 4.3800e+03, 5.4750e+03, 1.4600e+03, 3.6500e+03,\n",
       "       1.4600e+04, 1.2200e+02, 1.8200e+02, 4.0150e+03, 1.0950e+04,\n",
       "       9.1250e+03, 5.1100e+03, 9.1000e+01, 3.2850e+03, 5.8400e+03,\n",
       "       2.5550e+03, 4.7450e+03, 3.5000e+01, 1.5200e+02, 7.0000e+01,\n",
       "       6.0800e+02, 6.1000e+01, 1.6000e+01, 8.0300e+03, 2.1000e+01,\n",
       "       5.4700e+02, 1.4000e+01, 6.2050e+03, 8.3950e+03, 7.0000e+00,\n",
       "       1.0585e+04, 2.7400e+02, 7.6650e+03, 2.1300e+02, 4.5600e+02,\n",
       "       4.8600e+02, 1.3140e+04, 6.5700e+03, 9.8550e+03, 5.0000e+00,\n",
       "       3.0400e+02])"
      ]
     },
     "metadata": {},
     "output_type": "display_data"
    },
    {
     "name": "stdout",
     "output_type": "stream",
     "text": [
      "Rx_HYDROCHLOROTHIAZIDE; LISINOPRIL\n"
     ]
    },
    {
     "data": {
      "text/plain": [
       "array(['No', 'Yes'], dtype=object)"
      ]
     },
     "metadata": {},
     "output_type": "display_data"
    },
    {
     "name": "stdout",
     "output_type": "stream",
     "text": [
      "Rx_days_HYDROCHLOROTHIAZIDE; LISINOPRIL\n"
     ]
    },
    {
     "data": {
      "text/plain": [
       "array([0.0000e+00, 3.6500e+02, 1.0950e+03, 1.8250e+03, 2.9200e+03,\n",
       "       2.1900e+03, 3.6500e+03, 8.5100e+02, 1.4600e+03, 9.1000e+01,\n",
       "       1.2200e+02, 1.8200e+02, 7.3000e+02, 7.3000e+03, 6.1000e+01,\n",
       "       3.0000e+01, 5.4750e+03, 9.8550e+03, 4.3800e+03, 2.4300e+02,\n",
       "       3.0000e+00, 6.2050e+03, 1.0950e+04, 2.5550e+03, 1.5200e+02,\n",
       "       2.1300e+02, 5.4700e+02, 2.7400e+02, 2.7010e+04, 4.0150e+03,\n",
       "       3.2850e+03, 9.1250e+03, 1.0000e+00, 1.6060e+04, 1.4235e+04,\n",
       "       4.7450e+03, 2.6000e+01, 6.5700e+03, 7.6650e+03, 1.2775e+04,\n",
       "       5.1100e+03, 8.3950e+03, 8.7600e+03, 1.4000e+01, 5.7800e+02,\n",
       "       3.5000e+01, 5.8400e+03, 3.0400e+02])"
      ]
     },
     "metadata": {},
     "output_type": "display_data"
    },
    {
     "name": "stdout",
     "output_type": "stream",
     "text": [
      "Rx_LOVASTATIN\n"
     ]
    },
    {
     "data": {
      "text/plain": [
       "array(['No', 'Yes'], dtype=object)"
      ]
     },
     "metadata": {},
     "output_type": "display_data"
    },
    {
     "name": "stdout",
     "output_type": "stream",
     "text": [
      "Rx_days_LOVASTATIN\n"
     ]
    },
    {
     "data": {
      "text/plain": [
       "array([0.000e+00, 1.825e+03, 1.095e+03, 1.820e+02, 7.300e+02, 9.100e+01,\n",
       "       6.100e+01, 2.130e+02, 3.650e+02, 1.520e+02, 1.460e+03, 3.650e+03,\n",
       "       4.380e+03, 5.475e+03, 7.000e+00, 1.095e+04, 7.300e+03, 2.920e+03,\n",
       "       3.000e+01, 2.555e+03, 1.400e+01, 4.200e+01, 4.000e+00, 2.100e+01,\n",
       "       2.190e+03, 2.430e+02, 1.000e+01, 4.260e+02, 5.470e+02, 7.665e+03,\n",
       "       1.460e+04, 3.285e+03, 4.745e+03, 9.125e+03, 3.340e+02, 2.740e+02,\n",
       "       5.170e+02, 4.860e+02, 4.015e+03, 1.220e+02, 8.760e+03, 5.110e+03,\n",
       "       3.000e+00, 6.205e+03])"
      ]
     },
     "metadata": {},
     "output_type": "display_data"
    },
    {
     "name": "stdout",
     "output_type": "stream",
     "text": [
      "Rx_PREDNISONE\n"
     ]
    },
    {
     "data": {
      "text/plain": [
       "array(['No', 'Yes'], dtype=object)"
      ]
     },
     "metadata": {},
     "output_type": "display_data"
    },
    {
     "name": "stdout",
     "output_type": "stream",
     "text": [
      "Rx_days_PREDNISONE\n"
     ]
    },
    {
     "data": {
      "text/plain": [
       "array([0.0000e+00, 3.2850e+03, 3.9500e+02, 7.3000e+02, 1.0950e+03,\n",
       "       6.1000e+01, 2.0000e+00, 3.6500e+02, 2.1900e+03, 2.9200e+03,\n",
       "       4.0150e+03, 1.4600e+03, 4.0000e+00, 7.0000e+00, 1.2200e+02,\n",
       "       6.0000e+00, 9.1000e+01, 1.0950e+04, 1.9000e+01, 5.8400e+03,\n",
       "       5.4750e+03, 1.1315e+04, 3.0400e+02, 1.0000e+00, 2.5550e+03,\n",
       "       3.0000e+00, 2.2000e+01, 3.5000e+01, 1.8200e+02, 1.2000e+01,\n",
       "       9.1250e+03, 2.1000e+01, 5.4700e+02, 1.4000e+01, 6.9350e+03,\n",
       "       5.0000e+00, 3.0000e+01, 3.6500e+03, 9.0000e+00, 1.8250e+03,\n",
       "       2.4300e+02, 5.1100e+03, 8.0000e+00, 1.5200e+02, 7.3000e+03,\n",
       "       3.3400e+02, 4.3800e+03, 2.0000e+01, 6.2050e+03, 1.8250e+04,\n",
       "       6.5700e+03, 2.7400e+02, 1.0000e+01, 2.6000e+01, 1.1680e+04,\n",
       "       4.2000e+01, 1.2775e+04, 4.2600e+02, 4.8600e+02, 4.7450e+03,\n",
       "       1.2410e+04, 1.5000e+01, 1.3000e+01, 1.2770e+03, 1.0220e+04,\n",
       "       7.9000e+02])"
      ]
     },
     "metadata": {},
     "output_type": "display_data"
    },
    {
     "name": "stdout",
     "output_type": "stream",
     "text": [
      "Rx_ALLOPURINOL\n"
     ]
    },
    {
     "data": {
      "text/plain": [
       "array(['No', 'Yes'], dtype=object)"
      ]
     },
     "metadata": {},
     "output_type": "display_data"
    },
    {
     "name": "stdout",
     "output_type": "stream",
     "text": [
      "Rx_days_ALLOPURINOL\n"
     ]
    },
    {
     "data": {
      "text/plain": [
       "array([0.0000e+00, 1.0950e+03, 1.8250e+03, 5.4750e+03, 1.4600e+03,\n",
       "       7.3000e+02, 7.3000e+03, 3.6500e+02, 6.0800e+02, 2.1900e+03,\n",
       "       3.6500e+03, 2.5550e+03, 2.9200e+03, 3.0000e+01, 1.5000e+01,\n",
       "       9.8550e+03, 9.1250e+03, 9.1000e+01, 5.4700e+02, 1.8200e+02,\n",
       "       2.1300e+02, 6.5700e+03, 3.0400e+02, 2.7400e+02, 6.2050e+03,\n",
       "       1.4000e+01, 1.0950e+04, 1.0585e+04, 1.1315e+04, 4.3800e+03,\n",
       "       2.0805e+04, 6.9350e+03, 2.4300e+02, 6.1000e+01, 4.0150e+03,\n",
       "       4.7450e+03, 4.9000e+01, 1.0220e+04, 4.0000e+00, 1.2775e+04,\n",
       "       1.2200e+02, 5.1100e+03, 5.8400e+03, 1.7885e+04, 9.4900e+03,\n",
       "       1.6425e+04, 1.4600e+04, 3.2850e+03, 7.0000e+00, 1.5200e+02,\n",
       "       1.3140e+04, 5.4800e+02, 1.0000e+01, 9.1600e+02, 8.3950e+03,\n",
       "       3.3400e+02, 9.1300e+02, 2.2000e+01, 8.7600e+03])"
      ]
     },
     "metadata": {},
     "output_type": "display_data"
    },
    {
     "name": "stdout",
     "output_type": "stream",
     "text": [
      "Rx_NAPROXEN\n"
     ]
    },
    {
     "data": {
      "text/plain": [
       "array(['No', 'Yes'], dtype=object)"
      ]
     },
     "metadata": {},
     "output_type": "display_data"
    },
    {
     "name": "stdout",
     "output_type": "stream",
     "text": [
      "Rx_days_NAPROXEN\n"
     ]
    },
    {
     "data": {
      "text/plain": [
       "array([0.000e+00, 2.190e+03, 1.400e+01, 6.100e+01, 1.095e+04, 9.100e+01,\n",
       "       5.000e+00, 1.460e+03, 5.475e+03, 7.300e+02, 3.000e+01, 1.825e+03,\n",
       "       7.000e+00, 1.820e+02, 2.555e+03, 1.000e+00, 1.220e+02, 3.650e+02,\n",
       "       5.110e+03, 4.000e+00, 7.300e+03, 3.000e+00, 9.490e+03, 6.000e+01,\n",
       "       2.100e+01, 3.650e+03, 8.000e+00, 1.095e+03, 2.000e+00, 2.130e+02,\n",
       "       2.920e+03, 2.430e+02, 1.520e+02, 4.380e+03, 4.200e+01, 3.040e+02,\n",
       "       3.285e+03, 2.400e+01, 2.800e+01, 3.950e+02, 1.500e+01, 1.000e+01,\n",
       "       9.120e+02, 4.745e+03, 2.740e+02, 5.470e+02, 2.000e+01, 4.500e+01,\n",
       "       6.000e+00, 1.100e+01, 1.200e+01, 9.125e+03, 2.200e+01, 4.860e+02,\n",
       "       6.570e+03, 1.022e+04, 1.800e+01])"
      ]
     },
     "metadata": {},
     "output_type": "display_data"
    },
    {
     "name": "stdout",
     "output_type": "stream",
     "text": [
      "Rx_VALSARTAN\n"
     ]
    },
    {
     "data": {
      "text/plain": [
       "array(['No', 'Yes'], dtype=object)"
      ]
     },
     "metadata": {},
     "output_type": "display_data"
    },
    {
     "name": "stdout",
     "output_type": "stream",
     "text": [
      "Rx_days_VALSARTAN\n"
     ]
    },
    {
     "data": {
      "text/plain": [
       "array([0.000e+00, 7.300e+02, 2.190e+03, 1.460e+03, 1.820e+02, 3.650e+02,\n",
       "       1.825e+03, 5.840e+03, 3.650e+03, 1.095e+03, 6.300e+01, 3.285e+03,\n",
       "       7.300e+03, 5.475e+03, 2.100e+01, 2.555e+03, 6.100e+01, 4.015e+03,\n",
       "       1.520e+02, 4.860e+02, 3.000e+01, 5.470e+02, 2.920e+03, 1.095e+04,\n",
       "       9.100e+01, 2.130e+02, 4.380e+03, 3.340e+02, 2.430e+02, 6.690e+02,\n",
       "       1.971e+04, 1.400e+01, 3.040e+02, 2.740e+02, 4.560e+02, 2.008e+03,\n",
       "       1.220e+02, 3.000e+00, 5.110e+03, 7.000e+01, 6.205e+03, 7.000e+00,\n",
       "       9.730e+02])"
      ]
     },
     "metadata": {},
     "output_type": "display_data"
    },
    {
     "name": "stdout",
     "output_type": "stream",
     "text": [
      "Rx_ASPIRIN\n"
     ]
    },
    {
     "data": {
      "text/plain": [
       "array(['No', 'Yes'], dtype=object)"
      ]
     },
     "metadata": {},
     "output_type": "display_data"
    },
    {
     "name": "stdout",
     "output_type": "stream",
     "text": [
      "Rx_days_ASPIRIN\n"
     ]
    },
    {
     "data": {
      "text/plain": [
       "array([0.000e+00, 7.300e+02, 9.100e+01, 3.650e+03, 1.095e+04, 7.000e+00,\n",
       "       3.000e+01, 6.100e+01, 2.430e+02, 1.825e+03, 3.650e+02, 1.095e+03,\n",
       "       2.920e+03, 8.510e+02, 3.285e+03, 7.300e+03, 1.900e+01, 1.460e+03,\n",
       "       5.840e+03, 6.205e+03, 1.820e+02, 6.570e+03, 1.520e+02, 2.555e+03,\n",
       "       4.380e+03, 2.190e+03, 5.475e+03, 1.533e+04, 8.030e+03, 3.040e+02,\n",
       "       2.130e+02, 5.110e+03, 1.000e+01, 4.015e+03, 5.780e+02, 7.665e+03,\n",
       "       2.740e+02, 1.220e+02, 1.460e+04, 9.120e+02, 5.170e+02, 4.745e+03,\n",
       "       1.606e+04, 1.500e+01, 2.000e+01, 3.500e+01, 9.125e+03, 9.855e+03,\n",
       "       6.935e+03])"
      ]
     },
     "metadata": {},
     "output_type": "display_data"
    },
    {
     "name": "stdout",
     "output_type": "stream",
     "text": [
      "Rx_ZOLPIDEM\n"
     ]
    },
    {
     "data": {
      "text/plain": [
       "array(['No', 'Yes'], dtype=object)"
      ]
     },
     "metadata": {},
     "output_type": "display_data"
    },
    {
     "name": "stdout",
     "output_type": "stream",
     "text": [
      "Rx_days_ZOLPIDEM\n"
     ]
    },
    {
     "data": {
      "text/plain": [
       "array([0.000e+00, 3.650e+03, 1.220e+02, 3.650e+02, 7.300e+02, 1.520e+02,\n",
       "       1.050e+02, 1.095e+03, 6.100e+01, 9.100e+01, 2.555e+03, 1.460e+03,\n",
       "       3.000e+01, 2.100e+01, 2.190e+03, 7.000e+00, 1.820e+02, 5.470e+02,\n",
       "       1.825e+03, 2.920e+03, 4.380e+03, 2.130e+02, 7.300e+03, 5.475e+03,\n",
       "       3.040e+02, 4.745e+03, 1.400e+01, 1.700e+01, 1.000e+00, 2.430e+02,\n",
       "       3.500e+01, 5.480e+02, 4.015e+03, 5.000e+00, 1.000e+01, 6.570e+03,\n",
       "       5.110e+03, 3.285e+03, 7.000e+01, 2.800e+01, 1.095e+04, 7.665e+03,\n",
       "       8.030e+03, 4.260e+02])"
      ]
     },
     "metadata": {},
     "output_type": "display_data"
    },
    {
     "name": "stdout",
     "output_type": "stream",
     "text": [
      "Rx_CYCLOBENZAPRINE\n"
     ]
    },
    {
     "data": {
      "text/plain": [
       "array(['No', 'Yes'], dtype=object)"
      ]
     },
     "metadata": {},
     "output_type": "display_data"
    },
    {
     "name": "stdout",
     "output_type": "stream",
     "text": [
      "Rx_days_CYCLOBENZAPRINE\n"
     ]
    },
    {
     "data": {
      "text/plain": [
       "array([0.0000e+00, 7.3000e+02, 1.5200e+02, 6.1000e+01, 7.0000e+00,\n",
       "       2.0000e+01, 1.4000e+01, 3.0000e+01, 1.0950e+03, 4.2600e+02,\n",
       "       3.0000e+00, 5.1100e+03, 3.6500e+02, 9.1000e+01, 2.1300e+02,\n",
       "       2.0000e+00, 1.8250e+03, 6.2050e+03, 1.4600e+03, 4.2000e+01,\n",
       "       2.5550e+03, 1.8200e+02, 5.4700e+02, 3.6500e+03, 1.0000e+00,\n",
       "       5.0000e+00, 6.0000e+01, 1.0000e+01, 1.2200e+02, 1.8250e+02,\n",
       "       2.7400e+02, 4.9000e+01, 5.4750e+03, 2.1000e+01, 2.9200e+03,\n",
       "       4.0000e+00, 3.2850e+03, 2.1900e+03, 4.7450e+03, 3.9500e+02,\n",
       "       4.3800e+03, 1.1680e+04, 7.3000e+03, 1.4600e+04, 1.0340e+03,\n",
       "       1.2775e+03, 2.4300e+02, 4.8600e+02, 3.0400e+02, 3.3400e+02,\n",
       "       5.1700e+02, 4.5000e+01, 1.0035e+03, 9.1200e+02, 1.0950e+04,\n",
       "       9.1250e+03, 1.2410e+04, 8.0300e+03, 1.7000e+01, 8.3950e+03,\n",
       "       1.1000e+01, 6.5700e+03, 1.0940e+03])"
      ]
     },
     "metadata": {},
     "output_type": "display_data"
    },
    {
     "name": "stdout",
     "output_type": "stream",
     "text": [
      "Rx_DILTIAZEM\n"
     ]
    },
    {
     "data": {
      "text/plain": [
       "array(['No', 'Yes'], dtype=object)"
      ]
     },
     "metadata": {},
     "output_type": "display_data"
    },
    {
     "name": "stdout",
     "output_type": "stream",
     "text": [
      "Rx_days_DILTIAZEM\n"
     ]
    },
    {
     "data": {
      "text/plain": [
       "array([0.0000e+00, 3.6500e+03, 2.9200e+03, 1.0950e+03, 6.1000e+01,\n",
       "       1.4600e+03, 3.0000e+01, 3.6500e+02, 1.4965e+04, 8.0300e+03,\n",
       "       1.8250e+03, 9.1000e+01, 7.3000e+02, 3.2850e+03, 2.1900e+03,\n",
       "       9.0000e+00, 5.4750e+03, 7.0000e+01, 3.0400e+02, 7.3000e+03,\n",
       "       1.8200e+02, 5.4700e+02, 2.5550e+03, 9.1250e+03, 1.0950e+04,\n",
       "       4.2600e+02, 4.3800e+03, 5.8400e+03, 6.5700e+03, 2.4300e+02,\n",
       "       1.3140e+04, 1.2200e+02, 1.5200e+02, 6.2050e+03, 1.4600e+04,\n",
       "       4.0150e+03, 3.3400e+02, 7.0000e+00, 1.7340e+03, 1.0585e+04,\n",
       "       1.4000e+01, 5.4750e+02, 1.2410e+04, 2.7400e+02, 8.3950e+03,\n",
       "       2.1300e+02, 1.9345e+04, 6.9350e+03, 1.8250e+04])"
      ]
     },
     "metadata": {},
     "output_type": "display_data"
    },
    {
     "name": "stdout",
     "output_type": "stream",
     "text": [
      "Rx_ALENDRONATE\n"
     ]
    },
    {
     "data": {
      "text/plain": [
       "array(['No', 'Yes'], dtype=object)"
      ]
     },
     "metadata": {},
     "output_type": "display_data"
    },
    {
     "name": "stdout",
     "output_type": "stream",
     "text": [
      "Rx_days_ALENDRONATE\n"
     ]
    },
    {
     "data": {
      "text/plain": [
       "array([0.000e+00, 1.460e+03, 3.650e+03, 1.095e+03, 1.520e+02, 7.000e+00,\n",
       "       7.300e+02, 1.825e+03, 2.555e+03, 5.475e+03, 9.100e+01, 2.430e+02,\n",
       "       3.650e+02, 2.190e+03, 3.000e+01, 2.920e+03, 1.820e+02, 1.125e+03,\n",
       "       2.100e+01, 5.470e+02, 7.300e+03, 3.040e+02, 3.285e+03, 2.740e+02,\n",
       "       1.220e+02, 1.000e+01, 6.100e+01, 4.380e+03, 2.000e+00, 2.130e+02,\n",
       "       4.560e+02, 1.095e+04, 1.400e+01, 1.307e+03, 9.130e+02, 8.760e+03,\n",
       "       9.730e+02, 8.000e+00, 4.900e+01, 1.241e+04, 4.015e+03, 1.000e+00])"
      ]
     },
     "metadata": {},
     "output_type": "display_data"
    },
    {
     "name": "stdout",
     "output_type": "stream",
     "text": [
      "Rx_CLONIDINE\n"
     ]
    },
    {
     "data": {
      "text/plain": [
       "array(['No', 'Yes'], dtype=object)"
      ]
     },
     "metadata": {},
     "output_type": "display_data"
    },
    {
     "name": "stdout",
     "output_type": "stream",
     "text": [
      "Rx_days_CLONIDINE\n"
     ]
    },
    {
     "data": {
      "text/plain": [
       "array([0.000e+00, 3.650e+02, 7.300e+02, 1.460e+03, 6.100e+01, 3.650e+03,\n",
       "       1.220e+02, 2.190e+03, 3.000e+01, 1.825e+03, 1.820e+02, 1.095e+03,\n",
       "       1.500e+01, 2.920e+03, 1.095e+04, 6.205e+03, 5.470e+02, 4.745e+03,\n",
       "       9.100e+01, 2.500e+01, 6.935e+03, 4.015e+03, 3.950e+02, 3.285e+03,\n",
       "       2.555e+03, 7.300e+03, 8.000e+00, 1.000e+00, 5.475e+03, 1.168e+04,\n",
       "       5.840e+03, 2.130e+02, 1.520e+02, 4.260e+02, 9.125e+03, 5.110e+03,\n",
       "       2.430e+02, 1.400e+01, 7.000e+00])"
      ]
     },
     "metadata": {},
     "output_type": "display_data"
    },
    {
     "name": "stdout",
     "output_type": "stream",
     "text": [
      "Rx_LANSOPRAZOLE\n"
     ]
    },
    {
     "data": {
      "text/plain": [
       "array(['No', 'Yes'], dtype=object)"
      ]
     },
     "metadata": {},
     "output_type": "display_data"
    },
    {
     "name": "stdout",
     "output_type": "stream",
     "text": [
      "Rx_days_LANSOPRAZOLE\n"
     ]
    },
    {
     "data": {
      "text/plain": [
       "array([0.000e+00, 8.395e+03, 1.095e+03, 9.100e+01, 1.220e+02, 2.555e+03,\n",
       "       7.300e+03, 7.300e+02, 3.000e+01, 2.430e+02, 3.650e+03, 1.460e+03,\n",
       "       3.000e+00, 1.825e+03, 3.650e+02, 6.205e+03, 5.000e+00, 2.740e+02,\n",
       "       1.520e+02, 6.100e+01, 7.000e+00, 4.600e+01, 5.475e+03, 2.190e+03,\n",
       "       2.920e+03, 2.700e+01, 1.400e+01, 3.285e+03, 2.100e+01, 1.820e+02,\n",
       "       1.100e+01, 1.000e+00, 4.860e+02, 4.380e+03, 4.000e+01, 1.200e+01,\n",
       "       4.000e+00, 1.095e+04, 2.000e+00, 9.125e+03, 8.760e+03, 6.935e+03])"
      ]
     },
     "metadata": {},
     "output_type": "display_data"
    },
    {
     "name": "stdout",
     "output_type": "stream",
     "text": [
      "Rx_MELOXICAM\n"
     ]
    },
    {
     "data": {
      "text/plain": [
       "array(['No', 'Yes'], dtype=object)"
      ]
     },
     "metadata": {},
     "output_type": "display_data"
    },
    {
     "name": "stdout",
     "output_type": "stream",
     "text": [
      "Rx_days_MELOXICAM\n"
     ]
    },
    {
     "data": {
      "text/plain": [
       "array([0.0000e+00, 3.6500e+02, 4.2000e+01, 1.8200e+02, 1.8250e+03,\n",
       "       2.5550e+03, 1.0950e+03, 7.3000e+02, 2.1000e+01, 7.0000e+00,\n",
       "       3.0000e+00, 9.1000e+01, 1.2200e+02, 5.4700e+02, 4.3800e+03,\n",
       "       2.9200e+03, 3.0000e+01, 2.8000e+01, 4.2600e+02, 1.0000e+01,\n",
       "       1.4600e+03, 7.3000e+03, 4.0150e+03, 2.1300e+02, 3.6500e+03,\n",
       "       6.1000e+01, 2.1900e+03, 1.4000e+01, 8.0000e+00, 5.4800e+02,\n",
       "       5.4750e+03, 1.5200e+02, 3.0400e+02, 9.1250e+03, 2.0000e+00,\n",
       "       2.7400e+02, 2.4000e+01, 2.4300e+02, 5.1100e+03, 1.4965e+04,\n",
       "       3.3400e+02, 4.7450e+03, 1.5000e+01])"
      ]
     },
     "metadata": {},
     "output_type": "display_data"
    },
    {
     "name": "stdout",
     "output_type": "stream",
     "text": [
      "Rx_METHYLPHENIDATE\n"
     ]
    },
    {
     "data": {
      "text/plain": [
       "array(['No', 'Yes'], dtype=object)"
      ]
     },
     "metadata": {},
     "output_type": "display_data"
    },
    {
     "name": "stdout",
     "output_type": "stream",
     "text": [
      "Rx_days_METHYLPHENIDATE\n"
     ]
    },
    {
     "data": {
      "text/plain": [
       "array([    0.,   730.,   365.,  4745.,    61.,  3650.,  1095.,  4380.,\n",
       "        2190.,  3285.,  4015., 12775.,   274.,   182.,  5840.,  1460.,\n",
       "          91.,   243.,  8030.,  7665.,  1825.,  5475.,   122.,  9855.,\n",
       "         304.,    21.,    35.,   152.,  7300.,  6570.])"
      ]
     },
     "metadata": {},
     "output_type": "display_data"
    },
    {
     "name": "stdout",
     "output_type": "stream",
     "text": [
      "Rx_HYDROCHLOROTHIAZIDE; TRIAMTERENE\n"
     ]
    },
    {
     "data": {
      "text/plain": [
       "array(['No', 'Yes'], dtype=object)"
      ]
     },
     "metadata": {},
     "output_type": "display_data"
    },
    {
     "name": "stdout",
     "output_type": "stream",
     "text": [
      "Rx_days_HYDROCHLOROTHIAZIDE; TRIAMTERENE\n"
     ]
    },
    {
     "data": {
      "text/plain": [
       "array([0.0000e+00, 3.6500e+02, 7.3000e+02, 2.1900e+03, 1.0950e+03,\n",
       "       5.4750e+03, 3.6500e+03, 2.4300e+02, 1.4600e+03, 1.8250e+03,\n",
       "       7.3000e+03, 3.9500e+02, 7.6650e+03, 2.9200e+03, 1.5200e+02,\n",
       "       1.2775e+04, 3.0000e+00, 6.1000e+01, 3.0000e+01, 1.0950e+04,\n",
       "       5.4700e+02, 2.1300e+02, 9.1250e+03, 1.8200e+02, 2.1000e+01,\n",
       "       2.5550e+03, 1.2200e+02, 1.3505e+04, 4.3800e+03, 5.1100e+03,\n",
       "       9.8550e+03, 1.1680e+04, 6.5700e+03, 1.4600e+04, 8.3950e+03,\n",
       "       1.0000e+00, 8.7600e+03, 6.9350e+03, 9.1000e+01, 1.2410e+04,\n",
       "       1.0220e+04])"
      ]
     },
     "metadata": {},
     "output_type": "display_data"
    },
    {
     "name": "stdout",
     "output_type": "stream",
     "text": [
      "Rx_GLIMEPIRIDE\n"
     ]
    },
    {
     "data": {
      "text/plain": [
       "array(['No', 'Yes'], dtype=object)"
      ]
     },
     "metadata": {},
     "output_type": "display_data"
    },
    {
     "name": "stdout",
     "output_type": "stream",
     "text": [
      "Rx_days_GLIMEPIRIDE\n"
     ]
    },
    {
     "data": {
      "text/plain": [
       "array([0.000e+00, 1.460e+03, 2.190e+03, 1.825e+03, 2.130e+02, 9.100e+01,\n",
       "       3.650e+03, 7.300e+02, 2.555e+03, 1.095e+03, 3.340e+02, 3.000e+01,\n",
       "       3.650e+02, 1.820e+02, 2.920e+03, 5.110e+03, 4.380e+03, 7.300e+03,\n",
       "       2.430e+02, 1.000e+00, 2.100e+01, 1.095e+04, 4.745e+03, 4.200e+01,\n",
       "       1.220e+02, 5.475e+03, 1.387e+04, 1.520e+02, 7.000e+00, 6.100e+01,\n",
       "       8.760e+03, 1.460e+04, 3.000e+00, 8.030e+03, 4.015e+03, 5.470e+02,\n",
       "       1.400e+01, 7.665e+03, 2.190e+04, 2.740e+02, 5.840e+03, 2.000e+01,\n",
       "       2.240e+02])"
      ]
     },
     "metadata": {},
     "output_type": "display_data"
    },
    {
     "name": "stdout",
     "output_type": "stream",
     "text": [
      "Rx_CLONAZEPAM\n"
     ]
    },
    {
     "data": {
      "text/plain": [
       "array(['No', 'Yes'], dtype=object)"
      ]
     },
     "metadata": {},
     "output_type": "display_data"
    },
    {
     "name": "stdout",
     "output_type": "stream",
     "text": [
      "Rx_days_CLONAZEPAM\n"
     ]
    },
    {
     "data": {
      "text/plain": [
       "array([0.000e+00, 9.100e+01, 3.650e+02, 6.100e+01, 4.260e+02, 1.000e+00,\n",
       "       1.095e+03, 3.650e+03, 5.475e+03, 5.470e+02, 1.460e+03, 2.740e+02,\n",
       "       7.300e+02, 3.000e+01, 1.825e+03, 2.920e+03, 1.820e+02, 7.000e+00,\n",
       "       6.205e+03, 4.380e+03, 2.555e+03, 2.190e+03, 3.040e+02, 5.110e+03,\n",
       "       4.200e+01, 7.300e+03, 2.430e+02, 5.840e+03, 3.340e+02, 7.665e+03,\n",
       "       1.520e+02, 1.220e+02, 3.285e+03, 1.000e+01, 1.094e+03, 1.400e+01,\n",
       "       4.015e+03, 2.100e+01, 2.130e+02, 9.125e+03, 4.745e+03, 1.460e+04,\n",
       "       8.760e+03, 9.490e+03, 6.000e+00, 6.935e+03, 4.000e+00, 6.570e+03,\n",
       "       1.095e+04])"
      ]
     },
     "metadata": {},
     "output_type": "display_data"
    },
    {
     "name": "stdout",
     "output_type": "stream",
     "text": [
      "Rx_PIOGLITAZONE\n"
     ]
    },
    {
     "data": {
      "text/plain": [
       "array(['No', 'Yes'], dtype=object)"
      ]
     },
     "metadata": {},
     "output_type": "display_data"
    },
    {
     "name": "stdout",
     "output_type": "stream",
     "text": [
      "Rx_days_PIOGLITAZONE\n"
     ]
    },
    {
     "data": {
      "text/plain": [
       "array([0.0000e+00, 2.1900e+03, 2.1300e+02, 7.3000e+02, 1.8250e+03,\n",
       "       3.0000e+01, 2.5550e+03, 1.8200e+02, 3.6500e+02, 1.2200e+02,\n",
       "       3.6500e+03, 1.4600e+03, 9.1000e+01, 8.5100e+02, 2.9200e+03,\n",
       "       6.1000e+01, 1.0950e+03, 2.8000e+01, 5.4750e+03, 2.1000e+01,\n",
       "       5.4700e+02, 1.4000e+01, 7.0000e+00, 2.4300e+02, 5.1100e+03,\n",
       "       6.5700e+03, 1.5200e+02, 4.0150e+03, 3.2850e+03, 7.3000e+03,\n",
       "       1.0220e+04, 2.7400e+02, 4.3800e+03, 6.0000e+00, 1.0950e+04,\n",
       "       7.6650e+03, 8.0300e+03, 3.3400e+02, 1.0000e+00, 2.0075e+04])"
      ]
     },
     "metadata": {},
     "output_type": "display_data"
    },
    {
     "name": "stdout",
     "output_type": "stream",
     "text": [
      "Rx_ENALAPRIL\n"
     ]
    },
    {
     "data": {
      "text/plain": [
       "array(['No', 'Yes'], dtype=object)"
      ]
     },
     "metadata": {},
     "output_type": "display_data"
    },
    {
     "name": "stdout",
     "output_type": "stream",
     "text": [
      "Rx_days_ENALAPRIL\n"
     ]
    },
    {
     "data": {
      "text/plain": [
       "array([0.0000e+00, 6.1000e+01, 6.2050e+03, 3.2850e+03, 1.0950e+03,\n",
       "       3.6500e+02, 7.3000e+02, 3.3400e+02, 1.8250e+03, 1.5200e+02,\n",
       "       7.3000e+03, 3.6500e+03, 2.1900e+03, 1.4600e+03, 1.8200e+02,\n",
       "       3.0400e+02, 2.9200e+03, 2.5550e+03, 3.0000e+01, 3.0000e+00,\n",
       "       4.0150e+03, 2.1300e+02, 5.4750e+03, 5.1100e+03, 4.3800e+03,\n",
       "       6.5700e+03, 1.4000e+01, 1.2200e+02, 1.0950e+04, 4.5625e+03,\n",
       "       2.5000e+01, 4.7450e+03, 1.1315e+04, 9.1000e+01, 1.4600e+04,\n",
       "       6.9350e+03, 8.0300e+03, 1.0000e+00])"
      ]
     },
     "metadata": {},
     "output_type": "display_data"
    },
    {
     "name": "stdout",
     "output_type": "stream",
     "text": [
      "Rx_FENOFIBRATE\n"
     ]
    },
    {
     "data": {
      "text/plain": [
       "array(['No', 'Yes'], dtype=object)"
      ]
     },
     "metadata": {},
     "output_type": "display_data"
    },
    {
     "name": "stdout",
     "output_type": "stream",
     "text": [
      "Rx_days_FENOFIBRATE\n"
     ]
    },
    {
     "data": {
      "text/plain": [
       "array([0.000e+00, 3.650e+02, 7.000e+00, 1.460e+03, 5.480e+02, 2.920e+03,\n",
       "       3.000e+01, 7.300e+02, 1.820e+02, 1.825e+03, 2.430e+02, 2.190e+03,\n",
       "       1.095e+03, 1.000e+00, 9.100e+01, 5.475e+03, 2.555e+03, 9.120e+02,\n",
       "       3.650e+03, 6.100e+01, 1.520e+02, 1.220e+02, 7.300e+03, 1.400e+01,\n",
       "       5.470e+02, 5.110e+03, 2.100e+01, 4.380e+03, 2.740e+02, 2.130e+02,\n",
       "       4.745e+03, 1.095e+04, 5.840e+03])"
      ]
     },
     "metadata": {},
     "output_type": "display_data"
    },
    {
     "name": "stdout",
     "output_type": "stream",
     "text": [
      "Rx_FLUTICASONE\n"
     ]
    },
    {
     "data": {
      "text/plain": [
       "array(['No', 'Yes'], dtype=object)"
      ]
     },
     "metadata": {},
     "output_type": "display_data"
    },
    {
     "name": "stdout",
     "output_type": "stream",
     "text": [
      "Rx_days_FLUTICASONE\n"
     ]
    },
    {
     "data": {
      "text/plain": [
       "array([0.000e+00, 3.650e+03, 4.380e+03, 3.285e+03, 1.825e+03, 3.650e+02,\n",
       "       7.000e+00, 1.820e+02, 2.190e+03, 6.100e+01, 1.460e+03, 7.300e+02,\n",
       "       5.475e+03, 4.745e+03, 2.555e+03, 1.095e+03, 3.000e+01, 2.100e+01,\n",
       "       7.300e+03, 5.840e+03, 8.395e+03, 2.920e+03, 9.100e+01, 2.000e+00,\n",
       "       5.470e+02, 2.430e+02, 1.000e+00, 1.095e+04, 1.220e+02, 5.110e+03,\n",
       "       1.520e+02, 6.570e+03, 1.500e+01, 2.740e+02, 1.022e+04, 9.125e+03])"
      ]
     },
     "metadata": {},
     "output_type": "display_data"
    },
    {
     "name": "stdout",
     "output_type": "stream",
     "text": [
      "Rx_GLYBURIDE\n"
     ]
    },
    {
     "data": {
      "text/plain": [
       "array(['No', 'Yes'], dtype=object)"
      ]
     },
     "metadata": {},
     "output_type": "display_data"
    },
    {
     "name": "stdout",
     "output_type": "stream",
     "text": [
      "Rx_days_GLYBURIDE\n"
     ]
    },
    {
     "data": {
      "text/plain": [
       "array([0.000e+00, 1.460e+03, 3.650e+03, 7.000e+00, 2.555e+03, 4.745e+03,\n",
       "       6.100e+01, 2.190e+03, 1.825e+03, 3.650e+02, 5.475e+03, 1.095e+03,\n",
       "       7.300e+02, 1.820e+02, 1.460e+04, 4.200e+01, 7.300e+03, 5.110e+03,\n",
       "       4.380e+03, 2.430e+02, 1.500e+01, 2.200e+01, 9.100e+01, 1.520e+02,\n",
       "       2.100e+01, 2.920e+03, 3.000e+01, 8.030e+03, 1.220e+02, 5.000e+00,\n",
       "       2.000e+01, 1.095e+04, 9.125e+03, 4.000e+00, 9.855e+03, 3.285e+03,\n",
       "       5.470e+02, 2.000e+00, 6.205e+03, 4.860e+02, 2.130e+02, 6.935e+03])"
      ]
     },
     "metadata": {},
     "output_type": "display_data"
    },
    {
     "name": "stdout",
     "output_type": "stream",
     "text": [
      "Rx_HYDROCHLOROTHIAZIDE; LOSARTAN\n"
     ]
    },
    {
     "data": {
      "text/plain": [
       "array(['No', 'Yes'], dtype=object)"
      ]
     },
     "metadata": {},
     "output_type": "display_data"
    },
    {
     "name": "stdout",
     "output_type": "stream",
     "text": [
      "Rx_days_HYDROCHLOROTHIAZIDE; LOSARTAN\n"
     ]
    },
    {
     "data": {
      "text/plain": [
       "array([0.000e+00, 5.470e+02, 3.650e+03, 3.650e+02, 7.300e+02, 5.475e+03,\n",
       "       7.300e+03, 1.520e+02, 1.825e+03, 1.820e+02, 2.190e+03, 1.460e+03,\n",
       "       2.920e+03, 1.220e+02, 1.095e+03, 1.010e+02, 8.030e+03, 3.285e+03,\n",
       "       1.022e+04, 7.000e+00, 2.555e+03, 9.100e+01, 2.430e+02, 1.095e+04,\n",
       "       4.015e+03, 9.120e+02, 5.110e+03, 6.100e+01, 6.570e+03, 9.490e+03,\n",
       "       3.000e+01, 5.480e+02, 6.935e+03, 2.740e+02, 6.205e+03, 4.200e+01,\n",
       "       4.380e+03, 2.130e+02])"
      ]
     },
     "metadata": {},
     "output_type": "display_data"
    },
    {
     "name": "stdout",
     "output_type": "stream",
     "text": [
      "Rx_LORAZEPAM\n"
     ]
    },
    {
     "data": {
      "text/plain": [
       "array(['No', 'Yes'], dtype=object)"
      ]
     },
     "metadata": {},
     "output_type": "display_data"
    },
    {
     "name": "stdout",
     "output_type": "stream",
     "text": [
      "Rx_days_LORAZEPAM\n"
     ]
    },
    {
     "data": {
      "text/plain": [
       "array([0.0000e+00, 1.8200e+02, 2.1300e+02, 3.6500e+03, 1.8250e+03,\n",
       "       2.1900e+03, 1.4600e+03, 3.6500e+02, 9.1000e+01, 6.1000e+01,\n",
       "       7.3000e+02, 1.0950e+03, 1.2200e+02, 6.5700e+03, 2.9200e+03,\n",
       "       1.5200e+02, 7.3000e+03, 1.0950e+04, 7.0000e+00, 4.3800e+03,\n",
       "       4.7450e+03, 5.1100e+03, 3.0000e+01, 8.0300e+03, 2.7400e+02,\n",
       "       5.4750e+03, 2.4300e+02, 2.5550e+03, 1.0000e+00, 2.0000e+00,\n",
       "       1.0220e+04, 1.2045e+04, 4.5600e+02, 5.4700e+02, 3.2850e+03,\n",
       "       5.8400e+03, 9.1250e+03, 7.5000e+01, 1.3380e+03])"
      ]
     },
     "metadata": {},
     "output_type": "display_data"
    },
    {
     "name": "stdout",
     "output_type": "stream",
     "text": [
      "Rx_SPIRONOLACTONE\n"
     ]
    },
    {
     "data": {
      "text/plain": [
       "array(['No', 'Yes'], dtype=object)"
      ]
     },
     "metadata": {},
     "output_type": "display_data"
    },
    {
     "name": "stdout",
     "output_type": "stream",
     "text": [
      "Rx_days_SPIRONOLACTONE\n"
     ]
    },
    {
     "data": {
      "text/plain": [
       "array([0.000e+00, 4.745e+03, 7.300e+02, 3.650e+03, 1.825e+03, 1.820e+02,\n",
       "       3.650e+02, 1.095e+03, 2.190e+03, 9.100e+01, 1.220e+02, 6.100e+01,\n",
       "       4.260e+02, 2.430e+02, 2.920e+03, 5.470e+02, 1.460e+03, 3.000e+01,\n",
       "       2.130e+02, 3.100e+01, 1.400e+01, 4.560e+02, 2.100e+01, 4.380e+03,\n",
       "       2.555e+03, 1.095e+04, 5.840e+03, 1.000e+00, 5.475e+03, 9.120e+02,\n",
       "       2.000e+00, 4.000e+00, 4.200e+01, 3.285e+03, 3.040e+02, 2.740e+02,\n",
       "       8.395e+03, 1.520e+02, 9.130e+02, 5.110e+03, 4.000e+01, 4.015e+03,\n",
       "       9.000e+01, 5.000e+00, 7.300e+03, 2.700e+01, 9.855e+03])"
      ]
     },
     "metadata": {},
     "output_type": "display_data"
    },
    {
     "name": "stdout",
     "output_type": "stream",
     "text": [
      "Rx_NIFEDIPINE\n"
     ]
    },
    {
     "data": {
      "text/plain": [
       "array(['No', 'Yes'], dtype=object)"
      ]
     },
     "metadata": {},
     "output_type": "display_data"
    },
    {
     "name": "stdout",
     "output_type": "stream",
     "text": [
      "Rx_days_NIFEDIPINE\n"
     ]
    },
    {
     "data": {
      "text/plain": [
       "array([0.000e+00, 1.820e+02, 2.190e+03, 3.650e+03, 9.490e+03, 2.130e+02,\n",
       "       1.825e+03, 1.095e+03, 7.300e+02, 6.100e+01, 7.300e+03, 1.460e+03,\n",
       "       3.650e+02, 2.555e+03, 3.000e+01, 5.470e+02, 2.430e+02, 7.665e+03,\n",
       "       1.095e+04, 4.380e+03, 2.920e+03, 9.125e+03, 9.855e+03, 1.220e+02,\n",
       "       5.475e+03, 2.100e+01, 1.520e+02, 6.205e+03, 2.500e+01, 1.460e+04,\n",
       "       1.000e+00, 1.000e+01, 5.840e+03, 4.015e+03, 3.950e+02, 8.395e+03,\n",
       "       6.935e+03, 5.110e+03, 9.100e+01, 3.285e+03, 4.745e+03, 3.040e+02,\n",
       "       5.000e+00, 4.260e+02, 1.400e+01, 9.120e+02, 6.570e+03, 1.022e+04])"
      ]
     },
     "metadata": {},
     "output_type": "display_data"
    },
    {
     "name": "stdout",
     "output_type": "stream",
     "text": [
      "Rx_AMPHETAMINE; DEXTROAMPHETAMINE\n"
     ]
    },
    {
     "data": {
      "text/plain": [
       "array(['No', 'Yes'], dtype=object)"
      ]
     },
     "metadata": {},
     "output_type": "display_data"
    },
    {
     "name": "stdout",
     "output_type": "stream",
     "text": [
      "Rx_days_AMPHETAMINE; DEXTROAMPHETAMINE\n"
     ]
    },
    {
     "data": {
      "text/plain": [
       "array([   0., 2190.,  182.,  365.,  730., 1095.,   61., 1460., 1825.,\n",
       "       2555.,  547.,  213., 5110.,  274., 3650., 5475., 4015.,  152.,\n",
       "         91., 2920., 7665.,   30., 4380., 3285.,   21., 7300.,  243.])"
      ]
     },
     "metadata": {},
     "output_type": "display_data"
    },
    {
     "name": "stdout",
     "output_type": "stream",
     "text": [
      "Rx_HYDROCODONE\n"
     ]
    },
    {
     "data": {
      "text/plain": [
       "array(['No', 'Yes'], dtype=object)"
      ]
     },
     "metadata": {},
     "output_type": "display_data"
    },
    {
     "name": "stdout",
     "output_type": "stream",
     "text": [
      "Rx_days_HYDROCODONE\n"
     ]
    },
    {
     "data": {
      "text/plain": [
       "array([0.0000e+00, 3.6500e+03, 3.0000e+00, 7.3000e+02, 4.3800e+03,\n",
       "       1.0950e+03, 5.0000e+00, 3.6500e+02, 7.0000e+00, 1.5000e+01,\n",
       "       9.1000e+01, 1.4000e+01, 1.8250e+03, 1.4600e+03, 2.4300e+02,\n",
       "       4.9000e+01, 3.0000e+01, 4.3000e+01, 9.1300e+02, 5.4750e+03,\n",
       "       2.9200e+03, 2.1300e+02, 1.0000e+00, 1.8200e+02, 2.1900e+03,\n",
       "       6.1000e+01, 1.5200e+02, 1.2200e+02, 1.0585e+04, 6.5700e+03,\n",
       "       5.4700e+02, 2.7400e+02, 2.1000e+01, 7.3000e+03, 1.0000e+01,\n",
       "       3.2850e+03, 3.5000e+01, 1.0950e+04, 2.0000e+01, 5.1100e+03,\n",
       "       6.0000e+00, 5.8400e+03, 6.9350e+03, 9.0000e+00, 4.7450e+03,\n",
       "       2.5550e+03, 9.8550e+03, 6.2050e+03, 9.4900e+03, 2.0000e+00])"
      ]
     },
     "metadata": {},
     "output_type": "display_data"
    },
    {
     "name": "stdout",
     "output_type": "stream",
     "text": [
      "Rx_FINASTERIDE\n"
     ]
    },
    {
     "data": {
      "text/plain": [
       "array(['No', 'Yes'], dtype=object)"
      ]
     },
     "metadata": {},
     "output_type": "display_data"
    },
    {
     "name": "stdout",
     "output_type": "stream",
     "text": [
      "Rx_days_FINASTERIDE\n"
     ]
    },
    {
     "data": {
      "text/plain": [
       "array([0.000e+00, 2.130e+02, 3.040e+02, 2.430e+02, 3.650e+02, 1.095e+03,\n",
       "       2.555e+03, 7.300e+02, 2.190e+03, 1.825e+03, 1.820e+02, 9.100e+01,\n",
       "       3.650e+03, 2.920e+03, 5.470e+02, 1.460e+03, 3.000e+01, 6.100e+01,\n",
       "       4.380e+03, 1.220e+02, 5.840e+03, 4.200e+01, 5.475e+03, 8.000e+00,\n",
       "       3.285e+03, 1.400e+01, 4.745e+03, 9.125e+03, 4.560e+02, 4.000e+00,\n",
       "       6.205e+03, 9.120e+02, 2.000e+00, 8.760e+03, 7.300e+03, 4.015e+03,\n",
       "       6.000e+01])"
      ]
     },
     "metadata": {},
     "output_type": "display_data"
    },
    {
     "name": "stdout",
     "output_type": "stream",
     "text": [
      "Rx_FEXOFENADINE\n"
     ]
    },
    {
     "data": {
      "text/plain": [
       "array(['No', 'Yes'], dtype=object)"
      ]
     },
     "metadata": {},
     "output_type": "display_data"
    },
    {
     "name": "stdout",
     "output_type": "stream",
     "text": [
      "Rx_days_FEXOFENADINE\n"
     ]
    },
    {
     "data": {
      "text/plain": [
       "array([0.000e+00, 7.300e+02, 3.000e+01, 1.825e+03, 1.520e+02, 3.650e+02,\n",
       "       1.095e+03, 2.190e+03, 2.000e+00, 1.400e+01, 1.460e+03, 7.300e+03,\n",
       "       6.100e+01, 7.000e+00, 9.100e+01, 3.000e+00, 2.740e+02, 1.220e+02,\n",
       "       1.820e+02, 3.650e+03, 2.920e+03, 4.500e+01, 5.475e+03, 3.285e+03,\n",
       "       1.100e+01, 2.555e+03, 4.000e+00, 5.470e+02, 4.015e+03, 5.840e+03,\n",
       "       8.030e+03, 2.100e+01, 5.000e+00, 9.125e+03, 5.110e+03, 4.380e+03,\n",
       "       2.500e+01, 2.600e+01, 2.200e+01])"
      ]
     },
     "metadata": {},
     "output_type": "display_data"
    },
    {
     "name": "stdout",
     "output_type": "stream",
     "text": [
      "Rx_EZETIMIBE\n"
     ]
    },
    {
     "data": {
      "text/plain": [
       "array(['No', 'Yes'], dtype=object)"
      ]
     },
     "metadata": {},
     "output_type": "display_data"
    },
    {
     "name": "stdout",
     "output_type": "stream",
     "text": [
      "Rx_days_EZETIMIBE\n"
     ]
    },
    {
     "data": {
      "text/plain": [
       "array([    0.,   730.,  3650.,   182.,  1095.,    61.,   548.,   152.,\n",
       "         365.,   334.,  1825.,  2555.,    91.,  1460.,    30.,    77.,\n",
       "         122.,   274.,  2190.,   213.,  5475.,  6935.,    15.,  1094.,\n",
       "        7300.,    14.,  2920.,  3285.,   547.,   243.,  4380., 10950.,\n",
       "         456.,  6205.,  4015.,  4745.,   304.,   395.])"
      ]
     },
     "metadata": {},
     "output_type": "display_data"
    },
    {
     "name": "stdout",
     "output_type": "stream",
     "text": [
      "Rx_ETHINYL ESTRADIOL; NORGESTIMATE\n"
     ]
    },
    {
     "data": {
      "text/plain": [
       "array(['No', 'Yes'], dtype=object)"
      ]
     },
     "metadata": {},
     "output_type": "display_data"
    },
    {
     "name": "stdout",
     "output_type": "stream",
     "text": [
      "Rx_days_ETHINYL ESTRADIOL; NORGESTIMATE\n"
     ]
    },
    {
     "data": {
      "text/plain": [
       "array([0.000e+00, 3.650e+02, 2.190e+03, 2.920e+03, 7.300e+02, 4.380e+03,\n",
       "       1.460e+03, 6.100e+01, 1.820e+02, 3.000e+01, 1.220e+02, 3.650e+03,\n",
       "       1.825e+03, 6.935e+03, 1.520e+02, 1.095e+03, 1.000e+01, 1.278e+03,\n",
       "       9.100e+01, 3.285e+03, 2.430e+02, 2.555e+03, 2.500e+01, 2.740e+02,\n",
       "       5.470e+02, 5.475e+03, 9.120e+02, 2.100e+01, 2.130e+02, 9.490e+03,\n",
       "       1.168e+04, 1.060e+02, 4.260e+02, 6.570e+03, 3.040e+02, 6.205e+03])"
      ]
     },
     "metadata": {},
     "output_type": "display_data"
    },
    {
     "name": "stdout",
     "output_type": "stream",
     "text": [
      "Rx_DIGOXIN\n"
     ]
    },
    {
     "data": {
      "text/plain": [
       "array(['No', 'Yes'], dtype=object)"
      ]
     },
     "metadata": {},
     "output_type": "display_data"
    },
    {
     "name": "stdout",
     "output_type": "stream",
     "text": [
      "Rx_days_DIGOXIN\n"
     ]
    },
    {
     "data": {
      "text/plain": [
       "array([    0.,  5475.,  3650.,  4745.,   730.,  1460.,  1825.,  2190.,\n",
       "         365.,  2555.,  2920.,  1095.,  9490., 10950.,  5110.,  6570.,\n",
       "        4380.,   182.,  3285.,  4015.,   547.,    61.,    91.,  7300.,\n",
       "         274.,  9125.,   213., 10585.,  8395.,    30.,   243.,   334.,\n",
       "        2008.,  5840.,   152.,   456.,  6935.])"
      ]
     },
     "metadata": {},
     "output_type": "display_data"
    },
    {
     "name": "stdout",
     "output_type": "stream",
     "text": [
      "Rx_INSULIN ASPART\n"
     ]
    },
    {
     "data": {
      "text/plain": [
       "array(['No', 'Yes'], dtype=object)"
      ]
     },
     "metadata": {},
     "output_type": "display_data"
    },
    {
     "name": "stdout",
     "output_type": "stream",
     "text": [
      "Rx_days_INSULIN ASPART\n"
     ]
    },
    {
     "data": {
      "text/plain": [
       "array([0.0000e+00, 3.6500e+02, 5.4700e+02, 6.1000e+01, 3.6500e+03,\n",
       "       1.8200e+02, 1.0950e+03, 7.3000e+02, 4.0150e+03, 1.4600e+03,\n",
       "       2.1900e+03, 1.2000e+01, 1.2200e+02, 1.0000e+00, 5.0000e+00,\n",
       "       9.1000e+01, 7.3000e+03, 9.1200e+02, 1.8250e+03, 2.5550e+03,\n",
       "       3.0000e+01, 2.7400e+02, 2.9200e+03, 6.5700e+03, 9.1250e+03,\n",
       "       4.7450e+03, 3.2850e+03, 5.4750e+03, 3.3400e+02, 1.4000e+01,\n",
       "       4.2000e+01, 1.3870e+04, 2.4300e+02, 5.1100e+03, 1.4965e+04,\n",
       "       7.6650e+03, 1.0585e+04, 1.6425e+04, 4.3800e+03, 6.2050e+03,\n",
       "       6.9350e+03, 1.0950e+04, 7.0000e+00, 2.1300e+02])"
      ]
     },
     "metadata": {},
     "output_type": "display_data"
    },
    {
     "name": "stdout",
     "output_type": "stream",
     "text": [
      "Rx_ETHINYL ESTRADIOL; NORETHINDRONE\n"
     ]
    },
    {
     "data": {
      "text/plain": [
       "array(['No', 'Yes'], dtype=object)"
      ]
     },
     "metadata": {},
     "output_type": "display_data"
    },
    {
     "name": "stdout",
     "output_type": "stream",
     "text": [
      "Rx_days_ETHINYL ESTRADIOL; NORETHINDRONE\n"
     ]
    },
    {
     "data": {
      "text/plain": [
       "array([0.0000e+00, 5.4700e+02, 3.6500e+03, 9.1000e+01, 2.7400e+02,\n",
       "       5.4750e+03, 1.8200e+02, 3.6500e+02, 2.1300e+02, 7.3000e+02,\n",
       "       4.7450e+03, 1.2200e+02, 3.0000e+01, 2.1900e+03, 9.8550e+03,\n",
       "       1.4600e+03, 1.0950e+03, 7.3000e+03, 2.5550e+03, 9.1250e+03,\n",
       "       2.0000e+00, 6.1000e+01, 5.1100e+03, 1.0950e+04, 3.0400e+02,\n",
       "       5.8400e+03, 4.8600e+02, 7.0000e+00, 6.9350e+03, 3.2850e+03,\n",
       "       2.4300e+02, 4.2000e+01, 1.8250e+03, 6.5700e+03, 2.9200e+03,\n",
       "       1.0585e+04, 4.3800e+03, 1.0000e+00, 2.1000e+01, 4.5000e+01,\n",
       "       9.4900e+03, 1.8000e+01])"
      ]
     },
     "metadata": {},
     "output_type": "display_data"
    },
    {
     "name": "stdout",
     "output_type": "stream",
     "text": [
      "Rx_AMLODIPINE; BENAZEPRIL\n"
     ]
    },
    {
     "data": {
      "text/plain": [
       "array(['No', 'Yes'], dtype=object)"
      ]
     },
     "metadata": {},
     "output_type": "display_data"
    },
    {
     "name": "stdout",
     "output_type": "stream",
     "text": [
      "Rx_days_AMLODIPINE; BENAZEPRIL\n"
     ]
    },
    {
     "data": {
      "text/plain": [
       "array([0.0000e+00, 1.8250e+03, 1.2200e+02, 1.8200e+02, 1.4000e+01,\n",
       "       1.0950e+03, 7.3000e+02, 3.6500e+02, 1.5200e+02, 9.1300e+02,\n",
       "       9.1200e+02, 6.1000e+01, 1.4600e+04, 3.6500e+03, 7.0000e+00,\n",
       "       2.1900e+03, 9.1000e+01, 2.5550e+03, 1.4600e+03, 3.0000e+01,\n",
       "       1.2775e+04, 5.1100e+03, 7.3000e+03, 4.3800e+03, 8.7600e+03,\n",
       "       5.4750e+03, 9.1250e+03, 5.8400e+03, 6.2050e+03, 5.4700e+02,\n",
       "       2.9200e+03, 3.2850e+03, 3.0400e+02, 2.4300e+02, 1.2410e+04,\n",
       "       3.3400e+02, 4.0150e+03])"
      ]
     },
     "metadata": {},
     "output_type": "display_data"
    },
    {
     "name": "stdout",
     "output_type": "stream",
     "text": [
      "Rx_AZITHROMYCIN\n"
     ]
    },
    {
     "data": {
      "text/plain": [
       "array(['No', 'Yes'], dtype=object)"
      ]
     },
     "metadata": {},
     "output_type": "display_data"
    },
    {
     "name": "stdout",
     "output_type": "stream",
     "text": [
      "Rx_days_AZITHROMYCIN\n"
     ]
    },
    {
     "data": {
      "text/plain": [
       "array([0.000e+00, 1.000e+00, 5.000e+00, 1.825e+03, 4.200e+01, 9.730e+02,\n",
       "       1.220e+02, 4.000e+00, 2.000e+00, 7.000e+00, 1.400e+01, 1.820e+02,\n",
       "       3.200e+01, 6.100e+01, 3.000e+00, 9.000e+00, 6.000e+00, 8.000e+00,\n",
       "       1.000e+01, 3.000e+01, 3.650e+02, 1.095e+03, 2.920e+03, 7.300e+02,\n",
       "       7.300e+03, 3.650e+03])"
      ]
     },
     "metadata": {},
     "output_type": "display_data"
    },
    {
     "name": "stdout",
     "output_type": "stream",
     "text": [
      "Rx_CELECOXIB\n"
     ]
    },
    {
     "data": {
      "text/plain": [
       "array(['No', 'Yes'], dtype=object)"
      ]
     },
     "metadata": {},
     "output_type": "display_data"
    },
    {
     "name": "stdout",
     "output_type": "stream",
     "text": [
      "Rx_days_CELECOXIB\n"
     ]
    },
    {
     "data": {
      "text/plain": [
       "array([0.000e+00, 1.220e+02, 1.095e+03, 2.190e+03, 3.650e+03, 7.300e+02,\n",
       "       1.000e+00, 2.430e+02, 1.460e+03, 7.000e+00, 1.820e+02, 5.475e+03,\n",
       "       3.650e+02, 4.380e+03, 1.825e+03, 6.100e+01, 5.110e+03, 2.920e+03,\n",
       "       3.000e+01, 2.555e+03, 7.300e+03, 2.100e+01, 1.400e+01, 8.000e+00,\n",
       "       5.000e+00, 5.470e+02, 6.935e+03, 4.745e+03, 7.000e+01, 9.100e+01,\n",
       "       6.570e+03, 3.285e+03, 9.855e+03, 1.520e+02, 1.095e+04, 1.000e+01,\n",
       "       2.130e+02])"
      ]
     },
     "metadata": {},
     "output_type": "display_data"
    },
    {
     "name": "stdout",
     "output_type": "stream",
     "text": [
      "Rx_RAMIPRIL\n"
     ]
    },
    {
     "data": {
      "text/plain": [
       "array(['Yes', 'No'], dtype=object)"
      ]
     },
     "metadata": {},
     "output_type": "display_data"
    },
    {
     "name": "stdout",
     "output_type": "stream",
     "text": [
      "Rx_days_RAMIPRIL\n"
     ]
    },
    {
     "data": {
      "text/plain": [
       "array([7.300e+02, 0.000e+00, 3.650e+02, 3.650e+03, 1.095e+03, 2.920e+03,\n",
       "       6.100e+01, 1.460e+03, 1.460e+04, 1.825e+03, 2.190e+03, 1.520e+02,\n",
       "       1.220e+02, 2.130e+02, 3.040e+02, 4.380e+03, 2.430e+02, 7.300e+03,\n",
       "       2.555e+03, 9.100e+01, 1.820e+02, 4.015e+03, 1.216e+03, 1.022e+04,\n",
       "       5.470e+02, 3.000e+01, 8.760e+03, 9.120e+02, 5.475e+03, 1.095e+04,\n",
       "       5.780e+02, 2.740e+02, 3.285e+03, 1.241e+04, 1.400e+01, 9.125e+03,\n",
       "       5.110e+03, 4.260e+02, 5.840e+03, 9.855e+03, 4.745e+03])"
      ]
     },
     "metadata": {},
     "output_type": "display_data"
    },
    {
     "name": "stdout",
     "output_type": "stream",
     "text": [
      "Rx_BENAZEPRIL\n"
     ]
    },
    {
     "data": {
      "text/plain": [
       "array(['No', 'Yes'], dtype=object)"
      ]
     },
     "metadata": {},
     "output_type": "display_data"
    },
    {
     "name": "stdout",
     "output_type": "stream",
     "text": [
      "Rx_days_BENAZEPRIL\n"
     ]
    },
    {
     "data": {
      "text/plain": [
       "array([    0.,  3650.,  4380.,   213.,  1095.,    21.,   730.,  5475.,\n",
       "          61.,  1460.,   152.,    30.,  1825.,  2920.,  2190., 12775.,\n",
       "        6570.,   182., 10950.,   365.,    14.,   548.,   304.,    91.,\n",
       "        7300.,   547.,   243.,   608.,  9125.,  5110.,  4015.,  2555.,\n",
       "        8030.,   274.])"
      ]
     },
     "metadata": {},
     "output_type": "display_data"
    },
    {
     "name": "stdout",
     "output_type": "stream",
     "text": [
      "Rx_OXYCODONE\n"
     ]
    },
    {
     "data": {
      "text/plain": [
       "array(['No', 'Yes'], dtype=object)"
      ]
     },
     "metadata": {},
     "output_type": "display_data"
    },
    {
     "name": "stdout",
     "output_type": "stream",
     "text": [
      "Rx_days_OXYCODONE\n"
     ]
    },
    {
     "data": {
      "text/plain": [
       "array([0.0000e+00, 1.4000e+01, 1.0950e+03, 6.1000e+01, 7.3000e+02,\n",
       "       8.0000e+00, 2.1300e+02, 2.1900e+03, 6.3850e+02, 7.0000e+00,\n",
       "       1.8250e+03, 2.9200e+03, 3.6500e+02, 2.1000e+01, 1.4600e+03,\n",
       "       5.4700e+02, 4.3800e+03, 1.2775e+03, 9.1000e+01, 5.4750e+03,\n",
       "       1.4750e+03, 1.1000e+01, 6.6900e+02, 3.0000e+00, 1.0000e+00,\n",
       "       1.7000e+01, 1.8200e+02, 3.6500e+03, 2.4300e+02, 8.3950e+03,\n",
       "       6.9900e+02, 3.0000e+01, 6.0000e+00, 1.5200e+02, 4.2000e+01,\n",
       "       2.5550e+03, 4.7450e+03, 5.1100e+03, 6.2050e+03, 3.5000e+01,\n",
       "       1.2200e+02, 5.4750e+02, 2.4000e+01, 1.2780e+03, 4.0150e+03,\n",
       "       5.0000e+00, 3.2850e+03, 3.2000e+01])"
      ]
     },
     "metadata": {},
     "output_type": "display_data"
    },
    {
     "name": "stdout",
     "output_type": "stream",
     "text": [
      "Rx_TERAZOSIN\n"
     ]
    },
    {
     "data": {
      "text/plain": [
       "array(['No', 'Yes'], dtype=object)"
      ]
     },
     "metadata": {},
     "output_type": "display_data"
    },
    {
     "name": "stdout",
     "output_type": "stream",
     "text": [
      "Rx_days_TERAZOSIN\n"
     ]
    },
    {
     "data": {
      "text/plain": [
       "array([0.000e+00, 3.650e+02, 4.200e+01, 2.555e+03, 1.825e+03, 6.100e+01,\n",
       "       2.740e+02, 3.650e+03, 1.220e+02, 2.920e+03, 3.000e+01, 1.095e+03,\n",
       "       1.460e+03, 5.470e+02, 7.300e+02, 5.475e+03, 2.130e+02, 9.125e+03,\n",
       "       2.190e+03, 3.040e+02, 6.570e+03, 1.000e+00, 1.820e+02, 7.300e+03,\n",
       "       5.840e+03, 7.000e+00, 4.015e+03, 8.395e+03, 5.110e+03, 9.100e+01,\n",
       "       1.095e+04, 3.285e+03, 6.935e+03, 1.606e+04, 4.380e+03])"
      ]
     },
     "metadata": {},
     "output_type": "display_data"
    },
    {
     "name": "stdout",
     "output_type": "stream",
     "text": [
      "Rx_FAMOTIDINE\n"
     ]
    },
    {
     "data": {
      "text/plain": [
       "array(['No', 'Yes'], dtype=object)"
      ]
     },
     "metadata": {},
     "output_type": "display_data"
    },
    {
     "name": "stdout",
     "output_type": "stream",
     "text": [
      "Rx_days_FAMOTIDINE\n"
     ]
    },
    {
     "data": {
      "text/plain": [
       "array([0.0000e+00, 1.0000e+00, 1.0950e+03, 2.5550e+03, 7.3000e+02,\n",
       "       1.8250e+03, 1.8200e+02, 9.1000e+01, 3.6500e+03, 2.1900e+03,\n",
       "       1.2200e+02, 3.6500e+02, 2.0000e+00, 1.4600e+03, 1.4000e+01,\n",
       "       2.9200e+03, 3.0000e+01, 3.2850e+03, 6.1000e+01, 5.4750e+03,\n",
       "       1.0000e+01, 1.6425e+04, 2.4300e+02, 7.3000e+03, 2.1000e+01,\n",
       "       1.5200e+02, 8.3950e+03, 4.3800e+03, 7.0000e+01, 2.7400e+02,\n",
       "       4.0000e+00, 5.4700e+02, 3.3400e+02, 4.5000e+01, 3.0400e+02,\n",
       "       7.0000e+00])"
      ]
     },
     "metadata": {},
     "output_type": "display_data"
    },
    {
     "name": "stdout",
     "output_type": "stream",
     "text": [
      "Rx_ACETAMINOPHEN; OXYCODONE\n"
     ]
    },
    {
     "data": {
      "text/plain": [
       "array(['No', 'Yes'], dtype=object)"
      ]
     },
     "metadata": {},
     "output_type": "display_data"
    },
    {
     "name": "stdout",
     "output_type": "stream",
     "text": [
      "Rx_days_ACETAMINOPHEN; OXYCODONE\n"
     ]
    },
    {
     "data": {
      "text/plain": [
       "array([0.0000e+00, 2.7400e+02, 8.0000e+00, 7.0000e+00, 1.8200e+02,\n",
       "       7.3000e+03, 1.0950e+03, 4.0000e+01, 2.1900e+03, 3.6500e+02,\n",
       "       1.8250e+03, 4.8600e+02, 3.6500e+03, 9.1000e+01, 2.0000e+00,\n",
       "       1.4000e+01, 2.9200e+03, 3.0000e+01, 1.2200e+02, 7.3000e+02,\n",
       "       1.4600e+03, 5.4700e+02, 1.6000e+01, 5.0000e+00, 6.5700e+03,\n",
       "       6.1000e+01, 6.0000e+00, 1.0000e+00, 9.0000e+00, 4.5600e+02,\n",
       "       4.0000e+00, 2.1300e+02, 3.0000e+00, 5.4750e+03, 1.0000e+01,\n",
       "       4.2000e+01, 2.5550e+03, 7.0000e+01, 2.1000e+01, 5.8400e+03,\n",
       "       4.3800e+03, 1.3505e+04, 1.2000e+01, 2.4300e+02, 9.8550e+03,\n",
       "       2.0000e+01, 1.0950e+04, 9.1200e+02, 1.8000e+01, 1.5200e+02])"
      ]
     },
     "metadata": {},
     "output_type": "display_data"
    },
    {
     "name": "stdout",
     "output_type": "stream",
     "text": [
      "Rx_EZETIMIBE; SIMVASTATIN\n"
     ]
    },
    {
     "data": {
      "text/plain": [
       "array(['No', 'Yes'], dtype=object)"
      ]
     },
     "metadata": {},
     "output_type": "display_data"
    },
    {
     "name": "stdout",
     "output_type": "stream",
     "text": [
      "Rx_days_EZETIMIBE; SIMVASTATIN\n"
     ]
    },
    {
     "data": {
      "text/plain": [
       "array([0.000e+00, 1.095e+03, 1.820e+02, 2.430e+02, 3.650e+02, 7.300e+02,\n",
       "       9.100e+01, 1.220e+02, 1.520e+02, 6.000e+01, 6.100e+01, 3.340e+02,\n",
       "       3.000e+01, 1.825e+03, 2.740e+02, 4.745e+03, 3.650e+03, 2.190e+03,\n",
       "       5.470e+02, 1.460e+03, 7.300e+03, 2.920e+03, 5.475e+03, 3.950e+02,\n",
       "       7.000e+00, 3.285e+03, 1.400e+01, 5.110e+03, 2.555e+03, 4.380e+03,\n",
       "       8.030e+03])"
      ]
     },
     "metadata": {},
     "output_type": "display_data"
    },
    {
     "name": "stdout",
     "output_type": "stream",
     "text": [
      "Rx_MOMETASONE NASAL\n"
     ]
    },
    {
     "data": {
      "text/plain": [
       "array(['No', 'Yes'], dtype=object)"
      ]
     },
     "metadata": {},
     "output_type": "display_data"
    },
    {
     "name": "stdout",
     "output_type": "stream",
     "text": [
      "Rx_days_MOMETASONE NASAL\n"
     ]
    },
    {
     "data": {
      "text/plain": [
       "array([0.000e+00, 7.300e+02, 1.500e+01, 1.520e+02, 1.095e+03, 1.825e+03,\n",
       "       1.400e+01, 2.100e+01, 3.650e+02, 1.460e+03, 4.380e+03, 4.500e+01,\n",
       "       9.100e+01, 4.000e+00, 2.190e+03, 7.000e+00, 3.650e+03, 1.820e+02,\n",
       "       8.000e+00, 3.000e+00, 7.300e+03, 2.130e+02, 2.920e+03, 6.100e+01,\n",
       "       2.555e+03, 1.000e+01, 4.015e+03, 5.475e+03])"
      ]
     },
     "metadata": {},
     "output_type": "display_data"
    },
    {
     "name": "stdout",
     "output_type": "stream",
     "text": [
      "Rx_SITAGLIPTIN\n"
     ]
    },
    {
     "data": {
      "text/plain": [
       "array(['No', 'Yes'], dtype=object)"
      ]
     },
     "metadata": {},
     "output_type": "display_data"
    },
    {
     "name": "stdout",
     "output_type": "stream",
     "text": [
      "Rx_days_SITAGLIPTIN\n"
     ]
    },
    {
     "data": {
      "text/plain": [
       "array([0.000e+00, 9.100e+01, 3.650e+02, 6.100e+01, 2.190e+03, 2.430e+02,\n",
       "       3.650e+03, 1.820e+02, 2.000e+00, 1.825e+03, 7.300e+02, 1.095e+03,\n",
       "       1.460e+03, 4.200e+01, 4.015e+03, 1.220e+02, 3.000e+01, 9.120e+02,\n",
       "       7.300e+03, 5.475e+03, 2.920e+03, 4.560e+02, 6.570e+03, 1.520e+02,\n",
       "       1.400e+01, 4.000e+00, 2.740e+02, 5.470e+02, 2.555e+03, 1.000e+00,\n",
       "       3.285e+03, 5.480e+02])"
      ]
     },
     "metadata": {},
     "output_type": "display_data"
    },
    {
     "name": "stdout",
     "output_type": "stream",
     "text": [
      "Rx_HYDROXYZINE\n"
     ]
    },
    {
     "data": {
      "text/plain": [
       "array(['No', 'Yes'], dtype=object)"
      ]
     },
     "metadata": {},
     "output_type": "display_data"
    },
    {
     "name": "stdout",
     "output_type": "stream",
     "text": [
      "Rx_days_HYDROXYZINE\n"
     ]
    },
    {
     "data": {
      "text/plain": [
       "array([0.000e+00, 3.650e+02, 9.000e+00, 3.000e+01, 1.825e+03, 1.000e+01,\n",
       "       2.000e+00, 7.300e+02, 5.000e+00, 3.650e+03, 9.490e+03, 1.820e+02,\n",
       "       1.095e+03, 2.920e+03, 2.100e+01, 1.520e+02, 6.100e+01, 1.460e+03,\n",
       "       4.380e+03, 2.740e+02, 9.100e+01, 2.555e+03, 7.000e+00, 7.300e+03,\n",
       "       1.400e+01, 2.190e+03, 3.285e+03, 5.475e+03, 5.470e+02, 5.110e+03,\n",
       "       4.015e+03, 3.340e+02, 3.040e+02, 1.460e+04, 5.840e+03])"
      ]
     },
     "metadata": {},
     "output_type": "display_data"
    },
    {
     "name": "stdout",
     "output_type": "stream",
     "text": [
      "Rx_BUDESONIDE\n"
     ]
    },
    {
     "data": {
      "text/plain": [
       "array(['No', 'Yes'], dtype=object)"
      ]
     },
     "metadata": {},
     "output_type": "display_data"
    },
    {
     "name": "stdout",
     "output_type": "stream",
     "text": [
      "Rx_days_BUDESONIDE\n"
     ]
    },
    {
     "data": {
      "text/plain": [
       "array([0.000e+00, 3.000e+01, 3.650e+02, 1.825e+03, 1.520e+02, 1.095e+03,\n",
       "       3.650e+03, 1.820e+02, 1.460e+03, 2.190e+03, 7.300e+02, 1.460e+04,\n",
       "       2.000e+00, 5.110e+03, 4.380e+03, 6.100e+01, 2.555e+03, 5.475e+03,\n",
       "       3.285e+03, 8.760e+03, 6.570e+03])"
      ]
     },
     "metadata": {},
     "output_type": "display_data"
    },
    {
     "name": "stdout",
     "output_type": "stream",
     "text": [
      "Rx_VERAPAMIL\n"
     ]
    },
    {
     "data": {
      "text/plain": [
       "array(['No', 'Yes'], dtype=object)"
      ]
     },
     "metadata": {},
     "output_type": "display_data"
    },
    {
     "name": "stdout",
     "output_type": "stream",
     "text": [
      "Rx_days_VERAPAMIL\n"
     ]
    },
    {
     "data": {
      "text/plain": [
       "array([    0.,  5475.,   730.,  2190.,   182.,  3650.,    61.,    30.,\n",
       "         547.,  6205.,  7300.,  1825.,  1095.,    91.,  2555.,  5110.,\n",
       "        4380.,  9490.,  3285.,   365.,  2920.,  1460.,  4745.,  8030.,\n",
       "         122.,  8760., 10950.,  4015.,    21.,  5840., 13505.,    14.,\n",
       "        9125., 10220.,   152.])"
      ]
     },
     "metadata": {},
     "output_type": "display_data"
    },
    {
     "name": "stdout",
     "output_type": "stream",
     "text": [
      "Rx_PROPRANOLOL\n"
     ]
    },
    {
     "data": {
      "text/plain": [
       "array(['No', 'Yes'], dtype=object)"
      ]
     },
     "metadata": {},
     "output_type": "display_data"
    },
    {
     "name": "stdout",
     "output_type": "stream",
     "text": [
      "Rx_days_PROPRANOLOL\n"
     ]
    },
    {
     "data": {
      "text/plain": [
       "array([0.0000e+00, 2.1900e+03, 3.0000e+01, 1.4600e+03, 7.3000e+02,\n",
       "       9.1250e+03, 3.6500e+03, 7.3000e+03, 1.8250e+03, 5.4700e+02,\n",
       "       3.6500e+02, 5.4750e+03, 1.1315e+04, 3.2850e+03, 9.1000e+01,\n",
       "       1.0950e+04, 2.9200e+03, 4.3800e+03, 1.0950e+03, 1.2200e+02,\n",
       "       1.3505e+04, 1.0000e+00, 2.1000e+01, 6.1000e+01, 1.8200e+02,\n",
       "       2.4300e+02, 8.0300e+03, 2.5550e+03, 2.7400e+02, 4.5600e+02,\n",
       "       1.2045e+04, 5.1100e+03, 4.7450e+03, 1.4000e+01, 4.2600e+02,\n",
       "       4.2000e+01, 5.8400e+03, 2.1300e+02, 4.8600e+02, 6.9350e+03,\n",
       "       1.7885e+04, 1.4965e+04, 3.0400e+02])"
      ]
     },
     "metadata": {},
     "output_type": "display_data"
    },
    {
     "name": "stdout",
     "output_type": "stream",
     "text": [
      "Rx_NITROGLYCERIN\n"
     ]
    },
    {
     "data": {
      "text/plain": [
       "array(['No', 'Yes'], dtype=object)"
      ]
     },
     "metadata": {},
     "output_type": "display_data"
    },
    {
     "name": "stdout",
     "output_type": "stream",
     "text": [
      "Rx_days_NITROGLYCERIN\n"
     ]
    },
    {
     "data": {
      "text/plain": [
       "array([0.0000e+00, 2.1900e+03, 1.2045e+04, 4.3800e+03, 3.6500e+03,\n",
       "       1.4600e+03, 3.0400e+02, 7.3000e+02, 1.0035e+03, 3.0000e+01,\n",
       "       2.9200e+03, 7.3000e+03, 1.0950e+03, 7.0000e+00, 2.5550e+03,\n",
       "       9.2750e+02, 1.8250e+03, 3.6500e+02, 6.1000e+01, 1.5200e+02,\n",
       "       1.8200e+02, 2.1000e+01, 3.8325e+03, 6.5700e+03, 4.0150e+03,\n",
       "       5.4750e+03, 7.1175e+03, 3.4675e+03, 2.7400e+02, 9.1250e+03,\n",
       "       1.0220e+04, 1.6425e+03, 1.4000e+01, 2.1300e+02, 1.2200e+02,\n",
       "       9.1000e+01, 1.0950e+04, 5.8400e+03, 3.2850e+03, 8.7600e+03,\n",
       "       4.5000e+01, 9.8550e+03, 6.2050e+03, 7.6650e+03, 1.3505e+04])"
      ]
     },
     "metadata": {},
     "output_type": "display_data"
    },
    {
     "name": "stdout",
     "output_type": "stream",
     "text": [
      "Rx_TIOTROPIUM\n"
     ]
    },
    {
     "data": {
      "text/plain": [
       "array(['No', 'Yes'], dtype=object)"
      ]
     },
     "metadata": {},
     "output_type": "display_data"
    },
    {
     "name": "stdout",
     "output_type": "stream",
     "text": [
      "Rx_days_TIOTROPIUM\n"
     ]
    },
    {
     "data": {
      "text/plain": [
       "array([0.000e+00, 3.650e+02, 1.825e+03, 7.300e+02, 4.200e+01, 9.100e+01,\n",
       "       1.460e+03, 1.400e+01, 5.470e+02, 3.285e+03, 1.095e+03, 3.000e+01,\n",
       "       1.000e+00, 2.100e+01, 1.820e+02, 2.190e+03, 2.430e+02, 2.920e+03,\n",
       "       2.740e+02, 1.220e+02, 6.100e+01, 4.260e+02, 3.650e+03, 2.555e+03,\n",
       "       5.110e+03, 4.560e+02, 7.300e+03, 5.475e+03, 4.380e+03, 1.260e+02,\n",
       "       6.570e+03])"
      ]
     },
     "metadata": {},
     "output_type": "display_data"
    },
    {
     "name": "stdout",
     "output_type": "stream",
     "text": [
      "Rx_ISOSORBIDE MONONITRATE\n"
     ]
    },
    {
     "data": {
      "text/plain": [
       "array(['No', 'Yes'], dtype=object)"
      ]
     },
     "metadata": {},
     "output_type": "display_data"
    },
    {
     "name": "stdout",
     "output_type": "stream",
     "text": [
      "Rx_days_ISOSORBIDE MONONITRATE\n"
     ]
    },
    {
     "data": {
      "text/plain": [
       "array([0.0000e+00, 1.0950e+03, 7.3000e+02, 9.1250e+03, 2.5550e+03,\n",
       "       5.4750e+03, 1.8250e+03, 1.4600e+03, 3.6500e+02, 2.9200e+03,\n",
       "       3.0000e+01, 1.2200e+02, 2.7400e+02, 1.8200e+02, 8.0000e+01,\n",
       "       2.4300e+02, 5.4700e+02, 1.0585e+04, 6.5700e+03, 3.6500e+03,\n",
       "       2.1000e+01, 7.3000e+03, 3.2850e+03, 7.0000e+00, 4.7450e+03,\n",
       "       4.0150e+03, 2.1900e+03, 6.1000e+01, 5.8400e+03, 9.1000e+01,\n",
       "       5.7800e+02, 2.1300e+02, 1.0950e+04, 1.8250e+04, 6.0800e+02,\n",
       "       1.5200e+02, 6.2050e+03, 4.3800e+03, 1.4600e+04, 6.0000e+00])"
      ]
     },
     "metadata": {},
     "output_type": "display_data"
    },
    {
     "name": "stdout",
     "output_type": "stream",
     "text": [
      "Rx_DONEPEZIL\n"
     ]
    },
    {
     "data": {
      "text/plain": [
       "array(['No', 'Yes'], dtype=object)"
      ]
     },
     "metadata": {},
     "output_type": "display_data"
    },
    {
     "name": "stdout",
     "output_type": "stream",
     "text": [
      "Rx_days_DONEPEZIL\n"
     ]
    },
    {
     "data": {
      "text/plain": [
       "array([0.000e+00, 1.820e+02, 1.095e+03, 3.650e+02, 6.100e+01, 7.000e+00,\n",
       "       7.300e+02, 1.400e+01, 1.825e+03, 2.740e+02, 4.260e+02, 3.000e+01,\n",
       "       2.555e+03, 1.460e+03, 4.560e+02, 2.190e+03, 4.380e+03, 9.100e+01,\n",
       "       1.520e+02, 2.920e+03, 5.840e+03, 3.285e+03, 3.650e+03, 5.470e+02,\n",
       "       3.340e+02, 7.300e+03, 1.220e+02])"
      ]
     },
     "metadata": {},
     "output_type": "display_data"
    },
    {
     "name": "stdout",
     "output_type": "stream",
     "text": [
      "Rx_DOXAZOSIN\n"
     ]
    },
    {
     "data": {
      "text/plain": [
       "array(['No', 'Yes'], dtype=object)"
      ]
     },
     "metadata": {},
     "output_type": "display_data"
    },
    {
     "name": "stdout",
     "output_type": "stream",
     "text": [
      "Rx_days_DOXAZOSIN\n"
     ]
    },
    {
     "data": {
      "text/plain": [
       "array([    0.,    91.,  1460.,   730.,  1825.,  1095.,   365.,  2190.,\n",
       "        3285.,  2555.,  2920.,  3650.,  6570.,  4380.,    61.,   182.,\n",
       "        7300.,    30.,   152.,  4745.,  5475.,   122.,   547.,  9125.,\n",
       "          29.,  6205., 10950.])"
      ]
     },
     "metadata": {},
     "output_type": "display_data"
    },
    {
     "name": "stdout",
     "output_type": "stream",
     "text": [
      "Rx_OXYBUTYNIN\n"
     ]
    },
    {
     "data": {
      "text/plain": [
       "array(['No', 'Yes'], dtype=object)"
      ]
     },
     "metadata": {},
     "output_type": "display_data"
    },
    {
     "name": "stdout",
     "output_type": "stream",
     "text": [
      "Rx_days_OXYBUTYNIN\n"
     ]
    },
    {
     "data": {
      "text/plain": [
       "array([0.0000e+00, 9.1300e+02, 1.0950e+03, 3.6500e+02, 7.3000e+02,\n",
       "       1.8250e+03, 3.0000e+01, 3.6500e+03, 6.1000e+01, 5.4700e+02,\n",
       "       1.8200e+02, 1.1315e+04, 1.4000e+01, 2.7400e+02, 1.4600e+03,\n",
       "       2.4300e+02, 2.9200e+03, 3.2850e+03, 7.6000e+01, 5.1100e+03,\n",
       "       2.1900e+03, 4.3800e+03, 2.5550e+03, 5.4750e+03, 7.3000e+03,\n",
       "       3.0400e+02, 1.5200e+02, 9.1000e+01, 2.1300e+02, 3.0000e+00,\n",
       "       6.2050e+03, 1.0950e+04, 7.0000e+00, 4.2600e+02])"
      ]
     },
     "metadata": {},
     "output_type": "display_data"
    },
    {
     "name": "stdout",
     "output_type": "stream",
     "text": [
      "Rx_HYDROCHLOROTHIAZIDE; VALSARTAN\n"
     ]
    },
    {
     "data": {
      "text/plain": [
       "array(['No', 'Yes'], dtype=object)"
      ]
     },
     "metadata": {},
     "output_type": "display_data"
    },
    {
     "name": "stdout",
     "output_type": "stream",
     "text": [
      "Rx_days_HYDROCHLOROTHIAZIDE; VALSARTAN\n"
     ]
    },
    {
     "data": {
      "text/plain": [
       "array([0.0000e+00, 3.6500e+03, 3.6500e+02, 7.3000e+02, 1.8200e+02,\n",
       "       1.8250e+03, 9.1000e+01, 2.9200e+03, 1.0950e+03, 2.1900e+03,\n",
       "       1.5200e+02, 1.4600e+03, 3.0400e+02, 3.0000e+01, 6.1000e+01,\n",
       "       3.2850e+03, 2.5550e+03, 7.3000e+03, 1.4600e+04, 1.0000e+00,\n",
       "       4.3800e+03, 1.2200e+02, 2.1000e+01, 5.4750e+03, 5.4700e+02,\n",
       "       3.7550e+02, 4.0000e+01, 1.0585e+04, 1.0950e+04, 5.1100e+03,\n",
       "       5.0000e+00, 4.7450e+03, 5.8400e+03])"
      ]
     },
     "metadata": {},
     "output_type": "display_data"
    },
    {
     "name": "stdout",
     "output_type": "stream",
     "text": [
      "Rx_ESTRADIOL\n"
     ]
    },
    {
     "data": {
      "text/plain": [
       "array(['No', 'Yes'], dtype=object)"
      ]
     },
     "metadata": {},
     "output_type": "display_data"
    },
    {
     "name": "stdout",
     "output_type": "stream",
     "text": [
      "Rx_days_ESTRADIOL\n"
     ]
    },
    {
     "data": {
      "text/plain": [
       "array([0.0000e+00, 1.2200e+02, 5.4750e+03, 5.4700e+02, 4.7450e+03,\n",
       "       1.2410e+04, 3.6500e+03, 3.6500e+02, 2.7400e+02, 7.3000e+03,\n",
       "       1.0950e+03, 1.8250e+03, 1.8200e+02, 9.1000e+01, 9.1200e+02,\n",
       "       4.5600e+02, 9.1250e+03, 1.1680e+04, 2.9200e+03, 2.1900e+03,\n",
       "       4.0150e+03, 1.4600e+03, 1.2775e+04, 2.5550e+03, 7.3000e+02,\n",
       "       1.4965e+04, 4.3800e+03, 9.8550e+03, 6.5700e+03, 5.1100e+03,\n",
       "       1.5200e+02, 6.2050e+03, 4.5625e+03, 6.1000e+01, 1.0950e+04,\n",
       "       2.1000e+01, 2.5000e+01, 1.0585e+04, 6.9350e+03, 9.4900e+03,\n",
       "       1.5000e+01, 7.0000e+00, 7.6650e+03, 1.4600e+04, 3.2850e+03,\n",
       "       2.1300e+02, 8.7600e+03])"
      ]
     },
     "metadata": {},
     "output_type": "display_data"
    },
    {
     "name": "stdout",
     "output_type": "stream",
     "text": [
      "Rx_DICLOFENAC\n"
     ]
    },
    {
     "data": {
      "text/plain": [
       "array(['No', 'Yes'], dtype=object)"
      ]
     },
     "metadata": {},
     "output_type": "display_data"
    },
    {
     "name": "stdout",
     "output_type": "stream",
     "text": [
      "Rx_days_DICLOFENAC\n"
     ]
    },
    {
     "data": {
      "text/plain": [
       "array([0.000e+00, 2.190e+03, 7.300e+02, 3.000e+01, 3.650e+02, 5.470e+02,\n",
       "       1.400e+01, 4.260e+02, 1.460e+03, 7.000e+00, 7.300e+03, 1.095e+03,\n",
       "       1.825e+03, 3.650e+03, 9.100e+01, 2.555e+03, 1.820e+02, 6.570e+03,\n",
       "       6.100e+01, 5.475e+03, 9.125e+03, 1.220e+02, 6.000e+00, 1.520e+02,\n",
       "       9.120e+02, 1.000e+00, 2.740e+02, 2.430e+02, 2.920e+03, 6.690e+02,\n",
       "       2.000e+00, 2.000e+01, 6.205e+03, 4.000e+00, 2.100e+01, 3.000e+00,\n",
       "       6.000e+01])"
      ]
     },
     "metadata": {},
     "output_type": "display_data"
    },
    {
     "name": "stdout",
     "output_type": "stream",
     "text": [
      "Rx_LATANOPROST OPHTHALMIC\n"
     ]
    },
    {
     "data": {
      "text/plain": [
       "array(['No', 'Yes'], dtype=object)"
      ]
     },
     "metadata": {},
     "output_type": "display_data"
    },
    {
     "name": "stdout",
     "output_type": "stream",
     "text": [
      "Rx_days_LATANOPROST OPHTHALMIC\n"
     ]
    },
    {
     "data": {
      "text/plain": [
       "array([0.000e+00, 3.650e+02, 1.460e+03, 7.300e+02, 1.825e+03, 3.650e+03,\n",
       "       4.380e+03, 5.470e+02, 5.475e+03, 4.000e+00, 2.555e+03, 5.840e+03,\n",
       "       1.095e+03, 3.040e+02, 3.000e+01, 5.110e+03, 2.430e+02, 1.820e+02,\n",
       "       2.920e+03, 6.935e+03, 2.740e+02, 9.100e+01, 2.190e+03, 8.395e+03,\n",
       "       4.015e+03, 1.220e+02, 6.570e+03, 1.095e+04, 5.480e+02, 7.300e+03,\n",
       "       5.000e+00])"
      ]
     },
     "metadata": {},
     "output_type": "display_data"
    },
    {
     "name": "stdout",
     "output_type": "stream",
     "text": [
      "Rx_HYDRALAZINE\n"
     ]
    },
    {
     "data": {
      "text/plain": [
       "array(['No', 'Yes'], dtype=object)"
      ]
     },
     "metadata": {},
     "output_type": "display_data"
    },
    {
     "name": "stdout",
     "output_type": "stream",
     "text": [
      "Rx_days_HYDRALAZINE\n"
     ]
    },
    {
     "data": {
      "text/plain": [
       "array([0.000e+00, 2.190e+03, 1.820e+02, 3.650e+02, 4.380e+03, 1.460e+03,\n",
       "       1.400e+01, 1.460e+04, 1.095e+03, 2.920e+03, 3.650e+03, 7.300e+02,\n",
       "       2.555e+03, 7.000e+01, 7.000e+00, 5.470e+02, 2.740e+02, 1.825e+03,\n",
       "       6.100e+01, 3.000e+01, 5.475e+03, 4.200e+01, 1.000e+00, 1.500e+01,\n",
       "       9.100e+01, 4.745e+03, 2.100e+01, 1.095e+04, 2.430e+02, 5.110e+03,\n",
       "       4.015e+03, 7.300e+03, 3.950e+02, 7.500e+01, 1.220e+02])"
      ]
     },
     "metadata": {},
     "output_type": "display_data"
    },
    {
     "name": "stdout",
     "output_type": "stream",
     "text": [
      "Rx_OLMESARTAN\n"
     ]
    },
    {
     "data": {
      "text/plain": [
       "array(['No', 'Yes'], dtype=object)"
      ]
     },
     "metadata": {},
     "output_type": "display_data"
    },
    {
     "name": "stdout",
     "output_type": "stream",
     "text": [
      "Rx_days_OLMESARTAN\n"
     ]
    },
    {
     "data": {
      "text/plain": [
       "array([0.000e+00, 9.100e+01, 1.095e+03, 5.470e+02, 7.300e+02, 4.500e+01,\n",
       "       3.650e+03, 1.820e+02, 2.740e+02, 3.650e+02, 1.825e+03, 4.745e+03,\n",
       "       2.430e+02, 2.555e+03, 1.460e+03, 5.475e+03, 1.220e+02, 2.190e+03,\n",
       "       6.100e+01, 2.920e+03, 4.015e+03, 5.110e+03, 4.380e+03, 1.400e+01,\n",
       "       7.000e+00, 3.285e+03, 7.300e+03])"
      ]
     },
     "metadata": {},
     "output_type": "display_data"
    },
    {
     "name": "stdout",
     "output_type": "stream",
     "text": [
      "Rx_SULFAMETHOXAZOLE; TRIMETHOPRIM\n"
     ]
    },
    {
     "data": {
      "text/plain": [
       "array(['No', 'Yes'], dtype=object)"
      ]
     },
     "metadata": {},
     "output_type": "display_data"
    },
    {
     "name": "stdout",
     "output_type": "stream",
     "text": [
      "Rx_days_SULFAMETHOXAZOLE; TRIMETHOPRIM\n"
     ]
    },
    {
     "data": {
      "text/plain": [
       "array([0.0000e+00, 3.2850e+03, 1.8250e+03, 3.0000e+01, 1.0000e+01,\n",
       "       2.1900e+03, 7.0000e+00, 1.4600e+03, 3.6500e+03, 1.7000e+01,\n",
       "       5.4700e+02, 4.0000e+00, 1.4000e+01, 5.1100e+03, 3.0000e+00,\n",
       "       6.0000e+00, 2.7400e+02, 7.3000e+02, 1.5000e+01, 1.0950e+03,\n",
       "       5.0000e+00, 3.6500e+02, 8.0000e+00, 2.1000e+01, 9.8000e+01,\n",
       "       4.0150e+03, 1.8200e+02, 1.2200e+02, 9.1000e+01, 1.0000e+00,\n",
       "       2.0000e+00, 1.5200e+02, 2.9200e+03, 6.1000e+01, 3.5000e+01,\n",
       "       1.2045e+04])"
      ]
     },
     "metadata": {},
     "output_type": "display_data"
    },
    {
     "name": "stdout",
     "output_type": "stream",
     "text": [
      "Rx_CEPHALEXIN\n"
     ]
    },
    {
     "data": {
      "text/plain": [
       "array(['No', 'Yes'], dtype=object)"
      ]
     },
     "metadata": {},
     "output_type": "display_data"
    },
    {
     "name": "stdout",
     "output_type": "stream",
     "text": [
      "Rx_days_CEPHALEXIN\n"
     ]
    },
    {
     "data": {
      "text/plain": [
       "array([0.000e+00, 8.000e+00, 7.000e+00, 3.000e+00, 3.650e+02, 1.400e+01,\n",
       "       2.000e+00, 5.000e+00, 1.900e+01, 1.000e+01, 4.000e+00, 1.300e+01,\n",
       "       3.650e+03, 1.820e+02, 3.000e+01, 1.100e+01, 1.825e+03, 2.400e+01,\n",
       "       7.300e+02, 1.500e+01, 5.470e+02, 6.000e+00, 3.500e+01, 1.000e+00,\n",
       "       9.000e+00, 6.100e+01, 1.460e+03, 1.520e+02, 9.100e+01, 2.100e+01])"
      ]
     },
     "metadata": {},
     "output_type": "display_data"
    },
    {
     "name": "stdout",
     "output_type": "stream",
     "text": [
      "Rx_GEMFIBROZIL\n"
     ]
    },
    {
     "data": {
      "text/plain": [
       "array(['No', 'Yes'], dtype=object)"
      ]
     },
     "metadata": {},
     "output_type": "display_data"
    },
    {
     "name": "stdout",
     "output_type": "stream",
     "text": [
      "Rx_days_GEMFIBROZIL\n"
     ]
    },
    {
     "data": {
      "text/plain": [
       "array([0.000e+00, 3.650e+02, 1.825e+03, 1.460e+03, 3.650e+03, 6.100e+01,\n",
       "       1.095e+03, 3.000e+01, 7.300e+02, 1.820e+02, 9.100e+01, 2.920e+03,\n",
       "       5.840e+03, 2.430e+02, 2.555e+03, 7.300e+03, 3.285e+03, 2.190e+03,\n",
       "       5.470e+02, 4.015e+03, 1.220e+02, 4.380e+03, 5.475e+03, 1.000e+00,\n",
       "       5.110e+03, 4.745e+03, 2.800e+01, 6.205e+03, 8.030e+03, 2.740e+02,\n",
       "       3.340e+02, 1.095e+04])"
      ]
     },
     "metadata": {},
     "output_type": "display_data"
    },
    {
     "name": "stdout",
     "output_type": "stream",
     "text": [
      "Rx_INSULIN LISPRO\n"
     ]
    },
    {
     "data": {
      "text/plain": [
       "array(['No', 'Yes'], dtype=object)"
      ]
     },
     "metadata": {},
     "output_type": "display_data"
    },
    {
     "name": "stdout",
     "output_type": "stream",
     "text": [
      "Rx_days_INSULIN LISPRO\n"
     ]
    },
    {
     "data": {
      "text/plain": [
       "array([0.0000e+00, 2.5550e+03, 5.4700e+02, 1.0950e+03, 3.6500e+02,\n",
       "       7.3000e+02, 6.1000e+01, 7.3000e+03, 4.3800e+03, 2.9200e+03,\n",
       "       1.8200e+02, 7.6650e+03, 2.1900e+03, 1.4600e+03, 3.6500e+03,\n",
       "       1.8250e+03, 4.0150e+03, 1.4000e+01, 9.1000e+01, 5.4750e+03,\n",
       "       9.8550e+03, 1.0220e+04, 1.2775e+04, 1.2200e+02, 1.0950e+04,\n",
       "       1.4600e+04, 2.4300e+02, 1.1315e+04, 6.2050e+03, 3.0000e+01,\n",
       "       5.1100e+03, 4.7450e+03, 5.8400e+03, 6.9350e+03, 1.0000e+01,\n",
       "       4.5600e+02, 9.1250e+03, 8.3950e+03, 1.5200e+02, 2.7400e+02,\n",
       "       1.0585e+04])"
      ]
     },
     "metadata": {},
     "output_type": "display_data"
    },
    {
     "name": "stdout",
     "output_type": "stream",
     "text": [
      "Rx_PREGABALIN\n"
     ]
    },
    {
     "data": {
      "text/plain": [
       "array(['No', 'Yes'], dtype=object)"
      ]
     },
     "metadata": {},
     "output_type": "display_data"
    },
    {
     "name": "stdout",
     "output_type": "stream",
     "text": [
      "Rx_days_PREGABALIN\n"
     ]
    },
    {
     "data": {
      "text/plain": [
       "array([0.000e+00, 9.100e+01, 1.820e+02, 2.100e+01, 7.000e+00, 6.100e+01,\n",
       "       3.000e+01, 1.520e+02, 4.200e+01, 7.300e+02, 2.740e+02, 1.220e+02,\n",
       "       3.650e+02, 1.400e+01, 2.430e+02, 1.825e+03, 9.125e+03, 1.095e+03,\n",
       "       1.460e+03, 2.555e+03, 3.650e+03, 2.190e+03, 4.015e+03, 2.920e+03,\n",
       "       4.745e+03, 3.285e+03, 4.380e+03, 6.080e+02, 5.475e+03, 5.470e+02,\n",
       "       3.000e+00])"
      ]
     },
     "metadata": {},
     "output_type": "display_data"
    },
    {
     "name": "stdout",
     "output_type": "stream",
     "text": [
      "Rx_AMOXICILLIN; CLAVULANATE\n"
     ]
    },
    {
     "data": {
      "text/plain": [
       "array(['No', 'Yes'], dtype=object)"
      ]
     },
     "metadata": {},
     "output_type": "display_data"
    },
    {
     "name": "stdout",
     "output_type": "stream",
     "text": [
      "Rx_days_AMOXICILLIN; CLAVULANATE\n"
     ]
    },
    {
     "data": {
      "text/plain": [
       "array([0.000e+00, 2.800e+01, 9.000e+00, 7.000e+00, 1.400e+01, 5.000e+00,\n",
       "       3.000e+01, 6.000e+00, 3.000e+00, 4.000e+00, 1.460e+03, 6.100e+01,\n",
       "       1.000e+00, 2.000e+00, 1.000e+01, 8.000e+00, 2.000e+01, 1.095e+03,\n",
       "       4.200e+01])"
      ]
     },
     "metadata": {},
     "output_type": "display_data"
    },
    {
     "name": "stdout",
     "output_type": "stream",
     "text": [
      "Rx_ALBUTEROL; IPRATROPIUM\n"
     ]
    },
    {
     "data": {
      "text/plain": [
       "array(['No', 'Yes'], dtype=object)"
      ]
     },
     "metadata": {},
     "output_type": "display_data"
    },
    {
     "name": "stdout",
     "output_type": "stream",
     "text": [
      "Rx_days_ALBUTEROL; IPRATROPIUM\n"
     ]
    },
    {
     "data": {
      "text/plain": [
       "array([0.000e+00, 2.130e+02, 1.825e+03, 2.555e+03, 1.095e+03, 9.885e+02,\n",
       "       2.190e+03, 3.650e+03, 7.300e+02, 1.460e+03, 1.820e+02, 5.470e+02,\n",
       "       1.520e+02, 3.285e+03, 6.000e+00, 9.100e+01, 5.475e+03, 3.000e+01,\n",
       "       2.920e+03, 3.650e+02, 6.100e+01, 1.400e+01, 7.000e+00, 7.300e+03,\n",
       "       2.740e+02, 4.015e+03, 1.460e+04, 1.673e+03, 9.430e+02, 4.380e+03,\n",
       "       9.125e+03, 5.000e+00, 1.220e+02, 5.110e+03])"
      ]
     },
     "metadata": {},
     "output_type": "display_data"
    },
    {
     "name": "stdout",
     "output_type": "stream",
     "text": [
      "Rx_CONJUGATED ESTROGENS\n"
     ]
    },
    {
     "data": {
      "text/plain": [
       "array(['No', 'Yes'], dtype=object)"
      ]
     },
     "metadata": {},
     "output_type": "display_data"
    },
    {
     "name": "stdout",
     "output_type": "stream",
     "text": [
      "Rx_days_CONJUGATED ESTROGENS\n"
     ]
    },
    {
     "data": {
      "text/plain": [
       "array([0.0000e+00, 3.6500e+03, 7.3000e+03, 5.1100e+03, 2.5550e+03,\n",
       "       1.0950e+03, 7.3000e+02, 1.8250e+03, 9.1250e+03, 2.0000e+00,\n",
       "       3.6500e+02, 2.9200e+03, 4.0150e+03, 2.1900e+03, 9.4900e+03,\n",
       "       1.4600e+03, 2.4300e+02, 5.4750e+03, 1.5200e+02, 4.7450e+03,\n",
       "       1.4000e+01, 1.0950e+04, 1.2775e+04, 4.3800e+03, 6.2050e+03,\n",
       "       8.7600e+03, 1.4600e+04, 1.3870e+04, 8.3950e+03, 1.2200e+02,\n",
       "       1.3140e+04, 3.0000e+01, 9.8550e+03, 1.0220e+04, 1.8200e+02,\n",
       "       1.8250e+04, 5.8400e+03, 8.0300e+03, 5.4700e+02, 1.4235e+04,\n",
       "       1.5330e+04, 1.5695e+04, 6.5700e+03, 2.4000e+01])"
      ]
     },
     "metadata": {},
     "output_type": "display_data"
    },
    {
     "name": "stdout",
     "output_type": "stream",
     "text": [
      "Rx_DOXYCYCLINE\n"
     ]
    },
    {
     "data": {
      "text/plain": [
       "array(['No', 'Yes'], dtype=object)"
      ]
     },
     "metadata": {},
     "output_type": "display_data"
    },
    {
     "name": "stdout",
     "output_type": "stream",
     "text": [
      "Rx_days_DOXYCYCLINE\n"
     ]
    },
    {
     "data": {
      "text/plain": [
       "array([0.000e+00, 7.000e+00, 9.100e+01, 1.000e+00, 1.825e+03, 3.000e+01,\n",
       "       2.190e+03, 5.470e+02, 8.000e+00, 6.100e+01, 6.000e+01, 1.400e+01,\n",
       "       3.650e+02, 2.430e+02, 4.380e+03, 1.095e+03, 2.920e+03, 2.100e+01,\n",
       "       5.000e+00, 1.000e+01, 4.000e+00, 2.100e+02, 7.300e+02, 9.000e+00,\n",
       "       1.820e+02, 3.000e+00, 2.740e+02, 1.220e+02, 3.650e+03, 2.000e+01,\n",
       "       7.000e+01, 4.200e+01, 1.460e+03, 6.570e+03])"
      ]
     },
     "metadata": {},
     "output_type": "display_data"
    },
    {
     "name": "stdout",
     "output_type": "stream",
     "text": [
      "Rx_BECLOMETHASONE\n"
     ]
    },
    {
     "data": {
      "text/plain": [
       "array(['No', 'Yes'], dtype=object)"
      ]
     },
     "metadata": {},
     "output_type": "display_data"
    },
    {
     "name": "stdout",
     "output_type": "stream",
     "text": [
      "Rx_days_BECLOMETHASONE\n"
     ]
    },
    {
     "data": {
      "text/plain": [
       "array([0.000e+00, 1.820e+02, 1.400e+01, 6.935e+03, 9.000e+00, 1.825e+03,\n",
       "       1.460e+03, 3.650e+02, 2.555e+03, 2.920e+03, 3.000e+00, 7.300e+02,\n",
       "       2.190e+03, 1.095e+03, 1.520e+02, 7.300e+03, 3.650e+03, 3.000e+01,\n",
       "       2.000e+01, 5.470e+02, 1.095e+04, 9.120e+02, 4.015e+03, 6.100e+01,\n",
       "       4.200e+01, 1.220e+02, 9.125e+03])"
      ]
     },
     "metadata": {},
     "output_type": "display_data"
    },
    {
     "name": "stdout",
     "output_type": "stream",
     "text": [
      "Rx_BUSPIRONE\n"
     ]
    },
    {
     "data": {
      "text/plain": [
       "array(['No', 'Yes'], dtype=object)"
      ]
     },
     "metadata": {},
     "output_type": "display_data"
    },
    {
     "name": "stdout",
     "output_type": "stream",
     "text": [
      "Rx_days_BUSPIRONE\n"
     ]
    },
    {
     "data": {
      "text/plain": [
       "array([0.0000e+00, 2.1900e+03, 7.3000e+02, 3.6500e+02, 1.2000e+01,\n",
       "       1.4600e+03, 6.1000e+01, 1.2200e+02, 1.8250e+03, 2.9200e+03,\n",
       "       1.0950e+03, 7.3000e+03, 2.5550e+03, 3.6500e+03, 3.0000e+01,\n",
       "       1.4000e+01, 1.8200e+02, 4.7450e+03, 5.4750e+03, 4.5000e+01,\n",
       "       2.7400e+02, 1.6425e+04, 9.1000e+01, 6.2050e+03, 4.8600e+02,\n",
       "       1.0000e+00, 6.9350e+03, 4.0150e+03, 4.3800e+03, 1.0000e+01,\n",
       "       2.1300e+02, 3.0400e+02, 8.7600e+03, 3.9500e+02, 8.0300e+03,\n",
       "       1.5200e+02])"
      ]
     },
     "metadata": {},
     "output_type": "display_data"
    },
    {
     "name": "stdout",
     "output_type": "stream",
     "text": [
      "Rx_DIAZEPAM\n"
     ]
    },
    {
     "data": {
      "text/plain": [
       "array(['No', 'Yes'], dtype=object)"
      ]
     },
     "metadata": {},
     "output_type": "display_data"
    },
    {
     "name": "stdout",
     "output_type": "stream",
     "text": [
      "Rx_days_DIAZEPAM\n"
     ]
    },
    {
     "data": {
      "text/plain": [
       "array([0.0000e+00, 2.1900e+03, 1.4600e+03, 3.0000e+01, 2.5550e+03,\n",
       "       3.0400e+02, 3.6500e+02, 7.3000e+02, 1.0950e+04, 9.4900e+03,\n",
       "       1.0000e+00, 3.6500e+03, 2.1300e+02, 7.3000e+03, 1.2200e+02,\n",
       "       3.0000e+00, 1.1000e+01, 2.4300e+02, 5.8400e+03, 1.8250e+03,\n",
       "       6.1000e+01, 1.8250e+04, 7.0000e+00, 1.8200e+02, 2.7400e+02,\n",
       "       1.0950e+03, 1.0940e+03, 9.1250e+03, 9.1000e+01, 5.0000e+00,\n",
       "       1.0000e+01, 1.5200e+02, 2.5000e+01, 3.2850e+03, 4.2000e+01,\n",
       "       3.5000e+01, 5.4750e+03, 4.4000e+01, 9.8550e+03, 1.9345e+04,\n",
       "       5.4700e+02, 1.2000e+01, 2.9200e+03, 1.2775e+04])"
      ]
     },
     "metadata": {},
     "output_type": "display_data"
    },
    {
     "name": "stdout",
     "output_type": "stream",
     "text": [
      "Rx_ACETAMINOPHEN; CODEINE\n"
     ]
    },
    {
     "data": {
      "text/plain": [
       "array(['No', 'Yes'], dtype=object)"
      ]
     },
     "metadata": {},
     "output_type": "display_data"
    },
    {
     "name": "stdout",
     "output_type": "stream",
     "text": [
      "Rx_days_ACETAMINOPHEN; CODEINE\n"
     ]
    },
    {
     "data": {
      "text/plain": [
       "array([0.000e+00, 2.000e+00, 7.300e+02, 6.100e+01, 2.920e+03, 3.285e+03,\n",
       "       3.650e+02, 1.095e+03, 3.650e+03, 5.110e+03, 9.100e+01, 3.000e+01,\n",
       "       1.400e+01, 7.000e+00, 9.125e+03, 5.000e+00, 1.500e+01, 1.820e+02,\n",
       "       2.190e+03, 7.300e+03, 1.095e+04, 1.220e+02, 1.000e+00, 2.430e+02,\n",
       "       4.500e+01, 3.040e+02, 1.000e+01, 1.825e+03, 2.000e+01, 1.460e+03,\n",
       "       1.387e+04, 8.000e+00, 2.130e+02, 2.740e+02, 3.000e+00, 2.100e+01,\n",
       "       8.760e+03])"
      ]
     },
     "metadata": {},
     "output_type": "display_data"
    },
    {
     "name": "stdout",
     "output_type": "stream",
     "text": [
      "Rx_ETHINYL ESTRADIOL; LEVONORGESTREL\n"
     ]
    },
    {
     "data": {
      "text/plain": [
       "array(['No', 'Yes'], dtype=object)"
      ]
     },
     "metadata": {},
     "output_type": "display_data"
    },
    {
     "name": "stdout",
     "output_type": "stream",
     "text": [
      "Rx_days_ETHINYL ESTRADIOL; LEVONORGESTREL\n"
     ]
    },
    {
     "data": {
      "text/plain": [
       "array([0.0000e+00, 1.8250e+03, 5.4750e+03, 2.9200e+03, 6.1000e+01,\n",
       "       1.0000e+00, 2.1900e+03, 3.0000e+01, 3.6500e+02, 7.3000e+02,\n",
       "       3.6500e+03, 9.1000e+01, 1.4600e+03, 1.2200e+02, 1.0950e+03,\n",
       "       1.5200e+02, 2.5550e+03, 2.7400e+02, 4.3800e+03, 5.4700e+02,\n",
       "       1.1315e+04, 3.2850e+03, 5.1100e+03, 9.1250e+03, 4.5600e+02,\n",
       "       3.9500e+02, 1.7000e+01, 3.0400e+02, 9.4900e+03, 6.2050e+03,\n",
       "       8.3950e+03, 7.3000e+03, 1.8200e+02, 7.0000e+00, 1.4000e+01,\n",
       "       2.1000e+01])"
      ]
     },
     "metadata": {},
     "output_type": "display_data"
    },
    {
     "name": "stdout",
     "output_type": "stream",
     "text": [
      "Rx_QUINAPRIL\n"
     ]
    },
    {
     "data": {
      "text/plain": [
       "array(['No', 'Yes'], dtype=object)"
      ]
     },
     "metadata": {},
     "output_type": "display_data"
    },
    {
     "name": "stdout",
     "output_type": "stream",
     "text": [
      "Rx_days_QUINAPRIL\n"
     ]
    },
    {
     "data": {
      "text/plain": [
       "array([    0.,   365.,  4745.,   730.,  1460.,  2190.,  2920.,  7300.,\n",
       "        3650.,  1825.,  1095.,  4015.,  4380.,  5475.,  2555.,   426.,\n",
       "        5110.,  9125.,   122., 10220.,   182., 10950.,   517.,   334.,\n",
       "        3285.,  7665.,  5840.])"
      ]
     },
     "metadata": {},
     "output_type": "display_data"
    },
    {
     "name": "stdout",
     "output_type": "stream",
     "text": [
      "Rx_INSULIN DETEMIR\n"
     ]
    },
    {
     "data": {
      "text/plain": [
       "array(['No', 'Yes'], dtype=object)"
      ]
     },
     "metadata": {},
     "output_type": "display_data"
    },
    {
     "name": "stdout",
     "output_type": "stream",
     "text": [
      "Rx_days_INSULIN DETEMIR\n"
     ]
    },
    {
     "data": {
      "text/plain": [
       "array([0.000e+00, 1.220e+02, 7.300e+02, 3.650e+02, 1.200e+01, 2.740e+02,\n",
       "       3.000e+01, 1.095e+03, 1.825e+03, 2.920e+03, 9.100e+01, 3.650e+03,\n",
       "       3.040e+02, 1.460e+03, 2.130e+02, 2.190e+03, 5.470e+02, 1.820e+02,\n",
       "       4.200e+01, 1.387e+04, 7.300e+03, 5.475e+03, 2.430e+02, 6.100e+01,\n",
       "       2.100e+01, 2.555e+03, 5.110e+03, 4.380e+03, 5.840e+03, 4.745e+03,\n",
       "       6.205e+03, 6.935e+03, 1.520e+02])"
      ]
     },
     "metadata": {},
     "output_type": "display_data"
    },
    {
     "name": "stdout",
     "output_type": "stream",
     "text": [
      "Rx_BUDESONIDE; FORMOTEROL\n"
     ]
    },
    {
     "data": {
      "text/plain": [
       "array(['No', 'Yes'], dtype=object)"
      ]
     },
     "metadata": {},
     "output_type": "display_data"
    },
    {
     "name": "stdout",
     "output_type": "stream",
     "text": [
      "Rx_days_BUDESONIDE; FORMOTEROL\n"
     ]
    },
    {
     "data": {
      "text/plain": [
       "array([0.000e+00, 1.825e+03, 3.000e+01, 6.100e+01, 3.650e+02, 1.520e+02,\n",
       "       1.820e+02, 2.430e+02, 7.300e+02, 1.095e+03, 2.000e+01, 9.100e+01,\n",
       "       5.470e+02, 1.460e+03, 3.650e+03, 2.190e+03, 5.475e+03, 2.555e+03,\n",
       "       7.300e+03, 3.000e+00, 4.380e+03, 2.920e+03, 3.285e+03])"
      ]
     },
     "metadata": {},
     "output_type": "display_data"
    },
    {
     "name": "stdout",
     "output_type": "stream",
     "text": [
      "Rx_MECLIZINE\n"
     ]
    },
    {
     "data": {
      "text/plain": [
       "array(['No', 'Yes'], dtype=object)"
      ]
     },
     "metadata": {},
     "output_type": "display_data"
    },
    {
     "name": "stdout",
     "output_type": "stream",
     "text": [
      "Rx_days_MECLIZINE\n"
     ]
    },
    {
     "data": {
      "text/plain": [
       "array([0.0000e+00, 3.6500e+02, 3.6500e+03, 1.0950e+03, 1.8200e+02,\n",
       "       1.4600e+03, 9.1000e+01, 1.8250e+03, 2.4300e+02, 1.5200e+02,\n",
       "       7.3000e+02, 3.0000e+01, 5.4700e+02, 1.2200e+02, 7.3000e+03,\n",
       "       7.0000e+00, 1.4000e+01, 1.0000e+01, 2.1300e+02, 2.1000e+01,\n",
       "       3.2850e+03, 2.1900e+03, 2.7400e+02, 6.1000e+01, 1.0950e+04,\n",
       "       8.0000e+00, 5.4750e+03, 5.0000e+00, 1.2045e+04, 6.2050e+03,\n",
       "       1.4600e+04])"
      ]
     },
     "metadata": {},
     "output_type": "display_data"
    },
    {
     "name": "stdout",
     "output_type": "stream",
     "text": [
      "Rx_POLYETHYLENE GLYCOL 3350\n"
     ]
    },
    {
     "data": {
      "text/plain": [
       "array(['No', 'Yes'], dtype=object)"
      ]
     },
     "metadata": {},
     "output_type": "display_data"
    },
    {
     "name": "stdout",
     "output_type": "stream",
     "text": [
      "Rx_days_POLYETHYLENE GLYCOL 3350\n"
     ]
    },
    {
     "data": {
      "text/plain": [
       "array([0.000e+00, 3.650e+02, 9.100e+01, 1.220e+02, 2.430e+02, 7.300e+02,\n",
       "       1.825e+03, 6.100e+01, 1.095e+03, 7.000e+00, 1.460e+03, 2.555e+03,\n",
       "       1.820e+02, 3.000e+01, 2.740e+02, 3.650e+03, 1.520e+02, 2.920e+03,\n",
       "       2.130e+02, 2.000e+00])"
      ]
     },
     "metadata": {},
     "output_type": "display_data"
    },
    {
     "name": "stdout",
     "output_type": "stream",
     "text": [
      "Rx_BACLOFEN\n"
     ]
    },
    {
     "data": {
      "text/plain": [
       "array(['No', 'Yes'], dtype=object)"
      ]
     },
     "metadata": {},
     "output_type": "display_data"
    },
    {
     "name": "stdout",
     "output_type": "stream",
     "text": [
      "Rx_days_BACLOFEN\n"
     ]
    },
    {
     "data": {
      "text/plain": [
       "array([0.0000e+00, 5.4700e+02, 9.0000e+00, 1.8250e+03, 3.6500e+02,\n",
       "       2.9200e+03, 1.2200e+02, 2.1900e+03, 7.3000e+02, 1.0950e+03,\n",
       "       3.6500e+03, 3.0000e+01, 5.4750e+03, 5.1100e+03, 6.1000e+01,\n",
       "       4.7450e+03, 2.5550e+03, 7.3000e+03, 1.8200e+02, 9.1000e+01,\n",
       "       6.5700e+03, 4.3800e+03, 1.4600e+03, 4.0000e+00, 1.5200e+02,\n",
       "       8.0000e+00, 9.1250e+03, 7.0000e+00, 2.4300e+02, 1.0585e+04,\n",
       "       2.7400e+02])"
      ]
     },
     "metadata": {},
     "output_type": "display_data"
    },
    {
     "name": "stdout",
     "output_type": "stream",
     "text": [
      "Rx_LISDEXAMFETAMINE\n"
     ]
    },
    {
     "data": {
      "text/plain": [
       "array(['No', 'Yes'], dtype=object)"
      ]
     },
     "metadata": {},
     "output_type": "display_data"
    },
    {
     "name": "stdout",
     "output_type": "stream",
     "text": [
      "Rx_days_LISDEXAMFETAMINE\n"
     ]
    },
    {
     "data": {
      "text/plain": [
       "array([0.000e+00, 1.460e+03, 1.095e+03, 5.170e+02, 7.300e+02, 1.400e+01,\n",
       "       2.300e+01, 3.650e+02, 1.820e+02, 3.000e+01, 2.430e+02, 2.920e+03,\n",
       "       1.095e+04, 2.190e+03, 2.100e+01, 2.555e+03, 7.000e+00, 5.470e+02,\n",
       "       9.100e+01])"
      ]
     },
     "metadata": {},
     "output_type": "display_data"
    },
    {
     "name": "stdout",
     "output_type": "stream",
     "text": [
      "Rx_METOCLOPRAMIDE\n"
     ]
    },
    {
     "data": {
      "text/plain": [
       "array(['No', 'Yes'], dtype=object)"
      ]
     },
     "metadata": {},
     "output_type": "display_data"
    },
    {
     "name": "stdout",
     "output_type": "stream",
     "text": [
      "Rx_days_METOCLOPRAMIDE\n"
     ]
    },
    {
     "data": {
      "text/plain": [
       "array([0.000e+00, 9.100e+01, 2.920e+03, 4.200e+01, 7.300e+02, 1.520e+02,\n",
       "       1.095e+03, 6.100e+01, 2.555e+03, 1.825e+03, 2.100e+01, 2.430e+02,\n",
       "       1.460e+03, 2.000e+00, 1.220e+02, 3.650e+02, 7.300e+03, 6.205e+03,\n",
       "       9.120e+02, 3.650e+03, 7.000e+00, 1.820e+02, 5.475e+03, 1.000e+00,\n",
       "       1.000e+01, 2.130e+02, 3.000e+01, 9.125e+03, 4.380e+03, 2.190e+03])"
      ]
     },
     "metadata": {},
     "output_type": "display_data"
    },
    {
     "name": "stdout",
     "output_type": "stream",
     "text": [
      "Rx_LEVALBUTEROL\n"
     ]
    },
    {
     "data": {
      "text/plain": [
       "array(['No', 'Yes'], dtype=object)"
      ]
     },
     "metadata": {},
     "output_type": "display_data"
    },
    {
     "name": "stdout",
     "output_type": "stream",
     "text": [
      "Rx_days_LEVALBUTEROL\n"
     ]
    },
    {
     "data": {
      "text/plain": [
       "array([   0.,  182.,  730.,  365., 1460., 3650.,  243.,   21.,   61.,\n",
       "       1095., 5475.,   30., 7300., 5110., 4745., 9125., 6570., 1825.,\n",
       "       2920.,   91.])"
      ]
     },
     "metadata": {},
     "output_type": "display_data"
    },
    {
     "name": "stdout",
     "output_type": "stream",
     "text": [
      "Rx_METHOTREXATE\n"
     ]
    },
    {
     "data": {
      "text/plain": [
       "array(['No', 'Yes'], dtype=object)"
      ]
     },
     "metadata": {},
     "output_type": "display_data"
    },
    {
     "name": "stdout",
     "output_type": "stream",
     "text": [
      "Rx_days_METHOTREXATE\n"
     ]
    },
    {
     "data": {
      "text/plain": [
       "array([0.000e+00, 9.100e+01, 3.650e+03, 1.460e+03, 2.190e+03, 7.300e+02,\n",
       "       2.555e+03, 3.650e+02, 1.400e+01, 1.825e+03, 2.920e+03, 3.000e+01,\n",
       "       6.100e+01, 1.095e+03, 2.430e+02, 8.030e+03, 7.000e+00, 5.110e+03,\n",
       "       6.570e+03, 1.820e+02, 5.475e+03, 1.220e+02, 5.840e+03, 9.125e+03,\n",
       "       8.395e+03, 9.130e+02, 1.520e+02, 7.300e+03, 2.130e+02, 2.100e+01,\n",
       "       4.380e+03, 5.470e+02, 1.277e+03, 8.760e+03, 4.200e+01])"
      ]
     },
     "metadata": {},
     "output_type": "display_data"
    },
    {
     "name": "stdout",
     "output_type": "stream",
     "text": [
      "Rx_PROMETHAZINE\n"
     ]
    },
    {
     "data": {
      "text/plain": [
       "array(['No', 'Yes'], dtype=object)"
      ]
     },
     "metadata": {},
     "output_type": "display_data"
    },
    {
     "name": "stdout",
     "output_type": "stream",
     "text": [
      "Rx_days_PROMETHAZINE\n"
     ]
    },
    {
     "data": {
      "text/plain": [
       "array([0.000e+00, 6.100e+01, 3.000e+00, 1.095e+03, 1.095e+04, 2.500e+01,\n",
       "       7.300e+02, 1.000e+00, 3.650e+02, 3.000e+01, 1.820e+02, 1.220e+02,\n",
       "       2.000e+00, 7.000e+00, 3.285e+03, 4.000e+00, 1.825e+03, 5.475e+03,\n",
       "       2.740e+02, 2.190e+03, 1.000e+01, 2.100e+01, 1.400e+01, 2.920e+03,\n",
       "       2.555e+03, 1.460e+03, 3.650e+03, 1.520e+02, 4.745e+03, 5.470e+02,\n",
       "       4.000e+01])"
      ]
     },
     "metadata": {},
     "output_type": "display_data"
    },
    {
     "name": "stdout",
     "output_type": "stream",
     "text": [
      "Rx_TEMAZEPAM\n"
     ]
    },
    {
     "data": {
      "text/plain": [
       "array(['No', 'Yes'], dtype=object)"
      ]
     },
     "metadata": {},
     "output_type": "display_data"
    },
    {
     "name": "stdout",
     "output_type": "stream",
     "text": [
      "Rx_days_TEMAZEPAM\n"
     ]
    },
    {
     "data": {
      "text/plain": [
       "array([0.000e+00, 3.000e+01, 5.475e+03, 3.650e+02, 1.095e+04, 2.920e+03,\n",
       "       3.650e+03, 2.430e+02, 7.000e+00, 1.820e+02, 1.095e+03, 2.100e+01,\n",
       "       8.030e+03, 2.555e+03, 5.470e+02, 7.300e+02, 1.022e+04, 1.520e+02,\n",
       "       4.000e+00, 4.380e+03, 1.825e+03, 1.460e+03, 2.000e+01, 9.100e+01,\n",
       "       7.000e+01, 1.400e+01, 6.100e+01, 1.220e+02, 2.130e+02, 6.570e+03,\n",
       "       7.300e+03])"
      ]
     },
     "metadata": {},
     "output_type": "display_data"
    },
    {
     "name": "stdout",
     "output_type": "stream",
     "text": [
      "Rx_LEVETIRACETAM\n"
     ]
    },
    {
     "data": {
      "text/plain": [
       "array(['No', 'Yes'], dtype=object)"
      ]
     },
     "metadata": {},
     "output_type": "display_data"
    },
    {
     "name": "stdout",
     "output_type": "stream",
     "text": [
      "Rx_days_LEVETIRACETAM\n"
     ]
    },
    {
     "data": {
      "text/plain": [
       "array([0.000e+00, 1.460e+03, 3.650e+02, 6.100e+01, 1.095e+03, 7.300e+02,\n",
       "       2.190e+03, 1.400e+01, 1.825e+03, 5.470e+02, 9.120e+02, 1.606e+04,\n",
       "       3.650e+03, 9.100e+01, 1.220e+02, 2.555e+03, 4.380e+03, 4.560e+02,\n",
       "       7.000e+00, 3.000e+01, 9.125e+03, 1.820e+02, 7.300e+03, 2.920e+03])"
      ]
     },
     "metadata": {},
     "output_type": "display_data"
    },
    {
     "name": "stdout",
     "output_type": "stream",
     "text": [
      "Rx_IRBESARTAN\n"
     ]
    },
    {
     "data": {
      "text/plain": [
       "array(['No', 'Yes'], dtype=object)"
      ]
     },
     "metadata": {},
     "output_type": "display_data"
    },
    {
     "name": "stdout",
     "output_type": "stream",
     "text": [
      "Rx_days_IRBESARTAN\n"
     ]
    },
    {
     "data": {
      "text/plain": [
       "array([0.0000e+00, 7.3000e+02, 4.7450e+03, 1.0950e+03, 3.6500e+02,\n",
       "       3.2850e+03, 6.0000e+01, 5.4800e+02, 1.8250e+03, 9.1000e+01,\n",
       "       1.4600e+03, 6.1000e+01, 2.1900e+03, 7.3000e+03, 1.8200e+02,\n",
       "       3.0000e+01, 3.6500e+03, 5.4750e+03, 3.0400e+02, 4.3800e+03,\n",
       "       9.1250e+03, 1.0000e+00, 1.0950e+04, 2.5550e+03, 1.5695e+04,\n",
       "       2.9200e+03, 2.4300e+02, 7.0000e+00, 4.0150e+03, 2.8000e+01,\n",
       "       1.2200e+02])"
      ]
     },
     "metadata": {},
     "output_type": "display_data"
    },
    {
     "name": "stdout",
     "output_type": "stream",
     "text": [
      "Rx_DOCUSATE\n"
     ]
    },
    {
     "data": {
      "text/plain": [
       "array(['No', 'Yes'], dtype=object)"
      ]
     },
     "metadata": {},
     "output_type": "display_data"
    },
    {
     "name": "stdout",
     "output_type": "stream",
     "text": [
      "Rx_days_DOCUSATE\n"
     ]
    },
    {
     "data": {
      "text/plain": [
       "array([0.0000e+00, 3.0000e+01, 1.0950e+03, 3.6500e+02, 7.3000e+02,\n",
       "       2.1900e+03, 1.8200e+02, 6.1000e+01, 2.2000e+01, 2.4300e+02,\n",
       "       3.6500e+03, 2.5550e+03, 8.0300e+03, 2.9200e+03, 1.8250e+03,\n",
       "       1.4600e+03, 1.6000e+01, 3.2850e+03, 2.1300e+02, 8.0000e+00,\n",
       "       5.4750e+03, 1.4000e+01, 3.3400e+02, 9.1000e+01, 2.1000e+01,\n",
       "       5.4700e+02, 1.2775e+03, 2.0000e+00, 4.2600e+02, 4.2000e+01,\n",
       "       1.2200e+02, 7.3000e+03])"
      ]
     },
     "metadata": {},
     "output_type": "display_data"
    },
    {
     "name": "stdout",
     "output_type": "stream",
     "text": [
      "Rx_HYDROCHLOROTHIAZIDE; OLMESARTAN\n"
     ]
    },
    {
     "data": {
      "text/plain": [
       "array(['No', 'Yes'], dtype=object)"
      ]
     },
     "metadata": {},
     "output_type": "display_data"
    },
    {
     "name": "stdout",
     "output_type": "stream",
     "text": [
      "Rx_days_HYDROCHLOROTHIAZIDE; OLMESARTAN\n"
     ]
    },
    {
     "data": {
      "text/plain": [
       "array([0.000e+00, 3.650e+02, 6.100e+01, 1.095e+03, 1.520e+02, 4.260e+02,\n",
       "       1.820e+02, 3.650e+03, 2.740e+02, 7.300e+02, 1.825e+03, 2.920e+03,\n",
       "       9.100e+01, 9.125e+03, 4.745e+03, 7.300e+03, 1.460e+03, 1.220e+02,\n",
       "       5.470e+02, 7.000e+00, 3.000e+01, 4.015e+03, 5.475e+03, 2.190e+03,\n",
       "       4.380e+03, 2.555e+03, 2.100e+01, 5.110e+03])"
      ]
     },
     "metadata": {},
     "output_type": "display_data"
    },
    {
     "name": "stdout",
     "output_type": "stream",
     "text": [
      "Rx_ONDANSETRON\n"
     ]
    },
    {
     "data": {
      "text/plain": [
       "array(['No', 'Yes'], dtype=object)"
      ]
     },
     "metadata": {},
     "output_type": "display_data"
    },
    {
     "name": "stdout",
     "output_type": "stream",
     "text": [
      "Rx_days_ONDANSETRON\n"
     ]
    },
    {
     "data": {
      "text/plain": [
       "array([0.000e+00, 6.000e+00, 9.100e+01, 6.100e+01, 3.000e+01, 1.470e+02,\n",
       "       5.475e+03, 2.130e+02, 5.470e+02, 3.650e+03, 1.400e+01, 2.000e+00,\n",
       "       2.100e+01, 3.650e+02, 1.220e+02, 1.000e+00, 2.555e+03, 9.000e+00,\n",
       "       1.820e+02, 1.095e+03, 1.825e+03, 7.300e+02, 4.000e+00, 7.000e+00,\n",
       "       2.920e+03, 2.740e+02, 2.400e+01, 1.500e+01, 6.380e+02, 9.125e+03,\n",
       "       2.190e+03])"
      ]
     },
     "metadata": {},
     "output_type": "display_data"
    },
    {
     "name": "stdout",
     "output_type": "stream",
     "text": [
      "Rx_CIPROFLOXACIN\n"
     ]
    },
    {
     "data": {
      "text/plain": [
       "array(['No', 'Yes'], dtype=object)"
      ]
     },
     "metadata": {},
     "output_type": "display_data"
    },
    {
     "name": "stdout",
     "output_type": "stream",
     "text": [
      "Rx_days_CIPROFLOXACIN\n"
     ]
    },
    {
     "data": {
      "text/plain": [
       "array([0.000e+00, 1.400e+01, 3.285e+03, 2.100e+01, 3.000e+01, 4.000e+00,\n",
       "       7.300e+03, 1.000e+00, 2.000e+00, 1.000e+01, 5.000e+00, 7.000e+00,\n",
       "       3.500e+01, 1.820e+02, 5.475e+03, 3.000e+00, 6.100e+01, 6.000e+00,\n",
       "       3.650e+02, 2.800e+01, 7.300e+02, 2.740e+02, 4.260e+02, 2.190e+03,\n",
       "       2.600e+01, 4.900e+01, 1.520e+02, 5.480e+02, 5.470e+02])"
      ]
     },
     "metadata": {},
     "output_type": "display_data"
    },
    {
     "name": "stdout",
     "output_type": "stream",
     "text": [
      "Rx_PHENYTOIN\n"
     ]
    },
    {
     "data": {
      "text/plain": [
       "array(['No', 'Yes'], dtype=object)"
      ]
     },
     "metadata": {},
     "output_type": "display_data"
    },
    {
     "name": "stdout",
     "output_type": "stream",
     "text": [
      "Rx_days_PHENYTOIN\n"
     ]
    },
    {
     "data": {
      "text/plain": [
       "array([0.0000e+00, 1.4600e+04, 6.2050e+03, 2.1900e+04, 7.3000e+03,\n",
       "       1.7520e+04, 1.9710e+04, 9.1250e+03, 2.0440e+04, 6.1000e+01,\n",
       "       1.7155e+04, 1.0950e+03, 9.1000e+01, 3.6500e+03, 1.4600e+03,\n",
       "       4.2600e+02, 1.4000e+01, 3.6500e+02, 2.1900e+03, 1.8250e+04,\n",
       "       1.8250e+03, 2.0075e+04, 7.0000e+00, 4.7450e+03, 1.4235e+04,\n",
       "       1.8200e+02, 1.2200e+02, 1.6790e+04, 7.3000e+02, 1.0950e+04,\n",
       "       5.4750e+03, 5.1100e+03, 2.9200e+03, 8.0300e+03, 4.3800e+03,\n",
       "       1.2775e+04, 9.8550e+03, 2.5550e+03, 1.2045e+04, 1.1680e+04,\n",
       "       1.6060e+04, 1.5330e+04, 4.0150e+03, 9.4900e+03])"
      ]
     },
     "metadata": {},
     "output_type": "display_data"
    },
    {
     "name": "stdout",
     "output_type": "stream",
     "text": [
      "Rx_AMIODARONE\n"
     ]
    },
    {
     "data": {
      "text/plain": [
       "array(['No', 'Yes'], dtype=object)"
      ]
     },
     "metadata": {},
     "output_type": "display_data"
    },
    {
     "name": "stdout",
     "output_type": "stream",
     "text": [
      "Rx_days_AMIODARONE\n"
     ]
    },
    {
     "data": {
      "text/plain": [
       "array([0.000e+00, 7.300e+02, 1.825e+03, 3.650e+02, 2.100e+01, 6.100e+01,\n",
       "       4.015e+03, 1.460e+03, 9.100e+01, 3.000e+01, 1.220e+02, 1.820e+02,\n",
       "       2.130e+02, 5.475e+03, 3.285e+03, 1.095e+03, 2.740e+02, 3.650e+03,\n",
       "       2.190e+03, 3.340e+02, 6.205e+03, 4.380e+03, 2.920e+03, 9.125e+02,\n",
       "       4.560e+02, 5.110e+03, 9.490e+03, 5.840e+03, 1.000e+00])"
      ]
     },
     "metadata": {},
     "output_type": "display_data"
    },
    {
     "name": "stdout",
     "output_type": "stream",
     "text": [
      "Rx_NIACIN\n"
     ]
    },
    {
     "data": {
      "text/plain": [
       "array(['No', 'Yes'], dtype=object)"
      ]
     },
     "metadata": {},
     "output_type": "display_data"
    },
    {
     "name": "stdout",
     "output_type": "stream",
     "text": [
      "Rx_days_NIACIN\n"
     ]
    },
    {
     "data": {
      "text/plain": [
       "array([   0.,   30.,  365.,  182., 1095., 3650.,   42., 1825.,  730.,\n",
       "        152., 4380., 1460.,   61., 3285.,   91.,  274., 2555., 2190.,\n",
       "       7300., 2920.,   21., 5475.,   14., 4745.,  547.])"
      ]
     },
     "metadata": {},
     "output_type": "display_data"
    },
    {
     "name": "stdout",
     "output_type": "stream",
     "text": [
      "Rx_HYDROXYCHLOROQUINE\n"
     ]
    },
    {
     "data": {
      "text/plain": [
       "array(['No', 'Yes'], dtype=object)"
      ]
     },
     "metadata": {},
     "output_type": "display_data"
    },
    {
     "name": "stdout",
     "output_type": "stream",
     "text": [
      "Rx_days_HYDROXYCHLOROQUINE\n"
     ]
    },
    {
     "data": {
      "text/plain": [
       "array([0.000e+00, 1.820e+02, 6.990e+02, 1.220e+02, 7.300e+02, 3.650e+03,\n",
       "       3.650e+02, 2.190e+03, 2.555e+03, 9.100e+01, 5.470e+02, 2.100e+01,\n",
       "       4.745e+03, 1.825e+03, 2.920e+03, 1.460e+03, 6.100e+01, 5.475e+03,\n",
       "       3.000e+01, 2.430e+02, 5.110e+03, 3.340e+02, 1.095e+03, 4.380e+03,\n",
       "       1.400e+01, 1.095e+04, 4.860e+02, 4.000e+00, 7.000e+00, 7.300e+03,\n",
       "       2.740e+02, 8.395e+03, 9.125e+03, 1.022e+04])"
      ]
     },
     "metadata": {},
     "output_type": "display_data"
    },
    {
     "name": "stdout",
     "output_type": "stream",
     "text": [
      "Rx_TIZANIDINE\n"
     ]
    },
    {
     "data": {
      "text/plain": [
       "array(['No', 'Yes'], dtype=object)"
      ]
     },
     "metadata": {},
     "output_type": "display_data"
    },
    {
     "name": "stdout",
     "output_type": "stream",
     "text": [
      "Rx_days_TIZANIDINE\n"
     ]
    },
    {
     "data": {
      "text/plain": [
       "array([0.000e+00, 3.650e+02, 7.300e+02, 1.220e+02, 3.000e+01, 2.190e+03,\n",
       "       1.460e+03, 1.000e+00, 2.555e+03, 1.095e+03, 1.825e+03, 1.820e+02,\n",
       "       2.000e+00, 9.100e+01, 6.100e+01, 2.500e+01, 2.430e+02, 3.650e+03,\n",
       "       2.100e+01, 7.300e+03, 2.920e+03, 5.470e+02, 1.400e+01, 2.130e+02,\n",
       "       5.475e+03, 4.560e+02, 1.520e+02, 8.000e+00, 2.000e+01])"
      ]
     },
     "metadata": {},
     "output_type": "display_data"
    },
    {
     "name": "stdout",
     "output_type": "stream",
     "text": [
      "Rx_RISEDRONATE\n"
     ]
    },
    {
     "data": {
      "text/plain": [
       "array(['No', 'Yes'], dtype=object)"
      ]
     },
     "metadata": {},
     "output_type": "display_data"
    },
    {
     "name": "stdout",
     "output_type": "stream",
     "text": [
      "Rx_days_RISEDRONATE\n"
     ]
    },
    {
     "data": {
      "text/plain": [
       "array([0.000e+00, 7.300e+02, 1.820e+02, 1.520e+02, 9.000e+01, 3.650e+03,\n",
       "       1.095e+03, 5.470e+02, 1.460e+03, 3.650e+02, 1.825e+03, 2.555e+03,\n",
       "       2.100e+01, 6.100e+01, 2.430e+02, 2.000e+01, 5.475e+03, 4.200e+01,\n",
       "       2.920e+03, 7.300e+03, 1.000e+00])"
      ]
     },
     "metadata": {},
     "output_type": "display_data"
    },
    {
     "name": "stdout",
     "output_type": "stream",
     "text": [
      "Rx_BRIMONIDINE OPHTHALMIC\n"
     ]
    },
    {
     "data": {
      "text/plain": [
       "array(['No', 'Yes'], dtype=object)"
      ]
     },
     "metadata": {},
     "output_type": "display_data"
    },
    {
     "name": "stdout",
     "output_type": "stream",
     "text": [
      "Rx_days_BRIMONIDINE OPHTHALMIC\n"
     ]
    },
    {
     "data": {
      "text/plain": [
       "array([    0. ,   365. ,   182. ,  5475. ,   730. ,  3650. ,  1460. ,\n",
       "         274. ,  5840. ,   547. ,  1825. ,  1095. ,   243. ,  2920. ,\n",
       "         213. ,    61. ,    30. ,  7300. , 11315. ,  4745. ,  6935. ,\n",
       "         152. ,   426. ,    91. ,  2555. ,  2190. , 10950. ,  1870.5,\n",
       "       18250. ])"
      ]
     },
     "metadata": {},
     "output_type": "display_data"
    },
    {
     "name": "stdout",
     "output_type": "stream",
     "text": [
      "Rx_TIMOLOL OPHTHALMIC\n"
     ]
    },
    {
     "data": {
      "text/plain": [
       "array(['No', 'Yes'], dtype=object)"
      ]
     },
     "metadata": {},
     "output_type": "display_data"
    },
    {
     "name": "stdout",
     "output_type": "stream",
     "text": [
      "Rx_days_TIMOLOL OPHTHALMIC\n"
     ]
    },
    {
     "data": {
      "text/plain": [
       "array([0.0000e+00, 4.3800e+03, 1.0950e+04, 7.3000e+02, 1.8200e+02,\n",
       "       1.0950e+03, 1.8250e+03, 5.4750e+03, 3.6500e+03, 5.1100e+03,\n",
       "       2.1900e+03, 5.4700e+02, 8.3950e+03, 1.4600e+03, 7.3000e+03,\n",
       "       6.1000e+01, 9.1000e+01, 3.6500e+02, 2.0000e+00, 5.4800e+02,\n",
       "       1.4235e+04, 3.3400e+02, 2.7400e+02, 4.2000e+01, 2.7525e+03,\n",
       "       2.5550e+03])"
      ]
     },
     "metadata": {},
     "output_type": "display_data"
    },
    {
     "name": "stdout",
     "output_type": "stream",
     "text": [
      "Rx_IPRATROPIUM\n"
     ]
    },
    {
     "data": {
      "text/plain": [
       "array(['No', 'Yes'], dtype=object)"
      ]
     },
     "metadata": {},
     "output_type": "display_data"
    },
    {
     "name": "stdout",
     "output_type": "stream",
     "text": [
      "Rx_days_IPRATROPIUM\n"
     ]
    },
    {
     "data": {
      "text/plain": [
       "array([0.000e+00, 6.100e+01, 5.470e+02, 1.820e+02, 1.825e+03, 3.650e+03,\n",
       "       7.000e+00, 1.220e+02, 1.095e+04, 3.650e+02, 5.475e+03, 1.460e+03,\n",
       "       2.190e+03, 7.300e+02, 2.555e+03, 6.205e+03, 1.095e+03, 3.000e+01,\n",
       "       7.300e+03, 4.380e+03, 2.000e+00, 2.920e+03, 3.000e+00, 2.100e+01,\n",
       "       6.570e+03, 1.825e+04])"
      ]
     },
     "metadata": {},
     "output_type": "display_data"
    },
    {
     "name": "stdout",
     "output_type": "stream",
     "text": [
      "Rx_ROPINIROLE\n"
     ]
    },
    {
     "data": {
      "text/plain": [
       "array(['No', 'Yes'], dtype=object)"
      ]
     },
     "metadata": {},
     "output_type": "display_data"
    },
    {
     "name": "stdout",
     "output_type": "stream",
     "text": [
      "Rx_days_ROPINIROLE\n"
     ]
    },
    {
     "data": {
      "text/plain": [
       "array([0.000e+00, 3.000e+01, 2.100e+01, 6.100e+01, 7.300e+02, 3.650e+02,\n",
       "       1.095e+03, 1.825e+03, 1.400e+01, 4.200e+01, 1.000e+00, 1.220e+02,\n",
       "       9.100e+01, 1.460e+03, 1.520e+02, 3.650e+03, 2.920e+03, 1.820e+02,\n",
       "       2.190e+03, 3.285e+03, 7.000e+00, 2.555e+03, 5.475e+03, 1.200e+01,\n",
       "       8.210e+02, 2.000e+00, 7.300e+03])"
      ]
     },
     "metadata": {},
     "output_type": "display_data"
    },
    {
     "name": "stdout",
     "output_type": "stream",
     "text": [
      "Rx_CEFDINIR\n"
     ]
    },
    {
     "data": {
      "text/plain": [
       "array(['No', 'Yes'], dtype=object)"
      ]
     },
     "metadata": {},
     "output_type": "display_data"
    },
    {
     "name": "stdout",
     "output_type": "stream",
     "text": [
      "Rx_days_CEFDINIR\n"
     ]
    },
    {
     "data": {
      "text/plain": [
       "array([   0.,    7.,   30.,   14.,   10.,    2., 1095.,    8.])"
      ]
     },
     "metadata": {},
     "output_type": "display_data"
    },
    {
     "name": "stdout",
     "output_type": "stream",
     "text": [
      "Rx_INSULIN ISOPHANE; INSULIN REGULAR\n"
     ]
    },
    {
     "data": {
      "text/plain": [
       "array(['No', 'Yes'], dtype=object)"
      ]
     },
     "metadata": {},
     "output_type": "display_data"
    },
    {
     "name": "stdout",
     "output_type": "stream",
     "text": [
      "Rx_days_INSULIN ISOPHANE; INSULIN REGULAR\n"
     ]
    },
    {
     "data": {
      "text/plain": [
       "array([    0.,  5475.,  2555.,   213.,  3285.,  1095.,  3650.,  2920.,\n",
       "        6570., 10950.,  5840.,  5110.,  4380.,   182.,  1460.,  2190.,\n",
       "         365.,   730.,  7300.,   274.,  1825.,   243.,  6205.,  4745.,\n",
       "        4015.,  9125.,  8030.,    61., 14235.,  8395.,   334.])"
      ]
     },
     "metadata": {},
     "output_type": "display_data"
    },
    {
     "name": "stdout",
     "output_type": "stream",
     "text": [
      "Rx_GLYBURIDE; METFORMIN\n"
     ]
    },
    {
     "data": {
      "text/plain": [
       "array(['No', 'Yes'], dtype=object)"
      ]
     },
     "metadata": {},
     "output_type": "display_data"
    },
    {
     "name": "stdout",
     "output_type": "stream",
     "text": [
      "Rx_days_GLYBURIDE; METFORMIN\n"
     ]
    },
    {
     "data": {
      "text/plain": [
       "array([   0.,  730., 1095.,  547.,  365., 7300., 2920., 1825., 2555.,\n",
       "         61.,  213., 1460., 6570., 3650., 2190., 5475., 4380.,   91.,\n",
       "        122., 6205., 5110.,   21., 9490.,  274., 4015., 4745.,   30.,\n",
       "        578.])"
      ]
     },
     "metadata": {},
     "output_type": "display_data"
    },
    {
     "name": "stdout",
     "output_type": "stream",
     "text": [
      "Rx_TRIAMCINOLONE TOPICAL\n"
     ]
    },
    {
     "data": {
      "text/plain": [
       "array(['No', 'Yes'], dtype=object)"
      ]
     },
     "metadata": {},
     "output_type": "display_data"
    },
    {
     "name": "stdout",
     "output_type": "stream",
     "text": [
      "Rx_days_TRIAMCINOLONE TOPICAL\n"
     ]
    },
    {
     "data": {
      "text/plain": [
       "array([0.000e+00, 1.820e+02, 3.650e+03, 6.100e+01, 1.095e+03, 7.300e+02,\n",
       "       1.825e+03, 3.000e+01, 2.555e+03, 3.650e+02, 1.400e+01, 2.190e+03,\n",
       "       9.125e+03, 1.000e+01, 6.570e+03, 5.470e+02, 9.100e+01, 7.000e+00,\n",
       "       1.460e+03, 5.475e+03, 1.095e+04, 2.000e+00, 1.220e+02, 1.460e+04])"
      ]
     },
     "metadata": {},
     "output_type": "display_data"
    },
    {
     "name": "stdout",
     "output_type": "stream",
     "text": [
      "Rx_COLCHICINE\n"
     ]
    },
    {
     "data": {
      "text/plain": [
       "array(['No', 'Yes'], dtype=object)"
      ]
     },
     "metadata": {},
     "output_type": "display_data"
    },
    {
     "name": "stdout",
     "output_type": "stream",
     "text": [
      "Rx_days_COLCHICINE\n"
     ]
    },
    {
     "data": {
      "text/plain": [
       "array([0.000e+00, 2.555e+03, 5.110e+03, 7.300e+02, 7.000e+00, 1.820e+02,\n",
       "       6.100e+01, 3.650e+03, 5.000e+00, 2.430e+02, 1.220e+02, 3.000e+01,\n",
       "       3.650e+02, 9.120e+02, 1.095e+03, 7.300e+03, 2.920e+03, 1.400e+01,\n",
       "       1.825e+03, 1.460e+03, 2.190e+03, 9.100e+01, 8.760e+03, 4.200e+01,\n",
       "       5.475e+03, 3.285e+03, 1.000e+01, 1.520e+02])"
      ]
     },
     "metadata": {},
     "output_type": "display_data"
    },
    {
     "name": "stdout",
     "output_type": "stream",
     "text": [
      "Rx_ACYCLOVIR\n"
     ]
    },
    {
     "data": {
      "text/plain": [
       "array(['No', 'Yes'], dtype=object)"
      ]
     },
     "metadata": {},
     "output_type": "display_data"
    },
    {
     "name": "stdout",
     "output_type": "stream",
     "text": [
      "Rx_days_ACYCLOVIR\n"
     ]
    },
    {
     "data": {
      "text/plain": [
       "array([0.000e+00, 3.650e+03, 1.820e+02, 1.825e+03, 1.095e+03, 1.000e+00,\n",
       "       5.475e+03, 7.300e+03, 5.000e+00, 7.300e+02, 1.400e+01, 3.000e+00,\n",
       "       2.430e+02, 3.040e+02, 3.000e+01, 7.000e+00, 5.470e+02, 9.100e+01,\n",
       "       2.000e+00, 6.205e+03, 4.380e+03, 3.650e+02, 1.000e+01, 4.260e+02,\n",
       "       6.600e+01, 1.460e+03, 1.220e+02, 9.125e+03, 1.095e+04, 5.110e+03,\n",
       "       6.100e+01, 1.520e+02, 2.100e+01, 3.285e+03])"
      ]
     },
     "metadata": {},
     "output_type": "display_data"
    },
    {
     "name": "stdout",
     "output_type": "stream",
     "text": [
      "Rx_RALOXIFENE\n"
     ]
    },
    {
     "data": {
      "text/plain": [
       "array(['No', 'Yes'], dtype=object)"
      ]
     },
     "metadata": {},
     "output_type": "display_data"
    },
    {
     "name": "stdout",
     "output_type": "stream",
     "text": [
      "Rx_days_RALOXIFENE\n"
     ]
    },
    {
     "data": {
      "text/plain": [
       "array([    0.,   730.,  1460.,  1825.,  2555.,  5475.,   182.,  1095.,\n",
       "        3650.,  7300.,    91.,   365.,  3285.,  2920.,   122.,  4380.,\n",
       "        2190.,    30.,  9125.,    61.,   334., 18250., 14600.,  4015.,\n",
       "        6570., 10950.])"
      ]
     },
     "metadata": {},
     "output_type": "display_data"
    },
    {
     "name": "stdout",
     "output_type": "stream",
     "text": [
      "Rx_RABEPRAZOLE\n"
     ]
    },
    {
     "data": {
      "text/plain": [
       "array(['No', 'Yes'], dtype=object)"
      ]
     },
     "metadata": {},
     "output_type": "display_data"
    },
    {
     "name": "stdout",
     "output_type": "stream",
     "text": [
      "Rx_days_RABEPRAZOLE\n"
     ]
    },
    {
     "data": {
      "text/plain": [
       "array([0.000e+00, 1.825e+03, 3.650e+02, 1.460e+03, 1.095e+03, 5.000e+00,\n",
       "       7.300e+02, 9.125e+03, 1.000e+00, 6.100e+01, 7.000e+00, 3.000e+01,\n",
       "       4.000e+00, 3.650e+03, 2.430e+02, 3.000e+00, 2.190e+03, 4.500e+01,\n",
       "       5.470e+02, 3.340e+02, 9.120e+02, 1.400e+01, 5.475e+03, 2.555e+03,\n",
       "       1.900e+01, 5.110e+03, 1.820e+02, 1.220e+02])"
      ]
     },
     "metadata": {},
     "output_type": "display_data"
    },
    {
     "name": "stdout",
     "output_type": "stream",
     "text": [
      "Rx_NITROFURANTOIN\n"
     ]
    },
    {
     "data": {
      "text/plain": [
       "array(['No', 'Yes'], dtype=object)"
      ]
     },
     "metadata": {},
     "output_type": "display_data"
    },
    {
     "name": "stdout",
     "output_type": "stream",
     "text": [
      "Rx_days_NITROFURANTOIN\n"
     ]
    },
    {
     "data": {
      "text/plain": [
       "array([0.000e+00, 2.555e+03, 3.000e+01, 1.400e+01, 6.100e+01, 7.300e+02,\n",
       "       1.825e+03, 5.470e+02, 4.000e+00, 2.000e+00, 1.000e+01, 1.095e+03,\n",
       "       1.820e+02, 7.000e+00, 5.475e+03, 1.000e+00, 2.190e+03, 3.650e+02,\n",
       "       9.125e+03, 8.000e+00, 4.380e+03, 3.000e+00, 2.920e+03, 1.460e+03,\n",
       "       9.100e+01, 7.300e+03, 2.430e+02, 5.000e+00])"
      ]
     },
     "metadata": {},
     "output_type": "display_data"
    },
    {
     "name": "stdout",
     "output_type": "stream",
     "text": [
      "Rx_TRIAMTERENE\n"
     ]
    },
    {
     "data": {
      "text/plain": [
       "array(['No', 'Yes'], dtype=object)"
      ]
     },
     "metadata": {},
     "output_type": "display_data"
    },
    {
     "name": "stdout",
     "output_type": "stream",
     "text": [
      "Rx_days_TRIAMTERENE\n"
     ]
    },
    {
     "data": {
      "text/plain": [
       "array([    0.,  1460.,  1095.,  5475.,  1825.,  3650.,   122.,  6205.,\n",
       "        9125.,   730.,   152.,  4380.,  4015.,  2190.,   182.,    61.,\n",
       "        7300., 10950.,    30.,  2920.,  3285.,    91.,   365.,  2555.,\n",
       "         547.,  6570.,   243.,   548., 10220.])"
      ]
     },
     "metadata": {},
     "output_type": "display_data"
    },
    {
     "name": "stdout",
     "output_type": "stream",
     "text": [
      "Rx_TOLTERODINE\n"
     ]
    },
    {
     "data": {
      "text/plain": [
       "array(['No', 'Yes'], dtype=object)"
      ]
     },
     "metadata": {},
     "output_type": "display_data"
    },
    {
     "name": "stdout",
     "output_type": "stream",
     "text": [
      "Rx_days_TOLTERODINE\n"
     ]
    },
    {
     "data": {
      "text/plain": [
       "array([   0.,  730.,  365., 1825.,  243.,   61., 1095.,   91.,  182.,\n",
       "         30.,  547., 3650.,  152., 2920., 2190., 1460.,  912.,  122.,\n",
       "       4380., 2555., 9125.,  456., 5475.,  334., 7300.])"
      ]
     },
     "metadata": {},
     "output_type": "display_data"
    },
    {
     "name": "stdout",
     "output_type": "stream",
     "text": [
      "Rx_SUMATRIPTAN\n"
     ]
    },
    {
     "data": {
      "text/plain": [
       "array(['No', 'Yes'], dtype=object)"
      ]
     },
     "metadata": {},
     "output_type": "display_data"
    },
    {
     "name": "stdout",
     "output_type": "stream",
     "text": [
      "Rx_days_SUMATRIPTAN\n"
     ]
    },
    {
     "data": {
      "text/plain": [
       "array([0.0000e+00, 2.4300e+02, 3.6500e+03, 2.1900e+03, 5.4750e+03,\n",
       "       5.4700e+02, 1.2775e+03, 2.9200e+03, 1.8250e+03, 1.0950e+03,\n",
       "       7.3000e+02, 7.3000e+03, 3.6500e+02, 2.5550e+03, 1.4600e+03,\n",
       "       6.1000e+01, 3.0000e+01, 9.1250e+03, 4.7450e+03, 4.3800e+03,\n",
       "       1.2200e+02, 9.1000e+01, 3.9500e+02, 1.8200e+02, 8.7600e+03,\n",
       "       3.0400e+02, 2.5700e+03, 8.3950e+03, 2.0000e+00, 9.0000e+01,\n",
       "       5.0000e+00, 1.0950e+04])"
      ]
     },
     "metadata": {},
     "output_type": "display_data"
    },
    {
     "name": "stdout",
     "output_type": "stream",
     "text": [
      "Rx_PREDNISOLONE\n"
     ]
    },
    {
     "data": {
      "text/plain": [
       "array(['No', 'Yes'], dtype=object)"
      ]
     },
     "metadata": {},
     "output_type": "display_data"
    },
    {
     "name": "stdout",
     "output_type": "stream",
     "text": [
      "Rx_days_PREDNISOLONE\n"
     ]
    },
    {
     "data": {
      "text/plain": [
       "array([0.00e+00, 2.10e+01, 5.11e+03, 3.65e+02, 9.10e+01, 3.00e+01,\n",
       "       7.30e+02, 3.00e+00, 7.00e+00])"
      ]
     },
     "metadata": {},
     "output_type": "display_data"
    },
    {
     "name": "stdout",
     "output_type": "stream",
     "text": [
      "Rx_ISOSORBIDE\n"
     ]
    },
    {
     "data": {
      "text/plain": [
       "array(['No', 'Yes'], dtype=object)"
      ]
     },
     "metadata": {},
     "output_type": "display_data"
    },
    {
     "name": "stdout",
     "output_type": "stream",
     "text": [
      "Rx_days_ISOSORBIDE\n"
     ]
    },
    {
     "data": {
      "text/plain": [
       "array([    0.,  2190.,   547.,  1825.,   730.,  7300.,  1095., 14600.,\n",
       "          61.,  1460.,   608.,  3650.,   182.,   365.,   152.,   213.,\n",
       "        5475.,   334., 10220.,  2555.,    91.,  2920.,  4380.,  4015.,\n",
       "          30.])"
      ]
     },
     "metadata": {},
     "output_type": "display_data"
    },
    {
     "name": "stdout",
     "output_type": "stream",
     "text": [
      "Rx_DROSPIRENONE; ETHINYL ESTRADIOL\n"
     ]
    },
    {
     "data": {
      "text/plain": [
       "array(['No', 'Yes'], dtype=object)"
      ]
     },
     "metadata": {},
     "output_type": "display_data"
    },
    {
     "name": "stdout",
     "output_type": "stream",
     "text": [
      "Rx_days_DROSPIRENONE; ETHINYL ESTRADIOL\n"
     ]
    },
    {
     "data": {
      "text/plain": [
       "array([0.000e+00, 7.300e+02, 1.460e+03, 4.260e+02, 1.825e+03, 3.650e+02,\n",
       "       6.100e+01, 1.220e+02, 1.820e+02, 9.100e+01, 3.000e+01, 1.095e+03,\n",
       "       7.000e+00, 4.000e+00, 2.430e+02, 3.650e+03, 2.555e+03, 1.520e+02,\n",
       "       5.470e+02, 2.740e+02, 4.380e+03, 2.920e+03, 4.015e+03, 9.120e+02,\n",
       "       5.475e+03, 2.190e+03, 1.700e+01])"
      ]
     },
     "metadata": {},
     "output_type": "display_data"
    },
    {
     "name": "stdout",
     "output_type": "stream",
     "text": [
      "Rx_ACETAMINOPHEN; PROPOXYPHENE\n"
     ]
    },
    {
     "data": {
      "text/plain": [
       "array(['No', 'Yes'], dtype=object)"
      ]
     },
     "metadata": {},
     "output_type": "display_data"
    },
    {
     "name": "stdout",
     "output_type": "stream",
     "text": [
      "Rx_days_ACETAMINOPHEN; PROPOXYPHENE\n"
     ]
    },
    {
     "data": {
      "text/plain": [
       "array([0.0000e+00, 1.8250e+03, 1.4000e+01, 5.4750e+03, 6.1000e+01,\n",
       "       1.5200e+02, 3.6500e+02, 2.5000e+01, 4.2000e+01, 1.0950e+04,\n",
       "       3.0000e+01, 7.3000e+02, 2.1900e+03, 4.3800e+03, 1.2200e+02,\n",
       "       7.3000e+03, 3.6500e+03, 1.0950e+03, 2.0000e+01, 1.0000e+00,\n",
       "       1.4600e+03, 1.8200e+02, 3.2850e+03, 5.0000e+00, 4.7450e+03,\n",
       "       1.2775e+04, 5.4700e+02, 2.4300e+02, 6.6900e+02, 1.6750e+02,\n",
       "       4.0150e+03, 7.0000e+00, 6.0000e+00, 3.0000e+00, 1.7000e+01,\n",
       "       8.0000e+00, 5.1100e+03, 2.7400e+02, 9.1000e+01, 3.9500e+02])"
      ]
     },
     "metadata": {},
     "output_type": "display_data"
    },
    {
     "name": "stdout",
     "output_type": "stream",
     "text": [
      "Rx_PENICILLIN\n"
     ]
    },
    {
     "data": {
      "text/plain": [
       "array(['No', 'Yes'], dtype=object)"
      ]
     },
     "metadata": {},
     "output_type": "display_data"
    },
    {
     "name": "stdout",
     "output_type": "stream",
     "text": [
      "Rx_days_PENICILLIN\n"
     ]
    },
    {
     "data": {
      "text/plain": [
       "array([0.000e+00, 1.000e+01, 1.400e+01, 2.800e+01, 3.000e+01, 3.650e+03,\n",
       "       2.100e+01, 4.000e+00, 5.000e+00, 1.200e+01, 8.000e+00, 3.000e+00,\n",
       "       6.000e+00, 1.095e+03, 7.000e+00, 2.000e+00, 9.100e+01, 2.000e+01,\n",
       "       1.000e+00, 1.500e+01])"
      ]
     },
     "metadata": {},
     "output_type": "display_data"
    },
    {
     "name": "stdout",
     "output_type": "stream",
     "text": [
      "Rx_INSULIN REGULAR\n"
     ]
    },
    {
     "data": {
      "text/plain": [
       "array(['No', 'Yes'], dtype=object)"
      ]
     },
     "metadata": {},
     "output_type": "display_data"
    },
    {
     "name": "stdout",
     "output_type": "stream",
     "text": [
      "Rx_days_INSULIN REGULAR\n"
     ]
    },
    {
     "data": {
      "text/plain": [
       "array([0.000e+00, 2.190e+03, 5.840e+03, 2.920e+03, 5.475e+03, 7.300e+03,\n",
       "       3.000e+01, 1.095e+03, 3.650e+02, 3.650e+03, 4.380e+03, 7.300e+02,\n",
       "       7.665e+03, 1.400e+01, 8.030e+03, 1.825e+03, 3.000e+00, 2.555e+03,\n",
       "       4.015e+03, 8.395e+03, 1.460e+04, 9.125e+03, 1.520e+02, 1.220e+02,\n",
       "       1.095e+04, 6.100e+01, 3.285e+03, 1.460e+03, 7.000e+00])"
      ]
     },
     "metadata": {},
     "output_type": "display_data"
    },
    {
     "name": "stdout",
     "output_type": "stream",
     "text": [
      "Rx_MEMANTINE\n"
     ]
    },
    {
     "data": {
      "text/plain": [
       "array(['No', 'Yes'], dtype=object)"
      ]
     },
     "metadata": {},
     "output_type": "display_data"
    },
    {
     "name": "stdout",
     "output_type": "stream",
     "text": [
      "Rx_days_MEMANTINE\n"
     ]
    },
    {
     "data": {
      "text/plain": [
       "array([0.000e+00, 1.095e+03, 6.100e+01, 1.820e+02, 1.000e+00, 1.825e+03,\n",
       "       2.555e+03, 1.460e+03, 4.560e+02, 3.650e+03, 2.920e+03, 2.740e+02,\n",
       "       3.650e+02, 7.300e+02, 2.190e+03, 2.130e+02, 3.000e+01, 1.600e+01,\n",
       "       5.470e+02])"
      ]
     },
     "metadata": {},
     "output_type": "display_data"
    },
    {
     "name": "stdout",
     "output_type": "stream",
     "text": [
      "Rx_DIPHENHYDRAMINE\n"
     ]
    },
    {
     "data": {
      "text/plain": [
       "array(['No', 'Yes'], dtype=object)"
      ]
     },
     "metadata": {},
     "output_type": "display_data"
    },
    {
     "name": "stdout",
     "output_type": "stream",
     "text": [
      "Rx_days_DIPHENHYDRAMINE\n"
     ]
    },
    {
     "data": {
      "text/plain": [
       "array([0.000e+00, 9.100e+01, 2.430e+02, 3.285e+03, 2.555e+03, 1.460e+03,\n",
       "       3.040e+02, 1.095e+03, 3.000e+01, 3.000e+00, 1.825e+03, 3.650e+02,\n",
       "       2.000e+00, 4.015e+03, 6.100e+01, 7.000e+00, 2.920e+03, 8.760e+03,\n",
       "       1.820e+02, 5.475e+03, 3.650e+03, 7.300e+03, 7.300e+02, 5.110e+03])"
      ]
     },
     "metadata": {},
     "output_type": "display_data"
    },
    {
     "name": "stdout",
     "output_type": "stream",
     "text": [
      "Rx_MINOCYCLINE\n"
     ]
    },
    {
     "data": {
      "text/plain": [
       "array(['No', 'Yes'], dtype=object)"
      ]
     },
     "metadata": {},
     "output_type": "display_data"
    },
    {
     "name": "stdout",
     "output_type": "stream",
     "text": [
      "Rx_days_MINOCYCLINE\n"
     ]
    },
    {
     "data": {
      "text/plain": [
       "array([0.000e+00, 1.220e+02, 1.095e+03, 7.300e+02, 3.000e+01, 3.650e+02,\n",
       "       1.820e+02, 2.920e+03, 5.170e+02, 1.460e+03, 6.100e+01, 3.650e+03,\n",
       "       5.470e+02, 1.825e+03, 3.000e+00, 3.340e+02, 7.000e+00, 9.100e+01,\n",
       "       4.000e+00, 2.100e+01, 4.015e+03, 1.400e+01, 7.300e+03, 2.430e+02,\n",
       "       2.700e+01])"
      ]
     },
     "metadata": {},
     "output_type": "display_data"
    },
    {
     "name": "stdout",
     "output_type": "stream",
     "text": [
      "Rx_METHOCARBAMOL\n"
     ]
    },
    {
     "data": {
      "text/plain": [
       "array(['No', 'Yes'], dtype=object)"
      ]
     },
     "metadata": {},
     "output_type": "display_data"
    },
    {
     "name": "stdout",
     "output_type": "stream",
     "text": [
      "Rx_days_METHOCARBAMOL\n"
     ]
    },
    {
     "data": {
      "text/plain": [
       "array([0.000e+00, 1.220e+02, 3.650e+03, 3.000e+01, 4.380e+03, 1.095e+03,\n",
       "       1.820e+02, 5.840e+03, 1.400e+01, 3.650e+02, 7.300e+03, 2.100e+01,\n",
       "       4.200e+01, 1.460e+03, 7.300e+02, 5.470e+02, 5.000e+00, 2.130e+02,\n",
       "       1.825e+03, 2.000e+00, 2.430e+02, 6.570e+03, 6.100e+01, 1.520e+02,\n",
       "       6.000e+01, 5.110e+03, 6.000e+00, 1.000e+00, 4.745e+03, 2.555e+03,\n",
       "       8.760e+03, 5.480e+02, 5.600e+01, 2.190e+03, 3.285e+03])"
      ]
     },
     "metadata": {},
     "output_type": "display_data"
    }
   ],
   "source": [
    "# Looking at the changed values\n",
    "for col in df.columns:\n",
    "    print(col)\n",
    "    display(df[col].unique())"
   ]
  },
  {
   "cell_type": "code",
   "execution_count": 24,
   "metadata": {
    "ExecuteTime": {
     "end_time": "2021-02-16T05:42:43.203723Z",
     "start_time": "2021-02-16T05:42:43.187725Z"
    }
   },
   "outputs": [
    {
     "data": {
      "text/plain": [
       "['depression',\n",
       " 'gender',\n",
       " 'age',\n",
       " 'race',\n",
       " 'citizenship',\n",
       " 'education_level',\n",
       " 'marital_status',\n",
       " 'household_size',\n",
       " 'pregnant',\n",
       " 'birth_place',\n",
       " 'veteran',\n",
       " 'household_income',\n",
       " 'asthma',\n",
       " 'asthma_onset',\n",
       " 'asthma_currently',\n",
       " 'asthma_emergency',\n",
       " 'anemia',\n",
       " 'ever_overweight',\n",
       " 'blood_transfusion',\n",
       " 'arthritis',\n",
       " 'heart_failure',\n",
       " 'heart_disease',\n",
       " 'angina',\n",
       " 'heart_attack',\n",
       " 'stroke',\n",
       " 'emphysema',\n",
       " 'bronchitis',\n",
       " 'liver_condition',\n",
       " 'thyroid_problem',\n",
       " 'bronchitis_currently',\n",
       " 'liver_condition_currently',\n",
       " 'thyroid_problem_currently',\n",
       " 'cancer',\n",
       " 'first_cancer_type',\n",
       " 'second_cancer_type',\n",
       " 'third_cancer_type',\n",
       " 'fourth_cancer_count',\n",
       " 'heart_attack_relative',\n",
       " 'asthma_relative',\n",
       " 'diabetes_relative',\n",
       " 'hay_fever',\n",
       " 'arthritis_onset',\n",
       " 'heart_failure_onset',\n",
       " 'heart_disease_onset',\n",
       " 'angina_onset',\n",
       " 'heart_attack_onset',\n",
       " 'stroke_onset',\n",
       " 'emphysema_onset',\n",
       " 'bronchitis_onset',\n",
       " 'liver_condition_onset',\n",
       " 'thyroid_problem_onset',\n",
       " 'cancer_onset',\n",
       " 'arthritis_type',\n",
       " 'first_cancer_count',\n",
       " 'second_cancer_count',\n",
       " 'third_cancer_count',\n",
       " 'weight',\n",
       " 'height',\n",
       " 'BMI',\n",
       " 'pulse',\n",
       " 'irregular_pulse',\n",
       " 'systolic',\n",
       " 'diastolic',\n",
       " 'total_cholesterol',\n",
       " 'HDL',\n",
       " 'triglyceride',\n",
       " 'LDL',\n",
       " 'albumin',\n",
       " 'ALT',\n",
       " 'AST',\n",
       " 'ALP',\n",
       " 'BUN',\n",
       " 'calcium',\n",
       " 'CO2',\n",
       " 'creatinine',\n",
       " 'GGT',\n",
       " 'glucose',\n",
       " 'iron',\n",
       " 'LHD',\n",
       " 'phosphorus',\n",
       " 'bilirubin',\n",
       " 'total_protein',\n",
       " 'uric_acid',\n",
       " 'sodium',\n",
       " 'potassium',\n",
       " 'chloride',\n",
       " 'osmolality',\n",
       " 'globulin',\n",
       " 'white_BCC',\n",
       " 'lymphocyte_percent',\n",
       " 'monocyte_percent',\n",
       " 'neutrophils_percent',\n",
       " 'eosinophils_percent',\n",
       " 'basophils_percent',\n",
       " 'lymphocyte_count',\n",
       " 'monocyte_count',\n",
       " 'neutrophils_count',\n",
       " 'eosinophils_count',\n",
       " 'basophils_count',\n",
       " 'RBC_count',\n",
       " 'hemoglobin',\n",
       " 'hematocrit',\n",
       " 'MCV',\n",
       " 'MCH',\n",
       " 'MCHC',\n",
       " 'RDW',\n",
       " 'platelet_count',\n",
       " 'MPV',\n",
       " 'full_time_work',\n",
       " 'work_type',\n",
       " 'time_in_current_job',\n",
       " 'out_of_work',\n",
       " 'trouble_sleeping_history',\n",
       " 'sleep_hours',\n",
       " 'vigorous_recreation',\n",
       " 'moderate_recreation',\n",
       " 'sedentary_time',\n",
       " 'vigorous_work',\n",
       " 'moderate_work',\n",
       " 'drinks_per_occasion',\n",
       " 'lifetime_alcohol_consumption',\n",
       " 'drinks_past_year',\n",
       " 'cant_work',\n",
       " 'limited_work',\n",
       " 'walking_equipment',\n",
       " 'memory_problems',\n",
       " 'limitations',\n",
       " 'healthcare_equipment',\n",
       " 'health_problem_Other Impairment',\n",
       " 'health_problem_Bone or Joint',\n",
       " 'health_problem_Weight',\n",
       " 'health_problem_Back or Neck',\n",
       " 'health_problem_Arthritis',\n",
       " 'health_problem_Cancer',\n",
       " 'health_problem_Other Injury',\n",
       " 'health_problem_Breathing',\n",
       " 'health_problem_Stroke',\n",
       " 'health_problem_Blood Pressure',\n",
       " 'health_problem_Mental Retardation',\n",
       " 'health_problem_Hearing',\n",
       " 'health_problem_Heart',\n",
       " 'health_problem_Vision',\n",
       " 'health_problem_Diabetes',\n",
       " 'health_problem_Birth Defect',\n",
       " 'health_problem_Senility',\n",
       " 'health_problem_Other Developmental',\n",
       " 'marijuana_use',\n",
       " 'marijuana_per_month',\n",
       " 'cocaine_use',\n",
       " 'cocaine_number_uses',\n",
       " 'cocaine_per_month',\n",
       " 'heroine_use',\n",
       " 'heronine_per_month',\n",
       " 'meth_use',\n",
       " 'meth_number_uses',\n",
       " 'meth_per_month',\n",
       " 'inject_drugs',\n",
       " 'rehab_program',\n",
       " 'start_smoking_age',\n",
       " 'current_smoker',\n",
       " 'previous_cigarettes_per_day',\n",
       " 'current_cigarettes_per_day',\n",
       " 'days_quit_smoking',\n",
       " 'household_smokers',\n",
       " 'prescriptions_count',\n",
       " 'Rx_LISINOPRIL',\n",
       " 'Rx_days_LISINOPRIL',\n",
       " 'Rx_METFORMIN',\n",
       " 'Rx_days_METFORMIN',\n",
       " 'Rx_ALBUTEROL',\n",
       " 'Rx_days_ALBUTEROL',\n",
       " 'Rx_LEVOTHYROXINE',\n",
       " 'Rx_days_LEVOTHYROXINE',\n",
       " 'Rx_SIMVASTATIN',\n",
       " 'Rx_days_SIMVASTATIN',\n",
       " 'Rx_ATORVASTATIN',\n",
       " 'Rx_days_ATORVASTATIN',\n",
       " 'Rx_METOPROLOL',\n",
       " 'Rx_days_METOPROLOL',\n",
       " 'Rx_AMLODIPINE',\n",
       " 'Rx_days_AMLODIPINE',\n",
       " 'Rx_OMEPRAZOLE',\n",
       " 'Rx_days_OMEPRAZOLE',\n",
       " 'Rx_HYDROCHLOROTHIAZIDE',\n",
       " 'Rx_days_HYDROCHLOROTHIAZIDE',\n",
       " 'Rx_FUROSEMIDE',\n",
       " 'Rx_days_FUROSEMIDE',\n",
       " 'Rx_ATENOLOL',\n",
       " 'Rx_days_ATENOLOL',\n",
       " 'Rx_LOSARTAN',\n",
       " 'Rx_days_LOSARTAN',\n",
       " 'Rx_MONTELUKAST',\n",
       " 'Rx_days_MONTELUKAST',\n",
       " 'Rx_AMOXICILLIN',\n",
       " 'Rx_days_AMOXICILLIN',\n",
       " 'Rx_ACETAMINOPHEN; HYDROCODONE',\n",
       " 'Rx_days_ACETAMINOPHEN; HYDROCODONE',\n",
       " 'Rx_GABAPENTIN',\n",
       " 'Rx_days_GABAPENTIN',\n",
       " 'Rx_POTASSIUM CHLORIDE',\n",
       " 'Rx_days_POTASSIUM CHLORIDE',\n",
       " 'Rx_GLIPIZIDE',\n",
       " 'Rx_days_GLIPIZIDE',\n",
       " 'Rx_IBUPROFEN',\n",
       " 'Rx_days_IBUPROFEN',\n",
       " 'Rx_RANITIDINE',\n",
       " 'Rx_days_RANITIDINE',\n",
       " 'Rx_CLOPIDOGREL',\n",
       " 'Rx_days_CLOPIDOGREL',\n",
       " 'Rx_PRAVASTATIN',\n",
       " 'Rx_days_PRAVASTATIN',\n",
       " 'Rx_WARFARIN',\n",
       " 'Rx_days_WARFARIN',\n",
       " 'Rx_ESOMEPRAZOLE',\n",
       " 'Rx_days_ESOMEPRAZOLE',\n",
       " 'Rx_FLUTICASONE NASAL',\n",
       " 'Rx_days_FLUTICASONE NASAL',\n",
       " 'Rx_CARVEDILOL',\n",
       " 'Rx_days_CARVEDILOL',\n",
       " 'Rx_ROSUVASTATIN',\n",
       " 'Rx_days_ROSUVASTATIN',\n",
       " 'Rx_INSULIN GLARGINE',\n",
       " 'Rx_days_INSULIN GLARGINE',\n",
       " 'Rx_CETIRIZINE',\n",
       " 'Rx_days_CETIRIZINE',\n",
       " 'Rx_FLUTICASONE; SALMETEROL',\n",
       " 'Rx_days_FLUTICASONE; SALMETEROL',\n",
       " 'Rx_TAMSULOSIN',\n",
       " 'Rx_days_TAMSULOSIN',\n",
       " 'Rx_PANTOPRAZOLE',\n",
       " 'Rx_days_PANTOPRAZOLE',\n",
       " 'Rx_TRAMADOL',\n",
       " 'Rx_days_TRAMADOL',\n",
       " 'Rx_ALPRAZOLAM',\n",
       " 'Rx_days_ALPRAZOLAM',\n",
       " 'Rx_HYDROCHLOROTHIAZIDE; LISINOPRIL',\n",
       " 'Rx_days_HYDROCHLOROTHIAZIDE; LISINOPRIL',\n",
       " 'Rx_LOVASTATIN',\n",
       " 'Rx_days_LOVASTATIN',\n",
       " 'Rx_PREDNISONE',\n",
       " 'Rx_days_PREDNISONE',\n",
       " 'Rx_ALLOPURINOL',\n",
       " 'Rx_days_ALLOPURINOL',\n",
       " 'Rx_NAPROXEN',\n",
       " 'Rx_days_NAPROXEN',\n",
       " 'Rx_VALSARTAN',\n",
       " 'Rx_days_VALSARTAN',\n",
       " 'Rx_ASPIRIN',\n",
       " 'Rx_days_ASPIRIN',\n",
       " 'Rx_ZOLPIDEM',\n",
       " 'Rx_days_ZOLPIDEM',\n",
       " 'Rx_CYCLOBENZAPRINE',\n",
       " 'Rx_days_CYCLOBENZAPRINE',\n",
       " 'Rx_DILTIAZEM',\n",
       " 'Rx_days_DILTIAZEM',\n",
       " 'Rx_ALENDRONATE',\n",
       " 'Rx_days_ALENDRONATE',\n",
       " 'Rx_CLONIDINE',\n",
       " 'Rx_days_CLONIDINE',\n",
       " 'Rx_LANSOPRAZOLE',\n",
       " 'Rx_days_LANSOPRAZOLE',\n",
       " 'Rx_MELOXICAM',\n",
       " 'Rx_days_MELOXICAM',\n",
       " 'Rx_METHYLPHENIDATE',\n",
       " 'Rx_days_METHYLPHENIDATE',\n",
       " 'Rx_HYDROCHLOROTHIAZIDE; TRIAMTERENE',\n",
       " 'Rx_days_HYDROCHLOROTHIAZIDE; TRIAMTERENE',\n",
       " 'Rx_GLIMEPIRIDE',\n",
       " 'Rx_days_GLIMEPIRIDE',\n",
       " 'Rx_CLONAZEPAM',\n",
       " 'Rx_days_CLONAZEPAM',\n",
       " 'Rx_PIOGLITAZONE',\n",
       " 'Rx_days_PIOGLITAZONE',\n",
       " 'Rx_ENALAPRIL',\n",
       " 'Rx_days_ENALAPRIL',\n",
       " 'Rx_FENOFIBRATE',\n",
       " 'Rx_days_FENOFIBRATE',\n",
       " 'Rx_FLUTICASONE',\n",
       " 'Rx_days_FLUTICASONE',\n",
       " 'Rx_GLYBURIDE',\n",
       " 'Rx_days_GLYBURIDE',\n",
       " 'Rx_HYDROCHLOROTHIAZIDE; LOSARTAN',\n",
       " 'Rx_days_HYDROCHLOROTHIAZIDE; LOSARTAN',\n",
       " 'Rx_LORAZEPAM',\n",
       " 'Rx_days_LORAZEPAM',\n",
       " 'Rx_SPIRONOLACTONE',\n",
       " 'Rx_days_SPIRONOLACTONE',\n",
       " 'Rx_NIFEDIPINE',\n",
       " 'Rx_days_NIFEDIPINE',\n",
       " 'Rx_AMPHETAMINE; DEXTROAMPHETAMINE',\n",
       " 'Rx_days_AMPHETAMINE; DEXTROAMPHETAMINE',\n",
       " 'Rx_HYDROCODONE',\n",
       " 'Rx_days_HYDROCODONE',\n",
       " 'Rx_FINASTERIDE',\n",
       " 'Rx_days_FINASTERIDE',\n",
       " 'Rx_FEXOFENADINE',\n",
       " 'Rx_days_FEXOFENADINE',\n",
       " 'Rx_EZETIMIBE',\n",
       " 'Rx_days_EZETIMIBE',\n",
       " 'Rx_ETHINYL ESTRADIOL; NORGESTIMATE',\n",
       " 'Rx_days_ETHINYL ESTRADIOL; NORGESTIMATE',\n",
       " 'Rx_DIGOXIN',\n",
       " 'Rx_days_DIGOXIN',\n",
       " 'Rx_INSULIN ASPART',\n",
       " 'Rx_days_INSULIN ASPART',\n",
       " 'Rx_ETHINYL ESTRADIOL; NORETHINDRONE',\n",
       " 'Rx_days_ETHINYL ESTRADIOL; NORETHINDRONE',\n",
       " 'Rx_AMLODIPINE; BENAZEPRIL',\n",
       " 'Rx_days_AMLODIPINE; BENAZEPRIL',\n",
       " 'Rx_AZITHROMYCIN',\n",
       " 'Rx_days_AZITHROMYCIN',\n",
       " 'Rx_CELECOXIB',\n",
       " 'Rx_days_CELECOXIB',\n",
       " 'Rx_RAMIPRIL',\n",
       " 'Rx_days_RAMIPRIL',\n",
       " 'Rx_BENAZEPRIL',\n",
       " 'Rx_days_BENAZEPRIL',\n",
       " 'Rx_OXYCODONE',\n",
       " 'Rx_days_OXYCODONE',\n",
       " 'Rx_TERAZOSIN',\n",
       " 'Rx_days_TERAZOSIN',\n",
       " 'Rx_FAMOTIDINE',\n",
       " 'Rx_days_FAMOTIDINE',\n",
       " 'Rx_ACETAMINOPHEN; OXYCODONE',\n",
       " 'Rx_days_ACETAMINOPHEN; OXYCODONE',\n",
       " 'Rx_EZETIMIBE; SIMVASTATIN',\n",
       " 'Rx_days_EZETIMIBE; SIMVASTATIN',\n",
       " 'Rx_MOMETASONE NASAL',\n",
       " 'Rx_days_MOMETASONE NASAL',\n",
       " 'Rx_SITAGLIPTIN',\n",
       " 'Rx_days_SITAGLIPTIN',\n",
       " 'Rx_HYDROXYZINE',\n",
       " 'Rx_days_HYDROXYZINE',\n",
       " 'Rx_BUDESONIDE',\n",
       " 'Rx_days_BUDESONIDE',\n",
       " 'Rx_VERAPAMIL',\n",
       " 'Rx_days_VERAPAMIL',\n",
       " 'Rx_PROPRANOLOL',\n",
       " 'Rx_days_PROPRANOLOL',\n",
       " 'Rx_NITROGLYCERIN',\n",
       " 'Rx_days_NITROGLYCERIN',\n",
       " 'Rx_TIOTROPIUM',\n",
       " 'Rx_days_TIOTROPIUM',\n",
       " 'Rx_ISOSORBIDE MONONITRATE',\n",
       " 'Rx_days_ISOSORBIDE MONONITRATE',\n",
       " 'Rx_DONEPEZIL',\n",
       " 'Rx_days_DONEPEZIL',\n",
       " 'Rx_DOXAZOSIN',\n",
       " 'Rx_days_DOXAZOSIN',\n",
       " 'Rx_OXYBUTYNIN',\n",
       " 'Rx_days_OXYBUTYNIN',\n",
       " 'Rx_HYDROCHLOROTHIAZIDE; VALSARTAN',\n",
       " 'Rx_days_HYDROCHLOROTHIAZIDE; VALSARTAN',\n",
       " 'Rx_ESTRADIOL',\n",
       " 'Rx_days_ESTRADIOL',\n",
       " 'Rx_DICLOFENAC',\n",
       " 'Rx_days_DICLOFENAC',\n",
       " 'Rx_LATANOPROST OPHTHALMIC',\n",
       " 'Rx_days_LATANOPROST OPHTHALMIC',\n",
       " 'Rx_HYDRALAZINE',\n",
       " 'Rx_days_HYDRALAZINE',\n",
       " 'Rx_OLMESARTAN',\n",
       " 'Rx_days_OLMESARTAN',\n",
       " 'Rx_SULFAMETHOXAZOLE; TRIMETHOPRIM',\n",
       " 'Rx_days_SULFAMETHOXAZOLE; TRIMETHOPRIM',\n",
       " 'Rx_CEPHALEXIN',\n",
       " 'Rx_days_CEPHALEXIN',\n",
       " 'Rx_GEMFIBROZIL',\n",
       " 'Rx_days_GEMFIBROZIL',\n",
       " 'Rx_INSULIN LISPRO',\n",
       " 'Rx_days_INSULIN LISPRO',\n",
       " 'Rx_PREGABALIN',\n",
       " 'Rx_days_PREGABALIN',\n",
       " 'Rx_AMOXICILLIN; CLAVULANATE',\n",
       " 'Rx_days_AMOXICILLIN; CLAVULANATE',\n",
       " 'Rx_ALBUTEROL; IPRATROPIUM',\n",
       " 'Rx_days_ALBUTEROL; IPRATROPIUM',\n",
       " 'Rx_CONJUGATED ESTROGENS',\n",
       " 'Rx_days_CONJUGATED ESTROGENS',\n",
       " 'Rx_DOXYCYCLINE',\n",
       " 'Rx_days_DOXYCYCLINE',\n",
       " 'Rx_BECLOMETHASONE',\n",
       " 'Rx_days_BECLOMETHASONE',\n",
       " 'Rx_BUSPIRONE',\n",
       " 'Rx_days_BUSPIRONE',\n",
       " 'Rx_DIAZEPAM',\n",
       " 'Rx_days_DIAZEPAM',\n",
       " 'Rx_ACETAMINOPHEN; CODEINE',\n",
       " 'Rx_days_ACETAMINOPHEN; CODEINE',\n",
       " 'Rx_ETHINYL ESTRADIOL; LEVONORGESTREL',\n",
       " 'Rx_days_ETHINYL ESTRADIOL; LEVONORGESTREL',\n",
       " 'Rx_QUINAPRIL',\n",
       " 'Rx_days_QUINAPRIL',\n",
       " 'Rx_INSULIN DETEMIR',\n",
       " 'Rx_days_INSULIN DETEMIR',\n",
       " 'Rx_BUDESONIDE; FORMOTEROL',\n",
       " 'Rx_days_BUDESONIDE; FORMOTEROL',\n",
       " 'Rx_MECLIZINE',\n",
       " 'Rx_days_MECLIZINE',\n",
       " 'Rx_POLYETHYLENE GLYCOL 3350',\n",
       " 'Rx_days_POLYETHYLENE GLYCOL 3350',\n",
       " 'Rx_BACLOFEN',\n",
       " 'Rx_days_BACLOFEN',\n",
       " 'Rx_LISDEXAMFETAMINE',\n",
       " 'Rx_days_LISDEXAMFETAMINE',\n",
       " 'Rx_METOCLOPRAMIDE',\n",
       " 'Rx_days_METOCLOPRAMIDE',\n",
       " 'Rx_LEVALBUTEROL',\n",
       " 'Rx_days_LEVALBUTEROL',\n",
       " 'Rx_METHOTREXATE',\n",
       " 'Rx_days_METHOTREXATE',\n",
       " 'Rx_PROMETHAZINE',\n",
       " 'Rx_days_PROMETHAZINE',\n",
       " 'Rx_TEMAZEPAM',\n",
       " 'Rx_days_TEMAZEPAM',\n",
       " 'Rx_LEVETIRACETAM',\n",
       " 'Rx_days_LEVETIRACETAM',\n",
       " 'Rx_IRBESARTAN',\n",
       " 'Rx_days_IRBESARTAN',\n",
       " 'Rx_DOCUSATE',\n",
       " 'Rx_days_DOCUSATE',\n",
       " 'Rx_HYDROCHLOROTHIAZIDE; OLMESARTAN',\n",
       " 'Rx_days_HYDROCHLOROTHIAZIDE; OLMESARTAN',\n",
       " 'Rx_ONDANSETRON',\n",
       " 'Rx_days_ONDANSETRON',\n",
       " 'Rx_CIPROFLOXACIN',\n",
       " 'Rx_days_CIPROFLOXACIN',\n",
       " 'Rx_PHENYTOIN',\n",
       " 'Rx_days_PHENYTOIN',\n",
       " 'Rx_AMIODARONE',\n",
       " 'Rx_days_AMIODARONE',\n",
       " 'Rx_NIACIN',\n",
       " 'Rx_days_NIACIN',\n",
       " 'Rx_HYDROXYCHLOROQUINE',\n",
       " 'Rx_days_HYDROXYCHLOROQUINE',\n",
       " 'Rx_TIZANIDINE',\n",
       " 'Rx_days_TIZANIDINE',\n",
       " 'Rx_RISEDRONATE',\n",
       " 'Rx_days_RISEDRONATE',\n",
       " 'Rx_BRIMONIDINE OPHTHALMIC',\n",
       " 'Rx_days_BRIMONIDINE OPHTHALMIC',\n",
       " 'Rx_TIMOLOL OPHTHALMIC',\n",
       " 'Rx_days_TIMOLOL OPHTHALMIC',\n",
       " 'Rx_IPRATROPIUM',\n",
       " 'Rx_days_IPRATROPIUM',\n",
       " 'Rx_ROPINIROLE',\n",
       " 'Rx_days_ROPINIROLE',\n",
       " 'Rx_CEFDINIR',\n",
       " 'Rx_days_CEFDINIR',\n",
       " 'Rx_INSULIN ISOPHANE; INSULIN REGULAR',\n",
       " 'Rx_days_INSULIN ISOPHANE; INSULIN REGULAR',\n",
       " 'Rx_GLYBURIDE; METFORMIN',\n",
       " 'Rx_days_GLYBURIDE; METFORMIN',\n",
       " 'Rx_TRIAMCINOLONE TOPICAL',\n",
       " 'Rx_days_TRIAMCINOLONE TOPICAL',\n",
       " 'Rx_COLCHICINE',\n",
       " 'Rx_days_COLCHICINE',\n",
       " 'Rx_ACYCLOVIR',\n",
       " 'Rx_days_ACYCLOVIR',\n",
       " 'Rx_RALOXIFENE',\n",
       " 'Rx_days_RALOXIFENE',\n",
       " 'Rx_RABEPRAZOLE',\n",
       " 'Rx_days_RABEPRAZOLE',\n",
       " 'Rx_NITROFURANTOIN',\n",
       " 'Rx_days_NITROFURANTOIN',\n",
       " 'Rx_TRIAMTERENE',\n",
       " 'Rx_days_TRIAMTERENE',\n",
       " 'Rx_TOLTERODINE',\n",
       " 'Rx_days_TOLTERODINE',\n",
       " 'Rx_SUMATRIPTAN',\n",
       " 'Rx_days_SUMATRIPTAN',\n",
       " 'Rx_PREDNISOLONE',\n",
       " 'Rx_days_PREDNISOLONE',\n",
       " 'Rx_ISOSORBIDE',\n",
       " 'Rx_days_ISOSORBIDE',\n",
       " 'Rx_DROSPIRENONE; ETHINYL ESTRADIOL',\n",
       " 'Rx_days_DROSPIRENONE; ETHINYL ESTRADIOL',\n",
       " 'Rx_ACETAMINOPHEN; PROPOXYPHENE',\n",
       " 'Rx_days_ACETAMINOPHEN; PROPOXYPHENE',\n",
       " 'Rx_PENICILLIN',\n",
       " 'Rx_days_PENICILLIN',\n",
       " 'Rx_INSULIN REGULAR',\n",
       " 'Rx_days_INSULIN REGULAR',\n",
       " 'Rx_MEMANTINE',\n",
       " 'Rx_days_MEMANTINE',\n",
       " 'Rx_DIPHENHYDRAMINE',\n",
       " 'Rx_days_DIPHENHYDRAMINE',\n",
       " 'Rx_MINOCYCLINE',\n",
       " 'Rx_days_MINOCYCLINE',\n",
       " 'Rx_METHOCARBAMOL',\n",
       " 'Rx_days_METHOCARBAMOL']"
      ]
     },
     "execution_count": 24,
     "metadata": {},
     "output_type": "execute_result"
    }
   ],
   "source": [
    "# Listing the column names\n",
    "list(df.columns)"
   ]
  },
  {
   "cell_type": "code",
   "execution_count": 27,
   "metadata": {
    "ExecuteTime": {
     "end_time": "2021-02-16T05:44:21.207462Z",
     "start_time": "2021-02-16T05:44:20.983396Z"
    }
   },
   "outputs": [],
   "source": [
    "# Altering the column names for readability\n",
    "for col in df.columns:\n",
    "    new_name = col.replace('_', ' ').replace(';', ',').title()\n",
    "    df.rename(columns={col: new_name}, inplace=True)"
   ]
  },
  {
   "cell_type": "code",
   "execution_count": 28,
   "metadata": {
    "ExecuteTime": {
     "end_time": "2021-02-16T05:44:22.092195Z",
     "start_time": "2021-02-16T05:44:22.078288Z"
    },
    "scrolled": true
   },
   "outputs": [
    {
     "data": {
      "text/plain": [
       "['Depression',\n",
       " 'Gender',\n",
       " 'Age',\n",
       " 'Race',\n",
       " 'Citizenship',\n",
       " 'Education Level',\n",
       " 'Marital Status',\n",
       " 'Household Size',\n",
       " 'Pregnant',\n",
       " 'Birth Place',\n",
       " 'Veteran',\n",
       " 'Household Income',\n",
       " 'Asthma',\n",
       " 'Asthma Onset',\n",
       " 'Asthma Currently',\n",
       " 'Asthma Emergency',\n",
       " 'Anemia',\n",
       " 'Ever Overweight',\n",
       " 'Blood Transfusion',\n",
       " 'Arthritis',\n",
       " 'Heart Failure',\n",
       " 'Heart Disease',\n",
       " 'Angina',\n",
       " 'Heart Attack',\n",
       " 'Stroke',\n",
       " 'Emphysema',\n",
       " 'Bronchitis',\n",
       " 'Liver Condition',\n",
       " 'Thyroid Problem',\n",
       " 'Bronchitis Currently',\n",
       " 'Liver Condition Currently',\n",
       " 'Thyroid Problem Currently',\n",
       " 'Cancer',\n",
       " 'First Cancer Type',\n",
       " 'Second Cancer Type',\n",
       " 'Third Cancer Type',\n",
       " 'Fourth Cancer Count',\n",
       " 'Heart Attack Relative',\n",
       " 'Asthma Relative',\n",
       " 'Diabetes Relative',\n",
       " 'Hay Fever',\n",
       " 'Arthritis Onset',\n",
       " 'Heart Failure Onset',\n",
       " 'Heart Disease Onset',\n",
       " 'Angina Onset',\n",
       " 'Heart Attack Onset',\n",
       " 'Stroke Onset',\n",
       " 'Emphysema Onset',\n",
       " 'Bronchitis Onset',\n",
       " 'Liver Condition Onset',\n",
       " 'Thyroid Problem Onset',\n",
       " 'Cancer Onset',\n",
       " 'Arthritis Type',\n",
       " 'First Cancer Count',\n",
       " 'Second Cancer Count',\n",
       " 'Third Cancer Count',\n",
       " 'Weight',\n",
       " 'Height',\n",
       " 'Bmi',\n",
       " 'Pulse',\n",
       " 'Irregular Pulse',\n",
       " 'Systolic',\n",
       " 'Diastolic',\n",
       " 'Total Cholesterol',\n",
       " 'Hdl',\n",
       " 'Triglyceride',\n",
       " 'Ldl',\n",
       " 'Albumin',\n",
       " 'Alt',\n",
       " 'Ast',\n",
       " 'Alp',\n",
       " 'Bun',\n",
       " 'Calcium',\n",
       " 'Co2',\n",
       " 'Creatinine',\n",
       " 'Ggt',\n",
       " 'Glucose',\n",
       " 'Iron',\n",
       " 'Lhd',\n",
       " 'Phosphorus',\n",
       " 'Bilirubin',\n",
       " 'Total Protein',\n",
       " 'Uric Acid',\n",
       " 'Sodium',\n",
       " 'Potassium',\n",
       " 'Chloride',\n",
       " 'Osmolality',\n",
       " 'Globulin',\n",
       " 'White Bcc',\n",
       " 'Lymphocyte Percent',\n",
       " 'Monocyte Percent',\n",
       " 'Neutrophils Percent',\n",
       " 'Eosinophils Percent',\n",
       " 'Basophils Percent',\n",
       " 'Lymphocyte Count',\n",
       " 'Monocyte Count',\n",
       " 'Neutrophils Count',\n",
       " 'Eosinophils Count',\n",
       " 'Basophils Count',\n",
       " 'Rbc Count',\n",
       " 'Hemoglobin',\n",
       " 'Hematocrit',\n",
       " 'Mcv',\n",
       " 'Mch',\n",
       " 'Mchc',\n",
       " 'Rdw',\n",
       " 'Platelet Count',\n",
       " 'Mpv',\n",
       " 'Full Time Work',\n",
       " 'Work Type',\n",
       " 'Time In Current Job',\n",
       " 'Out Of Work',\n",
       " 'Trouble Sleeping History',\n",
       " 'Sleep Hours',\n",
       " 'Vigorous Recreation',\n",
       " 'Moderate Recreation',\n",
       " 'Sedentary Time',\n",
       " 'Vigorous Work',\n",
       " 'Moderate Work',\n",
       " 'Drinks Per Occasion',\n",
       " 'Lifetime Alcohol Consumption',\n",
       " 'Drinks Past Year',\n",
       " 'Cant Work',\n",
       " 'Limited Work',\n",
       " 'Walking Equipment',\n",
       " 'Memory Problems',\n",
       " 'Limitations',\n",
       " 'Healthcare Equipment',\n",
       " 'Health Problem Other Impairment',\n",
       " 'Health Problem Bone Or Joint',\n",
       " 'Health Problem Weight',\n",
       " 'Health Problem Back Or Neck',\n",
       " 'Health Problem Arthritis',\n",
       " 'Health Problem Cancer',\n",
       " 'Health Problem Other Injury',\n",
       " 'Health Problem Breathing',\n",
       " 'Health Problem Stroke',\n",
       " 'Health Problem Blood Pressure',\n",
       " 'Health Problem Mental Retardation',\n",
       " 'Health Problem Hearing',\n",
       " 'Health Problem Heart',\n",
       " 'Health Problem Vision',\n",
       " 'Health Problem Diabetes',\n",
       " 'Health Problem Birth Defect',\n",
       " 'Health Problem Senility',\n",
       " 'Health Problem Other Developmental',\n",
       " 'Marijuana Use',\n",
       " 'Marijuana Per Month',\n",
       " 'Cocaine Use',\n",
       " 'Cocaine Number Uses',\n",
       " 'Cocaine Per Month',\n",
       " 'Heroine Use',\n",
       " 'Heronine Per Month',\n",
       " 'Meth Use',\n",
       " 'Meth Number Uses',\n",
       " 'Meth Per Month',\n",
       " 'Inject Drugs',\n",
       " 'Rehab Program',\n",
       " 'Start Smoking Age',\n",
       " 'Current Smoker',\n",
       " 'Previous Cigarettes Per Day',\n",
       " 'Current Cigarettes Per Day',\n",
       " 'Days Quit Smoking',\n",
       " 'Household Smokers',\n",
       " 'Prescriptions Count',\n",
       " 'Rx Lisinopril',\n",
       " 'Rx Days Lisinopril',\n",
       " 'Rx Metformin',\n",
       " 'Rx Days Metformin',\n",
       " 'Rx Albuterol',\n",
       " 'Rx Days Albuterol',\n",
       " 'Rx Levothyroxine',\n",
       " 'Rx Days Levothyroxine',\n",
       " 'Rx Simvastatin',\n",
       " 'Rx Days Simvastatin',\n",
       " 'Rx Atorvastatin',\n",
       " 'Rx Days Atorvastatin',\n",
       " 'Rx Metoprolol',\n",
       " 'Rx Days Metoprolol',\n",
       " 'Rx Amlodipine',\n",
       " 'Rx Days Amlodipine',\n",
       " 'Rx Omeprazole',\n",
       " 'Rx Days Omeprazole',\n",
       " 'Rx Hydrochlorothiazide',\n",
       " 'Rx Days Hydrochlorothiazide',\n",
       " 'Rx Furosemide',\n",
       " 'Rx Days Furosemide',\n",
       " 'Rx Atenolol',\n",
       " 'Rx Days Atenolol',\n",
       " 'Rx Losartan',\n",
       " 'Rx Days Losartan',\n",
       " 'Rx Montelukast',\n",
       " 'Rx Days Montelukast',\n",
       " 'Rx Amoxicillin',\n",
       " 'Rx Days Amoxicillin',\n",
       " 'Rx Acetaminophen, Hydrocodone',\n",
       " 'Rx Days Acetaminophen, Hydrocodone',\n",
       " 'Rx Gabapentin',\n",
       " 'Rx Days Gabapentin',\n",
       " 'Rx Potassium Chloride',\n",
       " 'Rx Days Potassium Chloride',\n",
       " 'Rx Glipizide',\n",
       " 'Rx Days Glipizide',\n",
       " 'Rx Ibuprofen',\n",
       " 'Rx Days Ibuprofen',\n",
       " 'Rx Ranitidine',\n",
       " 'Rx Days Ranitidine',\n",
       " 'Rx Clopidogrel',\n",
       " 'Rx Days Clopidogrel',\n",
       " 'Rx Pravastatin',\n",
       " 'Rx Days Pravastatin',\n",
       " 'Rx Warfarin',\n",
       " 'Rx Days Warfarin',\n",
       " 'Rx Esomeprazole',\n",
       " 'Rx Days Esomeprazole',\n",
       " 'Rx Fluticasone Nasal',\n",
       " 'Rx Days Fluticasone Nasal',\n",
       " 'Rx Carvedilol',\n",
       " 'Rx Days Carvedilol',\n",
       " 'Rx Rosuvastatin',\n",
       " 'Rx Days Rosuvastatin',\n",
       " 'Rx Insulin Glargine',\n",
       " 'Rx Days Insulin Glargine',\n",
       " 'Rx Cetirizine',\n",
       " 'Rx Days Cetirizine',\n",
       " 'Rx Fluticasone, Salmeterol',\n",
       " 'Rx Days Fluticasone, Salmeterol',\n",
       " 'Rx Tamsulosin',\n",
       " 'Rx Days Tamsulosin',\n",
       " 'Rx Pantoprazole',\n",
       " 'Rx Days Pantoprazole',\n",
       " 'Rx Tramadol',\n",
       " 'Rx Days Tramadol',\n",
       " 'Rx Alprazolam',\n",
       " 'Rx Days Alprazolam',\n",
       " 'Rx Hydrochlorothiazide, Lisinopril',\n",
       " 'Rx Days Hydrochlorothiazide, Lisinopril',\n",
       " 'Rx Lovastatin',\n",
       " 'Rx Days Lovastatin',\n",
       " 'Rx Prednisone',\n",
       " 'Rx Days Prednisone',\n",
       " 'Rx Allopurinol',\n",
       " 'Rx Days Allopurinol',\n",
       " 'Rx Naproxen',\n",
       " 'Rx Days Naproxen',\n",
       " 'Rx Valsartan',\n",
       " 'Rx Days Valsartan',\n",
       " 'Rx Aspirin',\n",
       " 'Rx Days Aspirin',\n",
       " 'Rx Zolpidem',\n",
       " 'Rx Days Zolpidem',\n",
       " 'Rx Cyclobenzaprine',\n",
       " 'Rx Days Cyclobenzaprine',\n",
       " 'Rx Diltiazem',\n",
       " 'Rx Days Diltiazem',\n",
       " 'Rx Alendronate',\n",
       " 'Rx Days Alendronate',\n",
       " 'Rx Clonidine',\n",
       " 'Rx Days Clonidine',\n",
       " 'Rx Lansoprazole',\n",
       " 'Rx Days Lansoprazole',\n",
       " 'Rx Meloxicam',\n",
       " 'Rx Days Meloxicam',\n",
       " 'Rx Methylphenidate',\n",
       " 'Rx Days Methylphenidate',\n",
       " 'Rx Hydrochlorothiazide, Triamterene',\n",
       " 'Rx Days Hydrochlorothiazide, Triamterene',\n",
       " 'Rx Glimepiride',\n",
       " 'Rx Days Glimepiride',\n",
       " 'Rx Clonazepam',\n",
       " 'Rx Days Clonazepam',\n",
       " 'Rx Pioglitazone',\n",
       " 'Rx Days Pioglitazone',\n",
       " 'Rx Enalapril',\n",
       " 'Rx Days Enalapril',\n",
       " 'Rx Fenofibrate',\n",
       " 'Rx Days Fenofibrate',\n",
       " 'Rx Fluticasone',\n",
       " 'Rx Days Fluticasone',\n",
       " 'Rx Glyburide',\n",
       " 'Rx Days Glyburide',\n",
       " 'Rx Hydrochlorothiazide, Losartan',\n",
       " 'Rx Days Hydrochlorothiazide, Losartan',\n",
       " 'Rx Lorazepam',\n",
       " 'Rx Days Lorazepam',\n",
       " 'Rx Spironolactone',\n",
       " 'Rx Days Spironolactone',\n",
       " 'Rx Nifedipine',\n",
       " 'Rx Days Nifedipine',\n",
       " 'Rx Amphetamine, Dextroamphetamine',\n",
       " 'Rx Days Amphetamine, Dextroamphetamine',\n",
       " 'Rx Hydrocodone',\n",
       " 'Rx Days Hydrocodone',\n",
       " 'Rx Finasteride',\n",
       " 'Rx Days Finasteride',\n",
       " 'Rx Fexofenadine',\n",
       " 'Rx Days Fexofenadine',\n",
       " 'Rx Ezetimibe',\n",
       " 'Rx Days Ezetimibe',\n",
       " 'Rx Ethinyl Estradiol, Norgestimate',\n",
       " 'Rx Days Ethinyl Estradiol, Norgestimate',\n",
       " 'Rx Digoxin',\n",
       " 'Rx Days Digoxin',\n",
       " 'Rx Insulin Aspart',\n",
       " 'Rx Days Insulin Aspart',\n",
       " 'Rx Ethinyl Estradiol, Norethindrone',\n",
       " 'Rx Days Ethinyl Estradiol, Norethindrone',\n",
       " 'Rx Amlodipine, Benazepril',\n",
       " 'Rx Days Amlodipine, Benazepril',\n",
       " 'Rx Azithromycin',\n",
       " 'Rx Days Azithromycin',\n",
       " 'Rx Celecoxib',\n",
       " 'Rx Days Celecoxib',\n",
       " 'Rx Ramipril',\n",
       " 'Rx Days Ramipril',\n",
       " 'Rx Benazepril',\n",
       " 'Rx Days Benazepril',\n",
       " 'Rx Oxycodone',\n",
       " 'Rx Days Oxycodone',\n",
       " 'Rx Terazosin',\n",
       " 'Rx Days Terazosin',\n",
       " 'Rx Famotidine',\n",
       " 'Rx Days Famotidine',\n",
       " 'Rx Acetaminophen, Oxycodone',\n",
       " 'Rx Days Acetaminophen, Oxycodone',\n",
       " 'Rx Ezetimibe, Simvastatin',\n",
       " 'Rx Days Ezetimibe, Simvastatin',\n",
       " 'Rx Mometasone Nasal',\n",
       " 'Rx Days Mometasone Nasal',\n",
       " 'Rx Sitagliptin',\n",
       " 'Rx Days Sitagliptin',\n",
       " 'Rx Hydroxyzine',\n",
       " 'Rx Days Hydroxyzine',\n",
       " 'Rx Budesonide',\n",
       " 'Rx Days Budesonide',\n",
       " 'Rx Verapamil',\n",
       " 'Rx Days Verapamil',\n",
       " 'Rx Propranolol',\n",
       " 'Rx Days Propranolol',\n",
       " 'Rx Nitroglycerin',\n",
       " 'Rx Days Nitroglycerin',\n",
       " 'Rx Tiotropium',\n",
       " 'Rx Days Tiotropium',\n",
       " 'Rx Isosorbide Mononitrate',\n",
       " 'Rx Days Isosorbide Mononitrate',\n",
       " 'Rx Donepezil',\n",
       " 'Rx Days Donepezil',\n",
       " 'Rx Doxazosin',\n",
       " 'Rx Days Doxazosin',\n",
       " 'Rx Oxybutynin',\n",
       " 'Rx Days Oxybutynin',\n",
       " 'Rx Hydrochlorothiazide, Valsartan',\n",
       " 'Rx Days Hydrochlorothiazide, Valsartan',\n",
       " 'Rx Estradiol',\n",
       " 'Rx Days Estradiol',\n",
       " 'Rx Diclofenac',\n",
       " 'Rx Days Diclofenac',\n",
       " 'Rx Latanoprost Ophthalmic',\n",
       " 'Rx Days Latanoprost Ophthalmic',\n",
       " 'Rx Hydralazine',\n",
       " 'Rx Days Hydralazine',\n",
       " 'Rx Olmesartan',\n",
       " 'Rx Days Olmesartan',\n",
       " 'Rx Sulfamethoxazole, Trimethoprim',\n",
       " 'Rx Days Sulfamethoxazole, Trimethoprim',\n",
       " 'Rx Cephalexin',\n",
       " 'Rx Days Cephalexin',\n",
       " 'Rx Gemfibrozil',\n",
       " 'Rx Days Gemfibrozil',\n",
       " 'Rx Insulin Lispro',\n",
       " 'Rx Days Insulin Lispro',\n",
       " 'Rx Pregabalin',\n",
       " 'Rx Days Pregabalin',\n",
       " 'Rx Amoxicillin, Clavulanate',\n",
       " 'Rx Days Amoxicillin, Clavulanate',\n",
       " 'Rx Albuterol, Ipratropium',\n",
       " 'Rx Days Albuterol, Ipratropium',\n",
       " 'Rx Conjugated Estrogens',\n",
       " 'Rx Days Conjugated Estrogens',\n",
       " 'Rx Doxycycline',\n",
       " 'Rx Days Doxycycline',\n",
       " 'Rx Beclomethasone',\n",
       " 'Rx Days Beclomethasone',\n",
       " 'Rx Buspirone',\n",
       " 'Rx Days Buspirone',\n",
       " 'Rx Diazepam',\n",
       " 'Rx Days Diazepam',\n",
       " 'Rx Acetaminophen, Codeine',\n",
       " 'Rx Days Acetaminophen, Codeine',\n",
       " 'Rx Ethinyl Estradiol, Levonorgestrel',\n",
       " 'Rx Days Ethinyl Estradiol, Levonorgestrel',\n",
       " 'Rx Quinapril',\n",
       " 'Rx Days Quinapril',\n",
       " 'Rx Insulin Detemir',\n",
       " 'Rx Days Insulin Detemir',\n",
       " 'Rx Budesonide, Formoterol',\n",
       " 'Rx Days Budesonide, Formoterol',\n",
       " 'Rx Meclizine',\n",
       " 'Rx Days Meclizine',\n",
       " 'Rx Polyethylene Glycol 3350',\n",
       " 'Rx Days Polyethylene Glycol 3350',\n",
       " 'Rx Baclofen',\n",
       " 'Rx Days Baclofen',\n",
       " 'Rx Lisdexamfetamine',\n",
       " 'Rx Days Lisdexamfetamine',\n",
       " 'Rx Metoclopramide',\n",
       " 'Rx Days Metoclopramide',\n",
       " 'Rx Levalbuterol',\n",
       " 'Rx Days Levalbuterol',\n",
       " 'Rx Methotrexate',\n",
       " 'Rx Days Methotrexate',\n",
       " 'Rx Promethazine',\n",
       " 'Rx Days Promethazine',\n",
       " 'Rx Temazepam',\n",
       " 'Rx Days Temazepam',\n",
       " 'Rx Levetiracetam',\n",
       " 'Rx Days Levetiracetam',\n",
       " 'Rx Irbesartan',\n",
       " 'Rx Days Irbesartan',\n",
       " 'Rx Docusate',\n",
       " 'Rx Days Docusate',\n",
       " 'Rx Hydrochlorothiazide, Olmesartan',\n",
       " 'Rx Days Hydrochlorothiazide, Olmesartan',\n",
       " 'Rx Ondansetron',\n",
       " 'Rx Days Ondansetron',\n",
       " 'Rx Ciprofloxacin',\n",
       " 'Rx Days Ciprofloxacin',\n",
       " 'Rx Phenytoin',\n",
       " 'Rx Days Phenytoin',\n",
       " 'Rx Amiodarone',\n",
       " 'Rx Days Amiodarone',\n",
       " 'Rx Niacin',\n",
       " 'Rx Days Niacin',\n",
       " 'Rx Hydroxychloroquine',\n",
       " 'Rx Days Hydroxychloroquine',\n",
       " 'Rx Tizanidine',\n",
       " 'Rx Days Tizanidine',\n",
       " 'Rx Risedronate',\n",
       " 'Rx Days Risedronate',\n",
       " 'Rx Brimonidine Ophthalmic',\n",
       " 'Rx Days Brimonidine Ophthalmic',\n",
       " 'Rx Timolol Ophthalmic',\n",
       " 'Rx Days Timolol Ophthalmic',\n",
       " 'Rx Ipratropium',\n",
       " 'Rx Days Ipratropium',\n",
       " 'Rx Ropinirole',\n",
       " 'Rx Days Ropinirole',\n",
       " 'Rx Cefdinir',\n",
       " 'Rx Days Cefdinir',\n",
       " 'Rx Insulin Isophane, Insulin Regular',\n",
       " 'Rx Days Insulin Isophane, Insulin Regular',\n",
       " 'Rx Glyburide, Metformin',\n",
       " 'Rx Days Glyburide, Metformin',\n",
       " 'Rx Triamcinolone Topical',\n",
       " 'Rx Days Triamcinolone Topical',\n",
       " 'Rx Colchicine',\n",
       " 'Rx Days Colchicine',\n",
       " 'Rx Acyclovir',\n",
       " 'Rx Days Acyclovir',\n",
       " 'Rx Raloxifene',\n",
       " 'Rx Days Raloxifene',\n",
       " 'Rx Rabeprazole',\n",
       " 'Rx Days Rabeprazole',\n",
       " 'Rx Nitrofurantoin',\n",
       " 'Rx Days Nitrofurantoin',\n",
       " 'Rx Triamterene',\n",
       " 'Rx Days Triamterene',\n",
       " 'Rx Tolterodine',\n",
       " 'Rx Days Tolterodine',\n",
       " 'Rx Sumatriptan',\n",
       " 'Rx Days Sumatriptan',\n",
       " 'Rx Prednisolone',\n",
       " 'Rx Days Prednisolone',\n",
       " 'Rx Isosorbide',\n",
       " 'Rx Days Isosorbide',\n",
       " 'Rx Drospirenone, Ethinyl Estradiol',\n",
       " 'Rx Days Drospirenone, Ethinyl Estradiol',\n",
       " 'Rx Acetaminophen, Propoxyphene',\n",
       " 'Rx Days Acetaminophen, Propoxyphene',\n",
       " 'Rx Penicillin',\n",
       " 'Rx Days Penicillin',\n",
       " 'Rx Insulin Regular',\n",
       " 'Rx Days Insulin Regular',\n",
       " 'Rx Memantine',\n",
       " 'Rx Days Memantine',\n",
       " 'Rx Diphenhydramine',\n",
       " 'Rx Days Diphenhydramine',\n",
       " 'Rx Minocycline',\n",
       " 'Rx Days Minocycline',\n",
       " 'Rx Methocarbamol',\n",
       " 'Rx Days Methocarbamol']"
      ]
     },
     "execution_count": 28,
     "metadata": {},
     "output_type": "execute_result"
    }
   ],
   "source": [
    "list(df.columns)"
   ]
  },
  {
   "cell_type": "code",
   "execution_count": 29,
   "metadata": {
    "ExecuteTime": {
     "end_time": "2021-02-16T05:44:32.696512Z",
     "start_time": "2021-02-16T05:44:32.679406Z"
    }
   },
   "outputs": [],
   "source": [
    "# Changing the columns that need to be all uppercase\n",
    "upper_case = ['Bmi',\n",
    " 'Hdl',\n",
    " 'Ldl',\n",
    " 'Alt',\n",
    " 'Ast',\n",
    " 'Alp',\n",
    " 'Bun',\n",
    " 'Co2',\n",
    " 'Ggt',\n",
    " 'Lhd',\n",
    " 'Mcv',\n",
    " 'Mch',\n",
    " 'Mchc',\n",
    " 'Rdw',\n",
    " 'Mpv']\n",
    "\n",
    "for col in upper_case:\n",
    "    new_name = col.upper()\n",
    "    df.rename(columns={col: new_name}, inplace=True)"
   ]
  },
  {
   "cell_type": "code",
   "execution_count": 30,
   "metadata": {
    "ExecuteTime": {
     "end_time": "2021-02-16T05:44:37.366404Z",
     "start_time": "2021-02-16T05:44:37.363401Z"
    }
   },
   "outputs": [],
   "source": [
    "# Changing the last few columns for readability\n",
    "df.rename(columns={'Triglyceride': 'Triglycerides',\n",
    "                   'White Bcc': 'White BCC', \n",
    "                   'Rbc Count': 'RBC Count'}, inplace=True)"
   ]
  },
  {
   "cell_type": "code",
   "execution_count": 31,
   "metadata": {
    "ExecuteTime": {
     "end_time": "2021-02-16T05:44:39.098200Z",
     "start_time": "2021-02-16T05:44:39.086285Z"
    }
   },
   "outputs": [
    {
     "data": {
      "text/plain": [
       "['Depression',\n",
       " 'Gender',\n",
       " 'Age',\n",
       " 'Race',\n",
       " 'Citizenship',\n",
       " 'Education Level',\n",
       " 'Marital Status',\n",
       " 'Household Size',\n",
       " 'Pregnant',\n",
       " 'Birth Place',\n",
       " 'Veteran',\n",
       " 'Household Income',\n",
       " 'Asthma',\n",
       " 'Asthma Onset',\n",
       " 'Asthma Currently',\n",
       " 'Asthma Emergency',\n",
       " 'Anemia',\n",
       " 'Ever Overweight',\n",
       " 'Blood Transfusion',\n",
       " 'Arthritis',\n",
       " 'Heart Failure',\n",
       " 'Heart Disease',\n",
       " 'Angina',\n",
       " 'Heart Attack',\n",
       " 'Stroke',\n",
       " 'Emphysema',\n",
       " 'Bronchitis',\n",
       " 'Liver Condition',\n",
       " 'Thyroid Problem',\n",
       " 'Bronchitis Currently',\n",
       " 'Liver Condition Currently',\n",
       " 'Thyroid Problem Currently',\n",
       " 'Cancer',\n",
       " 'First Cancer Type',\n",
       " 'Second Cancer Type',\n",
       " 'Third Cancer Type',\n",
       " 'Fourth Cancer Count',\n",
       " 'Heart Attack Relative',\n",
       " 'Asthma Relative',\n",
       " 'Diabetes Relative',\n",
       " 'Hay Fever',\n",
       " 'Arthritis Onset',\n",
       " 'Heart Failure Onset',\n",
       " 'Heart Disease Onset',\n",
       " 'Angina Onset',\n",
       " 'Heart Attack Onset',\n",
       " 'Stroke Onset',\n",
       " 'Emphysema Onset',\n",
       " 'Bronchitis Onset',\n",
       " 'Liver Condition Onset',\n",
       " 'Thyroid Problem Onset',\n",
       " 'Cancer Onset',\n",
       " 'Arthritis Type',\n",
       " 'First Cancer Count',\n",
       " 'Second Cancer Count',\n",
       " 'Third Cancer Count',\n",
       " 'Weight',\n",
       " 'Height',\n",
       " 'BMI',\n",
       " 'Pulse',\n",
       " 'Irregular Pulse',\n",
       " 'Systolic',\n",
       " 'Diastolic',\n",
       " 'Total Cholesterol',\n",
       " 'HDL',\n",
       " 'Triglycerides',\n",
       " 'LDL',\n",
       " 'Albumin',\n",
       " 'ALT',\n",
       " 'AST',\n",
       " 'ALP',\n",
       " 'BUN',\n",
       " 'Calcium',\n",
       " 'CO2',\n",
       " 'Creatinine',\n",
       " 'GGT',\n",
       " 'Glucose',\n",
       " 'Iron',\n",
       " 'LHD',\n",
       " 'Phosphorus',\n",
       " 'Bilirubin',\n",
       " 'Total Protein',\n",
       " 'Uric Acid',\n",
       " 'Sodium',\n",
       " 'Potassium',\n",
       " 'Chloride',\n",
       " 'Osmolality',\n",
       " 'Globulin',\n",
       " 'White BCC',\n",
       " 'Lymphocyte Percent',\n",
       " 'Monocyte Percent',\n",
       " 'Neutrophils Percent',\n",
       " 'Eosinophils Percent',\n",
       " 'Basophils Percent',\n",
       " 'Lymphocyte Count',\n",
       " 'Monocyte Count',\n",
       " 'Neutrophils Count',\n",
       " 'Eosinophils Count',\n",
       " 'Basophils Count',\n",
       " 'RBC Count',\n",
       " 'Hemoglobin',\n",
       " 'Hematocrit',\n",
       " 'MCV',\n",
       " 'MCH',\n",
       " 'MCHC',\n",
       " 'RDW',\n",
       " 'Platelet Count',\n",
       " 'MPV',\n",
       " 'Full Time Work',\n",
       " 'Work Type',\n",
       " 'Time In Current Job',\n",
       " 'Out Of Work',\n",
       " 'Trouble Sleeping History',\n",
       " 'Sleep Hours',\n",
       " 'Vigorous Recreation',\n",
       " 'Moderate Recreation',\n",
       " 'Sedentary Time',\n",
       " 'Vigorous Work',\n",
       " 'Moderate Work',\n",
       " 'Drinks Per Occasion',\n",
       " 'Lifetime Alcohol Consumption',\n",
       " 'Drinks Past Year',\n",
       " 'Cant Work',\n",
       " 'Limited Work',\n",
       " 'Walking Equipment',\n",
       " 'Memory Problems',\n",
       " 'Limitations',\n",
       " 'Healthcare Equipment',\n",
       " 'Health Problem Other Impairment',\n",
       " 'Health Problem Bone Or Joint',\n",
       " 'Health Problem Weight',\n",
       " 'Health Problem Back Or Neck',\n",
       " 'Health Problem Arthritis',\n",
       " 'Health Problem Cancer',\n",
       " 'Health Problem Other Injury',\n",
       " 'Health Problem Breathing',\n",
       " 'Health Problem Stroke',\n",
       " 'Health Problem Blood Pressure',\n",
       " 'Health Problem Mental Retardation',\n",
       " 'Health Problem Hearing',\n",
       " 'Health Problem Heart',\n",
       " 'Health Problem Vision',\n",
       " 'Health Problem Diabetes',\n",
       " 'Health Problem Birth Defect',\n",
       " 'Health Problem Senility',\n",
       " 'Health Problem Other Developmental',\n",
       " 'Marijuana Use',\n",
       " 'Marijuana Per Month',\n",
       " 'Cocaine Use',\n",
       " 'Cocaine Number Uses',\n",
       " 'Cocaine Per Month',\n",
       " 'Heroine Use',\n",
       " 'Heronine Per Month',\n",
       " 'Meth Use',\n",
       " 'Meth Number Uses',\n",
       " 'Meth Per Month',\n",
       " 'Inject Drugs',\n",
       " 'Rehab Program',\n",
       " 'Start Smoking Age',\n",
       " 'Current Smoker',\n",
       " 'Previous Cigarettes Per Day',\n",
       " 'Current Cigarettes Per Day',\n",
       " 'Days Quit Smoking',\n",
       " 'Household Smokers',\n",
       " 'Prescriptions Count',\n",
       " 'Rx Lisinopril',\n",
       " 'Rx Days Lisinopril',\n",
       " 'Rx Metformin',\n",
       " 'Rx Days Metformin',\n",
       " 'Rx Albuterol',\n",
       " 'Rx Days Albuterol',\n",
       " 'Rx Levothyroxine',\n",
       " 'Rx Days Levothyroxine',\n",
       " 'Rx Simvastatin',\n",
       " 'Rx Days Simvastatin',\n",
       " 'Rx Atorvastatin',\n",
       " 'Rx Days Atorvastatin',\n",
       " 'Rx Metoprolol',\n",
       " 'Rx Days Metoprolol',\n",
       " 'Rx Amlodipine',\n",
       " 'Rx Days Amlodipine',\n",
       " 'Rx Omeprazole',\n",
       " 'Rx Days Omeprazole',\n",
       " 'Rx Hydrochlorothiazide',\n",
       " 'Rx Days Hydrochlorothiazide',\n",
       " 'Rx Furosemide',\n",
       " 'Rx Days Furosemide',\n",
       " 'Rx Atenolol',\n",
       " 'Rx Days Atenolol',\n",
       " 'Rx Losartan',\n",
       " 'Rx Days Losartan',\n",
       " 'Rx Montelukast',\n",
       " 'Rx Days Montelukast',\n",
       " 'Rx Amoxicillin',\n",
       " 'Rx Days Amoxicillin',\n",
       " 'Rx Acetaminophen, Hydrocodone',\n",
       " 'Rx Days Acetaminophen, Hydrocodone',\n",
       " 'Rx Gabapentin',\n",
       " 'Rx Days Gabapentin',\n",
       " 'Rx Potassium Chloride',\n",
       " 'Rx Days Potassium Chloride',\n",
       " 'Rx Glipizide',\n",
       " 'Rx Days Glipizide',\n",
       " 'Rx Ibuprofen',\n",
       " 'Rx Days Ibuprofen',\n",
       " 'Rx Ranitidine',\n",
       " 'Rx Days Ranitidine',\n",
       " 'Rx Clopidogrel',\n",
       " 'Rx Days Clopidogrel',\n",
       " 'Rx Pravastatin',\n",
       " 'Rx Days Pravastatin',\n",
       " 'Rx Warfarin',\n",
       " 'Rx Days Warfarin',\n",
       " 'Rx Esomeprazole',\n",
       " 'Rx Days Esomeprazole',\n",
       " 'Rx Fluticasone Nasal',\n",
       " 'Rx Days Fluticasone Nasal',\n",
       " 'Rx Carvedilol',\n",
       " 'Rx Days Carvedilol',\n",
       " 'Rx Rosuvastatin',\n",
       " 'Rx Days Rosuvastatin',\n",
       " 'Rx Insulin Glargine',\n",
       " 'Rx Days Insulin Glargine',\n",
       " 'Rx Cetirizine',\n",
       " 'Rx Days Cetirizine',\n",
       " 'Rx Fluticasone, Salmeterol',\n",
       " 'Rx Days Fluticasone, Salmeterol',\n",
       " 'Rx Tamsulosin',\n",
       " 'Rx Days Tamsulosin',\n",
       " 'Rx Pantoprazole',\n",
       " 'Rx Days Pantoprazole',\n",
       " 'Rx Tramadol',\n",
       " 'Rx Days Tramadol',\n",
       " 'Rx Alprazolam',\n",
       " 'Rx Days Alprazolam',\n",
       " 'Rx Hydrochlorothiazide, Lisinopril',\n",
       " 'Rx Days Hydrochlorothiazide, Lisinopril',\n",
       " 'Rx Lovastatin',\n",
       " 'Rx Days Lovastatin',\n",
       " 'Rx Prednisone',\n",
       " 'Rx Days Prednisone',\n",
       " 'Rx Allopurinol',\n",
       " 'Rx Days Allopurinol',\n",
       " 'Rx Naproxen',\n",
       " 'Rx Days Naproxen',\n",
       " 'Rx Valsartan',\n",
       " 'Rx Days Valsartan',\n",
       " 'Rx Aspirin',\n",
       " 'Rx Days Aspirin',\n",
       " 'Rx Zolpidem',\n",
       " 'Rx Days Zolpidem',\n",
       " 'Rx Cyclobenzaprine',\n",
       " 'Rx Days Cyclobenzaprine',\n",
       " 'Rx Diltiazem',\n",
       " 'Rx Days Diltiazem',\n",
       " 'Rx Alendronate',\n",
       " 'Rx Days Alendronate',\n",
       " 'Rx Clonidine',\n",
       " 'Rx Days Clonidine',\n",
       " 'Rx Lansoprazole',\n",
       " 'Rx Days Lansoprazole',\n",
       " 'Rx Meloxicam',\n",
       " 'Rx Days Meloxicam',\n",
       " 'Rx Methylphenidate',\n",
       " 'Rx Days Methylphenidate',\n",
       " 'Rx Hydrochlorothiazide, Triamterene',\n",
       " 'Rx Days Hydrochlorothiazide, Triamterene',\n",
       " 'Rx Glimepiride',\n",
       " 'Rx Days Glimepiride',\n",
       " 'Rx Clonazepam',\n",
       " 'Rx Days Clonazepam',\n",
       " 'Rx Pioglitazone',\n",
       " 'Rx Days Pioglitazone',\n",
       " 'Rx Enalapril',\n",
       " 'Rx Days Enalapril',\n",
       " 'Rx Fenofibrate',\n",
       " 'Rx Days Fenofibrate',\n",
       " 'Rx Fluticasone',\n",
       " 'Rx Days Fluticasone',\n",
       " 'Rx Glyburide',\n",
       " 'Rx Days Glyburide',\n",
       " 'Rx Hydrochlorothiazide, Losartan',\n",
       " 'Rx Days Hydrochlorothiazide, Losartan',\n",
       " 'Rx Lorazepam',\n",
       " 'Rx Days Lorazepam',\n",
       " 'Rx Spironolactone',\n",
       " 'Rx Days Spironolactone',\n",
       " 'Rx Nifedipine',\n",
       " 'Rx Days Nifedipine',\n",
       " 'Rx Amphetamine, Dextroamphetamine',\n",
       " 'Rx Days Amphetamine, Dextroamphetamine',\n",
       " 'Rx Hydrocodone',\n",
       " 'Rx Days Hydrocodone',\n",
       " 'Rx Finasteride',\n",
       " 'Rx Days Finasteride',\n",
       " 'Rx Fexofenadine',\n",
       " 'Rx Days Fexofenadine',\n",
       " 'Rx Ezetimibe',\n",
       " 'Rx Days Ezetimibe',\n",
       " 'Rx Ethinyl Estradiol, Norgestimate',\n",
       " 'Rx Days Ethinyl Estradiol, Norgestimate',\n",
       " 'Rx Digoxin',\n",
       " 'Rx Days Digoxin',\n",
       " 'Rx Insulin Aspart',\n",
       " 'Rx Days Insulin Aspart',\n",
       " 'Rx Ethinyl Estradiol, Norethindrone',\n",
       " 'Rx Days Ethinyl Estradiol, Norethindrone',\n",
       " 'Rx Amlodipine, Benazepril',\n",
       " 'Rx Days Amlodipine, Benazepril',\n",
       " 'Rx Azithromycin',\n",
       " 'Rx Days Azithromycin',\n",
       " 'Rx Celecoxib',\n",
       " 'Rx Days Celecoxib',\n",
       " 'Rx Ramipril',\n",
       " 'Rx Days Ramipril',\n",
       " 'Rx Benazepril',\n",
       " 'Rx Days Benazepril',\n",
       " 'Rx Oxycodone',\n",
       " 'Rx Days Oxycodone',\n",
       " 'Rx Terazosin',\n",
       " 'Rx Days Terazosin',\n",
       " 'Rx Famotidine',\n",
       " 'Rx Days Famotidine',\n",
       " 'Rx Acetaminophen, Oxycodone',\n",
       " 'Rx Days Acetaminophen, Oxycodone',\n",
       " 'Rx Ezetimibe, Simvastatin',\n",
       " 'Rx Days Ezetimibe, Simvastatin',\n",
       " 'Rx Mometasone Nasal',\n",
       " 'Rx Days Mometasone Nasal',\n",
       " 'Rx Sitagliptin',\n",
       " 'Rx Days Sitagliptin',\n",
       " 'Rx Hydroxyzine',\n",
       " 'Rx Days Hydroxyzine',\n",
       " 'Rx Budesonide',\n",
       " 'Rx Days Budesonide',\n",
       " 'Rx Verapamil',\n",
       " 'Rx Days Verapamil',\n",
       " 'Rx Propranolol',\n",
       " 'Rx Days Propranolol',\n",
       " 'Rx Nitroglycerin',\n",
       " 'Rx Days Nitroglycerin',\n",
       " 'Rx Tiotropium',\n",
       " 'Rx Days Tiotropium',\n",
       " 'Rx Isosorbide Mononitrate',\n",
       " 'Rx Days Isosorbide Mononitrate',\n",
       " 'Rx Donepezil',\n",
       " 'Rx Days Donepezil',\n",
       " 'Rx Doxazosin',\n",
       " 'Rx Days Doxazosin',\n",
       " 'Rx Oxybutynin',\n",
       " 'Rx Days Oxybutynin',\n",
       " 'Rx Hydrochlorothiazide, Valsartan',\n",
       " 'Rx Days Hydrochlorothiazide, Valsartan',\n",
       " 'Rx Estradiol',\n",
       " 'Rx Days Estradiol',\n",
       " 'Rx Diclofenac',\n",
       " 'Rx Days Diclofenac',\n",
       " 'Rx Latanoprost Ophthalmic',\n",
       " 'Rx Days Latanoprost Ophthalmic',\n",
       " 'Rx Hydralazine',\n",
       " 'Rx Days Hydralazine',\n",
       " 'Rx Olmesartan',\n",
       " 'Rx Days Olmesartan',\n",
       " 'Rx Sulfamethoxazole, Trimethoprim',\n",
       " 'Rx Days Sulfamethoxazole, Trimethoprim',\n",
       " 'Rx Cephalexin',\n",
       " 'Rx Days Cephalexin',\n",
       " 'Rx Gemfibrozil',\n",
       " 'Rx Days Gemfibrozil',\n",
       " 'Rx Insulin Lispro',\n",
       " 'Rx Days Insulin Lispro',\n",
       " 'Rx Pregabalin',\n",
       " 'Rx Days Pregabalin',\n",
       " 'Rx Amoxicillin, Clavulanate',\n",
       " 'Rx Days Amoxicillin, Clavulanate',\n",
       " 'Rx Albuterol, Ipratropium',\n",
       " 'Rx Days Albuterol, Ipratropium',\n",
       " 'Rx Conjugated Estrogens',\n",
       " 'Rx Days Conjugated Estrogens',\n",
       " 'Rx Doxycycline',\n",
       " 'Rx Days Doxycycline',\n",
       " 'Rx Beclomethasone',\n",
       " 'Rx Days Beclomethasone',\n",
       " 'Rx Buspirone',\n",
       " 'Rx Days Buspirone',\n",
       " 'Rx Diazepam',\n",
       " 'Rx Days Diazepam',\n",
       " 'Rx Acetaminophen, Codeine',\n",
       " 'Rx Days Acetaminophen, Codeine',\n",
       " 'Rx Ethinyl Estradiol, Levonorgestrel',\n",
       " 'Rx Days Ethinyl Estradiol, Levonorgestrel',\n",
       " 'Rx Quinapril',\n",
       " 'Rx Days Quinapril',\n",
       " 'Rx Insulin Detemir',\n",
       " 'Rx Days Insulin Detemir',\n",
       " 'Rx Budesonide, Formoterol',\n",
       " 'Rx Days Budesonide, Formoterol',\n",
       " 'Rx Meclizine',\n",
       " 'Rx Days Meclizine',\n",
       " 'Rx Polyethylene Glycol 3350',\n",
       " 'Rx Days Polyethylene Glycol 3350',\n",
       " 'Rx Baclofen',\n",
       " 'Rx Days Baclofen',\n",
       " 'Rx Lisdexamfetamine',\n",
       " 'Rx Days Lisdexamfetamine',\n",
       " 'Rx Metoclopramide',\n",
       " 'Rx Days Metoclopramide',\n",
       " 'Rx Levalbuterol',\n",
       " 'Rx Days Levalbuterol',\n",
       " 'Rx Methotrexate',\n",
       " 'Rx Days Methotrexate',\n",
       " 'Rx Promethazine',\n",
       " 'Rx Days Promethazine',\n",
       " 'Rx Temazepam',\n",
       " 'Rx Days Temazepam',\n",
       " 'Rx Levetiracetam',\n",
       " 'Rx Days Levetiracetam',\n",
       " 'Rx Irbesartan',\n",
       " 'Rx Days Irbesartan',\n",
       " 'Rx Docusate',\n",
       " 'Rx Days Docusate',\n",
       " 'Rx Hydrochlorothiazide, Olmesartan',\n",
       " 'Rx Days Hydrochlorothiazide, Olmesartan',\n",
       " 'Rx Ondansetron',\n",
       " 'Rx Days Ondansetron',\n",
       " 'Rx Ciprofloxacin',\n",
       " 'Rx Days Ciprofloxacin',\n",
       " 'Rx Phenytoin',\n",
       " 'Rx Days Phenytoin',\n",
       " 'Rx Amiodarone',\n",
       " 'Rx Days Amiodarone',\n",
       " 'Rx Niacin',\n",
       " 'Rx Days Niacin',\n",
       " 'Rx Hydroxychloroquine',\n",
       " 'Rx Days Hydroxychloroquine',\n",
       " 'Rx Tizanidine',\n",
       " 'Rx Days Tizanidine',\n",
       " 'Rx Risedronate',\n",
       " 'Rx Days Risedronate',\n",
       " 'Rx Brimonidine Ophthalmic',\n",
       " 'Rx Days Brimonidine Ophthalmic',\n",
       " 'Rx Timolol Ophthalmic',\n",
       " 'Rx Days Timolol Ophthalmic',\n",
       " 'Rx Ipratropium',\n",
       " 'Rx Days Ipratropium',\n",
       " 'Rx Ropinirole',\n",
       " 'Rx Days Ropinirole',\n",
       " 'Rx Cefdinir',\n",
       " 'Rx Days Cefdinir',\n",
       " 'Rx Insulin Isophane, Insulin Regular',\n",
       " 'Rx Days Insulin Isophane, Insulin Regular',\n",
       " 'Rx Glyburide, Metformin',\n",
       " 'Rx Days Glyburide, Metformin',\n",
       " 'Rx Triamcinolone Topical',\n",
       " 'Rx Days Triamcinolone Topical',\n",
       " 'Rx Colchicine',\n",
       " 'Rx Days Colchicine',\n",
       " 'Rx Acyclovir',\n",
       " 'Rx Days Acyclovir',\n",
       " 'Rx Raloxifene',\n",
       " 'Rx Days Raloxifene',\n",
       " 'Rx Rabeprazole',\n",
       " 'Rx Days Rabeprazole',\n",
       " 'Rx Nitrofurantoin',\n",
       " 'Rx Days Nitrofurantoin',\n",
       " 'Rx Triamterene',\n",
       " 'Rx Days Triamterene',\n",
       " 'Rx Tolterodine',\n",
       " 'Rx Days Tolterodine',\n",
       " 'Rx Sumatriptan',\n",
       " 'Rx Days Sumatriptan',\n",
       " 'Rx Prednisolone',\n",
       " 'Rx Days Prednisolone',\n",
       " 'Rx Isosorbide',\n",
       " 'Rx Days Isosorbide',\n",
       " 'Rx Drospirenone, Ethinyl Estradiol',\n",
       " 'Rx Days Drospirenone, Ethinyl Estradiol',\n",
       " 'Rx Acetaminophen, Propoxyphene',\n",
       " 'Rx Days Acetaminophen, Propoxyphene',\n",
       " 'Rx Penicillin',\n",
       " 'Rx Days Penicillin',\n",
       " 'Rx Insulin Regular',\n",
       " 'Rx Days Insulin Regular',\n",
       " 'Rx Memantine',\n",
       " 'Rx Days Memantine',\n",
       " 'Rx Diphenhydramine',\n",
       " 'Rx Days Diphenhydramine',\n",
       " 'Rx Minocycline',\n",
       " 'Rx Days Minocycline',\n",
       " 'Rx Methocarbamol',\n",
       " 'Rx Days Methocarbamol']"
      ]
     },
     "execution_count": 31,
     "metadata": {},
     "output_type": "execute_result"
    }
   ],
   "source": [
    "# Looking at the new column names\n",
    "list(df.columns)"
   ]
  },
  {
   "cell_type": "code",
   "execution_count": 32,
   "metadata": {
    "ExecuteTime": {
     "end_time": "2021-02-16T05:44:54.134216Z",
     "start_time": "2021-02-16T05:44:53.879230Z"
    },
    "scrolled": true
   },
   "outputs": [
    {
     "data": {
      "text/plain": [
       "['Depression',\n",
       " 'Gender',\n",
       " 'Race',\n",
       " 'Citizenship',\n",
       " 'Education Level',\n",
       " 'Marital Status',\n",
       " 'Pregnant',\n",
       " 'Birth Place',\n",
       " 'Veteran',\n",
       " 'Household Income',\n",
       " 'Asthma',\n",
       " 'Asthma Currently',\n",
       " 'Asthma Emergency',\n",
       " 'Anemia',\n",
       " 'Ever Overweight',\n",
       " 'Blood Transfusion',\n",
       " 'Arthritis',\n",
       " 'Heart Failure',\n",
       " 'Heart Disease',\n",
       " 'Angina',\n",
       " 'Heart Attack',\n",
       " 'Stroke',\n",
       " 'Emphysema',\n",
       " 'Bronchitis',\n",
       " 'Liver Condition',\n",
       " 'Thyroid Problem',\n",
       " 'Bronchitis Currently',\n",
       " 'Liver Condition Currently',\n",
       " 'Thyroid Problem Currently',\n",
       " 'Cancer',\n",
       " 'First Cancer Type',\n",
       " 'Second Cancer Type',\n",
       " 'Third Cancer Type',\n",
       " 'Fourth Cancer Count',\n",
       " 'Heart Attack Relative',\n",
       " 'Asthma Relative',\n",
       " 'Diabetes Relative',\n",
       " 'Hay Fever',\n",
       " 'Arthritis Type',\n",
       " 'First Cancer Count',\n",
       " 'Second Cancer Count',\n",
       " 'Third Cancer Count',\n",
       " 'Irregular Pulse',\n",
       " 'Full Time Work',\n",
       " 'Work Type',\n",
       " 'Out Of Work',\n",
       " 'Trouble Sleeping History',\n",
       " 'Vigorous Recreation',\n",
       " 'Moderate Recreation',\n",
       " 'Vigorous Work',\n",
       " 'Moderate Work',\n",
       " 'Lifetime Alcohol Consumption',\n",
       " 'Cant Work',\n",
       " 'Limited Work',\n",
       " 'Walking Equipment',\n",
       " 'Memory Problems',\n",
       " 'Limitations',\n",
       " 'Healthcare Equipment',\n",
       " 'Health Problem Other Impairment',\n",
       " 'Health Problem Bone Or Joint',\n",
       " 'Health Problem Weight',\n",
       " 'Health Problem Back Or Neck',\n",
       " 'Health Problem Arthritis',\n",
       " 'Health Problem Cancer',\n",
       " 'Health Problem Other Injury',\n",
       " 'Health Problem Breathing',\n",
       " 'Health Problem Stroke',\n",
       " 'Health Problem Blood Pressure',\n",
       " 'Health Problem Mental Retardation',\n",
       " 'Health Problem Hearing',\n",
       " 'Health Problem Heart',\n",
       " 'Health Problem Vision',\n",
       " 'Health Problem Diabetes',\n",
       " 'Health Problem Birth Defect',\n",
       " 'Health Problem Senility',\n",
       " 'Health Problem Other Developmental',\n",
       " 'Marijuana Use',\n",
       " 'Cocaine Use',\n",
       " 'Cocaine Number Uses',\n",
       " 'Heroine Use',\n",
       " 'Meth Use',\n",
       " 'Meth Number Uses',\n",
       " 'Inject Drugs',\n",
       " 'Rehab Program',\n",
       " 'Current Smoker',\n",
       " 'Rx Lisinopril',\n",
       " 'Rx Metformin',\n",
       " 'Rx Albuterol',\n",
       " 'Rx Levothyroxine',\n",
       " 'Rx Simvastatin',\n",
       " 'Rx Atorvastatin',\n",
       " 'Rx Metoprolol',\n",
       " 'Rx Amlodipine',\n",
       " 'Rx Omeprazole',\n",
       " 'Rx Hydrochlorothiazide',\n",
       " 'Rx Furosemide',\n",
       " 'Rx Atenolol',\n",
       " 'Rx Losartan',\n",
       " 'Rx Montelukast',\n",
       " 'Rx Amoxicillin',\n",
       " 'Rx Acetaminophen, Hydrocodone',\n",
       " 'Rx Gabapentin',\n",
       " 'Rx Potassium Chloride',\n",
       " 'Rx Glipizide',\n",
       " 'Rx Ibuprofen',\n",
       " 'Rx Ranitidine',\n",
       " 'Rx Clopidogrel',\n",
       " 'Rx Pravastatin',\n",
       " 'Rx Warfarin',\n",
       " 'Rx Esomeprazole',\n",
       " 'Rx Fluticasone Nasal',\n",
       " 'Rx Carvedilol',\n",
       " 'Rx Rosuvastatin',\n",
       " 'Rx Insulin Glargine',\n",
       " 'Rx Cetirizine',\n",
       " 'Rx Fluticasone, Salmeterol',\n",
       " 'Rx Tamsulosin',\n",
       " 'Rx Pantoprazole',\n",
       " 'Rx Tramadol',\n",
       " 'Rx Alprazolam',\n",
       " 'Rx Hydrochlorothiazide, Lisinopril',\n",
       " 'Rx Lovastatin',\n",
       " 'Rx Prednisone',\n",
       " 'Rx Allopurinol',\n",
       " 'Rx Naproxen',\n",
       " 'Rx Valsartan',\n",
       " 'Rx Aspirin',\n",
       " 'Rx Zolpidem',\n",
       " 'Rx Cyclobenzaprine',\n",
       " 'Rx Diltiazem',\n",
       " 'Rx Alendronate',\n",
       " 'Rx Clonidine',\n",
       " 'Rx Lansoprazole',\n",
       " 'Rx Meloxicam',\n",
       " 'Rx Methylphenidate',\n",
       " 'Rx Hydrochlorothiazide, Triamterene',\n",
       " 'Rx Glimepiride',\n",
       " 'Rx Clonazepam',\n",
       " 'Rx Pioglitazone',\n",
       " 'Rx Enalapril',\n",
       " 'Rx Fenofibrate',\n",
       " 'Rx Fluticasone',\n",
       " 'Rx Glyburide',\n",
       " 'Rx Hydrochlorothiazide, Losartan',\n",
       " 'Rx Lorazepam',\n",
       " 'Rx Spironolactone',\n",
       " 'Rx Nifedipine',\n",
       " 'Rx Amphetamine, Dextroamphetamine',\n",
       " 'Rx Hydrocodone',\n",
       " 'Rx Finasteride',\n",
       " 'Rx Fexofenadine',\n",
       " 'Rx Ezetimibe',\n",
       " 'Rx Ethinyl Estradiol, Norgestimate',\n",
       " 'Rx Digoxin',\n",
       " 'Rx Insulin Aspart',\n",
       " 'Rx Ethinyl Estradiol, Norethindrone',\n",
       " 'Rx Amlodipine, Benazepril',\n",
       " 'Rx Azithromycin',\n",
       " 'Rx Celecoxib',\n",
       " 'Rx Ramipril',\n",
       " 'Rx Benazepril',\n",
       " 'Rx Oxycodone',\n",
       " 'Rx Terazosin',\n",
       " 'Rx Famotidine',\n",
       " 'Rx Acetaminophen, Oxycodone',\n",
       " 'Rx Ezetimibe, Simvastatin',\n",
       " 'Rx Mometasone Nasal',\n",
       " 'Rx Sitagliptin',\n",
       " 'Rx Hydroxyzine',\n",
       " 'Rx Budesonide',\n",
       " 'Rx Verapamil',\n",
       " 'Rx Propranolol',\n",
       " 'Rx Nitroglycerin',\n",
       " 'Rx Tiotropium',\n",
       " 'Rx Isosorbide Mononitrate',\n",
       " 'Rx Donepezil',\n",
       " 'Rx Doxazosin',\n",
       " 'Rx Oxybutynin',\n",
       " 'Rx Hydrochlorothiazide, Valsartan',\n",
       " 'Rx Estradiol',\n",
       " 'Rx Diclofenac',\n",
       " 'Rx Latanoprost Ophthalmic',\n",
       " 'Rx Hydralazine',\n",
       " 'Rx Olmesartan',\n",
       " 'Rx Sulfamethoxazole, Trimethoprim',\n",
       " 'Rx Cephalexin',\n",
       " 'Rx Gemfibrozil',\n",
       " 'Rx Insulin Lispro',\n",
       " 'Rx Pregabalin',\n",
       " 'Rx Amoxicillin, Clavulanate',\n",
       " 'Rx Albuterol, Ipratropium',\n",
       " 'Rx Conjugated Estrogens',\n",
       " 'Rx Doxycycline',\n",
       " 'Rx Beclomethasone',\n",
       " 'Rx Buspirone',\n",
       " 'Rx Diazepam',\n",
       " 'Rx Acetaminophen, Codeine',\n",
       " 'Rx Ethinyl Estradiol, Levonorgestrel',\n",
       " 'Rx Quinapril',\n",
       " 'Rx Insulin Detemir',\n",
       " 'Rx Budesonide, Formoterol',\n",
       " 'Rx Meclizine',\n",
       " 'Rx Polyethylene Glycol 3350',\n",
       " 'Rx Baclofen',\n",
       " 'Rx Lisdexamfetamine',\n",
       " 'Rx Metoclopramide',\n",
       " 'Rx Levalbuterol',\n",
       " 'Rx Methotrexate',\n",
       " 'Rx Promethazine',\n",
       " 'Rx Temazepam',\n",
       " 'Rx Levetiracetam',\n",
       " 'Rx Irbesartan',\n",
       " 'Rx Docusate',\n",
       " 'Rx Hydrochlorothiazide, Olmesartan',\n",
       " 'Rx Ondansetron',\n",
       " 'Rx Ciprofloxacin',\n",
       " 'Rx Phenytoin',\n",
       " 'Rx Amiodarone',\n",
       " 'Rx Niacin',\n",
       " 'Rx Hydroxychloroquine',\n",
       " 'Rx Tizanidine',\n",
       " 'Rx Risedronate',\n",
       " 'Rx Brimonidine Ophthalmic',\n",
       " 'Rx Timolol Ophthalmic',\n",
       " 'Rx Ipratropium',\n",
       " 'Rx Ropinirole',\n",
       " 'Rx Cefdinir',\n",
       " 'Rx Insulin Isophane, Insulin Regular',\n",
       " 'Rx Glyburide, Metformin',\n",
       " 'Rx Triamcinolone Topical',\n",
       " 'Rx Colchicine',\n",
       " 'Rx Acyclovir',\n",
       " 'Rx Raloxifene',\n",
       " 'Rx Rabeprazole',\n",
       " 'Rx Nitrofurantoin',\n",
       " 'Rx Triamterene',\n",
       " 'Rx Tolterodine',\n",
       " 'Rx Sumatriptan',\n",
       " 'Rx Prednisolone',\n",
       " 'Rx Isosorbide',\n",
       " 'Rx Drospirenone, Ethinyl Estradiol',\n",
       " 'Rx Acetaminophen, Propoxyphene',\n",
       " 'Rx Penicillin',\n",
       " 'Rx Insulin Regular',\n",
       " 'Rx Memantine',\n",
       " 'Rx Diphenhydramine',\n",
       " 'Rx Minocycline',\n",
       " 'Rx Methocarbamol',\n",
       " 'Household Smokers',\n",
       " 'Household Size']"
      ]
     },
     "execution_count": 32,
     "metadata": {},
     "output_type": "execute_result"
    }
   ],
   "source": [
    "# Creating a categorical columns list\n",
    "cat_cols = list(df.select_dtypes('O').columns)\n",
    "cat_cols.append('Household Smokers')\n",
    "cat_cols.append('Household Size')\n",
    "cat_cols"
   ]
  },
  {
   "cell_type": "code",
   "execution_count": 33,
   "metadata": {
    "ExecuteTime": {
     "end_time": "2021-02-16T05:45:03.428891Z",
     "start_time": "2021-02-16T05:45:03.419892Z"
    }
   },
   "outputs": [],
   "source": [
    "# Creating a numerical columns list\n",
    "num_cols = list(df.columns)\n",
    "for col in cat_cols:\n",
    "    num_cols.remove(col)"
   ]
  },
  {
   "cell_type": "code",
   "execution_count": 34,
   "metadata": {
    "ExecuteTime": {
     "end_time": "2021-02-16T05:45:04.045805Z",
     "start_time": "2021-02-16T05:45:04.039802Z"
    }
   },
   "outputs": [
    {
     "name": "stdout",
     "output_type": "stream",
     "text": [
      "491\n",
      "249\n",
      "241\n"
     ]
    }
   ],
   "source": [
    "# Checking the lengths of the lists\n",
    "cat_cols.remove('Depression')\n",
    "print(len(df.columns))\n",
    "print(len(cat_cols))\n",
    "print(len(num_cols))"
   ]
  },
  {
   "cell_type": "code",
   "execution_count": 24,
   "metadata": {
    "ExecuteTime": {
     "end_time": "2021-01-31T08:54:49.578068Z",
     "start_time": "2021-01-31T08:54:49.571564Z"
    }
   },
   "outputs": [
    {
     "name": "stdout",
     "output_type": "stream",
     "text": [
      "Numerical Columns:\n",
      "\n",
      "['Age', 'Asthma Onset', 'Arthritis Onset', 'Heart Failure Onset', 'Heart Disease Onset', 'Angina Onset', 'Heart Attack Onset', 'Stroke Onset', 'Emphysema Onset', 'Bronchitis Onset', 'Liver Condition Onset', 'Thyroid Problem Onset', 'Cancer Onset', 'Weight', 'Height', 'BMI', 'Pulse', 'Systolic', 'Diastolic', 'Total Cholesterol', 'HDL', 'Triglycerides', 'LDL', 'Albumin', 'ALT', 'AST', 'ALP', 'BUN', 'Calcium', 'CO2', 'Creatinine', 'GGT', 'Glucose', 'Iron', 'LHD', 'Phosphorus', 'Bilirubin', 'Total Protein', 'Uric Acid', 'Sodium', 'Potassium', 'Chloride', 'Osmolality', 'Globulin', 'White BCC', 'Lymphocyte Percent', 'Monocyte Percent', 'Neutrophils Percent', 'Eosinophils Percent', 'Basophils Percent', 'Lymphocyte Count', 'Monocyte Count', 'Neutrophils Count', 'Eosinophils Count', 'Basophils Count', 'RBC Count', 'Hemoglobin', 'Hematocrit', 'MCV', 'MCH', 'MCHC', 'RDW', 'Platelet Count', 'MPV', 'Time In Current Job', 'Sleep Hours', 'Sedentary Time', 'Drinks Per Occasion', 'Drinks Past Year', 'Marijuana Per Month', 'Cocaine Per Month', 'Heronine Per Month', 'Meth Per Month', 'Start Smoking Age', 'Previous Cigarettes Per Day', 'Current Cigarettes Per Day', 'Days Quit Smoking']\n",
      "\n",
      "\n",
      " Categorical Columns:\n",
      "\n",
      "['Gender', 'Race', 'Citizenship', 'Education Level', 'Marital Status', 'Pregnant', 'Birth Place', 'Veteran', 'Household Income', 'Asthma', 'Asthma Currently', 'Asthma Emergency', 'Anemia', 'Ever Overweight', 'Blood Transfusion', 'Arthritis', 'Heart Failure', 'Heart Disease', 'Angina', 'Heart Attack', 'Stroke', 'Emphysema', 'Bronchitis', 'Liver Condition', 'Thyroid Problem', 'Bronchitis Currently', 'Liver Condition Currently', 'Thyroid Problem Currently', 'Cancer', 'First Cancer Type', 'Second Cancer Type', 'Third Cancer Type', 'Fourth Cancer Count', 'Heart Attack Relative', 'Asthma Relative', 'Diabetes Relative', 'Hay Fever', 'Arthritis Type', 'First Cancer Count', 'Second Cancer Count', 'Third Cancer Count', 'Irregular Pulse', 'Full Time Work', 'Work Type', 'Out Of Work', 'Trouble Sleeping History', 'Vigorous Recreation', 'Moderate Recreation', 'Vigorous Work', 'Moderate Work', 'Lifetime Alcohol Consumption', 'Cant Work', 'Limited Work', 'Walking Equipment', 'Memory Problems', 'Limitations', 'Healthcare Equipment', 'Health Problem Other Impairment', 'Health Problem Bone Or Joint', 'Health Problem Weight', 'Health Problem Back Or Neck', 'Health Problem Arthritis', 'Health Problem Cancer', 'Health Problem Other Injury', 'Health Problem Breathing', 'Health Problem Stroke', 'Health Problem Emotional', 'Health Problem Blood Pressure', 'Health Problem Mental Retardation', 'Health Problem Hearing', 'Health Problem Heart', 'Health Problem Vision', 'Health Problem Diabetes', 'Health Problem Birth Defect', 'Health Problem Senility', 'Health Problem Other Developmental', 'Marijuana Use', 'Cocaine Use', 'Cocaine Number Uses', 'Heroine Use', 'Meth Use', 'Meth Number Uses', 'Inject Drugs', 'Rehab Program', 'Current Smoker', 'Household Smokers', 'Household Size']\n"
     ]
    }
   ],
   "source": [
    "# Printing the lists\n",
    "print('Numerical Columns:\\n')\n",
    "print(num_cols)\n",
    "print('\\n\\n Categorical Columns:\\n')\n",
    "print(cat_cols)"
   ]
  },
  {
   "cell_type": "code",
   "execution_count": 35,
   "metadata": {
    "ExecuteTime": {
     "end_time": "2021-02-16T05:46:32.033984Z",
     "start_time": "2021-02-16T05:46:32.023229Z"
    }
   },
   "outputs": [
    {
     "data": {
      "text/plain": [
       "['Rx Lisinopril',\n",
       " 'Rx Days Lisinopril',\n",
       " 'Rx Metformin',\n",
       " 'Rx Days Metformin',\n",
       " 'Rx Albuterol',\n",
       " 'Rx Days Albuterol',\n",
       " 'Rx Levothyroxine',\n",
       " 'Rx Days Levothyroxine',\n",
       " 'Rx Simvastatin',\n",
       " 'Rx Days Simvastatin',\n",
       " 'Rx Atorvastatin',\n",
       " 'Rx Days Atorvastatin',\n",
       " 'Rx Metoprolol',\n",
       " 'Rx Days Metoprolol',\n",
       " 'Rx Amlodipine',\n",
       " 'Rx Days Amlodipine',\n",
       " 'Rx Omeprazole',\n",
       " 'Rx Days Omeprazole',\n",
       " 'Rx Hydrochlorothiazide',\n",
       " 'Rx Days Hydrochlorothiazide',\n",
       " 'Rx Furosemide',\n",
       " 'Rx Days Furosemide',\n",
       " 'Rx Atenolol',\n",
       " 'Rx Days Atenolol',\n",
       " 'Rx Losartan',\n",
       " 'Rx Days Losartan',\n",
       " 'Rx Montelukast',\n",
       " 'Rx Days Montelukast',\n",
       " 'Rx Amoxicillin',\n",
       " 'Rx Days Amoxicillin',\n",
       " 'Rx Acetaminophen, Hydrocodone',\n",
       " 'Rx Days Acetaminophen, Hydrocodone',\n",
       " 'Rx Gabapentin',\n",
       " 'Rx Days Gabapentin',\n",
       " 'Rx Potassium Chloride',\n",
       " 'Rx Days Potassium Chloride',\n",
       " 'Rx Glipizide',\n",
       " 'Rx Days Glipizide',\n",
       " 'Rx Ibuprofen',\n",
       " 'Rx Days Ibuprofen',\n",
       " 'Rx Ranitidine',\n",
       " 'Rx Days Ranitidine',\n",
       " 'Rx Clopidogrel',\n",
       " 'Rx Days Clopidogrel',\n",
       " 'Rx Pravastatin',\n",
       " 'Rx Days Pravastatin',\n",
       " 'Rx Warfarin',\n",
       " 'Rx Days Warfarin',\n",
       " 'Rx Esomeprazole',\n",
       " 'Rx Days Esomeprazole',\n",
       " 'Rx Fluticasone Nasal',\n",
       " 'Rx Days Fluticasone Nasal',\n",
       " 'Rx Carvedilol',\n",
       " 'Rx Days Carvedilol',\n",
       " 'Rx Rosuvastatin',\n",
       " 'Rx Days Rosuvastatin',\n",
       " 'Rx Insulin Glargine',\n",
       " 'Rx Days Insulin Glargine',\n",
       " 'Rx Cetirizine',\n",
       " 'Rx Days Cetirizine',\n",
       " 'Rx Fluticasone, Salmeterol',\n",
       " 'Rx Days Fluticasone, Salmeterol',\n",
       " 'Rx Tamsulosin',\n",
       " 'Rx Days Tamsulosin',\n",
       " 'Rx Pantoprazole',\n",
       " 'Rx Days Pantoprazole',\n",
       " 'Rx Tramadol',\n",
       " 'Rx Days Tramadol',\n",
       " 'Rx Alprazolam',\n",
       " 'Rx Days Alprazolam',\n",
       " 'Rx Hydrochlorothiazide, Lisinopril',\n",
       " 'Rx Days Hydrochlorothiazide, Lisinopril',\n",
       " 'Rx Lovastatin',\n",
       " 'Rx Days Lovastatin',\n",
       " 'Rx Prednisone',\n",
       " 'Rx Days Prednisone',\n",
       " 'Rx Allopurinol',\n",
       " 'Rx Days Allopurinol',\n",
       " 'Rx Naproxen',\n",
       " 'Rx Days Naproxen',\n",
       " 'Rx Valsartan',\n",
       " 'Rx Days Valsartan',\n",
       " 'Rx Aspirin',\n",
       " 'Rx Days Aspirin',\n",
       " 'Rx Zolpidem',\n",
       " 'Rx Days Zolpidem',\n",
       " 'Rx Cyclobenzaprine',\n",
       " 'Rx Days Cyclobenzaprine',\n",
       " 'Rx Diltiazem',\n",
       " 'Rx Days Diltiazem',\n",
       " 'Rx Alendronate',\n",
       " 'Rx Days Alendronate',\n",
       " 'Rx Clonidine',\n",
       " 'Rx Days Clonidine',\n",
       " 'Rx Lansoprazole',\n",
       " 'Rx Days Lansoprazole',\n",
       " 'Rx Meloxicam',\n",
       " 'Rx Days Meloxicam',\n",
       " 'Rx Methylphenidate',\n",
       " 'Rx Days Methylphenidate',\n",
       " 'Rx Hydrochlorothiazide, Triamterene',\n",
       " 'Rx Days Hydrochlorothiazide, Triamterene',\n",
       " 'Rx Glimepiride',\n",
       " 'Rx Days Glimepiride',\n",
       " 'Rx Clonazepam',\n",
       " 'Rx Days Clonazepam',\n",
       " 'Rx Pioglitazone',\n",
       " 'Rx Days Pioglitazone',\n",
       " 'Rx Enalapril',\n",
       " 'Rx Days Enalapril',\n",
       " 'Rx Fenofibrate',\n",
       " 'Rx Days Fenofibrate',\n",
       " 'Rx Fluticasone',\n",
       " 'Rx Days Fluticasone',\n",
       " 'Rx Glyburide',\n",
       " 'Rx Days Glyburide',\n",
       " 'Rx Hydrochlorothiazide, Losartan',\n",
       " 'Rx Days Hydrochlorothiazide, Losartan',\n",
       " 'Rx Lorazepam',\n",
       " 'Rx Days Lorazepam',\n",
       " 'Rx Spironolactone',\n",
       " 'Rx Days Spironolactone',\n",
       " 'Rx Nifedipine',\n",
       " 'Rx Days Nifedipine',\n",
       " 'Rx Amphetamine, Dextroamphetamine',\n",
       " 'Rx Days Amphetamine, Dextroamphetamine',\n",
       " 'Rx Hydrocodone',\n",
       " 'Rx Days Hydrocodone',\n",
       " 'Rx Finasteride',\n",
       " 'Rx Days Finasteride',\n",
       " 'Rx Fexofenadine',\n",
       " 'Rx Days Fexofenadine',\n",
       " 'Rx Ezetimibe',\n",
       " 'Rx Days Ezetimibe',\n",
       " 'Rx Ethinyl Estradiol, Norgestimate',\n",
       " 'Rx Days Ethinyl Estradiol, Norgestimate',\n",
       " 'Rx Digoxin',\n",
       " 'Rx Days Digoxin',\n",
       " 'Rx Insulin Aspart',\n",
       " 'Rx Days Insulin Aspart',\n",
       " 'Rx Ethinyl Estradiol, Norethindrone',\n",
       " 'Rx Days Ethinyl Estradiol, Norethindrone',\n",
       " 'Rx Amlodipine, Benazepril',\n",
       " 'Rx Days Amlodipine, Benazepril',\n",
       " 'Rx Azithromycin',\n",
       " 'Rx Days Azithromycin',\n",
       " 'Rx Celecoxib',\n",
       " 'Rx Days Celecoxib',\n",
       " 'Rx Ramipril',\n",
       " 'Rx Days Ramipril',\n",
       " 'Rx Benazepril',\n",
       " 'Rx Days Benazepril',\n",
       " 'Rx Oxycodone',\n",
       " 'Rx Days Oxycodone',\n",
       " 'Rx Terazosin',\n",
       " 'Rx Days Terazosin',\n",
       " 'Rx Famotidine',\n",
       " 'Rx Days Famotidine',\n",
       " 'Rx Acetaminophen, Oxycodone',\n",
       " 'Rx Days Acetaminophen, Oxycodone',\n",
       " 'Rx Ezetimibe, Simvastatin',\n",
       " 'Rx Days Ezetimibe, Simvastatin',\n",
       " 'Rx Mometasone Nasal',\n",
       " 'Rx Days Mometasone Nasal',\n",
       " 'Rx Sitagliptin',\n",
       " 'Rx Days Sitagliptin',\n",
       " 'Rx Hydroxyzine',\n",
       " 'Rx Days Hydroxyzine',\n",
       " 'Rx Budesonide',\n",
       " 'Rx Days Budesonide',\n",
       " 'Rx Verapamil',\n",
       " 'Rx Days Verapamil',\n",
       " 'Rx Propranolol',\n",
       " 'Rx Days Propranolol',\n",
       " 'Rx Nitroglycerin',\n",
       " 'Rx Days Nitroglycerin',\n",
       " 'Rx Tiotropium',\n",
       " 'Rx Days Tiotropium',\n",
       " 'Rx Isosorbide Mononitrate',\n",
       " 'Rx Days Isosorbide Mononitrate',\n",
       " 'Rx Donepezil',\n",
       " 'Rx Days Donepezil',\n",
       " 'Rx Doxazosin',\n",
       " 'Rx Days Doxazosin',\n",
       " 'Rx Oxybutynin',\n",
       " 'Rx Days Oxybutynin',\n",
       " 'Rx Hydrochlorothiazide, Valsartan',\n",
       " 'Rx Days Hydrochlorothiazide, Valsartan',\n",
       " 'Rx Estradiol',\n",
       " 'Rx Days Estradiol',\n",
       " 'Rx Diclofenac',\n",
       " 'Rx Days Diclofenac',\n",
       " 'Rx Latanoprost Ophthalmic',\n",
       " 'Rx Days Latanoprost Ophthalmic',\n",
       " 'Rx Hydralazine',\n",
       " 'Rx Days Hydralazine',\n",
       " 'Rx Olmesartan',\n",
       " 'Rx Days Olmesartan',\n",
       " 'Rx Sulfamethoxazole, Trimethoprim',\n",
       " 'Rx Days Sulfamethoxazole, Trimethoprim',\n",
       " 'Rx Cephalexin',\n",
       " 'Rx Days Cephalexin',\n",
       " 'Rx Gemfibrozil',\n",
       " 'Rx Days Gemfibrozil',\n",
       " 'Rx Insulin Lispro',\n",
       " 'Rx Days Insulin Lispro',\n",
       " 'Rx Pregabalin',\n",
       " 'Rx Days Pregabalin',\n",
       " 'Rx Amoxicillin, Clavulanate',\n",
       " 'Rx Days Amoxicillin, Clavulanate',\n",
       " 'Rx Albuterol, Ipratropium',\n",
       " 'Rx Days Albuterol, Ipratropium',\n",
       " 'Rx Conjugated Estrogens',\n",
       " 'Rx Days Conjugated Estrogens',\n",
       " 'Rx Doxycycline',\n",
       " 'Rx Days Doxycycline',\n",
       " 'Rx Beclomethasone',\n",
       " 'Rx Days Beclomethasone',\n",
       " 'Rx Buspirone',\n",
       " 'Rx Days Buspirone',\n",
       " 'Rx Diazepam',\n",
       " 'Rx Days Diazepam',\n",
       " 'Rx Acetaminophen, Codeine',\n",
       " 'Rx Days Acetaminophen, Codeine',\n",
       " 'Rx Ethinyl Estradiol, Levonorgestrel',\n",
       " 'Rx Days Ethinyl Estradiol, Levonorgestrel',\n",
       " 'Rx Quinapril',\n",
       " 'Rx Days Quinapril',\n",
       " 'Rx Insulin Detemir',\n",
       " 'Rx Days Insulin Detemir',\n",
       " 'Rx Budesonide, Formoterol',\n",
       " 'Rx Days Budesonide, Formoterol',\n",
       " 'Rx Meclizine',\n",
       " 'Rx Days Meclizine',\n",
       " 'Rx Polyethylene Glycol 3350',\n",
       " 'Rx Days Polyethylene Glycol 3350',\n",
       " 'Rx Baclofen',\n",
       " 'Rx Days Baclofen',\n",
       " 'Rx Lisdexamfetamine',\n",
       " 'Rx Days Lisdexamfetamine',\n",
       " 'Rx Metoclopramide',\n",
       " 'Rx Days Metoclopramide',\n",
       " 'Rx Levalbuterol',\n",
       " 'Rx Days Levalbuterol',\n",
       " 'Rx Methotrexate',\n",
       " 'Rx Days Methotrexate',\n",
       " 'Rx Promethazine',\n",
       " 'Rx Days Promethazine',\n",
       " 'Rx Temazepam',\n",
       " 'Rx Days Temazepam',\n",
       " 'Rx Levetiracetam',\n",
       " 'Rx Days Levetiracetam',\n",
       " 'Rx Irbesartan',\n",
       " 'Rx Days Irbesartan',\n",
       " 'Rx Docusate',\n",
       " 'Rx Days Docusate',\n",
       " 'Rx Hydrochlorothiazide, Olmesartan',\n",
       " 'Rx Days Hydrochlorothiazide, Olmesartan',\n",
       " 'Rx Ondansetron',\n",
       " 'Rx Days Ondansetron',\n",
       " 'Rx Ciprofloxacin',\n",
       " 'Rx Days Ciprofloxacin',\n",
       " 'Rx Phenytoin',\n",
       " 'Rx Days Phenytoin',\n",
       " 'Rx Amiodarone',\n",
       " 'Rx Days Amiodarone',\n",
       " 'Rx Niacin',\n",
       " 'Rx Days Niacin',\n",
       " 'Rx Hydroxychloroquine',\n",
       " 'Rx Days Hydroxychloroquine',\n",
       " 'Rx Tizanidine',\n",
       " 'Rx Days Tizanidine',\n",
       " 'Rx Risedronate',\n",
       " 'Rx Days Risedronate',\n",
       " 'Rx Brimonidine Ophthalmic',\n",
       " 'Rx Days Brimonidine Ophthalmic',\n",
       " 'Rx Timolol Ophthalmic',\n",
       " 'Rx Days Timolol Ophthalmic',\n",
       " 'Rx Ipratropium',\n",
       " 'Rx Days Ipratropium',\n",
       " 'Rx Ropinirole',\n",
       " 'Rx Days Ropinirole',\n",
       " 'Rx Cefdinir',\n",
       " 'Rx Days Cefdinir',\n",
       " 'Rx Insulin Isophane, Insulin Regular',\n",
       " 'Rx Days Insulin Isophane, Insulin Regular',\n",
       " 'Rx Glyburide, Metformin',\n",
       " 'Rx Days Glyburide, Metformin',\n",
       " 'Rx Triamcinolone Topical',\n",
       " 'Rx Days Triamcinolone Topical',\n",
       " 'Rx Colchicine',\n",
       " 'Rx Days Colchicine',\n",
       " 'Rx Acyclovir',\n",
       " 'Rx Days Acyclovir',\n",
       " 'Rx Raloxifene',\n",
       " 'Rx Days Raloxifene',\n",
       " 'Rx Rabeprazole',\n",
       " 'Rx Days Rabeprazole',\n",
       " 'Rx Nitrofurantoin',\n",
       " 'Rx Days Nitrofurantoin',\n",
       " 'Rx Triamterene',\n",
       " 'Rx Days Triamterene',\n",
       " 'Rx Tolterodine',\n",
       " 'Rx Days Tolterodine',\n",
       " 'Rx Sumatriptan',\n",
       " 'Rx Days Sumatriptan',\n",
       " 'Rx Prednisolone',\n",
       " 'Rx Days Prednisolone',\n",
       " 'Rx Isosorbide',\n",
       " 'Rx Days Isosorbide',\n",
       " 'Rx Drospirenone, Ethinyl Estradiol',\n",
       " 'Rx Days Drospirenone, Ethinyl Estradiol',\n",
       " 'Rx Acetaminophen, Propoxyphene',\n",
       " 'Rx Days Acetaminophen, Propoxyphene',\n",
       " 'Rx Penicillin',\n",
       " 'Rx Days Penicillin',\n",
       " 'Rx Insulin Regular',\n",
       " 'Rx Days Insulin Regular',\n",
       " 'Rx Memantine',\n",
       " 'Rx Days Memantine',\n",
       " 'Rx Diphenhydramine',\n",
       " 'Rx Days Diphenhydramine',\n",
       " 'Rx Minocycline',\n",
       " 'Rx Days Minocycline',\n",
       " 'Rx Methocarbamol',\n",
       " 'Rx Days Methocarbamol']"
      ]
     },
     "execution_count": 35,
     "metadata": {},
     "output_type": "execute_result"
    }
   ],
   "source": [
    "Rx_cols = []\n",
    "for col in df.columns:\n",
    "    if 'Rx' in col:\n",
    "        Rx_cols.append(col)\n",
    "Rx_cols"
   ]
  },
  {
   "cell_type": "code",
   "execution_count": 43,
   "metadata": {
    "ExecuteTime": {
     "end_time": "2021-02-16T05:56:10.471031Z",
     "start_time": "2021-02-16T05:56:10.466031Z"
    }
   },
   "outputs": [],
   "source": [
    "temp_list = []\n",
    "for col in Rx_cols:\n",
    "    med_name = col.replace('Rx ', '').replace('Days ', '')\n",
    "    temp_list.append(med_name)"
   ]
  },
  {
   "cell_type": "code",
   "execution_count": 44,
   "metadata": {
    "ExecuteTime": {
     "end_time": "2021-02-16T05:56:13.525280Z",
     "start_time": "2021-02-16T05:56:13.517274Z"
    }
   },
   "outputs": [
    {
     "data": {
      "text/plain": [
       "['Lisinopril',\n",
       " 'Lisinopril',\n",
       " 'Metformin',\n",
       " 'Metformin',\n",
       " 'Albuterol',\n",
       " 'Albuterol',\n",
       " 'Levothyroxine',\n",
       " 'Levothyroxine',\n",
       " 'Simvastatin',\n",
       " 'Simvastatin',\n",
       " 'Atorvastatin',\n",
       " 'Atorvastatin',\n",
       " 'Metoprolol',\n",
       " 'Metoprolol',\n",
       " 'Amlodipine',\n",
       " 'Amlodipine',\n",
       " 'Omeprazole',\n",
       " 'Omeprazole',\n",
       " 'Hydrochlorothiazide',\n",
       " 'Hydrochlorothiazide',\n",
       " 'Furosemide',\n",
       " 'Furosemide',\n",
       " 'Atenolol',\n",
       " 'Atenolol',\n",
       " 'Losartan',\n",
       " 'Losartan',\n",
       " 'Montelukast',\n",
       " 'Montelukast',\n",
       " 'Amoxicillin',\n",
       " 'Amoxicillin',\n",
       " 'Acetaminophen, Hydrocodone',\n",
       " 'Acetaminophen, Hydrocodone',\n",
       " 'Gabapentin',\n",
       " 'Gabapentin',\n",
       " 'Potassium Chloride',\n",
       " 'Potassium Chloride',\n",
       " 'Glipizide',\n",
       " 'Glipizide',\n",
       " 'Ibuprofen',\n",
       " 'Ibuprofen',\n",
       " 'Ranitidine',\n",
       " 'Ranitidine',\n",
       " 'Clopidogrel',\n",
       " 'Clopidogrel',\n",
       " 'Pravastatin',\n",
       " 'Pravastatin',\n",
       " 'Warfarin',\n",
       " 'Warfarin',\n",
       " 'Esomeprazole',\n",
       " 'Esomeprazole',\n",
       " 'Fluticasone Nasal',\n",
       " 'Fluticasone Nasal',\n",
       " 'Carvedilol',\n",
       " 'Carvedilol',\n",
       " 'Rosuvastatin',\n",
       " 'Rosuvastatin',\n",
       " 'Insulin Glargine',\n",
       " 'Insulin Glargine',\n",
       " 'Cetirizine',\n",
       " 'Cetirizine',\n",
       " 'Fluticasone, Salmeterol',\n",
       " 'Fluticasone, Salmeterol',\n",
       " 'Tamsulosin',\n",
       " 'Tamsulosin',\n",
       " 'Pantoprazole',\n",
       " 'Pantoprazole',\n",
       " 'Tramadol',\n",
       " 'Tramadol',\n",
       " 'Alprazolam',\n",
       " 'Alprazolam',\n",
       " 'Hydrochlorothiazide, Lisinopril',\n",
       " 'Hydrochlorothiazide, Lisinopril',\n",
       " 'Lovastatin',\n",
       " 'Lovastatin',\n",
       " 'Prednisone',\n",
       " 'Prednisone',\n",
       " 'Allopurinol',\n",
       " 'Allopurinol',\n",
       " 'Naproxen',\n",
       " 'Naproxen',\n",
       " 'Valsartan',\n",
       " 'Valsartan',\n",
       " 'Aspirin',\n",
       " 'Aspirin',\n",
       " 'Zolpidem',\n",
       " 'Zolpidem',\n",
       " 'Cyclobenzaprine',\n",
       " 'Cyclobenzaprine',\n",
       " 'Diltiazem',\n",
       " 'Diltiazem',\n",
       " 'Alendronate',\n",
       " 'Alendronate',\n",
       " 'Clonidine',\n",
       " 'Clonidine',\n",
       " 'Lansoprazole',\n",
       " 'Lansoprazole',\n",
       " 'Meloxicam',\n",
       " 'Meloxicam',\n",
       " 'Methylphenidate',\n",
       " 'Methylphenidate',\n",
       " 'Hydrochlorothiazide, Triamterene',\n",
       " 'Hydrochlorothiazide, Triamterene',\n",
       " 'Glimepiride',\n",
       " 'Glimepiride',\n",
       " 'Clonazepam',\n",
       " 'Clonazepam',\n",
       " 'Pioglitazone',\n",
       " 'Pioglitazone',\n",
       " 'Enalapril',\n",
       " 'Enalapril',\n",
       " 'Fenofibrate',\n",
       " 'Fenofibrate',\n",
       " 'Fluticasone',\n",
       " 'Fluticasone',\n",
       " 'Glyburide',\n",
       " 'Glyburide',\n",
       " 'Hydrochlorothiazide, Losartan',\n",
       " 'Hydrochlorothiazide, Losartan',\n",
       " 'Lorazepam',\n",
       " 'Lorazepam',\n",
       " 'Spironolactone',\n",
       " 'Spironolactone',\n",
       " 'Nifedipine',\n",
       " 'Nifedipine',\n",
       " 'Amphetamine, Dextroamphetamine',\n",
       " 'Amphetamine, Dextroamphetamine',\n",
       " 'Hydrocodone',\n",
       " 'Hydrocodone',\n",
       " 'Finasteride',\n",
       " 'Finasteride',\n",
       " 'Fexofenadine',\n",
       " 'Fexofenadine',\n",
       " 'Ezetimibe',\n",
       " 'Ezetimibe',\n",
       " 'Ethinyl Estradiol, Norgestimate',\n",
       " 'Ethinyl Estradiol, Norgestimate',\n",
       " 'Digoxin',\n",
       " 'Digoxin',\n",
       " 'Insulin Aspart',\n",
       " 'Insulin Aspart',\n",
       " 'Ethinyl Estradiol, Norethindrone',\n",
       " 'Ethinyl Estradiol, Norethindrone',\n",
       " 'Amlodipine, Benazepril',\n",
       " 'Amlodipine, Benazepril',\n",
       " 'Azithromycin',\n",
       " 'Azithromycin',\n",
       " 'Celecoxib',\n",
       " 'Celecoxib',\n",
       " 'Ramipril',\n",
       " 'Ramipril',\n",
       " 'Benazepril',\n",
       " 'Benazepril',\n",
       " 'Oxycodone',\n",
       " 'Oxycodone',\n",
       " 'Terazosin',\n",
       " 'Terazosin',\n",
       " 'Famotidine',\n",
       " 'Famotidine',\n",
       " 'Acetaminophen, Oxycodone',\n",
       " 'Acetaminophen, Oxycodone',\n",
       " 'Ezetimibe, Simvastatin',\n",
       " 'Ezetimibe, Simvastatin',\n",
       " 'Mometasone Nasal',\n",
       " 'Mometasone Nasal',\n",
       " 'Sitagliptin',\n",
       " 'Sitagliptin',\n",
       " 'Hydroxyzine',\n",
       " 'Hydroxyzine',\n",
       " 'Budesonide',\n",
       " 'Budesonide',\n",
       " 'Verapamil',\n",
       " 'Verapamil',\n",
       " 'Propranolol',\n",
       " 'Propranolol',\n",
       " 'Nitroglycerin',\n",
       " 'Nitroglycerin',\n",
       " 'Tiotropium',\n",
       " 'Tiotropium',\n",
       " 'Isosorbide Mononitrate',\n",
       " 'Isosorbide Mononitrate',\n",
       " 'Donepezil',\n",
       " 'Donepezil',\n",
       " 'Doxazosin',\n",
       " 'Doxazosin',\n",
       " 'Oxybutynin',\n",
       " 'Oxybutynin',\n",
       " 'Hydrochlorothiazide, Valsartan',\n",
       " 'Hydrochlorothiazide, Valsartan',\n",
       " 'Estradiol',\n",
       " 'Estradiol',\n",
       " 'Diclofenac',\n",
       " 'Diclofenac',\n",
       " 'Latanoprost Ophthalmic',\n",
       " 'Latanoprost Ophthalmic',\n",
       " 'Hydralazine',\n",
       " 'Hydralazine',\n",
       " 'Olmesartan',\n",
       " 'Olmesartan',\n",
       " 'Sulfamethoxazole, Trimethoprim',\n",
       " 'Sulfamethoxazole, Trimethoprim',\n",
       " 'Cephalexin',\n",
       " 'Cephalexin',\n",
       " 'Gemfibrozil',\n",
       " 'Gemfibrozil',\n",
       " 'Insulin Lispro',\n",
       " 'Insulin Lispro',\n",
       " 'Pregabalin',\n",
       " 'Pregabalin',\n",
       " 'Amoxicillin, Clavulanate',\n",
       " 'Amoxicillin, Clavulanate',\n",
       " 'Albuterol, Ipratropium',\n",
       " 'Albuterol, Ipratropium',\n",
       " 'Conjugated Estrogens',\n",
       " 'Conjugated Estrogens',\n",
       " 'Doxycycline',\n",
       " 'Doxycycline',\n",
       " 'Beclomethasone',\n",
       " 'Beclomethasone',\n",
       " 'Buspirone',\n",
       " 'Buspirone',\n",
       " 'Diazepam',\n",
       " 'Diazepam',\n",
       " 'Acetaminophen, Codeine',\n",
       " 'Acetaminophen, Codeine',\n",
       " 'Ethinyl Estradiol, Levonorgestrel',\n",
       " 'Ethinyl Estradiol, Levonorgestrel',\n",
       " 'Quinapril',\n",
       " 'Quinapril',\n",
       " 'Insulin Detemir',\n",
       " 'Insulin Detemir',\n",
       " 'Budesonide, Formoterol',\n",
       " 'Budesonide, Formoterol',\n",
       " 'Meclizine',\n",
       " 'Meclizine',\n",
       " 'Polyethylene Glycol 3350',\n",
       " 'Polyethylene Glycol 3350',\n",
       " 'Baclofen',\n",
       " 'Baclofen',\n",
       " 'Lisdexamfetamine',\n",
       " 'Lisdexamfetamine',\n",
       " 'Metoclopramide',\n",
       " 'Metoclopramide',\n",
       " 'Levalbuterol',\n",
       " 'Levalbuterol',\n",
       " 'Methotrexate',\n",
       " 'Methotrexate',\n",
       " 'Promethazine',\n",
       " 'Promethazine',\n",
       " 'Temazepam',\n",
       " 'Temazepam',\n",
       " 'Levetiracetam',\n",
       " 'Levetiracetam',\n",
       " 'Irbesartan',\n",
       " 'Irbesartan',\n",
       " 'Docusate',\n",
       " 'Docusate',\n",
       " 'Hydrochlorothiazide, Olmesartan',\n",
       " 'Hydrochlorothiazide, Olmesartan',\n",
       " 'Ondansetron',\n",
       " 'Ondansetron',\n",
       " 'Ciprofloxacin',\n",
       " 'Ciprofloxacin',\n",
       " 'Phenytoin',\n",
       " 'Phenytoin',\n",
       " 'Amiodarone',\n",
       " 'Amiodarone',\n",
       " 'Niacin',\n",
       " 'Niacin',\n",
       " 'Hydroxychloroquine',\n",
       " 'Hydroxychloroquine',\n",
       " 'Tizanidine',\n",
       " 'Tizanidine',\n",
       " 'Risedronate',\n",
       " 'Risedronate',\n",
       " 'Brimonidine Ophthalmic',\n",
       " 'Brimonidine Ophthalmic',\n",
       " 'Timolol Ophthalmic',\n",
       " 'Timolol Ophthalmic',\n",
       " 'Ipratropium',\n",
       " 'Ipratropium',\n",
       " 'Ropinirole',\n",
       " 'Ropinirole',\n",
       " 'Cefdinir',\n",
       " 'Cefdinir',\n",
       " 'Insulin Isophane, Insulin Regular',\n",
       " 'Insulin Isophane, Insulin Regular',\n",
       " 'Glyburide, Metformin',\n",
       " 'Glyburide, Metformin',\n",
       " 'Triamcinolone Topical',\n",
       " 'Triamcinolone Topical',\n",
       " 'Colchicine',\n",
       " 'Colchicine',\n",
       " 'Acyclovir',\n",
       " 'Acyclovir',\n",
       " 'Raloxifene',\n",
       " 'Raloxifene',\n",
       " 'Rabeprazole',\n",
       " 'Rabeprazole',\n",
       " 'Nitrofurantoin',\n",
       " 'Nitrofurantoin',\n",
       " 'Triamterene',\n",
       " 'Triamterene',\n",
       " 'Tolterodine',\n",
       " 'Tolterodine',\n",
       " 'Sumatriptan',\n",
       " 'Sumatriptan',\n",
       " 'Prednisolone',\n",
       " 'Prednisolone',\n",
       " 'Isosorbide',\n",
       " 'Isosorbide',\n",
       " 'Drospirenone, Ethinyl Estradiol',\n",
       " 'Drospirenone, Ethinyl Estradiol',\n",
       " 'Acetaminophen, Propoxyphene',\n",
       " 'Acetaminophen, Propoxyphene',\n",
       " 'Penicillin',\n",
       " 'Penicillin',\n",
       " 'Insulin Regular',\n",
       " 'Insulin Regular',\n",
       " 'Memantine',\n",
       " 'Memantine',\n",
       " 'Diphenhydramine',\n",
       " 'Diphenhydramine',\n",
       " 'Minocycline',\n",
       " 'Minocycline',\n",
       " 'Methocarbamol',\n",
       " 'Methocarbamol']"
      ]
     },
     "execution_count": 44,
     "metadata": {},
     "output_type": "execute_result"
    }
   ],
   "source": [
    "temp_list"
   ]
  },
  {
   "cell_type": "code",
   "execution_count": 46,
   "metadata": {
    "ExecuteTime": {
     "end_time": "2021-02-16T05:57:48.559111Z",
     "start_time": "2021-02-16T05:57:48.551113Z"
    }
   },
   "outputs": [
    {
     "name": "stdout",
     "output_type": "stream",
     "text": [
      "{'Tiotropium', 'Famotidine', 'Warfarin', 'Insulin Aspart', 'Verapamil', 'Potassium Chloride', 'Lorazepam', 'Conjugated Estrogens', 'Gemfibrozil', 'Prednisolone', 'Drospirenone, Ethinyl Estradiol', 'Zolpidem', 'Finasteride', 'Ethinyl Estradiol, Levonorgestrel', 'Triamcinolone Topical', 'Raloxifene', 'Budesonide, Formoterol', 'Acetaminophen, Codeine', 'Hydrochlorothiazide, Lisinopril', 'Sitagliptin', 'Allopurinol', 'Ropinirole', 'Ciprofloxacin', 'Levalbuterol', 'Amiodarone', 'Niacin', 'Oxycodone', 'Pantoprazole', 'Prednisone', 'Lansoprazole', 'Levothyroxine', 'Fluticasone Nasal', 'Timolol Ophthalmic', 'Nifedipine', 'Isosorbide', 'Diphenhydramine', 'Colchicine', 'Furosemide', 'Fenofibrate', 'Diazepam', 'Lovastatin', 'Nitroglycerin', 'Albuterol', 'Acetaminophen, Oxycodone', 'Doxazosin', 'Lisinopril', 'Olmesartan', 'Ipratropium', 'Pravastatin', 'Insulin Glargine', 'Gabapentin', 'Hydrochlorothiazide, Losartan', 'Cephalexin', 'Celecoxib', 'Simvastatin', 'Diclofenac', 'Alprazolam', 'Montelukast', 'Valsartan', 'Doxycycline', 'Pioglitazone', 'Clonazepam', 'Amphetamine, Dextroamphetamine', 'Ondansetron', 'Insulin Lispro', 'Naproxen', 'Hydrochlorothiazide, Olmesartan', 'Sumatriptan', 'Memantine', 'Fluticasone, Salmeterol', 'Digoxin', 'Levetiracetam', 'Hydrocodone', 'Albuterol, Ipratropium', 'Diltiazem', 'Hydrochlorothiazide', 'Glimepiride', 'Ethinyl Estradiol, Norethindrone', 'Benazepril', 'Meloxicam', 'Fluticasone', 'Azithromycin', 'Hydroxyzine', 'Spironolactone', 'Esomeprazole', 'Metformin', 'Hydralazine', 'Penicillin', 'Fexofenadine', 'Metoclopramide', 'Isosorbide Mononitrate', 'Temazepam', 'Tizanidine', 'Propranolol', 'Tolterodine', 'Methotrexate', 'Promethazine', 'Triamterene', 'Alendronate', 'Enalapril', 'Methylphenidate', 'Amoxicillin, Clavulanate', 'Docusate', 'Ibuprofen', 'Cyclobenzaprine', 'Tamsulosin', 'Risedronate', 'Insulin Detemir', 'Baclofen', 'Glyburide, Metformin', 'Tramadol', 'Acyclovir', 'Omeprazole', 'Amlodipine, Benazepril', 'Minocycline', 'Quinapril', 'Sulfamethoxazole, Trimethoprim', 'Ramipril', 'Irbesartan', 'Atenolol', 'Clopidogrel', 'Glipizide', 'Nitrofurantoin', 'Brimonidine Ophthalmic', 'Glyburide', 'Latanoprost Ophthalmic', 'Cefdinir', 'Acetaminophen, Propoxyphene', 'Metoprolol', 'Hydroxychloroquine', 'Amoxicillin', 'Lisdexamfetamine', 'Donepezil', 'Ethinyl Estradiol, Norgestimate', 'Terazosin', 'Hydrochlorothiazide, Valsartan', 'Aspirin', 'Methocarbamol', 'Atorvastatin', 'Rosuvastatin', 'Buspirone', 'Meclizine', 'Phenytoin', 'Mometasone Nasal', 'Ezetimibe, Simvastatin', 'Ranitidine', 'Budesonide', 'Pregabalin', 'Oxybutynin', 'Insulin Isophane, Insulin Regular', 'Polyethylene Glycol 3350', 'Cetirizine', 'Carvedilol', 'Amlodipine', 'Estradiol', 'Insulin Regular', 'Clonidine', 'Hydrochlorothiazide, Triamterene', 'Rabeprazole', 'Losartan', 'Ezetimibe', 'Acetaminophen, Hydrocodone', 'Beclomethasone'}\n"
     ]
    }
   ],
   "source": [
    "Rx_set = set(temp_list)\n",
    "print(Rx_set)"
   ]
  },
  {
   "cell_type": "code",
   "execution_count": 36,
   "metadata": {
    "ExecuteTime": {
     "end_time": "2021-02-16T05:47:32.020877Z",
     "start_time": "2021-02-16T05:47:24.710711Z"
    }
   },
   "outputs": [],
   "source": [
    "df.to_csv(r'StreamlitData.csv')"
   ]
  },
  {
   "cell_type": "code",
   "execution_count": 151,
   "metadata": {
    "ExecuteTime": {
     "end_time": "2021-01-28T01:25:32.590823Z",
     "start_time": "2021-01-28T01:25:32.574721Z"
    }
   },
   "outputs": [],
   "source": [
    "# Writing out column explainations for easy copying into the app file\n",
    "cat_cols_dict = {'Gender': 'Is the person male or female?', \n",
    "                 'Race': 'What race best describes the person?', \n",
    "                 'Citizenship': 'Is the person a citizen?', \n",
    "                 'Education Level': 'What level of education as the person completed?', \n",
    "                 'Marital Status': 'What is the marital status of the person', \n",
    "                 'Pregnant': 'Is the person pregnant', \n",
    "                 'Birth Place': 'Where was the person born?', \n",
    "                 'Veteran': 'Is the person a veteran?', \n",
    "                 'Household Income': 'What is the household income of the person?', \n",
    "                 'Asthma': 'Has the person ever been diagnosed with asthma?', \n",
    "                 'Asthma Currently': 'Does the person currently have asthma?', \n",
    "                 'Asthma Emergency': 'Has the person had an emergency care visit for asthma in the last year?', \n",
    "                 'Anemia': 'Is the person taking treatment for anemia?', \n",
    "                 'Ever Overweight': 'Has a doctor ever told the person they were overweight?', \n",
    "                 'Blood Transfusion': 'Has the person ever recieved a blood transfusion?', \n",
    "                 'Arthritis': 'Has the person ever been diagnosed with arthritis?', \n",
    "                 'Heart Failure': 'Has the person ever been diagnosed with heart failure?', \n",
    "                 'Heart Disease': 'Has the person ever been diagnosed with heart disease?', \n",
    "                 'Angina': 'Has the person ever been diagnosed with angina?', \n",
    "                 'Heart Attack': 'Has the person ever been diagnosed with a heart attack?', \n",
    "                 'Stroke': 'Has the person ever been diagnosed with a stroke?', \n",
    "                 'Emphysema': 'Has the person ever been diagnosed with emphysema?', \n",
    "                 'Bronchitis': 'Has the person ever been diagnosed with chronic bronchitis?', \n",
    "                 'Liver Condition': 'Has the person ever been diagnosed with a liver condition?', \n",
    "                 'Thyroid Problem': 'Has the person ever been diagnosed with a thyroid problem?', \n",
    "                 'Bronchitis Currently': 'Does the person currently have chronic bronchitis?', \n",
    "                 'Liver Condition Currently': 'Does the person currently have a liver condition?', \n",
    "                 'Thyroid Problem Currently': 'Does the person currently have a thyroid problem?', \n",
    "                 'Cancer': 'Has the person ever been diagnosed with cancer?', \n",
    "                 'First Cancer Type': 'If the person has had a first cancer, what kind was it?', \n",
    "                 'Second Cancer Type': 'If the person has had a second cancer, what kind was it?', \n",
    "                 'Third Cancer Type': 'If the person has had a third cancer, what kind was it?', \n",
    "                 'Fourth Cancer Count': 'Was the person ever diagnosed with a fourth cancer?', \n",
    "                 'Heart Attack Relative': 'Does the person have a close relative who has been diagnosed with a heart attack?', \n",
    "                 'Asthma Relative': 'Does the person have a close relative who has been diagnosed with asthma?', \n",
    "                 'Diabetes Relative': 'Does the person have a close relative who has been diagnosed with diabetes?', \n",
    "                 'Hay Fever': 'Has the person had an episode of hay fever in the last year?', \n",
    "                 'Arthritis Type': 'If the person has arthritis, what type is it?', \n",
    "                 'First Cancer Count': 'Was the person ever diagnosed with a first cancer?', \n",
    "                 'Second Cancer Count': 'Was the person ever diagnosed with a second cancer?', \n",
    "                 'Third Cancer Count': 'Was the person ever diagnosed with a third cancer?', \n",
    "                 'Irregular Pulse': 'Does the person have an irregular pulse?', \n",
    "                 'Full Time Work': 'Does the person usually work a full time schedule?', \n",
    "                 'Work Type': 'What kind of worker is the person?', \n",
    "                 'Out Of Work': 'If person is out of work, what is the reason?', \n",
    "                 'Trouble Sleeping History': 'Has the person ever told a doctor they have trouble sleeping?', \n",
    "                 'Vigorous Recreation': 'Does the person engage in vigorous physical exercise during their free time?', \n",
    "                 'Moderate Recreation': 'Does the person engage in moderate physical exercise during their free time?', \n",
    "                 'Vigorous Work': 'Does the person have a job that requires vigorous physical activity?', \n",
    "                 'Moderate Work': 'Does the person have a job that requires moderate physical activity?', \n",
    "                 'Lifetime Alcohol Consumption': 'Has the person ever consumed alcohol in their lifetime?', \n",
    "                 'Cant Work': 'Are long term health problems keeping the person from working?', \n",
    "                 'Limited Work': 'Are long term health problems limiting the type or amount of work the person can do?', \n",
    "                 'Walking Equipment': 'Does the person need special equipment to walk because of a long termp health problem?', \n",
    "                 'Memory Problems': 'Does the person experience confusion or memory problems?', \n",
    "                 'Limitations': 'Is the person limited in any way because of physical, mental, or emotional problems?', \n",
    "                 'Healthcare Equipment': 'Does the person require any special healthcare equipment?', \n",
    "                 'Health Problem Other Impairment': 'Does the person have some other impairment or problem that causes difficulty?', \n",
    "                 'Health Problem Bone Or Joint': 'Does the person have a bone or joint problem/impairment that causes difficulty?', \n",
    "                 'Health Problem Weight': 'Does the person have a weight problem/impairment that causes difficulty?', \n",
    "                 'Health Problem Back Or Neck': 'Does the person have a back or neck problem/impairment that causes difficulty?', \n",
    "                 'Health Problem Arthritis': 'Does the person have an arthritis problem/impairment that causes difficulty?', \n",
    "                 'Health Problem Cancer': 'Does the person have a cancer problem/impairment that causes difficulty?', \n",
    "                 'Health Problem Other Injury': 'Does the person have a problem/impairment from some other injurty that causes difficulty?', \n",
    "                 'Health Problem Breathing': 'Does the person have a breathing or lung problem/impairment that causes difficulty?', \n",
    "                 'Health Problem Stroke': 'Does the person have a stroke problem/impairment that causes difficulty?', \n",
    "                 'Health Problem Emotional': 'Does the person have an emotional problem/impairment that causes difficulty?', \n",
    "                 'Health Problem Blood Pressure': 'Does the person have a blood pressure problem/impairment that causes difficulty?', \n",
    "                 'Health Problem Mental Retardation': 'Does the person have a mental retardation problem/impairment that causes difficulty?', \n",
    "                 'Health Problem Hearing': 'Does the person have a hearing problem/impairment that causes difficulty?', \n",
    "                 'Health Problem Heart': 'Does the person have a heart problem/impairment that causes difficulty?', \n",
    "                 'Health Problem Vision': 'Does the person have a vision problem/impairment that causes difficulty?', \n",
    "                 'Health Problem Diabetes': 'Does the person have a diabetes problem/impairment that causes difficulty?', \n",
    "                 'Health Problem Birth Defect': 'Does the person have a birth defect problem/impairment that causes difficulty?', \n",
    "                 'Health Problem Senility': 'Does the person have a senility problem/impairment that causes difficulty?', \n",
    "                 'Health Problem Other Developmental': 'Does the person have some other developmental problem/impairment that causes difficulty?', \n",
    "                 'Marijuana Use': 'Has the person ever used marijuana?', \n",
    "                 'Cocaine Use': 'Has the person ever used cocaine?', \n",
    "                 'Cocaine Number Uses': 'How many times total in their lifetime has the person used cocaine?', \n",
    "                 'Heroine Use': 'Has the person ever used heroine?', \n",
    "                 'Meth Use': 'Has the person ever used methamphetamine?', \n",
    "                 'Meth Number Uses': 'How many times total in their lifetime has the person used methamphetamine?', \n",
    "                 'Inject Drugs': 'Has the person ever used needles to inject illegal drugs?', \n",
    "                 'Rehab Program': 'Has the person ever been in a drug treatment/rehabilitation program?', \n",
    "                 'Current Smoker': 'Does the person currently smoke?', \n",
    "                 'Household Smokers': 'How many people in the person\\'s household smoke?', \n",
    "                 'Household Size': 'How many people live in the person\\'s household?'}"
   ]
  },
  {
   "cell_type": "code",
   "execution_count": null,
   "metadata": {},
   "outputs": [],
   "source": [
    "# Writing out column explainations for easy copying into the app file\n",
    "num_cols_dict = {'Age': 'What is the age of the person?',\n",
    " 'Asthma Onset': 'If person has asthma, what age was the person at onset?',\n",
    " 'Arthritis Onset': 'If person has arthritis, what age was the person at onset?',\n",
    " 'Heart Failure Onset': 'If person has heart failure, what age was the person at onset?',\n",
    " 'Heart Disease Onset': 'If person has heart disease, what age was the person at onset?',\n",
    " 'Angina Onset': 'If person has angina, what age was the person at onset?',\n",
    " 'Heart Attack Onset': 'If person had a heart attack, what age was the person at onset?',\n",
    " 'Stroke Onset': 'If person had a stroke, what age was the person at onset?',\n",
    " 'Emphysema Onset': 'If person has emphysema, what age was the person at onset?',\n",
    " 'Bronchitis Onset': 'If person has chronic bronchitis, what age was the person at onset?',\n",
    " 'Liver Condition Onset': 'If person has/had a liver condition, what age was the person at onset?',\n",
    " 'Thyroid Problem Onset': 'If person has/had a thyroid problem, what age was the person at onset?',\n",
    " 'Cancer Onset': 'If person has/had cancer, what age was the person at onset?',\n",
    " 'Weight': 'Weight of the person in kg',\n",
    " 'Height': 'Height of the person in cm',\n",
    " 'BMI': 'Body mass index of the person',\n",
    " 'Pulse': '60 second pulse of the person',\n",
    " 'Systolic': 'Systolic blood pressure reading of the person in mmHg',\n",
    " 'Diastolic': 'Diastolic blood pressure reading of the person in mmHg',\n",
    " 'Total Cholesterol': 'Total cholesterol of the person in mg/dL',\n",
    " 'HDL': 'Direct HDL cholesterol of the person in mg/dL',\n",
    " 'Triglycerides': 'Triglyceride level of the person in mg/dL',\n",
    " 'LDL': 'Friedewald equation LDL cholesterol of the person in mg/dL',\n",
    " 'Albumin': 'Serum albumin in g/dL',\n",
    " 'ALT': 'Alanine Aminotransferase in IU/L',\n",
    " 'AST': 'Aspartate Aminotransferase in IU/L',\n",
    " 'ALP': 'Alkaline Phosphatase in IU/L',\n",
    " 'BUN': 'Blood Urea Nitrogen in mmol/L',\n",
    " 'Calcium': 'Total calcium in mg/dL',\n",
    " 'CO2': 'Bicarbonate in mmol/L',\n",
    " 'Creatinine': 'Serum creatinine in mg/dL',\n",
    " 'GGT': 'Gamma Glutamyl Transferase in IU/L',\n",
    " 'Glucose': 'Serum glucose in mg/dL',\n",
    " 'Iron': 'Serum iron in ug/dL',\n",
    " 'LHD': 'Lactate Dehydrogenase in IU/L',\n",
    " 'Phosphorus': 'Phosphorus in mg/dL',\n",
    " 'Bilirubin': 'Total bilirubin in mg/dL',\n",
    " 'Total Protein': 'Total protein in g/dL',\n",
    " 'Uric Acid': 'Uric acid in mg/dL',\n",
    " 'Sodium': 'Sodium in mmol/L',\n",
    " 'Potassium': 'Potassium in mmol/L',\n",
    " 'Chloride': 'Chloride in mmol/L',\n",
    " 'Osmolality': 'Osmolality in mmol/Kg',\n",
    " 'Globulin': 'Globulin in g/dL',\n",
    " 'White BCC': 'White blood cell count in 1000 cells/uL',\n",
    " 'Lymphocyte Percent': 'Lymphocyte percent (%)',\n",
    " 'Monocyte Percent': 'Monocyte percent (%)',\n",
    " 'Neutrophils Percent': 'Segmented neutrophils percent (%)',\n",
    " 'Eosinophils Percent': 'eosinophils percent (%)',\n",
    " 'Basophils Percent': 'Basophils percent (%)',\n",
    " 'Lymphocyte Count': 'Lymphocyte number in 1000 cells/uL',\n",
    " 'Monocyte Count': 'Monocyte number in 1000 cells/uL',\n",
    " 'Neutrophils Count': 'Segmented neutrophils number 1000 cells/uL',\n",
    " 'Eosinophils Count': 'Segmented eosinophils number in 1000 cells/uL',\n",
    " 'Basophils Count': 'Basophils number in 1000 cells/uL',\n",
    " 'RBC Count': 'Red blood cell count in million cells/uL',\n",
    " 'Hemoglobin': 'Hemoglobin in g/dL',\n",
    " 'Hematocrit': 'Hematocrit percent',\n",
    " 'MCV': 'Mean cell volume in fL',\n",
    " 'MCH': 'Mean cell hemoglobin in pg',\n",
    " 'MCHC': 'Mean cell hemoglobin concentration in g/dL',\n",
    " 'RDW': 'Red cell distribution width percent',\n",
    " 'Platelet Count': 'Platelet count in 1000 cells/uL',\n",
    " 'MPV': 'Mean platelet volume in fL',\n",
    " 'Time In Current Job': 'How many months has the person worked in their current job?',\n",
    " 'Sleep Hours': 'Number of hours the person usually sleeps at night',\n",
    " 'Sedentary Time': 'How many minutes does the person usually spend sedentary in a typical day?',\n",
    " 'Drinks Per Occasion': 'On the days that the person drinks alcohol, how many drinks on average does the person consume?',\n",
    " 'Drinks Past Year': 'How many alcoholic drinks has the person had in the past year?',\n",
    " 'Marijuana Per Month': 'How many days has the person used marijuana or hashish in the past month?',\n",
    " 'Cocaine Per Month': 'How many days has the person used cocaine in any form in the past month?',\n",
    " 'Heronine Per Month': 'How many days has the person used heroin in the past month?',\n",
    " 'Meth Per Month': 'How many days has the person used methamphetamine in the past month?',\n",
    " 'Start Smoking Age': 'If the person has smoked cigarettes regularly, at what age did they start?',\n",
    " 'Previous Cigarettes Per Day': 'If the person quit smoking, about how many cigarettes did they smoke per day before they quit?',\n",
    " 'Current Cigarettes Per Day': 'If the person currently smokes, about how many cigarettes per day have they smoked in the last month?',\n",
    " 'Days Quit Smoking': 'If the person has quit smoking, about how many days has it been since they quit?'}"
   ]
  }
 ],
 "metadata": {
  "kernelspec": {
   "display_name": "learn-env",
   "language": "python",
   "name": "learn-env"
  },
  "language_info": {
   "codemirror_mode": {
    "name": "ipython",
    "version": 3
   },
   "file_extension": ".py",
   "mimetype": "text/x-python",
   "name": "python",
   "nbconvert_exporter": "python",
   "pygments_lexer": "ipython3",
   "version": "3.6.11"
  },
  "toc": {
   "base_numbering": 1,
   "nav_menu": {},
   "number_sections": true,
   "sideBar": true,
   "skip_h1_title": false,
   "title_cell": "Table of Contents",
   "title_sidebar": "Contents",
   "toc_cell": false,
   "toc_position": {},
   "toc_section_display": true,
   "toc_window_display": true
  }
 },
 "nbformat": 4,
 "nbformat_minor": 4
}
